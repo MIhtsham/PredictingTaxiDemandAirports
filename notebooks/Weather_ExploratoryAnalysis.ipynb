{
 "cells": [
  {
   "cell_type": "markdown",
   "metadata": {},
   "source": [
    "## Imports"
   ]
  },
  {
   "cell_type": "code",
   "execution_count": 2,
   "metadata": {
    "collapsed": true
   },
   "outputs": [],
   "source": [
    "import pandas as pd\n",
    "import matplotlib.pyplot as plt\n",
    "import seaborn as sns\n",
    "%matplotlib inline\n",
    "sns.set_style(\"whitegrid\")"
   ]
  },
  {
   "cell_type": "markdown",
   "metadata": {},
   "source": [
    "## Load the Taxi Data and Weather Data"
   ]
  },
  {
   "cell_type": "markdown",
   "metadata": {},
   "source": [
    "### Taxi Data"
   ]
  },
  {
   "cell_type": "code",
   "execution_count": 3,
   "metadata": {
    "collapsed": true
   },
   "outputs": [],
   "source": [
    "taxi_df = pd.read_csv(\"../clean_data/TaxiData_Jan17-Jun17.gz\", compression=\"gzip\")"
   ]
  },
  {
   "cell_type": "code",
   "execution_count": 4,
   "metadata": {},
   "outputs": [
    {
     "data": {
      "text/plain": [
       "(1471188, 7)"
      ]
     },
     "execution_count": 4,
     "metadata": {},
     "output_type": "execute_result"
    }
   ],
   "source": [
    "taxi_df.shape"
   ]
  },
  {
   "cell_type": "code",
   "execution_count": 5,
   "metadata": {},
   "outputs": [
    {
     "data": {
      "text/html": [
       "<div>\n",
       "<style>\n",
       "    .dataframe thead tr:only-child th {\n",
       "        text-align: right;\n",
       "    }\n",
       "\n",
       "    .dataframe thead th {\n",
       "        text-align: left;\n",
       "    }\n",
       "\n",
       "    .dataframe tbody tr th {\n",
       "        vertical-align: top;\n",
       "    }\n",
       "</style>\n",
       "<table border=\"1\" class=\"dataframe\">\n",
       "  <thead>\n",
       "    <tr style=\"text-align: right;\">\n",
       "      <th></th>\n",
       "      <th>tpep_pickup_datetime</th>\n",
       "      <th>tpep_dropoff_datetime</th>\n",
       "      <th>passenger_count</th>\n",
       "      <th>trip_distance</th>\n",
       "      <th>PULocationID</th>\n",
       "      <th>DOLocationID</th>\n",
       "      <th>total_amount</th>\n",
       "    </tr>\n",
       "  </thead>\n",
       "  <tbody>\n",
       "    <tr>\n",
       "      <th>0</th>\n",
       "      <td>2017-01-01 00:00:05</td>\n",
       "      <td>2017-01-01 00:15:36</td>\n",
       "      <td>1</td>\n",
       "      <td>8.47</td>\n",
       "      <td>138</td>\n",
       "      <td>262</td>\n",
       "      <td>38.55</td>\n",
       "    </tr>\n",
       "    <tr>\n",
       "      <th>1</th>\n",
       "      <td>2017-01-01 00:00:12</td>\n",
       "      <td>2017-01-01 00:09:48</td>\n",
       "      <td>1</td>\n",
       "      <td>5.30</td>\n",
       "      <td>138</td>\n",
       "      <td>192</td>\n",
       "      <td>17.30</td>\n",
       "    </tr>\n",
       "    <tr>\n",
       "      <th>2</th>\n",
       "      <td>2017-01-01 00:00:17</td>\n",
       "      <td>2017-01-01 00:19:40</td>\n",
       "      <td>2</td>\n",
       "      <td>13.97</td>\n",
       "      <td>138</td>\n",
       "      <td>181</td>\n",
       "      <td>50.44</td>\n",
       "    </tr>\n",
       "    <tr>\n",
       "      <th>3</th>\n",
       "      <td>2017-01-01 00:00:21</td>\n",
       "      <td>2017-01-01 00:12:09</td>\n",
       "      <td>1</td>\n",
       "      <td>6.90</td>\n",
       "      <td>138</td>\n",
       "      <td>80</td>\n",
       "      <td>21.30</td>\n",
       "    </tr>\n",
       "    <tr>\n",
       "      <th>4</th>\n",
       "      <td>2017-01-01 00:00:33</td>\n",
       "      <td>2017-01-01 00:31:58</td>\n",
       "      <td>2</td>\n",
       "      <td>10.50</td>\n",
       "      <td>138</td>\n",
       "      <td>230</td>\n",
       "      <td>42.34</td>\n",
       "    </tr>\n",
       "  </tbody>\n",
       "</table>\n",
       "</div>"
      ],
      "text/plain": [
       "  tpep_pickup_datetime tpep_dropoff_datetime  passenger_count  trip_distance  \\\n",
       "0  2017-01-01 00:00:05   2017-01-01 00:15:36                1           8.47   \n",
       "1  2017-01-01 00:00:12   2017-01-01 00:09:48                1           5.30   \n",
       "2  2017-01-01 00:00:17   2017-01-01 00:19:40                2          13.97   \n",
       "3  2017-01-01 00:00:21   2017-01-01 00:12:09                1           6.90   \n",
       "4  2017-01-01 00:00:33   2017-01-01 00:31:58                2          10.50   \n",
       "\n",
       "   PULocationID  DOLocationID  total_amount  \n",
       "0           138           262         38.55  \n",
       "1           138           192         17.30  \n",
       "2           138           181         50.44  \n",
       "3           138            80         21.30  \n",
       "4           138           230         42.34  "
      ]
     },
     "execution_count": 5,
     "metadata": {},
     "output_type": "execute_result"
    }
   ],
   "source": [
    "taxi_df.head()"
   ]
  },
  {
   "cell_type": "code",
   "execution_count": 6,
   "metadata": {},
   "outputs": [
    {
     "data": {
      "text/plain": [
       "tpep_pickup_datetime      object\n",
       "tpep_dropoff_datetime     object\n",
       "passenger_count            int64\n",
       "trip_distance            float64\n",
       "PULocationID               int64\n",
       "DOLocationID               int64\n",
       "total_amount             float64\n",
       "dtype: object"
      ]
     },
     "execution_count": 6,
     "metadata": {},
     "output_type": "execute_result"
    }
   ],
   "source": [
    "taxi_df.dtypes"
   ]
  },
  {
   "cell_type": "code",
   "execution_count": 7,
   "metadata": {
    "collapsed": true
   },
   "outputs": [],
   "source": [
    "taxi_df[\"tpep_pickup_datetime\"] = pd.DatetimeIndex(taxi_df.tpep_pickup_datetime).tz_localize('America/New_York')\n",
    "taxi_df[\"tpep_dropoff_datetime\"] = pd.DatetimeIndex(taxi_df.tpep_dropoff_datetime).tz_localize('America/New_York')"
   ]
  },
  {
   "cell_type": "code",
   "execution_count": 8,
   "metadata": {},
   "outputs": [
    {
     "data": {
      "text/html": [
       "<div>\n",
       "<style>\n",
       "    .dataframe thead tr:only-child th {\n",
       "        text-align: right;\n",
       "    }\n",
       "\n",
       "    .dataframe thead th {\n",
       "        text-align: left;\n",
       "    }\n",
       "\n",
       "    .dataframe tbody tr th {\n",
       "        vertical-align: top;\n",
       "    }\n",
       "</style>\n",
       "<table border=\"1\" class=\"dataframe\">\n",
       "  <thead>\n",
       "    <tr style=\"text-align: right;\">\n",
       "      <th></th>\n",
       "      <th>tpep_pickup_datetime</th>\n",
       "      <th>tpep_dropoff_datetime</th>\n",
       "      <th>passenger_count</th>\n",
       "      <th>trip_distance</th>\n",
       "      <th>PULocationID</th>\n",
       "      <th>DOLocationID</th>\n",
       "      <th>total_amount</th>\n",
       "    </tr>\n",
       "  </thead>\n",
       "  <tbody>\n",
       "    <tr>\n",
       "      <th>0</th>\n",
       "      <td>2017-01-01 00:00:05-05:00</td>\n",
       "      <td>2017-01-01 00:15:36-05:00</td>\n",
       "      <td>1</td>\n",
       "      <td>8.47</td>\n",
       "      <td>138</td>\n",
       "      <td>262</td>\n",
       "      <td>38.55</td>\n",
       "    </tr>\n",
       "    <tr>\n",
       "      <th>1</th>\n",
       "      <td>2017-01-01 00:00:12-05:00</td>\n",
       "      <td>2017-01-01 00:09:48-05:00</td>\n",
       "      <td>1</td>\n",
       "      <td>5.30</td>\n",
       "      <td>138</td>\n",
       "      <td>192</td>\n",
       "      <td>17.30</td>\n",
       "    </tr>\n",
       "    <tr>\n",
       "      <th>2</th>\n",
       "      <td>2017-01-01 00:00:17-05:00</td>\n",
       "      <td>2017-01-01 00:19:40-05:00</td>\n",
       "      <td>2</td>\n",
       "      <td>13.97</td>\n",
       "      <td>138</td>\n",
       "      <td>181</td>\n",
       "      <td>50.44</td>\n",
       "    </tr>\n",
       "    <tr>\n",
       "      <th>3</th>\n",
       "      <td>2017-01-01 00:00:21-05:00</td>\n",
       "      <td>2017-01-01 00:12:09-05:00</td>\n",
       "      <td>1</td>\n",
       "      <td>6.90</td>\n",
       "      <td>138</td>\n",
       "      <td>80</td>\n",
       "      <td>21.30</td>\n",
       "    </tr>\n",
       "    <tr>\n",
       "      <th>4</th>\n",
       "      <td>2017-01-01 00:00:33-05:00</td>\n",
       "      <td>2017-01-01 00:31:58-05:00</td>\n",
       "      <td>2</td>\n",
       "      <td>10.50</td>\n",
       "      <td>138</td>\n",
       "      <td>230</td>\n",
       "      <td>42.34</td>\n",
       "    </tr>\n",
       "  </tbody>\n",
       "</table>\n",
       "</div>"
      ],
      "text/plain": [
       "       tpep_pickup_datetime     tpep_dropoff_datetime  passenger_count  \\\n",
       "0 2017-01-01 00:00:05-05:00 2017-01-01 00:15:36-05:00                1   \n",
       "1 2017-01-01 00:00:12-05:00 2017-01-01 00:09:48-05:00                1   \n",
       "2 2017-01-01 00:00:17-05:00 2017-01-01 00:19:40-05:00                2   \n",
       "3 2017-01-01 00:00:21-05:00 2017-01-01 00:12:09-05:00                1   \n",
       "4 2017-01-01 00:00:33-05:00 2017-01-01 00:31:58-05:00                2   \n",
       "\n",
       "   trip_distance  PULocationID  DOLocationID  total_amount  \n",
       "0           8.47           138           262         38.55  \n",
       "1           5.30           138           192         17.30  \n",
       "2          13.97           138           181         50.44  \n",
       "3           6.90           138            80         21.30  \n",
       "4          10.50           138           230         42.34  "
      ]
     },
     "execution_count": 8,
     "metadata": {},
     "output_type": "execute_result"
    }
   ],
   "source": [
    "taxi_df.head()"
   ]
  },
  {
   "cell_type": "markdown",
   "metadata": {},
   "source": [
    "### Resample Analysis"
   ]
  },
  {
   "cell_type": "code",
   "execution_count": 9,
   "metadata": {
    "collapsed": true
   },
   "outputs": [],
   "source": [
    "taxi_perhour = taxi_df.copy()"
   ]
  },
  {
   "cell_type": "code",
   "execution_count": 10,
   "metadata": {
    "collapsed": true
   },
   "outputs": [],
   "source": [
    "taxi_perhour.set_index(\"tpep_pickup_datetime\", inplace=True)"
   ]
  },
  {
   "cell_type": "code",
   "execution_count": 11,
   "metadata": {},
   "outputs": [
    {
     "data": {
      "text/html": [
       "<div>\n",
       "<style>\n",
       "    .dataframe thead tr:only-child th {\n",
       "        text-align: right;\n",
       "    }\n",
       "\n",
       "    .dataframe thead th {\n",
       "        text-align: left;\n",
       "    }\n",
       "\n",
       "    .dataframe tbody tr th {\n",
       "        vertical-align: top;\n",
       "    }\n",
       "</style>\n",
       "<table border=\"1\" class=\"dataframe\">\n",
       "  <thead>\n",
       "    <tr style=\"text-align: right;\">\n",
       "      <th></th>\n",
       "      <th>tpep_dropoff_datetime</th>\n",
       "      <th>passenger_count</th>\n",
       "      <th>trip_distance</th>\n",
       "      <th>PULocationID</th>\n",
       "      <th>DOLocationID</th>\n",
       "      <th>total_amount</th>\n",
       "    </tr>\n",
       "    <tr>\n",
       "      <th>tpep_pickup_datetime</th>\n",
       "      <th></th>\n",
       "      <th></th>\n",
       "      <th></th>\n",
       "      <th></th>\n",
       "      <th></th>\n",
       "      <th></th>\n",
       "    </tr>\n",
       "  </thead>\n",
       "  <tbody>\n",
       "    <tr>\n",
       "      <th>2017-01-01 00:00:05-05:00</th>\n",
       "      <td>2017-01-01 00:15:36-05:00</td>\n",
       "      <td>1</td>\n",
       "      <td>8.47</td>\n",
       "      <td>138</td>\n",
       "      <td>262</td>\n",
       "      <td>38.55</td>\n",
       "    </tr>\n",
       "    <tr>\n",
       "      <th>2017-01-01 00:00:12-05:00</th>\n",
       "      <td>2017-01-01 00:09:48-05:00</td>\n",
       "      <td>1</td>\n",
       "      <td>5.30</td>\n",
       "      <td>138</td>\n",
       "      <td>192</td>\n",
       "      <td>17.30</td>\n",
       "    </tr>\n",
       "    <tr>\n",
       "      <th>2017-01-01 00:00:17-05:00</th>\n",
       "      <td>2017-01-01 00:19:40-05:00</td>\n",
       "      <td>2</td>\n",
       "      <td>13.97</td>\n",
       "      <td>138</td>\n",
       "      <td>181</td>\n",
       "      <td>50.44</td>\n",
       "    </tr>\n",
       "    <tr>\n",
       "      <th>2017-01-01 00:00:21-05:00</th>\n",
       "      <td>2017-01-01 00:12:09-05:00</td>\n",
       "      <td>1</td>\n",
       "      <td>6.90</td>\n",
       "      <td>138</td>\n",
       "      <td>80</td>\n",
       "      <td>21.30</td>\n",
       "    </tr>\n",
       "    <tr>\n",
       "      <th>2017-01-01 00:00:33-05:00</th>\n",
       "      <td>2017-01-01 00:31:58-05:00</td>\n",
       "      <td>2</td>\n",
       "      <td>10.50</td>\n",
       "      <td>138</td>\n",
       "      <td>230</td>\n",
       "      <td>42.34</td>\n",
       "    </tr>\n",
       "  </tbody>\n",
       "</table>\n",
       "</div>"
      ],
      "text/plain": [
       "                              tpep_dropoff_datetime  passenger_count  \\\n",
       "tpep_pickup_datetime                                                   \n",
       "2017-01-01 00:00:05-05:00 2017-01-01 00:15:36-05:00                1   \n",
       "2017-01-01 00:00:12-05:00 2017-01-01 00:09:48-05:00                1   \n",
       "2017-01-01 00:00:17-05:00 2017-01-01 00:19:40-05:00                2   \n",
       "2017-01-01 00:00:21-05:00 2017-01-01 00:12:09-05:00                1   \n",
       "2017-01-01 00:00:33-05:00 2017-01-01 00:31:58-05:00                2   \n",
       "\n",
       "                           trip_distance  PULocationID  DOLocationID  \\\n",
       "tpep_pickup_datetime                                                   \n",
       "2017-01-01 00:00:05-05:00           8.47           138           262   \n",
       "2017-01-01 00:00:12-05:00           5.30           138           192   \n",
       "2017-01-01 00:00:17-05:00          13.97           138           181   \n",
       "2017-01-01 00:00:21-05:00           6.90           138            80   \n",
       "2017-01-01 00:00:33-05:00          10.50           138           230   \n",
       "\n",
       "                           total_amount  \n",
       "tpep_pickup_datetime                     \n",
       "2017-01-01 00:00:05-05:00         38.55  \n",
       "2017-01-01 00:00:12-05:00         17.30  \n",
       "2017-01-01 00:00:17-05:00         50.44  \n",
       "2017-01-01 00:00:21-05:00         21.30  \n",
       "2017-01-01 00:00:33-05:00         42.34  "
      ]
     },
     "execution_count": 11,
     "metadata": {},
     "output_type": "execute_result"
    }
   ],
   "source": [
    "taxi_perhour.head()"
   ]
  },
  {
   "cell_type": "code",
   "execution_count": 12,
   "metadata": {
    "collapsed": true
   },
   "outputs": [],
   "source": [
    "output = taxi_perhour.resample(\"H\")[[\"passenger_count\"]].count()"
   ]
  },
  {
   "cell_type": "code",
   "execution_count": 13,
   "metadata": {
    "collapsed": true
   },
   "outputs": [],
   "source": [
    "output.rename(columns = {\"passenger_count\" : \"pickup_counts\"}, inplace=True)"
   ]
  },
  {
   "cell_type": "code",
   "execution_count": 14,
   "metadata": {},
   "outputs": [
    {
     "data": {
      "text/html": [
       "<div>\n",
       "<style>\n",
       "    .dataframe thead tr:only-child th {\n",
       "        text-align: right;\n",
       "    }\n",
       "\n",
       "    .dataframe thead th {\n",
       "        text-align: left;\n",
       "    }\n",
       "\n",
       "    .dataframe tbody tr th {\n",
       "        vertical-align: top;\n",
       "    }\n",
       "</style>\n",
       "<table border=\"1\" class=\"dataframe\">\n",
       "  <thead>\n",
       "    <tr style=\"text-align: right;\">\n",
       "      <th></th>\n",
       "      <th>pickup_counts</th>\n",
       "    </tr>\n",
       "    <tr>\n",
       "      <th>tpep_pickup_datetime</th>\n",
       "      <th></th>\n",
       "    </tr>\n",
       "  </thead>\n",
       "  <tbody>\n",
       "    <tr>\n",
       "      <th>2017-01-01 00:00:00-05:00</th>\n",
       "      <td>53</td>\n",
       "    </tr>\n",
       "    <tr>\n",
       "      <th>2017-01-01 01:00:00-05:00</th>\n",
       "      <td>3</td>\n",
       "    </tr>\n",
       "    <tr>\n",
       "      <th>2017-01-01 02:00:00-05:00</th>\n",
       "      <td>0</td>\n",
       "    </tr>\n",
       "    <tr>\n",
       "      <th>2017-01-01 03:00:00-05:00</th>\n",
       "      <td>4</td>\n",
       "    </tr>\n",
       "    <tr>\n",
       "      <th>2017-01-01 04:00:00-05:00</th>\n",
       "      <td>4</td>\n",
       "    </tr>\n",
       "  </tbody>\n",
       "</table>\n",
       "</div>"
      ],
      "text/plain": [
       "                           pickup_counts\n",
       "tpep_pickup_datetime                    \n",
       "2017-01-01 00:00:00-05:00             53\n",
       "2017-01-01 01:00:00-05:00              3\n",
       "2017-01-01 02:00:00-05:00              0\n",
       "2017-01-01 03:00:00-05:00              4\n",
       "2017-01-01 04:00:00-05:00              4"
      ]
     },
     "execution_count": 14,
     "metadata": {},
     "output_type": "execute_result"
    }
   ],
   "source": [
    "output.head()"
   ]
  },
  {
   "cell_type": "markdown",
   "metadata": {},
   "source": [
    "### Weather Dataframe"
   ]
  },
  {
   "cell_type": "code",
   "execution_count": 15,
   "metadata": {
    "collapsed": true
   },
   "outputs": [],
   "source": [
    "pd.set_option('display.max_columns', None)"
   ]
  },
  {
   "cell_type": "code",
   "execution_count": 16,
   "metadata": {
    "collapsed": true
   },
   "outputs": [],
   "source": [
    "weather_df = pd.read_csv(\"../clean_data/weather_NY.csv\")"
   ]
  },
  {
   "cell_type": "code",
   "execution_count": 17,
   "metadata": {},
   "outputs": [
    {
     "data": {
      "text/plain": [
       "Index(['dt', 'dt_iso', 'city_id', 'city_name', 'lat', 'lon', 'temp',\n",
       "       'temp_min', 'temp_max', 'pressure', 'sea_level', 'grnd_level',\n",
       "       'humidity', 'wind_speed', 'wind_deg', 'rain_1h', 'rain_3h', 'rain_24h',\n",
       "       'rain_today', 'snow_1h', 'snow_3h', 'snow_24h', 'snow_today',\n",
       "       'clouds_all', 'weather_id', 'weather_main', 'weather_description',\n",
       "       'weather_icon'],\n",
       "      dtype='object')"
      ]
     },
     "execution_count": 17,
     "metadata": {},
     "output_type": "execute_result"
    }
   ],
   "source": [
    "weather_df.columns"
   ]
  },
  {
   "cell_type": "code",
   "execution_count": 18,
   "metadata": {
    "collapsed": true
   },
   "outputs": [],
   "source": [
    "weather_df[\"date\"] = pd.DatetimeIndex(pd.to_datetime(weather_df.dt, unit=\"s\")) \\\n",
    "                    .tz_localize('UTC').tz_convert('America/New_York')"
   ]
  },
  {
   "cell_type": "code",
   "execution_count": 19,
   "metadata": {
    "collapsed": true
   },
   "outputs": [],
   "source": [
    "weather_df.set_index(\"date\", inplace=True)"
   ]
  },
  {
   "cell_type": "code",
   "execution_count": 20,
   "metadata": {},
   "outputs": [
    {
     "data": {
      "text/plain": [
       "Index(['dt', 'dt_iso', 'city_id', 'city_name', 'lat', 'lon', 'temp',\n",
       "       'temp_min', 'temp_max', 'pressure', 'sea_level', 'grnd_level',\n",
       "       'humidity', 'wind_speed', 'wind_deg', 'rain_1h', 'rain_3h', 'rain_24h',\n",
       "       'rain_today', 'snow_1h', 'snow_3h', 'snow_24h', 'snow_today',\n",
       "       'clouds_all', 'weather_id', 'weather_main', 'weather_description',\n",
       "       'weather_icon'],\n",
       "      dtype='object')"
      ]
     },
     "execution_count": 20,
     "metadata": {},
     "output_type": "execute_result"
    }
   ],
   "source": [
    "weather_df.columns"
   ]
  },
  {
   "cell_type": "code",
   "execution_count": 21,
   "metadata": {},
   "outputs": [
    {
     "data": {
      "text/html": [
       "<div>\n",
       "<style>\n",
       "    .dataframe thead tr:only-child th {\n",
       "        text-align: right;\n",
       "    }\n",
       "\n",
       "    .dataframe thead th {\n",
       "        text-align: left;\n",
       "    }\n",
       "\n",
       "    .dataframe tbody tr th {\n",
       "        vertical-align: top;\n",
       "    }\n",
       "</style>\n",
       "<table border=\"1\" class=\"dataframe\">\n",
       "  <thead>\n",
       "    <tr style=\"text-align: right;\">\n",
       "      <th></th>\n",
       "      <th>dt</th>\n",
       "      <th>dt_iso</th>\n",
       "      <th>city_id</th>\n",
       "      <th>city_name</th>\n",
       "      <th>lat</th>\n",
       "      <th>lon</th>\n",
       "      <th>temp</th>\n",
       "      <th>temp_min</th>\n",
       "      <th>temp_max</th>\n",
       "      <th>pressure</th>\n",
       "      <th>sea_level</th>\n",
       "      <th>grnd_level</th>\n",
       "      <th>humidity</th>\n",
       "      <th>wind_speed</th>\n",
       "      <th>wind_deg</th>\n",
       "      <th>rain_1h</th>\n",
       "      <th>rain_3h</th>\n",
       "      <th>rain_24h</th>\n",
       "      <th>rain_today</th>\n",
       "      <th>snow_1h</th>\n",
       "      <th>snow_3h</th>\n",
       "      <th>snow_24h</th>\n",
       "      <th>snow_today</th>\n",
       "      <th>clouds_all</th>\n",
       "      <th>weather_id</th>\n",
       "      <th>weather_main</th>\n",
       "      <th>weather_description</th>\n",
       "      <th>weather_icon</th>\n",
       "    </tr>\n",
       "    <tr>\n",
       "      <th>date</th>\n",
       "      <th></th>\n",
       "      <th></th>\n",
       "      <th></th>\n",
       "      <th></th>\n",
       "      <th></th>\n",
       "      <th></th>\n",
       "      <th></th>\n",
       "      <th></th>\n",
       "      <th></th>\n",
       "      <th></th>\n",
       "      <th></th>\n",
       "      <th></th>\n",
       "      <th></th>\n",
       "      <th></th>\n",
       "      <th></th>\n",
       "      <th></th>\n",
       "      <th></th>\n",
       "      <th></th>\n",
       "      <th></th>\n",
       "      <th></th>\n",
       "      <th></th>\n",
       "      <th></th>\n",
       "      <th></th>\n",
       "      <th></th>\n",
       "      <th></th>\n",
       "      <th></th>\n",
       "      <th></th>\n",
       "      <th></th>\n",
       "    </tr>\n",
       "  </thead>\n",
       "  <tbody>\n",
       "    <tr>\n",
       "      <th>2012-10-01 09:00:00-04:00</th>\n",
       "      <td>1349096400</td>\n",
       "      <td>2012-10-01 13:00:00 +0000 UTC</td>\n",
       "      <td>5128581</td>\n",
       "      <td>NaN</td>\n",
       "      <td>NaN</td>\n",
       "      <td>NaN</td>\n",
       "      <td>288.22</td>\n",
       "      <td>286.15</td>\n",
       "      <td>294.26</td>\n",
       "      <td>1012</td>\n",
       "      <td>NaN</td>\n",
       "      <td>NaN</td>\n",
       "      <td>58</td>\n",
       "      <td>7</td>\n",
       "      <td>260</td>\n",
       "      <td>NaN</td>\n",
       "      <td>NaN</td>\n",
       "      <td>NaN</td>\n",
       "      <td>NaN</td>\n",
       "      <td>NaN</td>\n",
       "      <td>NaN</td>\n",
       "      <td>NaN</td>\n",
       "      <td>NaN</td>\n",
       "      <td>20</td>\n",
       "      <td>801</td>\n",
       "      <td>Clouds</td>\n",
       "      <td>few clouds</td>\n",
       "      <td>02d</td>\n",
       "    </tr>\n",
       "    <tr>\n",
       "      <th>2012-10-02 10:00:00-04:00</th>\n",
       "      <td>1349186400</td>\n",
       "      <td>2012-10-02 14:00:00 +0000 UTC</td>\n",
       "      <td>5128581</td>\n",
       "      <td>NaN</td>\n",
       "      <td>NaN</td>\n",
       "      <td>NaN</td>\n",
       "      <td>290.15</td>\n",
       "      <td>288.15</td>\n",
       "      <td>294.82</td>\n",
       "      <td>1012</td>\n",
       "      <td>NaN</td>\n",
       "      <td>NaN</td>\n",
       "      <td>51</td>\n",
       "      <td>5</td>\n",
       "      <td>270</td>\n",
       "      <td>NaN</td>\n",
       "      <td>NaN</td>\n",
       "      <td>NaN</td>\n",
       "      <td>NaN</td>\n",
       "      <td>NaN</td>\n",
       "      <td>NaN</td>\n",
       "      <td>NaN</td>\n",
       "      <td>NaN</td>\n",
       "      <td>20</td>\n",
       "      <td>801</td>\n",
       "      <td>Clouds</td>\n",
       "      <td>few clouds</td>\n",
       "      <td>02d</td>\n",
       "    </tr>\n",
       "    <tr>\n",
       "      <th>2012-10-02 11:00:00-04:00</th>\n",
       "      <td>1349190000</td>\n",
       "      <td>2012-10-02 15:00:00 +0000 UTC</td>\n",
       "      <td>5128581</td>\n",
       "      <td>NaN</td>\n",
       "      <td>NaN</td>\n",
       "      <td>NaN</td>\n",
       "      <td>291.32</td>\n",
       "      <td>289.82</td>\n",
       "      <td>296.48</td>\n",
       "      <td>1012</td>\n",
       "      <td>NaN</td>\n",
       "      <td>NaN</td>\n",
       "      <td>52</td>\n",
       "      <td>5</td>\n",
       "      <td>270</td>\n",
       "      <td>NaN</td>\n",
       "      <td>NaN</td>\n",
       "      <td>NaN</td>\n",
       "      <td>NaN</td>\n",
       "      <td>NaN</td>\n",
       "      <td>NaN</td>\n",
       "      <td>NaN</td>\n",
       "      <td>NaN</td>\n",
       "      <td>20</td>\n",
       "      <td>801</td>\n",
       "      <td>Clouds</td>\n",
       "      <td>few clouds</td>\n",
       "      <td>02d</td>\n",
       "    </tr>\n",
       "    <tr>\n",
       "      <th>2012-10-02 12:00:00-04:00</th>\n",
       "      <td>1349193600</td>\n",
       "      <td>2012-10-02 16:00:00 +0000 UTC</td>\n",
       "      <td>5128581</td>\n",
       "      <td>NaN</td>\n",
       "      <td>NaN</td>\n",
       "      <td>NaN</td>\n",
       "      <td>291.78</td>\n",
       "      <td>290.15</td>\n",
       "      <td>295.93</td>\n",
       "      <td>0</td>\n",
       "      <td>NaN</td>\n",
       "      <td>NaN</td>\n",
       "      <td>0</td>\n",
       "      <td>2</td>\n",
       "      <td>303</td>\n",
       "      <td>NaN</td>\n",
       "      <td>NaN</td>\n",
       "      <td>NaN</td>\n",
       "      <td>0.0</td>\n",
       "      <td>NaN</td>\n",
       "      <td>NaN</td>\n",
       "      <td>NaN</td>\n",
       "      <td>NaN</td>\n",
       "      <td>92</td>\n",
       "      <td>800</td>\n",
       "      <td>Clear</td>\n",
       "      <td>sky is clear</td>\n",
       "      <td>02d</td>\n",
       "    </tr>\n",
       "    <tr>\n",
       "      <th>2012-10-02 13:00:00-04:00</th>\n",
       "      <td>1349197200</td>\n",
       "      <td>2012-10-02 17:00:00 +0000 UTC</td>\n",
       "      <td>5128581</td>\n",
       "      <td>NaN</td>\n",
       "      <td>NaN</td>\n",
       "      <td>NaN</td>\n",
       "      <td>292.74</td>\n",
       "      <td>291.15</td>\n",
       "      <td>296.48</td>\n",
       "      <td>0</td>\n",
       "      <td>NaN</td>\n",
       "      <td>NaN</td>\n",
       "      <td>0</td>\n",
       "      <td>1</td>\n",
       "      <td>285</td>\n",
       "      <td>NaN</td>\n",
       "      <td>NaN</td>\n",
       "      <td>NaN</td>\n",
       "      <td>0.0</td>\n",
       "      <td>NaN</td>\n",
       "      <td>NaN</td>\n",
       "      <td>NaN</td>\n",
       "      <td>NaN</td>\n",
       "      <td>92</td>\n",
       "      <td>800</td>\n",
       "      <td>Clear</td>\n",
       "      <td>sky is clear</td>\n",
       "      <td>02d</td>\n",
       "    </tr>\n",
       "  </tbody>\n",
       "</table>\n",
       "</div>"
      ],
      "text/plain": [
       "                                   dt                         dt_iso  city_id  \\\n",
       "date                                                                            \n",
       "2012-10-01 09:00:00-04:00  1349096400  2012-10-01 13:00:00 +0000 UTC  5128581   \n",
       "2012-10-02 10:00:00-04:00  1349186400  2012-10-02 14:00:00 +0000 UTC  5128581   \n",
       "2012-10-02 11:00:00-04:00  1349190000  2012-10-02 15:00:00 +0000 UTC  5128581   \n",
       "2012-10-02 12:00:00-04:00  1349193600  2012-10-02 16:00:00 +0000 UTC  5128581   \n",
       "2012-10-02 13:00:00-04:00  1349197200  2012-10-02 17:00:00 +0000 UTC  5128581   \n",
       "\n",
       "                           city_name  lat  lon    temp  temp_min  temp_max  \\\n",
       "date                                                                         \n",
       "2012-10-01 09:00:00-04:00        NaN  NaN  NaN  288.22    286.15    294.26   \n",
       "2012-10-02 10:00:00-04:00        NaN  NaN  NaN  290.15    288.15    294.82   \n",
       "2012-10-02 11:00:00-04:00        NaN  NaN  NaN  291.32    289.82    296.48   \n",
       "2012-10-02 12:00:00-04:00        NaN  NaN  NaN  291.78    290.15    295.93   \n",
       "2012-10-02 13:00:00-04:00        NaN  NaN  NaN  292.74    291.15    296.48   \n",
       "\n",
       "                           pressure  sea_level  grnd_level  humidity  \\\n",
       "date                                                                   \n",
       "2012-10-01 09:00:00-04:00      1012        NaN         NaN        58   \n",
       "2012-10-02 10:00:00-04:00      1012        NaN         NaN        51   \n",
       "2012-10-02 11:00:00-04:00      1012        NaN         NaN        52   \n",
       "2012-10-02 12:00:00-04:00         0        NaN         NaN         0   \n",
       "2012-10-02 13:00:00-04:00         0        NaN         NaN         0   \n",
       "\n",
       "                           wind_speed  wind_deg  rain_1h  rain_3h  rain_24h  \\\n",
       "date                                                                          \n",
       "2012-10-01 09:00:00-04:00           7       260      NaN      NaN       NaN   \n",
       "2012-10-02 10:00:00-04:00           5       270      NaN      NaN       NaN   \n",
       "2012-10-02 11:00:00-04:00           5       270      NaN      NaN       NaN   \n",
       "2012-10-02 12:00:00-04:00           2       303      NaN      NaN       NaN   \n",
       "2012-10-02 13:00:00-04:00           1       285      NaN      NaN       NaN   \n",
       "\n",
       "                           rain_today  snow_1h  snow_3h  snow_24h  snow_today  \\\n",
       "date                                                                            \n",
       "2012-10-01 09:00:00-04:00         NaN      NaN      NaN       NaN         NaN   \n",
       "2012-10-02 10:00:00-04:00         NaN      NaN      NaN       NaN         NaN   \n",
       "2012-10-02 11:00:00-04:00         NaN      NaN      NaN       NaN         NaN   \n",
       "2012-10-02 12:00:00-04:00         0.0      NaN      NaN       NaN         NaN   \n",
       "2012-10-02 13:00:00-04:00         0.0      NaN      NaN       NaN         NaN   \n",
       "\n",
       "                           clouds_all  weather_id weather_main  \\\n",
       "date                                                             \n",
       "2012-10-01 09:00:00-04:00          20         801       Clouds   \n",
       "2012-10-02 10:00:00-04:00          20         801       Clouds   \n",
       "2012-10-02 11:00:00-04:00          20         801       Clouds   \n",
       "2012-10-02 12:00:00-04:00          92         800        Clear   \n",
       "2012-10-02 13:00:00-04:00          92         800        Clear   \n",
       "\n",
       "                          weather_description weather_icon  \n",
       "date                                                        \n",
       "2012-10-01 09:00:00-04:00          few clouds          02d  \n",
       "2012-10-02 10:00:00-04:00          few clouds          02d  \n",
       "2012-10-02 11:00:00-04:00          few clouds          02d  \n",
       "2012-10-02 12:00:00-04:00        sky is clear          02d  \n",
       "2012-10-02 13:00:00-04:00        sky is clear          02d  "
      ]
     },
     "execution_count": 21,
     "metadata": {},
     "output_type": "execute_result"
    }
   ],
   "source": [
    "weather_df.head()"
   ]
  },
  {
   "cell_type": "code",
   "execution_count": 22,
   "metadata": {},
   "outputs": [
    {
     "data": {
      "text/plain": [
       "Int64Index([2012, 2012, 2012, 2012, 2012, 2012, 2012, 2012, 2012, 2012,\n",
       "            ...\n",
       "            2017, 2017, 2017, 2017, 2017, 2017, 2017, 2017, 2017, 2017],\n",
       "           dtype='int64', name='date', length=49811)"
      ]
     },
     "execution_count": 22,
     "metadata": {},
     "output_type": "execute_result"
    }
   ],
   "source": [
    "weather_df.index.year"
   ]
  },
  {
   "cell_type": "code",
   "execution_count": 23,
   "metadata": {},
   "outputs": [
    {
     "data": {
      "text/plain": [
       "0.8900    4\n",
       "0.8575    3\n",
       "0.6900    3\n",
       "0.5850    3\n",
       "0.1050    3\n",
       "3.2275    3\n",
       "2.8950    3\n",
       "Name: rain_3h, dtype: int64"
      ]
     },
     "execution_count": 23,
     "metadata": {},
     "output_type": "execute_result"
    }
   ],
   "source": [
    "weather_df.loc[weather_df.index.year == 2017, :].rain_3h.value_counts()"
   ]
  },
  {
   "cell_type": "code",
   "execution_count": 24,
   "metadata": {
    "collapsed": true
   },
   "outputs": [],
   "source": [
    "weather_df.drop([\"dt\", \"dt_iso\", \"city_id\", \"city_name\", \"lat\", \"lon\", \"weather_icon\", \"grnd_level\", \\\n",
    "                 \"sea_level\", \"clouds_all\", \"weather_id\", \"rain_1h\", \"rain_3h\", \"rain_24h\", \\\n",
    "                 \"rain_today\", \"snow_1h\", \"snow_3h\", \"snow_24h\", \"snow_today\"], axis=1, inplace=True)"
   ]
  },
  {
   "cell_type": "code",
   "execution_count": 25,
   "metadata": {},
   "outputs": [
    {
     "data": {
      "text/plain": [
       "temp                   float64\n",
       "temp_min               float64\n",
       "temp_max               float64\n",
       "pressure                 int64\n",
       "humidity                 int64\n",
       "wind_speed               int64\n",
       "wind_deg                 int64\n",
       "weather_main            object\n",
       "weather_description     object\n",
       "dtype: object"
      ]
     },
     "execution_count": 25,
     "metadata": {},
     "output_type": "execute_result"
    }
   ],
   "source": [
    "weather_df.dtypes"
   ]
  },
  {
   "cell_type": "code",
   "execution_count": 26,
   "metadata": {},
   "outputs": [
    {
     "data": {
      "text/html": [
       "<div>\n",
       "<style>\n",
       "    .dataframe thead tr:only-child th {\n",
       "        text-align: right;\n",
       "    }\n",
       "\n",
       "    .dataframe thead th {\n",
       "        text-align: left;\n",
       "    }\n",
       "\n",
       "    .dataframe tbody tr th {\n",
       "        vertical-align: top;\n",
       "    }\n",
       "</style>\n",
       "<table border=\"1\" class=\"dataframe\">\n",
       "  <thead>\n",
       "    <tr style=\"text-align: right;\">\n",
       "      <th></th>\n",
       "      <th>temp</th>\n",
       "      <th>temp_min</th>\n",
       "      <th>temp_max</th>\n",
       "      <th>pressure</th>\n",
       "      <th>humidity</th>\n",
       "      <th>wind_speed</th>\n",
       "      <th>wind_deg</th>\n",
       "      <th>weather_main</th>\n",
       "      <th>weather_description</th>\n",
       "    </tr>\n",
       "    <tr>\n",
       "      <th>date</th>\n",
       "      <th></th>\n",
       "      <th></th>\n",
       "      <th></th>\n",
       "      <th></th>\n",
       "      <th></th>\n",
       "      <th></th>\n",
       "      <th></th>\n",
       "      <th></th>\n",
       "      <th></th>\n",
       "    </tr>\n",
       "  </thead>\n",
       "  <tbody>\n",
       "    <tr>\n",
       "      <th>2012-10-01 09:00:00-04:00</th>\n",
       "      <td>288.22</td>\n",
       "      <td>286.15</td>\n",
       "      <td>294.26</td>\n",
       "      <td>1012</td>\n",
       "      <td>58</td>\n",
       "      <td>7</td>\n",
       "      <td>260</td>\n",
       "      <td>Clouds</td>\n",
       "      <td>few clouds</td>\n",
       "    </tr>\n",
       "    <tr>\n",
       "      <th>2012-10-02 10:00:00-04:00</th>\n",
       "      <td>290.15</td>\n",
       "      <td>288.15</td>\n",
       "      <td>294.82</td>\n",
       "      <td>1012</td>\n",
       "      <td>51</td>\n",
       "      <td>5</td>\n",
       "      <td>270</td>\n",
       "      <td>Clouds</td>\n",
       "      <td>few clouds</td>\n",
       "    </tr>\n",
       "    <tr>\n",
       "      <th>2012-10-02 11:00:00-04:00</th>\n",
       "      <td>291.32</td>\n",
       "      <td>289.82</td>\n",
       "      <td>296.48</td>\n",
       "      <td>1012</td>\n",
       "      <td>52</td>\n",
       "      <td>5</td>\n",
       "      <td>270</td>\n",
       "      <td>Clouds</td>\n",
       "      <td>few clouds</td>\n",
       "    </tr>\n",
       "    <tr>\n",
       "      <th>2012-10-02 12:00:00-04:00</th>\n",
       "      <td>291.78</td>\n",
       "      <td>290.15</td>\n",
       "      <td>295.93</td>\n",
       "      <td>0</td>\n",
       "      <td>0</td>\n",
       "      <td>2</td>\n",
       "      <td>303</td>\n",
       "      <td>Clear</td>\n",
       "      <td>sky is clear</td>\n",
       "    </tr>\n",
       "    <tr>\n",
       "      <th>2012-10-02 13:00:00-04:00</th>\n",
       "      <td>292.74</td>\n",
       "      <td>291.15</td>\n",
       "      <td>296.48</td>\n",
       "      <td>0</td>\n",
       "      <td>0</td>\n",
       "      <td>1</td>\n",
       "      <td>285</td>\n",
       "      <td>Clear</td>\n",
       "      <td>sky is clear</td>\n",
       "    </tr>\n",
       "  </tbody>\n",
       "</table>\n",
       "</div>"
      ],
      "text/plain": [
       "                             temp  temp_min  temp_max  pressure  humidity  \\\n",
       "date                                                                        \n",
       "2012-10-01 09:00:00-04:00  288.22    286.15    294.26      1012        58   \n",
       "2012-10-02 10:00:00-04:00  290.15    288.15    294.82      1012        51   \n",
       "2012-10-02 11:00:00-04:00  291.32    289.82    296.48      1012        52   \n",
       "2012-10-02 12:00:00-04:00  291.78    290.15    295.93         0         0   \n",
       "2012-10-02 13:00:00-04:00  292.74    291.15    296.48         0         0   \n",
       "\n",
       "                           wind_speed  wind_deg weather_main  \\\n",
       "date                                                           \n",
       "2012-10-01 09:00:00-04:00           7       260       Clouds   \n",
       "2012-10-02 10:00:00-04:00           5       270       Clouds   \n",
       "2012-10-02 11:00:00-04:00           5       270       Clouds   \n",
       "2012-10-02 12:00:00-04:00           2       303        Clear   \n",
       "2012-10-02 13:00:00-04:00           1       285        Clear   \n",
       "\n",
       "                          weather_description  \n",
       "date                                           \n",
       "2012-10-01 09:00:00-04:00          few clouds  \n",
       "2012-10-02 10:00:00-04:00          few clouds  \n",
       "2012-10-02 11:00:00-04:00          few clouds  \n",
       "2012-10-02 12:00:00-04:00        sky is clear  \n",
       "2012-10-02 13:00:00-04:00        sky is clear  "
      ]
     },
     "execution_count": 26,
     "metadata": {},
     "output_type": "execute_result"
    }
   ],
   "source": [
    "weather_df.head()"
   ]
  },
  {
   "cell_type": "markdown",
   "metadata": {},
   "source": [
    "## Creating the Merged Dataframe for Visualizations"
   ]
  },
  {
   "cell_type": "code",
   "execution_count": 27,
   "metadata": {
    "collapsed": true
   },
   "outputs": [],
   "source": [
    "merged_df = pd.merge(left=output, right=weather_df, left_index=True, right_index=True)"
   ]
  },
  {
   "cell_type": "code",
   "execution_count": 28,
   "metadata": {},
   "outputs": [
    {
     "data": {
      "text/html": [
       "<div>\n",
       "<style>\n",
       "    .dataframe thead tr:only-child th {\n",
       "        text-align: right;\n",
       "    }\n",
       "\n",
       "    .dataframe thead th {\n",
       "        text-align: left;\n",
       "    }\n",
       "\n",
       "    .dataframe tbody tr th {\n",
       "        vertical-align: top;\n",
       "    }\n",
       "</style>\n",
       "<table border=\"1\" class=\"dataframe\">\n",
       "  <thead>\n",
       "    <tr style=\"text-align: right;\">\n",
       "      <th></th>\n",
       "      <th>pickup_counts</th>\n",
       "      <th>temp</th>\n",
       "      <th>temp_min</th>\n",
       "      <th>temp_max</th>\n",
       "      <th>pressure</th>\n",
       "      <th>humidity</th>\n",
       "      <th>wind_speed</th>\n",
       "      <th>wind_deg</th>\n",
       "      <th>weather_main</th>\n",
       "      <th>weather_description</th>\n",
       "    </tr>\n",
       "  </thead>\n",
       "  <tbody>\n",
       "    <tr>\n",
       "      <th>2017-01-01 05:00:00+00:00</th>\n",
       "      <td>53</td>\n",
       "      <td>279.07</td>\n",
       "      <td>277.15</td>\n",
       "      <td>280.15</td>\n",
       "      <td>1013</td>\n",
       "      <td>45</td>\n",
       "      <td>2</td>\n",
       "      <td>250</td>\n",
       "      <td>Clouds</td>\n",
       "      <td>overcast clouds</td>\n",
       "    </tr>\n",
       "    <tr>\n",
       "      <th>2017-01-01 06:00:00+00:00</th>\n",
       "      <td>3</td>\n",
       "      <td>279.14</td>\n",
       "      <td>277.15</td>\n",
       "      <td>281.15</td>\n",
       "      <td>1013</td>\n",
       "      <td>45</td>\n",
       "      <td>2</td>\n",
       "      <td>260</td>\n",
       "      <td>Clouds</td>\n",
       "      <td>overcast clouds</td>\n",
       "    </tr>\n",
       "    <tr>\n",
       "      <th>2017-01-01 07:00:00+00:00</th>\n",
       "      <td>0</td>\n",
       "      <td>279.21</td>\n",
       "      <td>276.15</td>\n",
       "      <td>283.15</td>\n",
       "      <td>1012</td>\n",
       "      <td>45</td>\n",
       "      <td>3</td>\n",
       "      <td>270</td>\n",
       "      <td>Rain</td>\n",
       "      <td>light rain</td>\n",
       "    </tr>\n",
       "    <tr>\n",
       "      <th>2017-01-01 07:00:00+00:00</th>\n",
       "      <td>0</td>\n",
       "      <td>279.21</td>\n",
       "      <td>276.15</td>\n",
       "      <td>283.15</td>\n",
       "      <td>1012</td>\n",
       "      <td>45</td>\n",
       "      <td>3</td>\n",
       "      <td>270</td>\n",
       "      <td>Snow</td>\n",
       "      <td>light snow</td>\n",
       "    </tr>\n",
       "    <tr>\n",
       "      <th>2017-01-01 08:00:00+00:00</th>\n",
       "      <td>4</td>\n",
       "      <td>279.43</td>\n",
       "      <td>277.15</td>\n",
       "      <td>285.15</td>\n",
       "      <td>1013</td>\n",
       "      <td>45</td>\n",
       "      <td>3</td>\n",
       "      <td>270</td>\n",
       "      <td>Clouds</td>\n",
       "      <td>overcast clouds</td>\n",
       "    </tr>\n",
       "  </tbody>\n",
       "</table>\n",
       "</div>"
      ],
      "text/plain": [
       "                           pickup_counts    temp  temp_min  temp_max  \\\n",
       "2017-01-01 05:00:00+00:00             53  279.07    277.15    280.15   \n",
       "2017-01-01 06:00:00+00:00              3  279.14    277.15    281.15   \n",
       "2017-01-01 07:00:00+00:00              0  279.21    276.15    283.15   \n",
       "2017-01-01 07:00:00+00:00              0  279.21    276.15    283.15   \n",
       "2017-01-01 08:00:00+00:00              4  279.43    277.15    285.15   \n",
       "\n",
       "                           pressure  humidity  wind_speed  wind_deg  \\\n",
       "2017-01-01 05:00:00+00:00      1013        45           2       250   \n",
       "2017-01-01 06:00:00+00:00      1013        45           2       260   \n",
       "2017-01-01 07:00:00+00:00      1012        45           3       270   \n",
       "2017-01-01 07:00:00+00:00      1012        45           3       270   \n",
       "2017-01-01 08:00:00+00:00      1013        45           3       270   \n",
       "\n",
       "                          weather_main weather_description  \n",
       "2017-01-01 05:00:00+00:00       Clouds     overcast clouds  \n",
       "2017-01-01 06:00:00+00:00       Clouds     overcast clouds  \n",
       "2017-01-01 07:00:00+00:00         Rain          light rain  \n",
       "2017-01-01 07:00:00+00:00         Snow          light snow  \n",
       "2017-01-01 08:00:00+00:00       Clouds     overcast clouds  "
      ]
     },
     "execution_count": 28,
     "metadata": {},
     "output_type": "execute_result"
    }
   ],
   "source": [
    "merged_df.head()"
   ]
  },
  {
   "cell_type": "code",
   "execution_count": 29,
   "metadata": {},
   "outputs": [
    {
     "data": {
      "text/plain": [
       "(5977, 10)"
      ]
     },
     "execution_count": 29,
     "metadata": {},
     "output_type": "execute_result"
    }
   ],
   "source": [
    "merged_df.shape"
   ]
  },
  {
   "cell_type": "code",
   "execution_count": 30,
   "metadata": {},
   "outputs": [
    {
     "data": {
      "text/html": [
       "<div>\n",
       "<style>\n",
       "    .dataframe thead tr:only-child th {\n",
       "        text-align: right;\n",
       "    }\n",
       "\n",
       "    .dataframe thead th {\n",
       "        text-align: left;\n",
       "    }\n",
       "\n",
       "    .dataframe tbody tr th {\n",
       "        vertical-align: top;\n",
       "    }\n",
       "</style>\n",
       "<table border=\"1\" class=\"dataframe\">\n",
       "  <thead>\n",
       "    <tr style=\"text-align: right;\">\n",
       "      <th></th>\n",
       "      <th>pickup_counts</th>\n",
       "      <th>temp</th>\n",
       "      <th>temp_min</th>\n",
       "      <th>temp_max</th>\n",
       "      <th>pressure</th>\n",
       "      <th>humidity</th>\n",
       "      <th>wind_speed</th>\n",
       "      <th>wind_deg</th>\n",
       "      <th>weather_main</th>\n",
       "      <th>weather_description</th>\n",
       "    </tr>\n",
       "  </thead>\n",
       "  <tbody>\n",
       "    <tr>\n",
       "      <th>2017-01-01 05:00:00+00:00</th>\n",
       "      <td>53</td>\n",
       "      <td>279.07</td>\n",
       "      <td>277.15</td>\n",
       "      <td>280.15</td>\n",
       "      <td>1013</td>\n",
       "      <td>45</td>\n",
       "      <td>2</td>\n",
       "      <td>250</td>\n",
       "      <td>Clouds</td>\n",
       "      <td>overcast clouds</td>\n",
       "    </tr>\n",
       "    <tr>\n",
       "      <th>2017-01-01 06:00:00+00:00</th>\n",
       "      <td>3</td>\n",
       "      <td>279.14</td>\n",
       "      <td>277.15</td>\n",
       "      <td>281.15</td>\n",
       "      <td>1013</td>\n",
       "      <td>45</td>\n",
       "      <td>2</td>\n",
       "      <td>260</td>\n",
       "      <td>Clouds</td>\n",
       "      <td>overcast clouds</td>\n",
       "    </tr>\n",
       "    <tr>\n",
       "      <th>2017-01-01 07:00:00+00:00</th>\n",
       "      <td>0</td>\n",
       "      <td>279.21</td>\n",
       "      <td>276.15</td>\n",
       "      <td>283.15</td>\n",
       "      <td>1012</td>\n",
       "      <td>45</td>\n",
       "      <td>3</td>\n",
       "      <td>270</td>\n",
       "      <td>Rain</td>\n",
       "      <td>light rain</td>\n",
       "    </tr>\n",
       "    <tr>\n",
       "      <th>2017-01-01 07:00:00+00:00</th>\n",
       "      <td>0</td>\n",
       "      <td>279.21</td>\n",
       "      <td>276.15</td>\n",
       "      <td>283.15</td>\n",
       "      <td>1012</td>\n",
       "      <td>45</td>\n",
       "      <td>3</td>\n",
       "      <td>270</td>\n",
       "      <td>Snow</td>\n",
       "      <td>light snow</td>\n",
       "    </tr>\n",
       "    <tr>\n",
       "      <th>2017-01-01 08:00:00+00:00</th>\n",
       "      <td>4</td>\n",
       "      <td>279.43</td>\n",
       "      <td>277.15</td>\n",
       "      <td>285.15</td>\n",
       "      <td>1013</td>\n",
       "      <td>45</td>\n",
       "      <td>3</td>\n",
       "      <td>270</td>\n",
       "      <td>Clouds</td>\n",
       "      <td>overcast clouds</td>\n",
       "    </tr>\n",
       "  </tbody>\n",
       "</table>\n",
       "</div>"
      ],
      "text/plain": [
       "                           pickup_counts    temp  temp_min  temp_max  \\\n",
       "2017-01-01 05:00:00+00:00             53  279.07    277.15    280.15   \n",
       "2017-01-01 06:00:00+00:00              3  279.14    277.15    281.15   \n",
       "2017-01-01 07:00:00+00:00              0  279.21    276.15    283.15   \n",
       "2017-01-01 07:00:00+00:00              0  279.21    276.15    283.15   \n",
       "2017-01-01 08:00:00+00:00              4  279.43    277.15    285.15   \n",
       "\n",
       "                           pressure  humidity  wind_speed  wind_deg  \\\n",
       "2017-01-01 05:00:00+00:00      1013        45           2       250   \n",
       "2017-01-01 06:00:00+00:00      1013        45           2       260   \n",
       "2017-01-01 07:00:00+00:00      1012        45           3       270   \n",
       "2017-01-01 07:00:00+00:00      1012        45           3       270   \n",
       "2017-01-01 08:00:00+00:00      1013        45           3       270   \n",
       "\n",
       "                          weather_main weather_description  \n",
       "2017-01-01 05:00:00+00:00       Clouds     overcast clouds  \n",
       "2017-01-01 06:00:00+00:00       Clouds     overcast clouds  \n",
       "2017-01-01 07:00:00+00:00         Rain          light rain  \n",
       "2017-01-01 07:00:00+00:00         Snow          light snow  \n",
       "2017-01-01 08:00:00+00:00       Clouds     overcast clouds  "
      ]
     },
     "execution_count": 30,
     "metadata": {},
     "output_type": "execute_result"
    }
   ],
   "source": [
    "merged_df.head()"
   ]
  },
  {
   "cell_type": "markdown",
   "metadata": {},
   "source": [
    "## Hour Level Analysis"
   ]
  },
  {
   "cell_type": "markdown",
   "metadata": {},
   "source": [
    "### Total Hours with different Weather conditions (2017)"
   ]
  },
  {
   "cell_type": "code",
   "execution_count": 31,
   "metadata": {
    "collapsed": true
   },
   "outputs": [],
   "source": [
    "out = merged_df.groupby([\"weather_main\"])[\"weather_main\"].count()"
   ]
  },
  {
   "cell_type": "code",
   "execution_count": 32,
   "metadata": {},
   "outputs": [
    {
     "data": {
      "text/plain": [
       "weather_main\n",
       "Clear           1003\n",
       "Clouds          1512\n",
       "Drizzle          381\n",
       "Dust               3\n",
       "Fog              296\n",
       "Haze             171\n",
       "Mist            1334\n",
       "Rain             994\n",
       "Snow             200\n",
       "Squall             1\n",
       "Thunderstorm      82\n",
       "Name: weather_main, dtype: int64"
      ]
     },
     "execution_count": 32,
     "metadata": {},
     "output_type": "execute_result"
    }
   ],
   "source": [
    "out"
   ]
  },
  {
   "cell_type": "code",
   "execution_count": 33,
   "metadata": {},
   "outputs": [
    {
     "data": {
      "text/plain": [
       "<matplotlib.axes._subplots.AxesSubplot at 0x1189a0c18>"
      ]
     },
     "execution_count": 33,
     "metadata": {},
     "output_type": "execute_result"
    },
    {
     "data": {
      "image/png": "[encoded data removed]",
      "text/plain": [
       "<matplotlib.figure.Figure at 0x1189a75c0>"
      ]
     },
     "metadata": {},
     "output_type": "display_data"
    }
   ],
   "source": [
    "plt.figure(figsize=(14, 6))\n",
    "out.plot(kind=\"bar\")"
   ]
  },
  {
   "cell_type": "markdown",
   "metadata": {},
   "source": [
    "### Total Taxi Trips in Different Weather Conditions (taken hourwise)"
   ]
  },
  {
   "cell_type": "code",
   "execution_count": 34,
   "metadata": {
    "collapsed": true
   },
   "outputs": [],
   "source": [
    "out = merged_df.groupby(\"weather_main\")[\"pickup_counts\"].sum()"
   ]
  },
  {
   "cell_type": "code",
   "execution_count": 35,
   "metadata": {},
   "outputs": [
    {
     "data": {
      "text/plain": [
       "weather_main\n",
       "Clear           319117\n",
       "Clouds          599035\n",
       "Drizzle         118299\n",
       "Dust               104\n",
       "Fog              69403\n",
       "Haze             70198\n",
       "Mist            384923\n",
       "Rain            320658\n",
       "Snow             43871\n",
       "Squall             649\n",
       "Thunderstorm     25999\n",
       "Name: pickup_counts, dtype: int64"
      ]
     },
     "execution_count": 35,
     "metadata": {},
     "output_type": "execute_result"
    }
   ],
   "source": [
    "out"
   ]
  },
  {
   "cell_type": "code",
   "execution_count": 36,
   "metadata": {},
   "outputs": [
    {
     "data": {
      "text/plain": [
       "<matplotlib.axes._subplots.AxesSubplot at 0x118d07c50>"
      ]
     },
     "execution_count": 36,
     "metadata": {},
     "output_type": "execute_result"
    },
    {
     "data": {
      "image/png": "[encoded data removed]",
      "text/plain": [
       "<matplotlib.figure.Figure at 0x118d197b8>"
      ]
     },
     "metadata": {},
     "output_type": "display_data"
    }
   ],
   "source": [
    "plt.figure(figsize=(14, 6))\n",
    "out.plot(kind=\"bar\")"
   ]
  },
  {
   "cell_type": "markdown",
   "metadata": {},
   "source": [
    "### Average taxi trips in different weather conditions for every hour"
   ]
  },
  {
   "cell_type": "code",
   "execution_count": 37,
   "metadata": {
    "collapsed": true
   },
   "outputs": [],
   "source": [
    "out = merged_df.groupby(\"weather_main\")[\"pickup_counts\"].mean()"
   ]
  },
  {
   "cell_type": "code",
   "execution_count": 38,
   "metadata": {},
   "outputs": [
    {
     "data": {
      "text/plain": [
       "<matplotlib.axes._subplots.AxesSubplot at 0x118cf8a90>"
      ]
     },
     "execution_count": 38,
     "metadata": {},
     "output_type": "execute_result"
    },
    {
     "data": {
      "image/png": "[encoded data removed]",
      "text/plain": [
       "<matplotlib.figure.Figure at 0x117d105f8>"
      ]
     },
     "metadata": {},
     "output_type": "display_data"
    }
   ],
   "source": [
    "plt.figure(figsize=(14, 6))\n",
    "out.plot(kind=\"bar\")"
   ]
  },
  {
   "cell_type": "markdown",
   "metadata": {},
   "source": [
    "### Weekly Effect of Weather on Taxi Pickups"
   ]
  },
  {
   "cell_type": "code",
   "execution_count": 53,
   "metadata": {},
   "outputs": [],
   "source": [
    "weekly_df = merged_df.groupby([pd.TimeGrouper(\"1M\"), \"weather_main\"])[\"pickup_counts\"].mean()"
   ]
  },
  {
   "cell_type": "code",
   "execution_count": 54,
   "metadata": {},
   "outputs": [
    {
     "data": {
      "text/plain": [
       "                           weather_main\n",
       "2017-01-31 00:00:00+00:00  Clear           219.353448\n",
       "                           Clouds          327.698745\n",
       "                           Drizzle         299.966292\n",
       "                           Fog             214.904762\n",
       "                           Haze            288.047619\n",
       "                           Mist            266.597315\n",
       "                           Rain            334.129808\n",
       "                           Snow            219.842857\n",
       "                           Thunderstorm      2.000000\n",
       "2017-02-28 00:00:00+00:00  Clear           265.505376\n",
       "                           Clouds          351.019084\n",
       "                           Drizzle         354.250000\n",
       "                           Fog             131.983871\n",
       "                           Haze            308.800000\n",
       "                           Mist            220.084615\n",
       "                           Rain            246.666667\n",
       "                           Snow            165.588235\n",
       "                           Thunderstorm     78.666667\n",
       "2017-03-31 00:00:00+00:00  Clear           321.681416\n",
       "                           Clouds          375.236607\n",
       "                           Drizzle         293.763636\n",
       "                           Fog             278.123077\n",
       "                           Haze            402.882353\n",
       "                           Mist            299.928251\n",
       "                           Rain            286.353659\n",
       "                           Snow            253.632911\n",
       "                           Thunderstorm    254.222222\n",
       "2017-04-30 00:00:00+00:00  Clear           257.329268\n",
       "                           Clouds          403.318182\n",
       "                           Drizzle         313.931373\n",
       "                           Dust            100.000000\n",
       "                           Fog             274.911111\n",
       "                           Haze            508.551724\n",
       "                           Mist            334.138889\n",
       "                           Rain            330.370558\n",
       "                           Thunderstorm    355.750000\n",
       "2017-05-31 00:00:00+00:00  Clear           389.000000\n",
       "                           Clouds          472.332016\n",
       "                           Drizzle         292.297619\n",
       "                           Fog             387.218750\n",
       "                           Haze            514.318182\n",
       "                           Mist            313.810078\n",
       "                           Rain            325.398104\n",
       "                           Squall          649.000000\n",
       "                           Thunderstorm    438.800000\n",
       "2017-06-30 00:00:00+00:00  Clear           378.957983\n",
       "                           Clouds          451.916256\n",
       "                           Drizzle         380.193548\n",
       "                           Dust              2.000000\n",
       "                           Fog             166.931034\n",
       "                           Haze            513.677419\n",
       "                           Mist            271.211538\n",
       "                           Rain            366.136986\n",
       "                           Thunderstorm    348.794118\n",
       "2017-07-31 00:00:00+00:00  Clouds          361.000000\n",
       "                           Mist            433.000000\n",
       "                           Rain            359.500000\n",
       "                           Thunderstorm    433.000000\n",
       "Name: pickup_counts, dtype: float64"
      ]
     },
     "execution_count": 54,
     "metadata": {},
     "output_type": "execute_result"
    }
   ],
   "source": [
    "weekly_df"
   ]
  },
  {
   "cell_type": "code",
   "execution_count": null,
   "metadata": {
    "collapsed": true
   },
   "outputs": [],
   "source": [
    "weekly_df.plot(kind=\"bar\",)"
   ]
  },
  {
   "cell_type": "code",
   "execution_count": 56,
   "metadata": {},
   "outputs": [],
   "source": [
    "weekly_df = weekly_df.unstack(level=1)"
   ]
  },
  {
   "cell_type": "code",
   "execution_count": 58,
   "metadata": {},
   "outputs": [
    {
     "data": {
      "text/plain": [
       "<matplotlib.axes._subplots.AxesSubplot at 0x11fa4fba8>"
      ]
     },
     "execution_count": 58,
     "metadata": {},
     "output_type": "execute_result"
    },
    {
     "data": {
      "text/plain": [
       "<matplotlib.figure.Figure at 0x120076d30>"
      ]
     },
     "metadata": {},
     "output_type": "display_data"
    },
    {
     "data": {
      "image/png": "[encoded data removed]",
      "text/plain": [
       "<matplotlib.figure.Figure at 0x11fa019e8>"
      ]
     },
     "metadata": {},
     "output_type": "display_data"
    }
   ],
   "source": [
    "plt.figure(figsize=(20, 14))\n",
    "weekly_df.plot(kind=\"line\")"
   ]
  },
  {
   "cell_type": "code",
   "execution_count": 48,
   "metadata": {},
   "outputs": [
    {
     "data": {
      "text/plain": [
       "<matplotlib.axes._subplots.AxesSubplot at 0x120500c18>"
      ]
     },
     "execution_count": 48,
     "metadata": {},
     "output_type": "execute_result"
    },
    {
     "data": {
      "image/png": "[encoded data removed]",
      "text/plain": [
       "<matplotlib.figure.Figure at 0x120727c18>"
      ]
     },
     "metadata": {},
     "output_type": "display_data"
    }
   ],
   "source": [
    "weekly_df.plot(kind=\"kde\")"
   ]
  },
  {
   "cell_type": "code",
   "execution_count": 38,
   "metadata": {},
   "outputs": [
    {
     "data": {
      "text/plain": [
       "<matplotlib.axes._subplots.AxesSubplot at 0x11525e3c8>"
      ]
     },
     "execution_count": 38,
     "metadata": {},
     "output_type": "execute_result"
    },
    {
     "data": {
      "image/png": "[encoded data removed]",
      "text/plain": [
       "<matplotlib.figure.Figure at 0x11bfd52e8>"
      ]
     },
     "metadata": {},
     "output_type": "display_data"
    }
   ],
   "source": [
    "plt.figure(figsize=(14, 6))\n",
    "sns.barplot(x = \"weather_main\", y = \"pickup_counts\", data=merged_df)"
   ]
  },
  {
   "cell_type": "code",
   "execution_count": null,
   "metadata": {
    "collapsed": true
   },
   "outputs": [],
   "source": []
  }
 ],
 "metadata": {
  "kernelspec": {
   "display_name": "Python 3",
   "language": "python",
   "name": "python3"
  },
  "language_info": {
   "codemirror_mode": {
    "name": "ipython",
    "version": 3
   },
   "file_extension": ".py",
   "mimetype": "text/x-python",
   "name": "python",
   "nbconvert_exporter": "python",
   "pygments_lexer": "ipython3",
   "version": "3.6.2"
  }
 },
 "nbformat": 4,
 "nbformat_minor": 2
}
