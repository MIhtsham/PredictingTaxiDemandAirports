{
 "cells": [
  {
   "cell_type": "markdown",
   "metadata": {},
   "source": [
    "## Merging hourly taxi, weather, and incoming passenger data for 2017"
   ]
  },
  {
   "cell_type": "code",
   "execution_count": 1,
   "metadata": {
    "collapsed": true
   },
   "outputs": [],
   "source": [
    "import numpy as np\n",
    "from tqdm import tqdm\n",
    "import pandas as pd\n",
    "from pandas.tseries.holiday import USFederalHolidayCalendar as calendar"
   ]
  },
  {
   "cell_type": "markdown",
   "metadata": {},
   "source": [
    "### Reading Aggregated Taxi Data"
   ]
  },
  {
   "cell_type": "code",
   "execution_count": 2,
   "metadata": {},
   "outputs": [],
   "source": [
    "taxi_hourly_df = pd.read_csv('../clean_data/Aggregated_TaxiData_14-17.csv', index_col=0)"
   ]
  },
  {
   "cell_type": "code",
   "execution_count": 3,
   "metadata": {},
   "outputs": [
    {
     "data": {
      "text/html": [
       "<div>\n",
       "<style>\n",
       "    .dataframe thead tr:only-child th {\n",
       "        text-align: right;\n",
       "    }\n",
       "\n",
       "    .dataframe thead th {\n",
       "        text-align: left;\n",
       "    }\n",
       "\n",
       "    .dataframe tbody tr th {\n",
       "        vertical-align: top;\n",
       "    }\n",
       "</style>\n",
       "<table border=\"1\" class=\"dataframe\">\n",
       "  <thead>\n",
       "    <tr style=\"text-align: right;\">\n",
       "      <th></th>\n",
       "      <th>num_pickups</th>\n",
       "      <th>num_passengers</th>\n",
       "    </tr>\n",
       "    <tr>\n",
       "      <th>tpep_pickup_datetime</th>\n",
       "      <th></th>\n",
       "      <th></th>\n",
       "    </tr>\n",
       "  </thead>\n",
       "  <tbody>\n",
       "    <tr>\n",
       "      <th>2014-01-01 00:00:00</th>\n",
       "      <td>107</td>\n",
       "      <td>210.0</td>\n",
       "    </tr>\n",
       "    <tr>\n",
       "      <th>2014-01-01 01:00:00</th>\n",
       "      <td>34</td>\n",
       "      <td>45.0</td>\n",
       "    </tr>\n",
       "    <tr>\n",
       "      <th>2014-01-01 02:00:00</th>\n",
       "      <td>34</td>\n",
       "      <td>70.0</td>\n",
       "    </tr>\n",
       "    <tr>\n",
       "      <th>2014-01-01 03:00:00</th>\n",
       "      <td>12</td>\n",
       "      <td>18.0</td>\n",
       "    </tr>\n",
       "    <tr>\n",
       "      <th>2014-01-01 04:00:00</th>\n",
       "      <td>25</td>\n",
       "      <td>37.0</td>\n",
       "    </tr>\n",
       "  </tbody>\n",
       "</table>\n",
       "</div>"
      ],
      "text/plain": [
       "                      num_pickups  num_passengers\n",
       "tpep_pickup_datetime                             \n",
       "2014-01-01 00:00:00           107           210.0\n",
       "2014-01-01 01:00:00            34            45.0\n",
       "2014-01-01 02:00:00            34            70.0\n",
       "2014-01-01 03:00:00            12            18.0\n",
       "2014-01-01 04:00:00            25            37.0"
      ]
     },
     "execution_count": 3,
     "metadata": {},
     "output_type": "execute_result"
    }
   ],
   "source": [
    "taxi_hourly_df.head()"
   ]
  },
  {
   "cell_type": "code",
   "execution_count": 4,
   "metadata": {},
   "outputs": [
    {
     "data": {
      "text/plain": [
       "(26009, 2)"
      ]
     },
     "execution_count": 4,
     "metadata": {},
     "output_type": "execute_result"
    }
   ],
   "source": [
    "taxi_hourly_df.shape"
   ]
  },
  {
   "cell_type": "code",
   "execution_count": 5,
   "metadata": {},
   "outputs": [],
   "source": [
    "taxi_hourly_df.index = pd.DatetimeIndex(taxi_hourly_df.index)"
   ]
  },
  {
   "cell_type": "code",
   "execution_count": 6,
   "metadata": {},
   "outputs": [],
   "source": [
    "taxi_hourly_df = taxi_hourly_df.drop([pd.Timestamp('2014-11-02 01:00:00'), pd.Timestamp('2015-11-01 01:00:00'), pd.Timestamp('2017-03-12 02:00:00')])#, pd.Timestamp('2017-03-12 02:00:00')])\n",
    "taxi_hourly_df.index = taxi_hourly_df.index.tz_localize('America/New_York')"
   ]
  },
  {
   "cell_type": "code",
   "execution_count": 7,
   "metadata": {},
   "outputs": [
    {
     "data": {
      "text/plain": [
       "Timestamp('2014-01-01 00:00:00-0500', tz='America/New_York')"
      ]
     },
     "execution_count": 7,
     "metadata": {},
     "output_type": "execute_result"
    }
   ],
   "source": [
    "taxi_hourly_df.index.min()"
   ]
  },
  {
   "cell_type": "code",
   "execution_count": 8,
   "metadata": {},
   "outputs": [
    {
     "data": {
      "text/plain": [
       "Timestamp('2017-06-30 23:00:00-0400', tz='America/New_York')"
      ]
     },
     "execution_count": 8,
     "metadata": {},
     "output_type": "execute_result"
    }
   ],
   "source": [
    "taxi_hourly_df.index.max()"
   ]
  },
  {
   "cell_type": "code",
   "execution_count": 9,
   "metadata": {},
   "outputs": [
    {
     "data": {
      "text/plain": [
       "(26006, 2)"
      ]
     },
     "execution_count": 9,
     "metadata": {},
     "output_type": "execute_result"
    }
   ],
   "source": [
    "taxi_hourly_df.shape"
   ]
  },
  {
   "cell_type": "markdown",
   "metadata": {},
   "source": [
    "### Adding Federal Calendar Holidays"
   ]
  },
  {
   "cell_type": "code",
   "execution_count": 10,
   "metadata": {},
   "outputs": [],
   "source": [
    "dr = pd.to_datetime(pd.to_datetime(taxi_hourly_df.index.date))\n",
    "\n",
    "cal = calendar()\n",
    "holidays = cal.holidays(start=dr.min(), end=dr.max())\n",
    "\n",
    "taxi_hourly_df['holiday'] = dr.isin(holidays)"
   ]
  },
  {
   "cell_type": "code",
   "execution_count": 11,
   "metadata": {},
   "outputs": [
    {
     "data": {
      "text/plain": [
       "(26006, 3)"
      ]
     },
     "execution_count": 11,
     "metadata": {},
     "output_type": "execute_result"
    }
   ],
   "source": [
    "taxi_hourly_df.shape"
   ]
  },
  {
   "cell_type": "code",
   "execution_count": 12,
   "metadata": {},
   "outputs": [
    {
     "data": {
      "text/html": [
       "<div>\n",
       "<style>\n",
       "    .dataframe thead tr:only-child th {\n",
       "        text-align: right;\n",
       "    }\n",
       "\n",
       "    .dataframe thead th {\n",
       "        text-align: left;\n",
       "    }\n",
       "\n",
       "    .dataframe tbody tr th {\n",
       "        vertical-align: top;\n",
       "    }\n",
       "</style>\n",
       "<table border=\"1\" class=\"dataframe\">\n",
       "  <thead>\n",
       "    <tr style=\"text-align: right;\">\n",
       "      <th></th>\n",
       "      <th>num_pickups</th>\n",
       "      <th>num_passengers</th>\n",
       "      <th>holiday</th>\n",
       "    </tr>\n",
       "    <tr>\n",
       "      <th>tpep_pickup_datetime</th>\n",
       "      <th></th>\n",
       "      <th></th>\n",
       "      <th></th>\n",
       "    </tr>\n",
       "  </thead>\n",
       "  <tbody>\n",
       "    <tr>\n",
       "      <th>2014-01-01 00:00:00-05:00</th>\n",
       "      <td>107</td>\n",
       "      <td>210.0</td>\n",
       "      <td>True</td>\n",
       "    </tr>\n",
       "    <tr>\n",
       "      <th>2014-01-01 01:00:00-05:00</th>\n",
       "      <td>34</td>\n",
       "      <td>45.0</td>\n",
       "      <td>True</td>\n",
       "    </tr>\n",
       "    <tr>\n",
       "      <th>2014-01-01 02:00:00-05:00</th>\n",
       "      <td>34</td>\n",
       "      <td>70.0</td>\n",
       "      <td>True</td>\n",
       "    </tr>\n",
       "    <tr>\n",
       "      <th>2014-01-01 03:00:00-05:00</th>\n",
       "      <td>12</td>\n",
       "      <td>18.0</td>\n",
       "      <td>True</td>\n",
       "    </tr>\n",
       "    <tr>\n",
       "      <th>2014-01-01 04:00:00-05:00</th>\n",
       "      <td>25</td>\n",
       "      <td>37.0</td>\n",
       "      <td>True</td>\n",
       "    </tr>\n",
       "  </tbody>\n",
       "</table>\n",
       "</div>"
      ],
      "text/plain": [
       "                           num_pickups  num_passengers  holiday\n",
       "tpep_pickup_datetime                                           \n",
       "2014-01-01 00:00:00-05:00          107           210.0     True\n",
       "2014-01-01 01:00:00-05:00           34            45.0     True\n",
       "2014-01-01 02:00:00-05:00           34            70.0     True\n",
       "2014-01-01 03:00:00-05:00           12            18.0     True\n",
       "2014-01-01 04:00:00-05:00           25            37.0     True"
      ]
     },
     "execution_count": 12,
     "metadata": {},
     "output_type": "execute_result"
    }
   ],
   "source": [
    "taxi_hourly_df.head()"
   ]
  },
  {
   "cell_type": "markdown",
   "metadata": {},
   "source": [
    "### Checking Missing Hours from Data and adding them to Datetimeindex. Also created a binary column as Indicator"
   ]
  },
  {
   "cell_type": "code",
   "execution_count": 13,
   "metadata": {},
   "outputs": [],
   "source": [
    "dateindex = pd.date_range(taxi_hourly_df.index.min(), taxi_hourly_df.index.max(), freq=\"1H\")"
   ]
  },
  {
   "cell_type": "code",
   "execution_count": 14,
   "metadata": {},
   "outputs": [],
   "source": [
    "taxi_hourly_df = taxi_hourly_df.reindex(dateindex)"
   ]
  },
  {
   "cell_type": "code",
   "execution_count": 15,
   "metadata": {},
   "outputs": [
    {
     "data": {
      "text/html": [
       "<div>\n",
       "<style>\n",
       "    .dataframe thead tr:only-child th {\n",
       "        text-align: right;\n",
       "    }\n",
       "\n",
       "    .dataframe thead th {\n",
       "        text-align: left;\n",
       "    }\n",
       "\n",
       "    .dataframe tbody tr th {\n",
       "        vertical-align: top;\n",
       "    }\n",
       "</style>\n",
       "<table border=\"1\" class=\"dataframe\">\n",
       "  <thead>\n",
       "    <tr style=\"text-align: right;\">\n",
       "      <th></th>\n",
       "      <th>num_pickups</th>\n",
       "      <th>num_passengers</th>\n",
       "      <th>holiday</th>\n",
       "    </tr>\n",
       "  </thead>\n",
       "  <tbody>\n",
       "    <tr>\n",
       "      <th>2014-01-01 00:00:00-05:00</th>\n",
       "      <td>107.0</td>\n",
       "      <td>210.0</td>\n",
       "      <td>True</td>\n",
       "    </tr>\n",
       "    <tr>\n",
       "      <th>2014-01-01 01:00:00-05:00</th>\n",
       "      <td>34.0</td>\n",
       "      <td>45.0</td>\n",
       "      <td>True</td>\n",
       "    </tr>\n",
       "    <tr>\n",
       "      <th>2014-01-01 02:00:00-05:00</th>\n",
       "      <td>34.0</td>\n",
       "      <td>70.0</td>\n",
       "      <td>True</td>\n",
       "    </tr>\n",
       "    <tr>\n",
       "      <th>2014-01-01 03:00:00-05:00</th>\n",
       "      <td>12.0</td>\n",
       "      <td>18.0</td>\n",
       "      <td>True</td>\n",
       "    </tr>\n",
       "    <tr>\n",
       "      <th>2014-01-01 04:00:00-05:00</th>\n",
       "      <td>25.0</td>\n",
       "      <td>37.0</td>\n",
       "      <td>True</td>\n",
       "    </tr>\n",
       "  </tbody>\n",
       "</table>\n",
       "</div>"
      ],
      "text/plain": [
       "                           num_pickups  num_passengers holiday\n",
       "2014-01-01 00:00:00-05:00        107.0           210.0    True\n",
       "2014-01-01 01:00:00-05:00         34.0            45.0    True\n",
       "2014-01-01 02:00:00-05:00         34.0            70.0    True\n",
       "2014-01-01 03:00:00-05:00         12.0            18.0    True\n",
       "2014-01-01 04:00:00-05:00         25.0            37.0    True"
      ]
     },
     "execution_count": 15,
     "metadata": {},
     "output_type": "execute_result"
    }
   ],
   "source": [
    "taxi_hourly_df.head()"
   ]
  },
  {
   "cell_type": "code",
   "execution_count": 16,
   "metadata": {
    "collapsed": true
   },
   "outputs": [],
   "source": [
    "taxi_hourly_df[\"missing_dt\"] = np.NaN"
   ]
  },
  {
   "cell_type": "code",
   "execution_count": 17,
   "metadata": {},
   "outputs": [],
   "source": [
    "taxi_hourly_df.loc[taxi_hourly_df.isnull().all(1) == True, \"missing_dt\"] = True\n",
    "taxi_hourly_df.loc[~(taxi_hourly_df.missing_dt == True), \"missing_dt\"] = False"
   ]
  },
  {
   "cell_type": "code",
   "execution_count": 19,
   "metadata": {},
   "outputs": [
    {
     "data": {
      "text/html": [
       "<div>\n",
       "<style>\n",
       "    .dataframe thead tr:only-child th {\n",
       "        text-align: right;\n",
       "    }\n",
       "\n",
       "    .dataframe thead th {\n",
       "        text-align: left;\n",
       "    }\n",
       "\n",
       "    .dataframe tbody tr th {\n",
       "        vertical-align: top;\n",
       "    }\n",
       "</style>\n",
       "<table border=\"1\" class=\"dataframe\">\n",
       "  <thead>\n",
       "    <tr style=\"text-align: right;\">\n",
       "      <th></th>\n",
       "      <th>num_pickups</th>\n",
       "      <th>num_passengers</th>\n",
       "      <th>holiday</th>\n",
       "      <th>missing_dt</th>\n",
       "    </tr>\n",
       "  </thead>\n",
       "  <tbody>\n",
       "    <tr>\n",
       "      <th>2014-01-20 02:00:00-05:00</th>\n",
       "      <td>NaN</td>\n",
       "      <td>NaN</td>\n",
       "      <td>NaN</td>\n",
       "      <td>True</td>\n",
       "    </tr>\n",
       "    <tr>\n",
       "      <th>2014-01-21 03:00:00-05:00</th>\n",
       "      <td>NaN</td>\n",
       "      <td>NaN</td>\n",
       "      <td>NaN</td>\n",
       "      <td>True</td>\n",
       "    </tr>\n",
       "    <tr>\n",
       "      <th>2014-01-22 03:00:00-05:00</th>\n",
       "      <td>NaN</td>\n",
       "      <td>NaN</td>\n",
       "      <td>NaN</td>\n",
       "      <td>True</td>\n",
       "    </tr>\n",
       "    <tr>\n",
       "      <th>2014-02-12 03:00:00-05:00</th>\n",
       "      <td>NaN</td>\n",
       "      <td>NaN</td>\n",
       "      <td>NaN</td>\n",
       "      <td>True</td>\n",
       "    </tr>\n",
       "    <tr>\n",
       "      <th>2014-02-17 03:00:00-05:00</th>\n",
       "      <td>NaN</td>\n",
       "      <td>NaN</td>\n",
       "      <td>NaN</td>\n",
       "      <td>True</td>\n",
       "    </tr>\n",
       "  </tbody>\n",
       "</table>\n",
       "</div>"
      ],
      "text/plain": [
       "                           num_pickups  num_passengers holiday missing_dt\n",
       "2014-01-20 02:00:00-05:00          NaN             NaN     NaN       True\n",
       "2014-01-21 03:00:00-05:00          NaN             NaN     NaN       True\n",
       "2014-01-22 03:00:00-05:00          NaN             NaN     NaN       True\n",
       "2014-02-12 03:00:00-05:00          NaN             NaN     NaN       True\n",
       "2014-02-17 03:00:00-05:00          NaN             NaN     NaN       True"
      ]
     },
     "execution_count": 19,
     "metadata": {},
     "output_type": "execute_result"
    }
   ],
   "source": [
    "taxi_hourly_df[taxi_hourly_df.missing_dt == True].head()"
   ]
  },
  {
   "cell_type": "markdown",
   "metadata": {},
   "source": [
    "### Weather Data"
   ]
  },
  {
   "cell_type": "code",
   "execution_count": null,
   "metadata": {
    "collapsed": true
   },
   "outputs": [],
   "source": []
  },
  {
   "cell_type": "code",
   "execution_count": 117,
   "metadata": {
    "collapsed": true
   },
   "outputs": [],
   "source": [
    "def clean_weather(path):\n",
    "    weather_df = pd.read_csv(path)\n",
    "    weather_df[\"date\"] = pd.DatetimeIndex(pd.to_datetime(weather_df.dt, unit=\"s\")) \\\n",
    "                    .tz_localize('UTC').tz_convert('America/New_York')\n",
    "    weather_df.drop_duplicates(['date'], keep='first', inplace = True)\n",
    "    weather_df.set_index(\"date\", inplace=True)\n",
    "    \n",
    "    weather_df.drop([\"dt\", \"dt_iso\", \"city_id\", \"city_name\", \"lat\", \"lon\", \"weather_icon\", \"grnd_level\", \\\n",
    "                 \"sea_level\", \"clouds_all\", \"weather_id\", \"rain_1h\", \"rain_3h\", \"rain_24h\", \\\n",
    "                 \"rain_today\", \"snow_1h\", \"snow_3h\", \"snow_24h\", \"snow_today\"], axis=1, inplace=True)\n",
    "    return weather_df"
   ]
  },
  {
   "cell_type": "code",
   "execution_count": 118,
   "metadata": {
    "collapsed": true
   },
   "outputs": [],
   "source": [
    "weather_df = clean_weather(\"../clean_data/weather_NY.csv\")"
   ]
  },
  {
   "cell_type": "markdown",
   "metadata": {},
   "source": [
    "### Merge Taxi and Weather Data"
   ]
  },
  {
   "cell_type": "code",
   "execution_count": 119,
   "metadata": {},
   "outputs": [],
   "source": [
    "taxi_weather = taxi_hourly_df.merge(right=weather_df, how='left', left_index=True, right_index=True)\n",
    "taxi_weather.index = taxi_weather.index.tz_convert('America/New_York')"
   ]
  },
  {
   "cell_type": "code",
   "execution_count": 120,
   "metadata": {
    "collapsed": true
   },
   "outputs": [],
   "source": [
    "taxi_weather_filled = taxi_weather.fillna(method='ffill')"
   ]
  },
  {
   "cell_type": "code",
   "execution_count": 121,
   "metadata": {},
   "outputs": [
    {
     "data": {
      "text/html": [
       "<div>\n",
       "<style>\n",
       "    .dataframe thead tr:only-child th {\n",
       "        text-align: right;\n",
       "    }\n",
       "\n",
       "    .dataframe thead th {\n",
       "        text-align: left;\n",
       "    }\n",
       "\n",
       "    .dataframe tbody tr th {\n",
       "        vertical-align: top;\n",
       "    }\n",
       "</style>\n",
       "<table border=\"1\" class=\"dataframe\">\n",
       "  <thead>\n",
       "    <tr style=\"text-align: right;\">\n",
       "      <th></th>\n",
       "      <th>num_pickups</th>\n",
       "      <th>num_passengers</th>\n",
       "      <th>holiday</th>\n",
       "      <th>temp</th>\n",
       "      <th>temp_min</th>\n",
       "      <th>temp_max</th>\n",
       "      <th>pressure</th>\n",
       "      <th>humidity</th>\n",
       "      <th>wind_speed</th>\n",
       "      <th>wind_deg</th>\n",
       "      <th>weather_main</th>\n",
       "      <th>weather_description</th>\n",
       "    </tr>\n",
       "    <tr>\n",
       "      <th>tpep_pickup_datetime</th>\n",
       "      <th></th>\n",
       "      <th></th>\n",
       "      <th></th>\n",
       "      <th></th>\n",
       "      <th></th>\n",
       "      <th></th>\n",
       "      <th></th>\n",
       "      <th></th>\n",
       "      <th></th>\n",
       "      <th></th>\n",
       "      <th></th>\n",
       "      <th></th>\n",
       "    </tr>\n",
       "  </thead>\n",
       "  <tbody>\n",
       "    <tr>\n",
       "      <th>2014-01-01 00:00:00-05:00</th>\n",
       "      <td>107</td>\n",
       "      <td>210.0</td>\n",
       "      <td>True</td>\n",
       "      <td>269.27</td>\n",
       "      <td>267.59</td>\n",
       "      <td>270.93</td>\n",
       "      <td>1026.0</td>\n",
       "      <td>80.0</td>\n",
       "      <td>3.0</td>\n",
       "      <td>313.0</td>\n",
       "      <td>Clear</td>\n",
       "      <td>Sky is Clear</td>\n",
       "    </tr>\n",
       "    <tr>\n",
       "      <th>2014-01-01 01:00:00-05:00</th>\n",
       "      <td>34</td>\n",
       "      <td>45.0</td>\n",
       "      <td>False</td>\n",
       "      <td>268.90</td>\n",
       "      <td>267.04</td>\n",
       "      <td>270.93</td>\n",
       "      <td>1026.0</td>\n",
       "      <td>80.0</td>\n",
       "      <td>2.0</td>\n",
       "      <td>293.0</td>\n",
       "      <td>Clear</td>\n",
       "      <td>Sky is Clear</td>\n",
       "    </tr>\n",
       "    <tr>\n",
       "      <th>2014-01-01 02:00:00-05:00</th>\n",
       "      <td>34</td>\n",
       "      <td>70.0</td>\n",
       "      <td>False</td>\n",
       "      <td>268.48</td>\n",
       "      <td>266.48</td>\n",
       "      <td>270.37</td>\n",
       "      <td>1026.0</td>\n",
       "      <td>57.0</td>\n",
       "      <td>3.0</td>\n",
       "      <td>244.0</td>\n",
       "      <td>Clear</td>\n",
       "      <td>Sky is Clear</td>\n",
       "    </tr>\n",
       "    <tr>\n",
       "      <th>2014-01-01 03:00:00-05:00</th>\n",
       "      <td>12</td>\n",
       "      <td>18.0</td>\n",
       "      <td>False</td>\n",
       "      <td>268.33</td>\n",
       "      <td>265.93</td>\n",
       "      <td>270.37</td>\n",
       "      <td>1024.0</td>\n",
       "      <td>80.0</td>\n",
       "      <td>3.0</td>\n",
       "      <td>244.0</td>\n",
       "      <td>Clear</td>\n",
       "      <td>Sky is Clear</td>\n",
       "    </tr>\n",
       "    <tr>\n",
       "      <th>2014-01-01 04:00:00-05:00</th>\n",
       "      <td>25</td>\n",
       "      <td>37.0</td>\n",
       "      <td>False</td>\n",
       "      <td>268.10</td>\n",
       "      <td>265.37</td>\n",
       "      <td>270.37</td>\n",
       "      <td>1024.0</td>\n",
       "      <td>80.0</td>\n",
       "      <td>3.0</td>\n",
       "      <td>244.0</td>\n",
       "      <td>Clear</td>\n",
       "      <td>Sky is Clear</td>\n",
       "    </tr>\n",
       "  </tbody>\n",
       "</table>\n",
       "</div>"
      ],
      "text/plain": [
       "                           num_pickups  num_passengers  holiday    temp  \\\n",
       "tpep_pickup_datetime                                                      \n",
       "2014-01-01 00:00:00-05:00          107           210.0     True  269.27   \n",
       "2014-01-01 01:00:00-05:00           34            45.0    False  268.90   \n",
       "2014-01-01 02:00:00-05:00           34            70.0    False  268.48   \n",
       "2014-01-01 03:00:00-05:00           12            18.0    False  268.33   \n",
       "2014-01-01 04:00:00-05:00           25            37.0    False  268.10   \n",
       "\n",
       "                           temp_min  temp_max  pressure  humidity  wind_speed  \\\n",
       "tpep_pickup_datetime                                                            \n",
       "2014-01-01 00:00:00-05:00    267.59    270.93    1026.0      80.0         3.0   \n",
       "2014-01-01 01:00:00-05:00    267.04    270.93    1026.0      80.0         2.0   \n",
       "2014-01-01 02:00:00-05:00    266.48    270.37    1026.0      57.0         3.0   \n",
       "2014-01-01 03:00:00-05:00    265.93    270.37    1024.0      80.0         3.0   \n",
       "2014-01-01 04:00:00-05:00    265.37    270.37    1024.0      80.0         3.0   \n",
       "\n",
       "                           wind_deg weather_main weather_description  \n",
       "tpep_pickup_datetime                                                  \n",
       "2014-01-01 00:00:00-05:00     313.0        Clear        Sky is Clear  \n",
       "2014-01-01 01:00:00-05:00     293.0        Clear        Sky is Clear  \n",
       "2014-01-01 02:00:00-05:00     244.0        Clear        Sky is Clear  \n",
       "2014-01-01 03:00:00-05:00     244.0        Clear        Sky is Clear  \n",
       "2014-01-01 04:00:00-05:00     244.0        Clear        Sky is Clear  "
      ]
     },
     "execution_count": 121,
     "metadata": {},
     "output_type": "execute_result"
    }
   ],
   "source": [
    "taxi_weather_filled.head()"
   ]
  },
  {
   "cell_type": "markdown",
   "metadata": {},
   "source": [
    "### Passenger seat data"
   ]
  },
  {
   "cell_type": "code",
   "execution_count": 122,
   "metadata": {},
   "outputs": [],
   "source": [
    "def clean_seats(path):\n",
    "    seats_per_hour = pd.read_csv(path, header=None)\n",
    "#     print(seats_per_hour.head())\n",
    "    seats_per_hour.columns = ['Time', 'Passengers']\n",
    "    seats_per_hour[\"Time\"] = pd.DatetimeIndex(seats_per_hour.Time)\n",
    "    seats_per_hour.set_index(\"Time\", inplace = True)\n",
    "\n",
    "    #To get rid of errors surrounding daylight savings time. All of taxi pickups and passenger counts are NaNs for these times\n",
    "    seats_per_hour = seats_per_hour.drop([pd.Timestamp('2014-03-09 02:00:00'), pd.Timestamp('2014-11-02 01:00:00'), pd.Timestamp('2015-03-08 02:00:00'), pd.Timestamp('2015-11-01 01:00:00'), pd.Timestamp('2016-03-13 02:00:00'), pd.Timestamp('2016-11-06 01:00:00'), pd.Timestamp('2017-03-12 02:00:00')])\n",
    "    seats_per_hour.index = seats_per_hour.index.tz_localize('America/New_York')\n",
    "    return seats_per_hour"
   ]
  },
  {
   "cell_type": "code",
   "execution_count": 123,
   "metadata": {},
   "outputs": [],
   "source": [
    "seats_per_hour = clean_seats('../clean_data/passengers_per_hour_since_2014.csv')"
   ]
  },
  {
   "cell_type": "markdown",
   "metadata": {},
   "source": [
    "### Merging all dataframes"
   ]
  },
  {
   "cell_type": "code",
   "execution_count": 124,
   "metadata": {
    "collapsed": true
   },
   "outputs": [],
   "source": [
    "merged_df = pd.merge(left=taxi_weather_filled, right=seats_per_hour, how='inner', left_index=True, right_index=True)"
   ]
  },
  {
   "cell_type": "code",
   "execution_count": 125,
   "metadata": {},
   "outputs": [
    {
     "data": {
      "text/plain": [
       "(26005, 13)"
      ]
     },
     "execution_count": 125,
     "metadata": {},
     "output_type": "execute_result"
    }
   ],
   "source": [
    "merged_df.shape"
   ]
  },
  {
   "cell_type": "code",
   "execution_count": 147,
   "metadata": {},
   "outputs": [],
   "source": [
    "merged_df['Month'] = merged_df.index.month"
   ]
  },
  {
   "cell_type": "code",
   "execution_count": 150,
   "metadata": {
    "collapsed": true
   },
   "outputs": [],
   "source": [
    "merged_df['Hour'] = merged_df.index.hour"
   ]
  },
  {
   "cell_type": "code",
   "execution_count": 153,
   "metadata": {
    "collapsed": true
   },
   "outputs": [],
   "source": [
    "merged_df['Day'] = merged_df.index.dayofweek"
   ]
  },
  {
   "cell_type": "code",
   "execution_count": 155,
   "metadata": {},
   "outputs": [
    {
     "data": {
      "text/html": [
       "<div>\n",
       "<style>\n",
       "    .dataframe thead tr:only-child th {\n",
       "        text-align: right;\n",
       "    }\n",
       "\n",
       "    .dataframe thead th {\n",
       "        text-align: left;\n",
       "    }\n",
       "\n",
       "    .dataframe tbody tr th {\n",
       "        vertical-align: top;\n",
       "    }\n",
       "</style>\n",
       "<table border=\"1\" class=\"dataframe\">\n",
       "  <thead>\n",
       "    <tr style=\"text-align: right;\">\n",
       "      <th></th>\n",
       "      <th>num_pickups</th>\n",
       "      <th>num_passengers</th>\n",
       "      <th>holiday</th>\n",
       "      <th>temp</th>\n",
       "      <th>temp_min</th>\n",
       "      <th>temp_max</th>\n",
       "      <th>pressure</th>\n",
       "      <th>humidity</th>\n",
       "      <th>wind_speed</th>\n",
       "      <th>wind_deg</th>\n",
       "      <th>weather_main</th>\n",
       "      <th>weather_description</th>\n",
       "      <th>Passengers</th>\n",
       "      <th>Month</th>\n",
       "      <th>Hour</th>\n",
       "      <th>Day</th>\n",
       "    </tr>\n",
       "  </thead>\n",
       "  <tbody>\n",
       "    <tr>\n",
       "      <th>2014-01-01 00:00:00-05:00</th>\n",
       "      <td>107</td>\n",
       "      <td>210.0</td>\n",
       "      <td>True</td>\n",
       "      <td>269.27</td>\n",
       "      <td>267.59</td>\n",
       "      <td>270.93</td>\n",
       "      <td>1026.0</td>\n",
       "      <td>80.0</td>\n",
       "      <td>3.0</td>\n",
       "      <td>313.0</td>\n",
       "      <td>Clear</td>\n",
       "      <td>Sky is Clear</td>\n",
       "      <td>108</td>\n",
       "      <td>1</td>\n",
       "      <td>0</td>\n",
       "      <td>2</td>\n",
       "    </tr>\n",
       "    <tr>\n",
       "      <th>2014-01-01 01:00:00-05:00</th>\n",
       "      <td>34</td>\n",
       "      <td>45.0</td>\n",
       "      <td>False</td>\n",
       "      <td>268.90</td>\n",
       "      <td>267.04</td>\n",
       "      <td>270.93</td>\n",
       "      <td>1026.0</td>\n",
       "      <td>80.0</td>\n",
       "      <td>2.0</td>\n",
       "      <td>293.0</td>\n",
       "      <td>Clear</td>\n",
       "      <td>Sky is Clear</td>\n",
       "      <td>0</td>\n",
       "      <td>1</td>\n",
       "      <td>1</td>\n",
       "      <td>2</td>\n",
       "    </tr>\n",
       "    <tr>\n",
       "      <th>2014-01-01 02:00:00-05:00</th>\n",
       "      <td>34</td>\n",
       "      <td>70.0</td>\n",
       "      <td>False</td>\n",
       "      <td>268.48</td>\n",
       "      <td>266.48</td>\n",
       "      <td>270.37</td>\n",
       "      <td>1026.0</td>\n",
       "      <td>57.0</td>\n",
       "      <td>3.0</td>\n",
       "      <td>244.0</td>\n",
       "      <td>Clear</td>\n",
       "      <td>Sky is Clear</td>\n",
       "      <td>0</td>\n",
       "      <td>1</td>\n",
       "      <td>2</td>\n",
       "      <td>2</td>\n",
       "    </tr>\n",
       "    <tr>\n",
       "      <th>2014-01-01 03:00:00-05:00</th>\n",
       "      <td>12</td>\n",
       "      <td>18.0</td>\n",
       "      <td>False</td>\n",
       "      <td>268.33</td>\n",
       "      <td>265.93</td>\n",
       "      <td>270.37</td>\n",
       "      <td>1024.0</td>\n",
       "      <td>80.0</td>\n",
       "      <td>3.0</td>\n",
       "      <td>244.0</td>\n",
       "      <td>Clear</td>\n",
       "      <td>Sky is Clear</td>\n",
       "      <td>0</td>\n",
       "      <td>1</td>\n",
       "      <td>3</td>\n",
       "      <td>2</td>\n",
       "    </tr>\n",
       "    <tr>\n",
       "      <th>2014-01-01 04:00:00-05:00</th>\n",
       "      <td>25</td>\n",
       "      <td>37.0</td>\n",
       "      <td>False</td>\n",
       "      <td>268.10</td>\n",
       "      <td>265.37</td>\n",
       "      <td>270.37</td>\n",
       "      <td>1024.0</td>\n",
       "      <td>80.0</td>\n",
       "      <td>3.0</td>\n",
       "      <td>244.0</td>\n",
       "      <td>Clear</td>\n",
       "      <td>Sky is Clear</td>\n",
       "      <td>0</td>\n",
       "      <td>1</td>\n",
       "      <td>4</td>\n",
       "      <td>2</td>\n",
       "    </tr>\n",
       "  </tbody>\n",
       "</table>\n",
       "</div>"
      ],
      "text/plain": [
       "                           num_pickups  num_passengers  holiday    temp  \\\n",
       "2014-01-01 00:00:00-05:00          107           210.0     True  269.27   \n",
       "2014-01-01 01:00:00-05:00           34            45.0    False  268.90   \n",
       "2014-01-01 02:00:00-05:00           34            70.0    False  268.48   \n",
       "2014-01-01 03:00:00-05:00           12            18.0    False  268.33   \n",
       "2014-01-01 04:00:00-05:00           25            37.0    False  268.10   \n",
       "\n",
       "                           temp_min  temp_max  pressure  humidity  wind_speed  \\\n",
       "2014-01-01 00:00:00-05:00    267.59    270.93    1026.0      80.0         3.0   \n",
       "2014-01-01 01:00:00-05:00    267.04    270.93    1026.0      80.0         2.0   \n",
       "2014-01-01 02:00:00-05:00    266.48    270.37    1026.0      57.0         3.0   \n",
       "2014-01-01 03:00:00-05:00    265.93    270.37    1024.0      80.0         3.0   \n",
       "2014-01-01 04:00:00-05:00    265.37    270.37    1024.0      80.0         3.0   \n",
       "\n",
       "                           wind_deg weather_main weather_description  \\\n",
       "2014-01-01 00:00:00-05:00     313.0        Clear        Sky is Clear   \n",
       "2014-01-01 01:00:00-05:00     293.0        Clear        Sky is Clear   \n",
       "2014-01-01 02:00:00-05:00     244.0        Clear        Sky is Clear   \n",
       "2014-01-01 03:00:00-05:00     244.0        Clear        Sky is Clear   \n",
       "2014-01-01 04:00:00-05:00     244.0        Clear        Sky is Clear   \n",
       "\n",
       "                          Passengers  Month  Hour  Day  \n",
       "2014-01-01 00:00:00-05:00        108      1     0    2  \n",
       "2014-01-01 01:00:00-05:00          0      1     1    2  \n",
       "2014-01-01 02:00:00-05:00          0      1     2    2  \n",
       "2014-01-01 03:00:00-05:00          0      1     3    2  \n",
       "2014-01-01 04:00:00-05:00          0      1     4    2  "
      ]
     },
     "execution_count": 155,
     "metadata": {},
     "output_type": "execute_result"
    }
   ],
   "source": [
    "merged_df.head()"
   ]
  },
  {
   "cell_type": "code",
   "execution_count": 156,
   "metadata": {
    "collapsed": true
   },
   "outputs": [],
   "source": [
    "merged_df.to_csv(\"../clean_data/combined_final_data.csv\")"
   ]
  },
  {
   "cell_type": "markdown",
   "metadata": {},
   "source": [
    "### Checking nan hours"
   ]
  },
  {
   "cell_type": "code",
   "execution_count": 130,
   "metadata": {},
   "outputs": [],
   "source": [
    "df = pd.DataFrame({'P' : np.random.rand(30625)}, index=pd.date_range('2014-01-01', '2017-06-30', freq='h'))"
   ]
  },
  {
   "cell_type": "code",
   "execution_count": 133,
   "metadata": {},
   "outputs": [],
   "source": [
    "df.index = df.index.tz_localize('EST')"
   ]
  },
  {
   "cell_type": "code",
   "execution_count": 136,
   "metadata": {},
   "outputs": [],
   "source": [
    "check_nans = merged_df.reindex(df.index)"
   ]
  },
  {
   "cell_type": "code",
   "execution_count": 137,
   "metadata": {},
   "outputs": [
    {
     "data": {
      "text/plain": [
       "<bound method NDFrame.isnull of                            num_pickups  num_passengers holiday     temp  \\\n",
       "2014-01-01 00:00:00-05:00        107.0           210.0    True  269.270   \n",
       "2014-01-01 01:00:00-05:00         34.0            45.0   False  268.900   \n",
       "2014-01-01 02:00:00-05:00         34.0            70.0   False  268.480   \n",
       "2014-01-01 03:00:00-05:00         12.0            18.0   False  268.330   \n",
       "2014-01-01 04:00:00-05:00         25.0            37.0   False  268.100   \n",
       "2014-01-01 05:00:00-05:00         16.0            24.0   False  268.020   \n",
       "2014-01-01 06:00:00-05:00         14.0            17.0   False  267.900   \n",
       "2014-01-01 07:00:00-05:00         21.0            35.0   False  267.590   \n",
       "2014-01-01 08:00:00-05:00         94.0           190.0   False  267.670   \n",
       "2014-01-01 09:00:00-05:00        164.0           285.0   False  269.000   \n",
       "2014-01-01 10:00:00-05:00        379.0           673.0   False  270.650   \n",
       "2014-01-01 11:00:00-05:00        367.0           703.0   False  271.410   \n",
       "2014-01-01 12:00:00-05:00        450.0           836.0   False  272.220   \n",
       "2014-01-01 13:00:00-05:00        430.0           722.0   False  272.520   \n",
       "2014-01-01 14:00:00-05:00        455.0           856.0   False  273.160   \n",
       "2014-01-01 15:00:00-05:00        565.0          1070.0   False  273.320   \n",
       "2014-01-01 16:00:00-05:00        542.0           995.0   False  273.320   \n",
       "2014-01-01 17:00:00-05:00        669.0          1227.0   False  272.830   \n",
       "2014-01-01 18:00:00-05:00        796.0          1553.0   False  272.580   \n",
       "2014-01-01 19:00:00-05:00        738.0          1354.0   False  272.110   \n",
       "2014-01-01 20:00:00-05:00        501.0           869.0   False  271.920   \n",
       "2014-01-01 21:00:00-05:00        430.0           778.0   False  271.870   \n",
       "2014-01-01 22:00:00-05:00        633.0          1096.0   False  271.870   \n",
       "2014-01-01 23:00:00-05:00        541.0           944.0   False  284.793   \n",
       "2014-01-02 00:00:00-05:00        235.0           444.0   False  272.100   \n",
       "2014-01-02 01:00:00-05:00        146.0           228.0   False  272.100   \n",
       "2014-01-02 02:00:00-05:00        137.0           246.0   False  272.170   \n",
       "2014-01-02 03:00:00-05:00         62.0           109.0   False  271.680   \n",
       "2014-01-02 04:00:00-05:00         66.0           110.0   False  271.630   \n",
       "2014-01-02 05:00:00-05:00         48.0            72.0   False  270.980   \n",
       "...                                ...             ...     ...      ...   \n",
       "2017-06-28 19:00:00-05:00        538.0           883.0   False  298.140   \n",
       "2017-06-28 20:00:00-05:00        537.0           951.0   False  296.830   \n",
       "2017-06-28 21:00:00-05:00        637.0          1012.0   False  294.850   \n",
       "2017-06-28 22:00:00-05:00        633.0          1009.0   False  294.000   \n",
       "2017-06-28 23:00:00-05:00        609.0          1003.0   False  292.990   \n",
       "2017-06-29 00:00:00-05:00        637.0           993.0   False  292.640   \n",
       "2017-06-29 01:00:00-05:00        548.0           880.0   False  291.860   \n",
       "2017-06-29 02:00:00-05:00        454.0           777.0   False  291.430   \n",
       "2017-06-29 03:00:00-05:00         35.0            55.0   False  291.120   \n",
       "2017-06-29 04:00:00-05:00          3.0             5.0   False  290.850   \n",
       "2017-06-29 05:00:00-05:00          1.0             1.0   False  290.510   \n",
       "2017-06-29 06:00:00-05:00          0.0             1.0   False  291.010   \n",
       "2017-06-29 07:00:00-05:00         10.0            12.0   False  292.500   \n",
       "2017-06-29 08:00:00-05:00         10.0            14.0   False  294.770   \n",
       "2017-06-29 09:00:00-05:00         33.0            52.0   False  296.680   \n",
       "2017-06-29 10:00:00-05:00        221.0           339.0   False  297.060   \n",
       "2017-06-29 11:00:00-05:00        258.0           426.0   False  298.070   \n",
       "2017-06-29 12:00:00-05:00        485.0           834.0   False  299.200   \n",
       "2017-06-29 13:00:00-05:00        478.0           847.0   False  300.450   \n",
       "2017-06-29 14:00:00-05:00        483.0           851.0   False  300.760   \n",
       "2017-06-29 15:00:00-05:00        455.0           818.0   False  300.750   \n",
       "2017-06-29 16:00:00-05:00        348.0           578.0   False  300.830   \n",
       "2017-06-29 17:00:00-05:00        563.0           930.0   False  300.900   \n",
       "2017-06-29 18:00:00-05:00        454.0           797.0   False  300.370   \n",
       "2017-06-29 19:00:00-05:00        582.0           942.0   False  299.450   \n",
       "2017-06-29 20:00:00-05:00        510.0           856.0   False  297.570   \n",
       "2017-06-29 21:00:00-05:00        658.0          1112.0   False  296.850   \n",
       "2017-06-29 22:00:00-05:00        607.0           956.0   False  296.830   \n",
       "2017-06-29 23:00:00-05:00        687.0          1093.0   False  295.980   \n",
       "2017-06-30 00:00:00-05:00        575.0           960.0   False  295.750   \n",
       "\n",
       "                           temp_min  temp_max  pressure  humidity  wind_speed  \\\n",
       "2014-01-01 00:00:00-05:00   267.590   270.930    1026.0      80.0         3.0   \n",
       "2014-01-01 01:00:00-05:00   267.040   270.930    1026.0      80.0         2.0   \n",
       "2014-01-01 02:00:00-05:00   266.480   270.370    1026.0      57.0         3.0   \n",
       "2014-01-01 03:00:00-05:00   265.930   270.370    1024.0      80.0         3.0   \n",
       "2014-01-01 04:00:00-05:00   265.370   270.370    1024.0      80.0         3.0   \n",
       "2014-01-01 05:00:00-05:00   265.370   270.370    1029.0      80.0         1.0   \n",
       "2014-01-01 06:00:00-05:00   265.370   270.370    1025.0      80.0         1.0   \n",
       "2014-01-01 07:00:00-05:00   263.710   270.370    1029.0      80.0         1.0   \n",
       "2014-01-01 08:00:00-05:00   264.260   270.370    1029.0      80.0         0.0   \n",
       "2014-01-01 09:00:00-05:00   265.370   272.040    1026.0      80.0         1.0   \n",
       "2014-01-01 10:00:00-05:00   268.710   272.590     993.0      63.0         3.0   \n",
       "2014-01-01 11:00:00-05:00   269.260   272.590    1026.0      80.0         1.0   \n",
       "2014-01-01 12:00:00-05:00   270.930   273.710    1025.0      80.0         3.0   \n",
       "2014-01-01 13:00:00-05:00   271.480   273.710    1029.0      80.0         3.0   \n",
       "2014-01-01 14:00:00-05:00   272.040   274.820    1028.0      80.0         1.0   \n",
       "2014-01-01 15:00:00-05:00   272.040   274.820    1027.0      80.0         1.0   \n",
       "2014-01-01 16:00:00-05:00   272.040   274.820    1027.0      80.0         0.0   \n",
       "2014-01-01 17:00:00-05:00   272.040   274.260    1027.0      80.0         3.0   \n",
       "2014-01-01 18:00:00-05:00   271.480   274.260    1027.0      80.0         0.0   \n",
       "2014-01-01 19:00:00-05:00   270.930   274.260    1027.0      80.0         0.0   \n",
       "2014-01-01 20:00:00-05:00   270.370   274.260    1026.0      80.0         1.0   \n",
       "2014-01-01 21:00:00-05:00   270.930   274.260    1026.0      80.0         1.0   \n",
       "2014-01-01 22:00:00-05:00   270.930   274.260    1026.0      80.0         1.0   \n",
       "2014-01-01 23:00:00-05:00   284.793   284.793    1022.0      80.0         3.0   \n",
       "2014-01-02 00:00:00-05:00   270.370   274.260    1023.0      80.0         2.0   \n",
       "2014-01-02 01:00:00-05:00   270.370   274.260    1023.0      80.0         2.0   \n",
       "2014-01-02 02:00:00-05:00   270.370   274.260    1023.0      80.0         3.0   \n",
       "2014-01-02 03:00:00-05:00   270.370   273.710    1022.0      80.0         3.0   \n",
       "2014-01-02 04:00:00-05:00   269.820   273.710    1021.0      80.0         3.0   \n",
       "2014-01-02 05:00:00-05:00   269.260   272.590    1020.0      80.0         4.0   \n",
       "...                             ...       ...       ...       ...         ...   \n",
       "2017-06-28 19:00:00-05:00   296.150   300.150    1019.0      33.0         2.0   \n",
       "2017-06-28 20:00:00-05:00   294.150   299.150    1019.0      38.0         2.0   \n",
       "2017-06-28 21:00:00-05:00   291.150   299.150    1020.0      38.0         2.0   \n",
       "2017-06-28 22:00:00-05:00   289.150   298.150    1020.0      40.0         2.0   \n",
       "2017-06-28 23:00:00-05:00   289.150   298.150    1020.0      46.0         2.0   \n",
       "2017-06-29 00:00:00-05:00   288.150   297.150    1020.0      49.0         1.0   \n",
       "2017-06-29 01:00:00-05:00   286.150   296.150    1021.0      52.0         3.0   \n",
       "2017-06-29 02:00:00-05:00   287.150   295.150    1021.0      60.0         3.0   \n",
       "2017-06-29 03:00:00-05:00   287.150   295.150    1021.0      63.0         2.0   \n",
       "2017-06-29 04:00:00-05:00   287.150   295.150    1021.0      72.0         2.0   \n",
       "2017-06-29 05:00:00-05:00   287.150   294.150    1021.0      68.0         3.0   \n",
       "2017-06-29 06:00:00-05:00   287.150   294.150    1021.0      68.0         3.0   \n",
       "2017-06-29 07:00:00-05:00   289.150   295.150    1021.0      64.0         5.0   \n",
       "2017-06-29 08:00:00-05:00   292.150   297.150    1021.0      64.0         5.0   \n",
       "2017-06-29 09:00:00-05:00   295.150   298.150    1020.0      50.0         8.0   \n",
       "2017-06-29 10:00:00-05:00   295.150   299.150    1020.0      47.0         4.0   \n",
       "2017-06-29 11:00:00-05:00   296.150   300.150    1020.0      57.0         5.0   \n",
       "2017-06-29 12:00:00-05:00   297.150   301.150    1019.0      45.0         2.0   \n",
       "2017-06-29 13:00:00-05:00   299.150   301.150    1018.0      51.0         5.0   \n",
       "2017-06-29 14:00:00-05:00   298.150   302.150    1018.0      39.0         5.0   \n",
       "2017-06-29 15:00:00-05:00   299.150   302.150    1018.0      45.0         5.0   \n",
       "2017-06-29 16:00:00-05:00   298.150   302.150    1017.0      42.0         4.0   \n",
       "2017-06-29 17:00:00-05:00   298.150   303.150    1016.0      45.0         6.0   \n",
       "2017-06-29 18:00:00-05:00   297.150   302.150    1016.0      54.0         4.0   \n",
       "2017-06-29 19:00:00-05:00   296.150   302.150    1017.0      57.0         6.0   \n",
       "2017-06-29 20:00:00-05:00   294.150   300.150    1017.0      57.0         7.0   \n",
       "2017-06-29 21:00:00-05:00   294.150   299.150    1017.0      64.0         7.0   \n",
       "2017-06-29 22:00:00-05:00   294.150   299.150    1017.0      64.0         7.0   \n",
       "2017-06-29 23:00:00-05:00   293.150   298.150    1017.0      69.0         7.0   \n",
       "2017-06-30 00:00:00-05:00   294.150   297.150    1017.0      64.0         8.0   \n",
       "\n",
       "                           wind_deg  weather_main  \\\n",
       "2014-01-01 00:00:00-05:00     313.0         Clear   \n",
       "2014-01-01 01:00:00-05:00     293.0         Clear   \n",
       "2014-01-01 02:00:00-05:00     244.0         Clear   \n",
       "2014-01-01 03:00:00-05:00     244.0         Clear   \n",
       "2014-01-01 04:00:00-05:00     244.0         Clear   \n",
       "2014-01-01 05:00:00-05:00     245.0         Clear   \n",
       "2014-01-01 06:00:00-05:00     124.0         Clear   \n",
       "2014-01-01 07:00:00-05:00     209.0         Clear   \n",
       "2014-01-01 08:00:00-05:00     218.0         Clear   \n",
       "2014-01-01 09:00:00-05:00     282.0         Clear   \n",
       "2014-01-01 10:00:00-05:00     244.0         Clear   \n",
       "2014-01-01 11:00:00-05:00     138.0         Clear   \n",
       "2014-01-01 12:00:00-05:00     244.0         Clear   \n",
       "2014-01-01 13:00:00-05:00     244.0         Clear   \n",
       "2014-01-01 14:00:00-05:00     243.0         Clear   \n",
       "2014-01-01 15:00:00-05:00     227.0         Clear   \n",
       "2014-01-01 16:00:00-05:00      25.0         Clear   \n",
       "2014-01-01 17:00:00-05:00     244.0         Clear   \n",
       "2014-01-01 18:00:00-05:00     264.0         Clear   \n",
       "2014-01-01 19:00:00-05:00      52.0         Clear   \n",
       "2014-01-01 20:00:00-05:00      44.0         Clear   \n",
       "2014-01-01 21:00:00-05:00      95.0         Clear   \n",
       "2014-01-01 22:00:00-05:00      95.0         Clear   \n",
       "2014-01-01 23:00:00-05:00     244.0         Clear   \n",
       "2014-01-02 00:00:00-05:00      68.0         Clear   \n",
       "2014-01-02 01:00:00-05:00      68.0         Clear   \n",
       "2014-01-02 02:00:00-05:00     244.0         Clear   \n",
       "2014-01-02 03:00:00-05:00      44.0         Clear   \n",
       "2014-01-02 04:00:00-05:00     244.0         Clear   \n",
       "2014-01-02 05:00:00-05:00     348.0          Snow   \n",
       "...                             ...           ...   \n",
       "2017-06-28 19:00:00-05:00     290.0         Clear   \n",
       "2017-06-28 20:00:00-05:00     254.0         Clear   \n",
       "2017-06-28 21:00:00-05:00     214.0         Clear   \n",
       "2017-06-28 22:00:00-05:00     214.0         Clear   \n",
       "2017-06-28 23:00:00-05:00     214.0          Rain   \n",
       "2017-06-29 00:00:00-05:00     270.0  Thunderstorm   \n",
       "2017-06-29 01:00:00-05:00     214.0         Clear   \n",
       "2017-06-29 02:00:00-05:00     214.0         Clear   \n",
       "2017-06-29 03:00:00-05:00     220.0        Clouds   \n",
       "2017-06-29 04:00:00-05:00       0.0        Clouds   \n",
       "2017-06-29 05:00:00-05:00     230.0        Clouds   \n",
       "2017-06-29 06:00:00-05:00     230.0        Clouds   \n",
       "2017-06-29 07:00:00-05:00     220.0        Clouds   \n",
       "2017-06-29 08:00:00-05:00     200.0        Clouds   \n",
       "2017-06-29 09:00:00-05:00     230.0        Clouds   \n",
       "2017-06-29 10:00:00-05:00     280.0         Clear   \n",
       "2017-06-29 11:00:00-05:00     220.0        Clouds   \n",
       "2017-06-29 12:00:00-05:00     220.0         Clear   \n",
       "2017-06-29 13:00:00-05:00     220.0        Clouds   \n",
       "2017-06-29 14:00:00-05:00     280.0         Clear   \n",
       "2017-06-29 15:00:00-05:00     210.0        Clouds   \n",
       "2017-06-29 16:00:00-05:00     200.0        Clouds   \n",
       "2017-06-29 17:00:00-05:00     220.0        Clouds   \n",
       "2017-06-29 18:00:00-05:00     190.0        Clouds   \n",
       "2017-06-29 19:00:00-05:00     180.0        Clouds   \n",
       "2017-06-29 20:00:00-05:00     180.0          Rain   \n",
       "2017-06-29 21:00:00-05:00     190.0          Rain   \n",
       "2017-06-29 22:00:00-05:00     200.0        Clouds   \n",
       "2017-06-29 23:00:00-05:00     200.0        Clouds   \n",
       "2017-06-30 00:00:00-05:00     210.0        Clouds   \n",
       "\n",
       "                                    weather_description Passengers  \n",
       "2014-01-01 00:00:00-05:00                  Sky is Clear        108  \n",
       "2014-01-01 01:00:00-05:00                  Sky is Clear          0  \n",
       "2014-01-01 02:00:00-05:00                  Sky is Clear          0  \n",
       "2014-01-01 03:00:00-05:00                  Sky is Clear          0  \n",
       "2014-01-01 04:00:00-05:00                  Sky is Clear          0  \n",
       "2014-01-01 05:00:00-05:00                  Sky is Clear        243  \n",
       "2014-01-01 06:00:00-05:00                  Sky is Clear        141  \n",
       "2014-01-01 07:00:00-05:00                  Sky is Clear        717  \n",
       "2014-01-01 08:00:00-05:00                  Sky is Clear        797  \n",
       "2014-01-01 09:00:00-05:00                  Sky is Clear        761  \n",
       "2014-01-01 10:00:00-05:00                  Sky is Clear        778  \n",
       "2014-01-01 11:00:00-05:00                  Sky is Clear        793  \n",
       "2014-01-01 12:00:00-05:00                  Sky is Clear        802  \n",
       "2014-01-01 13:00:00-05:00                  Sky is Clear       1282  \n",
       "2014-01-01 14:00:00-05:00                  Sky is Clear        771  \n",
       "2014-01-01 15:00:00-05:00                  Sky is Clear        840  \n",
       "2014-01-01 16:00:00-05:00                  Sky is Clear        482  \n",
       "2014-01-01 17:00:00-05:00                  Sky is Clear        692  \n",
       "2014-01-01 18:00:00-05:00                  Sky is Clear        491  \n",
       "2014-01-01 19:00:00-05:00                  Sky is Clear        686  \n",
       "2014-01-01 20:00:00-05:00                  Sky is Clear        724  \n",
       "2014-01-01 21:00:00-05:00                  Sky is Clear        325  \n",
       "2014-01-01 22:00:00-05:00                  Sky is Clear        199  \n",
       "2014-01-01 23:00:00-05:00                  Sky is Clear          0  \n",
       "2014-01-02 00:00:00-05:00                  Sky is Clear          0  \n",
       "2014-01-02 01:00:00-05:00                  Sky is Clear          0  \n",
       "2014-01-02 02:00:00-05:00                  Sky is Clear          0  \n",
       "2014-01-02 03:00:00-05:00                  Sky is Clear          0  \n",
       "2014-01-02 04:00:00-05:00                  Sky is Clear          0  \n",
       "2014-01-02 05:00:00-05:00                    light snow         38  \n",
       "...                                                 ...        ...  \n",
       "2017-06-28 19:00:00-05:00                  sky is clear        658  \n",
       "2017-06-28 20:00:00-05:00                  sky is clear         77  \n",
       "2017-06-28 21:00:00-05:00                  sky is clear        131  \n",
       "2017-06-28 22:00:00-05:00                  sky is clear          0  \n",
       "2017-06-28 23:00:00-05:00                    light rain        139  \n",
       "2017-06-29 00:00:00-05:00  thunderstorm with heavy rain          0  \n",
       "2017-06-29 01:00:00-05:00                  sky is clear          0  \n",
       "2017-06-29 02:00:00-05:00                  sky is clear          0  \n",
       "2017-06-29 03:00:00-05:00                 broken clouds          0  \n",
       "2017-06-29 04:00:00-05:00                 broken clouds       1219  \n",
       "2017-06-29 05:00:00-05:00                 broken clouds       1198  \n",
       "2017-06-29 06:00:00-05:00                 broken clouds       1083  \n",
       "2017-06-29 07:00:00-05:00                 broken clouds       1234  \n",
       "2017-06-29 08:00:00-05:00                 broken clouds        492  \n",
       "2017-06-29 09:00:00-05:00                 broken clouds       1515  \n",
       "2017-06-29 10:00:00-05:00                  sky is clear       1353  \n",
       "2017-06-29 11:00:00-05:00              scattered clouds        912  \n",
       "2017-06-29 12:00:00-05:00                  sky is clear        891  \n",
       "2017-06-29 13:00:00-05:00                 broken clouds        588  \n",
       "2017-06-29 14:00:00-05:00                  sky is clear       1473  \n",
       "2017-06-29 15:00:00-05:00                 broken clouds        940  \n",
       "2017-06-29 16:00:00-05:00                 broken clouds       1230  \n",
       "2017-06-29 17:00:00-05:00                 broken clouds       1315  \n",
       "2017-06-29 18:00:00-05:00              scattered clouds       1255  \n",
       "2017-06-29 19:00:00-05:00                 broken clouds        682  \n",
       "2017-06-29 20:00:00-05:00                 moderate rain        413  \n",
       "2017-06-29 21:00:00-05:00                 moderate rain          0  \n",
       "2017-06-29 22:00:00-05:00                 broken clouds          0  \n",
       "2017-06-29 23:00:00-05:00                 broken clouds          0  \n",
       "2017-06-30 00:00:00-05:00                 broken clouds        139  \n",
       "\n",
       "[30625 rows x 13 columns]>"
      ]
     },
     "execution_count": 137,
     "metadata": {},
     "output_type": "execute_result"
    }
   ],
   "source": [
    "check_nans.isnull"
   ]
  },
  {
   "cell_type": "code",
   "execution_count": 132,
   "metadata": {},
   "outputs": [
    {
     "data": {
      "text/html": [
       "<div>\n",
       "<style>\n",
       "    .dataframe thead tr:only-child th {\n",
       "        text-align: right;\n",
       "    }\n",
       "\n",
       "    .dataframe thead th {\n",
       "        text-align: left;\n",
       "    }\n",
       "\n",
       "    .dataframe tbody tr th {\n",
       "        vertical-align: top;\n",
       "    }\n",
       "</style>\n",
       "<table border=\"1\" class=\"dataframe\">\n",
       "  <thead>\n",
       "    <tr style=\"text-align: right;\">\n",
       "      <th></th>\n",
       "      <th>num_pickups</th>\n",
       "      <th>num_passengers</th>\n",
       "      <th>holiday</th>\n",
       "      <th>temp</th>\n",
       "      <th>temp_min</th>\n",
       "      <th>temp_max</th>\n",
       "      <th>pressure</th>\n",
       "      <th>humidity</th>\n",
       "      <th>wind_speed</th>\n",
       "      <th>wind_deg</th>\n",
       "      <th>weather_main</th>\n",
       "      <th>weather_description</th>\n",
       "      <th>Passengers</th>\n",
       "    </tr>\n",
       "  </thead>\n",
       "  <tbody>\n",
       "    <tr>\n",
       "      <th>2014-01-01 00:00:00-05:00</th>\n",
       "      <td>107</td>\n",
       "      <td>210.0</td>\n",
       "      <td>True</td>\n",
       "      <td>269.27</td>\n",
       "      <td>267.59</td>\n",
       "      <td>270.93</td>\n",
       "      <td>1026.0</td>\n",
       "      <td>80.0</td>\n",
       "      <td>3.0</td>\n",
       "      <td>313.0</td>\n",
       "      <td>Clear</td>\n",
       "      <td>Sky is Clear</td>\n",
       "      <td>108</td>\n",
       "    </tr>\n",
       "    <tr>\n",
       "      <th>2014-01-01 01:00:00-05:00</th>\n",
       "      <td>34</td>\n",
       "      <td>45.0</td>\n",
       "      <td>False</td>\n",
       "      <td>268.90</td>\n",
       "      <td>267.04</td>\n",
       "      <td>270.93</td>\n",
       "      <td>1026.0</td>\n",
       "      <td>80.0</td>\n",
       "      <td>2.0</td>\n",
       "      <td>293.0</td>\n",
       "      <td>Clear</td>\n",
       "      <td>Sky is Clear</td>\n",
       "      <td>0</td>\n",
       "    </tr>\n",
       "    <tr>\n",
       "      <th>2014-01-01 02:00:00-05:00</th>\n",
       "      <td>34</td>\n",
       "      <td>70.0</td>\n",
       "      <td>False</td>\n",
       "      <td>268.48</td>\n",
       "      <td>266.48</td>\n",
       "      <td>270.37</td>\n",
       "      <td>1026.0</td>\n",
       "      <td>57.0</td>\n",
       "      <td>3.0</td>\n",
       "      <td>244.0</td>\n",
       "      <td>Clear</td>\n",
       "      <td>Sky is Clear</td>\n",
       "      <td>0</td>\n",
       "    </tr>\n",
       "    <tr>\n",
       "      <th>2014-01-01 03:00:00-05:00</th>\n",
       "      <td>12</td>\n",
       "      <td>18.0</td>\n",
       "      <td>False</td>\n",
       "      <td>268.33</td>\n",
       "      <td>265.93</td>\n",
       "      <td>270.37</td>\n",
       "      <td>1024.0</td>\n",
       "      <td>80.0</td>\n",
       "      <td>3.0</td>\n",
       "      <td>244.0</td>\n",
       "      <td>Clear</td>\n",
       "      <td>Sky is Clear</td>\n",
       "      <td>0</td>\n",
       "    </tr>\n",
       "    <tr>\n",
       "      <th>2014-01-01 04:00:00-05:00</th>\n",
       "      <td>25</td>\n",
       "      <td>37.0</td>\n",
       "      <td>False</td>\n",
       "      <td>268.10</td>\n",
       "      <td>265.37</td>\n",
       "      <td>270.37</td>\n",
       "      <td>1024.0</td>\n",
       "      <td>80.0</td>\n",
       "      <td>3.0</td>\n",
       "      <td>244.0</td>\n",
       "      <td>Clear</td>\n",
       "      <td>Sky is Clear</td>\n",
       "      <td>0</td>\n",
       "    </tr>\n",
       "  </tbody>\n",
       "</table>\n",
       "</div>"
      ],
      "text/plain": [
       "                           num_pickups  num_passengers  holiday    temp  \\\n",
       "2014-01-01 00:00:00-05:00          107           210.0     True  269.27   \n",
       "2014-01-01 01:00:00-05:00           34            45.0    False  268.90   \n",
       "2014-01-01 02:00:00-05:00           34            70.0    False  268.48   \n",
       "2014-01-01 03:00:00-05:00           12            18.0    False  268.33   \n",
       "2014-01-01 04:00:00-05:00           25            37.0    False  268.10   \n",
       "\n",
       "                           temp_min  temp_max  pressure  humidity  wind_speed  \\\n",
       "2014-01-01 00:00:00-05:00    267.59    270.93    1026.0      80.0         3.0   \n",
       "2014-01-01 01:00:00-05:00    267.04    270.93    1026.0      80.0         2.0   \n",
       "2014-01-01 02:00:00-05:00    266.48    270.37    1026.0      57.0         3.0   \n",
       "2014-01-01 03:00:00-05:00    265.93    270.37    1024.0      80.0         3.0   \n",
       "2014-01-01 04:00:00-05:00    265.37    270.37    1024.0      80.0         3.0   \n",
       "\n",
       "                           wind_deg weather_main weather_description  \\\n",
       "2014-01-01 00:00:00-05:00     313.0        Clear        Sky is Clear   \n",
       "2014-01-01 01:00:00-05:00     293.0        Clear        Sky is Clear   \n",
       "2014-01-01 02:00:00-05:00     244.0        Clear        Sky is Clear   \n",
       "2014-01-01 03:00:00-05:00     244.0        Clear        Sky is Clear   \n",
       "2014-01-01 04:00:00-05:00     244.0        Clear        Sky is Clear   \n",
       "\n",
       "                          Passengers  \n",
       "2014-01-01 00:00:00-05:00        108  \n",
       "2014-01-01 01:00:00-05:00          0  \n",
       "2014-01-01 02:00:00-05:00          0  \n",
       "2014-01-01 03:00:00-05:00          0  \n",
       "2014-01-01 04:00:00-05:00          0  "
      ]
     },
     "execution_count": 132,
     "metadata": {},
     "output_type": "execute_result"
    }
   ],
   "source": [
    "merged_df.head()"
   ]
  },
  {
   "cell_type": "code",
   "execution_count": null,
   "metadata": {
    "collapsed": true
   },
   "outputs": [],
   "source": []
  }
 ],
 "metadata": {
  "anaconda-cloud": {},
  "kernelspec": {
   "display_name": "Python 3",
   "language": "python",
   "name": "python3"
  },
  "language_info": {
   "codemirror_mode": {
    "name": "ipython",
    "version": 3
   },
   "file_extension": ".py",
   "mimetype": "text/x-python",
   "name": "python",
   "nbconvert_exporter": "python",
   "pygments_lexer": "ipython3",
   "version": "3.6.2"
  }
 },
 "nbformat": 4,
 "nbformat_minor": 1
}
