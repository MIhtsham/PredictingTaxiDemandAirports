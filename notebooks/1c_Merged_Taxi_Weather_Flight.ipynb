{
 "cells": [
  {
   "cell_type": "markdown",
   "metadata": {},
   "source": [
    "## Merging hourly taxi, weather, and incoming passenger data for 2017"
   ]
  },
  {
   "cell_type": "code",
   "execution_count": 1,
   "metadata": {
    "collapsed": true
   },
   "outputs": [],
   "source": [
    "import numpy as np\n",
    "from tqdm import tqdm\n",
    "import pandas as pd\n",
    "from collections import Counter\n",
    "import matplotlib.pyplot as plt\n",
    "from pandas.tseries.holiday import USFederalHolidayCalendar as calendar\n",
    "%matplotlib inline"
   ]
  },
  {
   "cell_type": "markdown",
   "metadata": {},
   "source": [
    "### Reading Aggregated Taxi Data"
   ]
  },
  {
   "cell_type": "code",
   "execution_count": 2,
   "metadata": {
    "collapsed": true
   },
   "outputs": [],
   "source": [
    "taxi_hourly_df = pd.read_csv('../clean_data/Aggregated_TaxiData_14-17.csv', index_col=0)"
   ]
  },
  {
   "cell_type": "code",
   "execution_count": 3,
   "metadata": {},
   "outputs": [
    {
     "data": {
      "text/html": [
       "<div>\n",
       "<style>\n",
       "    .dataframe thead tr:only-child th {\n",
       "        text-align: right;\n",
       "    }\n",
       "\n",
       "    .dataframe thead th {\n",
       "        text-align: left;\n",
       "    }\n",
       "\n",
       "    .dataframe tbody tr th {\n",
       "        vertical-align: top;\n",
       "    }\n",
       "</style>\n",
       "<table border=\"1\" class=\"dataframe\">\n",
       "  <thead>\n",
       "    <tr style=\"text-align: right;\">\n",
       "      <th></th>\n",
       "      <th>num_pickups</th>\n",
       "      <th>num_passengers</th>\n",
       "    </tr>\n",
       "    <tr>\n",
       "      <th>tpep_pickup_datetime</th>\n",
       "      <th></th>\n",
       "      <th></th>\n",
       "    </tr>\n",
       "  </thead>\n",
       "  <tbody>\n",
       "    <tr>\n",
       "      <th>2014-01-01 00:00:00</th>\n",
       "      <td>107</td>\n",
       "      <td>210.0</td>\n",
       "    </tr>\n",
       "    <tr>\n",
       "      <th>2014-01-01 01:00:00</th>\n",
       "      <td>34</td>\n",
       "      <td>45.0</td>\n",
       "    </tr>\n",
       "    <tr>\n",
       "      <th>2014-01-01 02:00:00</th>\n",
       "      <td>34</td>\n",
       "      <td>70.0</td>\n",
       "    </tr>\n",
       "    <tr>\n",
       "      <th>2014-01-01 03:00:00</th>\n",
       "      <td>12</td>\n",
       "      <td>18.0</td>\n",
       "    </tr>\n",
       "    <tr>\n",
       "      <th>2014-01-01 04:00:00</th>\n",
       "      <td>25</td>\n",
       "      <td>37.0</td>\n",
       "    </tr>\n",
       "  </tbody>\n",
       "</table>\n",
       "</div>"
      ],
      "text/plain": [
       "                      num_pickups  num_passengers\n",
       "tpep_pickup_datetime                             \n",
       "2014-01-01 00:00:00           107           210.0\n",
       "2014-01-01 01:00:00            34            45.0\n",
       "2014-01-01 02:00:00            34            70.0\n",
       "2014-01-01 03:00:00            12            18.0\n",
       "2014-01-01 04:00:00            25            37.0"
      ]
     },
     "execution_count": 3,
     "metadata": {},
     "output_type": "execute_result"
    }
   ],
   "source": [
    "taxi_hourly_df.head()"
   ]
  },
  {
   "cell_type": "code",
   "execution_count": 4,
   "metadata": {},
   "outputs": [
    {
     "data": {
      "text/plain": [
       "(26009, 2)"
      ]
     },
     "execution_count": 4,
     "metadata": {},
     "output_type": "execute_result"
    }
   ],
   "source": [
    "taxi_hourly_df.shape"
   ]
  },
  {
   "cell_type": "code",
   "execution_count": 5,
   "metadata": {
    "collapsed": true
   },
   "outputs": [],
   "source": [
    "taxi_hourly_df.index = pd.DatetimeIndex(taxi_hourly_df.index)"
   ]
  },
  {
   "cell_type": "code",
   "execution_count": 6,
   "metadata": {
    "collapsed": true
   },
   "outputs": [],
   "source": [
    "taxi_hourly_df = taxi_hourly_df.drop([pd.Timestamp('2014-11-02 01:00:00'), pd.Timestamp('2015-11-01 01:00:00'), pd.Timestamp('2017-03-12 02:00:00')])#, pd.Timestamp('2017-03-12 02:00:00')])\n",
    "taxi_hourly_df.index = taxi_hourly_df.index.tz_localize('America/New_York')"
   ]
  },
  {
   "cell_type": "code",
   "execution_count": 7,
   "metadata": {},
   "outputs": [
    {
     "data": {
      "text/plain": [
       "(26006, 2)"
      ]
     },
     "execution_count": 7,
     "metadata": {},
     "output_type": "execute_result"
    }
   ],
   "source": [
    "taxi_hourly_df.shape"
   ]
  },
  {
   "cell_type": "markdown",
   "metadata": {},
   "source": [
    "### Checking Missing Hours from Data and adding them to Datetimeindex. Also created a binary column as Indicator"
   ]
  },
  {
   "cell_type": "code",
   "execution_count": 8,
   "metadata": {
    "collapsed": true
   },
   "outputs": [],
   "source": [
    "dateindex = pd.date_range(taxi_hourly_df.index.min(), taxi_hourly_df.index.max(), freq=\"1H\")"
   ]
  },
  {
   "cell_type": "code",
   "execution_count": 9,
   "metadata": {
    "collapsed": true
   },
   "outputs": [],
   "source": [
    "taxi_hourly_df = taxi_hourly_df.reindex(dateindex)"
   ]
  },
  {
   "cell_type": "code",
   "execution_count": 10,
   "metadata": {},
   "outputs": [
    {
     "data": {
      "text/html": [
       "<div>\n",
       "<style>\n",
       "    .dataframe thead tr:only-child th {\n",
       "        text-align: right;\n",
       "    }\n",
       "\n",
       "    .dataframe thead th {\n",
       "        text-align: left;\n",
       "    }\n",
       "\n",
       "    .dataframe tbody tr th {\n",
       "        vertical-align: top;\n",
       "    }\n",
       "</style>\n",
       "<table border=\"1\" class=\"dataframe\">\n",
       "  <thead>\n",
       "    <tr style=\"text-align: right;\">\n",
       "      <th></th>\n",
       "      <th>num_pickups</th>\n",
       "      <th>num_passengers</th>\n",
       "    </tr>\n",
       "  </thead>\n",
       "  <tbody>\n",
       "    <tr>\n",
       "      <th>2014-01-01 00:00:00-05:00</th>\n",
       "      <td>107.0</td>\n",
       "      <td>210.0</td>\n",
       "    </tr>\n",
       "    <tr>\n",
       "      <th>2014-01-01 01:00:00-05:00</th>\n",
       "      <td>34.0</td>\n",
       "      <td>45.0</td>\n",
       "    </tr>\n",
       "    <tr>\n",
       "      <th>2014-01-01 02:00:00-05:00</th>\n",
       "      <td>34.0</td>\n",
       "      <td>70.0</td>\n",
       "    </tr>\n",
       "    <tr>\n",
       "      <th>2014-01-01 03:00:00-05:00</th>\n",
       "      <td>12.0</td>\n",
       "      <td>18.0</td>\n",
       "    </tr>\n",
       "    <tr>\n",
       "      <th>2014-01-01 04:00:00-05:00</th>\n",
       "      <td>25.0</td>\n",
       "      <td>37.0</td>\n",
       "    </tr>\n",
       "  </tbody>\n",
       "</table>\n",
       "</div>"
      ],
      "text/plain": [
       "                           num_pickups  num_passengers\n",
       "2014-01-01 00:00:00-05:00        107.0           210.0\n",
       "2014-01-01 01:00:00-05:00         34.0            45.0\n",
       "2014-01-01 02:00:00-05:00         34.0            70.0\n",
       "2014-01-01 03:00:00-05:00         12.0            18.0\n",
       "2014-01-01 04:00:00-05:00         25.0            37.0"
      ]
     },
     "execution_count": 10,
     "metadata": {},
     "output_type": "execute_result"
    }
   ],
   "source": [
    "taxi_hourly_df.head()"
   ]
  },
  {
   "cell_type": "code",
   "execution_count": 11,
   "metadata": {
    "collapsed": true
   },
   "outputs": [],
   "source": [
    "taxi_hourly_df[\"missing_dt\"] = np.NaN"
   ]
  },
  {
   "cell_type": "code",
   "execution_count": 12,
   "metadata": {
    "collapsed": true
   },
   "outputs": [],
   "source": [
    "taxi_hourly_df.loc[taxi_hourly_df.isnull().all(1) == True, \"missing_dt\"] = True\n",
    "taxi_hourly_df.loc[~(taxi_hourly_df.missing_dt == True), \"missing_dt\"] = False"
   ]
  },
  {
   "cell_type": "code",
   "execution_count": 38,
   "metadata": {},
   "outputs": [],
   "source": [
    "missing_hours = taxi_hourly_df[(taxi_hourly_df.missing_dt == True) & (taxi_hourly_df.index < \"2016-07-01\")].index.hour"
   ]
  },
  {
   "cell_type": "code",
   "execution_count": 47,
   "metadata": {},
   "outputs": [
    {
     "data": {
      "text/plain": [
       "<matplotlib.axes._subplots.AxesSubplot at 0x111fc4da0>"
      ]
     },
     "execution_count": 47,
     "metadata": {},
     "output_type": "execute_result"
    },
    {
     "data": {
      "image/png": "[encoded data removed]",
      "text/plain": [
       "<matplotlib.figure.Figure at 0x111dcf9b0>"
      ]
     },
     "metadata": {},
     "output_type": "display_data"
    }
   ],
   "source": [
    "pd.Series(Counter(missing_hours)).plot(kind=\"bar\")"
   ]
  },
  {
   "cell_type": "code",
   "execution_count": 48,
   "metadata": {},
   "outputs": [
    {
     "data": {
      "text/plain": [
       "(30647, 3)"
      ]
     },
     "execution_count": 48,
     "metadata": {},
     "output_type": "execute_result"
    }
   ],
   "source": [
    "taxi_hourly_df.shape"
   ]
  },
  {
   "cell_type": "code",
   "execution_count": 49,
   "metadata": {},
   "outputs": [
    {
     "data": {
      "text/plain": [
       "Timestamp('2014-01-01 00:00:00-0500', tz='America/New_York', freq='H')"
      ]
     },
     "execution_count": 49,
     "metadata": {},
     "output_type": "execute_result"
    }
   ],
   "source": [
    "taxi_hourly_df.index.min()"
   ]
  },
  {
   "cell_type": "code",
   "execution_count": 50,
   "metadata": {},
   "outputs": [
    {
     "data": {
      "text/plain": [
       "Timestamp('2017-06-30 23:00:00-0400', tz='America/New_York', freq='H')"
      ]
     },
     "execution_count": 50,
     "metadata": {},
     "output_type": "execute_result"
    }
   ],
   "source": [
    "taxi_hourly_df.index.max()"
   ]
  },
  {
   "cell_type": "code",
   "execution_count": 51,
   "metadata": {},
   "outputs": [
    {
     "data": {
      "text/plain": [
       "30647"
      ]
     },
     "execution_count": 51,
     "metadata": {},
     "output_type": "execute_result"
    }
   ],
   "source": [
    "len(taxi_hourly_df.index.unique())"
   ]
  },
  {
   "cell_type": "code",
   "execution_count": 52,
   "metadata": {},
   "outputs": [
    {
     "data": {
      "text/plain": [
       "(4417, 3)"
      ]
     },
     "execution_count": 52,
     "metadata": {},
     "output_type": "execute_result"
    }
   ],
   "source": [
    "taxi_hourly_df[\"2016-07-01\":\"2016-12-31\"].shape"
   ]
  },
  {
   "cell_type": "markdown",
   "metadata": {},
   "source": [
    "### Weather Data"
   ]
  },
  {
   "cell_type": "code",
   "execution_count": 53,
   "metadata": {
    "collapsed": true
   },
   "outputs": [],
   "source": [
    "def clean_weather(path):\n",
    "    weather_df = pd.read_csv(path)\n",
    "    weather_df[\"date\"] = pd.DatetimeIndex(pd.to_datetime(weather_df.dt, unit=\"s\")) \\\n",
    "                    .tz_localize('UTC').tz_convert('America/New_York')\n",
    "    \n",
    "    weather_df.drop([\"dt\", \"dt_iso\", \"city_id\", \"city_name\", \"lat\", \"lon\", \"weather_icon\", \"grnd_level\", \\\n",
    "                 \"sea_level\", \"clouds_all\", \"weather_id\", \"rain_1h\", \"rain_3h\", \"rain_24h\", \\\n",
    "                 \"rain_today\", \"snow_1h\", \"snow_3h\", \"snow_24h\", \"snow_today\", \"wind_deg\", \"pressure\"], \n",
    "                    axis=1, inplace=True)\n",
    "    return weather_df"
   ]
  },
  {
   "cell_type": "code",
   "execution_count": 54,
   "metadata": {
    "collapsed": true
   },
   "outputs": [],
   "source": [
    "weather_df = clean_weather(\"../clean_data/weather_NY.csv\")"
   ]
  },
  {
   "cell_type": "code",
   "execution_count": 55,
   "metadata": {},
   "outputs": [
    {
     "data": {
      "text/plain": [
       "(49811, 8)"
      ]
     },
     "execution_count": 55,
     "metadata": {},
     "output_type": "execute_result"
    }
   ],
   "source": [
    "weather_df.shape"
   ]
  },
  {
   "cell_type": "code",
   "execution_count": 56,
   "metadata": {},
   "outputs": [
    {
     "data": {
      "text/plain": [
       "Counter({'Clear': 10342,\n",
       "         'Clouds': 16999,\n",
       "         'Drizzle': 1455,\n",
       "         'Dust': 22,\n",
       "         'Fog': 1746,\n",
       "         'Haze': 1188,\n",
       "         'Mist': 8203,\n",
       "         'Rain': 8347,\n",
       "         'Sand': 1,\n",
       "         'Smoke': 12,\n",
       "         'Snow': 952,\n",
       "         'Squall': 6,\n",
       "         'Thunderstorm': 538})"
      ]
     },
     "execution_count": 56,
     "metadata": {},
     "output_type": "execute_result"
    }
   ],
   "source": [
    "Counter(weather_df[\"weather_main\"].values)"
   ]
  },
  {
   "cell_type": "markdown",
   "metadata": {},
   "source": [
    "** Handling Dust, Sand, Smoke and Squall Weather Types **"
   ]
  },
  {
   "cell_type": "code",
   "execution_count": 57,
   "metadata": {
    "collapsed": true
   },
   "outputs": [],
   "source": [
    "## set these weather conditions to NaN and ffill them with previous hours data\n",
    "weather_df.loc[weather_df[\"weather_main\"].isin([\"Dust\", \"Sand\", \"Smoke\", \"Squall\"]), [\"weather_main\", \"weather_description\"]] = np.NaN\n",
    "weather_df = weather_df.fillna(method=\"ffill\")"
   ]
  },
  {
   "cell_type": "code",
   "execution_count": 58,
   "metadata": {},
   "outputs": [
    {
     "data": {
      "text/plain": [
       "(49811, 8)"
      ]
     },
     "execution_count": 58,
     "metadata": {},
     "output_type": "execute_result"
    }
   ],
   "source": [
    "weather_df.shape"
   ]
  },
  {
   "cell_type": "markdown",
   "metadata": {},
   "source": [
    "** Combining Weather Types **"
   ]
  },
  {
   "cell_type": "code",
   "execution_count": 59,
   "metadata": {},
   "outputs": [
    {
     "data": {
      "text/plain": [
       "Counter({'Clear': 10347,\n",
       "         'Clouds': 17016,\n",
       "         'Drizzle': 1455,\n",
       "         'Fog': 1747,\n",
       "         'Haze': 1197,\n",
       "         'Mist': 8207,\n",
       "         'Rain': 8349,\n",
       "         'Snow': 952,\n",
       "         'Thunderstorm': 541})"
      ]
     },
     "execution_count": 59,
     "metadata": {},
     "output_type": "execute_result"
    }
   ],
   "source": [
    "Counter(weather_df[\"weather_main\"].values)"
   ]
  },
  {
   "cell_type": "code",
   "execution_count": 60,
   "metadata": {
    "collapsed": true
   },
   "outputs": [],
   "source": [
    "# Lowercase Weather Types\n",
    "weather_df[\"weather_main\"] = weather_df.weather_main.str.lower()\n",
    "weather_df[\"weather_description\"] = weather_df.weather_description.str.lower()"
   ]
  },
  {
   "cell_type": "code",
   "execution_count": 61,
   "metadata": {
    "collapsed": true
   },
   "outputs": [],
   "source": [
    "# Handle Drizzle Weather Type\n",
    "weather_df[\"weather_main\"] = weather_df.weather_main.str.replace(\"drizzle\", \"rain\")\n",
    "weather_df[\"weather_description\"] = weather_df.weather_description.str.replace(\"drizzle\", \"light rain\")\n",
    "weather_df[\"weather_description\"] = weather_df.weather_description.str.replace(\"heavy intensity drizzle\", \"moderate rain\")\n",
    "weather_df[\"weather_description\"] = weather_df.weather_description.str.replace(\"light intensity drizzle\", \"light rain\")"
   ]
  },
  {
   "cell_type": "code",
   "execution_count": 62,
   "metadata": {
    "collapsed": true
   },
   "outputs": [],
   "source": [
    "# Handle Drizzle and Mist Weather Type - Combine to Fog\n",
    "weather_df[\"weather_main\"] = weather_df.weather_main.str.replace(\"haze\", \"fog\")\n",
    "weather_df[\"weather_description\"] = weather_df.weather_description.str.replace(\"haze\", \"fog\")\n",
    "weather_df[\"weather_main\"] = weather_df.weather_main.str.replace(\"mist\", \"fog\")\n",
    "weather_df[\"weather_description\"] = weather_df.weather_description.str.replace(\"mist\", \"fog\")"
   ]
  },
  {
   "cell_type": "code",
   "execution_count": 63,
   "metadata": {
    "collapsed": true
   },
   "outputs": [],
   "source": [
    "# Handle Rain Weather Type\n",
    "weather_df[\"weather_description\"] = weather_df.weather_description.str.replace(\"light intensity light rain\", \"light rain\")\n",
    "weather_df[\"weather_description\"] = weather_df.weather_description.str.replace(\"light intensity shower rain\", \"light rain\")\n",
    "weather_df[\"weather_description\"] = weather_df.weather_description.str.replace(\"light intensity light rain\", \"light rain\")\n",
    "weather_df[\"weather_description\"] = weather_df.weather_description.str.replace(\"heavy intensity light rain\", \"light rain\")\n",
    "weather_df[\"weather_description\"] = weather_df.weather_description.str.replace(\"shower rain\", \"light rain\")\n",
    "weather_df[\"weather_description\"] = weather_df.weather_description.str.replace(\"very heavy rain\", \"heavy intensity rain\")"
   ]
  },
  {
   "cell_type": "code",
   "execution_count": 64,
   "metadata": {
    "collapsed": true
   },
   "outputs": [],
   "source": [
    "# Handle Snow Weather Type\n",
    "weather_df[\"weather_description\"] = weather_df.weather_description.str.replace(\"light rain and snow\", \"light snow\")\n",
    "weather_df[\"weather_description\"] = weather_df.weather_description.str.replace(\"rain and snow\", \"snow\")\n",
    "weather_df[\"weather_description\"] = weather_df.weather_description.str.replace(\"sleet\", \"snow\")"
   ]
  },
  {
   "cell_type": "code",
   "execution_count": 65,
   "metadata": {
    "collapsed": true
   },
   "outputs": [],
   "source": [
    "# Handling Thunderstorm Data Type\n",
    "weather_df[\"weather_description\"] = weather_df.weather_description.str.replace(\"proximity thunderstorm with light rain\", \"proximity thunderstorm\")\n",
    "weather_df[\"weather_description\"] = weather_df.weather_description.str.replace(\"proximity thunderstorm with rain\", \"proximity thunderstorm\")\n",
    "weather_df[\"weather_description\"] = weather_df.weather_description.str.replace(\"proximity thunderstorm with light rain\", \"proximity thunderstorm\")\n",
    "weather_df[\"weather_description\"] = weather_df.weather_description.str.replace(\"thunderstorm with heavy rain\", \"thunderstorm\")\n",
    "weather_df[\"weather_description\"] = weather_df.weather_description.str.replace(\"thunderstorm with light light rain\", \"thunderstorm\")\n",
    "weather_df[\"weather_description\"] = weather_df.weather_description.str.replace(\"thunderstorm with light rain\", \"thunderstorm\")\n",
    "weather_df[\"weather_description\"] = weather_df.weather_description.str.replace(\"thunderstorm with rain\", \"thunderstorm\")\n",
    "weather_df[\"weather_description\"] = weather_df.weather_description.str.replace(\"heavy thunderstorm\", \"thunderstorm\")"
   ]
  },
  {
   "cell_type": "code",
   "execution_count": 66,
   "metadata": {
    "collapsed": true
   },
   "outputs": [],
   "source": [
    "#weather_df.groupby([\"weather_main\", \"weather_description\"]).sum()"
   ]
  },
  {
   "cell_type": "code",
   "execution_count": 67,
   "metadata": {
    "collapsed": true
   },
   "outputs": [],
   "source": [
    "# For every hour, if extreme weather type (thunderstorm, snow, rain or fog), return that, else just return the first \n",
    "# wether type reported in that hour\n",
    "\n",
    "def getExtreme_WeatherMain(vals):\n",
    "    if \"thunderstorm\" in vals.values:\n",
    "        return \"thunderstorm\"\n",
    "    elif \"snow\" in vals.values:\n",
    "        return \"snow\"\n",
    "    elif \"rain\" in vals.values:\n",
    "        return \"rain\"\n",
    "    elif \"fog\" in vals.values:\n",
    "        return \"fog\"\n",
    "    else:\n",
    "        return vals.values[0]\n",
    "    \n",
    "def getExtreme_WeatherDesc(vals):\n",
    "    if \"thunderstorm\" in vals.values:\n",
    "        return \"thunderstorm\"\n",
    "    elif \"proximity thunderstorm\" in vals.values:\n",
    "        return \"proximity thunderstorm\"\n",
    "    elif \"heavy snow\" in vals.values:\n",
    "        return \"heavy snow\"\n",
    "    elif \"snow\" in vals.values:\n",
    "        return \"snow\"\n",
    "    elif \"light snow\" in vals.values:\n",
    "        return \"light snow\"\n",
    "    elif \"freezing rain\" in vals.values:\n",
    "        return \"freezing rain\"\n",
    "    elif \"heavy intensity rain\" in vals.values:\n",
    "        return \"heavy intensity rain\"\n",
    "    elif \"moderate rain\" in vals.values:\n",
    "        return \"moderate rain\"\n",
    "    elif \"light rain\" in vals.values:\n",
    "        return \"light rain\"\n",
    "    else:\n",
    "        return vals.values[0]"
   ]
  },
  {
   "cell_type": "code",
   "execution_count": 68,
   "metadata": {
    "collapsed": true
   },
   "outputs": [],
   "source": [
    "# data_1 = {'date' : ['2014-01-01 00:00:00-05:00', '2014-01-01 00:00:00-05:00', '2014-01-01 00:00:00-05:00'],\n",
    "#           'weather_main' : [\"fog\", \"clouds\", \"snow\"],\n",
    "#           'weather_description' : [\"fog\", \"broken clouds\", \"light snow\"]}\n",
    "# df_1 = pd.DataFrame(data_1)\n",
    "# df_1\n",
    "# df_1.groupby(\"date\").agg({\"weather_main\" : lambda x: getExtreme_WeatherMain(x),\n",
    "#                           \"weather_description\" : lambda x : getExtreme_WeatherDesc(x)})"
   ]
  },
  {
   "cell_type": "code",
   "execution_count": 69,
   "metadata": {
    "collapsed": true
   },
   "outputs": [],
   "source": [
    "weather_df = weather_df.groupby(\"date\").agg({\"temp\":\"mean\", \"temp_min\":\"mean\", \"temp_max\":\"mean\", \"humidity\": \"mean\",\n",
    "                                \"wind_speed\":\"mean\", \"weather_main\" : lambda x: getExtreme_WeatherMain(x),\n",
    "                                \"weather_description\" : lambda x : getExtreme_WeatherDesc(x) })"
   ]
  },
  {
   "cell_type": "code",
   "execution_count": 70,
   "metadata": {
    "collapsed": true
   },
   "outputs": [],
   "source": [
    "weather_df = weather_df.reindex(taxi_hourly_df.index)"
   ]
  },
  {
   "cell_type": "code",
   "execution_count": 71,
   "metadata": {
    "collapsed": true
   },
   "outputs": [],
   "source": [
    "## Filled in missing hours with the data available for previous hours\n",
    "weather_df = weather_df.fillna(method = \"ffill\")"
   ]
  },
  {
   "cell_type": "code",
   "execution_count": 72,
   "metadata": {
    "collapsed": true
   },
   "outputs": [],
   "source": [
    "#weather_df[weather_df.weather_main.isnull()]"
   ]
  },
  {
   "cell_type": "markdown",
   "metadata": {},
   "source": [
    "### Merge Taxi and Weather Data"
   ]
  },
  {
   "cell_type": "code",
   "execution_count": 73,
   "metadata": {
    "collapsed": true
   },
   "outputs": [],
   "source": [
    "taxi_weather_df = pd.concat([taxi_hourly_df, weather_df], axis=1)"
   ]
  },
  {
   "cell_type": "code",
   "execution_count": 74,
   "metadata": {},
   "outputs": [
    {
     "data": {
      "text/html": [
       "<div>\n",
       "<style>\n",
       "    .dataframe thead tr:only-child th {\n",
       "        text-align: right;\n",
       "    }\n",
       "\n",
       "    .dataframe thead th {\n",
       "        text-align: left;\n",
       "    }\n",
       "\n",
       "    .dataframe tbody tr th {\n",
       "        vertical-align: top;\n",
       "    }\n",
       "</style>\n",
       "<table border=\"1\" class=\"dataframe\">\n",
       "  <thead>\n",
       "    <tr style=\"text-align: right;\">\n",
       "      <th></th>\n",
       "      <th>num_pickups</th>\n",
       "      <th>num_passengers</th>\n",
       "      <th>missing_dt</th>\n",
       "      <th>temp</th>\n",
       "      <th>temp_min</th>\n",
       "      <th>temp_max</th>\n",
       "      <th>humidity</th>\n",
       "      <th>wind_speed</th>\n",
       "      <th>weather_main</th>\n",
       "      <th>weather_description</th>\n",
       "    </tr>\n",
       "  </thead>\n",
       "  <tbody>\n",
       "    <tr>\n",
       "      <th>2014-01-01 00:00:00-05:00</th>\n",
       "      <td>107.0</td>\n",
       "      <td>210.0</td>\n",
       "      <td>False</td>\n",
       "      <td>269.27</td>\n",
       "      <td>267.59</td>\n",
       "      <td>270.93</td>\n",
       "      <td>80.0</td>\n",
       "      <td>3.0</td>\n",
       "      <td>clear</td>\n",
       "      <td>sky is clear</td>\n",
       "    </tr>\n",
       "    <tr>\n",
       "      <th>2014-01-01 01:00:00-05:00</th>\n",
       "      <td>34.0</td>\n",
       "      <td>45.0</td>\n",
       "      <td>False</td>\n",
       "      <td>268.90</td>\n",
       "      <td>267.04</td>\n",
       "      <td>270.93</td>\n",
       "      <td>80.0</td>\n",
       "      <td>2.0</td>\n",
       "      <td>clear</td>\n",
       "      <td>sky is clear</td>\n",
       "    </tr>\n",
       "    <tr>\n",
       "      <th>2014-01-01 02:00:00-05:00</th>\n",
       "      <td>34.0</td>\n",
       "      <td>70.0</td>\n",
       "      <td>False</td>\n",
       "      <td>268.48</td>\n",
       "      <td>266.48</td>\n",
       "      <td>270.37</td>\n",
       "      <td>57.0</td>\n",
       "      <td>3.0</td>\n",
       "      <td>clear</td>\n",
       "      <td>sky is clear</td>\n",
       "    </tr>\n",
       "    <tr>\n",
       "      <th>2014-01-01 03:00:00-05:00</th>\n",
       "      <td>12.0</td>\n",
       "      <td>18.0</td>\n",
       "      <td>False</td>\n",
       "      <td>268.33</td>\n",
       "      <td>265.93</td>\n",
       "      <td>270.37</td>\n",
       "      <td>80.0</td>\n",
       "      <td>3.0</td>\n",
       "      <td>clear</td>\n",
       "      <td>sky is clear</td>\n",
       "    </tr>\n",
       "    <tr>\n",
       "      <th>2014-01-01 04:00:00-05:00</th>\n",
       "      <td>25.0</td>\n",
       "      <td>37.0</td>\n",
       "      <td>False</td>\n",
       "      <td>268.10</td>\n",
       "      <td>265.37</td>\n",
       "      <td>270.37</td>\n",
       "      <td>80.0</td>\n",
       "      <td>3.0</td>\n",
       "      <td>clear</td>\n",
       "      <td>sky is clear</td>\n",
       "    </tr>\n",
       "  </tbody>\n",
       "</table>\n",
       "</div>"
      ],
      "text/plain": [
       "                           num_pickups  num_passengers missing_dt    temp  \\\n",
       "2014-01-01 00:00:00-05:00        107.0           210.0      False  269.27   \n",
       "2014-01-01 01:00:00-05:00         34.0            45.0      False  268.90   \n",
       "2014-01-01 02:00:00-05:00         34.0            70.0      False  268.48   \n",
       "2014-01-01 03:00:00-05:00         12.0            18.0      False  268.33   \n",
       "2014-01-01 04:00:00-05:00         25.0            37.0      False  268.10   \n",
       "\n",
       "                           temp_min  temp_max  humidity  wind_speed  \\\n",
       "2014-01-01 00:00:00-05:00    267.59    270.93      80.0         3.0   \n",
       "2014-01-01 01:00:00-05:00    267.04    270.93      80.0         2.0   \n",
       "2014-01-01 02:00:00-05:00    266.48    270.37      57.0         3.0   \n",
       "2014-01-01 03:00:00-05:00    265.93    270.37      80.0         3.0   \n",
       "2014-01-01 04:00:00-05:00    265.37    270.37      80.0         3.0   \n",
       "\n",
       "                          weather_main weather_description  \n",
       "2014-01-01 00:00:00-05:00        clear        sky is clear  \n",
       "2014-01-01 01:00:00-05:00        clear        sky is clear  \n",
       "2014-01-01 02:00:00-05:00        clear        sky is clear  \n",
       "2014-01-01 03:00:00-05:00        clear        sky is clear  \n",
       "2014-01-01 04:00:00-05:00        clear        sky is clear  "
      ]
     },
     "execution_count": 74,
     "metadata": {},
     "output_type": "execute_result"
    }
   ],
   "source": [
    "taxi_weather_df.head()"
   ]
  },
  {
   "cell_type": "code",
   "execution_count": 75,
   "metadata": {},
   "outputs": [
    {
     "data": {
      "text/plain": [
       "(30647, 10)"
      ]
     },
     "execution_count": 75,
     "metadata": {},
     "output_type": "execute_result"
    }
   ],
   "source": [
    "taxi_weather_df.shape"
   ]
  },
  {
   "cell_type": "markdown",
   "metadata": {},
   "source": [
    "### Passenger seat data"
   ]
  },
  {
   "cell_type": "code",
   "execution_count": 76,
   "metadata": {
    "collapsed": true
   },
   "outputs": [],
   "source": [
    "def clean_seats(path):\n",
    "    seats_per_hour = pd.read_csv(path)\n",
    "    seats_per_hour.columns = ['Time', 'Passengers']\n",
    "    seats_per_hour[\"Time\"] = pd.DatetimeIndex(seats_per_hour.Time)\n",
    "    seats_per_hour.set_index(\"Time\", inplace = True)\n",
    "\n",
    "    #To get rid of errors surrounding daylight savings time. All of taxi pickups and passenger counts are NaNs for these times\n",
    "    seats_per_hour = seats_per_hour.drop([pd.Timestamp('2014-03-09 02:00:00'), pd.Timestamp('2014-11-02 01:00:00'), pd.Timestamp('2015-03-08 02:00:00'), pd.Timestamp('2015-11-01 01:00:00'), pd.Timestamp('2016-03-13 02:00:00'), pd.Timestamp('2016-11-06 01:00:00'), pd.Timestamp('2017-03-12 02:00:00')])\n",
    "    seats_per_hour.index = seats_per_hour.index.tz_localize('America/New_York')\n",
    "    return seats_per_hour"
   ]
  },
  {
   "cell_type": "code",
   "execution_count": 77,
   "metadata": {
    "collapsed": true
   },
   "outputs": [],
   "source": [
    "seats_per_hour = clean_seats('../clean_data/passengers_per_hour_since_2014.csv')"
   ]
  },
  {
   "cell_type": "code",
   "execution_count": 78,
   "metadata": {
    "collapsed": true
   },
   "outputs": [],
   "source": [
    "seats_per_hour = seats_per_hour.reindex(taxi_weather_df.index)"
   ]
  },
  {
   "cell_type": "markdown",
   "metadata": {},
   "source": [
    "### Merging all dataframes"
   ]
  },
  {
   "cell_type": "code",
   "execution_count": 79,
   "metadata": {
    "collapsed": true
   },
   "outputs": [],
   "source": [
    "merged_df = pd.concat([taxi_weather_df, seats_per_hour], axis=1)"
   ]
  },
  {
   "cell_type": "code",
   "execution_count": 80,
   "metadata": {},
   "outputs": [
    {
     "data": {
      "text/plain": [
       "(30647, 11)"
      ]
     },
     "execution_count": 80,
     "metadata": {},
     "output_type": "execute_result"
    }
   ],
   "source": [
    "merged_df.shape"
   ]
  },
  {
   "cell_type": "code",
   "execution_count": 81,
   "metadata": {},
   "outputs": [
    {
     "data": {
      "text/html": [
       "<div>\n",
       "<style>\n",
       "    .dataframe thead tr:only-child th {\n",
       "        text-align: right;\n",
       "    }\n",
       "\n",
       "    .dataframe thead th {\n",
       "        text-align: left;\n",
       "    }\n",
       "\n",
       "    .dataframe tbody tr th {\n",
       "        vertical-align: top;\n",
       "    }\n",
       "</style>\n",
       "<table border=\"1\" class=\"dataframe\">\n",
       "  <thead>\n",
       "    <tr style=\"text-align: right;\">\n",
       "      <th></th>\n",
       "      <th>num_pickups</th>\n",
       "      <th>num_passengers</th>\n",
       "      <th>missing_dt</th>\n",
       "      <th>temp</th>\n",
       "      <th>temp_min</th>\n",
       "      <th>temp_max</th>\n",
       "      <th>humidity</th>\n",
       "      <th>wind_speed</th>\n",
       "      <th>weather_main</th>\n",
       "      <th>weather_description</th>\n",
       "      <th>Passengers</th>\n",
       "    </tr>\n",
       "  </thead>\n",
       "  <tbody>\n",
       "    <tr>\n",
       "      <th>2014-01-01 00:00:00-05:00</th>\n",
       "      <td>107.0</td>\n",
       "      <td>210.0</td>\n",
       "      <td>False</td>\n",
       "      <td>269.27</td>\n",
       "      <td>267.59</td>\n",
       "      <td>270.93</td>\n",
       "      <td>80.0</td>\n",
       "      <td>3.0</td>\n",
       "      <td>clear</td>\n",
       "      <td>sky is clear</td>\n",
       "      <td>108.0</td>\n",
       "    </tr>\n",
       "    <tr>\n",
       "      <th>2014-01-01 01:00:00-05:00</th>\n",
       "      <td>34.0</td>\n",
       "      <td>45.0</td>\n",
       "      <td>False</td>\n",
       "      <td>268.90</td>\n",
       "      <td>267.04</td>\n",
       "      <td>270.93</td>\n",
       "      <td>80.0</td>\n",
       "      <td>2.0</td>\n",
       "      <td>clear</td>\n",
       "      <td>sky is clear</td>\n",
       "      <td>0.0</td>\n",
       "    </tr>\n",
       "    <tr>\n",
       "      <th>2014-01-01 02:00:00-05:00</th>\n",
       "      <td>34.0</td>\n",
       "      <td>70.0</td>\n",
       "      <td>False</td>\n",
       "      <td>268.48</td>\n",
       "      <td>266.48</td>\n",
       "      <td>270.37</td>\n",
       "      <td>57.0</td>\n",
       "      <td>3.0</td>\n",
       "      <td>clear</td>\n",
       "      <td>sky is clear</td>\n",
       "      <td>0.0</td>\n",
       "    </tr>\n",
       "    <tr>\n",
       "      <th>2014-01-01 03:00:00-05:00</th>\n",
       "      <td>12.0</td>\n",
       "      <td>18.0</td>\n",
       "      <td>False</td>\n",
       "      <td>268.33</td>\n",
       "      <td>265.93</td>\n",
       "      <td>270.37</td>\n",
       "      <td>80.0</td>\n",
       "      <td>3.0</td>\n",
       "      <td>clear</td>\n",
       "      <td>sky is clear</td>\n",
       "      <td>0.0</td>\n",
       "    </tr>\n",
       "    <tr>\n",
       "      <th>2014-01-01 04:00:00-05:00</th>\n",
       "      <td>25.0</td>\n",
       "      <td>37.0</td>\n",
       "      <td>False</td>\n",
       "      <td>268.10</td>\n",
       "      <td>265.37</td>\n",
       "      <td>270.37</td>\n",
       "      <td>80.0</td>\n",
       "      <td>3.0</td>\n",
       "      <td>clear</td>\n",
       "      <td>sky is clear</td>\n",
       "      <td>0.0</td>\n",
       "    </tr>\n",
       "  </tbody>\n",
       "</table>\n",
       "</div>"
      ],
      "text/plain": [
       "                           num_pickups  num_passengers missing_dt    temp  \\\n",
       "2014-01-01 00:00:00-05:00        107.0           210.0      False  269.27   \n",
       "2014-01-01 01:00:00-05:00         34.0            45.0      False  268.90   \n",
       "2014-01-01 02:00:00-05:00         34.0            70.0      False  268.48   \n",
       "2014-01-01 03:00:00-05:00         12.0            18.0      False  268.33   \n",
       "2014-01-01 04:00:00-05:00         25.0            37.0      False  268.10   \n",
       "\n",
       "                           temp_min  temp_max  humidity  wind_speed  \\\n",
       "2014-01-01 00:00:00-05:00    267.59    270.93      80.0         3.0   \n",
       "2014-01-01 01:00:00-05:00    267.04    270.93      80.0         2.0   \n",
       "2014-01-01 02:00:00-05:00    266.48    270.37      57.0         3.0   \n",
       "2014-01-01 03:00:00-05:00    265.93    270.37      80.0         3.0   \n",
       "2014-01-01 04:00:00-05:00    265.37    270.37      80.0         3.0   \n",
       "\n",
       "                          weather_main weather_description  Passengers  \n",
       "2014-01-01 00:00:00-05:00        clear        sky is clear       108.0  \n",
       "2014-01-01 01:00:00-05:00        clear        sky is clear         0.0  \n",
       "2014-01-01 02:00:00-05:00        clear        sky is clear         0.0  \n",
       "2014-01-01 03:00:00-05:00        clear        sky is clear         0.0  \n",
       "2014-01-01 04:00:00-05:00        clear        sky is clear         0.0  "
      ]
     },
     "execution_count": 81,
     "metadata": {},
     "output_type": "execute_result"
    }
   ],
   "source": [
    "merged_df.head()"
   ]
  },
  {
   "cell_type": "code",
   "execution_count": 82,
   "metadata": {
    "collapsed": true
   },
   "outputs": [],
   "source": [
    "merged_df['Month'] = merged_df.index.month"
   ]
  },
  {
   "cell_type": "code",
   "execution_count": 83,
   "metadata": {
    "collapsed": true
   },
   "outputs": [],
   "source": [
    "merged_df['Hour'] = merged_df.index.hour"
   ]
  },
  {
   "cell_type": "code",
   "execution_count": 84,
   "metadata": {
    "collapsed": true
   },
   "outputs": [],
   "source": [
    "merged_df['Day'] = merged_df.index.dayofweek"
   ]
  },
  {
   "cell_type": "code",
   "execution_count": 85,
   "metadata": {},
   "outputs": [
    {
     "data": {
      "text/html": [
       "<div>\n",
       "<style>\n",
       "    .dataframe thead tr:only-child th {\n",
       "        text-align: right;\n",
       "    }\n",
       "\n",
       "    .dataframe thead th {\n",
       "        text-align: left;\n",
       "    }\n",
       "\n",
       "    .dataframe tbody tr th {\n",
       "        vertical-align: top;\n",
       "    }\n",
       "</style>\n",
       "<table border=\"1\" class=\"dataframe\">\n",
       "  <thead>\n",
       "    <tr style=\"text-align: right;\">\n",
       "      <th></th>\n",
       "      <th>num_pickups</th>\n",
       "      <th>num_passengers</th>\n",
       "      <th>missing_dt</th>\n",
       "      <th>temp</th>\n",
       "      <th>temp_min</th>\n",
       "      <th>temp_max</th>\n",
       "      <th>humidity</th>\n",
       "      <th>wind_speed</th>\n",
       "      <th>weather_main</th>\n",
       "      <th>weather_description</th>\n",
       "      <th>Passengers</th>\n",
       "      <th>Month</th>\n",
       "      <th>Hour</th>\n",
       "      <th>Day</th>\n",
       "    </tr>\n",
       "  </thead>\n",
       "  <tbody>\n",
       "    <tr>\n",
       "      <th>2014-01-01 00:00:00-05:00</th>\n",
       "      <td>107.0</td>\n",
       "      <td>210.0</td>\n",
       "      <td>False</td>\n",
       "      <td>269.27</td>\n",
       "      <td>267.59</td>\n",
       "      <td>270.93</td>\n",
       "      <td>80.0</td>\n",
       "      <td>3.0</td>\n",
       "      <td>clear</td>\n",
       "      <td>sky is clear</td>\n",
       "      <td>108.0</td>\n",
       "      <td>1</td>\n",
       "      <td>0</td>\n",
       "      <td>2</td>\n",
       "    </tr>\n",
       "    <tr>\n",
       "      <th>2014-01-01 01:00:00-05:00</th>\n",
       "      <td>34.0</td>\n",
       "      <td>45.0</td>\n",
       "      <td>False</td>\n",
       "      <td>268.90</td>\n",
       "      <td>267.04</td>\n",
       "      <td>270.93</td>\n",
       "      <td>80.0</td>\n",
       "      <td>2.0</td>\n",
       "      <td>clear</td>\n",
       "      <td>sky is clear</td>\n",
       "      <td>0.0</td>\n",
       "      <td>1</td>\n",
       "      <td>1</td>\n",
       "      <td>2</td>\n",
       "    </tr>\n",
       "    <tr>\n",
       "      <th>2014-01-01 02:00:00-05:00</th>\n",
       "      <td>34.0</td>\n",
       "      <td>70.0</td>\n",
       "      <td>False</td>\n",
       "      <td>268.48</td>\n",
       "      <td>266.48</td>\n",
       "      <td>270.37</td>\n",
       "      <td>57.0</td>\n",
       "      <td>3.0</td>\n",
       "      <td>clear</td>\n",
       "      <td>sky is clear</td>\n",
       "      <td>0.0</td>\n",
       "      <td>1</td>\n",
       "      <td>2</td>\n",
       "      <td>2</td>\n",
       "    </tr>\n",
       "    <tr>\n",
       "      <th>2014-01-01 03:00:00-05:00</th>\n",
       "      <td>12.0</td>\n",
       "      <td>18.0</td>\n",
       "      <td>False</td>\n",
       "      <td>268.33</td>\n",
       "      <td>265.93</td>\n",
       "      <td>270.37</td>\n",
       "      <td>80.0</td>\n",
       "      <td>3.0</td>\n",
       "      <td>clear</td>\n",
       "      <td>sky is clear</td>\n",
       "      <td>0.0</td>\n",
       "      <td>1</td>\n",
       "      <td>3</td>\n",
       "      <td>2</td>\n",
       "    </tr>\n",
       "    <tr>\n",
       "      <th>2014-01-01 04:00:00-05:00</th>\n",
       "      <td>25.0</td>\n",
       "      <td>37.0</td>\n",
       "      <td>False</td>\n",
       "      <td>268.10</td>\n",
       "      <td>265.37</td>\n",
       "      <td>270.37</td>\n",
       "      <td>80.0</td>\n",
       "      <td>3.0</td>\n",
       "      <td>clear</td>\n",
       "      <td>sky is clear</td>\n",
       "      <td>0.0</td>\n",
       "      <td>1</td>\n",
       "      <td>4</td>\n",
       "      <td>2</td>\n",
       "    </tr>\n",
       "  </tbody>\n",
       "</table>\n",
       "</div>"
      ],
      "text/plain": [
       "                           num_pickups  num_passengers missing_dt    temp  \\\n",
       "2014-01-01 00:00:00-05:00        107.0           210.0      False  269.27   \n",
       "2014-01-01 01:00:00-05:00         34.0            45.0      False  268.90   \n",
       "2014-01-01 02:00:00-05:00         34.0            70.0      False  268.48   \n",
       "2014-01-01 03:00:00-05:00         12.0            18.0      False  268.33   \n",
       "2014-01-01 04:00:00-05:00         25.0            37.0      False  268.10   \n",
       "\n",
       "                           temp_min  temp_max  humidity  wind_speed  \\\n",
       "2014-01-01 00:00:00-05:00    267.59    270.93      80.0         3.0   \n",
       "2014-01-01 01:00:00-05:00    267.04    270.93      80.0         2.0   \n",
       "2014-01-01 02:00:00-05:00    266.48    270.37      57.0         3.0   \n",
       "2014-01-01 03:00:00-05:00    265.93    270.37      80.0         3.0   \n",
       "2014-01-01 04:00:00-05:00    265.37    270.37      80.0         3.0   \n",
       "\n",
       "                          weather_main weather_description  Passengers  Month  \\\n",
       "2014-01-01 00:00:00-05:00        clear        sky is clear       108.0      1   \n",
       "2014-01-01 01:00:00-05:00        clear        sky is clear         0.0      1   \n",
       "2014-01-01 02:00:00-05:00        clear        sky is clear         0.0      1   \n",
       "2014-01-01 03:00:00-05:00        clear        sky is clear         0.0      1   \n",
       "2014-01-01 04:00:00-05:00        clear        sky is clear         0.0      1   \n",
       "\n",
       "                           Hour  Day  \n",
       "2014-01-01 00:00:00-05:00     0    2  \n",
       "2014-01-01 01:00:00-05:00     1    2  \n",
       "2014-01-01 02:00:00-05:00     2    2  \n",
       "2014-01-01 03:00:00-05:00     3    2  \n",
       "2014-01-01 04:00:00-05:00     4    2  "
      ]
     },
     "execution_count": 85,
     "metadata": {},
     "output_type": "execute_result"
    }
   ],
   "source": [
    "merged_df.head()"
   ]
  },
  {
   "cell_type": "markdown",
   "metadata": {},
   "source": [
    "### Adding Federal Calendar Holidays"
   ]
  },
  {
   "cell_type": "code",
   "execution_count": 86,
   "metadata": {
    "collapsed": true
   },
   "outputs": [],
   "source": [
    "dr = pd.to_datetime(pd.to_datetime(merged_df.index.date))\n",
    "\n",
    "cal = calendar()\n",
    "holidays = cal.holidays(start=dr.min(), end=dr.max())\n",
    "\n",
    "merged_df['holiday'] = dr.isin(holidays)"
   ]
  },
  {
   "cell_type": "code",
   "execution_count": 89,
   "metadata": {
    "collapsed": true
   },
   "outputs": [],
   "source": [
    "merged_df.to_csv(\"../clean_data/FinalData_for_Models.csv\")"
   ]
  },
  {
   "cell_type": "markdown",
   "metadata": {},
   "source": [
    "---"
   ]
  }
 ],
 "metadata": {
  "anaconda-cloud": {},
  "kernelspec": {
   "display_name": "Python 3",
   "language": "python",
   "name": "python3"
  },
  "language_info": {
   "codemirror_mode": {
    "name": "ipython",
    "version": 3
   },
   "file_extension": ".py",
   "mimetype": "text/x-python",
   "name": "python",
   "nbconvert_exporter": "python",
   "pygments_lexer": "ipython3",
   "version": "3.6.2"
  }
 },
 "nbformat": 4,
 "nbformat_minor": 1
}
