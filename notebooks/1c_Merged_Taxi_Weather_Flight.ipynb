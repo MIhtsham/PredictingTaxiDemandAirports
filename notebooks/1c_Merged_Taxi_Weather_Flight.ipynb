{
 "cells": [
  {
   "cell_type": "markdown",
   "metadata": {},
   "source": [
    "## Merging hourly taxi, weather, and incoming passenger data for 2017"
   ]
  },
  {
   "cell_type": "code",
   "execution_count": 1,
   "metadata": {},
   "outputs": [],
   "source": [
    "import numpy as np\n",
    "from tqdm import tqdm\n",
    "import pandas as pd\n",
    "from collections import Counter\n",
    "import matplotlib.pyplot as plt\n",
    "from pandas.tseries.holiday import USFederalHolidayCalendar as calendar\n",
    "%matplotlib inline"
   ]
  },
  {
   "cell_type": "markdown",
   "metadata": {},
   "source": [
    "### Reading Aggregated Taxi Data"
   ]
  },
  {
   "cell_type": "code",
   "execution_count": 2,
   "metadata": {},
   "outputs": [],
   "source": [
    "taxi_hourly_df = pd.read_csv('../clean_data/Aggregated_TaxiData_14-17.csv', index_col=0)"
   ]
  },
  {
   "cell_type": "code",
   "execution_count": 3,
   "metadata": {},
   "outputs": [
    {
     "data": {
      "text/html": [
       "<div>\n",
       "<style scoped>\n",
       "    .dataframe tbody tr th:only-of-type {\n",
       "        vertical-align: middle;\n",
       "    }\n",
       "\n",
       "    .dataframe tbody tr th {\n",
       "        vertical-align: top;\n",
       "    }\n",
       "\n",
       "    .dataframe thead th {\n",
       "        text-align: right;\n",
       "    }\n",
       "</style>\n",
       "<table border=\"1\" class=\"dataframe\">\n",
       "  <thead>\n",
       "    <tr style=\"text-align: right;\">\n",
       "      <th></th>\n",
       "      <th>num_pickups</th>\n",
       "      <th>num_passengers</th>\n",
       "    </tr>\n",
       "    <tr>\n",
       "      <th>tpep_pickup_datetime</th>\n",
       "      <th></th>\n",
       "      <th></th>\n",
       "    </tr>\n",
       "  </thead>\n",
       "  <tbody>\n",
       "    <tr>\n",
       "      <th>2014-01-01 00:00:00</th>\n",
       "      <td>107</td>\n",
       "      <td>210.0</td>\n",
       "    </tr>\n",
       "    <tr>\n",
       "      <th>2014-01-01 01:00:00</th>\n",
       "      <td>34</td>\n",
       "      <td>45.0</td>\n",
       "    </tr>\n",
       "    <tr>\n",
       "      <th>2014-01-01 02:00:00</th>\n",
       "      <td>34</td>\n",
       "      <td>70.0</td>\n",
       "    </tr>\n",
       "    <tr>\n",
       "      <th>2014-01-01 03:00:00</th>\n",
       "      <td>12</td>\n",
       "      <td>18.0</td>\n",
       "    </tr>\n",
       "    <tr>\n",
       "      <th>2014-01-01 04:00:00</th>\n",
       "      <td>25</td>\n",
       "      <td>37.0</td>\n",
       "    </tr>\n",
       "  </tbody>\n",
       "</table>\n",
       "</div>"
      ],
      "text/plain": [
       "                      num_pickups  num_passengers\n",
       "tpep_pickup_datetime                             \n",
       "2014-01-01 00:00:00           107           210.0\n",
       "2014-01-01 01:00:00            34            45.0\n",
       "2014-01-01 02:00:00            34            70.0\n",
       "2014-01-01 03:00:00            12            18.0\n",
       "2014-01-01 04:00:00            25            37.0"
      ]
     },
     "execution_count": 3,
     "metadata": {},
     "output_type": "execute_result"
    }
   ],
   "source": [
    "taxi_hourly_df.head()"
   ]
  },
  {
   "cell_type": "code",
   "execution_count": 4,
   "metadata": {},
   "outputs": [
    {
     "data": {
      "text/plain": [
       "(26009, 2)"
      ]
     },
     "execution_count": 4,
     "metadata": {},
     "output_type": "execute_result"
    }
   ],
   "source": [
    "taxi_hourly_df.shape"
   ]
  },
  {
   "cell_type": "code",
   "execution_count": 5,
   "metadata": {},
   "outputs": [],
   "source": [
    "taxi_hourly_df.index = pd.DatetimeIndex(taxi_hourly_df.index)"
   ]
  },
  {
   "cell_type": "code",
   "execution_count": 6,
   "metadata": {},
   "outputs": [],
   "source": [
    "taxi_hourly_df = taxi_hourly_df.drop([pd.Timestamp('2014-11-02 01:00:00'), pd.Timestamp('2015-11-01 01:00:00'), pd.Timestamp('2017-03-12 02:00:00')])#, pd.Timestamp('2017-03-12 02:00:00')])\n",
    "taxi_hourly_df.index = taxi_hourly_df.index.tz_localize('America/New_York')"
   ]
  },
  {
   "cell_type": "code",
   "execution_count": 7,
   "metadata": {},
   "outputs": [
    {
     "data": {
      "text/plain": [
       "(26006, 2)"
      ]
     },
     "execution_count": 7,
     "metadata": {},
     "output_type": "execute_result"
    }
   ],
   "source": [
    "taxi_hourly_df.shape"
   ]
  },
  {
   "cell_type": "markdown",
   "metadata": {},
   "source": [
    "### Checking Missing Hours from Data and adding them to Datetimeindex. Also created a binary column as Indicator"
   ]
  },
  {
   "cell_type": "code",
   "execution_count": 8,
   "metadata": {},
   "outputs": [],
   "source": [
    "dateindex = pd.date_range(taxi_hourly_df.index.min(), taxi_hourly_df.index.max(), freq=\"1H\")"
   ]
  },
  {
   "cell_type": "code",
   "execution_count": 9,
   "metadata": {},
   "outputs": [],
   "source": [
    "taxi_hourly_df = taxi_hourly_df.reindex(dateindex)"
   ]
  },
  {
   "cell_type": "code",
   "execution_count": 10,
   "metadata": {},
   "outputs": [
    {
     "data": {
      "text/html": [
       "<div>\n",
       "<style scoped>\n",
       "    .dataframe tbody tr th:only-of-type {\n",
       "        vertical-align: middle;\n",
       "    }\n",
       "\n",
       "    .dataframe tbody tr th {\n",
       "        vertical-align: top;\n",
       "    }\n",
       "\n",
       "    .dataframe thead th {\n",
       "        text-align: right;\n",
       "    }\n",
       "</style>\n",
       "<table border=\"1\" class=\"dataframe\">\n",
       "  <thead>\n",
       "    <tr style=\"text-align: right;\">\n",
       "      <th></th>\n",
       "      <th>num_pickups</th>\n",
       "      <th>num_passengers</th>\n",
       "    </tr>\n",
       "  </thead>\n",
       "  <tbody>\n",
       "    <tr>\n",
       "      <th>2014-01-01 00:00:00-05:00</th>\n",
       "      <td>107.0</td>\n",
       "      <td>210.0</td>\n",
       "    </tr>\n",
       "    <tr>\n",
       "      <th>2014-01-01 01:00:00-05:00</th>\n",
       "      <td>34.0</td>\n",
       "      <td>45.0</td>\n",
       "    </tr>\n",
       "    <tr>\n",
       "      <th>2014-01-01 02:00:00-05:00</th>\n",
       "      <td>34.0</td>\n",
       "      <td>70.0</td>\n",
       "    </tr>\n",
       "    <tr>\n",
       "      <th>2014-01-01 03:00:00-05:00</th>\n",
       "      <td>12.0</td>\n",
       "      <td>18.0</td>\n",
       "    </tr>\n",
       "    <tr>\n",
       "      <th>2014-01-01 04:00:00-05:00</th>\n",
       "      <td>25.0</td>\n",
       "      <td>37.0</td>\n",
       "    </tr>\n",
       "  </tbody>\n",
       "</table>\n",
       "</div>"
      ],
      "text/plain": [
       "                           num_pickups  num_passengers\n",
       "2014-01-01 00:00:00-05:00        107.0           210.0\n",
       "2014-01-01 01:00:00-05:00         34.0            45.0\n",
       "2014-01-01 02:00:00-05:00         34.0            70.0\n",
       "2014-01-01 03:00:00-05:00         12.0            18.0\n",
       "2014-01-01 04:00:00-05:00         25.0            37.0"
      ]
     },
     "execution_count": 10,
     "metadata": {},
     "output_type": "execute_result"
    }
   ],
   "source": [
    "taxi_hourly_df.head()"
   ]
  },
  {
   "cell_type": "code",
   "execution_count": 11,
   "metadata": {},
   "outputs": [],
   "source": [
    "taxi_hourly_df[\"missing_dt\"] = np.NaN"
   ]
  },
  {
   "cell_type": "code",
   "execution_count": 12,
   "metadata": {},
   "outputs": [],
   "source": [
    "taxi_hourly_df.loc[taxi_hourly_df.isnull().all(1) == True, \"missing_dt\"] = True\n",
    "taxi_hourly_df.loc[~(taxi_hourly_df.missing_dt == True), \"missing_dt\"] = False"
   ]
  },
  {
   "cell_type": "markdown",
   "metadata": {},
   "source": [
    "### Preprocessing Missing Values"
   ]
  },
  {
   "cell_type": "markdown",
   "metadata": {},
   "source": [
    "** a) Missing Hour Values occuring before the 6 months missing data in 2016 **"
   ]
  },
  {
   "cell_type": "code",
   "execution_count": 13,
   "metadata": {},
   "outputs": [],
   "source": [
    "missing_hours = taxi_hourly_df[(taxi_hourly_df.missing_dt == True) & (taxi_hourly_df.index < \"2016-07-01\")].index.hour"
   ]
  },
  {
   "cell_type": "code",
   "execution_count": 14,
   "metadata": {},
   "outputs": [
    {
     "data": {
      "text/plain": [
       "<matplotlib.axes._subplots.AxesSubplot at 0x10d2d4780>"
      ]
     },
     "execution_count": 14,
     "metadata": {},
     "output_type": "execute_result"
    },
    {
     "data": {
      "image/png": "[encoded data removed]",
      "text/plain": [
       "<matplotlib.figure.Figure at 0x10d2e2048>"
      ]
     },
     "metadata": {},
     "output_type": "display_data"
    }
   ],
   "source": [
    "pd.Series(Counter(missing_hours)).plot(kind=\"bar\")"
   ]
  },
  {
   "cell_type": "code",
   "execution_count": 15,
   "metadata": {},
   "outputs": [
    {
     "data": {
      "text/html": [
       "<div>\n",
       "<style scoped>\n",
       "    .dataframe tbody tr th:only-of-type {\n",
       "        vertical-align: middle;\n",
       "    }\n",
       "\n",
       "    .dataframe tbody tr th {\n",
       "        vertical-align: top;\n",
       "    }\n",
       "\n",
       "    .dataframe thead th {\n",
       "        text-align: right;\n",
       "    }\n",
       "</style>\n",
       "<table border=\"1\" class=\"dataframe\">\n",
       "  <thead>\n",
       "    <tr style=\"text-align: right;\">\n",
       "      <th></th>\n",
       "      <th>num_pickups</th>\n",
       "      <th>num_passengers</th>\n",
       "      <th>missing_dt</th>\n",
       "    </tr>\n",
       "  </thead>\n",
       "  <tbody>\n",
       "    <tr>\n",
       "      <th>2014-01-01 00:00:00-05:00</th>\n",
       "      <td>107.0</td>\n",
       "      <td>210.0</td>\n",
       "      <td>False</td>\n",
       "    </tr>\n",
       "    <tr>\n",
       "      <th>2014-01-01 01:00:00-05:00</th>\n",
       "      <td>34.0</td>\n",
       "      <td>45.0</td>\n",
       "      <td>False</td>\n",
       "    </tr>\n",
       "    <tr>\n",
       "      <th>2014-01-01 02:00:00-05:00</th>\n",
       "      <td>34.0</td>\n",
       "      <td>70.0</td>\n",
       "      <td>False</td>\n",
       "    </tr>\n",
       "    <tr>\n",
       "      <th>2014-01-01 03:00:00-05:00</th>\n",
       "      <td>12.0</td>\n",
       "      <td>18.0</td>\n",
       "      <td>False</td>\n",
       "    </tr>\n",
       "    <tr>\n",
       "      <th>2014-01-01 04:00:00-05:00</th>\n",
       "      <td>25.0</td>\n",
       "      <td>37.0</td>\n",
       "      <td>False</td>\n",
       "    </tr>\n",
       "  </tbody>\n",
       "</table>\n",
       "</div>"
      ],
      "text/plain": [
       "                           num_pickups  num_passengers  missing_dt\n",
       "2014-01-01 00:00:00-05:00        107.0           210.0       False\n",
       "2014-01-01 01:00:00-05:00         34.0            45.0       False\n",
       "2014-01-01 02:00:00-05:00         34.0            70.0       False\n",
       "2014-01-01 03:00:00-05:00         12.0            18.0       False\n",
       "2014-01-01 04:00:00-05:00         25.0            37.0       False"
      ]
     },
     "execution_count": 15,
     "metadata": {},
     "output_type": "execute_result"
    }
   ],
   "source": [
    "taxi_hourly_df.head()"
   ]
  },
  {
   "cell_type": "code",
   "execution_count": 16,
   "metadata": {},
   "outputs": [],
   "source": [
    "index_missin_hr0to6_before2016 = taxi_hourly_df.loc[(taxi_hourly_df.missing_dt == True) & \n",
    "                                                    (taxi_hourly_df.index < \"2016-07-01\") &\n",
    "                                                    (taxi_hourly_df.index.hour.isin((0, 1, 2, 3, 4, 5, 6))), :\n",
    "                                                   ].index"
   ]
  },
  {
   "cell_type": "code",
   "execution_count": 17,
   "metadata": {},
   "outputs": [
    {
     "data": {
      "text/plain": [
       "(210,)"
      ]
     },
     "execution_count": 17,
     "metadata": {},
     "output_type": "execute_result"
    }
   ],
   "source": [
    "index_missin_hr0to6_before2016.shape"
   ]
  },
  {
   "cell_type": "code",
   "execution_count": 18,
   "metadata": {},
   "outputs": [],
   "source": [
    "taxi_hourly_df.loc[index_missin_hr0to6_before2016, \"num_pickups\"] = 0\n",
    "taxi_hourly_df.loc[index_missin_hr0to6_before2016, \"num_passengers\"] = 0\n",
    "taxi_hourly_df.loc[index_missin_hr0to6_before2016, \"missing_dt\"] = False"
   ]
  },
  {
   "cell_type": "code",
   "execution_count": 19,
   "metadata": {},
   "outputs": [
    {
     "data": {
      "text/html": [
       "<div>\n",
       "<style scoped>\n",
       "    .dataframe tbody tr th:only-of-type {\n",
       "        vertical-align: middle;\n",
       "    }\n",
       "\n",
       "    .dataframe tbody tr th {\n",
       "        vertical-align: top;\n",
       "    }\n",
       "\n",
       "    .dataframe thead th {\n",
       "        text-align: right;\n",
       "    }\n",
       "</style>\n",
       "<table border=\"1\" class=\"dataframe\">\n",
       "  <thead>\n",
       "    <tr style=\"text-align: right;\">\n",
       "      <th></th>\n",
       "      <th>num_pickups</th>\n",
       "      <th>num_passengers</th>\n",
       "      <th>missing_dt</th>\n",
       "    </tr>\n",
       "  </thead>\n",
       "  <tbody>\n",
       "  </tbody>\n",
       "</table>\n",
       "</div>"
      ],
      "text/plain": [
       "Empty DataFrame\n",
       "Columns: [num_pickups, num_passengers, missing_dt]\n",
       "Index: []"
      ]
     },
     "execution_count": 19,
     "metadata": {},
     "output_type": "execute_result"
    }
   ],
   "source": [
    "taxi_hourly_df.loc[(taxi_hourly_df.missing_dt == True) & \n",
    "                    (taxi_hourly_df.index < \"2016-07-01\") &\n",
    "                    (taxi_hourly_df.index.hour.isin((0, 1, 2, 3, 4, 5, 6))) &\n",
    "                    (taxi_hourly_df.num_pickups.isnull()) &\n",
    "                    (taxi_hourly_df.num_passengers.isnull()), :\n",
    "                   ]"
   ]
  },
  {
   "cell_type": "code",
   "execution_count": 20,
   "metadata": {},
   "outputs": [
    {
     "data": {
      "text/plain": [
       "(30647, 3)"
      ]
     },
     "execution_count": 20,
     "metadata": {},
     "output_type": "execute_result"
    }
   ],
   "source": [
    "taxi_hourly_df.shape"
   ]
  },
  {
   "cell_type": "markdown",
   "metadata": {},
   "source": [
    "** b) Missing Hour Values occuring after the 6 months missing data in 2016 **"
   ]
  },
  {
   "cell_type": "code",
   "execution_count": 21,
   "metadata": {},
   "outputs": [],
   "source": [
    "index_missin_hrafter6_before2016 = taxi_hourly_df.loc[(taxi_hourly_df.missing_dt == True) & \n",
    "                                                    (taxi_hourly_df.index < \"2016-07-01\") &\n",
    "                                                    (taxi_hourly_df.index.hour > 6), :\n",
    "                                                   ].index"
   ]
  },
  {
   "cell_type": "code",
   "execution_count": 22,
   "metadata": {},
   "outputs": [
    {
     "data": {
      "text/plain": [
       "DatetimeIndex(['2015-01-26 22:00:00-05:00', '2015-01-26 23:00:00-05:00',\n",
       "               '2015-01-27 07:00:00-05:00', '2016-01-23 07:00:00-05:00',\n",
       "               '2016-01-23 09:00:00-05:00', '2016-01-23 15:00:00-05:00',\n",
       "               '2016-01-23 16:00:00-05:00', '2016-01-23 17:00:00-05:00',\n",
       "               '2016-01-23 18:00:00-05:00', '2016-01-23 19:00:00-05:00',\n",
       "               '2016-01-23 20:00:00-05:00', '2016-01-23 21:00:00-05:00',\n",
       "               '2016-01-23 22:00:00-05:00', '2016-01-23 23:00:00-05:00'],\n",
       "              dtype='datetime64[ns, America/New_York]', freq=None)"
      ]
     },
     "execution_count": 22,
     "metadata": {},
     "output_type": "execute_result"
    }
   ],
   "source": [
    "index_missin_hrafter6_before2016"
   ]
  },
  {
   "cell_type": "code",
   "execution_count": 23,
   "metadata": {},
   "outputs": [],
   "source": [
    "groupby_imputation = taxi_hourly_df.groupby([taxi_hourly_df.index.month, taxi_hourly_df.index.dayofweek, taxi_hourly_df.index.hour]).mean()"
   ]
  },
  {
   "cell_type": "code",
   "execution_count": 24,
   "metadata": {},
   "outputs": [
    {
     "data": {
      "text/html": [
       "<div>\n",
       "<style scoped>\n",
       "    .dataframe tbody tr th:only-of-type {\n",
       "        vertical-align: middle;\n",
       "    }\n",
       "\n",
       "    .dataframe tbody tr th {\n",
       "        vertical-align: top;\n",
       "    }\n",
       "\n",
       "    .dataframe thead th {\n",
       "        text-align: right;\n",
       "    }\n",
       "</style>\n",
       "<table border=\"1\" class=\"dataframe\">\n",
       "  <thead>\n",
       "    <tr style=\"text-align: right;\">\n",
       "      <th></th>\n",
       "      <th></th>\n",
       "      <th></th>\n",
       "      <th>num_pickups</th>\n",
       "      <th>num_passengers</th>\n",
       "      <th>missing_dt</th>\n",
       "    </tr>\n",
       "  </thead>\n",
       "  <tbody>\n",
       "    <tr>\n",
       "      <th rowspan=\"5\" valign=\"top\">1</th>\n",
       "      <th rowspan=\"5\" valign=\"top\">0</th>\n",
       "      <th>0</th>\n",
       "      <td>310.941176</td>\n",
       "      <td>511.058824</td>\n",
       "      <td>0.0</td>\n",
       "    </tr>\n",
       "    <tr>\n",
       "      <th>1</th>\n",
       "      <td>77.352941</td>\n",
       "      <td>130.941176</td>\n",
       "      <td>0.0</td>\n",
       "    </tr>\n",
       "    <tr>\n",
       "      <th>2</th>\n",
       "      <td>39.000000</td>\n",
       "      <td>68.800000</td>\n",
       "      <td>0.0</td>\n",
       "    </tr>\n",
       "    <tr>\n",
       "      <th>3</th>\n",
       "      <td>19.176471</td>\n",
       "      <td>32.600000</td>\n",
       "      <td>0.0</td>\n",
       "    </tr>\n",
       "    <tr>\n",
       "      <th>4</th>\n",
       "      <td>12.352941</td>\n",
       "      <td>17.588235</td>\n",
       "      <td>0.0</td>\n",
       "    </tr>\n",
       "  </tbody>\n",
       "</table>\n",
       "</div>"
      ],
      "text/plain": [
       "       num_pickups  num_passengers  missing_dt\n",
       "1 0 0   310.941176      511.058824         0.0\n",
       "    1    77.352941      130.941176         0.0\n",
       "    2    39.000000       68.800000         0.0\n",
       "    3    19.176471       32.600000         0.0\n",
       "    4    12.352941       17.588235         0.0"
      ]
     },
     "execution_count": 24,
     "metadata": {},
     "output_type": "execute_result"
    }
   ],
   "source": [
    "groupby_imputation.head()"
   ]
  },
  {
   "cell_type": "code",
   "execution_count": 25,
   "metadata": {},
   "outputs": [],
   "source": [
    "idxslice = pd.IndexSlice"
   ]
  },
  {
   "cell_type": "code",
   "execution_count": 26,
   "metadata": {},
   "outputs": [],
   "source": [
    "# groupby_imputation.loc[idxslice[index_missin_hrafter6_before2016[-1].month, \n",
    "#                            index_missin_hrafter6_before2016[-1].dayofweek, \n",
    "#                            index_missin_hrafter6_before2016[-1].hour], :]"
   ]
  },
  {
   "cell_type": "code",
   "execution_count": 27,
   "metadata": {},
   "outputs": [],
   "source": [
    "for idx in index_missin_hrafter6_before2016:\n",
    "    taxi_hourly_df.loc[idx, \"num_pickups\"] = groupby_imputation.loc[idxslice[idx.month, idx.dayofweek, idx.hour], \n",
    "                                                                    \"num_pickups\"]\n",
    "    taxi_hourly_df.loc[idx, \"num_passengers\"] = groupby_imputation.loc[idxslice[idx.month, idx.dayofweek, idx.hour], \n",
    "                                                                    \"num_passengers\"]"
   ]
  },
  {
   "cell_type": "code",
   "execution_count": 28,
   "metadata": {},
   "outputs": [
    {
     "data": {
      "text/html": [
       "<div>\n",
       "<style scoped>\n",
       "    .dataframe tbody tr th:only-of-type {\n",
       "        vertical-align: middle;\n",
       "    }\n",
       "\n",
       "    .dataframe tbody tr th {\n",
       "        vertical-align: top;\n",
       "    }\n",
       "\n",
       "    .dataframe thead th {\n",
       "        text-align: right;\n",
       "    }\n",
       "</style>\n",
       "<table border=\"1\" class=\"dataframe\">\n",
       "  <thead>\n",
       "    <tr style=\"text-align: right;\">\n",
       "      <th></th>\n",
       "      <th>num_pickups</th>\n",
       "      <th>num_passengers</th>\n",
       "      <th>missing_dt</th>\n",
       "    </tr>\n",
       "  </thead>\n",
       "  <tbody>\n",
       "    <tr>\n",
       "      <th>2015-01-26 22:00:00-05:00</th>\n",
       "      <td>662.562500</td>\n",
       "      <td>1119.625000</td>\n",
       "      <td>True</td>\n",
       "    </tr>\n",
       "    <tr>\n",
       "      <th>2015-01-26 23:00:00-05:00</th>\n",
       "      <td>577.562500</td>\n",
       "      <td>960.000000</td>\n",
       "      <td>True</td>\n",
       "    </tr>\n",
       "    <tr>\n",
       "      <th>2015-01-27 07:00:00-05:00</th>\n",
       "      <td>253.250000</td>\n",
       "      <td>417.500000</td>\n",
       "      <td>True</td>\n",
       "    </tr>\n",
       "    <tr>\n",
       "      <th>2016-01-23 07:00:00-05:00</th>\n",
       "      <td>36.235294</td>\n",
       "      <td>60.705882</td>\n",
       "      <td>True</td>\n",
       "    </tr>\n",
       "    <tr>\n",
       "      <th>2016-01-23 09:00:00-05:00</th>\n",
       "      <td>189.294118</td>\n",
       "      <td>330.529412</td>\n",
       "      <td>True</td>\n",
       "    </tr>\n",
       "    <tr>\n",
       "      <th>2016-01-23 15:00:00-05:00</th>\n",
       "      <td>358.235294</td>\n",
       "      <td>618.705882</td>\n",
       "      <td>True</td>\n",
       "    </tr>\n",
       "    <tr>\n",
       "      <th>2016-01-23 16:00:00-05:00</th>\n",
       "      <td>316.235294</td>\n",
       "      <td>555.882353</td>\n",
       "      <td>True</td>\n",
       "    </tr>\n",
       "    <tr>\n",
       "      <th>2016-01-23 17:00:00-05:00</th>\n",
       "      <td>368.470588</td>\n",
       "      <td>646.235294</td>\n",
       "      <td>True</td>\n",
       "    </tr>\n",
       "    <tr>\n",
       "      <th>2016-01-23 18:00:00-05:00</th>\n",
       "      <td>318.941176</td>\n",
       "      <td>560.764706</td>\n",
       "      <td>True</td>\n",
       "    </tr>\n",
       "    <tr>\n",
       "      <th>2016-01-23 19:00:00-05:00</th>\n",
       "      <td>305.941176</td>\n",
       "      <td>538.647059</td>\n",
       "      <td>True</td>\n",
       "    </tr>\n",
       "    <tr>\n",
       "      <th>2016-01-23 20:00:00-05:00</th>\n",
       "      <td>278.411765</td>\n",
       "      <td>486.882353</td>\n",
       "      <td>True</td>\n",
       "    </tr>\n",
       "    <tr>\n",
       "      <th>2016-01-23 21:00:00-05:00</th>\n",
       "      <td>266.176471</td>\n",
       "      <td>458.352941</td>\n",
       "      <td>True</td>\n",
       "    </tr>\n",
       "    <tr>\n",
       "      <th>2016-01-23 22:00:00-05:00</th>\n",
       "      <td>304.588235</td>\n",
       "      <td>527.294118</td>\n",
       "      <td>True</td>\n",
       "    </tr>\n",
       "    <tr>\n",
       "      <th>2016-01-23 23:00:00-05:00</th>\n",
       "      <td>310.705882</td>\n",
       "      <td>535.000000</td>\n",
       "      <td>True</td>\n",
       "    </tr>\n",
       "  </tbody>\n",
       "</table>\n",
       "</div>"
      ],
      "text/plain": [
       "                           num_pickups  num_passengers  missing_dt\n",
       "2015-01-26 22:00:00-05:00   662.562500     1119.625000        True\n",
       "2015-01-26 23:00:00-05:00   577.562500      960.000000        True\n",
       "2015-01-27 07:00:00-05:00   253.250000      417.500000        True\n",
       "2016-01-23 07:00:00-05:00    36.235294       60.705882        True\n",
       "2016-01-23 09:00:00-05:00   189.294118      330.529412        True\n",
       "2016-01-23 15:00:00-05:00   358.235294      618.705882        True\n",
       "2016-01-23 16:00:00-05:00   316.235294      555.882353        True\n",
       "2016-01-23 17:00:00-05:00   368.470588      646.235294        True\n",
       "2016-01-23 18:00:00-05:00   318.941176      560.764706        True\n",
       "2016-01-23 19:00:00-05:00   305.941176      538.647059        True\n",
       "2016-01-23 20:00:00-05:00   278.411765      486.882353        True\n",
       "2016-01-23 21:00:00-05:00   266.176471      458.352941        True\n",
       "2016-01-23 22:00:00-05:00   304.588235      527.294118        True\n",
       "2016-01-23 23:00:00-05:00   310.705882      535.000000        True"
      ]
     },
     "execution_count": 28,
     "metadata": {},
     "output_type": "execute_result"
    }
   ],
   "source": [
    "taxi_hourly_df.loc[index_missin_hrafter6_before2016, :] "
   ]
  },
  {
   "cell_type": "markdown",
   "metadata": {},
   "source": [
    "** c) Final check for missing values **"
   ]
  },
  {
   "cell_type": "code",
   "execution_count": 29,
   "metadata": {},
   "outputs": [],
   "source": [
    "index_missing = taxi_hourly_df.loc[(taxi_hourly_df.missing_dt == True) & \n",
    "                                                    (taxi_hourly_df.index < \"2016-07-01\") &\n",
    "                                                    (taxi_hourly_df.num_passengers.isnull()) , :\n",
    "                                                   ].index"
   ]
  },
  {
   "cell_type": "code",
   "execution_count": 30,
   "metadata": {},
   "outputs": [],
   "source": [
    "assert len(index_missing) == 0# all missing values before last 6 months of 2016 filled"
   ]
  },
  {
   "cell_type": "code",
   "execution_count": 31,
   "metadata": {},
   "outputs": [
    {
     "data": {
      "text/plain": [
       "Timestamp('2014-01-01 00:00:00-0500', tz='America/New_York', freq='H')"
      ]
     },
     "execution_count": 31,
     "metadata": {},
     "output_type": "execute_result"
    }
   ],
   "source": [
    "taxi_hourly_df.index.min()"
   ]
  },
  {
   "cell_type": "code",
   "execution_count": 32,
   "metadata": {},
   "outputs": [
    {
     "data": {
      "text/plain": [
       "Timestamp('2017-06-30 23:00:00-0400', tz='America/New_York', freq='H')"
      ]
     },
     "execution_count": 32,
     "metadata": {},
     "output_type": "execute_result"
    }
   ],
   "source": [
    "taxi_hourly_df.index.max()"
   ]
  },
  {
   "cell_type": "code",
   "execution_count": 33,
   "metadata": {},
   "outputs": [
    {
     "data": {
      "text/plain": [
       "30647"
      ]
     },
     "execution_count": 33,
     "metadata": {},
     "output_type": "execute_result"
    }
   ],
   "source": [
    "len(taxi_hourly_df.index.unique())"
   ]
  },
  {
   "cell_type": "code",
   "execution_count": 34,
   "metadata": {},
   "outputs": [
    {
     "data": {
      "text/plain": [
       "(4417, 3)"
      ]
     },
     "execution_count": 34,
     "metadata": {},
     "output_type": "execute_result"
    }
   ],
   "source": [
    "taxi_hourly_df[\"2016-07-01\":\"2016-12-31\"].shape"
   ]
  },
  {
   "cell_type": "code",
   "execution_count": 35,
   "metadata": {},
   "outputs": [
    {
     "data": {
      "text/html": [
       "<div>\n",
       "<style scoped>\n",
       "    .dataframe tbody tr th:only-of-type {\n",
       "        vertical-align: middle;\n",
       "    }\n",
       "\n",
       "    .dataframe tbody tr th {\n",
       "        vertical-align: top;\n",
       "    }\n",
       "\n",
       "    .dataframe thead th {\n",
       "        text-align: right;\n",
       "    }\n",
       "</style>\n",
       "<table border=\"1\" class=\"dataframe\">\n",
       "  <thead>\n",
       "    <tr style=\"text-align: right;\">\n",
       "      <th></th>\n",
       "      <th>num_pickups</th>\n",
       "      <th>num_passengers</th>\n",
       "      <th>missing_dt</th>\n",
       "    </tr>\n",
       "  </thead>\n",
       "  <tbody>\n",
       "  </tbody>\n",
       "</table>\n",
       "</div>"
      ],
      "text/plain": [
       "Empty DataFrame\n",
       "Columns: [num_pickups, num_passengers, missing_dt]\n",
       "Index: []"
      ]
     },
     "execution_count": 35,
     "metadata": {},
     "output_type": "execute_result"
    }
   ],
   "source": [
    "taxi_hourly_df.loc[index_missing, :]"
   ]
  },
  {
   "cell_type": "markdown",
   "metadata": {},
   "source": [
    "### Weather Data"
   ]
  },
  {
   "cell_type": "code",
   "execution_count": 36,
   "metadata": {},
   "outputs": [],
   "source": [
    "def clean_weather(path):\n",
    "    weather_df = pd.read_csv(path)\n",
    "    weather_df[\"date\"] = pd.DatetimeIndex(pd.to_datetime(weather_df.dt, unit=\"s\")) \\\n",
    "                    .tz_localize('UTC').tz_convert('America/New_York')\n",
    "    \n",
    "    weather_df.drop([\"dt\", \"dt_iso\", \"city_id\", \"city_name\", \"lat\", \"lon\", \"weather_icon\", \"grnd_level\", \\\n",
    "                 \"sea_level\", \"clouds_all\", \"weather_id\", \"rain_1h\", \"rain_3h\", \"rain_24h\", \\\n",
    "                 \"rain_today\", \"snow_1h\", \"snow_3h\", \"snow_24h\", \"snow_today\", \"wind_deg\", \"pressure\"], \n",
    "                    axis=1, inplace=True)\n",
    "    return weather_df"
   ]
  },
  {
   "cell_type": "code",
   "execution_count": 37,
   "metadata": {},
   "outputs": [],
   "source": [
    "weather_df = clean_weather(\"../clean_data/weather_NY.csv\")"
   ]
  },
  {
   "cell_type": "code",
   "execution_count": 38,
   "metadata": {},
   "outputs": [
    {
     "data": {
      "text/plain": [
       "(49811, 8)"
      ]
     },
     "execution_count": 38,
     "metadata": {},
     "output_type": "execute_result"
    }
   ],
   "source": [
    "weather_df.shape"
   ]
  },
  {
   "cell_type": "code",
   "execution_count": 39,
   "metadata": {},
   "outputs": [
    {
     "data": {
      "text/plain": [
       "Counter({'Clear': 10342,\n",
       "         'Clouds': 16999,\n",
       "         'Drizzle': 1455,\n",
       "         'Dust': 22,\n",
       "         'Fog': 1746,\n",
       "         'Haze': 1188,\n",
       "         'Mist': 8203,\n",
       "         'Rain': 8347,\n",
       "         'Sand': 1,\n",
       "         'Smoke': 12,\n",
       "         'Snow': 952,\n",
       "         'Squall': 6,\n",
       "         'Thunderstorm': 538})"
      ]
     },
     "execution_count": 39,
     "metadata": {},
     "output_type": "execute_result"
    }
   ],
   "source": [
    "Counter(weather_df[\"weather_main\"].values)"
   ]
  },
  {
   "cell_type": "code",
   "execution_count": 40,
   "metadata": {},
   "outputs": [
    {
     "data": {
      "text/html": [
       "<div>\n",
       "<style scoped>\n",
       "    .dataframe tbody tr th:only-of-type {\n",
       "        vertical-align: middle;\n",
       "    }\n",
       "\n",
       "    .dataframe tbody tr th {\n",
       "        vertical-align: top;\n",
       "    }\n",
       "\n",
       "    .dataframe thead th {\n",
       "        text-align: right;\n",
       "    }\n",
       "</style>\n",
       "<table border=\"1\" class=\"dataframe\">\n",
       "  <thead>\n",
       "    <tr style=\"text-align: right;\">\n",
       "      <th></th>\n",
       "      <th></th>\n",
       "      <th>temp</th>\n",
       "      <th>temp_min</th>\n",
       "      <th>temp_max</th>\n",
       "      <th>humidity</th>\n",
       "      <th>wind_speed</th>\n",
       "    </tr>\n",
       "    <tr>\n",
       "      <th>weather_main</th>\n",
       "      <th>weather_description</th>\n",
       "      <th></th>\n",
       "      <th></th>\n",
       "      <th></th>\n",
       "      <th></th>\n",
       "      <th></th>\n",
       "    </tr>\n",
       "  </thead>\n",
       "  <tbody>\n",
       "    <tr>\n",
       "      <th rowspan=\"2\" valign=\"top\">Clear</th>\n",
       "      <th>Sky is Clear</th>\n",
       "      <td>1284365.163</td>\n",
       "      <td>1278112.133</td>\n",
       "      <td>1291340.753</td>\n",
       "      <td>301885</td>\n",
       "      <td>11838</td>\n",
       "    </tr>\n",
       "    <tr>\n",
       "      <th>sky is clear</th>\n",
       "      <td>1663573.659</td>\n",
       "      <td>1646978.319</td>\n",
       "      <td>1678705.549</td>\n",
       "      <td>323948</td>\n",
       "      <td>16476</td>\n",
       "    </tr>\n",
       "    <tr>\n",
       "      <th rowspan=\"4\" valign=\"top\">Clouds</th>\n",
       "      <th>broken clouds</th>\n",
       "      <td>1657507.303</td>\n",
       "      <td>1644118.223</td>\n",
       "      <td>1669387.133</td>\n",
       "      <td>321296</td>\n",
       "      <td>21551</td>\n",
       "    </tr>\n",
       "    <tr>\n",
       "      <th>few clouds</th>\n",
       "      <td>844677.983</td>\n",
       "      <td>838056.193</td>\n",
       "      <td>850798.663</td>\n",
       "      <td>158408</td>\n",
       "      <td>10680</td>\n",
       "    </tr>\n",
       "    <tr>\n",
       "      <th>overcast clouds</th>\n",
       "      <td>1154702.143</td>\n",
       "      <td>1146811.073</td>\n",
       "      <td>1161761.023</td>\n",
       "      <td>257026</td>\n",
       "      <td>13767</td>\n",
       "    </tr>\n",
       "    <tr>\n",
       "      <th>scattered clouds</th>\n",
       "      <td>1204912.368</td>\n",
       "      <td>1195098.908</td>\n",
       "      <td>1213764.598</td>\n",
       "      <td>224302</td>\n",
       "      <td>15344</td>\n",
       "    </tr>\n",
       "    <tr>\n",
       "      <th rowspan=\"3\" valign=\"top\">Drizzle</th>\n",
       "      <th>drizzle</th>\n",
       "      <td>117887.490</td>\n",
       "      <td>117064.930</td>\n",
       "      <td>118646.140</td>\n",
       "      <td>36493</td>\n",
       "      <td>1417</td>\n",
       "    </tr>\n",
       "    <tr>\n",
       "      <th>heavy intensity drizzle</th>\n",
       "      <td>7677.670</td>\n",
       "      <td>7623.940</td>\n",
       "      <td>7730.940</td>\n",
       "      <td>2429</td>\n",
       "      <td>90</td>\n",
       "    </tr>\n",
       "    <tr>\n",
       "      <th>light intensity drizzle</th>\n",
       "      <td>288333.160</td>\n",
       "      <td>286486.630</td>\n",
       "      <td>290090.480</td>\n",
       "      <td>86847</td>\n",
       "      <td>3469</td>\n",
       "    </tr>\n",
       "    <tr>\n",
       "      <th rowspan=\"2\" valign=\"top\">Dust</th>\n",
       "      <th>Sand/Dust Whirls</th>\n",
       "      <td>297.230</td>\n",
       "      <td>295.150</td>\n",
       "      <td>300.150</td>\n",
       "      <td>94</td>\n",
       "      <td>2</td>\n",
       "    </tr>\n",
       "    <tr>\n",
       "      <th>dust</th>\n",
       "      <td>6251.140</td>\n",
       "      <td>6184.930</td>\n",
       "      <td>6314.020</td>\n",
       "      <td>1047</td>\n",
       "      <td>60</td>\n",
       "    </tr>\n",
       "    <tr>\n",
       "      <th>Fog</th>\n",
       "      <th>fog</th>\n",
       "      <td>497282.520</td>\n",
       "      <td>492109.180</td>\n",
       "      <td>502310.180</td>\n",
       "      <td>151627</td>\n",
       "      <td>4225</td>\n",
       "    </tr>\n",
       "    <tr>\n",
       "      <th>Haze</th>\n",
       "      <th>haze</th>\n",
       "      <td>342274.810</td>\n",
       "      <td>339330.110</td>\n",
       "      <td>344960.110</td>\n",
       "      <td>90794</td>\n",
       "      <td>3429</td>\n",
       "    </tr>\n",
       "    <tr>\n",
       "      <th>Mist</th>\n",
       "      <th>mist</th>\n",
       "      <td>2348599.460</td>\n",
       "      <td>2327835.640</td>\n",
       "      <td>2368279.500</td>\n",
       "      <td>686059</td>\n",
       "      <td>23858</td>\n",
       "    </tr>\n",
       "    <tr>\n",
       "      <th rowspan=\"7\" valign=\"top\">Rain</th>\n",
       "      <th>freezing rain</th>\n",
       "      <td>6563.330</td>\n",
       "      <td>6482.930</td>\n",
       "      <td>6648.380</td>\n",
       "      <td>2139</td>\n",
       "      <td>108</td>\n",
       "    </tr>\n",
       "    <tr>\n",
       "      <th>heavy intensity rain</th>\n",
       "      <td>218015.147</td>\n",
       "      <td>216412.057</td>\n",
       "      <td>219569.567</td>\n",
       "      <td>62609</td>\n",
       "      <td>2618</td>\n",
       "    </tr>\n",
       "    <tr>\n",
       "      <th>light intensity shower rain</th>\n",
       "      <td>287.560</td>\n",
       "      <td>284.150</td>\n",
       "      <td>289.150</td>\n",
       "      <td>77</td>\n",
       "      <td>2</td>\n",
       "    </tr>\n",
       "    <tr>\n",
       "      <th>light rain</th>\n",
       "      <td>1623736.051</td>\n",
       "      <td>1611680.291</td>\n",
       "      <td>1634895.741</td>\n",
       "      <td>432575</td>\n",
       "      <td>19097</td>\n",
       "    </tr>\n",
       "    <tr>\n",
       "      <th>moderate rain</th>\n",
       "      <td>531663.792</td>\n",
       "      <td>527888.362</td>\n",
       "      <td>535208.242</td>\n",
       "      <td>154788</td>\n",
       "      <td>6714</td>\n",
       "    </tr>\n",
       "    <tr>\n",
       "      <th>shower rain</th>\n",
       "      <td>280.070</td>\n",
       "      <td>279.150</td>\n",
       "      <td>281.150</td>\n",
       "      <td>61</td>\n",
       "      <td>2</td>\n",
       "    </tr>\n",
       "    <tr>\n",
       "      <th>very heavy rain</th>\n",
       "      <td>19647.100</td>\n",
       "      <td>19495.950</td>\n",
       "      <td>19810.700</td>\n",
       "      <td>3860</td>\n",
       "      <td>108</td>\n",
       "    </tr>\n",
       "    <tr>\n",
       "      <th>Sand</th>\n",
       "      <th>sand</th>\n",
       "      <td>285.510</td>\n",
       "      <td>283.150</td>\n",
       "      <td>288.150</td>\n",
       "      <td>71</td>\n",
       "      <td>3</td>\n",
       "    </tr>\n",
       "    <tr>\n",
       "      <th>Smoke</th>\n",
       "      <th>smoke</th>\n",
       "      <td>3490.280</td>\n",
       "      <td>3460.480</td>\n",
       "      <td>3521.140</td>\n",
       "      <td>711</td>\n",
       "      <td>35</td>\n",
       "    </tr>\n",
       "    <tr>\n",
       "      <th rowspan=\"6\" valign=\"top\">Snow</th>\n",
       "      <th>heavy snow</th>\n",
       "      <td>74836.210</td>\n",
       "      <td>74372.050</td>\n",
       "      <td>75289.510</td>\n",
       "      <td>19230</td>\n",
       "      <td>1551</td>\n",
       "    </tr>\n",
       "    <tr>\n",
       "      <th>light rain and snow</th>\n",
       "      <td>9341.940</td>\n",
       "      <td>9291.220</td>\n",
       "      <td>9389.640</td>\n",
       "      <td>2905</td>\n",
       "      <td>185</td>\n",
       "    </tr>\n",
       "    <tr>\n",
       "      <th>light snow</th>\n",
       "      <td>133332.380</td>\n",
       "      <td>132234.850</td>\n",
       "      <td>134357.460</td>\n",
       "      <td>34748</td>\n",
       "      <td>2065</td>\n",
       "    </tr>\n",
       "    <tr>\n",
       "      <th>rain and snow</th>\n",
       "      <td>275.320</td>\n",
       "      <td>272.590</td>\n",
       "      <td>277.150</td>\n",
       "      <td>93</td>\n",
       "      <td>4</td>\n",
       "    </tr>\n",
       "    <tr>\n",
       "      <th>sleet</th>\n",
       "      <td>274.940</td>\n",
       "      <td>274.150</td>\n",
       "      <td>275.150</td>\n",
       "      <td>93</td>\n",
       "      <td>8</td>\n",
       "    </tr>\n",
       "    <tr>\n",
       "      <th>snow</th>\n",
       "      <td>41268.060</td>\n",
       "      <td>40988.550</td>\n",
       "      <td>41553.120</td>\n",
       "      <td>12088</td>\n",
       "      <td>811</td>\n",
       "    </tr>\n",
       "    <tr>\n",
       "      <th>Squall</th>\n",
       "      <th>SQUALLS</th>\n",
       "      <td>1732.280</td>\n",
       "      <td>1716.680</td>\n",
       "      <td>1753.460</td>\n",
       "      <td>416</td>\n",
       "      <td>59</td>\n",
       "    </tr>\n",
       "    <tr>\n",
       "      <th rowspan=\"9\" valign=\"top\">Thunderstorm</th>\n",
       "      <th>heavy thunderstorm</th>\n",
       "      <td>595.750</td>\n",
       "      <td>586.300</td>\n",
       "      <td>604.300</td>\n",
       "      <td>143</td>\n",
       "      <td>5</td>\n",
       "    </tr>\n",
       "    <tr>\n",
       "      <th>proximity thunderstorm</th>\n",
       "      <td>61795.880</td>\n",
       "      <td>61182.660</td>\n",
       "      <td>62332.430</td>\n",
       "      <td>15821</td>\n",
       "      <td>697</td>\n",
       "    </tr>\n",
       "    <tr>\n",
       "      <th>proximity thunderstorm with drizzle</th>\n",
       "      <td>277.980</td>\n",
       "      <td>277.150</td>\n",
       "      <td>279.150</td>\n",
       "      <td>93</td>\n",
       "      <td>5</td>\n",
       "    </tr>\n",
       "    <tr>\n",
       "      <th>proximity thunderstorm with rain</th>\n",
       "      <td>1459.840</td>\n",
       "      <td>1451.870</td>\n",
       "      <td>1468.190</td>\n",
       "      <td>463</td>\n",
       "      <td>16</td>\n",
       "    </tr>\n",
       "    <tr>\n",
       "      <th>thunderstorm</th>\n",
       "      <td>40888.410</td>\n",
       "      <td>40462.720</td>\n",
       "      <td>41270.680</td>\n",
       "      <td>10188</td>\n",
       "      <td>543</td>\n",
       "    </tr>\n",
       "    <tr>\n",
       "      <th>thunderstorm with heavy rain</th>\n",
       "      <td>14335.080</td>\n",
       "      <td>14212.450</td>\n",
       "      <td>14462.220</td>\n",
       "      <td>4015</td>\n",
       "      <td>166</td>\n",
       "    </tr>\n",
       "    <tr>\n",
       "      <th>thunderstorm with light drizzle</th>\n",
       "      <td>1180.800</td>\n",
       "      <td>1171.040</td>\n",
       "      <td>1188.040</td>\n",
       "      <td>348</td>\n",
       "      <td>8</td>\n",
       "    </tr>\n",
       "    <tr>\n",
       "      <th>thunderstorm with light rain</th>\n",
       "      <td>21827.840</td>\n",
       "      <td>21600.990</td>\n",
       "      <td>22022.960</td>\n",
       "      <td>5774</td>\n",
       "      <td>267</td>\n",
       "    </tr>\n",
       "    <tr>\n",
       "      <th>thunderstorm with rain</th>\n",
       "      <td>16109.710</td>\n",
       "      <td>15977.010</td>\n",
       "      <td>16224.840</td>\n",
       "      <td>4470</td>\n",
       "      <td>197</td>\n",
       "    </tr>\n",
       "  </tbody>\n",
       "</table>\n",
       "</div>"
      ],
      "text/plain": [
       "                                                         temp     temp_min  \\\n",
       "weather_main weather_description                                             \n",
       "Clear        Sky is Clear                         1284365.163  1278112.133   \n",
       "             sky is clear                         1663573.659  1646978.319   \n",
       "Clouds       broken clouds                        1657507.303  1644118.223   \n",
       "             few clouds                            844677.983   838056.193   \n",
       "             overcast clouds                      1154702.143  1146811.073   \n",
       "             scattered clouds                     1204912.368  1195098.908   \n",
       "Drizzle      drizzle                               117887.490   117064.930   \n",
       "             heavy intensity drizzle                 7677.670     7623.940   \n",
       "             light intensity drizzle               288333.160   286486.630   \n",
       "Dust         Sand/Dust Whirls                         297.230      295.150   \n",
       "             dust                                    6251.140     6184.930   \n",
       "Fog          fog                                   497282.520   492109.180   \n",
       "Haze         haze                                  342274.810   339330.110   \n",
       "Mist         mist                                 2348599.460  2327835.640   \n",
       "Rain         freezing rain                           6563.330     6482.930   \n",
       "             heavy intensity rain                  218015.147   216412.057   \n",
       "             light intensity shower rain              287.560      284.150   \n",
       "             light rain                           1623736.051  1611680.291   \n",
       "             moderate rain                         531663.792   527888.362   \n",
       "             shower rain                              280.070      279.150   \n",
       "             very heavy rain                        19647.100    19495.950   \n",
       "Sand         sand                                     285.510      283.150   \n",
       "Smoke        smoke                                   3490.280     3460.480   \n",
       "Snow         heavy snow                             74836.210    74372.050   \n",
       "             light rain and snow                     9341.940     9291.220   \n",
       "             light snow                            133332.380   132234.850   \n",
       "             rain and snow                            275.320      272.590   \n",
       "             sleet                                    274.940      274.150   \n",
       "             snow                                   41268.060    40988.550   \n",
       "Squall       SQUALLS                                 1732.280     1716.680   \n",
       "Thunderstorm heavy thunderstorm                       595.750      586.300   \n",
       "             proximity thunderstorm                 61795.880    61182.660   \n",
       "             proximity thunderstorm with drizzle      277.980      277.150   \n",
       "             proximity thunderstorm with rain        1459.840     1451.870   \n",
       "             thunderstorm                           40888.410    40462.720   \n",
       "             thunderstorm with heavy rain           14335.080    14212.450   \n",
       "             thunderstorm with light drizzle         1180.800     1171.040   \n",
       "             thunderstorm with light rain           21827.840    21600.990   \n",
       "             thunderstorm with rain                 16109.710    15977.010   \n",
       "\n",
       "                                                     temp_max  humidity  \\\n",
       "weather_main weather_description                                          \n",
       "Clear        Sky is Clear                         1291340.753    301885   \n",
       "             sky is clear                         1678705.549    323948   \n",
       "Clouds       broken clouds                        1669387.133    321296   \n",
       "             few clouds                            850798.663    158408   \n",
       "             overcast clouds                      1161761.023    257026   \n",
       "             scattered clouds                     1213764.598    224302   \n",
       "Drizzle      drizzle                               118646.140     36493   \n",
       "             heavy intensity drizzle                 7730.940      2429   \n",
       "             light intensity drizzle               290090.480     86847   \n",
       "Dust         Sand/Dust Whirls                         300.150        94   \n",
       "             dust                                    6314.020      1047   \n",
       "Fog          fog                                   502310.180    151627   \n",
       "Haze         haze                                  344960.110     90794   \n",
       "Mist         mist                                 2368279.500    686059   \n",
       "Rain         freezing rain                           6648.380      2139   \n",
       "             heavy intensity rain                  219569.567     62609   \n",
       "             light intensity shower rain              289.150        77   \n",
       "             light rain                           1634895.741    432575   \n",
       "             moderate rain                         535208.242    154788   \n",
       "             shower rain                              281.150        61   \n",
       "             very heavy rain                        19810.700      3860   \n",
       "Sand         sand                                     288.150        71   \n",
       "Smoke        smoke                                   3521.140       711   \n",
       "Snow         heavy snow                             75289.510     19230   \n",
       "             light rain and snow                     9389.640      2905   \n",
       "             light snow                            134357.460     34748   \n",
       "             rain and snow                            277.150        93   \n",
       "             sleet                                    275.150        93   \n",
       "             snow                                   41553.120     12088   \n",
       "Squall       SQUALLS                                 1753.460       416   \n",
       "Thunderstorm heavy thunderstorm                       604.300       143   \n",
       "             proximity thunderstorm                 62332.430     15821   \n",
       "             proximity thunderstorm with drizzle      279.150        93   \n",
       "             proximity thunderstorm with rain        1468.190       463   \n",
       "             thunderstorm                           41270.680     10188   \n",
       "             thunderstorm with heavy rain           14462.220      4015   \n",
       "             thunderstorm with light drizzle         1188.040       348   \n",
       "             thunderstorm with light rain           22022.960      5774   \n",
       "             thunderstorm with rain                 16224.840      4470   \n",
       "\n",
       "                                                  wind_speed  \n",
       "weather_main weather_description                              \n",
       "Clear        Sky is Clear                              11838  \n",
       "             sky is clear                              16476  \n",
       "Clouds       broken clouds                             21551  \n",
       "             few clouds                                10680  \n",
       "             overcast clouds                           13767  \n",
       "             scattered clouds                          15344  \n",
       "Drizzle      drizzle                                    1417  \n",
       "             heavy intensity drizzle                      90  \n",
       "             light intensity drizzle                    3469  \n",
       "Dust         Sand/Dust Whirls                              2  \n",
       "             dust                                         60  \n",
       "Fog          fog                                        4225  \n",
       "Haze         haze                                       3429  \n",
       "Mist         mist                                      23858  \n",
       "Rain         freezing rain                               108  \n",
       "             heavy intensity rain                       2618  \n",
       "             light intensity shower rain                   2  \n",
       "             light rain                                19097  \n",
       "             moderate rain                              6714  \n",
       "             shower rain                                   2  \n",
       "             very heavy rain                             108  \n",
       "Sand         sand                                          3  \n",
       "Smoke        smoke                                        35  \n",
       "Snow         heavy snow                                 1551  \n",
       "             light rain and snow                         185  \n",
       "             light snow                                 2065  \n",
       "             rain and snow                                 4  \n",
       "             sleet                                         8  \n",
       "             snow                                        811  \n",
       "Squall       SQUALLS                                      59  \n",
       "Thunderstorm heavy thunderstorm                            5  \n",
       "             proximity thunderstorm                      697  \n",
       "             proximity thunderstorm with drizzle           5  \n",
       "             proximity thunderstorm with rain             16  \n",
       "             thunderstorm                                543  \n",
       "             thunderstorm with heavy rain                166  \n",
       "             thunderstorm with light drizzle               8  \n",
       "             thunderstorm with light rain                267  \n",
       "             thunderstorm with rain                      197  "
      ]
     },
     "execution_count": 40,
     "metadata": {},
     "output_type": "execute_result"
    }
   ],
   "source": [
    "weather_df.groupby([\"weather_main\", \"weather_description\"]).sum()"
   ]
  },
  {
   "cell_type": "markdown",
   "metadata": {},
   "source": [
    "** Handling Dust, Sand, Smoke and Squall Weather Types **"
   ]
  },
  {
   "cell_type": "code",
   "execution_count": 41,
   "metadata": {},
   "outputs": [],
   "source": [
    "## set these weather conditions to NaN and ffill them with previous hours data\n",
    "weather_df.loc[weather_df[\"weather_main\"].isin([\"Dust\", \"Sand\", \"Smoke\", \"Squall\"]), [\"weather_main\", \"weather_description\"]] = np.NaN\n",
    "weather_df = weather_df.fillna(method=\"ffill\")"
   ]
  },
  {
   "cell_type": "code",
   "execution_count": 42,
   "metadata": {},
   "outputs": [
    {
     "data": {
      "text/plain": [
       "(49811, 8)"
      ]
     },
     "execution_count": 42,
     "metadata": {},
     "output_type": "execute_result"
    }
   ],
   "source": [
    "weather_df.shape"
   ]
  },
  {
   "cell_type": "markdown",
   "metadata": {},
   "source": [
    "** Combining Weather Types **"
   ]
  },
  {
   "cell_type": "code",
   "execution_count": 43,
   "metadata": {},
   "outputs": [
    {
     "data": {
      "text/plain": [
       "Counter({'Clear': 10347,\n",
       "         'Clouds': 17016,\n",
       "         'Drizzle': 1455,\n",
       "         'Fog': 1747,\n",
       "         'Haze': 1197,\n",
       "         'Mist': 8207,\n",
       "         'Rain': 8349,\n",
       "         'Snow': 952,\n",
       "         'Thunderstorm': 541})"
      ]
     },
     "execution_count": 43,
     "metadata": {},
     "output_type": "execute_result"
    }
   ],
   "source": [
    "Counter(weather_df[\"weather_main\"].values)"
   ]
  },
  {
   "cell_type": "code",
   "execution_count": 44,
   "metadata": {},
   "outputs": [],
   "source": [
    "# Lowercase Weather Types\n",
    "weather_df[\"weather_main\"] = weather_df.weather_main.str.lower()\n",
    "weather_df[\"weather_description\"] = weather_df.weather_description.str.lower()"
   ]
  },
  {
   "cell_type": "code",
   "execution_count": 45,
   "metadata": {},
   "outputs": [],
   "source": [
    "# Handle Drizzle Weather Type\n",
    "weather_df[\"weather_main\"] = weather_df.weather_main.str.replace(\"drizzle\", \"rain\")\n",
    "weather_df[\"weather_description\"] = weather_df.weather_description.str.replace(\"drizzle\", \"light rain\")\n",
    "weather_df[\"weather_description\"] = weather_df.weather_description.str.replace(\"heavy intensity drizzle\", \"moderate rain\")\n",
    "weather_df[\"weather_description\"] = weather_df.weather_description.str.replace(\"light intensity drizzle\", \"light rain\")"
   ]
  },
  {
   "cell_type": "code",
   "execution_count": 46,
   "metadata": {},
   "outputs": [],
   "source": [
    "# Handle Drizzle and Mist Weather Type - Combine to Fog\n",
    "weather_df[\"weather_main\"] = weather_df.weather_main.str.replace(\"haze\", \"fog\")\n",
    "weather_df[\"weather_description\"] = weather_df.weather_description.str.replace(\"haze\", \"fog\")\n",
    "weather_df[\"weather_main\"] = weather_df.weather_main.str.replace(\"mist\", \"fog\")\n",
    "weather_df[\"weather_description\"] = weather_df.weather_description.str.replace(\"mist\", \"fog\")"
   ]
  },
  {
   "cell_type": "code",
   "execution_count": 47,
   "metadata": {},
   "outputs": [],
   "source": [
    "# Handle Rain Weather Type\n",
    "weather_df[\"weather_description\"] = weather_df.weather_description.str.replace(\"light intensity light rain\", \"light rain\")\n",
    "weather_df[\"weather_description\"] = weather_df.weather_description.str.replace(\"light intensity shower rain\", \"light rain\")\n",
    "weather_df[\"weather_description\"] = weather_df.weather_description.str.replace(\"heavy intensity light rain\", \"light rain\")\n",
    "weather_df[\"weather_description\"] = weather_df.weather_description.str.replace(\"shower rain\", \"light rain\")\n",
    "weather_df[\"weather_description\"] = weather_df.weather_description.str.replace(\"very heavy rain\", \"heavy intensity rain\")"
   ]
  },
  {
   "cell_type": "code",
   "execution_count": 48,
   "metadata": {},
   "outputs": [],
   "source": [
    "# Handle Snow Weather Type\n",
    "weather_df[\"weather_description\"] = weather_df.weather_description.str.replace(\"light rain and snow\", \"light snow\")\n",
    "weather_df[\"weather_description\"] = weather_df.weather_description.str.replace(\"rain and snow\", \"snow\")\n",
    "weather_df[\"weather_description\"] = weather_df.weather_description.str.replace(\"sleet\", \"snow\")"
   ]
  },
  {
   "cell_type": "code",
   "execution_count": 49,
   "metadata": {},
   "outputs": [],
   "source": [
    "# Handling Thunderstorm Data Type\n",
    "weather_df[\"weather_description\"] = weather_df.weather_description.str.replace(\"proximity thunderstorm with light rain\", \"proximity thunderstorm\")\n",
    "weather_df[\"weather_description\"] = weather_df.weather_description.str.replace(\"proximity thunderstorm with rain\", \"proximity thunderstorm\")\n",
    "weather_df[\"weather_description\"] = weather_df.weather_description.str.replace(\"proximity thunderstorm with light rain\", \"proximity thunderstorm\")\n",
    "weather_df[\"weather_description\"] = weather_df.weather_description.str.replace(\"thunderstorm with heavy rain\", \"thunderstorm\")\n",
    "weather_df[\"weather_description\"] = weather_df.weather_description.str.replace(\"thunderstorm with light light rain\", \"thunderstorm\")\n",
    "weather_df[\"weather_description\"] = weather_df.weather_description.str.replace(\"thunderstorm with light rain\", \"thunderstorm\")\n",
    "weather_df[\"weather_description\"] = weather_df.weather_description.str.replace(\"thunderstorm with rain\", \"thunderstorm\")\n",
    "weather_df[\"weather_description\"] = weather_df.weather_description.str.replace(\"heavy thunderstorm\", \"thunderstorm\")"
   ]
  },
  {
   "cell_type": "code",
   "execution_count": 50,
   "metadata": {},
   "outputs": [
    {
     "data": {
      "text/html": [
       "<div>\n",
       "<style scoped>\n",
       "    .dataframe tbody tr th:only-of-type {\n",
       "        vertical-align: middle;\n",
       "    }\n",
       "\n",
       "    .dataframe tbody tr th {\n",
       "        vertical-align: top;\n",
       "    }\n",
       "\n",
       "    .dataframe thead th {\n",
       "        text-align: right;\n",
       "    }\n",
       "</style>\n",
       "<table border=\"1\" class=\"dataframe\">\n",
       "  <thead>\n",
       "    <tr style=\"text-align: right;\">\n",
       "      <th></th>\n",
       "      <th></th>\n",
       "      <th>temp</th>\n",
       "      <th>temp_min</th>\n",
       "      <th>temp_max</th>\n",
       "      <th>humidity</th>\n",
       "      <th>wind_speed</th>\n",
       "    </tr>\n",
       "    <tr>\n",
       "      <th>weather_main</th>\n",
       "      <th>weather_description</th>\n",
       "      <th></th>\n",
       "      <th></th>\n",
       "      <th></th>\n",
       "      <th></th>\n",
       "      <th></th>\n",
       "    </tr>\n",
       "  </thead>\n",
       "  <tbody>\n",
       "    <tr>\n",
       "      <th>clear</th>\n",
       "      <th>sky is clear</th>\n",
       "      <td>2949387.302</td>\n",
       "      <td>2.926526e+06</td>\n",
       "      <td>2.971507e+06</td>\n",
       "      <td>626091</td>\n",
       "      <td>28324</td>\n",
       "    </tr>\n",
       "    <tr>\n",
       "      <th rowspan=\"4\" valign=\"top\">clouds</th>\n",
       "      <th>broken clouds</th>\n",
       "      <td>1659275.563</td>\n",
       "      <td>1.645866e+06</td>\n",
       "      <td>1.671173e+06</td>\n",
       "      <td>321635</td>\n",
       "      <td>21569</td>\n",
       "    </tr>\n",
       "    <tr>\n",
       "      <th>few clouds</th>\n",
       "      <td>844677.983</td>\n",
       "      <td>8.380562e+05</td>\n",
       "      <td>8.507987e+05</td>\n",
       "      <td>158408</td>\n",
       "      <td>10680</td>\n",
       "    </tr>\n",
       "    <tr>\n",
       "      <th>overcast clouds</th>\n",
       "      <td>1155280.863</td>\n",
       "      <td>1.147378e+06</td>\n",
       "      <td>1.162345e+06</td>\n",
       "      <td>257150</td>\n",
       "      <td>13777</td>\n",
       "    </tr>\n",
       "    <tr>\n",
       "      <th>scattered clouds</th>\n",
       "      <td>1207567.358</td>\n",
       "      <td>1.197728e+06</td>\n",
       "      <td>1.216451e+06</td>\n",
       "      <td>224708</td>\n",
       "      <td>15379</td>\n",
       "    </tr>\n",
       "    <tr>\n",
       "      <th>fog</th>\n",
       "      <th>fog</th>\n",
       "      <td>3192304.080</td>\n",
       "      <td>3.163393e+06</td>\n",
       "      <td>3.219729e+06</td>\n",
       "      <td>929384</td>\n",
       "      <td>31547</td>\n",
       "    </tr>\n",
       "    <tr>\n",
       "      <th rowspan=\"4\" valign=\"top\">rain</th>\n",
       "      <th>freezing rain</th>\n",
       "      <td>6563.330</td>\n",
       "      <td>6.482930e+03</td>\n",
       "      <td>6.648380e+03</td>\n",
       "      <td>2139</td>\n",
       "      <td>108</td>\n",
       "    </tr>\n",
       "    <tr>\n",
       "      <th>heavy intensity rain</th>\n",
       "      <td>237662.247</td>\n",
       "      <td>2.359080e+05</td>\n",
       "      <td>2.393803e+05</td>\n",
       "      <td>66469</td>\n",
       "      <td>2726</td>\n",
       "    </tr>\n",
       "    <tr>\n",
       "      <th>light rain</th>\n",
       "      <td>2038774.991</td>\n",
       "      <td>2.023985e+06</td>\n",
       "      <td>2.052515e+06</td>\n",
       "      <td>558601</td>\n",
       "      <td>24097</td>\n",
       "    </tr>\n",
       "    <tr>\n",
       "      <th>moderate rain</th>\n",
       "      <td>531663.792</td>\n",
       "      <td>5.278884e+05</td>\n",
       "      <td>5.352082e+05</td>\n",
       "      <td>154788</td>\n",
       "      <td>6714</td>\n",
       "    </tr>\n",
       "    <tr>\n",
       "      <th rowspan=\"3\" valign=\"top\">snow</th>\n",
       "      <th>heavy snow</th>\n",
       "      <td>74836.210</td>\n",
       "      <td>7.437205e+04</td>\n",
       "      <td>7.528951e+04</td>\n",
       "      <td>19230</td>\n",
       "      <td>1551</td>\n",
       "    </tr>\n",
       "    <tr>\n",
       "      <th>light snow</th>\n",
       "      <td>142674.320</td>\n",
       "      <td>1.415261e+05</td>\n",
       "      <td>1.437471e+05</td>\n",
       "      <td>37653</td>\n",
       "      <td>2250</td>\n",
       "    </tr>\n",
       "    <tr>\n",
       "      <th>snow</th>\n",
       "      <td>41818.320</td>\n",
       "      <td>4.153529e+04</td>\n",
       "      <td>4.210542e+04</td>\n",
       "      <td>12274</td>\n",
       "      <td>823</td>\n",
       "    </tr>\n",
       "    <tr>\n",
       "      <th rowspan=\"2\" valign=\"top\">thunderstorm</th>\n",
       "      <th>proximity thunderstorm</th>\n",
       "      <td>63533.700</td>\n",
       "      <td>6.291168e+04</td>\n",
       "      <td>6.407977e+04</td>\n",
       "      <td>16377</td>\n",
       "      <td>718</td>\n",
       "    </tr>\n",
       "    <tr>\n",
       "      <th>thunderstorm</th>\n",
       "      <td>95823.300</td>\n",
       "      <td>9.488663e+04</td>\n",
       "      <td>9.667105e+04</td>\n",
       "      <td>25127</td>\n",
       "      <td>1217</td>\n",
       "    </tr>\n",
       "  </tbody>\n",
       "</table>\n",
       "</div>"
      ],
      "text/plain": [
       "                                            temp      temp_min      temp_max  \\\n",
       "weather_main weather_description                                               \n",
       "clear        sky is clear            2949387.302  2.926526e+06  2.971507e+06   \n",
       "clouds       broken clouds           1659275.563  1.645866e+06  1.671173e+06   \n",
       "             few clouds               844677.983  8.380562e+05  8.507987e+05   \n",
       "             overcast clouds         1155280.863  1.147378e+06  1.162345e+06   \n",
       "             scattered clouds        1207567.358  1.197728e+06  1.216451e+06   \n",
       "fog          fog                     3192304.080  3.163393e+06  3.219729e+06   \n",
       "rain         freezing rain              6563.330  6.482930e+03  6.648380e+03   \n",
       "             heavy intensity rain     237662.247  2.359080e+05  2.393803e+05   \n",
       "             light rain              2038774.991  2.023985e+06  2.052515e+06   \n",
       "             moderate rain            531663.792  5.278884e+05  5.352082e+05   \n",
       "snow         heavy snow                74836.210  7.437205e+04  7.528951e+04   \n",
       "             light snow               142674.320  1.415261e+05  1.437471e+05   \n",
       "             snow                      41818.320  4.153529e+04  4.210542e+04   \n",
       "thunderstorm proximity thunderstorm    63533.700  6.291168e+04  6.407977e+04   \n",
       "             thunderstorm              95823.300  9.488663e+04  9.667105e+04   \n",
       "\n",
       "                                     humidity  wind_speed  \n",
       "weather_main weather_description                           \n",
       "clear        sky is clear              626091       28324  \n",
       "clouds       broken clouds             321635       21569  \n",
       "             few clouds                158408       10680  \n",
       "             overcast clouds           257150       13777  \n",
       "             scattered clouds          224708       15379  \n",
       "fog          fog                       929384       31547  \n",
       "rain         freezing rain               2139         108  \n",
       "             heavy intensity rain       66469        2726  \n",
       "             light rain                558601       24097  \n",
       "             moderate rain             154788        6714  \n",
       "snow         heavy snow                 19230        1551  \n",
       "             light snow                 37653        2250  \n",
       "             snow                       12274         823  \n",
       "thunderstorm proximity thunderstorm     16377         718  \n",
       "             thunderstorm               25127        1217  "
      ]
     },
     "execution_count": 50,
     "metadata": {},
     "output_type": "execute_result"
    }
   ],
   "source": [
    "weather_df.groupby([\"weather_main\", \"weather_description\"]).sum()"
   ]
  },
  {
   "cell_type": "code",
   "execution_count": 51,
   "metadata": {},
   "outputs": [
    {
     "name": "stdout",
     "output_type": "stream",
     "text": [
      "<class 'pandas.core.frame.DataFrame'>\n",
      "RangeIndex: 49811 entries, 0 to 49810\n",
      "Data columns (total 8 columns):\n",
      "temp                   49811 non-null float64\n",
      "temp_min               49811 non-null float64\n",
      "temp_max               49811 non-null float64\n",
      "humidity               49811 non-null int64\n",
      "wind_speed             49811 non-null int64\n",
      "weather_main           49811 non-null object\n",
      "weather_description    49811 non-null object\n",
      "date                   49811 non-null datetime64[ns, America/New_York]\n",
      "dtypes: datetime64[ns, America/New_York](1), float64(3), int64(2), object(2)\n",
      "memory usage: 3.0+ MB\n"
     ]
    }
   ],
   "source": [
    "weather_df.info()"
   ]
  },
  {
   "cell_type": "code",
   "execution_count": 52,
   "metadata": {},
   "outputs": [],
   "source": [
    "# weather_df[\"weather_main\"] = weather_df.weather_main.astype(\"category\")\n",
    "# weather_df[\"weather_description\"] = weather_df.weather_description.astype(\"category\")"
   ]
  },
  {
   "cell_type": "code",
   "execution_count": 53,
   "metadata": {},
   "outputs": [],
   "source": [
    "#weather_df.weather_description.cat.codes\n",
    "#weather_df.weather_description.cat.categories"
   ]
  },
  {
   "cell_type": "code",
   "execution_count": 54,
   "metadata": {},
   "outputs": [],
   "source": [
    "# weather_df.groupby(\"date\").agg({\"temp\":\"mean\", \"temp_min\":\"mean\", \"temp_max\":\"mean\", \"humidity\": \"mean\",\n",
    "#                                 \"wind_speed\":\"mean\", \"weather_main\" : lambda x: getExtreme_WeatherMain(x),\n",
    "#                                 \"weather_description\" : lambda x : getExtreme_WeatherDesc(x) })"
   ]
  },
  {
   "cell_type": "code",
   "execution_count": 55,
   "metadata": {},
   "outputs": [],
   "source": [
    "# For every hour, if extreme weather type (thunderstorm, snow, rain or fog), return that, else just return the first \n",
    "# wether type reported in that hour\n",
    "\n",
    "# def getExtreme_WeatherMain(vals):\n",
    "#     if \"thunderstorm\" in vals.values:\n",
    "#         return \"thunderstorm\"\n",
    "#     elif \"snow\" in vals.values:\n",
    "#         return \"snow\"\n",
    "#     elif \"rain\" in vals.values:\n",
    "#         return \"rain\"\n",
    "#     elif \"fog\" in vals.values:\n",
    "#         return \"fog\"\n",
    "#     else:\n",
    "#         return vals.values[0]\n",
    "    \n",
    "# def getExtreme_WeatherDesc(vals):\n",
    "#     if \"thunderstorm\" in vals.values:\n",
    "#         return \"thunderstorm\"\n",
    "#     elif \"proximity thunderstorm\" in vals.values:\n",
    "#         return \"proximity thunderstorm\"\n",
    "#     elif \"heavy snow\" in vals.values:\n",
    "#         return \"heavy snow\"\n",
    "#     elif \"snow\" in vals.values:\n",
    "#         return \"snow\"\n",
    "#     elif \"light snow\" in vals.values:\n",
    "#         return \"light snow\"\n",
    "#     elif \"freezing rain\" in vals.values:\n",
    "#         return \"freezing rain\"\n",
    "#     elif \"heavy intensity rain\" in vals.values:\n",
    "#         return \"heavy intensity rain\"\n",
    "#     elif \"moderate rain\" in vals.values:\n",
    "#         return \"moderate rain\"\n",
    "#     elif \"light rain\" in vals.values:\n",
    "#         return \"light rain\"\n",
    "#     elif \"fog\" in vals.values:\n",
    "#         return \"fog\"\n",
    "#     else:\n",
    "#         return vals.values[0]"
   ]
  },
  {
   "cell_type": "code",
   "execution_count": 56,
   "metadata": {},
   "outputs": [],
   "source": [
    "# data_1 = {'date' : ['2014-01-01 00:00:00-05:00', '2014-01-01 00:00:00-05:00', '2014-01-01 00:00:00-05:00'],\n",
    "#           'weather_main' : [\"fog\", \"clouds\", \"snow\"],\n",
    "#           'weather_description' : [\"fog\", \"broken clouds\", \"light snow\"]}\n",
    "# df_1 = pd.DataFrame(data_1)\n",
    "# df_1\n",
    "# df_1.groupby(\"date\").agg({\"weather_main\" : lambda x: getExtreme_WeatherMain(x),\n",
    "#                           \"weather_description\" : lambda x : getExtreme_WeatherDesc(x)})"
   ]
  },
  {
   "cell_type": "code",
   "execution_count": 57,
   "metadata": {},
   "outputs": [],
   "source": [
    "def concat_weather_types(vals):\n",
    "    return \",\".join(list(set(vals)))"
   ]
  },
  {
   "cell_type": "code",
   "execution_count": 58,
   "metadata": {},
   "outputs": [],
   "source": [
    "weather_df = weather_df.groupby(\"date\").agg({\"temp\":\"mean\", \"temp_min\":\"mean\", \"temp_max\":\"mean\", \"humidity\": \"mean\",\n",
    "                                \"wind_speed\":\"mean\", \"weather_main\" : lambda x: concat_weather_types(x),\n",
    "                                \"weather_description\" : lambda x : concat_weather_types(x) })"
   ]
  },
  {
   "cell_type": "code",
   "execution_count": 60,
   "metadata": {},
   "outputs": [],
   "source": [
    "#weather_df"
   ]
  },
  {
   "cell_type": "code",
   "execution_count": 61,
   "metadata": {},
   "outputs": [],
   "source": [
    "#weather_df.groupby([\"weather_main\", \"weather_description\"]).sum()"
   ]
  },
  {
   "cell_type": "code",
   "execution_count": 62,
   "metadata": {},
   "outputs": [],
   "source": [
    "weather_df = weather_df.reindex(taxi_hourly_df.index)"
   ]
  },
  {
   "cell_type": "code",
   "execution_count": 63,
   "metadata": {},
   "outputs": [],
   "source": [
    "## Filled in missing hours with the data available for previous hours\n",
    "weather_df = weather_df.fillna(method = \"ffill\")"
   ]
  },
  {
   "cell_type": "code",
   "execution_count": 64,
   "metadata": {},
   "outputs": [],
   "source": [
    "#weather_df[weather_df.weather_main.isnull()]"
   ]
  },
  {
   "cell_type": "markdown",
   "metadata": {},
   "source": [
    "### Merge Taxi and Weather Data"
   ]
  },
  {
   "cell_type": "code",
   "execution_count": 65,
   "metadata": {},
   "outputs": [],
   "source": [
    "taxi_weather_df = pd.concat([taxi_hourly_df, weather_df], axis=1)"
   ]
  },
  {
   "cell_type": "code",
   "execution_count": 66,
   "metadata": {},
   "outputs": [
    {
     "data": {
      "text/html": [
       "<div>\n",
       "<style scoped>\n",
       "    .dataframe tbody tr th:only-of-type {\n",
       "        vertical-align: middle;\n",
       "    }\n",
       "\n",
       "    .dataframe tbody tr th {\n",
       "        vertical-align: top;\n",
       "    }\n",
       "\n",
       "    .dataframe thead th {\n",
       "        text-align: right;\n",
       "    }\n",
       "</style>\n",
       "<table border=\"1\" class=\"dataframe\">\n",
       "  <thead>\n",
       "    <tr style=\"text-align: right;\">\n",
       "      <th></th>\n",
       "      <th>num_pickups</th>\n",
       "      <th>num_passengers</th>\n",
       "      <th>missing_dt</th>\n",
       "      <th>temp</th>\n",
       "      <th>temp_min</th>\n",
       "      <th>temp_max</th>\n",
       "      <th>humidity</th>\n",
       "      <th>wind_speed</th>\n",
       "      <th>weather_main</th>\n",
       "      <th>weather_description</th>\n",
       "    </tr>\n",
       "  </thead>\n",
       "  <tbody>\n",
       "    <tr>\n",
       "      <th>2014-01-01 00:00:00-05:00</th>\n",
       "      <td>107.0</td>\n",
       "      <td>210.0</td>\n",
       "      <td>False</td>\n",
       "      <td>269.27</td>\n",
       "      <td>267.59</td>\n",
       "      <td>270.93</td>\n",
       "      <td>80.0</td>\n",
       "      <td>3.0</td>\n",
       "      <td>clear</td>\n",
       "      <td>sky is clear</td>\n",
       "    </tr>\n",
       "    <tr>\n",
       "      <th>2014-01-01 01:00:00-05:00</th>\n",
       "      <td>34.0</td>\n",
       "      <td>45.0</td>\n",
       "      <td>False</td>\n",
       "      <td>268.90</td>\n",
       "      <td>267.04</td>\n",
       "      <td>270.93</td>\n",
       "      <td>80.0</td>\n",
       "      <td>2.0</td>\n",
       "      <td>clear</td>\n",
       "      <td>sky is clear</td>\n",
       "    </tr>\n",
       "    <tr>\n",
       "      <th>2014-01-01 02:00:00-05:00</th>\n",
       "      <td>34.0</td>\n",
       "      <td>70.0</td>\n",
       "      <td>False</td>\n",
       "      <td>268.48</td>\n",
       "      <td>266.48</td>\n",
       "      <td>270.37</td>\n",
       "      <td>57.0</td>\n",
       "      <td>3.0</td>\n",
       "      <td>clear</td>\n",
       "      <td>sky is clear</td>\n",
       "    </tr>\n",
       "    <tr>\n",
       "      <th>2014-01-01 03:00:00-05:00</th>\n",
       "      <td>12.0</td>\n",
       "      <td>18.0</td>\n",
       "      <td>False</td>\n",
       "      <td>268.33</td>\n",
       "      <td>265.93</td>\n",
       "      <td>270.37</td>\n",
       "      <td>80.0</td>\n",
       "      <td>3.0</td>\n",
       "      <td>clear</td>\n",
       "      <td>sky is clear</td>\n",
       "    </tr>\n",
       "    <tr>\n",
       "      <th>2014-01-01 04:00:00-05:00</th>\n",
       "      <td>25.0</td>\n",
       "      <td>37.0</td>\n",
       "      <td>False</td>\n",
       "      <td>268.10</td>\n",
       "      <td>265.37</td>\n",
       "      <td>270.37</td>\n",
       "      <td>80.0</td>\n",
       "      <td>3.0</td>\n",
       "      <td>clear</td>\n",
       "      <td>sky is clear</td>\n",
       "    </tr>\n",
       "  </tbody>\n",
       "</table>\n",
       "</div>"
      ],
      "text/plain": [
       "                           num_pickups  num_passengers  missing_dt    temp  \\\n",
       "2014-01-01 00:00:00-05:00        107.0           210.0       False  269.27   \n",
       "2014-01-01 01:00:00-05:00         34.0            45.0       False  268.90   \n",
       "2014-01-01 02:00:00-05:00         34.0            70.0       False  268.48   \n",
       "2014-01-01 03:00:00-05:00         12.0            18.0       False  268.33   \n",
       "2014-01-01 04:00:00-05:00         25.0            37.0       False  268.10   \n",
       "\n",
       "                           temp_min  temp_max  humidity  wind_speed  \\\n",
       "2014-01-01 00:00:00-05:00    267.59    270.93      80.0         3.0   \n",
       "2014-01-01 01:00:00-05:00    267.04    270.93      80.0         2.0   \n",
       "2014-01-01 02:00:00-05:00    266.48    270.37      57.0         3.0   \n",
       "2014-01-01 03:00:00-05:00    265.93    270.37      80.0         3.0   \n",
       "2014-01-01 04:00:00-05:00    265.37    270.37      80.0         3.0   \n",
       "\n",
       "                          weather_main weather_description  \n",
       "2014-01-01 00:00:00-05:00        clear        sky is clear  \n",
       "2014-01-01 01:00:00-05:00        clear        sky is clear  \n",
       "2014-01-01 02:00:00-05:00        clear        sky is clear  \n",
       "2014-01-01 03:00:00-05:00        clear        sky is clear  \n",
       "2014-01-01 04:00:00-05:00        clear        sky is clear  "
      ]
     },
     "execution_count": 66,
     "metadata": {},
     "output_type": "execute_result"
    }
   ],
   "source": [
    "taxi_weather_df.head()"
   ]
  },
  {
   "cell_type": "code",
   "execution_count": 67,
   "metadata": {},
   "outputs": [
    {
     "data": {
      "text/plain": [
       "(30647, 10)"
      ]
     },
     "execution_count": 67,
     "metadata": {},
     "output_type": "execute_result"
    }
   ],
   "source": [
    "taxi_weather_df.shape"
   ]
  },
  {
   "cell_type": "markdown",
   "metadata": {},
   "source": [
    "### Passenger seat data"
   ]
  },
  {
   "cell_type": "code",
   "execution_count": 68,
   "metadata": {},
   "outputs": [],
   "source": [
    "def clean_seats(path):\n",
    "    seats_per_hour = pd.read_csv(path)\n",
    "    seats_per_hour.columns = ['Time', 'Passengers']\n",
    "    seats_per_hour[\"Time\"] = pd.DatetimeIndex(seats_per_hour.Time)\n",
    "    seats_per_hour.set_index(\"Time\", inplace = True)\n",
    "\n",
    "    #To get rid of errors surrounding daylight savings time. All of taxi pickups and passenger counts are NaNs for these times\n",
    "    seats_per_hour = seats_per_hour.drop([pd.Timestamp('2014-03-09 02:00:00'), pd.Timestamp('2014-11-02 01:00:00'), pd.Timestamp('2015-03-08 02:00:00'), pd.Timestamp('2015-11-01 01:00:00'), pd.Timestamp('2016-03-13 02:00:00'), pd.Timestamp('2016-11-06 01:00:00'), pd.Timestamp('2017-03-12 02:00:00')])\n",
    "    seats_per_hour.index = seats_per_hour.index.tz_localize('America/New_York')\n",
    "    return seats_per_hour"
   ]
  },
  {
   "cell_type": "code",
   "execution_count": 69,
   "metadata": {},
   "outputs": [],
   "source": [
    "seats_per_hour = clean_seats('../clean_data/passengers_per_hour_since_2014.csv')"
   ]
  },
  {
   "cell_type": "code",
   "execution_count": 70,
   "metadata": {},
   "outputs": [],
   "source": [
    "seats_per_hour = seats_per_hour.reindex(taxi_weather_df.index)"
   ]
  },
  {
   "cell_type": "markdown",
   "metadata": {},
   "source": [
    "### Merging all dataframes"
   ]
  },
  {
   "cell_type": "code",
   "execution_count": 71,
   "metadata": {},
   "outputs": [],
   "source": [
    "merged_df = pd.concat([taxi_weather_df, seats_per_hour], axis=1)"
   ]
  },
  {
   "cell_type": "code",
   "execution_count": 72,
   "metadata": {},
   "outputs": [
    {
     "data": {
      "text/plain": [
       "(30647, 11)"
      ]
     },
     "execution_count": 72,
     "metadata": {},
     "output_type": "execute_result"
    }
   ],
   "source": [
    "merged_df.shape"
   ]
  },
  {
   "cell_type": "code",
   "execution_count": 73,
   "metadata": {},
   "outputs": [
    {
     "data": {
      "text/html": [
       "<div>\n",
       "<style scoped>\n",
       "    .dataframe tbody tr th:only-of-type {\n",
       "        vertical-align: middle;\n",
       "    }\n",
       "\n",
       "    .dataframe tbody tr th {\n",
       "        vertical-align: top;\n",
       "    }\n",
       "\n",
       "    .dataframe thead th {\n",
       "        text-align: right;\n",
       "    }\n",
       "</style>\n",
       "<table border=\"1\" class=\"dataframe\">\n",
       "  <thead>\n",
       "    <tr style=\"text-align: right;\">\n",
       "      <th></th>\n",
       "      <th>num_pickups</th>\n",
       "      <th>num_passengers</th>\n",
       "      <th>missing_dt</th>\n",
       "      <th>temp</th>\n",
       "      <th>temp_min</th>\n",
       "      <th>temp_max</th>\n",
       "      <th>humidity</th>\n",
       "      <th>wind_speed</th>\n",
       "      <th>weather_main</th>\n",
       "      <th>weather_description</th>\n",
       "      <th>Passengers</th>\n",
       "    </tr>\n",
       "  </thead>\n",
       "  <tbody>\n",
       "    <tr>\n",
       "      <th>2014-01-01 00:00:00-05:00</th>\n",
       "      <td>107.0</td>\n",
       "      <td>210.0</td>\n",
       "      <td>False</td>\n",
       "      <td>269.27</td>\n",
       "      <td>267.59</td>\n",
       "      <td>270.93</td>\n",
       "      <td>80.0</td>\n",
       "      <td>3.0</td>\n",
       "      <td>clear</td>\n",
       "      <td>sky is clear</td>\n",
       "      <td>108.0</td>\n",
       "    </tr>\n",
       "    <tr>\n",
       "      <th>2014-01-01 01:00:00-05:00</th>\n",
       "      <td>34.0</td>\n",
       "      <td>45.0</td>\n",
       "      <td>False</td>\n",
       "      <td>268.90</td>\n",
       "      <td>267.04</td>\n",
       "      <td>270.93</td>\n",
       "      <td>80.0</td>\n",
       "      <td>2.0</td>\n",
       "      <td>clear</td>\n",
       "      <td>sky is clear</td>\n",
       "      <td>0.0</td>\n",
       "    </tr>\n",
       "    <tr>\n",
       "      <th>2014-01-01 02:00:00-05:00</th>\n",
       "      <td>34.0</td>\n",
       "      <td>70.0</td>\n",
       "      <td>False</td>\n",
       "      <td>268.48</td>\n",
       "      <td>266.48</td>\n",
       "      <td>270.37</td>\n",
       "      <td>57.0</td>\n",
       "      <td>3.0</td>\n",
       "      <td>clear</td>\n",
       "      <td>sky is clear</td>\n",
       "      <td>0.0</td>\n",
       "    </tr>\n",
       "    <tr>\n",
       "      <th>2014-01-01 03:00:00-05:00</th>\n",
       "      <td>12.0</td>\n",
       "      <td>18.0</td>\n",
       "      <td>False</td>\n",
       "      <td>268.33</td>\n",
       "      <td>265.93</td>\n",
       "      <td>270.37</td>\n",
       "      <td>80.0</td>\n",
       "      <td>3.0</td>\n",
       "      <td>clear</td>\n",
       "      <td>sky is clear</td>\n",
       "      <td>0.0</td>\n",
       "    </tr>\n",
       "    <tr>\n",
       "      <th>2014-01-01 04:00:00-05:00</th>\n",
       "      <td>25.0</td>\n",
       "      <td>37.0</td>\n",
       "      <td>False</td>\n",
       "      <td>268.10</td>\n",
       "      <td>265.37</td>\n",
       "      <td>270.37</td>\n",
       "      <td>80.0</td>\n",
       "      <td>3.0</td>\n",
       "      <td>clear</td>\n",
       "      <td>sky is clear</td>\n",
       "      <td>0.0</td>\n",
       "    </tr>\n",
       "  </tbody>\n",
       "</table>\n",
       "</div>"
      ],
      "text/plain": [
       "                           num_pickups  num_passengers  missing_dt    temp  \\\n",
       "2014-01-01 00:00:00-05:00        107.0           210.0       False  269.27   \n",
       "2014-01-01 01:00:00-05:00         34.0            45.0       False  268.90   \n",
       "2014-01-01 02:00:00-05:00         34.0            70.0       False  268.48   \n",
       "2014-01-01 03:00:00-05:00         12.0            18.0       False  268.33   \n",
       "2014-01-01 04:00:00-05:00         25.0            37.0       False  268.10   \n",
       "\n",
       "                           temp_min  temp_max  humidity  wind_speed  \\\n",
       "2014-01-01 00:00:00-05:00    267.59    270.93      80.0         3.0   \n",
       "2014-01-01 01:00:00-05:00    267.04    270.93      80.0         2.0   \n",
       "2014-01-01 02:00:00-05:00    266.48    270.37      57.0         3.0   \n",
       "2014-01-01 03:00:00-05:00    265.93    270.37      80.0         3.0   \n",
       "2014-01-01 04:00:00-05:00    265.37    270.37      80.0         3.0   \n",
       "\n",
       "                          weather_main weather_description  Passengers  \n",
       "2014-01-01 00:00:00-05:00        clear        sky is clear       108.0  \n",
       "2014-01-01 01:00:00-05:00        clear        sky is clear         0.0  \n",
       "2014-01-01 02:00:00-05:00        clear        sky is clear         0.0  \n",
       "2014-01-01 03:00:00-05:00        clear        sky is clear         0.0  \n",
       "2014-01-01 04:00:00-05:00        clear        sky is clear         0.0  "
      ]
     },
     "execution_count": 73,
     "metadata": {},
     "output_type": "execute_result"
    }
   ],
   "source": [
    "merged_df.head()"
   ]
  },
  {
   "cell_type": "code",
   "execution_count": 74,
   "metadata": {},
   "outputs": [],
   "source": [
    "merged_df['Month'] = merged_df.index.month"
   ]
  },
  {
   "cell_type": "code",
   "execution_count": 75,
   "metadata": {},
   "outputs": [],
   "source": [
    "merged_df['Hour'] = merged_df.index.hour"
   ]
  },
  {
   "cell_type": "code",
   "execution_count": 76,
   "metadata": {},
   "outputs": [],
   "source": [
    "merged_df['Day'] = merged_df.index.dayofweek"
   ]
  },
  {
   "cell_type": "code",
   "execution_count": 77,
   "metadata": {},
   "outputs": [
    {
     "data": {
      "text/html": [
       "<div>\n",
       "<style scoped>\n",
       "    .dataframe tbody tr th:only-of-type {\n",
       "        vertical-align: middle;\n",
       "    }\n",
       "\n",
       "    .dataframe tbody tr th {\n",
       "        vertical-align: top;\n",
       "    }\n",
       "\n",
       "    .dataframe thead th {\n",
       "        text-align: right;\n",
       "    }\n",
       "</style>\n",
       "<table border=\"1\" class=\"dataframe\">\n",
       "  <thead>\n",
       "    <tr style=\"text-align: right;\">\n",
       "      <th></th>\n",
       "      <th>num_pickups</th>\n",
       "      <th>num_passengers</th>\n",
       "      <th>missing_dt</th>\n",
       "      <th>temp</th>\n",
       "      <th>temp_min</th>\n",
       "      <th>temp_max</th>\n",
       "      <th>humidity</th>\n",
       "      <th>wind_speed</th>\n",
       "      <th>weather_main</th>\n",
       "      <th>weather_description</th>\n",
       "      <th>Passengers</th>\n",
       "      <th>Month</th>\n",
       "      <th>Hour</th>\n",
       "      <th>Day</th>\n",
       "    </tr>\n",
       "  </thead>\n",
       "  <tbody>\n",
       "    <tr>\n",
       "      <th>2014-01-01 00:00:00-05:00</th>\n",
       "      <td>107.0</td>\n",
       "      <td>210.0</td>\n",
       "      <td>False</td>\n",
       "      <td>269.27</td>\n",
       "      <td>267.59</td>\n",
       "      <td>270.93</td>\n",
       "      <td>80.0</td>\n",
       "      <td>3.0</td>\n",
       "      <td>clear</td>\n",
       "      <td>sky is clear</td>\n",
       "      <td>108.0</td>\n",
       "      <td>1</td>\n",
       "      <td>0</td>\n",
       "      <td>2</td>\n",
       "    </tr>\n",
       "    <tr>\n",
       "      <th>2014-01-01 01:00:00-05:00</th>\n",
       "      <td>34.0</td>\n",
       "      <td>45.0</td>\n",
       "      <td>False</td>\n",
       "      <td>268.90</td>\n",
       "      <td>267.04</td>\n",
       "      <td>270.93</td>\n",
       "      <td>80.0</td>\n",
       "      <td>2.0</td>\n",
       "      <td>clear</td>\n",
       "      <td>sky is clear</td>\n",
       "      <td>0.0</td>\n",
       "      <td>1</td>\n",
       "      <td>1</td>\n",
       "      <td>2</td>\n",
       "    </tr>\n",
       "    <tr>\n",
       "      <th>2014-01-01 02:00:00-05:00</th>\n",
       "      <td>34.0</td>\n",
       "      <td>70.0</td>\n",
       "      <td>False</td>\n",
       "      <td>268.48</td>\n",
       "      <td>266.48</td>\n",
       "      <td>270.37</td>\n",
       "      <td>57.0</td>\n",
       "      <td>3.0</td>\n",
       "      <td>clear</td>\n",
       "      <td>sky is clear</td>\n",
       "      <td>0.0</td>\n",
       "      <td>1</td>\n",
       "      <td>2</td>\n",
       "      <td>2</td>\n",
       "    </tr>\n",
       "    <tr>\n",
       "      <th>2014-01-01 03:00:00-05:00</th>\n",
       "      <td>12.0</td>\n",
       "      <td>18.0</td>\n",
       "      <td>False</td>\n",
       "      <td>268.33</td>\n",
       "      <td>265.93</td>\n",
       "      <td>270.37</td>\n",
       "      <td>80.0</td>\n",
       "      <td>3.0</td>\n",
       "      <td>clear</td>\n",
       "      <td>sky is clear</td>\n",
       "      <td>0.0</td>\n",
       "      <td>1</td>\n",
       "      <td>3</td>\n",
       "      <td>2</td>\n",
       "    </tr>\n",
       "    <tr>\n",
       "      <th>2014-01-01 04:00:00-05:00</th>\n",
       "      <td>25.0</td>\n",
       "      <td>37.0</td>\n",
       "      <td>False</td>\n",
       "      <td>268.10</td>\n",
       "      <td>265.37</td>\n",
       "      <td>270.37</td>\n",
       "      <td>80.0</td>\n",
       "      <td>3.0</td>\n",
       "      <td>clear</td>\n",
       "      <td>sky is clear</td>\n",
       "      <td>0.0</td>\n",
       "      <td>1</td>\n",
       "      <td>4</td>\n",
       "      <td>2</td>\n",
       "    </tr>\n",
       "  </tbody>\n",
       "</table>\n",
       "</div>"
      ],
      "text/plain": [
       "                           num_pickups  num_passengers  missing_dt    temp  \\\n",
       "2014-01-01 00:00:00-05:00        107.0           210.0       False  269.27   \n",
       "2014-01-01 01:00:00-05:00         34.0            45.0       False  268.90   \n",
       "2014-01-01 02:00:00-05:00         34.0            70.0       False  268.48   \n",
       "2014-01-01 03:00:00-05:00         12.0            18.0       False  268.33   \n",
       "2014-01-01 04:00:00-05:00         25.0            37.0       False  268.10   \n",
       "\n",
       "                           temp_min  temp_max  humidity  wind_speed  \\\n",
       "2014-01-01 00:00:00-05:00    267.59    270.93      80.0         3.0   \n",
       "2014-01-01 01:00:00-05:00    267.04    270.93      80.0         2.0   \n",
       "2014-01-01 02:00:00-05:00    266.48    270.37      57.0         3.0   \n",
       "2014-01-01 03:00:00-05:00    265.93    270.37      80.0         3.0   \n",
       "2014-01-01 04:00:00-05:00    265.37    270.37      80.0         3.0   \n",
       "\n",
       "                          weather_main weather_description  Passengers  Month  \\\n",
       "2014-01-01 00:00:00-05:00        clear        sky is clear       108.0      1   \n",
       "2014-01-01 01:00:00-05:00        clear        sky is clear         0.0      1   \n",
       "2014-01-01 02:00:00-05:00        clear        sky is clear         0.0      1   \n",
       "2014-01-01 03:00:00-05:00        clear        sky is clear         0.0      1   \n",
       "2014-01-01 04:00:00-05:00        clear        sky is clear         0.0      1   \n",
       "\n",
       "                           Hour  Day  \n",
       "2014-01-01 00:00:00-05:00     0    2  \n",
       "2014-01-01 01:00:00-05:00     1    2  \n",
       "2014-01-01 02:00:00-05:00     2    2  \n",
       "2014-01-01 03:00:00-05:00     3    2  \n",
       "2014-01-01 04:00:00-05:00     4    2  "
      ]
     },
     "execution_count": 77,
     "metadata": {},
     "output_type": "execute_result"
    }
   ],
   "source": [
    "merged_df.head()"
   ]
  },
  {
   "cell_type": "markdown",
   "metadata": {},
   "source": [
    "### Adding Federal Calendar Holidays"
   ]
  },
  {
   "cell_type": "code",
   "execution_count": 78,
   "metadata": {},
   "outputs": [],
   "source": [
    "dr = pd.to_datetime(pd.to_datetime(merged_df.index.date))\n",
    "\n",
    "cal = calendar()\n",
    "holidays = cal.holidays(start=dr.min(), end=dr.max())\n",
    "\n",
    "merged_df['holiday'] = dr.isin(holidays)"
   ]
  },
  {
   "cell_type": "code",
   "execution_count": 79,
   "metadata": {},
   "outputs": [],
   "source": [
    "merged_df.to_csv(\"../clean_data/FinalData_for_Models.csv\")"
   ]
  },
  {
   "cell_type": "markdown",
   "metadata": {},
   "source": [
    "---"
   ]
  }
 ],
 "metadata": {
  "anaconda-cloud": {},
  "kernelspec": {
   "display_name": "Python 3",
   "language": "python",
   "name": "python3"
  },
  "language_info": {
   "codemirror_mode": {
    "name": "ipython",
    "version": 3
   },
   "file_extension": ".py",
   "mimetype": "text/x-python",
   "name": "python",
   "nbconvert_exporter": "python",
   "pygments_lexer": "ipython3",
   "version": "3.6.3"
  }
 },
 "nbformat": 4,
 "nbformat_minor": 1
}
