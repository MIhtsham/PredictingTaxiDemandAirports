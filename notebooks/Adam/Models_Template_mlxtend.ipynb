{
 "cells": [
  {
   "cell_type": "markdown",
   "metadata": {},
   "source": [
    "### Import Statements"
   ]
  },
  {
   "cell_type": "code",
   "execution_count": 1,
   "metadata": {
    "collapsed": false
   },
   "outputs": [],
   "source": [
    "from sklearn.linear_model import Ridge, LinearRegression, Lasso, RidgeCV, LassoCV\n",
    "from sklearn.preprocessing import StandardScaler, RobustScaler, MinMaxScaler, Normalizer\n",
    "from sklearn.model_selection import cross_val_score, TimeSeriesSplit\n",
    "from sklearn.preprocessing import PolynomialFeatures\n",
    "from sklearn.model_selection import GridSearchCV, RandomizedSearchCV\n",
    "from sklearn.pipeline import make_pipeline\n",
    "from sklearn.feature_selection import VarianceThreshold\n",
    "from sklearn.ensemble import RandomForestRegressor, BaggingRegressor, GradientBoostingRegressor, AdaBoostRegressor\n",
    "from sklearn.neighbors import KNeighborsRegressor\n",
    "from sklearn.svm import SVR\n",
    "import pandas as pd\n",
    "import numpy as np\n",
    "import matplotlib.pyplot as plt\n",
    "from sklearn.utils import shuffle\n",
    "from sklearn.model_selection import train_test_split\n",
    "#from xgboost import XGBRegressor\n",
    "import seaborn as sns\n",
    "\n",
    "%matplotlib inline\n",
    "# plt.style.use(\"ggplot\")\n",
    "sns.set_style(\"darkgrid\")"
   ]
  },
  {
   "cell_type": "code",
   "execution_count": 2,
   "metadata": {
    "collapsed": true
   },
   "outputs": [],
   "source": [
    "pd.set_option('display.max_columns', 500)\n",
    "pd.set_option('display.max_rows', 500)"
   ]
  },
  {
   "cell_type": "markdown",
   "metadata": {},
   "source": [
    "### Read the Data"
   ]
  },
  {
   "cell_type": "code",
   "execution_count": 3,
   "metadata": {
    "collapsed": true
   },
   "outputs": [],
   "source": [
    "data = pd.read_csv(\"../../clean_data/FinalData_for_Models.csv\")"
   ]
  },
  {
   "cell_type": "code",
   "execution_count": 4,
   "metadata": {
    "collapsed": true
   },
   "outputs": [],
   "source": [
    "data.rename(columns={'Unnamed: 0':'pickup_time'}, inplace=True)"
   ]
  },
  {
   "cell_type": "code",
   "execution_count": 5,
   "metadata": {
    "collapsed": false
   },
   "outputs": [
    {
     "data": {
      "text/html": [
       "<div>\n",
       "<style>\n",
       "    .dataframe thead tr:only-child th {\n",
       "        text-align: right;\n",
       "    }\n",
       "\n",
       "    .dataframe thead th {\n",
       "        text-align: left;\n",
       "    }\n",
       "\n",
       "    .dataframe tbody tr th {\n",
       "        vertical-align: top;\n",
       "    }\n",
       "</style>\n",
       "<table border=\"1\" class=\"dataframe\">\n",
       "  <thead>\n",
       "    <tr style=\"text-align: right;\">\n",
       "      <th></th>\n",
       "      <th>pickup_time</th>\n",
       "      <th>num_pickups</th>\n",
       "      <th>num_passengers</th>\n",
       "      <th>missing_dt</th>\n",
       "      <th>temp</th>\n",
       "      <th>temp_min</th>\n",
       "      <th>temp_max</th>\n",
       "      <th>humidity</th>\n",
       "      <th>wind_speed</th>\n",
       "      <th>weather_main</th>\n",
       "      <th>weather_description</th>\n",
       "      <th>Passengers</th>\n",
       "      <th>Month</th>\n",
       "      <th>Hour</th>\n",
       "      <th>Day</th>\n",
       "      <th>holiday</th>\n",
       "      <th>precip_in</th>\n",
       "      <th>Avg_Delay_Arriving</th>\n",
       "      <th>Avg_Delay_Departing</th>\n",
       "      <th>Cancelled_Arriving_Flights</th>\n",
       "      <th>Cancelled_Departing_Flights</th>\n",
       "    </tr>\n",
       "  </thead>\n",
       "  <tbody>\n",
       "    <tr>\n",
       "      <th>0</th>\n",
       "      <td>2014-01-01 00:00:00-05:00</td>\n",
       "      <td>107.0</td>\n",
       "      <td>210.0</td>\n",
       "      <td>False</td>\n",
       "      <td>269.27</td>\n",
       "      <td>267.59</td>\n",
       "      <td>270.93</td>\n",
       "      <td>80.0</td>\n",
       "      <td>3.0</td>\n",
       "      <td>clear</td>\n",
       "      <td>sky is clear</td>\n",
       "      <td>108.0</td>\n",
       "      <td>1</td>\n",
       "      <td>0</td>\n",
       "      <td>2</td>\n",
       "      <td>True</td>\n",
       "      <td>0.0</td>\n",
       "      <td>0.0</td>\n",
       "      <td>0.0</td>\n",
       "      <td>0.0</td>\n",
       "      <td>0.0</td>\n",
       "    </tr>\n",
       "    <tr>\n",
       "      <th>1</th>\n",
       "      <td>2014-01-01 01:00:00-05:00</td>\n",
       "      <td>34.0</td>\n",
       "      <td>45.0</td>\n",
       "      <td>False</td>\n",
       "      <td>268.90</td>\n",
       "      <td>267.04</td>\n",
       "      <td>270.93</td>\n",
       "      <td>80.0</td>\n",
       "      <td>2.0</td>\n",
       "      <td>clear</td>\n",
       "      <td>sky is clear</td>\n",
       "      <td>0.0</td>\n",
       "      <td>1</td>\n",
       "      <td>1</td>\n",
       "      <td>2</td>\n",
       "      <td>True</td>\n",
       "      <td>0.0</td>\n",
       "      <td>0.0</td>\n",
       "      <td>0.0</td>\n",
       "      <td>0.0</td>\n",
       "      <td>0.0</td>\n",
       "    </tr>\n",
       "    <tr>\n",
       "      <th>2</th>\n",
       "      <td>2014-01-01 02:00:00-05:00</td>\n",
       "      <td>34.0</td>\n",
       "      <td>70.0</td>\n",
       "      <td>False</td>\n",
       "      <td>268.48</td>\n",
       "      <td>266.48</td>\n",
       "      <td>270.37</td>\n",
       "      <td>57.0</td>\n",
       "      <td>3.0</td>\n",
       "      <td>clear</td>\n",
       "      <td>sky is clear</td>\n",
       "      <td>0.0</td>\n",
       "      <td>1</td>\n",
       "      <td>2</td>\n",
       "      <td>2</td>\n",
       "      <td>True</td>\n",
       "      <td>0.0</td>\n",
       "      <td>0.0</td>\n",
       "      <td>0.0</td>\n",
       "      <td>0.0</td>\n",
       "      <td>0.0</td>\n",
       "    </tr>\n",
       "    <tr>\n",
       "      <th>3</th>\n",
       "      <td>2014-01-01 03:00:00-05:00</td>\n",
       "      <td>12.0</td>\n",
       "      <td>18.0</td>\n",
       "      <td>False</td>\n",
       "      <td>268.33</td>\n",
       "      <td>265.93</td>\n",
       "      <td>270.37</td>\n",
       "      <td>80.0</td>\n",
       "      <td>3.0</td>\n",
       "      <td>clear</td>\n",
       "      <td>sky is clear</td>\n",
       "      <td>0.0</td>\n",
       "      <td>1</td>\n",
       "      <td>3</td>\n",
       "      <td>2</td>\n",
       "      <td>True</td>\n",
       "      <td>0.0</td>\n",
       "      <td>291.0</td>\n",
       "      <td>0.0</td>\n",
       "      <td>0.0</td>\n",
       "      <td>0.0</td>\n",
       "    </tr>\n",
       "    <tr>\n",
       "      <th>4</th>\n",
       "      <td>2014-01-01 04:00:00-05:00</td>\n",
       "      <td>25.0</td>\n",
       "      <td>37.0</td>\n",
       "      <td>False</td>\n",
       "      <td>268.10</td>\n",
       "      <td>265.37</td>\n",
       "      <td>270.37</td>\n",
       "      <td>80.0</td>\n",
       "      <td>3.0</td>\n",
       "      <td>clear</td>\n",
       "      <td>sky is clear</td>\n",
       "      <td>0.0</td>\n",
       "      <td>1</td>\n",
       "      <td>4</td>\n",
       "      <td>2</td>\n",
       "      <td>True</td>\n",
       "      <td>0.0</td>\n",
       "      <td>0.0</td>\n",
       "      <td>0.0</td>\n",
       "      <td>0.0</td>\n",
       "      <td>0.0</td>\n",
       "    </tr>\n",
       "  </tbody>\n",
       "</table>\n",
       "</div>"
      ],
      "text/plain": [
       "                 pickup_time  num_pickups  num_passengers  missing_dt    temp  \\\n",
       "0  2014-01-01 00:00:00-05:00        107.0           210.0       False  269.27   \n",
       "1  2014-01-01 01:00:00-05:00         34.0            45.0       False  268.90   \n",
       "2  2014-01-01 02:00:00-05:00         34.0            70.0       False  268.48   \n",
       "3  2014-01-01 03:00:00-05:00         12.0            18.0       False  268.33   \n",
       "4  2014-01-01 04:00:00-05:00         25.0            37.0       False  268.10   \n",
       "\n",
       "   temp_min  temp_max  humidity  wind_speed weather_main weather_description  \\\n",
       "0    267.59    270.93      80.0         3.0        clear        sky is clear   \n",
       "1    267.04    270.93      80.0         2.0        clear        sky is clear   \n",
       "2    266.48    270.37      57.0         3.0        clear        sky is clear   \n",
       "3    265.93    270.37      80.0         3.0        clear        sky is clear   \n",
       "4    265.37    270.37      80.0         3.0        clear        sky is clear   \n",
       "\n",
       "   Passengers  Month  Hour  Day  holiday  precip_in  Avg_Delay_Arriving  \\\n",
       "0       108.0      1     0    2     True        0.0                 0.0   \n",
       "1         0.0      1     1    2     True        0.0                 0.0   \n",
       "2         0.0      1     2    2     True        0.0                 0.0   \n",
       "3         0.0      1     3    2     True        0.0               291.0   \n",
       "4         0.0      1     4    2     True        0.0                 0.0   \n",
       "\n",
       "   Avg_Delay_Departing  Cancelled_Arriving_Flights  \\\n",
       "0                  0.0                         0.0   \n",
       "1                  0.0                         0.0   \n",
       "2                  0.0                         0.0   \n",
       "3                  0.0                         0.0   \n",
       "4                  0.0                         0.0   \n",
       "\n",
       "   Cancelled_Departing_Flights  \n",
       "0                          0.0  \n",
       "1                          0.0  \n",
       "2                          0.0  \n",
       "3                          0.0  \n",
       "4                          0.0  "
      ]
     },
     "execution_count": 5,
     "metadata": {},
     "output_type": "execute_result"
    }
   ],
   "source": [
    "data.head()"
   ]
  },
  {
   "cell_type": "code",
   "execution_count": 6,
   "metadata": {
    "collapsed": true
   },
   "outputs": [],
   "source": [
    "## ignoring the missing data values in 2016\n",
    "data = data.loc[data.missing_dt == False, :]\n",
    "data.drop(\"missing_dt\", axis=1, inplace=True)"
   ]
  },
  {
   "cell_type": "code",
   "execution_count": 7,
   "metadata": {
    "collapsed": false
   },
   "outputs": [
    {
     "data": {
      "text/plain": [
       "(26230, 20)"
      ]
     },
     "execution_count": 7,
     "metadata": {},
     "output_type": "execute_result"
    }
   ],
   "source": [
    "data.shape"
   ]
  },
  {
   "cell_type": "markdown",
   "metadata": {},
   "source": [
    "### Creating Dummies for Weather Data"
   ]
  },
  {
   "cell_type": "code",
   "execution_count": 8,
   "metadata": {
    "collapsed": true
   },
   "outputs": [],
   "source": [
    "## for weather main\n",
    "data_wm_dummies = data['weather_main'].str.split(\",\").str.join(\"*\").str.get_dummies(sep='*')"
   ]
  },
  {
   "cell_type": "code",
   "execution_count": 9,
   "metadata": {
    "collapsed": true
   },
   "outputs": [],
   "source": [
    "## for weather description\n",
    "data_wd_dummies = data['weather_description'].str.split(\",\").str.join(\"*\").str.get_dummies(sep='*')"
   ]
  },
  {
   "cell_type": "code",
   "execution_count": 10,
   "metadata": {
    "collapsed": true
   },
   "outputs": [],
   "source": [
    "data.drop([\"weather_main\", \"weather_description\"], axis=1, inplace=True)"
   ]
  },
  {
   "cell_type": "code",
   "execution_count": 11,
   "metadata": {
    "collapsed": true
   },
   "outputs": [],
   "source": [
    "data = pd.concat([data, data_wm_dummies], axis=1)"
   ]
  },
  {
   "cell_type": "code",
   "execution_count": 12,
   "metadata": {
    "collapsed": false
   },
   "outputs": [
    {
     "data": {
      "text/plain": [
       "(26230, 24)"
      ]
     },
     "execution_count": 12,
     "metadata": {},
     "output_type": "execute_result"
    }
   ],
   "source": [
    "data.shape"
   ]
  },
  {
   "cell_type": "code",
   "execution_count": 13,
   "metadata": {
    "collapsed": false
   },
   "outputs": [
    {
     "data": {
      "text/html": [
       "<div>\n",
       "<style>\n",
       "    .dataframe thead tr:only-child th {\n",
       "        text-align: right;\n",
       "    }\n",
       "\n",
       "    .dataframe thead th {\n",
       "        text-align: left;\n",
       "    }\n",
       "\n",
       "    .dataframe tbody tr th {\n",
       "        vertical-align: top;\n",
       "    }\n",
       "</style>\n",
       "<table border=\"1\" class=\"dataframe\">\n",
       "  <thead>\n",
       "    <tr style=\"text-align: right;\">\n",
       "      <th></th>\n",
       "      <th>pickup_time</th>\n",
       "      <th>num_pickups</th>\n",
       "      <th>num_passengers</th>\n",
       "      <th>temp</th>\n",
       "      <th>temp_min</th>\n",
       "      <th>temp_max</th>\n",
       "      <th>humidity</th>\n",
       "      <th>wind_speed</th>\n",
       "      <th>Passengers</th>\n",
       "      <th>Month</th>\n",
       "      <th>Hour</th>\n",
       "      <th>Day</th>\n",
       "      <th>holiday</th>\n",
       "      <th>precip_in</th>\n",
       "      <th>Avg_Delay_Arriving</th>\n",
       "      <th>Avg_Delay_Departing</th>\n",
       "      <th>Cancelled_Arriving_Flights</th>\n",
       "      <th>Cancelled_Departing_Flights</th>\n",
       "      <th>clear</th>\n",
       "      <th>clouds</th>\n",
       "      <th>fog</th>\n",
       "      <th>rain</th>\n",
       "      <th>snow</th>\n",
       "      <th>thunderstorm</th>\n",
       "    </tr>\n",
       "  </thead>\n",
       "  <tbody>\n",
       "    <tr>\n",
       "      <th>0</th>\n",
       "      <td>2014-01-01 00:00:00-05:00</td>\n",
       "      <td>107.0</td>\n",
       "      <td>210.0</td>\n",
       "      <td>269.27</td>\n",
       "      <td>267.59</td>\n",
       "      <td>270.93</td>\n",
       "      <td>80.0</td>\n",
       "      <td>3.0</td>\n",
       "      <td>108.0</td>\n",
       "      <td>1</td>\n",
       "      <td>0</td>\n",
       "      <td>2</td>\n",
       "      <td>True</td>\n",
       "      <td>0.0</td>\n",
       "      <td>0.0</td>\n",
       "      <td>0.0</td>\n",
       "      <td>0.0</td>\n",
       "      <td>0.0</td>\n",
       "      <td>1</td>\n",
       "      <td>0</td>\n",
       "      <td>0</td>\n",
       "      <td>0</td>\n",
       "      <td>0</td>\n",
       "      <td>0</td>\n",
       "    </tr>\n",
       "    <tr>\n",
       "      <th>1</th>\n",
       "      <td>2014-01-01 01:00:00-05:00</td>\n",
       "      <td>34.0</td>\n",
       "      <td>45.0</td>\n",
       "      <td>268.90</td>\n",
       "      <td>267.04</td>\n",
       "      <td>270.93</td>\n",
       "      <td>80.0</td>\n",
       "      <td>2.0</td>\n",
       "      <td>0.0</td>\n",
       "      <td>1</td>\n",
       "      <td>1</td>\n",
       "      <td>2</td>\n",
       "      <td>True</td>\n",
       "      <td>0.0</td>\n",
       "      <td>0.0</td>\n",
       "      <td>0.0</td>\n",
       "      <td>0.0</td>\n",
       "      <td>0.0</td>\n",
       "      <td>1</td>\n",
       "      <td>0</td>\n",
       "      <td>0</td>\n",
       "      <td>0</td>\n",
       "      <td>0</td>\n",
       "      <td>0</td>\n",
       "    </tr>\n",
       "    <tr>\n",
       "      <th>2</th>\n",
       "      <td>2014-01-01 02:00:00-05:00</td>\n",
       "      <td>34.0</td>\n",
       "      <td>70.0</td>\n",
       "      <td>268.48</td>\n",
       "      <td>266.48</td>\n",
       "      <td>270.37</td>\n",
       "      <td>57.0</td>\n",
       "      <td>3.0</td>\n",
       "      <td>0.0</td>\n",
       "      <td>1</td>\n",
       "      <td>2</td>\n",
       "      <td>2</td>\n",
       "      <td>True</td>\n",
       "      <td>0.0</td>\n",
       "      <td>0.0</td>\n",
       "      <td>0.0</td>\n",
       "      <td>0.0</td>\n",
       "      <td>0.0</td>\n",
       "      <td>1</td>\n",
       "      <td>0</td>\n",
       "      <td>0</td>\n",
       "      <td>0</td>\n",
       "      <td>0</td>\n",
       "      <td>0</td>\n",
       "    </tr>\n",
       "    <tr>\n",
       "      <th>3</th>\n",
       "      <td>2014-01-01 03:00:00-05:00</td>\n",
       "      <td>12.0</td>\n",
       "      <td>18.0</td>\n",
       "      <td>268.33</td>\n",
       "      <td>265.93</td>\n",
       "      <td>270.37</td>\n",
       "      <td>80.0</td>\n",
       "      <td>3.0</td>\n",
       "      <td>0.0</td>\n",
       "      <td>1</td>\n",
       "      <td>3</td>\n",
       "      <td>2</td>\n",
       "      <td>True</td>\n",
       "      <td>0.0</td>\n",
       "      <td>291.0</td>\n",
       "      <td>0.0</td>\n",
       "      <td>0.0</td>\n",
       "      <td>0.0</td>\n",
       "      <td>1</td>\n",
       "      <td>0</td>\n",
       "      <td>0</td>\n",
       "      <td>0</td>\n",
       "      <td>0</td>\n",
       "      <td>0</td>\n",
       "    </tr>\n",
       "    <tr>\n",
       "      <th>4</th>\n",
       "      <td>2014-01-01 04:00:00-05:00</td>\n",
       "      <td>25.0</td>\n",
       "      <td>37.0</td>\n",
       "      <td>268.10</td>\n",
       "      <td>265.37</td>\n",
       "      <td>270.37</td>\n",
       "      <td>80.0</td>\n",
       "      <td>3.0</td>\n",
       "      <td>0.0</td>\n",
       "      <td>1</td>\n",
       "      <td>4</td>\n",
       "      <td>2</td>\n",
       "      <td>True</td>\n",
       "      <td>0.0</td>\n",
       "      <td>0.0</td>\n",
       "      <td>0.0</td>\n",
       "      <td>0.0</td>\n",
       "      <td>0.0</td>\n",
       "      <td>1</td>\n",
       "      <td>0</td>\n",
       "      <td>0</td>\n",
       "      <td>0</td>\n",
       "      <td>0</td>\n",
       "      <td>0</td>\n",
       "    </tr>\n",
       "  </tbody>\n",
       "</table>\n",
       "</div>"
      ],
      "text/plain": [
       "                 pickup_time  num_pickups  num_passengers    temp  temp_min  \\\n",
       "0  2014-01-01 00:00:00-05:00        107.0           210.0  269.27    267.59   \n",
       "1  2014-01-01 01:00:00-05:00         34.0            45.0  268.90    267.04   \n",
       "2  2014-01-01 02:00:00-05:00         34.0            70.0  268.48    266.48   \n",
       "3  2014-01-01 03:00:00-05:00         12.0            18.0  268.33    265.93   \n",
       "4  2014-01-01 04:00:00-05:00         25.0            37.0  268.10    265.37   \n",
       "\n",
       "   temp_max  humidity  wind_speed  Passengers  Month  Hour  Day  holiday  \\\n",
       "0    270.93      80.0         3.0       108.0      1     0    2     True   \n",
       "1    270.93      80.0         2.0         0.0      1     1    2     True   \n",
       "2    270.37      57.0         3.0         0.0      1     2    2     True   \n",
       "3    270.37      80.0         3.0         0.0      1     3    2     True   \n",
       "4    270.37      80.0         3.0         0.0      1     4    2     True   \n",
       "\n",
       "   precip_in  Avg_Delay_Arriving  Avg_Delay_Departing  \\\n",
       "0        0.0                 0.0                  0.0   \n",
       "1        0.0                 0.0                  0.0   \n",
       "2        0.0                 0.0                  0.0   \n",
       "3        0.0               291.0                  0.0   \n",
       "4        0.0                 0.0                  0.0   \n",
       "\n",
       "   Cancelled_Arriving_Flights  Cancelled_Departing_Flights  clear  clouds  \\\n",
       "0                         0.0                          0.0      1       0   \n",
       "1                         0.0                          0.0      1       0   \n",
       "2                         0.0                          0.0      1       0   \n",
       "3                         0.0                          0.0      1       0   \n",
       "4                         0.0                          0.0      1       0   \n",
       "\n",
       "   fog  rain  snow  thunderstorm  \n",
       "0    0     0     0             0  \n",
       "1    0     0     0             0  \n",
       "2    0     0     0             0  \n",
       "3    0     0     0             0  \n",
       "4    0     0     0             0  "
      ]
     },
     "execution_count": 13,
     "metadata": {},
     "output_type": "execute_result"
    }
   ],
   "source": [
    "data.head()"
   ]
  },
  {
   "cell_type": "markdown",
   "metadata": {},
   "source": [
    "** Remark : We can choose to only include weather main categories or weather description also alongwith <br> TRY BOTH OF THEM FOR MODELS **"
   ]
  },
  {
   "cell_type": "markdown",
   "metadata": {},
   "source": [
    "### Modifying Boolean Data Columns (Holiday)"
   ]
  },
  {
   "cell_type": "code",
   "execution_count": 14,
   "metadata": {
    "collapsed": true
   },
   "outputs": [],
   "source": [
    "data['holiday'] = data.holiday.astype(int)"
   ]
  },
  {
   "cell_type": "code",
   "execution_count": 15,
   "metadata": {
    "collapsed": false
   },
   "outputs": [
    {
     "data": {
      "text/html": [
       "<div>\n",
       "<style>\n",
       "    .dataframe thead tr:only-child th {\n",
       "        text-align: right;\n",
       "    }\n",
       "\n",
       "    .dataframe thead th {\n",
       "        text-align: left;\n",
       "    }\n",
       "\n",
       "    .dataframe tbody tr th {\n",
       "        vertical-align: top;\n",
       "    }\n",
       "</style>\n",
       "<table border=\"1\" class=\"dataframe\">\n",
       "  <thead>\n",
       "    <tr style=\"text-align: right;\">\n",
       "      <th></th>\n",
       "      <th>pickup_time</th>\n",
       "      <th>num_pickups</th>\n",
       "      <th>num_passengers</th>\n",
       "      <th>temp</th>\n",
       "      <th>temp_min</th>\n",
       "      <th>temp_max</th>\n",
       "      <th>humidity</th>\n",
       "      <th>wind_speed</th>\n",
       "      <th>Passengers</th>\n",
       "      <th>Month</th>\n",
       "      <th>Hour</th>\n",
       "      <th>Day</th>\n",
       "      <th>holiday</th>\n",
       "      <th>precip_in</th>\n",
       "      <th>Avg_Delay_Arriving</th>\n",
       "      <th>Avg_Delay_Departing</th>\n",
       "      <th>Cancelled_Arriving_Flights</th>\n",
       "      <th>Cancelled_Departing_Flights</th>\n",
       "      <th>clear</th>\n",
       "      <th>clouds</th>\n",
       "      <th>fog</th>\n",
       "      <th>rain</th>\n",
       "      <th>snow</th>\n",
       "      <th>thunderstorm</th>\n",
       "    </tr>\n",
       "  </thead>\n",
       "  <tbody>\n",
       "    <tr>\n",
       "      <th>0</th>\n",
       "      <td>2014-01-01 00:00:00-05:00</td>\n",
       "      <td>107.0</td>\n",
       "      <td>210.0</td>\n",
       "      <td>269.27</td>\n",
       "      <td>267.59</td>\n",
       "      <td>270.93</td>\n",
       "      <td>80.0</td>\n",
       "      <td>3.0</td>\n",
       "      <td>108.0</td>\n",
       "      <td>1</td>\n",
       "      <td>0</td>\n",
       "      <td>2</td>\n",
       "      <td>1</td>\n",
       "      <td>0.0</td>\n",
       "      <td>0.0</td>\n",
       "      <td>0.0</td>\n",
       "      <td>0.0</td>\n",
       "      <td>0.0</td>\n",
       "      <td>1</td>\n",
       "      <td>0</td>\n",
       "      <td>0</td>\n",
       "      <td>0</td>\n",
       "      <td>0</td>\n",
       "      <td>0</td>\n",
       "    </tr>\n",
       "    <tr>\n",
       "      <th>1</th>\n",
       "      <td>2014-01-01 01:00:00-05:00</td>\n",
       "      <td>34.0</td>\n",
       "      <td>45.0</td>\n",
       "      <td>268.90</td>\n",
       "      <td>267.04</td>\n",
       "      <td>270.93</td>\n",
       "      <td>80.0</td>\n",
       "      <td>2.0</td>\n",
       "      <td>0.0</td>\n",
       "      <td>1</td>\n",
       "      <td>1</td>\n",
       "      <td>2</td>\n",
       "      <td>1</td>\n",
       "      <td>0.0</td>\n",
       "      <td>0.0</td>\n",
       "      <td>0.0</td>\n",
       "      <td>0.0</td>\n",
       "      <td>0.0</td>\n",
       "      <td>1</td>\n",
       "      <td>0</td>\n",
       "      <td>0</td>\n",
       "      <td>0</td>\n",
       "      <td>0</td>\n",
       "      <td>0</td>\n",
       "    </tr>\n",
       "    <tr>\n",
       "      <th>2</th>\n",
       "      <td>2014-01-01 02:00:00-05:00</td>\n",
       "      <td>34.0</td>\n",
       "      <td>70.0</td>\n",
       "      <td>268.48</td>\n",
       "      <td>266.48</td>\n",
       "      <td>270.37</td>\n",
       "      <td>57.0</td>\n",
       "      <td>3.0</td>\n",
       "      <td>0.0</td>\n",
       "      <td>1</td>\n",
       "      <td>2</td>\n",
       "      <td>2</td>\n",
       "      <td>1</td>\n",
       "      <td>0.0</td>\n",
       "      <td>0.0</td>\n",
       "      <td>0.0</td>\n",
       "      <td>0.0</td>\n",
       "      <td>0.0</td>\n",
       "      <td>1</td>\n",
       "      <td>0</td>\n",
       "      <td>0</td>\n",
       "      <td>0</td>\n",
       "      <td>0</td>\n",
       "      <td>0</td>\n",
       "    </tr>\n",
       "    <tr>\n",
       "      <th>3</th>\n",
       "      <td>2014-01-01 03:00:00-05:00</td>\n",
       "      <td>12.0</td>\n",
       "      <td>18.0</td>\n",
       "      <td>268.33</td>\n",
       "      <td>265.93</td>\n",
       "      <td>270.37</td>\n",
       "      <td>80.0</td>\n",
       "      <td>3.0</td>\n",
       "      <td>0.0</td>\n",
       "      <td>1</td>\n",
       "      <td>3</td>\n",
       "      <td>2</td>\n",
       "      <td>1</td>\n",
       "      <td>0.0</td>\n",
       "      <td>291.0</td>\n",
       "      <td>0.0</td>\n",
       "      <td>0.0</td>\n",
       "      <td>0.0</td>\n",
       "      <td>1</td>\n",
       "      <td>0</td>\n",
       "      <td>0</td>\n",
       "      <td>0</td>\n",
       "      <td>0</td>\n",
       "      <td>0</td>\n",
       "    </tr>\n",
       "    <tr>\n",
       "      <th>4</th>\n",
       "      <td>2014-01-01 04:00:00-05:00</td>\n",
       "      <td>25.0</td>\n",
       "      <td>37.0</td>\n",
       "      <td>268.10</td>\n",
       "      <td>265.37</td>\n",
       "      <td>270.37</td>\n",
       "      <td>80.0</td>\n",
       "      <td>3.0</td>\n",
       "      <td>0.0</td>\n",
       "      <td>1</td>\n",
       "      <td>4</td>\n",
       "      <td>2</td>\n",
       "      <td>1</td>\n",
       "      <td>0.0</td>\n",
       "      <td>0.0</td>\n",
       "      <td>0.0</td>\n",
       "      <td>0.0</td>\n",
       "      <td>0.0</td>\n",
       "      <td>1</td>\n",
       "      <td>0</td>\n",
       "      <td>0</td>\n",
       "      <td>0</td>\n",
       "      <td>0</td>\n",
       "      <td>0</td>\n",
       "    </tr>\n",
       "  </tbody>\n",
       "</table>\n",
       "</div>"
      ],
      "text/plain": [
       "                 pickup_time  num_pickups  num_passengers    temp  temp_min  \\\n",
       "0  2014-01-01 00:00:00-05:00        107.0           210.0  269.27    267.59   \n",
       "1  2014-01-01 01:00:00-05:00         34.0            45.0  268.90    267.04   \n",
       "2  2014-01-01 02:00:00-05:00         34.0            70.0  268.48    266.48   \n",
       "3  2014-01-01 03:00:00-05:00         12.0            18.0  268.33    265.93   \n",
       "4  2014-01-01 04:00:00-05:00         25.0            37.0  268.10    265.37   \n",
       "\n",
       "   temp_max  humidity  wind_speed  Passengers  Month  Hour  Day  holiday  \\\n",
       "0    270.93      80.0         3.0       108.0      1     0    2        1   \n",
       "1    270.93      80.0         2.0         0.0      1     1    2        1   \n",
       "2    270.37      57.0         3.0         0.0      1     2    2        1   \n",
       "3    270.37      80.0         3.0         0.0      1     3    2        1   \n",
       "4    270.37      80.0         3.0         0.0      1     4    2        1   \n",
       "\n",
       "   precip_in  Avg_Delay_Arriving  Avg_Delay_Departing  \\\n",
       "0        0.0                 0.0                  0.0   \n",
       "1        0.0                 0.0                  0.0   \n",
       "2        0.0                 0.0                  0.0   \n",
       "3        0.0               291.0                  0.0   \n",
       "4        0.0                 0.0                  0.0   \n",
       "\n",
       "   Cancelled_Arriving_Flights  Cancelled_Departing_Flights  clear  clouds  \\\n",
       "0                         0.0                          0.0      1       0   \n",
       "1                         0.0                          0.0      1       0   \n",
       "2                         0.0                          0.0      1       0   \n",
       "3                         0.0                          0.0      1       0   \n",
       "4                         0.0                          0.0      1       0   \n",
       "\n",
       "   fog  rain  snow  thunderstorm  \n",
       "0    0     0     0             0  \n",
       "1    0     0     0             0  \n",
       "2    0     0     0             0  \n",
       "3    0     0     0             0  \n",
       "4    0     0     0             0  "
      ]
     },
     "execution_count": 15,
     "metadata": {},
     "output_type": "execute_result"
    }
   ],
   "source": [
    "data.head()"
   ]
  },
  {
   "cell_type": "markdown",
   "metadata": {},
   "source": [
    "### Time Feature"
   ]
  },
  {
   "cell_type": "code",
   "execution_count": 16,
   "metadata": {
    "collapsed": true
   },
   "outputs": [],
   "source": [
    "data.rename(columns={'Hour':'HourOfDay'}, inplace=True)\n",
    "data.rename(columns={'Day':'DayOfWeek'}, inplace=True)"
   ]
  },
  {
   "cell_type": "code",
   "execution_count": 17,
   "metadata": {
    "collapsed": false
   },
   "outputs": [
    {
     "data": {
      "text/html": [
       "<div>\n",
       "<style>\n",
       "    .dataframe thead tr:only-child th {\n",
       "        text-align: right;\n",
       "    }\n",
       "\n",
       "    .dataframe thead th {\n",
       "        text-align: left;\n",
       "    }\n",
       "\n",
       "    .dataframe tbody tr th {\n",
       "        vertical-align: top;\n",
       "    }\n",
       "</style>\n",
       "<table border=\"1\" class=\"dataframe\">\n",
       "  <thead>\n",
       "    <tr style=\"text-align: right;\">\n",
       "      <th></th>\n",
       "      <th>pickup_time</th>\n",
       "      <th>num_pickups</th>\n",
       "      <th>num_passengers</th>\n",
       "      <th>temp</th>\n",
       "      <th>temp_min</th>\n",
       "      <th>temp_max</th>\n",
       "      <th>humidity</th>\n",
       "      <th>wind_speed</th>\n",
       "      <th>Passengers</th>\n",
       "      <th>Month</th>\n",
       "      <th>HourOfDay</th>\n",
       "      <th>DayOfWeek</th>\n",
       "      <th>holiday</th>\n",
       "      <th>precip_in</th>\n",
       "      <th>Avg_Delay_Arriving</th>\n",
       "      <th>Avg_Delay_Departing</th>\n",
       "      <th>Cancelled_Arriving_Flights</th>\n",
       "      <th>Cancelled_Departing_Flights</th>\n",
       "      <th>clear</th>\n",
       "      <th>clouds</th>\n",
       "      <th>fog</th>\n",
       "      <th>rain</th>\n",
       "      <th>snow</th>\n",
       "      <th>thunderstorm</th>\n",
       "    </tr>\n",
       "  </thead>\n",
       "  <tbody>\n",
       "    <tr>\n",
       "      <th>0</th>\n",
       "      <td>2014-01-01 00:00:00-05:00</td>\n",
       "      <td>107.0</td>\n",
       "      <td>210.0</td>\n",
       "      <td>269.27</td>\n",
       "      <td>267.59</td>\n",
       "      <td>270.93</td>\n",
       "      <td>80.0</td>\n",
       "      <td>3.0</td>\n",
       "      <td>108.0</td>\n",
       "      <td>1</td>\n",
       "      <td>0</td>\n",
       "      <td>2</td>\n",
       "      <td>1</td>\n",
       "      <td>0.0</td>\n",
       "      <td>0.0</td>\n",
       "      <td>0.0</td>\n",
       "      <td>0.0</td>\n",
       "      <td>0.0</td>\n",
       "      <td>1</td>\n",
       "      <td>0</td>\n",
       "      <td>0</td>\n",
       "      <td>0</td>\n",
       "      <td>0</td>\n",
       "      <td>0</td>\n",
       "    </tr>\n",
       "    <tr>\n",
       "      <th>1</th>\n",
       "      <td>2014-01-01 01:00:00-05:00</td>\n",
       "      <td>34.0</td>\n",
       "      <td>45.0</td>\n",
       "      <td>268.90</td>\n",
       "      <td>267.04</td>\n",
       "      <td>270.93</td>\n",
       "      <td>80.0</td>\n",
       "      <td>2.0</td>\n",
       "      <td>0.0</td>\n",
       "      <td>1</td>\n",
       "      <td>1</td>\n",
       "      <td>2</td>\n",
       "      <td>1</td>\n",
       "      <td>0.0</td>\n",
       "      <td>0.0</td>\n",
       "      <td>0.0</td>\n",
       "      <td>0.0</td>\n",
       "      <td>0.0</td>\n",
       "      <td>1</td>\n",
       "      <td>0</td>\n",
       "      <td>0</td>\n",
       "      <td>0</td>\n",
       "      <td>0</td>\n",
       "      <td>0</td>\n",
       "    </tr>\n",
       "  </tbody>\n",
       "</table>\n",
       "</div>"
      ],
      "text/plain": [
       "                 pickup_time  num_pickups  num_passengers    temp  temp_min  \\\n",
       "0  2014-01-01 00:00:00-05:00        107.0           210.0  269.27    267.59   \n",
       "1  2014-01-01 01:00:00-05:00         34.0            45.0  268.90    267.04   \n",
       "\n",
       "   temp_max  humidity  wind_speed  Passengers  Month  HourOfDay  DayOfWeek  \\\n",
       "0    270.93      80.0         3.0       108.0      1          0          2   \n",
       "1    270.93      80.0         2.0         0.0      1          1          2   \n",
       "\n",
       "   holiday  precip_in  Avg_Delay_Arriving  Avg_Delay_Departing  \\\n",
       "0        1        0.0                 0.0                  0.0   \n",
       "1        1        0.0                 0.0                  0.0   \n",
       "\n",
       "   Cancelled_Arriving_Flights  Cancelled_Departing_Flights  clear  clouds  \\\n",
       "0                         0.0                          0.0      1       0   \n",
       "1                         0.0                          0.0      1       0   \n",
       "\n",
       "   fog  rain  snow  thunderstorm  \n",
       "0    0     0     0             0  \n",
       "1    0     0     0             0  "
      ]
     },
     "execution_count": 17,
     "metadata": {},
     "output_type": "execute_result"
    }
   ],
   "source": [
    "data.head(2)"
   ]
  },
  {
   "cell_type": "code",
   "execution_count": 18,
   "metadata": {
    "collapsed": false
   },
   "outputs": [
    {
     "data": {
      "text/plain": [
       "(26230, 24)"
      ]
     },
     "execution_count": 18,
     "metadata": {},
     "output_type": "execute_result"
    }
   ],
   "source": [
    "data.shape"
   ]
  },
  {
   "cell_type": "markdown",
   "metadata": {},
   "source": [
    "#### Trying ARIMA"
   ]
  },
  {
   "cell_type": "code",
   "execution_count": null,
   "metadata": {
    "collapsed": true
   },
   "outputs": [],
   "source": []
  },
  {
   "cell_type": "markdown",
   "metadata": {},
   "source": [
    "### Drop the Pickup Time and Number of Passengers"
   ]
  },
  {
   "cell_type": "code",
   "execution_count": 19,
   "metadata": {
    "collapsed": true
   },
   "outputs": [],
   "source": [
    "data.drop([\n",
    "        \"pickup_time\",\n",
    "        \"num_passengers\"], axis=1, inplace=True)"
   ]
  },
  {
   "cell_type": "markdown",
   "metadata": {},
   "source": [
    "## MODELS FOLLOW FROM HERE"
   ]
  },
  {
   "cell_type": "markdown",
   "metadata": {},
   "source": [
    "#### Dropping cancelled arriving flights and avg_delay_departing as they should have no influence in pickups at LGA"
   ]
  },
  {
   "cell_type": "code",
   "execution_count": 20,
   "metadata": {
    "collapsed": true
   },
   "outputs": [],
   "source": [
    "data.drop(['Avg_Delay_Departing', 'Cancelled_Arriving_Flights'], axis=1, inplace=True)"
   ]
  },
  {
   "cell_type": "code",
   "execution_count": 21,
   "metadata": {
    "collapsed": true
   },
   "outputs": [],
   "source": [
    "## the labels (num_pickups)\n",
    "num_pickups = data.num_pickups\n",
    "data.drop(\"num_pickups\", axis=1, inplace=True)"
   ]
  },
  {
   "cell_type": "code",
   "execution_count": 22,
   "metadata": {
    "collapsed": true
   },
   "outputs": [],
   "source": [
    "X_train, X_test, y_train, y_test = train_test_split(data, num_pickups, random_state=0, test_size=0.1)"
   ]
  },
  {
   "cell_type": "code",
   "execution_count": 23,
   "metadata": {
    "collapsed": false
   },
   "outputs": [],
   "source": [
    "index = int(data.shape[0]*0.75)\n",
    "X_train_ts = data.iloc[: index, :]\n",
    "y_train_ts = num_pickups.iloc[: index]\n",
    "X_test_ts = data.iloc[index :, :]\n",
    "y_test_ts = num_pickups.iloc[index :]"
   ]
  },
  {
   "cell_type": "code",
   "execution_count": 24,
   "metadata": {
    "collapsed": false
   },
   "outputs": [],
   "source": [
    "tscv = TimeSeriesSplit(n_splits=3)"
   ]
  },
  {
   "cell_type": "markdown",
   "metadata": {},
   "source": [
    "## Ridge Regression"
   ]
  },
  {
   "cell_type": "code",
   "execution_count": 25,
   "metadata": {
    "collapsed": true
   },
   "outputs": [],
   "source": [
    "ridge_pipe = make_pipeline(StandardScaler(), VarianceThreshold(), Ridge())\n",
    "ridge_params = {'ridge__alpha' : [0.01, 0.1, 1.0, 10.0, 100.0, np.log(14)]}"
   ]
  },
  {
   "cell_type": "code",
   "execution_count": 26,
   "metadata": {
    "collapsed": true
   },
   "outputs": [],
   "source": [
    "ridge_grid = GridSearchCV(ridge_pipe, ridge_params, cv=3, scoring='r2')"
   ]
  },
  {
   "cell_type": "code",
   "execution_count": 27,
   "metadata": {
    "collapsed": false
   },
   "outputs": [
    {
     "data": {
      "text/plain": [
       "GridSearchCV(cv=3, error_score='raise',\n",
       "       estimator=Pipeline(memory=None,\n",
       "     steps=[('standardscaler', StandardScaler(copy=True, with_mean=True, with_std=True)), ('variancethreshold', VarianceThreshold(threshold=0.0)), ('ridge', Ridge(alpha=1.0, copy_X=True, fit_intercept=True, max_iter=None,\n",
       "   normalize=False, random_state=None, solver='auto', tol=0.001))]),\n",
       "       fit_params=None, iid=True, n_jobs=1,\n",
       "       param_grid={'ridge__alpha': [0.01, 0.1, 1.0, 10.0, 100.0, 2.6390573296152584]},\n",
       "       pre_dispatch='2*n_jobs', refit=True, return_train_score=True,\n",
       "       scoring='r2', verbose=0)"
      ]
     },
     "execution_count": 27,
     "metadata": {},
     "output_type": "execute_result"
    }
   ],
   "source": [
    "ridge_grid.fit(X_train, y_train)"
   ]
  },
  {
   "cell_type": "code",
   "execution_count": 28,
   "metadata": {
    "collapsed": false
   },
   "outputs": [
    {
     "data": {
      "text/plain": [
       "{'ridge__alpha': 10.0}"
      ]
     },
     "execution_count": 28,
     "metadata": {},
     "output_type": "execute_result"
    }
   ],
   "source": [
    "ridge_grid.best_params_"
   ]
  },
  {
   "cell_type": "code",
   "execution_count": 29,
   "metadata": {
    "collapsed": false
   },
   "outputs": [
    {
     "data": {
      "text/plain": [
       "0.62856110151227973"
      ]
     },
     "execution_count": 29,
     "metadata": {},
     "output_type": "execute_result"
    }
   ],
   "source": [
    "ridge_grid.best_score_"
   ]
  },
  {
   "cell_type": "markdown",
   "metadata": {},
   "source": [
    "## SVR"
   ]
  },
  {
   "cell_type": "code",
   "execution_count": 27,
   "metadata": {
    "collapsed": true
   },
   "outputs": [],
   "source": [
    "svr_pipe = make_pipeline(StandardScaler(), VarianceThreshold(), SVR())\n",
    "svr_params = {'svr__kernel' : ['linear', 'rbf', 'sigmoid'],\n",
    "             'svr__C' : [1.0, 10.0, 100.0],\n",
    "             'svr__epsilon' : [0.01, 0.05, 0.1, 0.5]}\n",
    "svr_grid = GridSearchCV(svr_pipe, svr_params, cv=3, scoring='r2', verbose=2, n_jobs=-1)"
   ]
  },
  {
   "cell_type": "code",
   "execution_count": 28,
   "metadata": {
    "collapsed": false
   },
   "outputs": [
    {
     "name": "stdout",
     "output_type": "stream",
     "text": [
      "Fitting 3 folds for each of 36 candidates, totalling 108 fits\n",
      "[CV] svr__C=1.0, svr__epsilon=0.01, svr__kernel=linear ...............\n",
      "[CV] svr__C=1.0, svr__epsilon=0.01, svr__kernel=linear ...............\n",
      "[CV] svr__C=1.0, svr__epsilon=0.01, svr__kernel=linear ...............\n",
      "[CV] svr__C=1.0, svr__epsilon=0.01, svr__kernel=rbf ..................\n",
      "[CV] svr__C=1.0, svr__epsilon=0.01, svr__kernel=rbf ..................\n",
      "[CV] svr__C=1.0, svr__epsilon=0.01, svr__kernel=rbf ..................\n",
      "[CV] svr__C=1.0, svr__epsilon=0.01, svr__kernel=sigmoid ..............\n",
      "[CV] svr__C=1.0, svr__epsilon=0.01, svr__kernel=sigmoid ..............\n",
      "[CV] svr__C=1.0, svr__epsilon=0.01, svr__kernel=sigmoid ..............\n",
      "[CV] svr__C=1.0, svr__epsilon=0.05, svr__kernel=linear ...............\n",
      "[CV] svr__C=1.0, svr__epsilon=0.05, svr__kernel=rbf ..................\n",
      "[CV] svr__C=1.0, svr__epsilon=0.05, svr__kernel=rbf ..................\n",
      "[CV] svr__C=1.0, svr__epsilon=0.05, svr__kernel=linear ...............\n",
      "[CV] svr__C=1.0, svr__epsilon=0.05, svr__kernel=rbf ..................\n",
      "[CV] svr__C=1.0, svr__epsilon=0.05, svr__kernel=linear ...............\n",
      "[CV] svr__C=1.0, svr__epsilon=0.05, svr__kernel=sigmoid ..............\n",
      "[CV] svr__C=1.0, svr__epsilon=0.05, svr__kernel=sigmoid ..............\n",
      "[CV] svr__C=1.0, svr__epsilon=0.05, svr__kernel=sigmoid ..............\n",
      "[CV] svr__C=1.0, svr__epsilon=0.1, svr__kernel=linear ................\n",
      "[CV] svr__C=1.0, svr__epsilon=0.1, svr__kernel=linear ................\n",
      "[CV] svr__C=1.0, svr__epsilon=0.1, svr__kernel=linear ................\n",
      "[CV] svr__C=1.0, svr__epsilon=0.1, svr__kernel=rbf ...................\n",
      "[CV] svr__C=1.0, svr__epsilon=0.1, svr__kernel=rbf ...................\n",
      "[CV] svr__C=1.0, svr__epsilon=0.1, svr__kernel=rbf ...................\n",
      "[CV] . svr__C=1.0, svr__epsilon=0.1, svr__kernel=linear, total=  38.1s\n",
      "[CV] svr__C=1.0, svr__epsilon=0.1, svr__kernel=sigmoid ...............\n",
      "[CV]  svr__C=1.0, svr__epsilon=0.05, svr__kernel=linear, total=  38.9s\n",
      "[CV] svr__C=1.0, svr__epsilon=0.1, svr__kernel=sigmoid ...............\n",
      "[CV]  svr__C=1.0, svr__epsilon=0.01, svr__kernel=linear, total=  38.1s\n",
      "[CV] svr__C=1.0, svr__epsilon=0.1, svr__kernel=sigmoid ...............\n",
      "[CV]  svr__C=1.0, svr__epsilon=0.01, svr__kernel=linear, total=  41.0s\n",
      "[CV] svr__C=1.0, svr__epsilon=0.5, svr__kernel=linear ................\n",
      "[CV]  svr__C=1.0, svr__epsilon=0.05, svr__kernel=linear, total=  39.3s\n",
      "[CV] svr__C=1.0, svr__epsilon=0.5, svr__kernel=linear ................\n",
      "[CV] . svr__C=1.0, svr__epsilon=0.1, svr__kernel=linear, total=  39.6s\n",
      "[CV] svr__C=1.0, svr__epsilon=0.5, svr__kernel=linear ................\n",
      "[CV]  svr__C=1.0, svr__epsilon=0.01, svr__kernel=linear, total=  39.6s\n",
      "[CV] svr__C=1.0, svr__epsilon=0.5, svr__kernel=rbf ...................\n",
      "[CV]  svr__C=1.0, svr__epsilon=0.05, svr__kernel=linear, total=  40.3s\n",
      "[CV] svr__C=1.0, svr__epsilon=0.5, svr__kernel=rbf ...................\n",
      "[CV] . svr__C=1.0, svr__epsilon=0.1, svr__kernel=linear, total=  41.6s\n",
      "[CV] svr__C=1.0, svr__epsilon=0.5, svr__kernel=rbf ...................\n",
      "[CV]  svr__C=1.0, svr__epsilon=0.01, svr__kernel=sigmoid, total=  55.5s\n",
      "[CV] svr__C=1.0, svr__epsilon=0.5, svr__kernel=sigmoid ...............\n",
      "[CV] .... svr__C=1.0, svr__epsilon=0.1, svr__kernel=rbf, total=  57.4s\n",
      "[CV] svr__C=1.0, svr__epsilon=0.5, svr__kernel=sigmoid ...............\n",
      "[CV]  svr__C=1.0, svr__epsilon=0.01, svr__kernel=sigmoid, total=  54.9s\n",
      "[CV] svr__C=1.0, svr__epsilon=0.5, svr__kernel=sigmoid ...............\n",
      "[CV]  svr__C=1.0, svr__epsilon=0.01, svr__kernel=sigmoid, total=  53.9s\n",
      "[CV] svr__C=10.0, svr__epsilon=0.01, svr__kernel=linear ..............\n",
      "[CV]  svr__C=1.0, svr__epsilon=0.05, svr__kernel=sigmoid, total=  54.8s\n",
      "[CV] svr__C=10.0, svr__epsilon=0.01, svr__kernel=linear ..............\n",
      "[CV] ... svr__C=1.0, svr__epsilon=0.05, svr__kernel=rbf, total=  58.0s\n",
      "[CV] svr__C=10.0, svr__epsilon=0.01, svr__kernel=linear ..............\n",
      "[CV] ... svr__C=1.0, svr__epsilon=0.01, svr__kernel=rbf, total=  57.9s\n",
      "[CV] svr__C=10.0, svr__epsilon=0.01, svr__kernel=rbf .................\n",
      "[CV] ... svr__C=1.0, svr__epsilon=0.05, svr__kernel=rbf, total=  57.7s\n",
      "[CV] svr__C=10.0, svr__epsilon=0.01, svr__kernel=rbf .................\n",
      "[CV]  svr__C=1.0, svr__epsilon=0.05, svr__kernel=sigmoid, total=  55.9s\n",
      "[CV] svr__C=10.0, svr__epsilon=0.01, svr__kernel=rbf .................\n",
      "[CV]  svr__C=1.0, svr__epsilon=0.05, svr__kernel=sigmoid, total=  55.7s\n",
      "[CV] svr__C=10.0, svr__epsilon=0.01, svr__kernel=sigmoid .............\n",
      "[CV] ... svr__C=1.0, svr__epsilon=0.01, svr__kernel=rbf, total=  58.2s\n",
      "[CV] svr__C=10.0, svr__epsilon=0.01, svr__kernel=sigmoid .............\n",
      "[CV] .... svr__C=1.0, svr__epsilon=0.1, svr__kernel=rbf, total=  58.5s\n",
      "[CV] svr__C=10.0, svr__epsilon=0.01, svr__kernel=sigmoid .............\n",
      "[CV] ... svr__C=1.0, svr__epsilon=0.01, svr__kernel=rbf, total=  58.3s\n",
      "[CV] svr__C=10.0, svr__epsilon=0.05, svr__kernel=linear ..............\n",
      "[CV] ... svr__C=1.0, svr__epsilon=0.05, svr__kernel=rbf, total=  58.2s\n",
      "[CV] svr__C=10.0, svr__epsilon=0.05, svr__kernel=linear ..............\n",
      "[CV] .... svr__C=1.0, svr__epsilon=0.1, svr__kernel=rbf, total=  57.7s\n",
      "[CV] svr__C=10.0, svr__epsilon=0.05, svr__kernel=linear ..............\n",
      "[CV] . svr__C=1.0, svr__epsilon=0.5, svr__kernel=linear, total=  37.8s\n",
      "[CV] svr__C=10.0, svr__epsilon=0.05, svr__kernel=rbf .................\n",
      "[CV] . svr__C=1.0, svr__epsilon=0.5, svr__kernel=linear, total=  38.1s\n",
      "[CV] svr__C=10.0, svr__epsilon=0.05, svr__kernel=rbf .................\n",
      "[CV] . svr__C=1.0, svr__epsilon=0.5, svr__kernel=linear, total=  39.3s\n",
      "[CV] svr__C=10.0, svr__epsilon=0.05, svr__kernel=rbf .................\n",
      "[CV]  svr__C=1.0, svr__epsilon=0.1, svr__kernel=sigmoid, total=  50.9s\n",
      "[CV] svr__C=10.0, svr__epsilon=0.05, svr__kernel=sigmoid .............\n",
      "[CV]  svr__C=1.0, svr__epsilon=0.1, svr__kernel=sigmoid, total=  50.5s\n",
      "[CV] svr__C=10.0, svr__epsilon=0.05, svr__kernel=sigmoid .............\n",
      "[CV]  svr__C=1.0, svr__epsilon=0.1, svr__kernel=sigmoid, total=  52.1s\n",
      "[CV] svr__C=10.0, svr__epsilon=0.05, svr__kernel=sigmoid .............\n",
      "[CV]  svr__C=10.0, svr__epsilon=0.05, svr__kernel=linear, total=  38.9s\n",
      "[CV] svr__C=10.0, svr__epsilon=0.1, svr__kernel=linear ...............\n",
      "[CV] .... svr__C=1.0, svr__epsilon=0.5, svr__kernel=rbf, total=  55.4s\n",
      "[CV] svr__C=10.0, svr__epsilon=0.1, svr__kernel=linear ...............\n",
      "[CV]  svr__C=10.0, svr__epsilon=0.01, svr__kernel=linear, total=  39.4s\n",
      "[CV] svr__C=10.0, svr__epsilon=0.1, svr__kernel=linear ...............\n",
      "[CV]  svr__C=10.0, svr__epsilon=0.01, svr__kernel=linear, total=  39.3s\n",
      "[CV] svr__C=10.0, svr__epsilon=0.1, svr__kernel=rbf ..................\n",
      "[CV]  svr__C=10.0, svr__epsilon=0.01, svr__kernel=linear, total=  39.8s\n",
      "[CV] svr__C=10.0, svr__epsilon=0.1, svr__kernel=rbf ..................\n",
      "[CV] .... svr__C=1.0, svr__epsilon=0.5, svr__kernel=rbf, total=  56.4s\n",
      "[CV] svr__C=10.0, svr__epsilon=0.1, svr__kernel=rbf ..................\n",
      "[CV]  svr__C=10.0, svr__epsilon=0.05, svr__kernel=linear, total=  38.6s\n",
      "[CV] svr__C=10.0, svr__epsilon=0.1, svr__kernel=sigmoid ..............\n",
      "[CV]  svr__C=10.0, svr__epsilon=0.05, svr__kernel=linear, total=  41.7s\n",
      "[CV] svr__C=10.0, svr__epsilon=0.1, svr__kernel=sigmoid ..............\n",
      "[CV] .... svr__C=1.0, svr__epsilon=0.5, svr__kernel=rbf, total=  56.2s\n",
      "[CV] svr__C=10.0, svr__epsilon=0.1, svr__kernel=sigmoid ..............\n",
      "[CV]  svr__C=1.0, svr__epsilon=0.5, svr__kernel=sigmoid, total=  47.5s\n",
      "[CV] svr__C=10.0, svr__epsilon=0.5, svr__kernel=linear ...............\n",
      "[CV] .. svr__C=10.0, svr__epsilon=0.01, svr__kernel=rbf, total=  48.8s\n",
      "[CV] svr__C=10.0, svr__epsilon=0.5, svr__kernel=linear ...............\n",
      "[CV]  svr__C=1.0, svr__epsilon=0.5, svr__kernel=sigmoid, total=  50.4s\n",
      "[CV] svr__C=10.0, svr__epsilon=0.5, svr__kernel=linear ...............\n",
      "[CV] .. svr__C=10.0, svr__epsilon=0.01, svr__kernel=rbf, total=  51.3s\n",
      "[CV] svr__C=10.0, svr__epsilon=0.5, svr__kernel=rbf ..................\n",
      "[CV]  svr__C=1.0, svr__epsilon=0.5, svr__kernel=sigmoid, total=  51.8s\n",
      "[CV] svr__C=10.0, svr__epsilon=0.5, svr__kernel=rbf ..................\n",
      "[CV]  svr__C=10.0, svr__epsilon=0.01, svr__kernel=sigmoid, total=  53.8s\n",
      "[CV] svr__C=10.0, svr__epsilon=0.5, svr__kernel=rbf ..................\n",
      "[CV]  svr__C=10.0, svr__epsilon=0.01, svr__kernel=sigmoid, total=  55.0s\n",
      "[CV] svr__C=10.0, svr__epsilon=0.5, svr__kernel=sigmoid ..............\n",
      "[CV] .. svr__C=10.0, svr__epsilon=0.01, svr__kernel=rbf, total=  57.0s\n",
      "[CV] svr__C=10.0, svr__epsilon=0.5, svr__kernel=sigmoid ..............\n",
      "[CV]  svr__C=10.0, svr__epsilon=0.01, svr__kernel=sigmoid, total=  55.8s\n",
      "[CV] svr__C=10.0, svr__epsilon=0.5, svr__kernel=sigmoid ..............\n",
      "[CV] .. svr__C=10.0, svr__epsilon=0.05, svr__kernel=rbf, total=  56.3s\n",
      "[CV] svr__C=100.0, svr__epsilon=0.01, svr__kernel=linear .............\n",
      "[CV]  svr__C=10.0, svr__epsilon=0.1, svr__kernel=linear, total=  35.6s\n",
      "[CV] svr__C=100.0, svr__epsilon=0.01, svr__kernel=linear .............\n",
      "[CV] .. svr__C=10.0, svr__epsilon=0.05, svr__kernel=rbf, total=  57.1s\n",
      "[CV] svr__C=100.0, svr__epsilon=0.01, svr__kernel=linear .............\n",
      "[CV]  svr__C=10.0, svr__epsilon=0.1, svr__kernel=linear, total=  38.1s\n",
      "[CV] svr__C=100.0, svr__epsilon=0.01, svr__kernel=rbf ................\n",
      "[CV] .. svr__C=10.0, svr__epsilon=0.05, svr__kernel=rbf, total=  57.2s\n",
      "[CV]  svr__C=10.0, svr__epsilon=0.1, svr__kernel=linear, total=  37.9s\n",
      "[CV] svr__C=100.0, svr__epsilon=0.01, svr__kernel=rbf ................\n",
      "[CV] svr__C=100.0, svr__epsilon=0.01, svr__kernel=rbf ................\n",
      "[CV]  svr__C=10.0, svr__epsilon=0.5, svr__kernel=linear, total=  34.5s\n",
      "[CV] svr__C=100.0, svr__epsilon=0.01, svr__kernel=sigmoid ............\n",
      "[CV]  svr__C=10.0, svr__epsilon=0.5, svr__kernel=linear, total=  37.0s\n",
      "[CV] svr__C=100.0, svr__epsilon=0.01, svr__kernel=sigmoid ............\n",
      "[CV]  svr__C=10.0, svr__epsilon=0.5, svr__kernel=linear, total=  38.5s\n",
      "[CV] svr__C=100.0, svr__epsilon=0.01, svr__kernel=sigmoid ............\n",
      "[CV] ... svr__C=10.0, svr__epsilon=0.1, svr__kernel=rbf, total=  48.6s\n",
      "[CV] svr__C=100.0, svr__epsilon=0.05, svr__kernel=linear .............\n",
      "[CV]  svr__C=10.0, svr__epsilon=0.05, svr__kernel=sigmoid, total=  55.1s\n",
      "[CV] svr__C=100.0, svr__epsilon=0.05, svr__kernel=linear .............\n",
      "[CV]  svr__C=10.0, svr__epsilon=0.05, svr__kernel=sigmoid, total=  55.1s\n",
      "[CV] svr__C=100.0, svr__epsilon=0.05, svr__kernel=linear .............\n",
      "[CV] ... svr__C=10.0, svr__epsilon=0.1, svr__kernel=rbf, total=  50.7s\n",
      "[CV] svr__C=100.0, svr__epsilon=0.05, svr__kernel=rbf ................\n",
      "[CV]  svr__C=10.0, svr__epsilon=0.05, svr__kernel=sigmoid, total=  59.5s\n",
      "[CV] svr__C=100.0, svr__epsilon=0.05, svr__kernel=rbf ................\n",
      "[CV]  svr__C=10.0, svr__epsilon=0.1, svr__kernel=sigmoid, total=  54.8s\n",
      "[CV] svr__C=100.0, svr__epsilon=0.05, svr__kernel=rbf ................\n",
      "[CV]  svr__C=10.0, svr__epsilon=0.1, svr__kernel=sigmoid, total=  55.3s\n",
      "[CV] svr__C=100.0, svr__epsilon=0.05, svr__kernel=sigmoid ............\n",
      "[CV] ... svr__C=10.0, svr__epsilon=0.1, svr__kernel=rbf, total=  58.3s\n",
      "[CV] svr__C=100.0, svr__epsilon=0.05, svr__kernel=sigmoid ............\n",
      "[CV]  svr__C=10.0, svr__epsilon=0.1, svr__kernel=sigmoid, total=  58.3s\n",
      "[CV] svr__C=100.0, svr__epsilon=0.05, svr__kernel=sigmoid ............\n",
      "[CV] ... svr__C=10.0, svr__epsilon=0.5, svr__kernel=rbf, total=  49.4s\n",
      "[CV] svr__C=100.0, svr__epsilon=0.1, svr__kernel=linear ..............\n",
      "[CV] ... svr__C=10.0, svr__epsilon=0.5, svr__kernel=rbf, total=  54.8s\n",
      "[CV] svr__C=100.0, svr__epsilon=0.1, svr__kernel=linear ..............\n",
      "[CV] ... svr__C=10.0, svr__epsilon=0.5, svr__kernel=rbf, total=  57.0s\n",
      "[CV] svr__C=100.0, svr__epsilon=0.1, svr__kernel=linear ..............\n",
      "[CV]  svr__C=10.0, svr__epsilon=0.5, svr__kernel=sigmoid, total=  54.6s\n",
      "[CV] svr__C=100.0, svr__epsilon=0.1, svr__kernel=rbf .................\n",
      "[CV]  svr__C=10.0, svr__epsilon=0.5, svr__kernel=sigmoid, total=  55.0s\n",
      "[CV] svr__C=100.0, svr__epsilon=0.1, svr__kernel=rbf .................\n",
      "[CV]  svr__C=10.0, svr__epsilon=0.5, svr__kernel=sigmoid, total=  56.2s\n",
      "[CV] svr__C=100.0, svr__epsilon=0.1, svr__kernel=rbf .................\n",
      "[CV]  svr__C=100.0, svr__epsilon=0.01, svr__kernel=linear, total= 1.0min\n",
      "[CV] svr__C=100.0, svr__epsilon=0.1, svr__kernel=sigmoid .............\n",
      "[CV]  svr__C=100.0, svr__epsilon=0.01, svr__kernel=linear, total= 1.1min\n",
      "[CV] svr__C=100.0, svr__epsilon=0.1, svr__kernel=sigmoid .............\n",
      "[CV]  svr__C=100.0, svr__epsilon=0.01, svr__kernel=linear, total= 1.1min\n",
      "[CV] svr__C=100.0, svr__epsilon=0.1, svr__kernel=sigmoid .............\n",
      "[CV] . svr__C=100.0, svr__epsilon=0.01, svr__kernel=rbf, total=  51.4s\n",
      "[CV] svr__C=100.0, svr__epsilon=0.5, svr__kernel=linear ..............\n",
      "[CV] . svr__C=100.0, svr__epsilon=0.01, svr__kernel=rbf, total=  51.0s\n",
      "[CV] svr__C=100.0, svr__epsilon=0.5, svr__kernel=linear ..............\n",
      "[CV] . svr__C=100.0, svr__epsilon=0.01, svr__kernel=rbf, total=  59.6s\n",
      "[CV] svr__C=100.0, svr__epsilon=0.5, svr__kernel=linear ..............\n",
      "[CV]  svr__C=100.0, svr__epsilon=0.05, svr__kernel=linear, total= 1.0min\n",
      "[CV] svr__C=100.0, svr__epsilon=0.5, svr__kernel=rbf .................\n",
      "[CV]  svr__C=100.0, svr__epsilon=0.01, svr__kernel=sigmoid, total=  57.4s\n",
      "[CV] svr__C=100.0, svr__epsilon=0.5, svr__kernel=rbf .................\n",
      "[CV]  svr__C=100.0, svr__epsilon=0.05, svr__kernel=linear, total= 1.1min\n",
      "[CV] svr__C=100.0, svr__epsilon=0.5, svr__kernel=rbf .................\n",
      "[CV]  svr__C=100.0, svr__epsilon=0.05, svr__kernel=linear, total= 1.1min\n",
      "[CV] svr__C=100.0, svr__epsilon=0.5, svr__kernel=sigmoid .............\n",
      "[CV] . svr__C=100.0, svr__epsilon=0.05, svr__kernel=rbf, total=  49.8s\n",
      "[CV] svr__C=100.0, svr__epsilon=0.5, svr__kernel=sigmoid .............\n",
      "[CV]  svr__C=100.0, svr__epsilon=0.01, svr__kernel=sigmoid, total=  57.5s\n",
      "[CV] svr__C=100.0, svr__epsilon=0.5, svr__kernel=sigmoid .............\n",
      "[CV] . svr__C=100.0, svr__epsilon=0.05, svr__kernel=rbf, total=  48.6s\n",
      "[CV]  svr__C=100.0, svr__epsilon=0.01, svr__kernel=sigmoid, total=  58.7s\n",
      "[CV] . svr__C=100.0, svr__epsilon=0.05, svr__kernel=rbf, total=  59.0s\n",
      "[CV]  svr__C=100.0, svr__epsilon=0.05, svr__kernel=sigmoid, total=  57.0s\n",
      "[CV]  svr__C=100.0, svr__epsilon=0.1, svr__kernel=linear, total=  59.8s\n",
      "[CV]  svr__C=100.0, svr__epsilon=0.05, svr__kernel=sigmoid, total= 1.0min\n",
      "[CV]  svr__C=100.0, svr__epsilon=0.05, svr__kernel=sigmoid, total=  57.8s\n",
      "[CV]  svr__C=100.0, svr__epsilon=0.1, svr__kernel=linear, total=  58.1s\n",
      "[CV]  svr__C=100.0, svr__epsilon=0.1, svr__kernel=linear, total= 1.0min\n",
      "[CV] .. svr__C=100.0, svr__epsilon=0.1, svr__kernel=rbf, total=  48.6s\n",
      "[CV] .. svr__C=100.0, svr__epsilon=0.1, svr__kernel=rbf, total=  49.3s\n",
      "[CV] .. svr__C=100.0, svr__epsilon=0.1, svr__kernel=rbf, total=  49.0s\n",
      "[CV]  svr__C=100.0, svr__epsilon=0.5, svr__kernel=linear, total=  55.9s\n",
      "[CV]  svr__C=100.0, svr__epsilon=0.5, svr__kernel=linear, total=  56.8s\n",
      "[CV]  svr__C=100.0, svr__epsilon=0.1, svr__kernel=sigmoid, total=  53.7s\n",
      "[CV]  svr__C=100.0, svr__epsilon=0.5, svr__kernel=linear, total=  54.3s\n",
      "[CV]  svr__C=100.0, svr__epsilon=0.1, svr__kernel=sigmoid, total=  52.4s\n",
      "[CV]  svr__C=100.0, svr__epsilon=0.1, svr__kernel=sigmoid, total=  55.8s\n",
      "[CV] .. svr__C=100.0, svr__epsilon=0.5, svr__kernel=rbf, total=  38.4s\n",
      "[CV] .. svr__C=100.0, svr__epsilon=0.5, svr__kernel=rbf, total=  42.0s\n",
      "[CV]  svr__C=100.0, svr__epsilon=0.5, svr__kernel=sigmoid, total=  46.7s\n",
      "[CV] .. svr__C=100.0, svr__epsilon=0.5, svr__kernel=rbf, total=  50.1s\n",
      "[CV]  svr__C=100.0, svr__epsilon=0.5, svr__kernel=sigmoid, total=  45.4s\n",
      "[CV]  svr__C=100.0, svr__epsilon=0.5, svr__kernel=sigmoid, total=  47.0s\n"
     ]
    },
    {
     "name": "stderr",
     "output_type": "stream",
     "text": [
      "[Parallel(n_jobs=-1)]: Done 108 out of 108 | elapsed:  5.9min finished\n"
     ]
    },
    {
     "data": {
      "text/plain": [
       "GridSearchCV(cv=3, error_score='raise',\n",
       "       estimator=Pipeline(memory=None,\n",
       "     steps=[('standardscaler', StandardScaler(copy=True, with_mean=True, with_std=True)), ('variancethreshold', VarianceThreshold(threshold=0.0)), ('svr', SVR(C=1.0, cache_size=200, coef0=0.0, degree=3, epsilon=0.1, gamma='auto',\n",
       "  kernel='rbf', max_iter=-1, shrinking=True, tol=0.001, verbose=False))]),\n",
       "       fit_params=None, iid=True, n_jobs=-1,\n",
       "       param_grid={'svr__kernel': ['linear', 'rbf', 'sigmoid'], 'svr__C': [1.0, 10.0, 100.0], 'svr__epsilon': [0.01, 0.05, 0.1, 0.5]},\n",
       "       pre_dispatch='2*n_jobs', refit=True, return_train_score='warn',\n",
       "       scoring='r2', verbose=2)"
      ]
     },
     "execution_count": 28,
     "metadata": {},
     "output_type": "execute_result"
    }
   ],
   "source": [
    "svr_grid.fit(X_train, y_train)"
   ]
  },
  {
   "cell_type": "code",
   "execution_count": 29,
   "metadata": {
    "collapsed": false
   },
   "outputs": [
    {
     "data": {
      "text/plain": [
       "0.74716491800283125"
      ]
     },
     "execution_count": 29,
     "metadata": {},
     "output_type": "execute_result"
    }
   ],
   "source": [
    "svr_grid.best_score_"
   ]
  },
  {
   "cell_type": "markdown",
   "metadata": {},
   "source": [
    "### Random Forest"
   ]
  },
  {
   "cell_type": "code",
   "execution_count": 35,
   "metadata": {
    "collapsed": true
   },
   "outputs": [],
   "source": [
    "rf_pipe = make_pipeline(RandomForestRegressor(n_jobs=-1))\n",
    "rf_params = {'randomforestregressor__n_estimators' : [10, 50, 100],\n",
    "             'randomforestregressor__max_features' : [3, 6, 10, 'auto'],\n",
    "             'randomforestregressor__max_depth' : [5, 10, \n",
    "                                                   #None\n",
    "                                                  ]}\n",
    "rf_grid = GridSearchCV(rf_pipe, rf_params, cv=3, scoring='r2', verbose=2)"
   ]
  },
  {
   "cell_type": "code",
   "execution_count": 36,
   "metadata": {
    "collapsed": false
   },
   "outputs": [
    {
     "name": "stdout",
     "output_type": "stream",
     "text": [
      "Fitting 3 folds for each of 24 candidates, totalling 72 fits\n",
      "[CV] randomforestregressor__max_depth=5, randomforestregressor__max_features=3, randomforestregressor__n_estimators=10 \n",
      "[CV]  randomforestregressor__max_depth=5, randomforestregressor__max_features=3, randomforestregressor__n_estimators=10, total=   0.2s\n",
      "[CV] randomforestregressor__max_depth=5, randomforestregressor__max_features=3, randomforestregressor__n_estimators=10 \n"
     ]
    },
    {
     "name": "stderr",
     "output_type": "stream",
     "text": [
      "[Parallel(n_jobs=1)]: Done   1 out of   1 | elapsed:    0.3s remaining:    0.0s\n"
     ]
    },
    {
     "name": "stdout",
     "output_type": "stream",
     "text": [
      "[CV]  randomforestregressor__max_depth=5, randomforestregressor__max_features=3, randomforestregressor__n_estimators=10, total=   0.2s\n",
      "[CV] randomforestregressor__max_depth=5, randomforestregressor__max_features=3, randomforestregressor__n_estimators=10 \n",
      "[CV]  randomforestregressor__max_depth=5, randomforestregressor__max_features=3, randomforestregressor__n_estimators=10, total=   0.2s\n",
      "[CV] randomforestregressor__max_depth=5, randomforestregressor__max_features=3, randomforestregressor__n_estimators=50 \n",
      "[CV]  randomforestregressor__max_depth=5, randomforestregressor__max_features=3, randomforestregressor__n_estimators=50, total=   0.4s\n",
      "[CV] randomforestregressor__max_depth=5, randomforestregressor__max_features=3, randomforestregressor__n_estimators=50 \n",
      "[CV]  randomforestregressor__max_depth=5, randomforestregressor__max_features=3, randomforestregressor__n_estimators=50, total=   0.4s\n",
      "[CV] randomforestregressor__max_depth=5, randomforestregressor__max_features=3, randomforestregressor__n_estimators=50 \n",
      "[CV]  randomforestregressor__max_depth=5, randomforestregressor__max_features=3, randomforestregressor__n_estimators=50, total=   0.4s\n",
      "[CV] randomforestregressor__max_depth=5, randomforestregressor__max_features=3, randomforestregressor__n_estimators=100 \n",
      "[CV]  randomforestregressor__max_depth=5, randomforestregressor__max_features=3, randomforestregressor__n_estimators=100, total=   0.5s\n",
      "[CV] randomforestregressor__max_depth=5, randomforestregressor__max_features=3, randomforestregressor__n_estimators=100 \n",
      "[CV]  randomforestregressor__max_depth=5, randomforestregressor__max_features=3, randomforestregressor__n_estimators=100, total=   0.5s\n",
      "[CV] randomforestregressor__max_depth=5, randomforestregressor__max_features=3, randomforestregressor__n_estimators=100 \n",
      "[CV]  randomforestregressor__max_depth=5, randomforestregressor__max_features=3, randomforestregressor__n_estimators=100, total=   0.5s\n",
      "[CV] randomforestregressor__max_depth=5, randomforestregressor__max_features=6, randomforestregressor__n_estimators=10 \n",
      "[CV]  randomforestregressor__max_depth=5, randomforestregressor__max_features=6, randomforestregressor__n_estimators=10, total=   0.2s\n",
      "[CV] randomforestregressor__max_depth=5, randomforestregressor__max_features=6, randomforestregressor__n_estimators=10 \n",
      "[CV]  randomforestregressor__max_depth=5, randomforestregressor__max_features=6, randomforestregressor__n_estimators=10, total=   0.2s\n",
      "[CV] randomforestregressor__max_depth=5, randomforestregressor__max_features=6, randomforestregressor__n_estimators=10 \n",
      "[CV]  randomforestregressor__max_depth=5, randomforestregressor__max_features=6, randomforestregressor__n_estimators=10, total=   0.2s\n",
      "[CV] randomforestregressor__max_depth=5, randomforestregressor__max_features=6, randomforestregressor__n_estimators=50 \n",
      "[CV]  randomforestregressor__max_depth=5, randomforestregressor__max_features=6, randomforestregressor__n_estimators=50, total=   0.4s\n",
      "[CV] randomforestregressor__max_depth=5, randomforestregressor__max_features=6, randomforestregressor__n_estimators=50 \n",
      "[CV]  randomforestregressor__max_depth=5, randomforestregressor__max_features=6, randomforestregressor__n_estimators=50, total=   0.5s\n",
      "[CV] randomforestregressor__max_depth=5, randomforestregressor__max_features=6, randomforestregressor__n_estimators=50 \n",
      "[CV]  randomforestregressor__max_depth=5, randomforestregressor__max_features=6, randomforestregressor__n_estimators=50, total=   0.5s\n",
      "[CV] randomforestregressor__max_depth=5, randomforestregressor__max_features=6, randomforestregressor__n_estimators=100 \n",
      "[CV]  randomforestregressor__max_depth=5, randomforestregressor__max_features=6, randomforestregressor__n_estimators=100, total=   0.7s\n",
      "[CV] randomforestregressor__max_depth=5, randomforestregressor__max_features=6, randomforestregressor__n_estimators=100 \n",
      "[CV]  randomforestregressor__max_depth=5, randomforestregressor__max_features=6, randomforestregressor__n_estimators=100, total=   0.6s\n",
      "[CV] randomforestregressor__max_depth=5, randomforestregressor__max_features=6, randomforestregressor__n_estimators=100 \n",
      "[CV]  randomforestregressor__max_depth=5, randomforestregressor__max_features=6, randomforestregressor__n_estimators=100, total=   0.8s\n",
      "[CV] randomforestregressor__max_depth=5, randomforestregressor__max_features=10, randomforestregressor__n_estimators=10 \n",
      "[CV]  randomforestregressor__max_depth=5, randomforestregressor__max_features=10, randomforestregressor__n_estimators=10, total=   0.2s\n",
      "[CV] randomforestregressor__max_depth=5, randomforestregressor__max_features=10, randomforestregressor__n_estimators=10 \n",
      "[CV]  randomforestregressor__max_depth=5, randomforestregressor__max_features=10, randomforestregressor__n_estimators=10, total=   0.2s\n",
      "[CV] randomforestregressor__max_depth=5, randomforestregressor__max_features=10, randomforestregressor__n_estimators=10 \n",
      "[CV]  randomforestregressor__max_depth=5, randomforestregressor__max_features=10, randomforestregressor__n_estimators=10, total=   0.2s\n",
      "[CV] randomforestregressor__max_depth=5, randomforestregressor__max_features=10, randomforestregressor__n_estimators=50 \n",
      "[CV]  randomforestregressor__max_depth=5, randomforestregressor__max_features=10, randomforestregressor__n_estimators=50, total=   0.6s\n",
      "[CV] randomforestregressor__max_depth=5, randomforestregressor__max_features=10, randomforestregressor__n_estimators=50 \n",
      "[CV]  randomforestregressor__max_depth=5, randomforestregressor__max_features=10, randomforestregressor__n_estimators=50, total=   0.6s\n",
      "[CV] randomforestregressor__max_depth=5, randomforestregressor__max_features=10, randomforestregressor__n_estimators=50 \n",
      "[CV]  randomforestregressor__max_depth=5, randomforestregressor__max_features=10, randomforestregressor__n_estimators=50, total=   0.6s\n",
      "[CV] randomforestregressor__max_depth=5, randomforestregressor__max_features=10, randomforestregressor__n_estimators=100 \n",
      "[CV]  randomforestregressor__max_depth=5, randomforestregressor__max_features=10, randomforestregressor__n_estimators=100, total=   0.8s\n",
      "[CV] randomforestregressor__max_depth=5, randomforestregressor__max_features=10, randomforestregressor__n_estimators=100 \n",
      "[CV]  randomforestregressor__max_depth=5, randomforestregressor__max_features=10, randomforestregressor__n_estimators=100, total=   0.8s\n",
      "[CV] randomforestregressor__max_depth=5, randomforestregressor__max_features=10, randomforestregressor__n_estimators=100 \n",
      "[CV]  randomforestregressor__max_depth=5, randomforestregressor__max_features=10, randomforestregressor__n_estimators=100, total=   0.8s\n",
      "[CV] randomforestregressor__max_depth=5, randomforestregressor__max_features=auto, randomforestregressor__n_estimators=10 \n",
      "[CV]  randomforestregressor__max_depth=5, randomforestregressor__max_features=auto, randomforestregressor__n_estimators=10, total=   0.2s\n",
      "[CV] randomforestregressor__max_depth=5, randomforestregressor__max_features=auto, randomforestregressor__n_estimators=10 \n",
      "[CV]  randomforestregressor__max_depth=5, randomforestregressor__max_features=auto, randomforestregressor__n_estimators=10, total=   0.3s\n",
      "[CV] randomforestregressor__max_depth=5, randomforestregressor__max_features=auto, randomforestregressor__n_estimators=10 \n",
      "[CV]  randomforestregressor__max_depth=5, randomforestregressor__max_features=auto, randomforestregressor__n_estimators=10, total=   0.2s\n",
      "[CV] randomforestregressor__max_depth=5, randomforestregressor__max_features=auto, randomforestregressor__n_estimators=50 \n",
      "[CV]  randomforestregressor__max_depth=5, randomforestregressor__max_features=auto, randomforestregressor__n_estimators=50, total=   0.8s\n",
      "[CV] randomforestregressor__max_depth=5, randomforestregressor__max_features=auto, randomforestregressor__n_estimators=50 \n",
      "[CV]  randomforestregressor__max_depth=5, randomforestregressor__max_features=auto, randomforestregressor__n_estimators=50, total=   0.7s\n",
      "[CV] randomforestregressor__max_depth=5, randomforestregressor__max_features=auto, randomforestregressor__n_estimators=50 \n",
      "[CV]  randomforestregressor__max_depth=5, randomforestregressor__max_features=auto, randomforestregressor__n_estimators=50, total=   0.7s\n",
      "[CV] randomforestregressor__max_depth=5, randomforestregressor__max_features=auto, randomforestregressor__n_estimators=100 \n",
      "[CV]  randomforestregressor__max_depth=5, randomforestregressor__max_features=auto, randomforestregressor__n_estimators=100, total=   1.2s\n",
      "[CV] randomforestregressor__max_depth=5, randomforestregressor__max_features=auto, randomforestregressor__n_estimators=100 \n",
      "[CV]  randomforestregressor__max_depth=5, randomforestregressor__max_features=auto, randomforestregressor__n_estimators=100, total=   1.2s\n",
      "[CV] randomforestregressor__max_depth=5, randomforestregressor__max_features=auto, randomforestregressor__n_estimators=100 \n",
      "[CV]  randomforestregressor__max_depth=5, randomforestregressor__max_features=auto, randomforestregressor__n_estimators=100, total=   1.2s\n",
      "[CV] randomforestregressor__max_depth=10, randomforestregressor__max_features=3, randomforestregressor__n_estimators=10 \n",
      "[CV]  randomforestregressor__max_depth=10, randomforestregressor__max_features=3, randomforestregressor__n_estimators=10, total=   0.2s\n",
      "[CV] randomforestregressor__max_depth=10, randomforestregressor__max_features=3, randomforestregressor__n_estimators=10 \n",
      "[CV]  randomforestregressor__max_depth=10, randomforestregressor__max_features=3, randomforestregressor__n_estimators=10, total=   0.2s\n",
      "[CV] randomforestregressor__max_depth=10, randomforestregressor__max_features=3, randomforestregressor__n_estimators=10 \n",
      "[CV]  randomforestregressor__max_depth=10, randomforestregressor__max_features=3, randomforestregressor__n_estimators=10, total=   0.2s\n",
      "[CV] randomforestregressor__max_depth=10, randomforestregressor__max_features=3, randomforestregressor__n_estimators=50 \n",
      "[CV]  randomforestregressor__max_depth=10, randomforestregressor__max_features=3, randomforestregressor__n_estimators=50, total=   0.4s\n",
      "[CV] randomforestregressor__max_depth=10, randomforestregressor__max_features=3, randomforestregressor__n_estimators=50 \n",
      "[CV]  randomforestregressor__max_depth=10, randomforestregressor__max_features=3, randomforestregressor__n_estimators=50, total=   0.4s\n",
      "[CV] randomforestregressor__max_depth=10, randomforestregressor__max_features=3, randomforestregressor__n_estimators=50 \n",
      "[CV]  randomforestregressor__max_depth=10, randomforestregressor__max_features=3, randomforestregressor__n_estimators=50, total=   0.4s\n",
      "[CV] randomforestregressor__max_depth=10, randomforestregressor__max_features=3, randomforestregressor__n_estimators=100 \n",
      "[CV]  randomforestregressor__max_depth=10, randomforestregressor__max_features=3, randomforestregressor__n_estimators=100, total=   0.7s\n",
      "[CV] randomforestregressor__max_depth=10, randomforestregressor__max_features=3, randomforestregressor__n_estimators=100 \n",
      "[CV]  randomforestregressor__max_depth=10, randomforestregressor__max_features=3, randomforestregressor__n_estimators=100, total=   0.8s\n",
      "[CV] randomforestregressor__max_depth=10, randomforestregressor__max_features=3, randomforestregressor__n_estimators=100 \n",
      "[CV]  randomforestregressor__max_depth=10, randomforestregressor__max_features=3, randomforestregressor__n_estimators=100, total=   0.7s\n",
      "[CV] randomforestregressor__max_depth=10, randomforestregressor__max_features=6, randomforestregressor__n_estimators=10 \n",
      "[CV]  randomforestregressor__max_depth=10, randomforestregressor__max_features=6, randomforestregressor__n_estimators=10, total=   0.2s\n",
      "[CV] randomforestregressor__max_depth=10, randomforestregressor__max_features=6, randomforestregressor__n_estimators=10 \n",
      "[CV]  randomforestregressor__max_depth=10, randomforestregressor__max_features=6, randomforestregressor__n_estimators=10, total=   0.2s\n",
      "[CV] randomforestregressor__max_depth=10, randomforestregressor__max_features=6, randomforestregressor__n_estimators=10 \n",
      "[CV]  randomforestregressor__max_depth=10, randomforestregressor__max_features=6, randomforestregressor__n_estimators=10, total=   0.2s\n",
      "[CV] randomforestregressor__max_depth=10, randomforestregressor__max_features=6, randomforestregressor__n_estimators=50 \n",
      "[CV]  randomforestregressor__max_depth=10, randomforestregressor__max_features=6, randomforestregressor__n_estimators=50, total=   0.6s\n",
      "[CV] randomforestregressor__max_depth=10, randomforestregressor__max_features=6, randomforestregressor__n_estimators=50 \n",
      "[CV]  randomforestregressor__max_depth=10, randomforestregressor__max_features=6, randomforestregressor__n_estimators=50, total=   0.6s\n",
      "[CV] randomforestregressor__max_depth=10, randomforestregressor__max_features=6, randomforestregressor__n_estimators=50 \n",
      "[CV]  randomforestregressor__max_depth=10, randomforestregressor__max_features=6, randomforestregressor__n_estimators=50, total=   0.6s\n",
      "[CV] randomforestregressor__max_depth=10, randomforestregressor__max_features=6, randomforestregressor__n_estimators=100 \n",
      "[CV]  randomforestregressor__max_depth=10, randomforestregressor__max_features=6, randomforestregressor__n_estimators=100, total=   0.9s\n",
      "[CV] randomforestregressor__max_depth=10, randomforestregressor__max_features=6, randomforestregressor__n_estimators=100 \n",
      "[CV]  randomforestregressor__max_depth=10, randomforestregressor__max_features=6, randomforestregressor__n_estimators=100, total=   0.9s\n",
      "[CV] randomforestregressor__max_depth=10, randomforestregressor__max_features=6, randomforestregressor__n_estimators=100 \n",
      "[CV]  randomforestregressor__max_depth=10, randomforestregressor__max_features=6, randomforestregressor__n_estimators=100, total=   0.9s\n",
      "[CV] randomforestregressor__max_depth=10, randomforestregressor__max_features=10, randomforestregressor__n_estimators=10 \n",
      "[CV]  randomforestregressor__max_depth=10, randomforestregressor__max_features=10, randomforestregressor__n_estimators=10, total=   0.3s\n",
      "[CV] randomforestregressor__max_depth=10, randomforestregressor__max_features=10, randomforestregressor__n_estimators=10 \n",
      "[CV]  randomforestregressor__max_depth=10, randomforestregressor__max_features=10, randomforestregressor__n_estimators=10, total=   0.3s\n",
      "[CV] randomforestregressor__max_depth=10, randomforestregressor__max_features=10, randomforestregressor__n_estimators=10 \n",
      "[CV]  randomforestregressor__max_depth=10, randomforestregressor__max_features=10, randomforestregressor__n_estimators=10, total=   0.3s\n",
      "[CV] randomforestregressor__max_depth=10, randomforestregressor__max_features=10, randomforestregressor__n_estimators=50 \n",
      "[CV]  randomforestregressor__max_depth=10, randomforestregressor__max_features=10, randomforestregressor__n_estimators=50, total=   0.8s\n",
      "[CV] randomforestregressor__max_depth=10, randomforestregressor__max_features=10, randomforestregressor__n_estimators=50 \n",
      "[CV]  randomforestregressor__max_depth=10, randomforestregressor__max_features=10, randomforestregressor__n_estimators=50, total=   0.8s\n",
      "[CV] randomforestregressor__max_depth=10, randomforestregressor__max_features=10, randomforestregressor__n_estimators=50 \n",
      "[CV]  randomforestregressor__max_depth=10, randomforestregressor__max_features=10, randomforestregressor__n_estimators=50, total=   0.8s\n",
      "[CV] randomforestregressor__max_depth=10, randomforestregressor__max_features=10, randomforestregressor__n_estimators=100 \n",
      "[CV]  randomforestregressor__max_depth=10, randomforestregressor__max_features=10, randomforestregressor__n_estimators=100, total=   1.3s\n",
      "[CV] randomforestregressor__max_depth=10, randomforestregressor__max_features=10, randomforestregressor__n_estimators=100 \n",
      "[CV]  randomforestregressor__max_depth=10, randomforestregressor__max_features=10, randomforestregressor__n_estimators=100, total=   1.3s\n",
      "[CV] randomforestregressor__max_depth=10, randomforestregressor__max_features=10, randomforestregressor__n_estimators=100 \n",
      "[CV]  randomforestregressor__max_depth=10, randomforestregressor__max_features=10, randomforestregressor__n_estimators=100, total=   1.3s\n",
      "[CV] randomforestregressor__max_depth=10, randomforestregressor__max_features=auto, randomforestregressor__n_estimators=10 \n",
      "[CV]  randomforestregressor__max_depth=10, randomforestregressor__max_features=auto, randomforestregressor__n_estimators=10, total=   0.3s\n",
      "[CV] randomforestregressor__max_depth=10, randomforestregressor__max_features=auto, randomforestregressor__n_estimators=10 \n",
      "[CV]  randomforestregressor__max_depth=10, randomforestregressor__max_features=auto, randomforestregressor__n_estimators=10, total=   0.3s\n",
      "[CV] randomforestregressor__max_depth=10, randomforestregressor__max_features=auto, randomforestregressor__n_estimators=10 \n",
      "[CV]  randomforestregressor__max_depth=10, randomforestregressor__max_features=auto, randomforestregressor__n_estimators=10, total=   0.3s\n",
      "[CV] randomforestregressor__max_depth=10, randomforestregressor__max_features=auto, randomforestregressor__n_estimators=50 \n",
      "[CV]  randomforestregressor__max_depth=10, randomforestregressor__max_features=auto, randomforestregressor__n_estimators=50, total=   1.2s\n",
      "[CV] randomforestregressor__max_depth=10, randomforestregressor__max_features=auto, randomforestregressor__n_estimators=50 \n",
      "[CV]  randomforestregressor__max_depth=10, randomforestregressor__max_features=auto, randomforestregressor__n_estimators=50, total=   1.2s\n",
      "[CV] randomforestregressor__max_depth=10, randomforestregressor__max_features=auto, randomforestregressor__n_estimators=50 \n",
      "[CV]  randomforestregressor__max_depth=10, randomforestregressor__max_features=auto, randomforestregressor__n_estimators=50, total=   1.2s\n",
      "[CV] randomforestregressor__max_depth=10, randomforestregressor__max_features=auto, randomforestregressor__n_estimators=100 \n",
      "[CV]  randomforestregressor__max_depth=10, randomforestregressor__max_features=auto, randomforestregressor__n_estimators=100, total=   2.1s\n",
      "[CV] randomforestregressor__max_depth=10, randomforestregressor__max_features=auto, randomforestregressor__n_estimators=100 \n",
      "[CV]  randomforestregressor__max_depth=10, randomforestregressor__max_features=auto, randomforestregressor__n_estimators=100, total=   2.1s\n",
      "[CV] randomforestregressor__max_depth=10, randomforestregressor__max_features=auto, randomforestregressor__n_estimators=100 \n",
      "[CV]  randomforestregressor__max_depth=10, randomforestregressor__max_features=auto, randomforestregressor__n_estimators=100, total=   2.1s\n"
     ]
    },
    {
     "name": "stderr",
     "output_type": "stream",
     "text": [
      "[Parallel(n_jobs=1)]: Done  72 out of  72 | elapsed:   53.8s finished\n"
     ]
    },
    {
     "data": {
      "text/plain": [
       "GridSearchCV(cv=3, error_score='raise',\n",
       "       estimator=Pipeline(memory=None,\n",
       "     steps=[('randomforestregressor', RandomForestRegressor(bootstrap=True, criterion='mse', max_depth=None,\n",
       "           max_features='auto', max_leaf_nodes=None,\n",
       "           min_impurity_decrease=0.0, min_impurity_split=None,\n",
       "           min_samples_leaf=1, min_samples_split=2,\n",
       "           min_weight_fraction_leaf=0.0, n_estimators=10, n_jobs=-1,\n",
       "           oob_score=False, random_state=None, verbose=0, warm_start=False))]),\n",
       "       fit_params=None, iid=True, n_jobs=1,\n",
       "       param_grid={'randomforestregressor__n_estimators': [10, 50, 100], 'randomforestregressor__max_features': [3, 6, 10, 'auto'], 'randomforestregressor__max_depth': [5, 10]},\n",
       "       pre_dispatch='2*n_jobs', refit=True, return_train_score=True,\n",
       "       scoring='r2', verbose=2)"
      ]
     },
     "execution_count": 36,
     "metadata": {},
     "output_type": "execute_result"
    }
   ],
   "source": [
    "rf_grid.fit(X_train, y_train)"
   ]
  },
  {
   "cell_type": "code",
   "execution_count": 37,
   "metadata": {
    "collapsed": false
   },
   "outputs": [
    {
     "data": {
      "text/plain": [
       "0.88647531499292442"
      ]
     },
     "execution_count": 37,
     "metadata": {},
     "output_type": "execute_result"
    }
   ],
   "source": [
    "rf_grid.best_score_"
   ]
  },
  {
   "cell_type": "code",
   "execution_count": 38,
   "metadata": {
    "collapsed": false
   },
   "outputs": [
    {
     "data": {
      "text/plain": [
       "{'randomforestregressor__max_depth': 10,\n",
       " 'randomforestregressor__max_features': 'auto',\n",
       " 'randomforestregressor__n_estimators': 100}"
      ]
     },
     "execution_count": 38,
     "metadata": {},
     "output_type": "execute_result"
    }
   ],
   "source": [
    "rf_grid.best_params_"
   ]
  },
  {
   "cell_type": "markdown",
   "metadata": {},
   "source": [
    "### Gradient Boosting Regressor"
   ]
  },
  {
   "cell_type": "code",
   "execution_count": 24,
   "metadata": {
    "collapsed": true
   },
   "outputs": [],
   "source": [
    "gbt_pipe = make_pipeline(GradientBoostingRegressor(random_state=0))\n",
    "gbt_params = {'gradientboostingregressor__n_estimators' : [50, 100, 200],\n",
    "              'gradientboostingregressor__max_features' : [3, 6, 'auto'],\n",
    "#              'gradientboostingregressor__subsample' : [0.2, 0.5, 1.0],\n",
    "              'gradientboostingregressor__max_depth' : [3, 5, 7],\n",
    "              'gradientboostingregressor__init' : [None]}\n",
    "gbt_grid = GridSearchCV(gbt_pipe, gbt_params, cv=tscv, scoring='r2', verbose=3)"
   ]
  },
  {
   "cell_type": "code",
   "execution_count": 25,
   "metadata": {
    "collapsed": false
   },
   "outputs": [
    {
     "name": "stdout",
     "output_type": "stream",
     "text": [
      "Fitting 3 folds for each of 27 candidates, totalling 81 fits\n",
      "[CV] gradientboostingregressor__n_estimators=50, gradientboostingregressor__max_depth=3, gradientboostingregressor__init=None, gradientboostingregressor__max_features=3 \n",
      "[CV]  gradientboostingregressor__n_estimators=50, gradientboostingregressor__max_depth=3, gradientboostingregressor__init=None, gradientboostingregressor__max_features=3, score=0.803306, total=   0.3s\n",
      "[CV] gradientboostingregressor__n_estimators=50, gradientboostingregressor__max_depth=3, gradientboostingregressor__init=None, gradientboostingregressor__max_features=3 \n",
      "[CV]  gradientboostingregressor__n_estimators=50, gradientboostingregressor__max_depth=3, gradientboostingregressor__init=None, gradientboostingregressor__max_features=3, score=0.792366, total=   0.2s\n",
      "[CV] gradientboostingregressor__n_estimators=50, gradientboostingregressor__max_depth=3, gradientboostingregressor__init=None, gradientboostingregressor__max_features=3 \n"
     ]
    },
    {
     "name": "stderr",
     "output_type": "stream",
     "text": [
      "[Parallel(n_jobs=1)]: Done   1 out of   1 | elapsed:    0.3s remaining:    0.0s\n",
      "[Parallel(n_jobs=1)]: Done   2 out of   2 | elapsed:    0.5s remaining:    0.0s\n"
     ]
    },
    {
     "name": "stdout",
     "output_type": "stream",
     "text": [
      "[CV]  gradientboostingregressor__n_estimators=50, gradientboostingregressor__max_depth=3, gradientboostingregressor__init=None, gradientboostingregressor__max_features=3, score=0.796719, total=   0.2s\n",
      "[CV] gradientboostingregressor__n_estimators=100, gradientboostingregressor__max_depth=3, gradientboostingregressor__init=None, gradientboostingregressor__max_features=3 \n",
      "[CV]  gradientboostingregressor__n_estimators=100, gradientboostingregressor__max_depth=3, gradientboostingregressor__init=None, gradientboostingregressor__max_features=3, score=0.833053, total=   0.4s\n",
      "[CV] gradientboostingregressor__n_estimators=100, gradientboostingregressor__max_depth=3, gradientboostingregressor__init=None, gradientboostingregressor__max_features=3 \n",
      "[CV]  gradientboostingregressor__n_estimators=100, gradientboostingregressor__max_depth=3, gradientboostingregressor__init=None, gradientboostingregressor__max_features=3, score=0.826306, total=   0.4s\n",
      "[CV] gradientboostingregressor__n_estimators=100, gradientboostingregressor__max_depth=3, gradientboostingregressor__init=None, gradientboostingregressor__max_features=3 \n",
      "[CV]  gradientboostingregressor__n_estimators=100, gradientboostingregressor__max_depth=3, gradientboostingregressor__init=None, gradientboostingregressor__max_features=3, score=0.825751, total=   0.5s\n",
      "[CV] gradientboostingregressor__n_estimators=200, gradientboostingregressor__max_depth=3, gradientboostingregressor__init=None, gradientboostingregressor__max_features=3 \n",
      "[CV]  gradientboostingregressor__n_estimators=200, gradientboostingregressor__max_depth=3, gradientboostingregressor__init=None, gradientboostingregressor__max_features=3, score=0.856816, total=   0.9s\n",
      "[CV] gradientboostingregressor__n_estimators=200, gradientboostingregressor__max_depth=3, gradientboostingregressor__init=None, gradientboostingregressor__max_features=3 \n",
      "[CV]  gradientboostingregressor__n_estimators=200, gradientboostingregressor__max_depth=3, gradientboostingregressor__init=None, gradientboostingregressor__max_features=3, score=0.853067, total=   0.6s\n",
      "[CV] gradientboostingregressor__n_estimators=200, gradientboostingregressor__max_depth=3, gradientboostingregressor__init=None, gradientboostingregressor__max_features=3 \n",
      "[CV]  gradientboostingregressor__n_estimators=200, gradientboostingregressor__max_depth=3, gradientboostingregressor__init=None, gradientboostingregressor__max_features=3, score=0.852520, total=   0.6s\n",
      "[CV] gradientboostingregressor__n_estimators=50, gradientboostingregressor__max_depth=3, gradientboostingregressor__init=None, gradientboostingregressor__max_features=6 \n",
      "[CV]  gradientboostingregressor__n_estimators=50, gradientboostingregressor__max_depth=3, gradientboostingregressor__init=None, gradientboostingregressor__max_features=6, score=0.831562, total=   0.3s\n",
      "[CV] gradientboostingregressor__n_estimators=50, gradientboostingregressor__max_depth=3, gradientboostingregressor__init=None, gradientboostingregressor__max_features=6 \n",
      "[CV]  gradientboostingregressor__n_estimators=50, gradientboostingregressor__max_depth=3, gradientboostingregressor__init=None, gradientboostingregressor__max_features=6, score=0.830020, total=   0.3s\n",
      "[CV] gradientboostingregressor__n_estimators=50, gradientboostingregressor__max_depth=3, gradientboostingregressor__init=None, gradientboostingregressor__max_features=6 \n",
      "[CV]  gradientboostingregressor__n_estimators=50, gradientboostingregressor__max_depth=3, gradientboostingregressor__init=None, gradientboostingregressor__max_features=6, score=0.830818, total=   0.3s\n",
      "[CV] gradientboostingregressor__n_estimators=100, gradientboostingregressor__max_depth=3, gradientboostingregressor__init=None, gradientboostingregressor__max_features=6 \n",
      "[CV]  gradientboostingregressor__n_estimators=100, gradientboostingregressor__max_depth=3, gradientboostingregressor__init=None, gradientboostingregressor__max_features=6, score=0.855070, total=   0.8s\n",
      "[CV] gradientboostingregressor__n_estimators=100, gradientboostingregressor__max_depth=3, gradientboostingregressor__init=None, gradientboostingregressor__max_features=6 \n",
      "[CV]  gradientboostingregressor__n_estimators=100, gradientboostingregressor__max_depth=3, gradientboostingregressor__init=None, gradientboostingregressor__max_features=6, score=0.856230, total=   0.5s\n",
      "[CV] gradientboostingregressor__n_estimators=100, gradientboostingregressor__max_depth=3, gradientboostingregressor__init=None, gradientboostingregressor__max_features=6 \n",
      "[CV]  gradientboostingregressor__n_estimators=100, gradientboostingregressor__max_depth=3, gradientboostingregressor__init=None, gradientboostingregressor__max_features=6, score=0.854709, total=   0.5s\n",
      "[CV] gradientboostingregressor__n_estimators=200, gradientboostingregressor__max_depth=3, gradientboostingregressor__init=None, gradientboostingregressor__max_features=6 \n",
      "[CV]  gradientboostingregressor__n_estimators=200, gradientboostingregressor__max_depth=3, gradientboostingregressor__init=None, gradientboostingregressor__max_features=6, score=0.872320, total=   1.2s\n",
      "[CV] gradientboostingregressor__n_estimators=200, gradientboostingregressor__max_depth=3, gradientboostingregressor__init=None, gradientboostingregressor__max_features=6 \n",
      "[CV]  gradientboostingregressor__n_estimators=200, gradientboostingregressor__max_depth=3, gradientboostingregressor__init=None, gradientboostingregressor__max_features=6, score=0.874419, total=   1.1s\n",
      "[CV] gradientboostingregressor__n_estimators=200, gradientboostingregressor__max_depth=3, gradientboostingregressor__init=None, gradientboostingregressor__max_features=6 \n",
      "[CV]  gradientboostingregressor__n_estimators=200, gradientboostingregressor__max_depth=3, gradientboostingregressor__init=None, gradientboostingregressor__max_features=6, score=0.874063, total=   1.1s\n",
      "[CV] gradientboostingregressor__n_estimators=50, gradientboostingregressor__max_depth=3, gradientboostingregressor__init=None, gradientboostingregressor__max_features=auto \n",
      "[CV]  gradientboostingregressor__n_estimators=50, gradientboostingregressor__max_depth=3, gradientboostingregressor__init=None, gradientboostingregressor__max_features=auto, score=0.856283, total=   1.0s\n",
      "[CV] gradientboostingregressor__n_estimators=50, gradientboostingregressor__max_depth=3, gradientboostingregressor__init=None, gradientboostingregressor__max_features=auto \n",
      "[CV]  gradientboostingregressor__n_estimators=50, gradientboostingregressor__max_depth=3, gradientboostingregressor__init=None, gradientboostingregressor__max_features=auto, score=0.857074, total=   1.0s\n",
      "[CV] gradientboostingregressor__n_estimators=50, gradientboostingregressor__max_depth=3, gradientboostingregressor__init=None, gradientboostingregressor__max_features=auto \n",
      "[CV]  gradientboostingregressor__n_estimators=50, gradientboostingregressor__max_depth=3, gradientboostingregressor__init=None, gradientboostingregressor__max_features=auto, score=0.852803, total=   1.0s\n",
      "[CV] gradientboostingregressor__n_estimators=100, gradientboostingregressor__max_depth=3, gradientboostingregressor__init=None, gradientboostingregressor__max_features=auto \n",
      "[CV]  gradientboostingregressor__n_estimators=100, gradientboostingregressor__max_depth=3, gradientboostingregressor__init=None, gradientboostingregressor__max_features=auto, score=0.869716, total=   1.5s\n",
      "[CV] gradientboostingregressor__n_estimators=100, gradientboostingregressor__max_depth=3, gradientboostingregressor__init=None, gradientboostingregressor__max_features=auto \n",
      "[CV]  gradientboostingregressor__n_estimators=100, gradientboostingregressor__max_depth=3, gradientboostingregressor__init=None, gradientboostingregressor__max_features=auto, score=0.868753, total=   1.4s\n",
      "[CV] gradientboostingregressor__n_estimators=100, gradientboostingregressor__max_depth=3, gradientboostingregressor__init=None, gradientboostingregressor__max_features=auto \n",
      "[CV]  gradientboostingregressor__n_estimators=100, gradientboostingregressor__max_depth=3, gradientboostingregressor__init=None, gradientboostingregressor__max_features=auto, score=0.868202, total=   1.5s\n",
      "[CV] gradientboostingregressor__n_estimators=200, gradientboostingregressor__max_depth=3, gradientboostingregressor__init=None, gradientboostingregressor__max_features=auto \n",
      "[CV]  gradientboostingregressor__n_estimators=200, gradientboostingregressor__max_depth=3, gradientboostingregressor__init=None, gradientboostingregressor__max_features=auto, score=0.883053, total=   2.5s\n",
      "[CV] gradientboostingregressor__n_estimators=200, gradientboostingregressor__max_depth=3, gradientboostingregressor__init=None, gradientboostingregressor__max_features=auto \n",
      "[CV]  gradientboostingregressor__n_estimators=200, gradientboostingregressor__max_depth=3, gradientboostingregressor__init=None, gradientboostingregressor__max_features=auto, score=0.884915, total=   2.4s\n",
      "[CV] gradientboostingregressor__n_estimators=200, gradientboostingregressor__max_depth=3, gradientboostingregressor__init=None, gradientboostingregressor__max_features=auto \n",
      "[CV]  gradientboostingregressor__n_estimators=200, gradientboostingregressor__max_depth=3, gradientboostingregressor__init=None, gradientboostingregressor__max_features=auto, score=0.881852, total=   2.8s\n",
      "[CV] gradientboostingregressor__n_estimators=50, gradientboostingregressor__max_depth=5, gradientboostingregressor__init=None, gradientboostingregressor__max_features=3 \n",
      "[CV]  gradientboostingregressor__n_estimators=50, gradientboostingregressor__max_depth=5, gradientboostingregressor__init=None, gradientboostingregressor__max_features=3, score=0.847614, total=   0.4s\n",
      "[CV] gradientboostingregressor__n_estimators=50, gradientboostingregressor__max_depth=5, gradientboostingregressor__init=None, gradientboostingregressor__max_features=3 \n",
      "[CV]  gradientboostingregressor__n_estimators=50, gradientboostingregressor__max_depth=5, gradientboostingregressor__init=None, gradientboostingregressor__max_features=3, score=0.847218, total=   0.4s\n",
      "[CV] gradientboostingregressor__n_estimators=50, gradientboostingregressor__max_depth=5, gradientboostingregressor__init=None, gradientboostingregressor__max_features=3 \n",
      "[CV]  gradientboostingregressor__n_estimators=50, gradientboostingregressor__max_depth=5, gradientboostingregressor__init=None, gradientboostingregressor__max_features=3, score=0.846851, total=   0.4s\n",
      "[CV] gradientboostingregressor__n_estimators=100, gradientboostingregressor__max_depth=5, gradientboostingregressor__init=None, gradientboostingregressor__max_features=3 \n",
      "[CV]  gradientboostingregressor__n_estimators=100, gradientboostingregressor__max_depth=5, gradientboostingregressor__init=None, gradientboostingregressor__max_features=3, score=0.870599, total=   0.9s\n",
      "[CV] gradientboostingregressor__n_estimators=100, gradientboostingregressor__max_depth=5, gradientboostingregressor__init=None, gradientboostingregressor__max_features=3 \n",
      "[CV]  gradientboostingregressor__n_estimators=100, gradientboostingregressor__max_depth=5, gradientboostingregressor__init=None, gradientboostingregressor__max_features=3, score=0.872899, total=   0.7s\n",
      "[CV] gradientboostingregressor__n_estimators=100, gradientboostingregressor__max_depth=5, gradientboostingregressor__init=None, gradientboostingregressor__max_features=3 \n",
      "[CV]  gradientboostingregressor__n_estimators=100, gradientboostingregressor__max_depth=5, gradientboostingregressor__init=None, gradientboostingregressor__max_features=3, score=0.869644, total=   0.6s\n",
      "[CV] gradientboostingregressor__n_estimators=200, gradientboostingregressor__max_depth=5, gradientboostingregressor__init=None, gradientboostingregressor__max_features=3 \n",
      "[CV]  gradientboostingregressor__n_estimators=200, gradientboostingregressor__max_depth=5, gradientboostingregressor__init=None, gradientboostingregressor__max_features=3, score=0.888303, total=   1.3s\n",
      "[CV] gradientboostingregressor__n_estimators=200, gradientboostingregressor__max_depth=5, gradientboostingregressor__init=None, gradientboostingregressor__max_features=3 \n",
      "[CV]  gradientboostingregressor__n_estimators=200, gradientboostingregressor__max_depth=5, gradientboostingregressor__init=None, gradientboostingregressor__max_features=3, score=0.889760, total=   1.3s\n",
      "[CV] gradientboostingregressor__n_estimators=200, gradientboostingregressor__max_depth=5, gradientboostingregressor__init=None, gradientboostingregressor__max_features=3 \n",
      "[CV]  gradientboostingregressor__n_estimators=200, gradientboostingregressor__max_depth=5, gradientboostingregressor__init=None, gradientboostingregressor__max_features=3, score=0.886561, total=   1.2s\n",
      "[CV] gradientboostingregressor__n_estimators=50, gradientboostingregressor__max_depth=5, gradientboostingregressor__init=None, gradientboostingregressor__max_features=6 \n",
      "[CV]  gradientboostingregressor__n_estimators=50, gradientboostingregressor__max_depth=5, gradientboostingregressor__init=None, gradientboostingregressor__max_features=6, score=0.874448, total=   0.6s\n",
      "[CV] gradientboostingregressor__n_estimators=50, gradientboostingregressor__max_depth=5, gradientboostingregressor__init=None, gradientboostingregressor__max_features=6 \n",
      "[CV]  gradientboostingregressor__n_estimators=50, gradientboostingregressor__max_depth=5, gradientboostingregressor__init=None, gradientboostingregressor__max_features=6, score=0.877912, total=   0.6s\n",
      "[CV] gradientboostingregressor__n_estimators=50, gradientboostingregressor__max_depth=5, gradientboostingregressor__init=None, gradientboostingregressor__max_features=6 \n",
      "[CV]  gradientboostingregressor__n_estimators=50, gradientboostingregressor__max_depth=5, gradientboostingregressor__init=None, gradientboostingregressor__max_features=6, score=0.874552, total=   1.0s\n",
      "[CV] gradientboostingregressor__n_estimators=100, gradientboostingregressor__max_depth=5, gradientboostingregressor__init=None, gradientboostingregressor__max_features=6 \n",
      "[CV]  gradientboostingregressor__n_estimators=100, gradientboostingregressor__max_depth=5, gradientboostingregressor__init=None, gradientboostingregressor__max_features=6, score=0.890225, total=   1.2s\n",
      "[CV] gradientboostingregressor__n_estimators=100, gradientboostingregressor__max_depth=5, gradientboostingregressor__init=None, gradientboostingregressor__max_features=6 \n",
      "[CV]  gradientboostingregressor__n_estimators=100, gradientboostingregressor__max_depth=5, gradientboostingregressor__init=None, gradientboostingregressor__max_features=6, score=0.890357, total=   1.1s\n",
      "[CV] gradientboostingregressor__n_estimators=100, gradientboostingregressor__max_depth=5, gradientboostingregressor__init=None, gradientboostingregressor__max_features=6 \n",
      "[CV]  gradientboostingregressor__n_estimators=100, gradientboostingregressor__max_depth=5, gradientboostingregressor__init=None, gradientboostingregressor__max_features=6, score=0.889467, total=   1.0s\n",
      "[CV] gradientboostingregressor__n_estimators=200, gradientboostingregressor__max_depth=5, gradientboostingregressor__init=None, gradientboostingregressor__max_features=6 \n",
      "[CV]  gradientboostingregressor__n_estimators=200, gradientboostingregressor__max_depth=5, gradientboostingregressor__init=None, gradientboostingregressor__max_features=6, score=0.896733, total=   1.9s\n",
      "[CV] gradientboostingregressor__n_estimators=200, gradientboostingregressor__max_depth=5, gradientboostingregressor__init=None, gradientboostingregressor__max_features=6 \n",
      "[CV]  gradientboostingregressor__n_estimators=200, gradientboostingregressor__max_depth=5, gradientboostingregressor__init=None, gradientboostingregressor__max_features=6, score=0.898632, total=   1.9s\n",
      "[CV] gradientboostingregressor__n_estimators=200, gradientboostingregressor__max_depth=5, gradientboostingregressor__init=None, gradientboostingregressor__max_features=6 \n",
      "[CV]  gradientboostingregressor__n_estimators=200, gradientboostingregressor__max_depth=5, gradientboostingregressor__init=None, gradientboostingregressor__max_features=6, score=0.897903, total=   1.9s\n",
      "[CV] gradientboostingregressor__n_estimators=50, gradientboostingregressor__max_depth=5, gradientboostingregressor__init=None, gradientboostingregressor__max_features=auto \n",
      "[CV]  gradientboostingregressor__n_estimators=50, gradientboostingregressor__max_depth=5, gradientboostingregressor__init=None, gradientboostingregressor__max_features=auto, score=0.887082, total=   1.5s\n",
      "[CV] gradientboostingregressor__n_estimators=50, gradientboostingregressor__max_depth=5, gradientboostingregressor__init=None, gradientboostingregressor__max_features=auto \n",
      "[CV]  gradientboostingregressor__n_estimators=50, gradientboostingregressor__max_depth=5, gradientboostingregressor__init=None, gradientboostingregressor__max_features=auto, score=0.888601, total=   1.5s\n",
      "[CV] gradientboostingregressor__n_estimators=50, gradientboostingregressor__max_depth=5, gradientboostingregressor__init=None, gradientboostingregressor__max_features=auto \n",
      "[CV]  gradientboostingregressor__n_estimators=50, gradientboostingregressor__max_depth=5, gradientboostingregressor__init=None, gradientboostingregressor__max_features=auto, score=0.887334, total=   1.5s\n",
      "[CV] gradientboostingregressor__n_estimators=100, gradientboostingregressor__max_depth=5, gradientboostingregressor__init=None, gradientboostingregressor__max_features=auto \n",
      "[CV]  gradientboostingregressor__n_estimators=100, gradientboostingregressor__max_depth=5, gradientboostingregressor__init=None, gradientboostingregressor__max_features=auto, score=0.893564, total=   2.7s\n",
      "[CV] gradientboostingregressor__n_estimators=100, gradientboostingregressor__max_depth=5, gradientboostingregressor__init=None, gradientboostingregressor__max_features=auto \n",
      "[CV]  gradientboostingregressor__n_estimators=100, gradientboostingregressor__max_depth=5, gradientboostingregressor__init=None, gradientboostingregressor__max_features=auto, score=0.896236, total=   2.6s\n",
      "[CV] gradientboostingregressor__n_estimators=100, gradientboostingregressor__max_depth=5, gradientboostingregressor__init=None, gradientboostingregressor__max_features=auto \n",
      "[CV]  gradientboostingregressor__n_estimators=100, gradientboostingregressor__max_depth=5, gradientboostingregressor__init=None, gradientboostingregressor__max_features=auto, score=0.896534, total=   2.6s\n",
      "[CV] gradientboostingregressor__n_estimators=200, gradientboostingregressor__max_depth=5, gradientboostingregressor__init=None, gradientboostingregressor__max_features=auto \n",
      "[CV]  gradientboostingregressor__n_estimators=200, gradientboostingregressor__max_depth=5, gradientboostingregressor__init=None, gradientboostingregressor__max_features=auto, score=0.897017, total=   5.0s\n",
      "[CV] gradientboostingregressor__n_estimators=200, gradientboostingregressor__max_depth=5, gradientboostingregressor__init=None, gradientboostingregressor__max_features=auto \n",
      "[CV]  gradientboostingregressor__n_estimators=200, gradientboostingregressor__max_depth=5, gradientboostingregressor__init=None, gradientboostingregressor__max_features=auto, score=0.900806, total=   5.3s\n",
      "[CV] gradientboostingregressor__n_estimators=200, gradientboostingregressor__max_depth=5, gradientboostingregressor__init=None, gradientboostingregressor__max_features=auto \n",
      "[CV]  gradientboostingregressor__n_estimators=200, gradientboostingregressor__max_depth=5, gradientboostingregressor__init=None, gradientboostingregressor__max_features=auto, score=0.901626, total=   5.2s\n",
      "[CV] gradientboostingregressor__n_estimators=50, gradientboostingregressor__max_depth=7, gradientboostingregressor__init=None, gradientboostingregressor__max_features=3 \n",
      "[CV]  gradientboostingregressor__n_estimators=50, gradientboostingregressor__max_depth=7, gradientboostingregressor__init=None, gradientboostingregressor__max_features=3, score=0.874118, total=   0.6s\n",
      "[CV] gradientboostingregressor__n_estimators=50, gradientboostingregressor__max_depth=7, gradientboostingregressor__init=None, gradientboostingregressor__max_features=3 \n",
      "[CV]  gradientboostingregressor__n_estimators=50, gradientboostingregressor__max_depth=7, gradientboostingregressor__init=None, gradientboostingregressor__max_features=3, score=0.874105, total=   0.6s\n",
      "[CV] gradientboostingregressor__n_estimators=50, gradientboostingregressor__max_depth=7, gradientboostingregressor__init=None, gradientboostingregressor__max_features=3 \n",
      "[CV]  gradientboostingregressor__n_estimators=50, gradientboostingregressor__max_depth=7, gradientboostingregressor__init=None, gradientboostingregressor__max_features=3, score=0.871166, total=   0.7s\n",
      "[CV] gradientboostingregressor__n_estimators=100, gradientboostingregressor__max_depth=7, gradientboostingregressor__init=None, gradientboostingregressor__max_features=3 \n",
      "[CV]  gradientboostingregressor__n_estimators=100, gradientboostingregressor__max_depth=7, gradientboostingregressor__init=None, gradientboostingregressor__max_features=3, score=0.890707, total=   1.2s\n",
      "[CV] gradientboostingregressor__n_estimators=100, gradientboostingregressor__max_depth=7, gradientboostingregressor__init=None, gradientboostingregressor__max_features=3 \n",
      "[CV]  gradientboostingregressor__n_estimators=100, gradientboostingregressor__max_depth=7, gradientboostingregressor__init=None, gradientboostingregressor__max_features=3, score=0.890637, total=   1.2s\n",
      "[CV] gradientboostingregressor__n_estimators=100, gradientboostingregressor__max_depth=7, gradientboostingregressor__init=None, gradientboostingregressor__max_features=3 \n",
      "[CV]  gradientboostingregressor__n_estimators=100, gradientboostingregressor__max_depth=7, gradientboostingregressor__init=None, gradientboostingregressor__max_features=3, score=0.888467, total=   1.2s\n",
      "[CV] gradientboostingregressor__n_estimators=200, gradientboostingregressor__max_depth=7, gradientboostingregressor__init=None, gradientboostingregressor__max_features=3 \n",
      "[CV]  gradientboostingregressor__n_estimators=200, gradientboostingregressor__max_depth=7, gradientboostingregressor__init=None, gradientboostingregressor__max_features=3, score=0.899030, total=   2.3s\n",
      "[CV] gradientboostingregressor__n_estimators=200, gradientboostingregressor__max_depth=7, gradientboostingregressor__init=None, gradientboostingregressor__max_features=3 \n",
      "[CV]  gradientboostingregressor__n_estimators=200, gradientboostingregressor__max_depth=7, gradientboostingregressor__init=None, gradientboostingregressor__max_features=3, score=0.899562, total=   2.3s\n",
      "[CV] gradientboostingregressor__n_estimators=200, gradientboostingregressor__max_depth=7, gradientboostingregressor__init=None, gradientboostingregressor__max_features=3 \n",
      "[CV]  gradientboostingregressor__n_estimators=200, gradientboostingregressor__max_depth=7, gradientboostingregressor__init=None, gradientboostingregressor__max_features=3, score=0.897948, total=   2.3s\n",
      "[CV] gradientboostingregressor__n_estimators=50, gradientboostingregressor__max_depth=7, gradientboostingregressor__init=None, gradientboostingregressor__max_features=6 \n",
      "[CV]  gradientboostingregressor__n_estimators=50, gradientboostingregressor__max_depth=7, gradientboostingregressor__init=None, gradientboostingregressor__max_features=6, score=0.890986, total=   1.1s\n",
      "[CV] gradientboostingregressor__n_estimators=50, gradientboostingregressor__max_depth=7, gradientboostingregressor__init=None, gradientboostingregressor__max_features=6 \n",
      "[CV]  gradientboostingregressor__n_estimators=50, gradientboostingregressor__max_depth=7, gradientboostingregressor__init=None, gradientboostingregressor__max_features=6, score=0.893362, total=   1.1s\n",
      "[CV] gradientboostingregressor__n_estimators=50, gradientboostingregressor__max_depth=7, gradientboostingregressor__init=None, gradientboostingregressor__max_features=6 \n",
      "[CV]  gradientboostingregressor__n_estimators=50, gradientboostingregressor__max_depth=7, gradientboostingregressor__init=None, gradientboostingregressor__max_features=6, score=0.893012, total=   1.2s\n",
      "[CV] gradientboostingregressor__n_estimators=100, gradientboostingregressor__max_depth=7, gradientboostingregressor__init=None, gradientboostingregressor__max_features=6 \n",
      "[CV]  gradientboostingregressor__n_estimators=100, gradientboostingregressor__max_depth=7, gradientboostingregressor__init=None, gradientboostingregressor__max_features=6, score=0.899517, total=   2.3s\n",
      "[CV] gradientboostingregressor__n_estimators=100, gradientboostingregressor__max_depth=7, gradientboostingregressor__init=None, gradientboostingregressor__max_features=6 \n",
      "[CV]  gradientboostingregressor__n_estimators=100, gradientboostingregressor__max_depth=7, gradientboostingregressor__init=None, gradientboostingregressor__max_features=6, score=0.900619, total=   2.0s\n",
      "[CV] gradientboostingregressor__n_estimators=100, gradientboostingregressor__max_depth=7, gradientboostingregressor__init=None, gradientboostingregressor__max_features=6 \n",
      "[CV]  gradientboostingregressor__n_estimators=100, gradientboostingregressor__max_depth=7, gradientboostingregressor__init=None, gradientboostingregressor__max_features=6, score=0.901485, total=   2.1s\n",
      "[CV] gradientboostingregressor__n_estimators=200, gradientboostingregressor__max_depth=7, gradientboostingregressor__init=None, gradientboostingregressor__max_features=6 \n",
      "[CV]  gradientboostingregressor__n_estimators=200, gradientboostingregressor__max_depth=7, gradientboostingregressor__init=None, gradientboostingregressor__max_features=6, score=0.902506, total=   3.8s\n",
      "[CV] gradientboostingregressor__n_estimators=200, gradientboostingregressor__max_depth=7, gradientboostingregressor__init=None, gradientboostingregressor__max_features=6 \n",
      "[CV]  gradientboostingregressor__n_estimators=200, gradientboostingregressor__max_depth=7, gradientboostingregressor__init=None, gradientboostingregressor__max_features=6, score=0.903592, total=   3.7s\n",
      "[CV] gradientboostingregressor__n_estimators=200, gradientboostingregressor__max_depth=7, gradientboostingregressor__init=None, gradientboostingregressor__max_features=6 \n",
      "[CV]  gradientboostingregressor__n_estimators=200, gradientboostingregressor__max_depth=7, gradientboostingregressor__init=None, gradientboostingregressor__max_features=6, score=0.904530, total=   4.9s\n",
      "[CV] gradientboostingregressor__n_estimators=50, gradientboostingregressor__max_depth=7, gradientboostingregressor__init=None, gradientboostingregressor__max_features=auto \n",
      "[CV]  gradientboostingregressor__n_estimators=50, gradientboostingregressor__max_depth=7, gradientboostingregressor__init=None, gradientboostingregressor__max_features=auto, score=0.896082, total=   3.3s\n",
      "[CV] gradientboostingregressor__n_estimators=50, gradientboostingregressor__max_depth=7, gradientboostingregressor__init=None, gradientboostingregressor__max_features=auto \n",
      "[CV]  gradientboostingregressor__n_estimators=50, gradientboostingregressor__max_depth=7, gradientboostingregressor__init=None, gradientboostingregressor__max_features=auto, score=0.899623, total=   4.1s\n",
      "[CV] gradientboostingregressor__n_estimators=50, gradientboostingregressor__max_depth=7, gradientboostingregressor__init=None, gradientboostingregressor__max_features=auto \n",
      "[CV]  gradientboostingregressor__n_estimators=50, gradientboostingregressor__max_depth=7, gradientboostingregressor__init=None, gradientboostingregressor__max_features=auto, score=0.898338, total=   3.7s\n",
      "[CV] gradientboostingregressor__n_estimators=100, gradientboostingregressor__max_depth=7, gradientboostingregressor__init=None, gradientboostingregressor__max_features=auto \n",
      "[CV]  gradientboostingregressor__n_estimators=100, gradientboostingregressor__max_depth=7, gradientboostingregressor__init=None, gradientboostingregressor__max_features=auto, score=0.902393, total=   6.2s\n",
      "[CV] gradientboostingregressor__n_estimators=100, gradientboostingregressor__max_depth=7, gradientboostingregressor__init=None, gradientboostingregressor__max_features=auto \n",
      "[CV]  gradientboostingregressor__n_estimators=100, gradientboostingregressor__max_depth=7, gradientboostingregressor__init=None, gradientboostingregressor__max_features=auto, score=0.903939, total=   5.6s\n",
      "[CV] gradientboostingregressor__n_estimators=100, gradientboostingregressor__max_depth=7, gradientboostingregressor__init=None, gradientboostingregressor__max_features=auto \n",
      "[CV]  gradientboostingregressor__n_estimators=100, gradientboostingregressor__max_depth=7, gradientboostingregressor__init=None, gradientboostingregressor__max_features=auto, score=0.903183, total=   5.3s\n",
      "[CV] gradientboostingregressor__n_estimators=200, gradientboostingregressor__max_depth=7, gradientboostingregressor__init=None, gradientboostingregressor__max_features=auto \n",
      "[CV]  gradientboostingregressor__n_estimators=200, gradientboostingregressor__max_depth=7, gradientboostingregressor__init=None, gradientboostingregressor__max_features=auto, score=0.904068, total=  10.0s\n",
      "[CV] gradientboostingregressor__n_estimators=200, gradientboostingregressor__max_depth=7, gradientboostingregressor__init=None, gradientboostingregressor__max_features=auto \n",
      "[CV]  gradientboostingregressor__n_estimators=200, gradientboostingregressor__max_depth=7, gradientboostingregressor__init=None, gradientboostingregressor__max_features=auto, score=0.905080, total=   9.9s\n",
      "[CV] gradientboostingregressor__n_estimators=200, gradientboostingregressor__max_depth=7, gradientboostingregressor__init=None, gradientboostingregressor__max_features=auto \n",
      "[CV]  gradientboostingregressor__n_estimators=200, gradientboostingregressor__max_depth=7, gradientboostingregressor__init=None, gradientboostingregressor__max_features=auto, score=0.904853, total=   9.4s\n"
     ]
    },
    {
     "name": "stderr",
     "output_type": "stream",
     "text": [
      "[Parallel(n_jobs=1)]: Done  81 out of  81 | elapsed:  2.8min finished\n"
     ]
    },
    {
     "data": {
      "text/plain": [
       "GridSearchCV(cv=3, error_score='raise',\n",
       "       estimator=Pipeline(steps=[('gradientboostingregressor', GradientBoostingRegressor(alpha=0.9, criterion='friedman_mse', init=None,\n",
       "             learning_rate=0.1, loss='ls', max_depth=3, max_features=None,\n",
       "             max_leaf_nodes=None, min_impurity_split=1e-07,\n",
       "             min_samples_leaf=1, min_samples_split=2,\n",
       "             min_weight_fraction_leaf=0.0, n_estimators=100,\n",
       "             presort='auto', random_state=0, subsample=1.0, verbose=0,\n",
       "             warm_start=False))]),\n",
       "       fit_params={}, iid=True, n_jobs=1,\n",
       "       param_grid={'gradientboostingregressor__n_estimators': [50, 100, 200], 'gradientboostingregressor__max_depth': [3, 5, 7], 'gradientboostingregressor__init': [None], 'gradientboostingregressor__max_features': [3, 6, 'auto']},\n",
       "       pre_dispatch='2*n_jobs', refit=True, return_train_score=True,\n",
       "       scoring='r2', verbose=3)"
      ]
     },
     "execution_count": 25,
     "metadata": {},
     "output_type": "execute_result"
    }
   ],
   "source": [
    "gbt_grid.fit(X_train, y_train)"
   ]
  },
  {
   "cell_type": "code",
   "execution_count": 27,
   "metadata": {
    "collapsed": false
   },
   "outputs": [
    {
     "data": {
      "text/plain": [
       "{'gradientboostingregressor__init': None,\n",
       " 'gradientboostingregressor__max_depth': 7,\n",
       " 'gradientboostingregressor__max_features': 'auto',\n",
       " 'gradientboostingregressor__n_estimators': 200}"
      ]
     },
     "execution_count": 27,
     "metadata": {},
     "output_type": "execute_result"
    }
   ],
   "source": [
    "gbt_grid.best_params_"
   ]
  },
  {
   "cell_type": "markdown",
   "metadata": {},
   "source": [
    "## XGBoost Regressor"
   ]
  },
  {
   "cell_type": "code",
   "execution_count": 39,
   "metadata": {
    "collapsed": true
   },
   "outputs": [],
   "source": [
    "xgb_pipe = make_pipeline(XGBRegressor())\n",
    "xgb_params = {}\n",
    "xgb_grid = GridSearchCV(xgb_pipe, xgb_params, cv=3, scoring='r2', verbose=3)"
   ]
  },
  {
   "cell_type": "code",
   "execution_count": 40,
   "metadata": {
    "collapsed": false
   },
   "outputs": [
    {
     "name": "stdout",
     "output_type": "stream",
     "text": [
      "Fitting 3 folds for each of 1 candidates, totalling 3 fits\n",
      "[CV]  ................................................................\n",
      "[CV] ....................... , score=0.8706531169012568, total=   0.3s\n",
      "[CV]  ................................................................\n"
     ]
    },
    {
     "name": "stderr",
     "output_type": "stream",
     "text": [
      "[Parallel(n_jobs=1)]: Done   1 out of   1 | elapsed:    0.4s remaining:    0.0s\n"
     ]
    },
    {
     "name": "stdout",
     "output_type": "stream",
     "text": [
      "[CV] ....................... , score=0.8693851826641639, total=   0.2s\n",
      "[CV]  ................................................................\n",
      "[CV] ....................... , score=0.8679147000763284, total=   0.2s\n"
     ]
    },
    {
     "name": "stderr",
     "output_type": "stream",
     "text": [
      "[Parallel(n_jobs=1)]: Done   2 out of   2 | elapsed:    0.6s remaining:    0.0s\n",
      "[Parallel(n_jobs=1)]: Done   3 out of   3 | elapsed:    0.8s finished\n"
     ]
    },
    {
     "data": {
      "text/plain": [
       "GridSearchCV(cv=3, error_score='raise',\n",
       "       estimator=Pipeline(memory=None,\n",
       "     steps=[('xgbregressor', XGBRegressor(base_score=0.5, colsample_bylevel=1, colsample_bytree=1, gamma=0,\n",
       "       learning_rate=0.1, max_delta_step=0, max_depth=3,\n",
       "       min_child_weight=1, missing=None, n_estimators=100, nthread=-1,\n",
       "       objective='reg:linear', reg_alpha=0, reg_lambda=1,\n",
       "       scale_pos_weight=1, seed=0, silent=True, subsample=1))]),\n",
       "       fit_params=None, iid=True, n_jobs=1, param_grid={},\n",
       "       pre_dispatch='2*n_jobs', refit=True, return_train_score='warn',\n",
       "       scoring='r2', verbose=3)"
      ]
     },
     "execution_count": 40,
     "metadata": {},
     "output_type": "execute_result"
    }
   ],
   "source": [
    "xgb_grid.fit(X_train, y_train)"
   ]
  },
  {
   "cell_type": "code",
   "execution_count": 41,
   "metadata": {
    "collapsed": false
   },
   "outputs": [
    {
     "data": {
      "text/plain": [
       "0.86931766654724962"
      ]
     },
     "execution_count": 41,
     "metadata": {},
     "output_type": "execute_result"
    }
   ],
   "source": [
    "xgb_grid.best_score_"
   ]
  },
  {
   "cell_type": "markdown",
   "metadata": {},
   "source": [
    "### Arima Model"
   ]
  },
  {
   "cell_type": "code",
   "execution_count": 42,
   "metadata": {
    "collapsed": false
   },
   "outputs": [
    {
     "data": {
      "text/plain": [
       "<matplotlib.axes._subplots.AxesSubplot at 0x11d921ef0>"
      ]
     },
     "execution_count": 42,
     "metadata": {},
     "output_type": "execute_result"
    },
    {
     "data": {
      "image/png": "[encoded data removed]",
      "text/plain": [
       "<matplotlib.figure.Figure at 0x11e152be0>"
      ]
     },
     "metadata": {},
     "output_type": "display_data"
    }
   ],
   "source": [
    "data['2017-01'].num_pickups.plot(figsize=(20,10))"
   ]
  },
  {
   "cell_type": "code",
   "execution_count": 33,
   "metadata": {
    "collapsed": false
   },
   "outputs": [
    {
     "data": {
      "text/html": [
       "<div>\n",
       "<style>\n",
       "    .dataframe thead tr:only-child th {\n",
       "        text-align: right;\n",
       "    }\n",
       "\n",
       "    .dataframe thead th {\n",
       "        text-align: left;\n",
       "    }\n",
       "\n",
       "    .dataframe tbody tr th {\n",
       "        vertical-align: top;\n",
       "    }\n",
       "</style>\n",
       "<table border=\"1\" class=\"dataframe\">\n",
       "  <thead>\n",
       "    <tr style=\"text-align: right;\">\n",
       "      <th></th>\n",
       "      <th>num_pickups</th>\n",
       "      <th>temp</th>\n",
       "      <th>temp_min</th>\n",
       "      <th>temp_max</th>\n",
       "      <th>humidity</th>\n",
       "      <th>wind_speed</th>\n",
       "      <th>Passengers</th>\n",
       "      <th>Month</th>\n",
       "      <th>HourOfDay</th>\n",
       "      <th>DayOfWeek</th>\n",
       "      <th>holiday</th>\n",
       "      <th>precip_in</th>\n",
       "      <th>Avg_Delay_Arriving</th>\n",
       "      <th>Cancelled_Departing_Flights</th>\n",
       "      <th>clear</th>\n",
       "      <th>clouds</th>\n",
       "      <th>fog</th>\n",
       "      <th>rain</th>\n",
       "      <th>snow</th>\n",
       "      <th>thunderstorm</th>\n",
       "    </tr>\n",
       "    <tr>\n",
       "      <th>pickup_time</th>\n",
       "      <th></th>\n",
       "      <th></th>\n",
       "      <th></th>\n",
       "      <th></th>\n",
       "      <th></th>\n",
       "      <th></th>\n",
       "      <th></th>\n",
       "      <th></th>\n",
       "      <th></th>\n",
       "      <th></th>\n",
       "      <th></th>\n",
       "      <th></th>\n",
       "      <th></th>\n",
       "      <th></th>\n",
       "      <th></th>\n",
       "      <th></th>\n",
       "      <th></th>\n",
       "      <th></th>\n",
       "      <th></th>\n",
       "      <th></th>\n",
       "    </tr>\n",
       "  </thead>\n",
       "  <tbody>\n",
       "  </tbody>\n",
       "</table>\n",
       "</div>"
      ],
      "text/plain": [
       "Empty DataFrame\n",
       "Columns: [num_pickups, temp, temp_min, temp_max, humidity, wind_speed, Passengers, Month, HourOfDay, DayOfWeek, holiday, precip_in, Avg_Delay_Arriving, Cancelled_Departing_Flights, clear, clouds, fog, rain, snow, thunderstorm]\n",
       "Index: []"
      ]
     },
     "execution_count": 33,
     "metadata": {},
     "output_type": "execute_result"
    }
   ],
   "source": [
    "data['2016-08-03']"
   ]
  },
  {
   "cell_type": "code",
   "execution_count": null,
   "metadata": {
    "collapsed": true
   },
   "outputs": [],
   "source": [
    "ar_model = arima_model.ARMA(ppm[:500].diff()[1:], order=(12, 0))\n",
    "res = ar_model.fit()"
   ]
  },
  {
   "cell_type": "markdown",
   "metadata": {},
   "source": [
    "### MLXTEND"
   ]
  },
  {
   "cell_type": "code",
   "execution_count": 25,
   "metadata": {
    "collapsed": false
   },
   "outputs": [],
   "source": [
    "from mlxtend.regressor import StackingCVRegressor, StackingRegressor"
   ]
  },
  {
   "cell_type": "code",
   "execution_count": 31,
   "metadata": {
    "collapsed": false
   },
   "outputs": [],
   "source": [
    "X_train_ts_np = X_train_ts.values\n",
    "X_test_ts_np = X_test_ts.values\n",
    "y_train_ts_np = y_train_ts.values\n",
    "y_test_ts_np = y_test_ts.values"
   ]
  },
  {
   "cell_type": "code",
   "execution_count": 43,
   "metadata": {
    "collapsed": false
   },
   "outputs": [],
   "source": [
    "ridge = Ridge(alpha=10.0)\n",
    "#svr = SVR(kernel = 'linear')\n",
    "#gbd = GradientBoostingRegressor(max_depth=7, max_features='auto', n_estimators=200)\n",
    "rf = RandomForestRegressor(max_depth=10, max_features='auto', n_estimators=100)\n",
    "lasso = Lasso(max_iter = 5000)\n",
    "np.random.seed(42)\n",
    "stack = StackingCVRegressor(regressors=(ridge, lasso, rf), meta_regressor=lasso, use_features_in_secondary=True)\n",
    "#stack = StackingRegressor(regressors=(ridge, lasso, rf), meta_regressor=lasso)"
   ]
  },
  {
   "cell_type": "code",
   "execution_count": 44,
   "metadata": {
    "collapsed": true
   },
   "outputs": [],
   "source": [
    "tscv = TimeSeriesSplit(n_splits=3)"
   ]
  },
  {
   "cell_type": "code",
   "execution_count": 45,
   "metadata": {
    "collapsed": false
   },
   "outputs": [
    {
     "name": "stdout",
     "output_type": "stream",
     "text": [
      "R^2 score: 0.599194254493 +/- 0.0391107926198, Ridge\n",
      "R^2 score: 0.600680123856 +/- 0.0359644454468, Lasso\n",
      "R^2 score: 0.871885659945 +/- 0.0184804775029, Random Forest\n",
      "R^2 score: 0.871488238947 +/- 0.0193782342536, Ensemble\n"
     ]
    }
   ],
   "source": [
    "# for model, label in zip([ridge, lasso, rf, stack], ['Ridge', 'Lasso', 'Random Forest', 'Ensemble']):\n",
    "#     scores = cross_val_score(model, X_train_ts_np, y_train_ts_np, cv = tscv)\n",
    "#     print('R^2 score: {} +/- {}, {}'.format(scores.mean(), scores.std(), label))"
   ]
  },
  {
   "cell_type": "code",
   "execution_count": 40,
   "metadata": {
    "collapsed": false
   },
   "outputs": [
    {
     "data": {
      "text/plain": [
       "StackingCVRegressor(cv=5,\n",
       "          meta_regressor=Lasso(alpha=1.0, copy_X=True, fit_intercept=True, max_iter=5000,\n",
       "   normalize=False, positive=False, precompute=False, random_state=None,\n",
       "   selection='cyclic', tol=0.0001, warm_start=False),\n",
       "          regressors=(Ridge(alpha=10.0, copy_X=True, fit_intercept=True, max_iter=None,\n",
       "   normalize=False, random_state=None, solver='auto', tol=0.001), Lasso(alpha=1.0, copy_X=True, fit_intercept=True, max_iter=5000,\n",
       "   normalize=False, positive=False, precompute=False, random_state=None,\n",
       "   selection='cycl...timators=100, n_jobs=1, oob_score=False, random_state=None,\n",
       "           verbose=0, warm_start=False)),\n",
       "          shuffle=True, use_features_in_secondary=False)"
      ]
     },
     "execution_count": 40,
     "metadata": {},
     "output_type": "execute_result"
    }
   ],
   "source": [
    "# stack.fit(X_train_np, y_train_np)"
   ]
  },
  {
   "cell_type": "code",
   "execution_count": 41,
   "metadata": {
    "collapsed": false
   },
   "outputs": [
    {
     "data": {
      "text/plain": [
       "0.89114939457153686"
      ]
     },
     "execution_count": 41,
     "metadata": {},
     "output_type": "execute_result"
    }
   ],
   "source": [
    "# stack.score(X_test_np, y_test_np)"
   ]
  },
  {
   "cell_type": "code",
   "execution_count": 42,
   "metadata": {
    "collapsed": false
   },
   "outputs": [
    {
     "data": {
      "text/plain": [
       "0.89027359861169308"
      ]
     },
     "execution_count": 42,
     "metadata": {},
     "output_type": "execute_result"
    }
   ],
   "source": [
    "# rf = RandomForestRegressor(max_depth=10, max_features='auto', n_estimators=100)\n",
    "# rf.fit(X_train_np, y_train_np)\n",
    "# rf.score(X_test_np, y_test_np)"
   ]
  },
  {
   "cell_type": "code",
   "execution_count": 61,
   "metadata": {
    "collapsed": true
   },
   "outputs": [],
   "source": [
    "stack_param_grid = {\n",
    "                    'ridge__alpha' : [x/5.0 for x in range(1, 10)],\n",
    "                    'lasso__alpha' : [x/20.0 for x in range(1, 10)],\n",
    "                    'randomforestregressor__n_estimators' : [10, 25, 100],\n",
    "                    'randomforestregressor__max_depth' : [10, 25, 100, None],\n",
    "                    'meta-lasso__alpha' : [x/20.0 for x in range(1, 10)],\n",
    "                    'use_features_in_secondary' : [True, False]\n",
    "}"
   ]
  },
  {
   "cell_type": "code",
   "execution_count": 53,
   "metadata": {
    "collapsed": true
   },
   "outputs": [],
   "source": [
    "# stack_param_grid = {\n",
    "#                     'ridge__alpha' : [0.1, 10.0],\n",
    "#                     'lasso__alpha' : [0.1, 1.0],\n",
    "#                     'lasso__max_iter' : [5000],\n",
    "#                     'randomforestregressor__n_estimators' : [10, 100],\n",
    "#                     'randomforestregressor__max_depth' : [10, 25],\n",
    "#                     'meta-lasso__alpha' : [0.1, 1.0]\n",
    "# }"
   ]
  },
  {
   "cell_type": "code",
   "execution_count": 62,
   "metadata": {
    "collapsed": true
   },
   "outputs": [],
   "source": [
    "grid = GridSearchCV(estimator = stack, param_grid = stack_param_grid, cv = tscv, refit = True, verbose=2)"
   ]
  },
  {
   "cell_type": "code",
   "execution_count": 63,
   "metadata": {
    "collapsed": false
   },
   "outputs": [
    {
     "name": "stdout",
     "output_type": "stream",
     "text": [
      "Fitting 3 folds for each of 17496 candidates, totalling 52488 fits\n",
      "[CV] meta-lasso__alpha=0.05, lasso__alpha=0.05, use_features_in_secondary=True, ridge__alpha=0.2, randomforestregressor__max_depth=10, randomforestregressor__n_estimators=10 \n",
      "[CV]  meta-lasso__alpha=0.05, lasso__alpha=0.05, use_features_in_secondary=True, ridge__alpha=0.2, randomforestregressor__max_depth=10, randomforestregressor__n_estimators=10, total=   4.6s\n",
      "[CV] meta-lasso__alpha=0.05, lasso__alpha=0.05, use_features_in_secondary=True, ridge__alpha=0.2, randomforestregressor__max_depth=10, randomforestregressor__n_estimators=10 \n"
     ]
    },
    {
     "name": "stderr",
     "output_type": "stream",
     "text": [
      "[Parallel(n_jobs=1)]: Done   1 out of   1 | elapsed:    4.6s remaining:    0.0s\n"
     ]
    },
    {
     "ename": "KeyboardInterrupt",
     "evalue": "",
     "output_type": "error",
     "traceback": [
      "\u001b[0;31m---------------------------------------------------------------------------\u001b[0m",
      "\u001b[0;31mKeyboardInterrupt\u001b[0m                         Traceback (most recent call last)",
      "\u001b[0;32m<ipython-input-63-f5fa65b5d863>\u001b[0m in \u001b[0;36m<module>\u001b[0;34m()\u001b[0m\n\u001b[0;32m----> 1\u001b[0;31m \u001b[0mgrid\u001b[0m\u001b[0;34m.\u001b[0m\u001b[0mfit\u001b[0m\u001b[0;34m(\u001b[0m\u001b[0mX_train_ts_np\u001b[0m\u001b[0;34m,\u001b[0m \u001b[0my_train_ts_np\u001b[0m\u001b[0;34m)\u001b[0m\u001b[0;34m\u001b[0m\u001b[0m\n\u001b[0m",
      "\u001b[0;32m/Users/adamcoviensky/anaconda/lib/python2.7/site-packages/sklearn/model_selection/_search.pyc\u001b[0m in \u001b[0;36mfit\u001b[0;34m(self, X, y, groups)\u001b[0m\n\u001b[1;32m    943\u001b[0m             \u001b[0mtrain\u001b[0m\u001b[0;34m/\u001b[0m\u001b[0mtest\u001b[0m \u001b[0mset\u001b[0m\u001b[0;34m.\u001b[0m\u001b[0;34m\u001b[0m\u001b[0m\n\u001b[1;32m    944\u001b[0m         \"\"\"\n\u001b[0;32m--> 945\u001b[0;31m         \u001b[0;32mreturn\u001b[0m \u001b[0mself\u001b[0m\u001b[0;34m.\u001b[0m\u001b[0m_fit\u001b[0m\u001b[0;34m(\u001b[0m\u001b[0mX\u001b[0m\u001b[0;34m,\u001b[0m \u001b[0my\u001b[0m\u001b[0;34m,\u001b[0m \u001b[0mgroups\u001b[0m\u001b[0;34m,\u001b[0m \u001b[0mParameterGrid\u001b[0m\u001b[0;34m(\u001b[0m\u001b[0mself\u001b[0m\u001b[0;34m.\u001b[0m\u001b[0mparam_grid\u001b[0m\u001b[0;34m)\u001b[0m\u001b[0;34m)\u001b[0m\u001b[0;34m\u001b[0m\u001b[0m\n\u001b[0m\u001b[1;32m    946\u001b[0m \u001b[0;34m\u001b[0m\u001b[0m\n\u001b[1;32m    947\u001b[0m \u001b[0;34m\u001b[0m\u001b[0m\n",
      "\u001b[0;32m/Users/adamcoviensky/anaconda/lib/python2.7/site-packages/sklearn/model_selection/_search.pyc\u001b[0m in \u001b[0;36m_fit\u001b[0;34m(self, X, y, groups, parameter_iterable)\u001b[0m\n\u001b[1;32m    562\u001b[0m                                   \u001b[0mreturn_times\u001b[0m\u001b[0;34m=\u001b[0m\u001b[0mTrue\u001b[0m\u001b[0;34m,\u001b[0m \u001b[0mreturn_parameters\u001b[0m\u001b[0;34m=\u001b[0m\u001b[0mTrue\u001b[0m\u001b[0;34m,\u001b[0m\u001b[0;34m\u001b[0m\u001b[0m\n\u001b[1;32m    563\u001b[0m                                   error_score=self.error_score)\n\u001b[0;32m--> 564\u001b[0;31m           \u001b[0;32mfor\u001b[0m \u001b[0mparameters\u001b[0m \u001b[0;32min\u001b[0m \u001b[0mparameter_iterable\u001b[0m\u001b[0;34m\u001b[0m\u001b[0m\n\u001b[0m\u001b[1;32m    565\u001b[0m           for train, test in cv_iter)\n\u001b[1;32m    566\u001b[0m \u001b[0;34m\u001b[0m\u001b[0m\n",
      "\u001b[0;32m/Users/adamcoviensky/anaconda/lib/python2.7/site-packages/sklearn/externals/joblib/parallel.pyc\u001b[0m in \u001b[0;36m__call__\u001b[0;34m(self, iterable)\u001b[0m\n\u001b[1;32m    756\u001b[0m             \u001b[0;31m# was dispatched. In particular this covers the edge\u001b[0m\u001b[0;34m\u001b[0m\u001b[0;34m\u001b[0m\u001b[0m\n\u001b[1;32m    757\u001b[0m             \u001b[0;31m# case of Parallel used with an exhausted iterator.\u001b[0m\u001b[0;34m\u001b[0m\u001b[0;34m\u001b[0m\u001b[0m\n\u001b[0;32m--> 758\u001b[0;31m             \u001b[0;32mwhile\u001b[0m \u001b[0mself\u001b[0m\u001b[0;34m.\u001b[0m\u001b[0mdispatch_one_batch\u001b[0m\u001b[0;34m(\u001b[0m\u001b[0miterator\u001b[0m\u001b[0;34m)\u001b[0m\u001b[0;34m:\u001b[0m\u001b[0;34m\u001b[0m\u001b[0m\n\u001b[0m\u001b[1;32m    759\u001b[0m                 \u001b[0mself\u001b[0m\u001b[0;34m.\u001b[0m\u001b[0m_iterating\u001b[0m \u001b[0;34m=\u001b[0m \u001b[0mTrue\u001b[0m\u001b[0;34m\u001b[0m\u001b[0m\n\u001b[1;32m    760\u001b[0m             \u001b[0;32melse\u001b[0m\u001b[0;34m:\u001b[0m\u001b[0;34m\u001b[0m\u001b[0m\n",
      "\u001b[0;32m/Users/adamcoviensky/anaconda/lib/python2.7/site-packages/sklearn/externals/joblib/parallel.pyc\u001b[0m in \u001b[0;36mdispatch_one_batch\u001b[0;34m(self, iterator)\u001b[0m\n\u001b[1;32m    606\u001b[0m                 \u001b[0;32mreturn\u001b[0m \u001b[0mFalse\u001b[0m\u001b[0;34m\u001b[0m\u001b[0m\n\u001b[1;32m    607\u001b[0m             \u001b[0;32melse\u001b[0m\u001b[0;34m:\u001b[0m\u001b[0;34m\u001b[0m\u001b[0m\n\u001b[0;32m--> 608\u001b[0;31m                 \u001b[0mself\u001b[0m\u001b[0;34m.\u001b[0m\u001b[0m_dispatch\u001b[0m\u001b[0;34m(\u001b[0m\u001b[0mtasks\u001b[0m\u001b[0;34m)\u001b[0m\u001b[0;34m\u001b[0m\u001b[0m\n\u001b[0m\u001b[1;32m    609\u001b[0m                 \u001b[0;32mreturn\u001b[0m \u001b[0mTrue\u001b[0m\u001b[0;34m\u001b[0m\u001b[0m\n\u001b[1;32m    610\u001b[0m \u001b[0;34m\u001b[0m\u001b[0m\n",
      "\u001b[0;32m/Users/adamcoviensky/anaconda/lib/python2.7/site-packages/sklearn/externals/joblib/parallel.pyc\u001b[0m in \u001b[0;36m_dispatch\u001b[0;34m(self, batch)\u001b[0m\n\u001b[1;32m    569\u001b[0m         \u001b[0mdispatch_timestamp\u001b[0m \u001b[0;34m=\u001b[0m \u001b[0mtime\u001b[0m\u001b[0;34m.\u001b[0m\u001b[0mtime\u001b[0m\u001b[0;34m(\u001b[0m\u001b[0;34m)\u001b[0m\u001b[0;34m\u001b[0m\u001b[0m\n\u001b[1;32m    570\u001b[0m         \u001b[0mcb\u001b[0m \u001b[0;34m=\u001b[0m \u001b[0mBatchCompletionCallBack\u001b[0m\u001b[0;34m(\u001b[0m\u001b[0mdispatch_timestamp\u001b[0m\u001b[0;34m,\u001b[0m \u001b[0mlen\u001b[0m\u001b[0;34m(\u001b[0m\u001b[0mbatch\u001b[0m\u001b[0;34m)\u001b[0m\u001b[0;34m,\u001b[0m \u001b[0mself\u001b[0m\u001b[0;34m)\u001b[0m\u001b[0;34m\u001b[0m\u001b[0m\n\u001b[0;32m--> 571\u001b[0;31m         \u001b[0mjob\u001b[0m \u001b[0;34m=\u001b[0m \u001b[0mself\u001b[0m\u001b[0;34m.\u001b[0m\u001b[0m_backend\u001b[0m\u001b[0;34m.\u001b[0m\u001b[0mapply_async\u001b[0m\u001b[0;34m(\u001b[0m\u001b[0mbatch\u001b[0m\u001b[0;34m,\u001b[0m \u001b[0mcallback\u001b[0m\u001b[0;34m=\u001b[0m\u001b[0mcb\u001b[0m\u001b[0;34m)\u001b[0m\u001b[0;34m\u001b[0m\u001b[0m\n\u001b[0m\u001b[1;32m    572\u001b[0m         \u001b[0mself\u001b[0m\u001b[0;34m.\u001b[0m\u001b[0m_jobs\u001b[0m\u001b[0;34m.\u001b[0m\u001b[0mappend\u001b[0m\u001b[0;34m(\u001b[0m\u001b[0mjob\u001b[0m\u001b[0;34m)\u001b[0m\u001b[0;34m\u001b[0m\u001b[0m\n\u001b[1;32m    573\u001b[0m \u001b[0;34m\u001b[0m\u001b[0m\n",
      "\u001b[0;32m/Users/adamcoviensky/anaconda/lib/python2.7/site-packages/sklearn/externals/joblib/_parallel_backends.pyc\u001b[0m in \u001b[0;36mapply_async\u001b[0;34m(self, func, callback)\u001b[0m\n\u001b[1;32m    107\u001b[0m     \u001b[0;32mdef\u001b[0m \u001b[0mapply_async\u001b[0m\u001b[0;34m(\u001b[0m\u001b[0mself\u001b[0m\u001b[0;34m,\u001b[0m \u001b[0mfunc\u001b[0m\u001b[0;34m,\u001b[0m \u001b[0mcallback\u001b[0m\u001b[0;34m=\u001b[0m\u001b[0mNone\u001b[0m\u001b[0;34m)\u001b[0m\u001b[0;34m:\u001b[0m\u001b[0;34m\u001b[0m\u001b[0m\n\u001b[1;32m    108\u001b[0m         \u001b[0;34m\"\"\"Schedule a func to be run\"\"\"\u001b[0m\u001b[0;34m\u001b[0m\u001b[0m\n\u001b[0;32m--> 109\u001b[0;31m         \u001b[0mresult\u001b[0m \u001b[0;34m=\u001b[0m \u001b[0mImmediateResult\u001b[0m\u001b[0;34m(\u001b[0m\u001b[0mfunc\u001b[0m\u001b[0;34m)\u001b[0m\u001b[0;34m\u001b[0m\u001b[0m\n\u001b[0m\u001b[1;32m    110\u001b[0m         \u001b[0;32mif\u001b[0m \u001b[0mcallback\u001b[0m\u001b[0;34m:\u001b[0m\u001b[0;34m\u001b[0m\u001b[0m\n\u001b[1;32m    111\u001b[0m             \u001b[0mcallback\u001b[0m\u001b[0;34m(\u001b[0m\u001b[0mresult\u001b[0m\u001b[0;34m)\u001b[0m\u001b[0;34m\u001b[0m\u001b[0m\n",
      "\u001b[0;32m/Users/adamcoviensky/anaconda/lib/python2.7/site-packages/sklearn/externals/joblib/_parallel_backends.pyc\u001b[0m in \u001b[0;36m__init__\u001b[0;34m(self, batch)\u001b[0m\n\u001b[1;32m    324\u001b[0m         \u001b[0;31m# Don't delay the application, to avoid keeping the input\u001b[0m\u001b[0;34m\u001b[0m\u001b[0;34m\u001b[0m\u001b[0m\n\u001b[1;32m    325\u001b[0m         \u001b[0;31m# arguments in memory\u001b[0m\u001b[0;34m\u001b[0m\u001b[0;34m\u001b[0m\u001b[0m\n\u001b[0;32m--> 326\u001b[0;31m         \u001b[0mself\u001b[0m\u001b[0;34m.\u001b[0m\u001b[0mresults\u001b[0m \u001b[0;34m=\u001b[0m \u001b[0mbatch\u001b[0m\u001b[0;34m(\u001b[0m\u001b[0;34m)\u001b[0m\u001b[0;34m\u001b[0m\u001b[0m\n\u001b[0m\u001b[1;32m    327\u001b[0m \u001b[0;34m\u001b[0m\u001b[0m\n\u001b[1;32m    328\u001b[0m     \u001b[0;32mdef\u001b[0m \u001b[0mget\u001b[0m\u001b[0;34m(\u001b[0m\u001b[0mself\u001b[0m\u001b[0;34m)\u001b[0m\u001b[0;34m:\u001b[0m\u001b[0;34m\u001b[0m\u001b[0m\n",
      "\u001b[0;32m/Users/adamcoviensky/anaconda/lib/python2.7/site-packages/sklearn/externals/joblib/parallel.pyc\u001b[0m in \u001b[0;36m__call__\u001b[0;34m(self)\u001b[0m\n\u001b[1;32m    129\u001b[0m \u001b[0;34m\u001b[0m\u001b[0m\n\u001b[1;32m    130\u001b[0m     \u001b[0;32mdef\u001b[0m \u001b[0m__call__\u001b[0m\u001b[0;34m(\u001b[0m\u001b[0mself\u001b[0m\u001b[0;34m)\u001b[0m\u001b[0;34m:\u001b[0m\u001b[0;34m\u001b[0m\u001b[0m\n\u001b[0;32m--> 131\u001b[0;31m         \u001b[0;32mreturn\u001b[0m \u001b[0;34m[\u001b[0m\u001b[0mfunc\u001b[0m\u001b[0;34m(\u001b[0m\u001b[0;34m*\u001b[0m\u001b[0margs\u001b[0m\u001b[0;34m,\u001b[0m \u001b[0;34m**\u001b[0m\u001b[0mkwargs\u001b[0m\u001b[0;34m)\u001b[0m \u001b[0;32mfor\u001b[0m \u001b[0mfunc\u001b[0m\u001b[0;34m,\u001b[0m \u001b[0margs\u001b[0m\u001b[0;34m,\u001b[0m \u001b[0mkwargs\u001b[0m \u001b[0;32min\u001b[0m \u001b[0mself\u001b[0m\u001b[0;34m.\u001b[0m\u001b[0mitems\u001b[0m\u001b[0;34m]\u001b[0m\u001b[0;34m\u001b[0m\u001b[0m\n\u001b[0m\u001b[1;32m    132\u001b[0m \u001b[0;34m\u001b[0m\u001b[0m\n\u001b[1;32m    133\u001b[0m     \u001b[0;32mdef\u001b[0m \u001b[0m__len__\u001b[0m\u001b[0;34m(\u001b[0m\u001b[0mself\u001b[0m\u001b[0;34m)\u001b[0m\u001b[0;34m:\u001b[0m\u001b[0;34m\u001b[0m\u001b[0m\n",
      "\u001b[0;32m/Users/adamcoviensky/anaconda/lib/python2.7/site-packages/sklearn/model_selection/_validation.pyc\u001b[0m in \u001b[0;36m_fit_and_score\u001b[0;34m(estimator, X, y, scorer, train, test, verbose, parameters, fit_params, return_train_score, return_parameters, return_n_test_samples, return_times, error_score)\u001b[0m\n\u001b[1;32m    236\u001b[0m             \u001b[0mestimator\u001b[0m\u001b[0;34m.\u001b[0m\u001b[0mfit\u001b[0m\u001b[0;34m(\u001b[0m\u001b[0mX_train\u001b[0m\u001b[0;34m,\u001b[0m \u001b[0;34m**\u001b[0m\u001b[0mfit_params\u001b[0m\u001b[0;34m)\u001b[0m\u001b[0;34m\u001b[0m\u001b[0m\n\u001b[1;32m    237\u001b[0m         \u001b[0;32melse\u001b[0m\u001b[0;34m:\u001b[0m\u001b[0;34m\u001b[0m\u001b[0m\n\u001b[0;32m--> 238\u001b[0;31m             \u001b[0mestimator\u001b[0m\u001b[0;34m.\u001b[0m\u001b[0mfit\u001b[0m\u001b[0;34m(\u001b[0m\u001b[0mX_train\u001b[0m\u001b[0;34m,\u001b[0m \u001b[0my_train\u001b[0m\u001b[0;34m,\u001b[0m \u001b[0;34m**\u001b[0m\u001b[0mfit_params\u001b[0m\u001b[0;34m)\u001b[0m\u001b[0;34m\u001b[0m\u001b[0m\n\u001b[0m\u001b[1;32m    239\u001b[0m \u001b[0;34m\u001b[0m\u001b[0m\n\u001b[1;32m    240\u001b[0m     \u001b[0;32mexcept\u001b[0m \u001b[0mException\u001b[0m \u001b[0;32mas\u001b[0m \u001b[0me\u001b[0m\u001b[0;34m:\u001b[0m\u001b[0;34m\u001b[0m\u001b[0m\n",
      "\u001b[0;32m/Users/adamcoviensky/anaconda/lib/python2.7/site-packages/mlxtend/regressor/stacking_cv_regression.pyc\u001b[0m in \u001b[0;36mfit\u001b[0;34m(self, X, y, groups)\u001b[0m\n\u001b[1;32m    134\u001b[0m             \u001b[0;32mfor\u001b[0m \u001b[0mtrain_idx\u001b[0m\u001b[0;34m,\u001b[0m \u001b[0mholdout_idx\u001b[0m \u001b[0;32min\u001b[0m \u001b[0mkfold\u001b[0m\u001b[0;34m.\u001b[0m\u001b[0msplit\u001b[0m\u001b[0;34m(\u001b[0m\u001b[0mX\u001b[0m\u001b[0;34m,\u001b[0m \u001b[0my\u001b[0m\u001b[0;34m,\u001b[0m \u001b[0mgroups\u001b[0m\u001b[0;34m)\u001b[0m\u001b[0;34m:\u001b[0m\u001b[0;34m\u001b[0m\u001b[0m\n\u001b[1;32m    135\u001b[0m                 \u001b[0minstance\u001b[0m \u001b[0;34m=\u001b[0m \u001b[0mclone\u001b[0m\u001b[0;34m(\u001b[0m\u001b[0mregr\u001b[0m\u001b[0;34m)\u001b[0m\u001b[0;34m\u001b[0m\u001b[0m\n\u001b[0;32m--> 136\u001b[0;31m                 \u001b[0minstance\u001b[0m\u001b[0;34m.\u001b[0m\u001b[0mfit\u001b[0m\u001b[0;34m(\u001b[0m\u001b[0mX\u001b[0m\u001b[0;34m[\u001b[0m\u001b[0mtrain_idx\u001b[0m\u001b[0;34m]\u001b[0m\u001b[0;34m,\u001b[0m \u001b[0my\u001b[0m\u001b[0;34m[\u001b[0m\u001b[0mtrain_idx\u001b[0m\u001b[0;34m]\u001b[0m\u001b[0;34m)\u001b[0m\u001b[0;34m\u001b[0m\u001b[0m\n\u001b[0m\u001b[1;32m    137\u001b[0m                 \u001b[0my_pred\u001b[0m \u001b[0;34m=\u001b[0m \u001b[0minstance\u001b[0m\u001b[0;34m.\u001b[0m\u001b[0mpredict\u001b[0m\u001b[0;34m(\u001b[0m\u001b[0mX\u001b[0m\u001b[0;34m[\u001b[0m\u001b[0mholdout_idx\u001b[0m\u001b[0;34m]\u001b[0m\u001b[0;34m)\u001b[0m\u001b[0;34m\u001b[0m\u001b[0m\n\u001b[1;32m    138\u001b[0m                 \u001b[0mmeta_features\u001b[0m\u001b[0;34m[\u001b[0m\u001b[0mholdout_idx\u001b[0m\u001b[0;34m,\u001b[0m \u001b[0mi\u001b[0m\u001b[0;34m]\u001b[0m \u001b[0;34m=\u001b[0m \u001b[0my_pred\u001b[0m\u001b[0;34m\u001b[0m\u001b[0m\n",
      "\u001b[0;32m/Users/adamcoviensky/anaconda/lib/python2.7/site-packages/sklearn/linear_model/coordinate_descent.pyc\u001b[0m in \u001b[0;36mfit\u001b[0;34m(self, X, y, check_input)\u001b[0m\n\u001b[1;32m    725\u001b[0m                           \u001b[0mrandom_state\u001b[0m\u001b[0;34m=\u001b[0m\u001b[0mself\u001b[0m\u001b[0;34m.\u001b[0m\u001b[0mrandom_state\u001b[0m\u001b[0;34m,\u001b[0m\u001b[0;34m\u001b[0m\u001b[0m\n\u001b[1;32m    726\u001b[0m                           \u001b[0mselection\u001b[0m\u001b[0;34m=\u001b[0m\u001b[0mself\u001b[0m\u001b[0;34m.\u001b[0m\u001b[0mselection\u001b[0m\u001b[0;34m,\u001b[0m\u001b[0;34m\u001b[0m\u001b[0m\n\u001b[0;32m--> 727\u001b[0;31m                           check_input=False)\n\u001b[0m\u001b[1;32m    728\u001b[0m             \u001b[0mcoef_\u001b[0m\u001b[0;34m[\u001b[0m\u001b[0mk\u001b[0m\u001b[0;34m]\u001b[0m \u001b[0;34m=\u001b[0m \u001b[0mthis_coef\u001b[0m\u001b[0;34m[\u001b[0m\u001b[0;34m:\u001b[0m\u001b[0;34m,\u001b[0m \u001b[0;36m0\u001b[0m\u001b[0;34m]\u001b[0m\u001b[0;34m\u001b[0m\u001b[0m\n\u001b[1;32m    729\u001b[0m             \u001b[0mdual_gaps_\u001b[0m\u001b[0;34m[\u001b[0m\u001b[0mk\u001b[0m\u001b[0;34m]\u001b[0m \u001b[0;34m=\u001b[0m \u001b[0mthis_dual_gap\u001b[0m\u001b[0;34m[\u001b[0m\u001b[0;36m0\u001b[0m\u001b[0;34m]\u001b[0m\u001b[0;34m\u001b[0m\u001b[0m\n",
      "\u001b[0;32m/Users/adamcoviensky/anaconda/lib/python2.7/site-packages/sklearn/linear_model/coordinate_descent.pyc\u001b[0m in \u001b[0;36menet_path\u001b[0;34m(X, y, l1_ratio, eps, n_alphas, alphas, precompute, Xy, copy_X, coef_init, verbose, return_n_iter, positive, check_input, **params)\u001b[0m\n\u001b[1;32m    468\u001b[0m             model = cd_fast.enet_coordinate_descent(\n\u001b[1;32m    469\u001b[0m                 \u001b[0mcoef_\u001b[0m\u001b[0;34m,\u001b[0m \u001b[0ml1_reg\u001b[0m\u001b[0;34m,\u001b[0m \u001b[0ml2_reg\u001b[0m\u001b[0;34m,\u001b[0m \u001b[0mX\u001b[0m\u001b[0;34m,\u001b[0m \u001b[0my\u001b[0m\u001b[0;34m,\u001b[0m \u001b[0mmax_iter\u001b[0m\u001b[0;34m,\u001b[0m \u001b[0mtol\u001b[0m\u001b[0;34m,\u001b[0m \u001b[0mrng\u001b[0m\u001b[0;34m,\u001b[0m \u001b[0mrandom\u001b[0m\u001b[0;34m,\u001b[0m\u001b[0;34m\u001b[0m\u001b[0m\n\u001b[0;32m--> 470\u001b[0;31m                 positive)\n\u001b[0m\u001b[1;32m    471\u001b[0m         \u001b[0;32melse\u001b[0m\u001b[0;34m:\u001b[0m\u001b[0;34m\u001b[0m\u001b[0m\n\u001b[1;32m    472\u001b[0m             raise ValueError(\"Precompute should be one of True, False, \"\n",
      "\u001b[0;31mKeyboardInterrupt\u001b[0m: "
     ]
    }
   ],
   "source": [
    "grid.fit(X_train_ts_np, y_train_ts_np)"
   ]
  },
  {
   "cell_type": "code",
   "execution_count": 58,
   "metadata": {
    "collapsed": false
   },
   "outputs": [
    {
     "data": {
      "text/plain": [
       "0.84100090132213112"
      ]
     },
     "execution_count": 58,
     "metadata": {},
     "output_type": "execute_result"
    }
   ],
   "source": [
    "grid.score(X_test_ts_np, y_test_ts_np)"
   ]
  },
  {
   "cell_type": "code",
   "execution_count": 59,
   "metadata": {
    "collapsed": false
   },
   "outputs": [
    {
     "data": {
      "text/plain": [
       "{'lasso__alpha': 1.0,\n",
       " 'lasso__max_iter': 5000,\n",
       " 'meta-lasso__alpha': 0.1,\n",
       " 'randomforestregressor__max_depth': 10,\n",
       " 'randomforestregressor__n_estimators': 100,\n",
       " 'ridge__alpha': 10.0}"
      ]
     },
     "execution_count": 59,
     "metadata": {},
     "output_type": "execute_result"
    }
   ],
   "source": [
    "grid.best_params_\n",
    "# lasso__alpha = 1.0\n",
    "# meta-lasso__alpha = 0.1\n",
    "# randomforestregressor__max_depth = 10\n",
    "# randomforestregressor__n_estimators = 100\n",
    "# ridge__alpha = 10.0"
   ]
  },
  {
   "cell_type": "code",
   "execution_count": null,
   "metadata": {
    "collapsed": true
   },
   "outputs": [],
   "source": []
  }
 ],
 "metadata": {
  "anaconda-cloud": {},
  "kernelspec": {
   "display_name": "Python [Root]",
   "language": "python",
   "name": "Python [Root]"
  },
  "language_info": {
   "codemirror_mode": {
    "name": "ipython",
    "version": 2
   },
   "file_extension": ".py",
   "mimetype": "text/x-python",
   "name": "python",
   "nbconvert_exporter": "python",
   "pygments_lexer": "ipython2",
   "version": "2.7.12"
  }
 },
 "nbformat": 4,
 "nbformat_minor": 2
}
