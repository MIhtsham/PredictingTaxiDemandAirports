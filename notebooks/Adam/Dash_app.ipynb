{
 "cells": [
  {
   "cell_type": "code",
   "execution_count": 1,
   "metadata": {
    "collapsed": false
   },
   "outputs": [],
   "source": [
    "import dash\n",
    "import dash_html_components as html\n",
    "import dash_core_components as dcc\n",
    "from datetime import datetime as dt\n",
    "import pandas as pd\n",
    "import numpy as np\n",
    "from pandas.tseries.holiday import USFederalHolidayCalendar as calendar\n",
    "from sklearn.externals import joblib\n",
    "%matplotlib inline"
   ]
  },
  {
   "cell_type": "code",
   "execution_count": 2,
   "metadata": {
    "collapsed": true
   },
   "outputs": [],
   "source": [
    "df = pd.read_csv('../../clean_data/FinalData_for_Models.csv')"
   ]
  },
  {
   "cell_type": "code",
   "execution_count": 3,
   "metadata": {
    "collapsed": false
   },
   "outputs": [],
   "source": [
    "loaded_model = joblib.load(\"../Pickle/model_stack_noxgb.pkl\")"
   ]
  },
  {
   "cell_type": "code",
   "execution_count": 4,
   "metadata": {
    "collapsed": true
   },
   "outputs": [],
   "source": [
    "from IPython import display\n",
    "def show_app(app,  # type: dash.Dash\n",
    "             port=9999,\n",
    "             width=700,\n",
    "             height=350,\n",
    "             offline=True,\n",
    "             style=True,\n",
    "             **dash_flask_kwargs):\n",
    "    \"\"\"\n",
    "    Run the application inside a Jupyter notebook and show an iframe with it\n",
    "    :param app:\n",
    "    :param port:\n",
    "    :param width:\n",
    "    :param height:\n",
    "    :param offline:\n",
    "    :return:\n",
    "    \"\"\"\n",
    "    url = 'http://localhost:%d' % port\n",
    "    iframe = '<iframe src=\"{url}\" width={width} height={height}></iframe>'.format(url=url,\n",
    "                                                                                  width=width,\n",
    "                                                                                  height=height)\n",
    "    display.display_html(iframe, raw=True)\n",
    "    if offline:\n",
    "        app.css.config.serve_locally = True\n",
    "        app.scripts.config.serve_locally = True\n",
    "    if style:\n",
    "        external_css = [\"https://fonts.googleapis.com/css?family=Raleway:400,300,600\",\n",
    "                        \"https://maxcdn.bootstrapcdn.com/font-awesome/4.7.0/css/font-awesome.min.css\",\n",
    "                        \"http://getbootstrap.com/dist/css/bootstrap.min.css\", ]\n",
    "\n",
    "        for css in external_css:\n",
    "            app.css.append_css({\"external_url\": css})\n",
    "\n",
    "        external_js = [\"https://code.jquery.com/jquery-3.2.1.min.js\",\n",
    "                       \"https://cdn.rawgit.com/plotly/dash-app-stylesheets/a3401de132a6d0b652ba11548736b1d1e80aa10d/dash-goldman-sachs-report-js.js\",\n",
    "                       \"http://getbootstrap.com/dist/js/bootstrap.min.js\"]\n",
    "\n",
    "        for js in external_js:\n",
    "            app.scripts.append_script({\"external_url\": js})\n",
    "\n",
    "    return app.run_server(debug=False,  # needs to be false in Jupyter\n",
    "                          port=port,\n",
    "                          **dash_flask_kwargs)"
   ]
  },
  {
   "cell_type": "code",
   "execution_count": 3,
   "metadata": {
    "collapsed": false
   },
   "outputs": [],
   "source": [
    "app = dash.Dash()\n",
    "\n",
    "app.layout = html.Div([\n",
    "    html.Label('Dropdown'),\n",
    "    dcc.Dropdown(\n",
    "        options=[\n",
    "            {'label': 'New York City', 'value': 'NYC'},\n",
    "            {'label': u'Montréal', 'value': 'MTL'},\n",
    "            {'label': 'San Francisco', 'value': 'SF'}\n",
    "        ],\n",
    "        value='MTL'\n",
    "    ),\n",
    "\n",
    "    html.Label('Multi-Select Dropdown'),\n",
    "    dcc.Dropdown(\n",
    "        options=[\n",
    "            {'label': 'New York City', 'value': 'NYC'},\n",
    "            {'label': u'Montréal', 'value': 'MTL'},\n",
    "            {'label': 'San Francisco', 'value': 'SF'}\n",
    "        ],\n",
    "        value=['MTL', 'SF'],\n",
    "        multi=True\n",
    "    ),\n",
    "\n",
    "    html.Label('Radio Items'),\n",
    "    dcc.RadioItems(\n",
    "        options=[\n",
    "            {'label': 'New York City', 'value': 'NYC'},\n",
    "            {'label': u'Montréal', 'value': 'MTL'},\n",
    "            {'label': 'San Francisco', 'value': 'SF'}\n",
    "        ],\n",
    "        value='MTL'\n",
    "    ),\n",
    "\n",
    "    html.Label('Checkboxes'),\n",
    "    dcc.Checklist(\n",
    "        options=[\n",
    "            {'label': 'New York City', 'value': 'NYC'},\n",
    "            {'label': u'Montréal', 'value': 'MTL'},\n",
    "            {'label': 'San Francisco', 'value': 'SF'}\n",
    "        ],\n",
    "        values=['MTL', 'SF']\n",
    "    ),\n",
    "\n",
    "    html.Label('Text Input'),\n",
    "    dcc.Input(value='MTL', type='text'),\n",
    "\n",
    "    html.Label('Slider'),\n",
    "    dcc.Slider(\n",
    "        min=0,\n",
    "        max=9,\n",
    "        marks={i: 'Label {}'.format(i) if i == 1 else str(i) for i in range(1, 6)},\n",
    "        value=5,\n",
    "    ),\n",
    "], style={'columnCount': 2})\n"
   ]
  },
  {
   "cell_type": "code",
   "execution_count": 17,
   "metadata": {
    "collapsed": false
   },
   "outputs": [],
   "source": [
    "app = dash.Dash()\n",
    "\n",
    "app.layout = html.Div([\n",
    "        \n",
    "        \n",
    "    html.Label('Date'),\n",
    "    dcc.DatePickerSingle(\n",
    "        id='my-date-picker-single',\n",
    "        min_date_allowed=dt(2014, 1, 1),\n",
    "        max_date_allowed=dt(2020, 12, 31),\n",
    "        initial_visible_month=dt(2017, 12, 11),\n",
    "        date=dt(2017, 12, 11)\n",
    "    ),\n",
    "    html.Div(id='output-container-date-picker-single'),    \n",
    "        \n",
    "    \n",
    "    html.Label('Precipitation'),\n",
    "    dcc.Dropdown(\n",
    "        id='precipitation',\n",
    "        options=[\n",
    "            {'label': 'None', 'value': 0},\n",
    "            {'label': 'Light', 'value': 0.04},\n",
    "            {'label': 'Medium', 'value': 0.13},\n",
    "            {'label': 'Heavy', 'value': 0.35}\n",
    "        ],\n",
    "        value=0\n",
    "    ),\n",
    "\n",
    "    html.Label('Weather Description'),\n",
    "    dcc.Dropdown(\n",
    "        id='weather',\n",
    "        options=[\n",
    "            {'label': 'Clear', 'value': 'clear'},\n",
    "            {'label': 'Clouds', 'value': 'clouds'},\n",
    "            {'label': 'Fog', 'value': 'fog'},\n",
    "            {'label': 'Rain', 'value': 'rain'},\n",
    "            {'label': 'Snow', 'value': 'snow'},\n",
    "            {'label': 'Thunderstorm', 'value': 'thunderstorm'},\n",
    "        ],\n",
    "        value=['clear'],\n",
    "        multi=True\n",
    "    ),\n",
    "\n",
    "#     html.Label('Radio Items'),\n",
    "#     dcc.RadioItems(\n",
    "#         options=[\n",
    "#             {'label': 'New York City', 'value': 'NYC'},\n",
    "#             {'label': u'Montréal', 'value': 'MTL'},\n",
    "#             {'label': 'San Francisco', 'value': 'SF'}\n",
    "#         ],\n",
    "#         value='MTL'\n",
    "#     ),\n",
    "\n",
    "#     html.Label('Checkboxes'),\n",
    "#     dcc.Checklist(\n",
    "#         options=[\n",
    "#             {'label': 'New York City', 'value': 'NYC'},\n",
    "#             {'label': u'Montréal', 'value': 'MTL'},\n",
    "#             {'label': 'San Francisco', 'value': 'SF'}\n",
    "#         ],\n",
    "#         values=['MTL', 'SF']\n",
    "#     ),\n",
    "\n",
    "    html.Label('Temperature (deg F)'),\n",
    "    dcc.Input(id='temp', value=70, type='int'),\n",
    "\n",
    "    html.Label('Hour of Day'),\n",
    "    dcc.Slider(\n",
    "        id='hour',\n",
    "        min=0,\n",
    "        max=23,\n",
    "        marks={i: 'Hour {}'.format(i) if i == 1 else str(i) for i in range(0, 24)},\n",
    "        value=10\n",
    "        \n",
    "        ),\n",
    "            \n",
    "        \n",
    "    html.Div(id='Prediction'),\n",
    "        \n",
    "    dcc.Graph(id='graph_results')\n",
    "\n",
    "\n",
    "        \n",
    "])\n",
    "\n",
    "\n",
    "@app.callback(\n",
    "    dash.dependencies.Output('Prediction', 'children'),\n",
    "    [dash.dependencies.Input('my-date-picker-single', 'date'),\n",
    "     dash.dependencies.Input('precipitation', 'value'),\n",
    "     dash.dependencies.Input('weather', 'value'),\n",
    "     dash.dependencies.Input('temp', 'value'),\n",
    "     dash.dependencies.Input('hour', 'value')])\n",
    "\n",
    "def update_prediction(date, precipitation, weather, temp, hour):\n",
    "\n",
    "    new_date = pd.to_datetime(date, format='%Y-%m-%d')\n",
    "    month = new_date.month\n",
    "    #array\n",
    "    months = month_format(month)\n",
    "    \n",
    "    day = new_date.dayofweek\n",
    "    #array\n",
    "    days = day_format(day)\n",
    "    \n",
    "    #array\n",
    "    weather_dummies = weather_format(weather)\n",
    "    \n",
    "    #Converting Fahrenheit to Python\n",
    "    if temp == '':\n",
    "        temp = 0.0\n",
    "    \n",
    "    temp_K = np.array([(float(temp) + 459.67)*(5.0/9.0)])\n",
    "    \n",
    "    #array\n",
    "    hours = hour_format(hour)\n",
    "    \n",
    "    hol = is_holiday(date)\n",
    "    \n",
    "    #Getting average humidity at give month, day, hour\n",
    "    humidity = np.array([df.loc[(df.Month == month) & (df.Day == day) & (df.Hour == hour), 'humidity'].mean()])\n",
    "    wind_speed = np.array([df.loc[(df.Month == month) & (df.Day == day) & (df.Hour == hour), 'wind_speed'].mean()])\n",
    "    \n",
    "    #Getting average passengers and delays at given day, hour, holiday\n",
    "    flight_info = df.loc[(df.Hour == hour) & (df.Day == day) & (df.holiday == hol), ['Passengers', 'Avg_Delay_Arriving', 'Cancelled_Departing_Flights']].mean()\n",
    "    passengers, delays, cancellations = flight_info.values\n",
    "    \n",
    "    #Taking edge cases in case day = 0 or hour = 0 when solving prev hour info\n",
    "    last_day = day\n",
    "    last_2day = day\n",
    "    \n",
    "    last_hour = hour - 1\n",
    "    last_2hour = hour - 2\n",
    "    \n",
    "    if hour == 0:\n",
    "        last_hour = 23\n",
    "        last_2hour = 22\n",
    "        if day == 0:\n",
    "            last_day = 6\n",
    "            last_2day = 6\n",
    "        else:\n",
    "            last_day = day-1\n",
    "            last_2day = day-1\n",
    "    \n",
    "    if hour == 1:\n",
    "        last_2hour = 23\n",
    "        if day == 0:\n",
    "            last_2day = 6\n",
    "        else:\n",
    "            last_2day = day-1\n",
    "        \n",
    "    \n",
    "    #Getting previous hours passenger info at given day, hour, holiday\n",
    "    prev_hour_pass = np.array([df.loc[(df.Hour == last_hour) & (df.Day == last_day) & (df.holiday == hol), 'Passengers'].mean()])\n",
    "    prev_2hour_pass = np.array([df.loc[(df.Hour == last_2hour) & (df.Day == last_2day) & (df.holiday == hol), 'Passengers'].mean()])\n",
    "    \n",
    "    \n",
    "    hol_array = np.array([int(hol)])\n",
    "    \n",
    "    precipitation = np.array([precipitation])\n",
    "    \n",
    "    #Putting it in the right order\n",
    "    feature_vect = np.concatenate((temp_K, humidity, wind_speed, np.array([passengers]), hol_array, precipitation, \n",
    "                                  np.array([delays]), np.array([cancellations]), weather_dummies, prev_hour_pass, \n",
    "                                  prev_2hour_pass, months, hours, days))\n",
    "    #reshaping to be 2D\n",
    "    feature_vect = feature_vect.reshape(1, len(feature_vect))\n",
    "\n",
    "    return 'We estimate that {} taxis are needed at the airport under these conditions'.format(int(loaded_model.predict(feature_vect)))\n",
    "\n",
    "\n",
    "\n",
    "\n",
    "@app.callback(\n",
    "    dash.dependencies.Output('graph_results', 'figure'),\n",
    "    [dash.dependencies.Input('my-date-picker-single', 'date'),\n",
    "     dash.dependencies.Input('hour', 'value')])\n",
    "def update_graph(date, hour):\n",
    "    \n",
    "    new_date = pd.to_datetime(date, format='%Y-%m-%d')\n",
    "    month = new_date.month\n",
    "    day = new_date.dayofweek\n",
    "    \n",
    "    actual = df.loc[(df.Month == month) & (df.Day == day) & (df.Hour == hour), ['Unnamed: 0', 'num_pickups']]    \n",
    "    actual.iloc[:,0] = pd.to_datetime(actual.iloc[:,0]).apply(lambda x: x.date())    \n",
    "    \n",
    "    return  {'data': [\n",
    "                {'x': str(actual.iloc[:,0]), 'y': actual['num_pickups'], 'type': 'bar', 'name': 'actual'}]}\n",
    "    "
   ]
  },
  {
   "cell_type": "code",
   "execution_count": 15,
   "metadata": {
    "collapsed": false
   },
   "outputs": [],
   "source": [
    "app = dash.Dash()\n",
    "\n",
    "app.layout = html.Div([html.Div([\n",
    "        \n",
    "     # html.Img(src=\"https://cdn.newsday.com/polopoly_fs/1.12036027.1468362303!/httpImage/image.jpeg_gen/derivatives/landscape_1280/image.jpeg\",\n",
    "     #            style={\n",
    "     #                'height': '100px',\n",
    "     #                'float': 'right',\n",
    "     #                'position': 'relative',\n",
    "     #                'bottom': '40px',\n",
    "     #                'left': '100px'\n",
    "     #            },\n",
    "     #            ),\n",
    "    \n",
    "\n",
    "    html.H1('Estimating Taxi Demand at LaGaurdia Aiport'\n",
    "        ,style={\n",
    "                    # 'position': 'relative',\n",
    "                    # 'align' : 'center',\n",
    "                    # 'top': '0px',\n",
    "                    # 'left': '10px',\n",
    "                    'font-family': 'Dosis',\n",
    "                    # 'display': 'inline',\n",
    "                    'font-size': '3.0rem',\n",
    "                    'color': '#8A2BE2',\n",
    "                    'margin': 'auto',\n",
    "                    'margin-left':'40px'\n",
    "                }\n",
    "                )]),\n",
    "\n",
    "\n",
    "    html.Div([html.Div([html.Label('Date', style={'position': 'relative',\n",
    "                    # 'align' : 'center',\n",
    "                    'top': '5px',\n",
    "                    # 'left': '10px',\n",
    "                    'font-family': 'Dosis',\n",
    "                    'display': 'inline',\n",
    "                    'font-size': '1.5rem',\n",
    "                    'color': '#000000',\n",
    "                    'margin': 'auto'\n",
    "                    })]),\n",
    "    dcc.DatePickerSingle(\n",
    "        id='my-date-picker-single',\n",
    "        min_date_allowed=dt(2014, 1, 1),\n",
    "        max_date_allowed=dt(2020, 12, 31),\n",
    "        initial_visible_month=dt(2017, 12, 11),\n",
    "        date=dt(2017, 12, 11)\n",
    "    ),\n",
    "    html.Div(id='my-date-picker-single', style={'position': 'relative',\n",
    "                    # 'align' : 'center',\n",
    "                    # 'top': '5px',\n",
    "                    # # 'left': '10px',\n",
    "                    # 'font-family': 'Dosis',\n",
    "                    # # 'display': 'inline',\n",
    "                    # 'font-size': '1.5rem',\n",
    "                    # 'color': '#000000',\n",
    "                    # 'margin': 'auto',\n",
    "                    'margin-left': '100px', 'size':'20px', 'margin-bottom':'20px'}),\n",
    "                     \n",
    "    html.Label('Hour of Day', style={'position': 'relative',\n",
    "                    # 'align' : 'center',\n",
    "                    'top': '5px',\n",
    "                    # 'left': '10px',\n",
    "                    'bottom':'100px',\n",
    "                    'font-family': 'Dosis',\n",
    "                    'display': 'inline',\n",
    "                    'font-size': '1.5rem',\n",
    "                    'color': '#000000',\n",
    "                    # 'margin': 'auto',\n",
    "                    'margin-top':'100px'}),\n",
    "    dcc.Slider(\n",
    "        id='hour',\n",
    "        min=0,\n",
    "        max=23,\n",
    "        marks={i: '1'.format(i) if i == 1 else str(i) for i in range(0, 24)},\n",
    "        value=10\n",
    "    ),\n",
    "    html.Div(id='hour', style={'max-width':'50px','margin-right':'1000px'})\n",
    "    ], style={'margin-top':'40px', 'margin-bottom':'40px', 'position':'relative'}),    \n",
    "    \n",
    "    html.Label('Precipitation', style={'position': 'relative',\n",
    "                    # 'align' : 'center',\n",
    "                    # 'top': '5px',\n",
    "                    # 'float':'left',\n",
    "                    'font-family': 'Dosis',\n",
    "                    'display': 'inline',\n",
    "                    'font-size': '1.5rem',\n",
    "                    'color': '#000000',\n",
    "                    'margin': 'auto'}),\n",
    "    html.Div([dcc.Dropdown(\n",
    "        id='precipitation',\n",
    "        options=[\n",
    "            {'label': 'None', 'value': 0},\n",
    "            {'label': 'Light', 'value': 0.04},\n",
    "            {'label': 'Medium', 'value': 0.13},\n",
    "            {'label': 'Heavy', 'value': 0.35}\n",
    "        ],\n",
    "        value=0\n",
    "    )], style={'position':'relative', 'margin-bottom':'30px'}),\n",
    "\n",
    "    html.Label('Weather Description', style={'position': 'relative',\n",
    "                    # 'align' : 'center',\n",
    "                    # 'top': '5px',\n",
    "                    # 'float':'left',\n",
    "                    'font-family': 'Dosis',\n",
    "                    'display': 'inline',\n",
    "                    'font-size': '1.5rem',\n",
    "                    'color': '#000000',\n",
    "                    'margin': 'auto'}),\n",
    "    html.Div([dcc.Dropdown(\n",
    "        id='weather',\n",
    "        options=[\n",
    "            {'label': 'Clear', 'value': 'clear'},\n",
    "            {'label': 'Clouds', 'value': 'clouds'},\n",
    "            {'label': 'Fog', 'value': 'fog'},\n",
    "            {'label': 'Rain', 'value': 'rain'},\n",
    "            {'label': 'Snow', 'value': 'snow'},\n",
    "            {'label': 'Thunderstorm', 'value': 'thunderstorm'},\n",
    "        ],\n",
    "        value=['clear'],\n",
    "        multi=True\n",
    "    )], style={'margin-bottom':'30px'}),\n",
    "\n",
    "    html.Label('Temperature (deg F)', style={'position': 'relative',\n",
    "                    # 'align' : 'center',\n",
    "                    # 'top': '5px',\n",
    "                    # 'float':'left',\n",
    "                    'font-family': 'Dosis',\n",
    "                    # 'display': 'inline',\n",
    "                    'font-size': '1.5rem',\n",
    "                    'color': '#000000',\n",
    "                    'margin': 'auto'}),\n",
    "    html.Div([dcc.Input(id='temp', value=70, type='int')], style={'height': '100px', 'width':'100px'}),         \n",
    "        \n",
    "\n",
    "            \n",
    "        \n",
    "    html.Div(id='Prediction'),\n",
    "        \n",
    "    dcc.Graph(id='graph_results')\n",
    "\n",
    "\n",
    "        \n",
    "], style={'columnCount': 3})\n",
    "\n",
    "\n",
    "@app.callback(\n",
    "    dash.dependencies.Output('Prediction', 'children'),\n",
    "    [dash.dependencies.Input('my-date-picker-single', 'date'),\n",
    "     dash.dependencies.Input('precipitation', 'value'),\n",
    "     dash.dependencies.Input('weather', 'value'),\n",
    "     dash.dependencies.Input('temp', 'value'),\n",
    "     dash.dependencies.Input('hour', 'value')])\n",
    "\n",
    "def update_prediction(date, precipitation, weather, temp, hour):\n",
    "\n",
    "    new_date = pd.to_datetime(date, format='%Y-%m-%d')\n",
    "    month = new_date.month\n",
    "    #array\n",
    "    months = month_format(month)\n",
    "    \n",
    "    day = new_date.dayofweek\n",
    "    #array\n",
    "    days = day_format(day)\n",
    "    \n",
    "    #array\n",
    "    weather_dummies = weather_format(weather)\n",
    "    \n",
    "    #Converting Fahrenheit to Python\n",
    "    if temp == '':\n",
    "        temp = 0.0\n",
    "    \n",
    "    temp_K = np.array([(float(temp) + 459.67)*(5.0/9.0)])\n",
    "    \n",
    "    #array\n",
    "    hours = hour_format(hour)\n",
    "    \n",
    "    hol = is_holiday(date)\n",
    "    \n",
    "    #Getting average humidity at give month, day, hour\n",
    "    humidity = np.array([df.loc[(df.Month == month) & (df.Day == day) & (df.Hour == hour), 'humidity'].mean()])\n",
    "    wind_speed = np.array([df.loc[(df.Month == month) & (df.Day == day) & (df.Hour == hour), 'wind_speed'].mean()])\n",
    "    \n",
    "    #Getting average passengers and delays at given day, hour, holiday\n",
    "    flight_info = df.loc[(df.Hour == hour) & (df.Day == day) & (df.holiday == hol), ['Passengers', 'Avg_Delay_Arriving', 'Cancelled_Departing_Flights']].mean()\n",
    "    passengers, delays, cancellations = flight_info.values\n",
    "    \n",
    "    #Taking edge cases in case day = 0 or hour = 0 when solving prev hour info\n",
    "    last_day = day\n",
    "    last_2day = day\n",
    "    \n",
    "    last_hour = hour - 1\n",
    "    last_2hour = hour - 2\n",
    "    \n",
    "    if hour == 0:\n",
    "        last_hour = 23\n",
    "        last_2hour = 22\n",
    "        if day == 0:\n",
    "            last_day = 6\n",
    "            last_2day = 6\n",
    "        else:\n",
    "            last_day = day-1\n",
    "            last_2day = day-1\n",
    "    \n",
    "    if hour == 1:\n",
    "        last_2hour = 23\n",
    "        if day == 0:\n",
    "            last_2day = 6\n",
    "        else:\n",
    "            last_2day = day-1\n",
    "        \n",
    "    \n",
    "    #Getting previous hours passenger info at given day, hour, holiday\n",
    "    prev_hour_pass = np.array([df.loc[(df.Hour == last_hour) & (df.Day == last_day) & (df.holiday == hol), 'Passengers'].mean()])\n",
    "    prev_2hour_pass = np.array([df.loc[(df.Hour == last_2hour) & (df.Day == last_2day) & (df.holiday == hol), 'Passengers'].mean()])\n",
    "    \n",
    "    \n",
    "    hol_array = np.array([int(hol)])\n",
    "    \n",
    "    precipitation = np.array([precipitation])\n",
    "    \n",
    "    #Putting it in the right order\n",
    "    feature_vect = np.concatenate((temp_K, humidity, wind_speed, np.array([passengers]), hol_array, precipitation, \n",
    "                                  np.array([delays]), np.array([cancellations]), weather_dummies, prev_hour_pass, \n",
    "                                  prev_2hour_pass, months, hours, days))\n",
    "    #reshaping to be 2D\n",
    "    feature_vect = feature_vect.reshape(1, len(feature_vect))\n",
    "\n",
    "    return 'We estimate that {} taxis are needed at the airport under these conditions'.format(int(loaded_model.predict(feature_vect)))\n",
    "\n",
    "\n",
    "\n",
    "\n",
    "@app.callback(\n",
    "    dash.dependencies.Output('graph_results', 'figure'),\n",
    "    [dash.dependencies.Input('my-date-picker-single', 'date'),\n",
    "     dash.dependencies.Input('hour', 'value')])\n",
    "def update_graph(date, hour):\n",
    "    \n",
    "    new_date = pd.to_datetime(date, format='%Y-%m-%d')\n",
    "    month = new_date.month\n",
    "    day = new_date.dayofweek\n",
    "    \n",
    "    actual = df.loc[(df.Month == month) & (df.Day == day) & (df.Hour == hour), ['Unnamed: 0', 'num_pickups']]    \n",
    "    actual.iloc[:,0] = pd.to_datetime(actual.iloc[:,0]).apply(lambda x: x.date())    \n",
    "    \n",
    "    return  {'data': [\n",
    "                {'x': str(actual.iloc[:,0]), 'y': actual['num_pickups'], 'type': 'bar', 'name': 'actual'}]}\n",
    "    "
   ]
  },
  {
   "cell_type": "code",
   "execution_count": 7,
   "metadata": {
    "collapsed": true
   },
   "outputs": [],
   "source": [
    "def day_format(day):\n",
    "    days = np.zeros(7)\n",
    "    days[day] = 1\n",
    "    return days"
   ]
  },
  {
   "cell_type": "code",
   "execution_count": 8,
   "metadata": {
    "collapsed": true
   },
   "outputs": [],
   "source": [
    "def month_format(month):\n",
    "    months = np.zeros(12)\n",
    "    months[month-1] = 1\n",
    "    return months"
   ]
  },
  {
   "cell_type": "code",
   "execution_count": 9,
   "metadata": {
    "collapsed": false
   },
   "outputs": [],
   "source": [
    "def weather_format(weather):\n",
    "    array = np.zeros(6)\n",
    "    if 'clear' in weather:\n",
    "        array[0] = 1\n",
    "    if 'clouds' in weather:\n",
    "        array[1] = 1\n",
    "    if 'fog' in weather:\n",
    "        array[2] = 1\n",
    "    if 'rain' in weather:\n",
    "        array[3] = 1\n",
    "    if 'snow' in weather:\n",
    "        array[4] = 1\n",
    "    if 'thunderstorm' in weather:\n",
    "        array[5] = 1\n",
    "    return array\n",
    "        \n",
    "#clear, clouds, fog, rain, snow, thunderstorm"
   ]
  },
  {
   "cell_type": "code",
   "execution_count": 10,
   "metadata": {
    "collapsed": true
   },
   "outputs": [],
   "source": [
    "# def hour_format(hour):\n",
    "#     hours = np.zeros(24)\n",
    "#     hours[hour] = 1\n",
    "#     return hours\n",
    "\n",
    "#new format\n",
    "def hour_format(hour):\n",
    "    hours = np.zeros(4)\n",
    "    if hour < 7:\n",
    "        hours[0] = 1\n",
    "    elif hour < 13:\n",
    "        hours[1] = 1\n",
    "    elif hour < 19:\n",
    "        hours[2] = 1\n",
    "    else:\n",
    "        hours[3] = 1\n",
    "    return hours"
   ]
  },
  {
   "cell_type": "code",
   "execution_count": 11,
   "metadata": {
    "collapsed": true
   },
   "outputs": [],
   "source": [
    "def is_holiday(date):\n",
    "    dr = pd.date_range(pd.Timestamp('2014-01-01'), pd.Timestamp('2020-12-31'))\n",
    "    cal = calendar()\n",
    "    holidays = cal.holidays(start=dr.min(), end=dr.max())\n",
    "\n",
    "    return date in holidays"
   ]
  },
  {
   "cell_type": "code",
   "execution_count": 18,
   "metadata": {
    "collapsed": false,
    "scrolled": true
   },
   "outputs": [
    {
     "data": {
      "text/html": [
       "<iframe src=\"http://localhost:9999\" width=700 height=350></iframe>"
      ]
     },
     "metadata": {},
     "output_type": "display_data"
    },
    {
     "name": "stderr",
     "output_type": "stream",
     "text": [
      " * Running on http://127.0.0.1:9999/ (Press CTRL+C to quit)\n",
      "/Users/adamcoviensky/anaconda/envs/ml/lib/python3.6/site-packages/dash/resources.py:35: UserWarning:\n",
      "\n",
      "A local version of https://code.jquery.com/jquery-3.2.1.min.js is not available\n",
      "\n",
      "/Users/adamcoviensky/anaconda/envs/ml/lib/python3.6/site-packages/dash/resources.py:35: UserWarning:\n",
      "\n",
      "A local version of https://cdn.rawgit.com/plotly/dash-app-stylesheets/a3401de132a6d0b652ba11548736b1d1e80aa10d/dash-goldman-sachs-report-js.js is not available\n",
      "\n",
      "/Users/adamcoviensky/anaconda/envs/ml/lib/python3.6/site-packages/dash/resources.py:35: UserWarning:\n",
      "\n",
      "A local version of http://getbootstrap.com/dist/js/bootstrap.min.js is not available\n",
      "\n",
      "/Users/adamcoviensky/anaconda/envs/ml/lib/python3.6/site-packages/dash/resources.py:35: UserWarning:\n",
      "\n",
      "A local version of https://fonts.googleapis.com/css?family=Raleway:400,300,600 is not available\n",
      "\n",
      "/Users/adamcoviensky/anaconda/envs/ml/lib/python3.6/site-packages/dash/resources.py:35: UserWarning:\n",
      "\n",
      "A local version of https://maxcdn.bootstrapcdn.com/font-awesome/4.7.0/css/font-awesome.min.css is not available\n",
      "\n",
      "/Users/adamcoviensky/anaconda/envs/ml/lib/python3.6/site-packages/dash/resources.py:35: UserWarning:\n",
      "\n",
      "A local version of http://getbootstrap.com/dist/css/bootstrap.min.css is not available\n",
      "\n",
      "127.0.0.1 - - [08/Dec/2017 14:26:01] \"GET / HTTP/1.1\" 200 -\n",
      "127.0.0.1 - - [08/Dec/2017 14:26:02] \"GET /_dash-component-suites/dash_core_components/rc-slider@6.1.2.css?v=0.14.0 HTTP/1.1\" 200 -\n",
      "127.0.0.1 - - [08/Dec/2017 14:26:02] \"GET /_dash-component-suites/dash_core_components/react-select@1.0.0-rc.3.min.css?v=0.14.0 HTTP/1.1\" 200 -\n",
      "127.0.0.1 - - [08/Dec/2017 14:26:02] \"GET /_dash-component-suites/dash_core_components/react-virtualized@9.9.0.css?v=0.14.0 HTTP/1.1\" 200 -\n",
      "127.0.0.1 - - [08/Dec/2017 14:26:02] \"GET /_dash-component-suites/dash_core_components/react-virtualized-select@3.1.0.css?v=0.14.0 HTTP/1.1\" 200 -\n",
      "127.0.0.1 - - [08/Dec/2017 14:26:02] \"GET /_dash-component-suites/dash_core_components/react-dates@12.3.0.css?v=0.14.0 HTTP/1.1\" 200 -\n",
      "127.0.0.1 - - [08/Dec/2017 14:26:02] \"GET /_dash-component-suites/dash_renderer/react@15.4.2.min.js?v=0.11.1 HTTP/1.1\" 200 -\n",
      "127.0.0.1 - - [08/Dec/2017 14:26:02] \"GET /_dash-component-suites/dash_renderer/react-dom@15.4.2.min.js?v=0.11.1 HTTP/1.1\" 200 -\n",
      "127.0.0.1 - - [08/Dec/2017 14:26:02] \"GET /_dash-component-suites/dash_html_components/bundle.js?v=0.8.0 HTTP/1.1\" 200 -\n",
      "127.0.0.1 - - [08/Dec/2017 14:26:02] \"GET /_dash-component-suites/dash_core_components/plotly-1.31.0.min.js?v=0.14.0 HTTP/1.1\" 200 -\n",
      "127.0.0.1 - - [08/Dec/2017 14:26:02] \"GET /_dash-component-suites/dash_core_components/bundle.js?v=0.14.0 HTTP/1.1\" 200 -\n",
      "127.0.0.1 - - [08/Dec/2017 14:26:02] \"GET /_dash-component-suites/dash_renderer/bundle.js?v=0.11.1 HTTP/1.1\" 200 -\n",
      "127.0.0.1 - - [08/Dec/2017 14:26:03] \"GET /_dash-layout HTTP/1.1\" 200 -\n",
      "127.0.0.1 - - [08/Dec/2017 14:26:03] \"GET /_dash-dependencies HTTP/1.1\" 200 -\n",
      "127.0.0.1 - - [08/Dec/2017 14:26:03] \"POST /_dash-update-component HTTP/1.1\" 200 -\n",
      "127.0.0.1 - - [08/Dec/2017 14:26:03] \"POST /_dash-update-component HTTP/1.1\" 200 -\n",
      "127.0.0.1 - - [08/Dec/2017 14:26:03] \"POST /_dash-update-component HTTP/1.1\" 200 -\n",
      "127.0.0.1 - - [08/Dec/2017 14:26:13] \"POST /_dash-update-component HTTP/1.1\" 200 -\n",
      "127.0.0.1 - - [08/Dec/2017 14:26:13] \"POST /_dash-update-component HTTP/1.1\" 200 -\n",
      "127.0.0.1 - - [08/Dec/2017 14:26:15] \"POST /_dash-update-component HTTP/1.1\" 200 -\n",
      "127.0.0.1 - - [08/Dec/2017 14:26:15] \"POST /_dash-update-component HTTP/1.1\" 200 -\n",
      "127.0.0.1 - - [08/Dec/2017 14:26:16] \"POST /_dash-update-component HTTP/1.1\" 200 -\n",
      "127.0.0.1 - - [08/Dec/2017 14:26:16] \"POST /_dash-update-component HTTP/1.1\" 200 -\n",
      "127.0.0.1 - - [08/Dec/2017 14:26:17] \"POST /_dash-update-component HTTP/1.1\" 200 -\n",
      "127.0.0.1 - - [08/Dec/2017 14:26:17] \"POST /_dash-update-component HTTP/1.1\" 200 -\n",
      "127.0.0.1 - - [08/Dec/2017 14:26:23] \"POST /_dash-update-component HTTP/1.1\" 200 -\n",
      "127.0.0.1 - - [08/Dec/2017 14:26:24] \"POST /_dash-update-component HTTP/1.1\" 200 -\n",
      "127.0.0.1 - - [08/Dec/2017 14:26:25] \"POST /_dash-update-component HTTP/1.1\" 200 -\n",
      "127.0.0.1 - - [08/Dec/2017 14:26:25] \"POST /_dash-update-component HTTP/1.1\" 200 -\n",
      "127.0.0.1 - - [08/Dec/2017 14:26:26] \"POST /_dash-update-component HTTP/1.1\" 200 -\n",
      "127.0.0.1 - - [08/Dec/2017 14:26:26] \"POST /_dash-update-component HTTP/1.1\" 200 -\n",
      "127.0.0.1 - - [08/Dec/2017 14:26:28] \"POST /_dash-update-component HTTP/1.1\" 200 -\n",
      "127.0.0.1 - - [08/Dec/2017 14:26:28] \"POST /_dash-update-component HTTP/1.1\" 200 -\n",
      "127.0.0.1 - - [08/Dec/2017 14:26:30] \"POST /_dash-update-component HTTP/1.1\" 200 -\n",
      "127.0.0.1 - - [08/Dec/2017 14:26:30] \"POST /_dash-update-component HTTP/1.1\" 200 -\n",
      "127.0.0.1 - - [08/Dec/2017 14:26:44] \"POST /_dash-update-component HTTP/1.1\" 200 -\n",
      "127.0.0.1 - - [08/Dec/2017 14:26:44] \"POST /_dash-update-component HTTP/1.1\" 200 -\n",
      "127.0.0.1 - - [08/Dec/2017 14:26:46] \"POST /_dash-update-component HTTP/1.1\" 200 -\n",
      "127.0.0.1 - - [08/Dec/2017 14:26:46] \"POST /_dash-update-component HTTP/1.1\" 200 -\n",
      "127.0.0.1 - - [08/Dec/2017 14:26:50] \"POST /_dash-update-component HTTP/1.1\" 200 -\n",
      "127.0.0.1 - - [08/Dec/2017 14:26:50] \"POST /_dash-update-component HTTP/1.1\" 200 -\n",
      "127.0.0.1 - - [08/Dec/2017 14:27:01] \"POST /_dash-update-component HTTP/1.1\" 200 -\n",
      "127.0.0.1 - - [08/Dec/2017 14:27:01] \"POST /_dash-update-component HTTP/1.1\" 200 -\n",
      "127.0.0.1 - - [08/Dec/2017 14:27:02] \"POST /_dash-update-component HTTP/1.1\" 200 -\n",
      "127.0.0.1 - - [08/Dec/2017 14:27:08] \"POST /_dash-update-component HTTP/1.1\" 200 -\n",
      "127.0.0.1 - - [08/Dec/2017 14:27:09] \"POST /_dash-update-component HTTP/1.1\" 200 -\n",
      "127.0.0.1 - - [08/Dec/2017 14:27:13] \"POST /_dash-update-component HTTP/1.1\" 200 -\n",
      "127.0.0.1 - - [08/Dec/2017 14:27:13] \"POST /_dash-update-component HTTP/1.1\" 200 -\n",
      "127.0.0.1 - - [08/Dec/2017 14:27:14] \"POST /_dash-update-component HTTP/1.1\" 200 -\n",
      "127.0.0.1 - - [08/Dec/2017 14:27:14] \"POST /_dash-update-component HTTP/1.1\" 200 -\n"
     ]
    }
   ],
   "source": [
    "show_app(app)"
   ]
  },
  {
   "cell_type": "code",
   "execution_count": 18,
   "metadata": {
    "collapsed": true
   },
   "outputs": [],
   "source": [
    "app = dash.Dash()\n",
    "app.layout = html.Div([\n",
    "    dcc.DatePickerSingle(\n",
    "        id='my-date-picker-single',\n",
    "        min_date_allowed=dt(1995, 8, 5),\n",
    "        max_date_allowed=dt(2017, 9, 19),\n",
    "        initial_visible_month=dt(2017, 8, 5),\n",
    "        date=dt(2017, 8, 25)\n",
    "    ),\n",
    "    html.Div(id='output-container-date-picker-single')\n",
    "])\n"
   ]
  },
  {
   "cell_type": "code",
   "execution_count": null,
   "metadata": {
    "collapsed": true
   },
   "outputs": [],
   "source": [
    "@app.callback(\n",
    "    dash.dependencies.Output('indicator-graphic', 'figure'),\n",
    "    [dash.dependencies.Input('xaxis-column', 'value'),\n",
    "     dash.dependencies.Input('yaxis-column', 'value'),\n",
    "     dash.dependencies.Input('xaxis-type', 'value'),\n",
    "     dash.dependencies.Input('yaxis-type', 'value'),\n",
    "     dash.dependencies.Input('year--slider', 'value')])\n",
    "def update_graph(xaxis_column_name, yaxis_column_name,\n",
    "                 xaxis_type, yaxis_type,\n",
    "                 year_value):\n",
    "    dff = df[df['Year'] == year_value]\n",
    "\n",
    "    return {\n",
    "        'data': [go.Scatter(\n",
    "            x=dff[dff['Indicator Name'] == xaxis_column_name]['Value'],\n",
    "            y=dff[dff['Indicator Name'] == yaxis_column_name]['Value'],\n",
    "            text=dff[dff['Indicator Name'] == yaxis_column_name]['Country Name'],\n",
    "            mode='markers',\n",
    "            marker={\n",
    "                'size': 15,\n",
    "                'opacity': 0.5,\n",
    "                'line': {'width': 0.5, 'color': 'white'}\n",
    "            }\n",
    "        )],\n",
    "        'layout': go.Layout(\n",
    "            xaxis={\n",
    "                'title': xaxis_column_name,\n",
    "                'type': 'linear' if xaxis_type == 'Linear' else 'log'\n",
    "            },\n",
    "            yaxis={\n",
    "                'title': yaxis_column_name,\n",
    "                'type': 'linear' if yaxis_type == 'Linear' else 'log'\n",
    "            },\n",
    "            margin={'l': 40, 'b': 40, 't': 10, 'r': 0},\n",
    "            hovermode='closest'\n",
    "        )\n",
    "    }\n"
   ]
  },
  {
   "cell_type": "code",
   "execution_count": 61,
   "metadata": {
    "collapsed": false
   },
   "outputs": [
    {
     "data": {
      "text/plain": [
       "Timestamp('2020-12-31 00:00:00')"
      ]
     },
     "execution_count": 61,
     "metadata": {},
     "output_type": "execute_result"
    }
   ],
   "source": [
    "pd.Timestamp('2020-12-31')"
   ]
  },
  {
   "cell_type": "code",
   "execution_count": 69,
   "metadata": {
    "collapsed": false
   },
   "outputs": [
    {
     "data": {
      "text/plain": [
       "True"
      ]
     },
     "execution_count": 69,
     "metadata": {},
     "output_type": "execute_result"
    }
   ],
   "source": [
    "dr = pd.date_range(pd.Timestamp('2014-01-01'), pd.Timestamp('2020-12-31'))\n",
    "cal = calendar()\n",
    "holidays = cal.holidays(start=dr.min(), end=dr.max())\n",
    "\n",
    "date = pd.Timestamp('2020-01-01')\n",
    "date in holidays"
   ]
  },
  {
   "cell_type": "markdown",
   "metadata": {},
   "source": [
    "### Testing things"
   ]
  },
  {
   "cell_type": "code",
   "execution_count": 79,
   "metadata": {
    "collapsed": false
   },
   "outputs": [
    {
     "data": {
      "text/plain": [
       "3.411764705882353"
      ]
     },
     "execution_count": 79,
     "metadata": {},
     "output_type": "execute_result"
    }
   ],
   "source": [
    "df.loc[(df.Month == 3) & (df.Day == 5) & (df.Hour == 6), 'wind_speed'].mean()"
   ]
  },
  {
   "cell_type": "code",
   "execution_count": 85,
   "metadata": {
    "collapsed": false
   },
   "outputs": [
    {
     "data": {
      "text/html": [
       "<div>\n",
       "<style>\n",
       "    .dataframe thead tr:only-child th {\n",
       "        text-align: right;\n",
       "    }\n",
       "\n",
       "    .dataframe thead th {\n",
       "        text-align: left;\n",
       "    }\n",
       "\n",
       "    .dataframe tbody tr th {\n",
       "        vertical-align: top;\n",
       "    }\n",
       "</style>\n",
       "<table border=\"1\" class=\"dataframe\">\n",
       "  <thead>\n",
       "    <tr style=\"text-align: right;\">\n",
       "      <th></th>\n",
       "      <th>Unnamed: 0</th>\n",
       "      <th>num_pickups</th>\n",
       "      <th>num_passengers</th>\n",
       "      <th>missing_dt</th>\n",
       "      <th>temp</th>\n",
       "      <th>temp_min</th>\n",
       "      <th>temp_max</th>\n",
       "      <th>humidity</th>\n",
       "      <th>wind_speed</th>\n",
       "      <th>weather_main</th>\n",
       "      <th>...</th>\n",
       "      <th>Passengers</th>\n",
       "      <th>Month</th>\n",
       "      <th>Hour</th>\n",
       "      <th>Day</th>\n",
       "      <th>holiday</th>\n",
       "      <th>precip_in</th>\n",
       "      <th>Avg_Delay_Arriving</th>\n",
       "      <th>Avg_Delay_Departing</th>\n",
       "      <th>Cancelled_Arriving_Flights</th>\n",
       "      <th>Cancelled_Departing_Flights</th>\n",
       "    </tr>\n",
       "  </thead>\n",
       "  <tbody>\n",
       "    <tr>\n",
       "      <th>0</th>\n",
       "      <td>2014-01-01 00:00:00-05:00</td>\n",
       "      <td>107.0</td>\n",
       "      <td>210.0</td>\n",
       "      <td>False</td>\n",
       "      <td>269.27</td>\n",
       "      <td>267.59</td>\n",
       "      <td>270.93</td>\n",
       "      <td>80.0</td>\n",
       "      <td>3.0</td>\n",
       "      <td>clear</td>\n",
       "      <td>...</td>\n",
       "      <td>108.0</td>\n",
       "      <td>1</td>\n",
       "      <td>0</td>\n",
       "      <td>2</td>\n",
       "      <td>True</td>\n",
       "      <td>0.0</td>\n",
       "      <td>0.0</td>\n",
       "      <td>0.0</td>\n",
       "      <td>0.0</td>\n",
       "      <td>0.0</td>\n",
       "    </tr>\n",
       "    <tr>\n",
       "      <th>1</th>\n",
       "      <td>2014-01-01 01:00:00-05:00</td>\n",
       "      <td>34.0</td>\n",
       "      <td>45.0</td>\n",
       "      <td>False</td>\n",
       "      <td>268.90</td>\n",
       "      <td>267.04</td>\n",
       "      <td>270.93</td>\n",
       "      <td>80.0</td>\n",
       "      <td>2.0</td>\n",
       "      <td>clear</td>\n",
       "      <td>...</td>\n",
       "      <td>0.0</td>\n",
       "      <td>1</td>\n",
       "      <td>1</td>\n",
       "      <td>2</td>\n",
       "      <td>True</td>\n",
       "      <td>0.0</td>\n",
       "      <td>0.0</td>\n",
       "      <td>0.0</td>\n",
       "      <td>0.0</td>\n",
       "      <td>0.0</td>\n",
       "    </tr>\n",
       "    <tr>\n",
       "      <th>2</th>\n",
       "      <td>2014-01-01 02:00:00-05:00</td>\n",
       "      <td>34.0</td>\n",
       "      <td>70.0</td>\n",
       "      <td>False</td>\n",
       "      <td>268.48</td>\n",
       "      <td>266.48</td>\n",
       "      <td>270.37</td>\n",
       "      <td>57.0</td>\n",
       "      <td>3.0</td>\n",
       "      <td>clear</td>\n",
       "      <td>...</td>\n",
       "      <td>0.0</td>\n",
       "      <td>1</td>\n",
       "      <td>2</td>\n",
       "      <td>2</td>\n",
       "      <td>True</td>\n",
       "      <td>0.0</td>\n",
       "      <td>0.0</td>\n",
       "      <td>0.0</td>\n",
       "      <td>0.0</td>\n",
       "      <td>0.0</td>\n",
       "    </tr>\n",
       "    <tr>\n",
       "      <th>3</th>\n",
       "      <td>2014-01-01 03:00:00-05:00</td>\n",
       "      <td>12.0</td>\n",
       "      <td>18.0</td>\n",
       "      <td>False</td>\n",
       "      <td>268.33</td>\n",
       "      <td>265.93</td>\n",
       "      <td>270.37</td>\n",
       "      <td>80.0</td>\n",
       "      <td>3.0</td>\n",
       "      <td>clear</td>\n",
       "      <td>...</td>\n",
       "      <td>0.0</td>\n",
       "      <td>1</td>\n",
       "      <td>3</td>\n",
       "      <td>2</td>\n",
       "      <td>True</td>\n",
       "      <td>0.0</td>\n",
       "      <td>291.0</td>\n",
       "      <td>0.0</td>\n",
       "      <td>0.0</td>\n",
       "      <td>0.0</td>\n",
       "    </tr>\n",
       "    <tr>\n",
       "      <th>4</th>\n",
       "      <td>2014-01-01 04:00:00-05:00</td>\n",
       "      <td>25.0</td>\n",
       "      <td>37.0</td>\n",
       "      <td>False</td>\n",
       "      <td>268.10</td>\n",
       "      <td>265.37</td>\n",
       "      <td>270.37</td>\n",
       "      <td>80.0</td>\n",
       "      <td>3.0</td>\n",
       "      <td>clear</td>\n",
       "      <td>...</td>\n",
       "      <td>0.0</td>\n",
       "      <td>1</td>\n",
       "      <td>4</td>\n",
       "      <td>2</td>\n",
       "      <td>True</td>\n",
       "      <td>0.0</td>\n",
       "      <td>0.0</td>\n",
       "      <td>0.0</td>\n",
       "      <td>0.0</td>\n",
       "      <td>0.0</td>\n",
       "    </tr>\n",
       "  </tbody>\n",
       "</table>\n",
       "<p>5 rows × 21 columns</p>\n",
       "</div>"
      ],
      "text/plain": [
       "                  Unnamed: 0  num_pickups  num_passengers  missing_dt    temp  \\\n",
       "0  2014-01-01 00:00:00-05:00        107.0           210.0       False  269.27   \n",
       "1  2014-01-01 01:00:00-05:00         34.0            45.0       False  268.90   \n",
       "2  2014-01-01 02:00:00-05:00         34.0            70.0       False  268.48   \n",
       "3  2014-01-01 03:00:00-05:00         12.0            18.0       False  268.33   \n",
       "4  2014-01-01 04:00:00-05:00         25.0            37.0       False  268.10   \n",
       "\n",
       "   temp_min  temp_max  humidity  wind_speed weather_main  \\\n",
       "0    267.59    270.93      80.0         3.0        clear   \n",
       "1    267.04    270.93      80.0         2.0        clear   \n",
       "2    266.48    270.37      57.0         3.0        clear   \n",
       "3    265.93    270.37      80.0         3.0        clear   \n",
       "4    265.37    270.37      80.0         3.0        clear   \n",
       "\n",
       "              ...              Passengers  Month  Hour  Day  holiday  \\\n",
       "0             ...                   108.0      1     0    2     True   \n",
       "1             ...                     0.0      1     1    2     True   \n",
       "2             ...                     0.0      1     2    2     True   \n",
       "3             ...                     0.0      1     3    2     True   \n",
       "4             ...                     0.0      1     4    2     True   \n",
       "\n",
       "   precip_in  Avg_Delay_Arriving  Avg_Delay_Departing  \\\n",
       "0        0.0                 0.0                  0.0   \n",
       "1        0.0                 0.0                  0.0   \n",
       "2        0.0                 0.0                  0.0   \n",
       "3        0.0               291.0                  0.0   \n",
       "4        0.0                 0.0                  0.0   \n",
       "\n",
       "   Cancelled_Arriving_Flights  Cancelled_Departing_Flights  \n",
       "0                         0.0                          0.0  \n",
       "1                         0.0                          0.0  \n",
       "2                         0.0                          0.0  \n",
       "3                         0.0                          0.0  \n",
       "4                         0.0                          0.0  \n",
       "\n",
       "[5 rows x 21 columns]"
      ]
     },
     "execution_count": 85,
     "metadata": {},
     "output_type": "execute_result"
    }
   ],
   "source": [
    "df.head()"
   ]
  },
  {
   "cell_type": "code",
   "execution_count": 39,
   "metadata": {
    "collapsed": false
   },
   "outputs": [],
   "source": [
    "flight_info = df.loc[(df.Hour == 2) & (df.Day == 0) & (df.holiday == 0), ['Passengers', 'Avg_Delay_Arriving', 'Cancelled_Departing_Flights']].mean()"
   ]
  },
  {
   "cell_type": "code",
   "execution_count": 40,
   "metadata": {
    "collapsed": false
   },
   "outputs": [
    {
     "data": {
      "text/plain": [
       "array([  2.56521739,  23.29192547,   0.        ])"
      ]
     },
     "execution_count": 40,
     "metadata": {},
     "output_type": "execute_result"
    }
   ],
   "source": [
    "flight_info.values"
   ]
  },
  {
   "cell_type": "code",
   "execution_count": 104,
   "metadata": {
    "collapsed": true
   },
   "outputs": [],
   "source": [
    "passengers, delay, cancellations = flight_info.values"
   ]
  },
  {
   "cell_type": "code",
   "execution_count": 106,
   "metadata": {
    "collapsed": false
   },
   "outputs": [
    {
     "data": {
      "text/plain": [
       "1.3411048689138201"
      ]
     },
     "execution_count": 106,
     "metadata": {},
     "output_type": "execute_result"
    }
   ],
   "source": [
    "delay"
   ]
  },
  {
   "cell_type": "code",
   "execution_count": 31,
   "metadata": {
    "collapsed": true
   },
   "outputs": [],
   "source": [
    "flight_info_past = flight_info = df.loc[(df.Hour == 1) & (df.Day == 0) & (df.holiday == 0), ['Passengers']].mean()"
   ]
  },
  {
   "cell_type": "code",
   "execution_count": 32,
   "metadata": {
    "collapsed": false
   },
   "outputs": [
    {
     "data": {
      "text/plain": [
       "Passengers    3.888199\n",
       "dtype: float64"
      ]
     },
     "execution_count": 32,
     "metadata": {},
     "output_type": "execute_result"
    }
   ],
   "source": [
    "flight_info_past"
   ]
  },
  {
   "cell_type": "code",
   "execution_count": 118,
   "metadata": {
    "collapsed": false
   },
   "outputs": [
    {
     "data": {
      "text/plain": [
       "[0, 0, 1, 0, 0, 0, 1, 0, 0, 0, 0]"
      ]
     },
     "execution_count": 118,
     "metadata": {},
     "output_type": "execute_result"
    }
   ],
   "source": [
    "[0,0,1,0,0] + [0,1,0,0,0,0]"
   ]
  },
  {
   "cell_type": "code",
   "execution_count": 130,
   "metadata": {
    "collapsed": false
   },
   "outputs": [
    {
     "data": {
      "text/plain": [
       "array([0, 0, 1, 0, 0, 1, 0, 3])"
      ]
     },
     "execution_count": 130,
     "metadata": {},
     "output_type": "execute_result"
    }
   ],
   "source": [
    "a = np.array([0,0,1,0])\n",
    "b = np.array([0,1,0])\n",
    "c = np.array([3])\n",
    "np.concatenate((a,b,np.array([3])))"
   ]
  },
  {
   "cell_type": "code",
   "execution_count": 128,
   "metadata": {
    "collapsed": false
   },
   "outputs": [
    {
     "data": {
      "text/plain": [
       "array([3])"
      ]
     },
     "execution_count": 128,
     "metadata": {},
     "output_type": "execute_result"
    }
   ],
   "source": [
    "np.array([3])"
   ]
  },
  {
   "cell_type": "code",
   "execution_count": 14,
   "metadata": {
    "collapsed": false
   },
   "outputs": [],
   "source": [
    "c=3\n",
    "d=4\n",
    "e=6\n",
    "f = np.array([c,d,e])"
   ]
  },
  {
   "cell_type": "code",
   "execution_count": 19,
   "metadata": {
    "collapsed": false
   },
   "outputs": [
    {
     "data": {
      "text/plain": [
       "(1, 3)"
      ]
     },
     "execution_count": 19,
     "metadata": {},
     "output_type": "execute_result"
    }
   ],
   "source": [
    "f.reshape(1, len(f)).shape"
   ]
  },
  {
   "cell_type": "code",
   "execution_count": 22,
   "metadata": {
    "collapsed": true
   },
   "outputs": [],
   "source": [
    "f = np.array([7])"
   ]
  },
  {
   "cell_type": "code",
   "execution_count": 27,
   "metadata": {
    "collapsed": false
   },
   "outputs": [
    {
     "data": {
      "text/plain": [
       "7"
      ]
     },
     "execution_count": 27,
     "metadata": {},
     "output_type": "execute_result"
    }
   ],
   "source": [
    "int(f)"
   ]
  },
  {
   "cell_type": "code",
   "execution_count": 109,
   "metadata": {
    "collapsed": false
   },
   "outputs": [],
   "source": [
    "new = df.loc[(df.Month == 6) & (df.Day == 4) & (df.Hour == 8), ['Unnamed: 0', 'num_pickups']]"
   ]
  },
  {
   "cell_type": "code",
   "execution_count": 110,
   "metadata": {
    "collapsed": false
   },
   "outputs": [],
   "source": [
    "new.iloc[:,0] = pd.to_datetime(new.iloc[:,0]).apply(lambda x: str(x.year)+'.'+str(x.month)+'.'+str(x.day))"
   ]
  },
  {
   "cell_type": "code",
   "execution_count": 111,
   "metadata": {
    "collapsed": false
   },
   "outputs": [
    {
     "data": {
      "text/plain": [
       "<matplotlib.axes._subplots.AxesSubplot at 0x116decc88>"
      ]
     },
     "execution_count": 111,
     "metadata": {},
     "output_type": "execute_result"
    },
    {
     "data": {
      "image/png": "[encoded data removed]",
      "text/plain": [
       "<matplotlib.figure.Figure at 0x116e151d0>"
      ]
     },
     "metadata": {},
     "output_type": "display_data"
    }
   ],
   "source": [
    "new.plot(kind='bar', x='Unnamed: 0', y=['num_pickups'])"
   ]
  },
  {
   "cell_type": "code",
   "execution_count": 112,
   "metadata": {
    "collapsed": false
   },
   "outputs": [
    {
     "data": {
      "text/plain": [
       "3751      2014.6.6\n",
       "3919     2014.6.13\n",
       "4087     2014.6.20\n",
       "4255     2014.6.27\n",
       "12487     2015.6.5\n",
       "12655    2015.6.12\n",
       "12823    2015.6.19\n",
       "12991    2015.6.26\n",
       "21223     2016.6.3\n",
       "21391    2016.6.10\n",
       "21559    2016.6.17\n",
       "21727    2016.6.24\n",
       "29959     2017.6.2\n",
       "30127     2017.6.9\n",
       "30295    2017.6.16\n",
       "30463    2017.6.23\n",
       "30631    2017.6.30\n",
       "Name: Unnamed: 0, dtype: object"
      ]
     },
     "execution_count": 112,
     "metadata": {},
     "output_type": "execute_result"
    }
   ],
   "source": [
    "new.iloc[:,0]"
   ]
  },
  {
   "cell_type": "code",
   "execution_count": null,
   "metadata": {
    "collapsed": true
   },
   "outputs": [],
   "source": []
  }
 ],
 "metadata": {
  "anaconda-cloud": {},
  "kernelspec": {
   "display_name": "Python [ml]",
   "language": "python",
   "name": "Python [ml]"
  },
  "language_info": {
   "codemirror_mode": {
    "name": "ipython",
    "version": 3
   },
   "file_extension": ".py",
   "mimetype": "text/x-python",
   "name": "python",
   "nbconvert_exporter": "python",
   "pygments_lexer": "ipython3",
   "version": "3.6.2"
  }
 },
 "nbformat": 4,
 "nbformat_minor": 2
}
