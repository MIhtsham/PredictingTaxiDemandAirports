{
 "cells": [
  {
   "cell_type": "code",
   "execution_count": 104,
   "metadata": {
    "collapsed": false
   },
   "outputs": [],
   "source": [
    "from tqdm import tqdm\n",
    "import numpy as np\n",
    "import pandas as pd\n",
    "import matplotlib.pyplot as plt\n",
    "%matplotlib inline\n",
    "\n",
    "taxi_df = pd.read_csv('clean_data/TaxiData_Jan17-Jun17.gz', compression = 'gzip')"
   ]
  },
  {
   "cell_type": "code",
   "execution_count": 105,
   "metadata": {
    "collapsed": false
   },
   "outputs": [
    {
     "data": {
      "text/plain": [
       "(1471188, 17)"
      ]
     },
     "execution_count": 105,
     "metadata": {},
     "output_type": "execute_result"
    }
   ],
   "source": [
    "taxi_df.shape"
   ]
  },
  {
   "cell_type": "code",
   "execution_count": 106,
   "metadata": {
    "collapsed": false
   },
   "outputs": [],
   "source": [
    "taxi_dt = taxi_df.set_index(pd.to_datetime(taxi_df['tpep_pickup_datetime']))"
   ]
  },
  {
   "cell_type": "code",
   "execution_count": 107,
   "metadata": {
    "collapsed": false
   },
   "outputs": [
    {
     "data": {
      "text/html": [
       "<div>\n",
       "<table border=\"1\" class=\"dataframe\">\n",
       "  <thead>\n",
       "    <tr style=\"text-align: right;\">\n",
       "      <th></th>\n",
       "      <th>VendorID</th>\n",
       "      <th>tpep_pickup_datetime</th>\n",
       "      <th>tpep_dropoff_datetime</th>\n",
       "      <th>passenger_count</th>\n",
       "      <th>trip_distance</th>\n",
       "      <th>RatecodeID</th>\n",
       "      <th>store_and_fwd_flag</th>\n",
       "      <th>PULocationID</th>\n",
       "      <th>DOLocationID</th>\n",
       "      <th>payment_type</th>\n",
       "      <th>fare_amount</th>\n",
       "      <th>extra</th>\n",
       "      <th>mta_tax</th>\n",
       "      <th>tip_amount</th>\n",
       "      <th>tolls_amount</th>\n",
       "      <th>improvement_surcharge</th>\n",
       "      <th>total_amount</th>\n",
       "    </tr>\n",
       "    <tr>\n",
       "      <th>tpep_pickup_datetime</th>\n",
       "      <th></th>\n",
       "      <th></th>\n",
       "      <th></th>\n",
       "      <th></th>\n",
       "      <th></th>\n",
       "      <th></th>\n",
       "      <th></th>\n",
       "      <th></th>\n",
       "      <th></th>\n",
       "      <th></th>\n",
       "      <th></th>\n",
       "      <th></th>\n",
       "      <th></th>\n",
       "      <th></th>\n",
       "      <th></th>\n",
       "      <th></th>\n",
       "      <th></th>\n",
       "    </tr>\n",
       "  </thead>\n",
       "  <tbody>\n",
       "    <tr>\n",
       "      <th>2017-01-01 00:00:05</th>\n",
       "      <td>2</td>\n",
       "      <td>2017-01-01 00:00:05</td>\n",
       "      <td>2017-01-01 00:15:36</td>\n",
       "      <td>1</td>\n",
       "      <td>8.47</td>\n",
       "      <td>1</td>\n",
       "      <td>N</td>\n",
       "      <td>138</td>\n",
       "      <td>262</td>\n",
       "      <td>1</td>\n",
       "      <td>24.0</td>\n",
       "      <td>0.5</td>\n",
       "      <td>0.5</td>\n",
       "      <td>7.71</td>\n",
       "      <td>5.54</td>\n",
       "      <td>0.3</td>\n",
       "      <td>38.55</td>\n",
       "    </tr>\n",
       "    <tr>\n",
       "      <th>2017-01-01 00:00:12</th>\n",
       "      <td>1</td>\n",
       "      <td>2017-01-01 00:00:12</td>\n",
       "      <td>2017-01-01 00:09:48</td>\n",
       "      <td>1</td>\n",
       "      <td>5.30</td>\n",
       "      <td>1</td>\n",
       "      <td>N</td>\n",
       "      <td>138</td>\n",
       "      <td>192</td>\n",
       "      <td>2</td>\n",
       "      <td>16.0</td>\n",
       "      <td>0.5</td>\n",
       "      <td>0.5</td>\n",
       "      <td>0.00</td>\n",
       "      <td>0.00</td>\n",
       "      <td>0.3</td>\n",
       "      <td>17.30</td>\n",
       "    </tr>\n",
       "    <tr>\n",
       "      <th>2017-01-01 00:00:17</th>\n",
       "      <td>2</td>\n",
       "      <td>2017-01-01 00:00:17</td>\n",
       "      <td>2017-01-01 00:19:40</td>\n",
       "      <td>2</td>\n",
       "      <td>13.97</td>\n",
       "      <td>1</td>\n",
       "      <td>N</td>\n",
       "      <td>138</td>\n",
       "      <td>181</td>\n",
       "      <td>1</td>\n",
       "      <td>37.5</td>\n",
       "      <td>0.5</td>\n",
       "      <td>0.5</td>\n",
       "      <td>11.64</td>\n",
       "      <td>0.00</td>\n",
       "      <td>0.3</td>\n",
       "      <td>50.44</td>\n",
       "    </tr>\n",
       "    <tr>\n",
       "      <th>2017-01-01 00:00:21</th>\n",
       "      <td>1</td>\n",
       "      <td>2017-01-01 00:00:21</td>\n",
       "      <td>2017-01-01 00:12:09</td>\n",
       "      <td>1</td>\n",
       "      <td>6.90</td>\n",
       "      <td>1</td>\n",
       "      <td>N</td>\n",
       "      <td>138</td>\n",
       "      <td>80</td>\n",
       "      <td>2</td>\n",
       "      <td>20.0</td>\n",
       "      <td>0.5</td>\n",
       "      <td>0.5</td>\n",
       "      <td>0.00</td>\n",
       "      <td>0.00</td>\n",
       "      <td>0.3</td>\n",
       "      <td>21.30</td>\n",
       "    </tr>\n",
       "    <tr>\n",
       "      <th>2017-01-01 00:00:33</th>\n",
       "      <td>1</td>\n",
       "      <td>2017-01-01 00:00:33</td>\n",
       "      <td>2017-01-01 00:31:58</td>\n",
       "      <td>2</td>\n",
       "      <td>10.50</td>\n",
       "      <td>1</td>\n",
       "      <td>N</td>\n",
       "      <td>138</td>\n",
       "      <td>230</td>\n",
       "      <td>2</td>\n",
       "      <td>35.5</td>\n",
       "      <td>0.5</td>\n",
       "      <td>0.5</td>\n",
       "      <td>0.00</td>\n",
       "      <td>5.54</td>\n",
       "      <td>0.3</td>\n",
       "      <td>42.34</td>\n",
       "    </tr>\n",
       "  </tbody>\n",
       "</table>\n",
       "</div>"
      ],
      "text/plain": [
       "                      VendorID tpep_pickup_datetime tpep_dropoff_datetime  \\\n",
       "tpep_pickup_datetime                                                        \n",
       "2017-01-01 00:00:05          2  2017-01-01 00:00:05   2017-01-01 00:15:36   \n",
       "2017-01-01 00:00:12          1  2017-01-01 00:00:12   2017-01-01 00:09:48   \n",
       "2017-01-01 00:00:17          2  2017-01-01 00:00:17   2017-01-01 00:19:40   \n",
       "2017-01-01 00:00:21          1  2017-01-01 00:00:21   2017-01-01 00:12:09   \n",
       "2017-01-01 00:00:33          1  2017-01-01 00:00:33   2017-01-01 00:31:58   \n",
       "\n",
       "                      passenger_count  trip_distance  RatecodeID  \\\n",
       "tpep_pickup_datetime                                               \n",
       "2017-01-01 00:00:05                 1           8.47           1   \n",
       "2017-01-01 00:00:12                 1           5.30           1   \n",
       "2017-01-01 00:00:17                 2          13.97           1   \n",
       "2017-01-01 00:00:21                 1           6.90           1   \n",
       "2017-01-01 00:00:33                 2          10.50           1   \n",
       "\n",
       "                     store_and_fwd_flag  PULocationID  DOLocationID  \\\n",
       "tpep_pickup_datetime                                                  \n",
       "2017-01-01 00:00:05                   N           138           262   \n",
       "2017-01-01 00:00:12                   N           138           192   \n",
       "2017-01-01 00:00:17                   N           138           181   \n",
       "2017-01-01 00:00:21                   N           138            80   \n",
       "2017-01-01 00:00:33                   N           138           230   \n",
       "\n",
       "                      payment_type  fare_amount  extra  mta_tax  tip_amount  \\\n",
       "tpep_pickup_datetime                                                          \n",
       "2017-01-01 00:00:05              1         24.0    0.5      0.5        7.71   \n",
       "2017-01-01 00:00:12              2         16.0    0.5      0.5        0.00   \n",
       "2017-01-01 00:00:17              1         37.5    0.5      0.5       11.64   \n",
       "2017-01-01 00:00:21              2         20.0    0.5      0.5        0.00   \n",
       "2017-01-01 00:00:33              2         35.5    0.5      0.5        0.00   \n",
       "\n",
       "                      tolls_amount  improvement_surcharge  total_amount  \n",
       "tpep_pickup_datetime                                                     \n",
       "2017-01-01 00:00:05           5.54                    0.3         38.55  \n",
       "2017-01-01 00:00:12           0.00                    0.3         17.30  \n",
       "2017-01-01 00:00:17           0.00                    0.3         50.44  \n",
       "2017-01-01 00:00:21           0.00                    0.3         21.30  \n",
       "2017-01-01 00:00:33           5.54                    0.3         42.34  "
      ]
     },
     "execution_count": 107,
     "metadata": {},
     "output_type": "execute_result"
    }
   ],
   "source": [
    "taxi_dt.head()"
   ]
  },
  {
   "cell_type": "code",
   "execution_count": 108,
   "metadata": {
    "collapsed": false
   },
   "outputs": [],
   "source": [
    "taxi_hour = taxi_dt.resample('H').VendorID.count()"
   ]
  },
  {
   "cell_type": "code",
   "execution_count": 109,
   "metadata": {
    "collapsed": false
   },
   "outputs": [
    {
     "data": {
      "text/plain": [
       "tpep_pickup_datetime\n",
       "2017-01-01 00:00:00    53\n",
       "2017-01-01 01:00:00     3\n",
       "2017-01-01 02:00:00     0\n",
       "2017-01-01 03:00:00     4\n",
       "2017-01-01 04:00:00     4\n",
       "Freq: H, Name: VendorID, dtype: int64"
      ]
     },
     "execution_count": 109,
     "metadata": {},
     "output_type": "execute_result"
    }
   ],
   "source": [
    "taxi_hour.head()"
   ]
  },
  {
   "cell_type": "code",
   "execution_count": 111,
   "metadata": {
    "collapsed": false
   },
   "outputs": [
    {
     "data": {
      "text/plain": [
       "<matplotlib.axes._subplots.AxesSubplot at 0x1269dc410>"
      ]
     },
     "execution_count": 111,
     "metadata": {},
     "output_type": "execute_result"
    },
    {
     "data": {
      "image/png": "[encoded data removed]",
      "text/plain": [
       "<matplotlib.figure.Figure at 0x116ca76d0>"
      ]
     },
     "metadata": {},
     "output_type": "display_data"
    }
   ],
   "source": [
    "taxi_hour.loc['2017-05-01'].plot(kind='bar')"
   ]
  },
  {
   "cell_type": "code",
   "execution_count": 112,
   "metadata": {
    "collapsed": true
   },
   "outputs": [],
   "source": [
    "taxi_day = taxi_dt.resample('D').VendorID.count()"
   ]
  },
  {
   "cell_type": "code",
   "execution_count": 113,
   "metadata": {
    "collapsed": false
   },
   "outputs": [
    {
     "data": {
      "text/plain": [
       "<matplotlib.axes._subplots.AxesSubplot at 0x17284cd90>"
      ]
     },
     "execution_count": 113,
     "metadata": {},
     "output_type": "execute_result"
    },
    {
     "data": {
      "image/png": "[encoded data removed]",
      "text/plain": [
       "<matplotlib.figure.Figure at 0x172871e90>"
      ]
     },
     "metadata": {},
     "output_type": "display_data"
    }
   ],
   "source": [
    "taxi_day.loc['2017-04'].plot(kind='bar')"
   ]
  },
  {
   "cell_type": "code",
   "execution_count": 114,
   "metadata": {
    "collapsed": true
   },
   "outputs": [],
   "source": [
    "taxi_week = taxi_dt.resample('W').count()"
   ]
  },
  {
   "cell_type": "code",
   "execution_count": 115,
   "metadata": {
    "collapsed": false
   },
   "outputs": [
    {
     "data": {
      "text/plain": [
       "tpep_pickup_datetime\n",
       "2017-01-01     5710\n",
       "2017-01-08    45955\n",
       "2017-01-15    48753\n",
       "2017-01-22    49239\n",
       "2017-01-29    47121\n",
       "Freq: W-SUN, Name: VendorID, dtype: int64"
      ]
     },
     "execution_count": 115,
     "metadata": {},
     "output_type": "execute_result"
    }
   ],
   "source": [
    "taxi_week.head()"
   ]
  },
  {
   "cell_type": "code",
   "execution_count": 116,
   "metadata": {
    "collapsed": false
   },
   "outputs": [
    {
     "data": {
      "text/plain": [
       "<matplotlib.axes._subplots.AxesSubplot at 0x12f279990>"
      ]
     },
     "execution_count": 116,
     "metadata": {},
     "output_type": "execute_result"
    },
    {
     "data": {
      "image/png": "[encoded data removed]",
      "text/plain": [
       "<matplotlib.figure.Figure at 0x12f298ad0>"
      ]
     },
     "metadata": {},
     "output_type": "display_data"
    }
   ],
   "source": [
    "taxi_week.loc['2017'].plot(kind='bar')"
   ]
  },
  {
   "cell_type": "code",
   "execution_count": 77,
   "metadata": {
    "collapsed": false
   },
   "outputs": [],
   "source": [
    "weather = pd.read_csv('clean_data/weather_NY.csv')"
   ]
  },
  {
   "cell_type": "code",
   "execution_count": 62,
   "metadata": {
    "collapsed": false
   },
   "outputs": [
    {
     "data": {
      "text/html": [
       "<div>\n",
       "<table border=\"1\" class=\"dataframe\">\n",
       "  <thead>\n",
       "    <tr style=\"text-align: right;\">\n",
       "      <th></th>\n",
       "      <th>dt</th>\n",
       "      <th>dt_iso</th>\n",
       "      <th>city_id</th>\n",
       "      <th>city_name</th>\n",
       "      <th>lat</th>\n",
       "      <th>lon</th>\n",
       "      <th>temp</th>\n",
       "      <th>temp_min</th>\n",
       "      <th>temp_max</th>\n",
       "      <th>pressure</th>\n",
       "      <th>...</th>\n",
       "      <th>rain_today</th>\n",
       "      <th>snow_1h</th>\n",
       "      <th>snow_3h</th>\n",
       "      <th>snow_24h</th>\n",
       "      <th>snow_today</th>\n",
       "      <th>clouds_all</th>\n",
       "      <th>weather_id</th>\n",
       "      <th>weather_main</th>\n",
       "      <th>weather_description</th>\n",
       "      <th>weather_icon</th>\n",
       "    </tr>\n",
       "  </thead>\n",
       "  <tbody>\n",
       "    <tr>\n",
       "      <th>0</th>\n",
       "      <td>1349096400</td>\n",
       "      <td>2012-10-01 13:00:00 +0000 UTC</td>\n",
       "      <td>5128581</td>\n",
       "      <td>NaN</td>\n",
       "      <td>NaN</td>\n",
       "      <td>NaN</td>\n",
       "      <td>288.22</td>\n",
       "      <td>286.15</td>\n",
       "      <td>294.26</td>\n",
       "      <td>1012</td>\n",
       "      <td>...</td>\n",
       "      <td>NaN</td>\n",
       "      <td>NaN</td>\n",
       "      <td>NaN</td>\n",
       "      <td>NaN</td>\n",
       "      <td>NaN</td>\n",
       "      <td>20</td>\n",
       "      <td>801</td>\n",
       "      <td>Clouds</td>\n",
       "      <td>few clouds</td>\n",
       "      <td>02d</td>\n",
       "    </tr>\n",
       "    <tr>\n",
       "      <th>1</th>\n",
       "      <td>1349186400</td>\n",
       "      <td>2012-10-02 14:00:00 +0000 UTC</td>\n",
       "      <td>5128581</td>\n",
       "      <td>NaN</td>\n",
       "      <td>NaN</td>\n",
       "      <td>NaN</td>\n",
       "      <td>290.15</td>\n",
       "      <td>288.15</td>\n",
       "      <td>294.82</td>\n",
       "      <td>1012</td>\n",
       "      <td>...</td>\n",
       "      <td>NaN</td>\n",
       "      <td>NaN</td>\n",
       "      <td>NaN</td>\n",
       "      <td>NaN</td>\n",
       "      <td>NaN</td>\n",
       "      <td>20</td>\n",
       "      <td>801</td>\n",
       "      <td>Clouds</td>\n",
       "      <td>few clouds</td>\n",
       "      <td>02d</td>\n",
       "    </tr>\n",
       "    <tr>\n",
       "      <th>2</th>\n",
       "      <td>1349190000</td>\n",
       "      <td>2012-10-02 15:00:00 +0000 UTC</td>\n",
       "      <td>5128581</td>\n",
       "      <td>NaN</td>\n",
       "      <td>NaN</td>\n",
       "      <td>NaN</td>\n",
       "      <td>291.32</td>\n",
       "      <td>289.82</td>\n",
       "      <td>296.48</td>\n",
       "      <td>1012</td>\n",
       "      <td>...</td>\n",
       "      <td>NaN</td>\n",
       "      <td>NaN</td>\n",
       "      <td>NaN</td>\n",
       "      <td>NaN</td>\n",
       "      <td>NaN</td>\n",
       "      <td>20</td>\n",
       "      <td>801</td>\n",
       "      <td>Clouds</td>\n",
       "      <td>few clouds</td>\n",
       "      <td>02d</td>\n",
       "    </tr>\n",
       "    <tr>\n",
       "      <th>3</th>\n",
       "      <td>1349193600</td>\n",
       "      <td>2012-10-02 16:00:00 +0000 UTC</td>\n",
       "      <td>5128581</td>\n",
       "      <td>NaN</td>\n",
       "      <td>NaN</td>\n",
       "      <td>NaN</td>\n",
       "      <td>291.78</td>\n",
       "      <td>290.15</td>\n",
       "      <td>295.93</td>\n",
       "      <td>0</td>\n",
       "      <td>...</td>\n",
       "      <td>0.0</td>\n",
       "      <td>NaN</td>\n",
       "      <td>NaN</td>\n",
       "      <td>NaN</td>\n",
       "      <td>NaN</td>\n",
       "      <td>92</td>\n",
       "      <td>800</td>\n",
       "      <td>Clear</td>\n",
       "      <td>sky is clear</td>\n",
       "      <td>02d</td>\n",
       "    </tr>\n",
       "    <tr>\n",
       "      <th>4</th>\n",
       "      <td>1349197200</td>\n",
       "      <td>2012-10-02 17:00:00 +0000 UTC</td>\n",
       "      <td>5128581</td>\n",
       "      <td>NaN</td>\n",
       "      <td>NaN</td>\n",
       "      <td>NaN</td>\n",
       "      <td>292.74</td>\n",
       "      <td>291.15</td>\n",
       "      <td>296.48</td>\n",
       "      <td>0</td>\n",
       "      <td>...</td>\n",
       "      <td>0.0</td>\n",
       "      <td>NaN</td>\n",
       "      <td>NaN</td>\n",
       "      <td>NaN</td>\n",
       "      <td>NaN</td>\n",
       "      <td>92</td>\n",
       "      <td>800</td>\n",
       "      <td>Clear</td>\n",
       "      <td>sky is clear</td>\n",
       "      <td>02d</td>\n",
       "    </tr>\n",
       "  </tbody>\n",
       "</table>\n",
       "<p>5 rows × 28 columns</p>\n",
       "</div>"
      ],
      "text/plain": [
       "           dt                         dt_iso  city_id  city_name  lat  lon  \\\n",
       "0  1349096400  2012-10-01 13:00:00 +0000 UTC  5128581        NaN  NaN  NaN   \n",
       "1  1349186400  2012-10-02 14:00:00 +0000 UTC  5128581        NaN  NaN  NaN   \n",
       "2  1349190000  2012-10-02 15:00:00 +0000 UTC  5128581        NaN  NaN  NaN   \n",
       "3  1349193600  2012-10-02 16:00:00 +0000 UTC  5128581        NaN  NaN  NaN   \n",
       "4  1349197200  2012-10-02 17:00:00 +0000 UTC  5128581        NaN  NaN  NaN   \n",
       "\n",
       "     temp  temp_min  temp_max  pressure      ...       rain_today  snow_1h  \\\n",
       "0  288.22    286.15    294.26      1012      ...              NaN      NaN   \n",
       "1  290.15    288.15    294.82      1012      ...              NaN      NaN   \n",
       "2  291.32    289.82    296.48      1012      ...              NaN      NaN   \n",
       "3  291.78    290.15    295.93         0      ...              0.0      NaN   \n",
       "4  292.74    291.15    296.48         0      ...              0.0      NaN   \n",
       "\n",
       "   snow_3h  snow_24h  snow_today  clouds_all  weather_id  weather_main  \\\n",
       "0      NaN       NaN         NaN          20         801        Clouds   \n",
       "1      NaN       NaN         NaN          20         801        Clouds   \n",
       "2      NaN       NaN         NaN          20         801        Clouds   \n",
       "3      NaN       NaN         NaN          92         800         Clear   \n",
       "4      NaN       NaN         NaN          92         800         Clear   \n",
       "\n",
       "   weather_description  weather_icon  \n",
       "0           few clouds           02d  \n",
       "1           few clouds           02d  \n",
       "2           few clouds           02d  \n",
       "3         sky is clear           02d  \n",
       "4         sky is clear           02d  \n",
       "\n",
       "[5 rows x 28 columns]"
      ]
     },
     "execution_count": 62,
     "metadata": {},
     "output_type": "execute_result"
    }
   ],
   "source": [
    "weather.head()"
   ]
  },
  {
   "cell_type": "code",
   "execution_count": 69,
   "metadata": {
    "collapsed": false
   },
   "outputs": [
    {
     "data": {
      "text/plain": [
       "0.30    9\n",
       "0.13    8\n",
       "0.51    4\n",
       "2.10    4\n",
       "0.20    4\n",
       "0.25    4\n",
       "3.05    4\n",
       "0.11    3\n",
       "0.47    3\n",
       "0.07    3\n",
       "0.76    3\n",
       "0.03    3\n",
       "0.08    2\n",
       "0.38    2\n",
       "0.44    1\n",
       "0.36    1\n",
       "Name: snow_1h, dtype: int64"
      ]
     },
     "execution_count": 69,
     "metadata": {},
     "output_type": "execute_result"
    }
   ],
   "source": [
    "pd.value_counts(weather['snow_1h'])"
   ]
  },
  {
   "cell_type": "code",
   "execution_count": 78,
   "metadata": {
    "collapsed": false
   },
   "outputs": [],
   "source": [
    "weather.drop(['city_id', 'city_name', 'lat', 'lon', 'weather_icon', 'grnd_level', 'sea_level', 'clouds_all', 'weather_id'], axis=1, inplace=True)"
   ]
  },
  {
   "cell_type": "code",
   "execution_count": 80,
   "metadata": {
    "collapsed": false
   },
   "outputs": [
    {
     "data": {
      "text/plain": [
       "dtype('O')"
      ]
     },
     "execution_count": 80,
     "metadata": {},
     "output_type": "execute_result"
    }
   ],
   "source": [
    "weather['dt_iso'].dtype"
   ]
  },
  {
   "cell_type": "code",
   "execution_count": 84,
   "metadata": {
    "collapsed": false
   },
   "outputs": [],
   "source": [
    "weather_dt = weather.set_index(pd.to_datetime(weather['dt'], unit='s'))"
   ]
  },
  {
   "cell_type": "code",
   "execution_count": 85,
   "metadata": {
    "collapsed": false
   },
   "outputs": [
    {
     "data": {
      "text/html": [
       "<div>\n",
       "<table border=\"1\" class=\"dataframe\">\n",
       "  <thead>\n",
       "    <tr style=\"text-align: right;\">\n",
       "      <th></th>\n",
       "      <th>dt</th>\n",
       "      <th>dt_iso</th>\n",
       "      <th>temp</th>\n",
       "      <th>temp_min</th>\n",
       "      <th>temp_max</th>\n",
       "      <th>pressure</th>\n",
       "      <th>humidity</th>\n",
       "      <th>wind_speed</th>\n",
       "      <th>wind_deg</th>\n",
       "      <th>rain_1h</th>\n",
       "      <th>rain_3h</th>\n",
       "      <th>rain_24h</th>\n",
       "      <th>rain_today</th>\n",
       "      <th>snow_1h</th>\n",
       "      <th>snow_3h</th>\n",
       "      <th>snow_24h</th>\n",
       "      <th>snow_today</th>\n",
       "      <th>weather_main</th>\n",
       "      <th>weather_description</th>\n",
       "    </tr>\n",
       "    <tr>\n",
       "      <th>dt</th>\n",
       "      <th></th>\n",
       "      <th></th>\n",
       "      <th></th>\n",
       "      <th></th>\n",
       "      <th></th>\n",
       "      <th></th>\n",
       "      <th></th>\n",
       "      <th></th>\n",
       "      <th></th>\n",
       "      <th></th>\n",
       "      <th></th>\n",
       "      <th></th>\n",
       "      <th></th>\n",
       "      <th></th>\n",
       "      <th></th>\n",
       "      <th></th>\n",
       "      <th></th>\n",
       "      <th></th>\n",
       "      <th></th>\n",
       "    </tr>\n",
       "  </thead>\n",
       "  <tbody>\n",
       "    <tr>\n",
       "      <th>2012-10-01 13:00:00</th>\n",
       "      <td>1349096400</td>\n",
       "      <td>2012-10-01 13:00:00 +0000 UTC</td>\n",
       "      <td>288.22</td>\n",
       "      <td>286.15</td>\n",
       "      <td>294.26</td>\n",
       "      <td>1012</td>\n",
       "      <td>58</td>\n",
       "      <td>7</td>\n",
       "      <td>260</td>\n",
       "      <td>NaN</td>\n",
       "      <td>NaN</td>\n",
       "      <td>NaN</td>\n",
       "      <td>NaN</td>\n",
       "      <td>NaN</td>\n",
       "      <td>NaN</td>\n",
       "      <td>NaN</td>\n",
       "      <td>NaN</td>\n",
       "      <td>Clouds</td>\n",
       "      <td>few clouds</td>\n",
       "    </tr>\n",
       "    <tr>\n",
       "      <th>2012-10-02 14:00:00</th>\n",
       "      <td>1349186400</td>\n",
       "      <td>2012-10-02 14:00:00 +0000 UTC</td>\n",
       "      <td>290.15</td>\n",
       "      <td>288.15</td>\n",
       "      <td>294.82</td>\n",
       "      <td>1012</td>\n",
       "      <td>51</td>\n",
       "      <td>5</td>\n",
       "      <td>270</td>\n",
       "      <td>NaN</td>\n",
       "      <td>NaN</td>\n",
       "      <td>NaN</td>\n",
       "      <td>NaN</td>\n",
       "      <td>NaN</td>\n",
       "      <td>NaN</td>\n",
       "      <td>NaN</td>\n",
       "      <td>NaN</td>\n",
       "      <td>Clouds</td>\n",
       "      <td>few clouds</td>\n",
       "    </tr>\n",
       "    <tr>\n",
       "      <th>2012-10-02 15:00:00</th>\n",
       "      <td>1349190000</td>\n",
       "      <td>2012-10-02 15:00:00 +0000 UTC</td>\n",
       "      <td>291.32</td>\n",
       "      <td>289.82</td>\n",
       "      <td>296.48</td>\n",
       "      <td>1012</td>\n",
       "      <td>52</td>\n",
       "      <td>5</td>\n",
       "      <td>270</td>\n",
       "      <td>NaN</td>\n",
       "      <td>NaN</td>\n",
       "      <td>NaN</td>\n",
       "      <td>NaN</td>\n",
       "      <td>NaN</td>\n",
       "      <td>NaN</td>\n",
       "      <td>NaN</td>\n",
       "      <td>NaN</td>\n",
       "      <td>Clouds</td>\n",
       "      <td>few clouds</td>\n",
       "    </tr>\n",
       "    <tr>\n",
       "      <th>2012-10-02 16:00:00</th>\n",
       "      <td>1349193600</td>\n",
       "      <td>2012-10-02 16:00:00 +0000 UTC</td>\n",
       "      <td>291.78</td>\n",
       "      <td>290.15</td>\n",
       "      <td>295.93</td>\n",
       "      <td>0</td>\n",
       "      <td>0</td>\n",
       "      <td>2</td>\n",
       "      <td>303</td>\n",
       "      <td>NaN</td>\n",
       "      <td>NaN</td>\n",
       "      <td>NaN</td>\n",
       "      <td>0.0</td>\n",
       "      <td>NaN</td>\n",
       "      <td>NaN</td>\n",
       "      <td>NaN</td>\n",
       "      <td>NaN</td>\n",
       "      <td>Clear</td>\n",
       "      <td>sky is clear</td>\n",
       "    </tr>\n",
       "    <tr>\n",
       "      <th>2012-10-02 17:00:00</th>\n",
       "      <td>1349197200</td>\n",
       "      <td>2012-10-02 17:00:00 +0000 UTC</td>\n",
       "      <td>292.74</td>\n",
       "      <td>291.15</td>\n",
       "      <td>296.48</td>\n",
       "      <td>0</td>\n",
       "      <td>0</td>\n",
       "      <td>1</td>\n",
       "      <td>285</td>\n",
       "      <td>NaN</td>\n",
       "      <td>NaN</td>\n",
       "      <td>NaN</td>\n",
       "      <td>0.0</td>\n",
       "      <td>NaN</td>\n",
       "      <td>NaN</td>\n",
       "      <td>NaN</td>\n",
       "      <td>NaN</td>\n",
       "      <td>Clear</td>\n",
       "      <td>sky is clear</td>\n",
       "    </tr>\n",
       "  </tbody>\n",
       "</table>\n",
       "</div>"
      ],
      "text/plain": [
       "                             dt                         dt_iso    temp  \\\n",
       "dt                                                                       \n",
       "2012-10-01 13:00:00  1349096400  2012-10-01 13:00:00 +0000 UTC  288.22   \n",
       "2012-10-02 14:00:00  1349186400  2012-10-02 14:00:00 +0000 UTC  290.15   \n",
       "2012-10-02 15:00:00  1349190000  2012-10-02 15:00:00 +0000 UTC  291.32   \n",
       "2012-10-02 16:00:00  1349193600  2012-10-02 16:00:00 +0000 UTC  291.78   \n",
       "2012-10-02 17:00:00  1349197200  2012-10-02 17:00:00 +0000 UTC  292.74   \n",
       "\n",
       "                     temp_min  temp_max  pressure  humidity  wind_speed  \\\n",
       "dt                                                                        \n",
       "2012-10-01 13:00:00    286.15    294.26      1012        58           7   \n",
       "2012-10-02 14:00:00    288.15    294.82      1012        51           5   \n",
       "2012-10-02 15:00:00    289.82    296.48      1012        52           5   \n",
       "2012-10-02 16:00:00    290.15    295.93         0         0           2   \n",
       "2012-10-02 17:00:00    291.15    296.48         0         0           1   \n",
       "\n",
       "                     wind_deg  rain_1h  rain_3h  rain_24h  rain_today  \\\n",
       "dt                                                                      \n",
       "2012-10-01 13:00:00       260      NaN      NaN       NaN         NaN   \n",
       "2012-10-02 14:00:00       270      NaN      NaN       NaN         NaN   \n",
       "2012-10-02 15:00:00       270      NaN      NaN       NaN         NaN   \n",
       "2012-10-02 16:00:00       303      NaN      NaN       NaN         0.0   \n",
       "2012-10-02 17:00:00       285      NaN      NaN       NaN         0.0   \n",
       "\n",
       "                     snow_1h  snow_3h  snow_24h  snow_today weather_main  \\\n",
       "dt                                                                         \n",
       "2012-10-01 13:00:00      NaN      NaN       NaN         NaN       Clouds   \n",
       "2012-10-02 14:00:00      NaN      NaN       NaN         NaN       Clouds   \n",
       "2012-10-02 15:00:00      NaN      NaN       NaN         NaN       Clouds   \n",
       "2012-10-02 16:00:00      NaN      NaN       NaN         NaN        Clear   \n",
       "2012-10-02 17:00:00      NaN      NaN       NaN         NaN        Clear   \n",
       "\n",
       "                    weather_description  \n",
       "dt                                       \n",
       "2012-10-01 13:00:00          few clouds  \n",
       "2012-10-02 14:00:00          few clouds  \n",
       "2012-10-02 15:00:00          few clouds  \n",
       "2012-10-02 16:00:00        sky is clear  \n",
       "2012-10-02 17:00:00        sky is clear  "
      ]
     },
     "execution_count": 85,
     "metadata": {},
     "output_type": "execute_result"
    }
   ],
   "source": [
    "weather_dt.head()"
   ]
  },
  {
   "cell_type": "code",
   "execution_count": 101,
   "metadata": {
    "collapsed": false
   },
   "outputs": [
    {
     "data": {
      "text/plain": [
       "Timestamp('2017-10-21 00:00:00')"
      ]
     },
     "execution_count": 101,
     "metadata": {},
     "output_type": "execute_result"
    }
   ],
   "source": [
    "weather_dt.index.max()"
   ]
  },
  {
   "cell_type": "code",
   "execution_count": null,
   "metadata": {
    "collapsed": true
   },
   "outputs": [],
   "source": []
  }
 ],
 "metadata": {
  "anaconda-cloud": {},
  "kernelspec": {
   "display_name": "Python [Root]",
   "language": "python",
   "name": "Python [Root]"
  },
  "language_info": {
   "codemirror_mode": {
    "name": "ipython",
    "version": 2
   },
   "file_extension": ".py",
   "mimetype": "text/x-python",
   "name": "python",
   "nbconvert_exporter": "python",
   "pygments_lexer": "ipython2",
   "version": "2.7.12"
  }
 },
 "nbformat": 4,
 "nbformat_minor": 0
}
