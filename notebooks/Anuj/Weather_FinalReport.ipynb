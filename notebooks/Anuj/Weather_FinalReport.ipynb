{
 "cells": [
  {
   "cell_type": "markdown",
   "metadata": {},
   "source": [
    "## Imports"
   ]
  },
  {
   "cell_type": "code",
   "execution_count": 1,
   "metadata": {},
   "outputs": [],
   "source": [
    "import pandas as pd\n",
    "import matplotlib.pyplot as plt\n",
    "import seaborn as sns\n",
    "import numpy as np\n",
    "%matplotlib inline\n",
    "# plt.style.use(\"ggplot\")\n",
    "sns.set_style(\"darkgrid\")"
   ]
  },
  {
   "cell_type": "markdown",
   "metadata": {},
   "source": [
    "## Load the Aggregated data"
   ]
  },
  {
   "cell_type": "code",
   "execution_count": 2,
   "metadata": {},
   "outputs": [],
   "source": [
    "merged_df = pd.read_csv(\"../../clean_data/FinalData_for_Models.csv\", index_col=0)"
   ]
  },
  {
   "cell_type": "code",
   "execution_count": 3,
   "metadata": {},
   "outputs": [
    {
     "data": {
      "text/html": [
       "<div>\n",
       "<style scoped>\n",
       "    .dataframe tbody tr th:only-of-type {\n",
       "        vertical-align: middle;\n",
       "    }\n",
       "\n",
       "    .dataframe tbody tr th {\n",
       "        vertical-align: top;\n",
       "    }\n",
       "\n",
       "    .dataframe thead th {\n",
       "        text-align: right;\n",
       "    }\n",
       "</style>\n",
       "<table border=\"1\" class=\"dataframe\">\n",
       "  <thead>\n",
       "    <tr style=\"text-align: right;\">\n",
       "      <th></th>\n",
       "      <th>num_pickups</th>\n",
       "      <th>num_passengers</th>\n",
       "      <th>missing_dt</th>\n",
       "      <th>temp</th>\n",
       "      <th>temp_min</th>\n",
       "      <th>temp_max</th>\n",
       "      <th>humidity</th>\n",
       "      <th>wind_speed</th>\n",
       "      <th>weather_main</th>\n",
       "      <th>weather_description</th>\n",
       "      <th>Passengers</th>\n",
       "      <th>Month</th>\n",
       "      <th>Hour</th>\n",
       "      <th>Day</th>\n",
       "      <th>holiday</th>\n",
       "      <th>precip_in</th>\n",
       "      <th>Avg_Delay_Arriving</th>\n",
       "      <th>Avg_Delay_Departing</th>\n",
       "      <th>Cancelled_Arriving_Flights</th>\n",
       "      <th>Cancelled_Departing_Flights</th>\n",
       "    </tr>\n",
       "  </thead>\n",
       "  <tbody>\n",
       "    <tr>\n",
       "      <th>2014-01-01 00:00:00-05:00</th>\n",
       "      <td>107.0</td>\n",
       "      <td>210.0</td>\n",
       "      <td>False</td>\n",
       "      <td>269.27</td>\n",
       "      <td>267.59</td>\n",
       "      <td>270.93</td>\n",
       "      <td>80.0</td>\n",
       "      <td>3.0</td>\n",
       "      <td>clear</td>\n",
       "      <td>sky is clear</td>\n",
       "      <td>108.0</td>\n",
       "      <td>1</td>\n",
       "      <td>0</td>\n",
       "      <td>2</td>\n",
       "      <td>True</td>\n",
       "      <td>0.0</td>\n",
       "      <td>0.0</td>\n",
       "      <td>0.0</td>\n",
       "      <td>0.0</td>\n",
       "      <td>0.0</td>\n",
       "    </tr>\n",
       "    <tr>\n",
       "      <th>2014-01-01 01:00:00-05:00</th>\n",
       "      <td>34.0</td>\n",
       "      <td>45.0</td>\n",
       "      <td>False</td>\n",
       "      <td>268.90</td>\n",
       "      <td>267.04</td>\n",
       "      <td>270.93</td>\n",
       "      <td>80.0</td>\n",
       "      <td>2.0</td>\n",
       "      <td>clear</td>\n",
       "      <td>sky is clear</td>\n",
       "      <td>0.0</td>\n",
       "      <td>1</td>\n",
       "      <td>1</td>\n",
       "      <td>2</td>\n",
       "      <td>True</td>\n",
       "      <td>0.0</td>\n",
       "      <td>0.0</td>\n",
       "      <td>0.0</td>\n",
       "      <td>0.0</td>\n",
       "      <td>0.0</td>\n",
       "    </tr>\n",
       "    <tr>\n",
       "      <th>2014-01-01 02:00:00-05:00</th>\n",
       "      <td>34.0</td>\n",
       "      <td>70.0</td>\n",
       "      <td>False</td>\n",
       "      <td>268.48</td>\n",
       "      <td>266.48</td>\n",
       "      <td>270.37</td>\n",
       "      <td>57.0</td>\n",
       "      <td>3.0</td>\n",
       "      <td>clear</td>\n",
       "      <td>sky is clear</td>\n",
       "      <td>0.0</td>\n",
       "      <td>1</td>\n",
       "      <td>2</td>\n",
       "      <td>2</td>\n",
       "      <td>True</td>\n",
       "      <td>0.0</td>\n",
       "      <td>0.0</td>\n",
       "      <td>0.0</td>\n",
       "      <td>0.0</td>\n",
       "      <td>0.0</td>\n",
       "    </tr>\n",
       "    <tr>\n",
       "      <th>2014-01-01 03:00:00-05:00</th>\n",
       "      <td>12.0</td>\n",
       "      <td>18.0</td>\n",
       "      <td>False</td>\n",
       "      <td>268.33</td>\n",
       "      <td>265.93</td>\n",
       "      <td>270.37</td>\n",
       "      <td>80.0</td>\n",
       "      <td>3.0</td>\n",
       "      <td>clear</td>\n",
       "      <td>sky is clear</td>\n",
       "      <td>0.0</td>\n",
       "      <td>1</td>\n",
       "      <td>3</td>\n",
       "      <td>2</td>\n",
       "      <td>True</td>\n",
       "      <td>0.0</td>\n",
       "      <td>291.0</td>\n",
       "      <td>0.0</td>\n",
       "      <td>0.0</td>\n",
       "      <td>0.0</td>\n",
       "    </tr>\n",
       "    <tr>\n",
       "      <th>2014-01-01 04:00:00-05:00</th>\n",
       "      <td>25.0</td>\n",
       "      <td>37.0</td>\n",
       "      <td>False</td>\n",
       "      <td>268.10</td>\n",
       "      <td>265.37</td>\n",
       "      <td>270.37</td>\n",
       "      <td>80.0</td>\n",
       "      <td>3.0</td>\n",
       "      <td>clear</td>\n",
       "      <td>sky is clear</td>\n",
       "      <td>0.0</td>\n",
       "      <td>1</td>\n",
       "      <td>4</td>\n",
       "      <td>2</td>\n",
       "      <td>True</td>\n",
       "      <td>0.0</td>\n",
       "      <td>0.0</td>\n",
       "      <td>0.0</td>\n",
       "      <td>0.0</td>\n",
       "      <td>0.0</td>\n",
       "    </tr>\n",
       "  </tbody>\n",
       "</table>\n",
       "</div>"
      ],
      "text/plain": [
       "                           num_pickups  num_passengers  missing_dt    temp  \\\n",
       "2014-01-01 00:00:00-05:00        107.0           210.0       False  269.27   \n",
       "2014-01-01 01:00:00-05:00         34.0            45.0       False  268.90   \n",
       "2014-01-01 02:00:00-05:00         34.0            70.0       False  268.48   \n",
       "2014-01-01 03:00:00-05:00         12.0            18.0       False  268.33   \n",
       "2014-01-01 04:00:00-05:00         25.0            37.0       False  268.10   \n",
       "\n",
       "                           temp_min  temp_max  humidity  wind_speed  \\\n",
       "2014-01-01 00:00:00-05:00    267.59    270.93      80.0         3.0   \n",
       "2014-01-01 01:00:00-05:00    267.04    270.93      80.0         2.0   \n",
       "2014-01-01 02:00:00-05:00    266.48    270.37      57.0         3.0   \n",
       "2014-01-01 03:00:00-05:00    265.93    270.37      80.0         3.0   \n",
       "2014-01-01 04:00:00-05:00    265.37    270.37      80.0         3.0   \n",
       "\n",
       "                          weather_main weather_description  Passengers  Month  \\\n",
       "2014-01-01 00:00:00-05:00        clear        sky is clear       108.0      1   \n",
       "2014-01-01 01:00:00-05:00        clear        sky is clear         0.0      1   \n",
       "2014-01-01 02:00:00-05:00        clear        sky is clear         0.0      1   \n",
       "2014-01-01 03:00:00-05:00        clear        sky is clear         0.0      1   \n",
       "2014-01-01 04:00:00-05:00        clear        sky is clear         0.0      1   \n",
       "\n",
       "                           Hour  Day  holiday  precip_in  Avg_Delay_Arriving  \\\n",
       "2014-01-01 00:00:00-05:00     0    2     True        0.0                 0.0   \n",
       "2014-01-01 01:00:00-05:00     1    2     True        0.0                 0.0   \n",
       "2014-01-01 02:00:00-05:00     2    2     True        0.0                 0.0   \n",
       "2014-01-01 03:00:00-05:00     3    2     True        0.0               291.0   \n",
       "2014-01-01 04:00:00-05:00     4    2     True        0.0                 0.0   \n",
       "\n",
       "                           Avg_Delay_Departing  Cancelled_Arriving_Flights  \\\n",
       "2014-01-01 00:00:00-05:00                  0.0                         0.0   \n",
       "2014-01-01 01:00:00-05:00                  0.0                         0.0   \n",
       "2014-01-01 02:00:00-05:00                  0.0                         0.0   \n",
       "2014-01-01 03:00:00-05:00                  0.0                         0.0   \n",
       "2014-01-01 04:00:00-05:00                  0.0                         0.0   \n",
       "\n",
       "                           Cancelled_Departing_Flights  \n",
       "2014-01-01 00:00:00-05:00                          0.0  \n",
       "2014-01-01 01:00:00-05:00                          0.0  \n",
       "2014-01-01 02:00:00-05:00                          0.0  \n",
       "2014-01-01 03:00:00-05:00                          0.0  \n",
       "2014-01-01 04:00:00-05:00                          0.0  "
      ]
     },
     "execution_count": 3,
     "metadata": {},
     "output_type": "execute_result"
    }
   ],
   "source": [
    "merged_df.head()"
   ]
  },
  {
   "cell_type": "code",
   "execution_count": 4,
   "metadata": {},
   "outputs": [],
   "source": [
    "merged_df.index = pd.DatetimeIndex(merged_df.index).tz_localize(\"UTC\").tz_convert(\"EST\")"
   ]
  },
  {
   "cell_type": "code",
   "execution_count": 5,
   "metadata": {},
   "outputs": [
    {
     "data": {
      "text/html": [
       "<div>\n",
       "<style scoped>\n",
       "    .dataframe tbody tr th:only-of-type {\n",
       "        vertical-align: middle;\n",
       "    }\n",
       "\n",
       "    .dataframe tbody tr th {\n",
       "        vertical-align: top;\n",
       "    }\n",
       "\n",
       "    .dataframe thead th {\n",
       "        text-align: right;\n",
       "    }\n",
       "</style>\n",
       "<table border=\"1\" class=\"dataframe\">\n",
       "  <thead>\n",
       "    <tr style=\"text-align: right;\">\n",
       "      <th></th>\n",
       "      <th>num_pickups</th>\n",
       "      <th>num_passengers</th>\n",
       "      <th>missing_dt</th>\n",
       "      <th>temp</th>\n",
       "      <th>temp_min</th>\n",
       "      <th>temp_max</th>\n",
       "      <th>humidity</th>\n",
       "      <th>wind_speed</th>\n",
       "      <th>weather_main</th>\n",
       "      <th>weather_description</th>\n",
       "      <th>Passengers</th>\n",
       "      <th>Month</th>\n",
       "      <th>Hour</th>\n",
       "      <th>Day</th>\n",
       "      <th>holiday</th>\n",
       "      <th>precip_in</th>\n",
       "      <th>Avg_Delay_Arriving</th>\n",
       "      <th>Avg_Delay_Departing</th>\n",
       "      <th>Cancelled_Arriving_Flights</th>\n",
       "      <th>Cancelled_Departing_Flights</th>\n",
       "    </tr>\n",
       "  </thead>\n",
       "  <tbody>\n",
       "    <tr>\n",
       "      <th>2014-01-01 00:00:00-05:00</th>\n",
       "      <td>107.0</td>\n",
       "      <td>210.0</td>\n",
       "      <td>False</td>\n",
       "      <td>269.27</td>\n",
       "      <td>267.59</td>\n",
       "      <td>270.93</td>\n",
       "      <td>80.0</td>\n",
       "      <td>3.0</td>\n",
       "      <td>clear</td>\n",
       "      <td>sky is clear</td>\n",
       "      <td>108.0</td>\n",
       "      <td>1</td>\n",
       "      <td>0</td>\n",
       "      <td>2</td>\n",
       "      <td>True</td>\n",
       "      <td>0.0</td>\n",
       "      <td>0.0</td>\n",
       "      <td>0.0</td>\n",
       "      <td>0.0</td>\n",
       "      <td>0.0</td>\n",
       "    </tr>\n",
       "    <tr>\n",
       "      <th>2014-01-01 01:00:00-05:00</th>\n",
       "      <td>34.0</td>\n",
       "      <td>45.0</td>\n",
       "      <td>False</td>\n",
       "      <td>268.90</td>\n",
       "      <td>267.04</td>\n",
       "      <td>270.93</td>\n",
       "      <td>80.0</td>\n",
       "      <td>2.0</td>\n",
       "      <td>clear</td>\n",
       "      <td>sky is clear</td>\n",
       "      <td>0.0</td>\n",
       "      <td>1</td>\n",
       "      <td>1</td>\n",
       "      <td>2</td>\n",
       "      <td>True</td>\n",
       "      <td>0.0</td>\n",
       "      <td>0.0</td>\n",
       "      <td>0.0</td>\n",
       "      <td>0.0</td>\n",
       "      <td>0.0</td>\n",
       "    </tr>\n",
       "    <tr>\n",
       "      <th>2014-01-01 02:00:00-05:00</th>\n",
       "      <td>34.0</td>\n",
       "      <td>70.0</td>\n",
       "      <td>False</td>\n",
       "      <td>268.48</td>\n",
       "      <td>266.48</td>\n",
       "      <td>270.37</td>\n",
       "      <td>57.0</td>\n",
       "      <td>3.0</td>\n",
       "      <td>clear</td>\n",
       "      <td>sky is clear</td>\n",
       "      <td>0.0</td>\n",
       "      <td>1</td>\n",
       "      <td>2</td>\n",
       "      <td>2</td>\n",
       "      <td>True</td>\n",
       "      <td>0.0</td>\n",
       "      <td>0.0</td>\n",
       "      <td>0.0</td>\n",
       "      <td>0.0</td>\n",
       "      <td>0.0</td>\n",
       "    </tr>\n",
       "    <tr>\n",
       "      <th>2014-01-01 03:00:00-05:00</th>\n",
       "      <td>12.0</td>\n",
       "      <td>18.0</td>\n",
       "      <td>False</td>\n",
       "      <td>268.33</td>\n",
       "      <td>265.93</td>\n",
       "      <td>270.37</td>\n",
       "      <td>80.0</td>\n",
       "      <td>3.0</td>\n",
       "      <td>clear</td>\n",
       "      <td>sky is clear</td>\n",
       "      <td>0.0</td>\n",
       "      <td>1</td>\n",
       "      <td>3</td>\n",
       "      <td>2</td>\n",
       "      <td>True</td>\n",
       "      <td>0.0</td>\n",
       "      <td>291.0</td>\n",
       "      <td>0.0</td>\n",
       "      <td>0.0</td>\n",
       "      <td>0.0</td>\n",
       "    </tr>\n",
       "    <tr>\n",
       "      <th>2014-01-01 04:00:00-05:00</th>\n",
       "      <td>25.0</td>\n",
       "      <td>37.0</td>\n",
       "      <td>False</td>\n",
       "      <td>268.10</td>\n",
       "      <td>265.37</td>\n",
       "      <td>270.37</td>\n",
       "      <td>80.0</td>\n",
       "      <td>3.0</td>\n",
       "      <td>clear</td>\n",
       "      <td>sky is clear</td>\n",
       "      <td>0.0</td>\n",
       "      <td>1</td>\n",
       "      <td>4</td>\n",
       "      <td>2</td>\n",
       "      <td>True</td>\n",
       "      <td>0.0</td>\n",
       "      <td>0.0</td>\n",
       "      <td>0.0</td>\n",
       "      <td>0.0</td>\n",
       "      <td>0.0</td>\n",
       "    </tr>\n",
       "  </tbody>\n",
       "</table>\n",
       "</div>"
      ],
      "text/plain": [
       "                           num_pickups  num_passengers  missing_dt    temp  \\\n",
       "2014-01-01 00:00:00-05:00        107.0           210.0       False  269.27   \n",
       "2014-01-01 01:00:00-05:00         34.0            45.0       False  268.90   \n",
       "2014-01-01 02:00:00-05:00         34.0            70.0       False  268.48   \n",
       "2014-01-01 03:00:00-05:00         12.0            18.0       False  268.33   \n",
       "2014-01-01 04:00:00-05:00         25.0            37.0       False  268.10   \n",
       "\n",
       "                           temp_min  temp_max  humidity  wind_speed  \\\n",
       "2014-01-01 00:00:00-05:00    267.59    270.93      80.0         3.0   \n",
       "2014-01-01 01:00:00-05:00    267.04    270.93      80.0         2.0   \n",
       "2014-01-01 02:00:00-05:00    266.48    270.37      57.0         3.0   \n",
       "2014-01-01 03:00:00-05:00    265.93    270.37      80.0         3.0   \n",
       "2014-01-01 04:00:00-05:00    265.37    270.37      80.0         3.0   \n",
       "\n",
       "                          weather_main weather_description  Passengers  Month  \\\n",
       "2014-01-01 00:00:00-05:00        clear        sky is clear       108.0      1   \n",
       "2014-01-01 01:00:00-05:00        clear        sky is clear         0.0      1   \n",
       "2014-01-01 02:00:00-05:00        clear        sky is clear         0.0      1   \n",
       "2014-01-01 03:00:00-05:00        clear        sky is clear         0.0      1   \n",
       "2014-01-01 04:00:00-05:00        clear        sky is clear         0.0      1   \n",
       "\n",
       "                           Hour  Day  holiday  precip_in  Avg_Delay_Arriving  \\\n",
       "2014-01-01 00:00:00-05:00     0    2     True        0.0                 0.0   \n",
       "2014-01-01 01:00:00-05:00     1    2     True        0.0                 0.0   \n",
       "2014-01-01 02:00:00-05:00     2    2     True        0.0                 0.0   \n",
       "2014-01-01 03:00:00-05:00     3    2     True        0.0               291.0   \n",
       "2014-01-01 04:00:00-05:00     4    2     True        0.0                 0.0   \n",
       "\n",
       "                           Avg_Delay_Departing  Cancelled_Arriving_Flights  \\\n",
       "2014-01-01 00:00:00-05:00                  0.0                         0.0   \n",
       "2014-01-01 01:00:00-05:00                  0.0                         0.0   \n",
       "2014-01-01 02:00:00-05:00                  0.0                         0.0   \n",
       "2014-01-01 03:00:00-05:00                  0.0                         0.0   \n",
       "2014-01-01 04:00:00-05:00                  0.0                         0.0   \n",
       "\n",
       "                           Cancelled_Departing_Flights  \n",
       "2014-01-01 00:00:00-05:00                          0.0  \n",
       "2014-01-01 01:00:00-05:00                          0.0  \n",
       "2014-01-01 02:00:00-05:00                          0.0  \n",
       "2014-01-01 03:00:00-05:00                          0.0  \n",
       "2014-01-01 04:00:00-05:00                          0.0  "
      ]
     },
     "execution_count": 5,
     "metadata": {},
     "output_type": "execute_result"
    }
   ],
   "source": [
    "merged_df.head()"
   ]
  },
  {
   "cell_type": "code",
   "execution_count": 6,
   "metadata": {},
   "outputs": [],
   "source": [
    "df = merged_df.groupby([\"weather_main\", \"weather_description\"]).agg({\"num_pickups\": \"mean\", \"num_passengers\": \"mean\"})"
   ]
  },
  {
   "cell_type": "code",
   "execution_count": 7,
   "metadata": {},
   "outputs": [],
   "source": [
    "rain_df = df.loc[\"rain\"]"
   ]
  },
  {
   "cell_type": "code",
   "execution_count": 19,
   "metadata": {},
   "outputs": [],
   "source": [
    "rain_df = rain_df.iloc[[0, 1, 4], :]"
   ]
  },
  {
   "cell_type": "code",
   "execution_count": 20,
   "metadata": {},
   "outputs": [
    {
     "data": {
      "text/plain": [
       "Index(['heavy intensity rain', 'light rain', 'moderate rain'], dtype='object', name='weather_description')"
      ]
     },
     "execution_count": 20,
     "metadata": {},
     "output_type": "execute_result"
    }
   ],
   "source": [
    "rain_df.index"
   ]
  },
  {
   "cell_type": "code",
   "execution_count": 21,
   "metadata": {},
   "outputs": [
    {
     "data": {
      "text/plain": [
       "weather_description\n",
       "heavy intensity rain    584.590909\n",
       "light rain              755.091752\n",
       "moderate rain           671.980392\n",
       "Name: num_passengers, dtype: float64"
      ]
     },
     "execution_count": 21,
     "metadata": {},
     "output_type": "execute_result"
    }
   ],
   "source": [
    "rain_df[\"num_passengers\"]"
   ]
  },
  {
   "cell_type": "code",
   "execution_count": 24,
   "metadata": {},
   "outputs": [
    {
     "data": {
      "text/plain": [
       "[<matplotlib.lines.Line2D at 0x7fe728b78ac8>]"
      ]
     },
     "execution_count": 24,
     "metadata": {},
     "output_type": "execute_result"
    },
    {
     "data": {
      "image/png": "[encoded data removed]",
      "text/plain": [
       "<matplotlib.figure.Figure at 0x7fe728b4a4a8>"
      ]
     },
     "metadata": {},
     "output_type": "display_data"
    }
   ],
   "source": [
    "fig, ax = plt.subplots(1, 1, figsize=(14, 8))\n",
    "rain_df.num_pickups.plot(kind=\"bar\", ax = ax)\n",
    "ax.plot(range(3), rain_df[\"num_passengers\"], marker = \"o\")\n",
    "\n",
    "# plt.xticks(check.index, check[\"weather_description\"])\n",
    "# plt.xlabel(\"Rain Weather Types\")\n",
    "# plt.ylabel(\"Number of Passengers\")\n",
    "# plt.title(\"Effect of Rainy Weather on Average Taxi Pickups and Average Passenger Count per Hour\")\n",
    "# plt.legend()\n",
    "# plt.show()\n",
    "\n",
    "# sns.barplot(x = \"weather_description\", y = \"pickup_count\", data=check)\n"
   ]
  },
  {
   "cell_type": "code",
   "execution_count": 25,
   "metadata": {},
   "outputs": [],
   "source": [
    "snow_df = df.loc[\"snow\"]"
   ]
  },
  {
   "cell_type": "code",
   "execution_count": 26,
   "metadata": {},
   "outputs": [
    {
     "data": {
      "text/html": [
       "<div>\n",
       "<style scoped>\n",
       "    .dataframe tbody tr th:only-of-type {\n",
       "        vertical-align: middle;\n",
       "    }\n",
       "\n",
       "    .dataframe tbody tr th {\n",
       "        vertical-align: top;\n",
       "    }\n",
       "\n",
       "    .dataframe thead th {\n",
       "        text-align: right;\n",
       "    }\n",
       "</style>\n",
       "<table border=\"1\" class=\"dataframe\">\n",
       "  <thead>\n",
       "    <tr style=\"text-align: right;\">\n",
       "      <th></th>\n",
       "      <th>num_pickups</th>\n",
       "      <th>num_passengers</th>\n",
       "    </tr>\n",
       "    <tr>\n",
       "      <th>weather_description</th>\n",
       "      <th></th>\n",
       "      <th></th>\n",
       "    </tr>\n",
       "  </thead>\n",
       "  <tbody>\n",
       "    <tr>\n",
       "      <th>heavy snow</th>\n",
       "      <td>145.642857</td>\n",
       "      <td>244.571429</td>\n",
       "    </tr>\n",
       "    <tr>\n",
       "      <th>light snow</th>\n",
       "      <td>316.782857</td>\n",
       "      <td>550.341040</td>\n",
       "    </tr>\n",
       "    <tr>\n",
       "      <th>snow</th>\n",
       "      <td>427.666667</td>\n",
       "      <td>715.916667</td>\n",
       "    </tr>\n",
       "  </tbody>\n",
       "</table>\n",
       "</div>"
      ],
      "text/plain": [
       "                     num_pickups  num_passengers\n",
       "weather_description                             \n",
       "heavy snow            145.642857      244.571429\n",
       "light snow            316.782857      550.341040\n",
       "snow                  427.666667      715.916667"
      ]
     },
     "execution_count": 26,
     "metadata": {},
     "output_type": "execute_result"
    }
   ],
   "source": [
    "snow_df"
   ]
  },
  {
   "cell_type": "code",
   "execution_count": 27,
   "metadata": {},
   "outputs": [
    {
     "data": {
      "text/plain": [
       "[<matplotlib.lines.Line2D at 0x7fe728a9ed68>]"
      ]
     },
     "execution_count": 27,
     "metadata": {},
     "output_type": "execute_result"
    },
    {
     "data": {
      "image/png": "[encoded data removed]",
      "text/plain": [
       "<matplotlib.figure.Figure at 0x7fe728b6ac88>"
      ]
     },
     "metadata": {},
     "output_type": "display_data"
    }
   ],
   "source": [
    "fig, ax = plt.subplots(1, 1, figsize=(14, 8))\n",
    "snow_df.num_pickups.plot(kind=\"bar\", ax = ax)\n",
    "ax.plot(range(3), snow_df[\"num_passengers\"], marker = \"o\")"
   ]
  },
  {
   "cell_type": "code",
   "execution_count": 28,
   "metadata": {},
   "outputs": [],
   "source": [
    "thunder_df = df.loc[\"thunderstorm\"]"
   ]
  },
  {
   "cell_type": "code",
   "execution_count": 29,
   "metadata": {},
   "outputs": [
    {
     "data": {
      "text/html": [
       "<div>\n",
       "<style scoped>\n",
       "    .dataframe tbody tr th:only-of-type {\n",
       "        vertical-align: middle;\n",
       "    }\n",
       "\n",
       "    .dataframe tbody tr th {\n",
       "        vertical-align: top;\n",
       "    }\n",
       "\n",
       "    .dataframe thead th {\n",
       "        text-align: right;\n",
       "    }\n",
       "</style>\n",
       "<table border=\"1\" class=\"dataframe\">\n",
       "  <thead>\n",
       "    <tr style=\"text-align: right;\">\n",
       "      <th></th>\n",
       "      <th>num_pickups</th>\n",
       "      <th>num_passengers</th>\n",
       "    </tr>\n",
       "    <tr>\n",
       "      <th>weather_description</th>\n",
       "      <th></th>\n",
       "      <th></th>\n",
       "    </tr>\n",
       "  </thead>\n",
       "  <tbody>\n",
       "    <tr>\n",
       "      <th>proximity thunderstorm</th>\n",
       "      <td>569.434783</td>\n",
       "      <td>983.652174</td>\n",
       "    </tr>\n",
       "    <tr>\n",
       "      <th>thunderstorm</th>\n",
       "      <td>473.285714</td>\n",
       "      <td>841.205882</td>\n",
       "    </tr>\n",
       "  </tbody>\n",
       "</table>\n",
       "</div>"
      ],
      "text/plain": [
       "                        num_pickups  num_passengers\n",
       "weather_description                                \n",
       "proximity thunderstorm   569.434783      983.652174\n",
       "thunderstorm             473.285714      841.205882"
      ]
     },
     "execution_count": 29,
     "metadata": {},
     "output_type": "execute_result"
    }
   ],
   "source": [
    "thunder_df"
   ]
  },
  {
   "cell_type": "code",
   "execution_count": 30,
   "metadata": {},
   "outputs": [
    {
     "data": {
      "text/plain": [
       "[<matplotlib.lines.Line2D at 0x7fe728c1dd30>]"
      ]
     },
     "execution_count": 30,
     "metadata": {},
     "output_type": "execute_result"
    },
    {
     "data": {
      "image/png": "[encoded data removed]",
      "text/plain": [
       "<matplotlib.figure.Figure at 0x7fe728ae7780>"
      ]
     },
     "metadata": {},
     "output_type": "display_data"
    }
   ],
   "source": [
    "fig, ax = plt.subplots(1, 1, figsize=(14, 8))\n",
    "thunder_df.num_pickups.plot(kind=\"bar\", ax = ax)\n",
    "ax.plot(range(2), thunder_df[\"num_passengers\"], marker = \"o\")"
   ]
  },
  {
   "cell_type": "code",
   "execution_count": 34,
   "metadata": {},
   "outputs": [],
   "source": [
    "cloud_df = df.loc[\"clouds\"]"
   ]
  },
  {
   "cell_type": "code",
   "execution_count": 39,
   "metadata": {},
   "outputs": [],
   "source": [
    "cloud_df = cloud_df.loc[~cloud_df.index.str.contains(\",\"), :]"
   ]
  },
  {
   "cell_type": "code",
   "execution_count": 41,
   "metadata": {},
   "outputs": [
    {
     "data": {
      "text/html": [
       "<div>\n",
       "<style scoped>\n",
       "    .dataframe tbody tr th:only-of-type {\n",
       "        vertical-align: middle;\n",
       "    }\n",
       "\n",
       "    .dataframe tbody tr th {\n",
       "        vertical-align: top;\n",
       "    }\n",
       "\n",
       "    .dataframe thead th {\n",
       "        text-align: right;\n",
       "    }\n",
       "</style>\n",
       "<table border=\"1\" class=\"dataframe\">\n",
       "  <thead>\n",
       "    <tr style=\"text-align: right;\">\n",
       "      <th></th>\n",
       "      <th>num_pickups</th>\n",
       "      <th>num_passengers</th>\n",
       "    </tr>\n",
       "    <tr>\n",
       "      <th>weather_description</th>\n",
       "      <th></th>\n",
       "      <th></th>\n",
       "    </tr>\n",
       "  </thead>\n",
       "  <tbody>\n",
       "    <tr>\n",
       "      <th>broken clouds</th>\n",
       "      <td>461.312630</td>\n",
       "      <td>796.488883</td>\n",
       "    </tr>\n",
       "    <tr>\n",
       "      <th>few clouds</th>\n",
       "      <td>446.883523</td>\n",
       "      <td>772.156303</td>\n",
       "    </tr>\n",
       "    <tr>\n",
       "      <th>overcast clouds</th>\n",
       "      <td>374.334799</td>\n",
       "      <td>644.819688</td>\n",
       "    </tr>\n",
       "    <tr>\n",
       "      <th>scattered clouds</th>\n",
       "      <td>476.484249</td>\n",
       "      <td>823.851322</td>\n",
       "    </tr>\n",
       "  </tbody>\n",
       "</table>\n",
       "</div>"
      ],
      "text/plain": [
       "                     num_pickups  num_passengers\n",
       "weather_description                             \n",
       "broken clouds         461.312630      796.488883\n",
       "few clouds            446.883523      772.156303\n",
       "overcast clouds       374.334799      644.819688\n",
       "scattered clouds      476.484249      823.851322"
      ]
     },
     "execution_count": 41,
     "metadata": {},
     "output_type": "execute_result"
    }
   ],
   "source": [
    "cloud_df.head()"
   ]
  },
  {
   "cell_type": "code",
   "execution_count": 42,
   "metadata": {},
   "outputs": [
    {
     "data": {
      "text/plain": [
       "[<matplotlib.lines.Line2D at 0x7fe728c18be0>]"
      ]
     },
     "execution_count": 42,
     "metadata": {},
     "output_type": "execute_result"
    },
    {
     "data": {
      "image/png": "[encoded data removed]",
      "text/plain": [
       "<matplotlib.figure.Figure at 0x7fe732570ba8>"
      ]
     },
     "metadata": {},
     "output_type": "display_data"
    }
   ],
   "source": [
    "fig, ax = plt.subplots(1, 1, figsize=(14, 8))\n",
    "cloud_df.num_pickups.plot(kind=\"bar\", ax = ax)\n",
    "ax.plot(range(4), cloud_df[\"num_passengers\"], marker = \"o\")"
   ]
  },
  {
   "cell_type": "code",
   "execution_count": null,
   "metadata": {},
   "outputs": [],
   "source": []
  }
 ],
 "metadata": {
  "anaconda-cloud": {},
  "kernelspec": {
   "display_name": "Python 3",
   "language": "python",
   "name": "python3"
  },
  "language_info": {
   "codemirror_mode": {
    "name": "ipython",
    "version": 3
   },
   "file_extension": ".py",
   "mimetype": "text/x-python",
   "name": "python",
   "nbconvert_exporter": "python",
   "pygments_lexer": "ipython3",
   "version": "3.6.3"
  }
 },
 "nbformat": 4,
 "nbformat_minor": 2
}
