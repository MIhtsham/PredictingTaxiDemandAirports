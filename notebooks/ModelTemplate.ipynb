{
 "cells": [
  {
   "cell_type": "markdown",
   "metadata": {},
   "source": [
    "### Import Statements"
   ]
  },
  {
   "cell_type": "code",
   "execution_count": 37,
   "metadata": {
    "collapsed": true
   },
   "outputs": [],
   "source": [
    "from sklearn.linear_model import Ridge, LinearRegression, Lasso, RidgeCV, LassoCV\n",
    "from sklearn.preprocessing import StandardScaler, RobustScaler, MinMaxScaler, Normalizer\n",
    "from sklearn.model_selection import cross_val_score\n",
    "from sklearn.preprocessing import PolynomialFeatures\n",
    "from sklearn.model_selection import GridSearchCV, RandomizedSearchCV\n",
    "from sklearn.pipeline import make_pipeline\n",
    "from sklearn.feature_selection import VarianceThreshold\n",
    "from sklearn.ensemble import RandomForestRegressor, BaggingRegressor, GradientBoostingRegressor, AdaBoostRegressor\n",
    "from sklearn.neighbors import KNeighborsRegressor\n",
    "from sklearn.svm import SVR\n",
    "import pandas as pd\n",
    "import numpy as np\n",
    "import matplotlib.pyplot as plt\n",
    "from sklearn.utils import shuffle\n",
    "from sklearn.model_selection import train_test_split\n",
    "from xgboost import XGBRegressor\n",
    "import seaborn as sns\n",
    "\n",
    "%matplotlib inline\n",
    "# plt.style.use(\"ggplot\")\n",
    "sns.set_style(\"darkgrid\")"
   ]
  },
  {
   "cell_type": "code",
   "execution_count": 2,
   "metadata": {
    "collapsed": true
   },
   "outputs": [],
   "source": [
    "pd.set_option('display.max_columns', 500)\n",
    "pd.set_option('display.max_rows', 500)"
   ]
  },
  {
   "cell_type": "markdown",
   "metadata": {},
   "source": [
    "### Read the Data"
   ]
  },
  {
   "cell_type": "code",
   "execution_count": 3,
   "metadata": {
    "collapsed": true
   },
   "outputs": [],
   "source": [
    "data = pd.read_csv(\"../clean_data/FinalData_for_Models.csv\")"
   ]
  },
  {
   "cell_type": "code",
   "execution_count": 4,
   "metadata": {
    "collapsed": true
   },
   "outputs": [],
   "source": [
    "data.rename(columns={'Unnamed: 0':'pickup_time'}, inplace=True)"
   ]
  },
  {
   "cell_type": "code",
   "execution_count": 5,
   "metadata": {},
   "outputs": [
    {
     "data": {
      "text/html": [
       "<div>\n",
       "<style scoped>\n",
       "    .dataframe tbody tr th:only-of-type {\n",
       "        vertical-align: middle;\n",
       "    }\n",
       "\n",
       "    .dataframe tbody tr th {\n",
       "        vertical-align: top;\n",
       "    }\n",
       "\n",
       "    .dataframe thead th {\n",
       "        text-align: right;\n",
       "    }\n",
       "</style>\n",
       "<table border=\"1\" class=\"dataframe\">\n",
       "  <thead>\n",
       "    <tr style=\"text-align: right;\">\n",
       "      <th></th>\n",
       "      <th>pickup_time</th>\n",
       "      <th>num_pickups</th>\n",
       "      <th>num_passengers</th>\n",
       "      <th>missing_dt</th>\n",
       "      <th>temp</th>\n",
       "      <th>temp_min</th>\n",
       "      <th>temp_max</th>\n",
       "      <th>humidity</th>\n",
       "      <th>wind_speed</th>\n",
       "      <th>weather_main</th>\n",
       "      <th>weather_description</th>\n",
       "      <th>Passengers</th>\n",
       "      <th>Month</th>\n",
       "      <th>Hour</th>\n",
       "      <th>Day</th>\n",
       "      <th>holiday</th>\n",
       "      <th>precip_in</th>\n",
       "      <th>Avg_Delay_Arriving</th>\n",
       "      <th>Avg_Delay_Departing</th>\n",
       "      <th>Cancelled_Arriving_Flights</th>\n",
       "      <th>Cancelled_Departing_Flights</th>\n",
       "    </tr>\n",
       "  </thead>\n",
       "  <tbody>\n",
       "    <tr>\n",
       "      <th>0</th>\n",
       "      <td>2014-01-01 00:00:00-05:00</td>\n",
       "      <td>107.0</td>\n",
       "      <td>210.0</td>\n",
       "      <td>False</td>\n",
       "      <td>269.27</td>\n",
       "      <td>267.59</td>\n",
       "      <td>270.93</td>\n",
       "      <td>80.0</td>\n",
       "      <td>3.0</td>\n",
       "      <td>clear</td>\n",
       "      <td>sky is clear</td>\n",
       "      <td>108.0</td>\n",
       "      <td>1</td>\n",
       "      <td>0</td>\n",
       "      <td>2</td>\n",
       "      <td>True</td>\n",
       "      <td>0.0</td>\n",
       "      <td>0.0</td>\n",
       "      <td>0.0</td>\n",
       "      <td>0.0</td>\n",
       "      <td>0.0</td>\n",
       "    </tr>\n",
       "    <tr>\n",
       "      <th>1</th>\n",
       "      <td>2014-01-01 01:00:00-05:00</td>\n",
       "      <td>34.0</td>\n",
       "      <td>45.0</td>\n",
       "      <td>False</td>\n",
       "      <td>268.90</td>\n",
       "      <td>267.04</td>\n",
       "      <td>270.93</td>\n",
       "      <td>80.0</td>\n",
       "      <td>2.0</td>\n",
       "      <td>clear</td>\n",
       "      <td>sky is clear</td>\n",
       "      <td>0.0</td>\n",
       "      <td>1</td>\n",
       "      <td>1</td>\n",
       "      <td>2</td>\n",
       "      <td>True</td>\n",
       "      <td>0.0</td>\n",
       "      <td>0.0</td>\n",
       "      <td>0.0</td>\n",
       "      <td>0.0</td>\n",
       "      <td>0.0</td>\n",
       "    </tr>\n",
       "    <tr>\n",
       "      <th>2</th>\n",
       "      <td>2014-01-01 02:00:00-05:00</td>\n",
       "      <td>34.0</td>\n",
       "      <td>70.0</td>\n",
       "      <td>False</td>\n",
       "      <td>268.48</td>\n",
       "      <td>266.48</td>\n",
       "      <td>270.37</td>\n",
       "      <td>57.0</td>\n",
       "      <td>3.0</td>\n",
       "      <td>clear</td>\n",
       "      <td>sky is clear</td>\n",
       "      <td>0.0</td>\n",
       "      <td>1</td>\n",
       "      <td>2</td>\n",
       "      <td>2</td>\n",
       "      <td>True</td>\n",
       "      <td>0.0</td>\n",
       "      <td>0.0</td>\n",
       "      <td>0.0</td>\n",
       "      <td>0.0</td>\n",
       "      <td>0.0</td>\n",
       "    </tr>\n",
       "    <tr>\n",
       "      <th>3</th>\n",
       "      <td>2014-01-01 03:00:00-05:00</td>\n",
       "      <td>12.0</td>\n",
       "      <td>18.0</td>\n",
       "      <td>False</td>\n",
       "      <td>268.33</td>\n",
       "      <td>265.93</td>\n",
       "      <td>270.37</td>\n",
       "      <td>80.0</td>\n",
       "      <td>3.0</td>\n",
       "      <td>clear</td>\n",
       "      <td>sky is clear</td>\n",
       "      <td>0.0</td>\n",
       "      <td>1</td>\n",
       "      <td>3</td>\n",
       "      <td>2</td>\n",
       "      <td>True</td>\n",
       "      <td>0.0</td>\n",
       "      <td>291.0</td>\n",
       "      <td>0.0</td>\n",
       "      <td>0.0</td>\n",
       "      <td>0.0</td>\n",
       "    </tr>\n",
       "    <tr>\n",
       "      <th>4</th>\n",
       "      <td>2014-01-01 04:00:00-05:00</td>\n",
       "      <td>25.0</td>\n",
       "      <td>37.0</td>\n",
       "      <td>False</td>\n",
       "      <td>268.10</td>\n",
       "      <td>265.37</td>\n",
       "      <td>270.37</td>\n",
       "      <td>80.0</td>\n",
       "      <td>3.0</td>\n",
       "      <td>clear</td>\n",
       "      <td>sky is clear</td>\n",
       "      <td>0.0</td>\n",
       "      <td>1</td>\n",
       "      <td>4</td>\n",
       "      <td>2</td>\n",
       "      <td>True</td>\n",
       "      <td>0.0</td>\n",
       "      <td>0.0</td>\n",
       "      <td>0.0</td>\n",
       "      <td>0.0</td>\n",
       "      <td>0.0</td>\n",
       "    </tr>\n",
       "  </tbody>\n",
       "</table>\n",
       "</div>"
      ],
      "text/plain": [
       "                 pickup_time  num_pickups  num_passengers  missing_dt    temp  \\\n",
       "0  2014-01-01 00:00:00-05:00        107.0           210.0       False  269.27   \n",
       "1  2014-01-01 01:00:00-05:00         34.0            45.0       False  268.90   \n",
       "2  2014-01-01 02:00:00-05:00         34.0            70.0       False  268.48   \n",
       "3  2014-01-01 03:00:00-05:00         12.0            18.0       False  268.33   \n",
       "4  2014-01-01 04:00:00-05:00         25.0            37.0       False  268.10   \n",
       "\n",
       "   temp_min  temp_max  humidity  wind_speed weather_main weather_description  \\\n",
       "0    267.59    270.93      80.0         3.0        clear        sky is clear   \n",
       "1    267.04    270.93      80.0         2.0        clear        sky is clear   \n",
       "2    266.48    270.37      57.0         3.0        clear        sky is clear   \n",
       "3    265.93    270.37      80.0         3.0        clear        sky is clear   \n",
       "4    265.37    270.37      80.0         3.0        clear        sky is clear   \n",
       "\n",
       "   Passengers  Month  Hour  Day  holiday  precip_in  Avg_Delay_Arriving  \\\n",
       "0       108.0      1     0    2     True        0.0                 0.0   \n",
       "1         0.0      1     1    2     True        0.0                 0.0   \n",
       "2         0.0      1     2    2     True        0.0                 0.0   \n",
       "3         0.0      1     3    2     True        0.0               291.0   \n",
       "4         0.0      1     4    2     True        0.0                 0.0   \n",
       "\n",
       "   Avg_Delay_Departing  Cancelled_Arriving_Flights  \\\n",
       "0                  0.0                         0.0   \n",
       "1                  0.0                         0.0   \n",
       "2                  0.0                         0.0   \n",
       "3                  0.0                         0.0   \n",
       "4                  0.0                         0.0   \n",
       "\n",
       "   Cancelled_Departing_Flights  \n",
       "0                          0.0  \n",
       "1                          0.0  \n",
       "2                          0.0  \n",
       "3                          0.0  \n",
       "4                          0.0  "
      ]
     },
     "execution_count": 5,
     "metadata": {},
     "output_type": "execute_result"
    }
   ],
   "source": [
    "data.head()"
   ]
  },
  {
   "cell_type": "code",
   "execution_count": 6,
   "metadata": {
    "collapsed": true
   },
   "outputs": [],
   "source": [
    "## ignoring the missing data values in 2016\n",
    "data = data.loc[data.missing_dt == False, :]\n",
    "data.drop(\"missing_dt\", axis=1, inplace=True)"
   ]
  },
  {
   "cell_type": "code",
   "execution_count": 7,
   "metadata": {},
   "outputs": [
    {
     "data": {
      "text/plain": [
       "(26230, 20)"
      ]
     },
     "execution_count": 7,
     "metadata": {},
     "output_type": "execute_result"
    }
   ],
   "source": [
    "data.shape"
   ]
  },
  {
   "cell_type": "markdown",
   "metadata": {},
   "source": [
    "### Creating Dummies for Weather Data"
   ]
  },
  {
   "cell_type": "code",
   "execution_count": 8,
   "metadata": {
    "collapsed": true
   },
   "outputs": [],
   "source": [
    "## for weather main\n",
    "data_wm_dummies = data['weather_main'].str.split(\",\").str.join(\"*\").str.get_dummies(sep='*')"
   ]
  },
  {
   "cell_type": "code",
   "execution_count": 9,
   "metadata": {
    "collapsed": true
   },
   "outputs": [],
   "source": [
    "## for weather description\n",
    "data_wd_dummies = data['weather_description'].str.split(\",\").str.join(\"*\").str.get_dummies(sep='*')"
   ]
  },
  {
   "cell_type": "code",
   "execution_count": 10,
   "metadata": {
    "collapsed": true
   },
   "outputs": [],
   "source": [
    "data.drop([\"weather_main\", \"weather_description\"], axis=1, inplace=True)"
   ]
  },
  {
   "cell_type": "code",
   "execution_count": 11,
   "metadata": {
    "collapsed": true
   },
   "outputs": [],
   "source": [
    "data = pd.concat([data, data_wm_dummies], axis=1)"
   ]
  },
  {
   "cell_type": "code",
   "execution_count": 12,
   "metadata": {},
   "outputs": [
    {
     "data": {
      "text/plain": [
       "(26230, 24)"
      ]
     },
     "execution_count": 12,
     "metadata": {},
     "output_type": "execute_result"
    }
   ],
   "source": [
    "data.shape"
   ]
  },
  {
   "cell_type": "code",
   "execution_count": 13,
   "metadata": {},
   "outputs": [
    {
     "data": {
      "text/html": [
       "<div>\n",
       "<style scoped>\n",
       "    .dataframe tbody tr th:only-of-type {\n",
       "        vertical-align: middle;\n",
       "    }\n",
       "\n",
       "    .dataframe tbody tr th {\n",
       "        vertical-align: top;\n",
       "    }\n",
       "\n",
       "    .dataframe thead th {\n",
       "        text-align: right;\n",
       "    }\n",
       "</style>\n",
       "<table border=\"1\" class=\"dataframe\">\n",
       "  <thead>\n",
       "    <tr style=\"text-align: right;\">\n",
       "      <th></th>\n",
       "      <th>pickup_time</th>\n",
       "      <th>num_pickups</th>\n",
       "      <th>num_passengers</th>\n",
       "      <th>temp</th>\n",
       "      <th>temp_min</th>\n",
       "      <th>temp_max</th>\n",
       "      <th>humidity</th>\n",
       "      <th>wind_speed</th>\n",
       "      <th>Passengers</th>\n",
       "      <th>Month</th>\n",
       "      <th>Hour</th>\n",
       "      <th>Day</th>\n",
       "      <th>holiday</th>\n",
       "      <th>precip_in</th>\n",
       "      <th>Avg_Delay_Arriving</th>\n",
       "      <th>Avg_Delay_Departing</th>\n",
       "      <th>Cancelled_Arriving_Flights</th>\n",
       "      <th>Cancelled_Departing_Flights</th>\n",
       "      <th>clear</th>\n",
       "      <th>clouds</th>\n",
       "      <th>fog</th>\n",
       "      <th>rain</th>\n",
       "      <th>snow</th>\n",
       "      <th>thunderstorm</th>\n",
       "    </tr>\n",
       "  </thead>\n",
       "  <tbody>\n",
       "    <tr>\n",
       "      <th>0</th>\n",
       "      <td>2014-01-01 00:00:00-05:00</td>\n",
       "      <td>107.0</td>\n",
       "      <td>210.0</td>\n",
       "      <td>269.27</td>\n",
       "      <td>267.59</td>\n",
       "      <td>270.93</td>\n",
       "      <td>80.0</td>\n",
       "      <td>3.0</td>\n",
       "      <td>108.0</td>\n",
       "      <td>1</td>\n",
       "      <td>0</td>\n",
       "      <td>2</td>\n",
       "      <td>True</td>\n",
       "      <td>0.0</td>\n",
       "      <td>0.0</td>\n",
       "      <td>0.0</td>\n",
       "      <td>0.0</td>\n",
       "      <td>0.0</td>\n",
       "      <td>1</td>\n",
       "      <td>0</td>\n",
       "      <td>0</td>\n",
       "      <td>0</td>\n",
       "      <td>0</td>\n",
       "      <td>0</td>\n",
       "    </tr>\n",
       "    <tr>\n",
       "      <th>1</th>\n",
       "      <td>2014-01-01 01:00:00-05:00</td>\n",
       "      <td>34.0</td>\n",
       "      <td>45.0</td>\n",
       "      <td>268.90</td>\n",
       "      <td>267.04</td>\n",
       "      <td>270.93</td>\n",
       "      <td>80.0</td>\n",
       "      <td>2.0</td>\n",
       "      <td>0.0</td>\n",
       "      <td>1</td>\n",
       "      <td>1</td>\n",
       "      <td>2</td>\n",
       "      <td>True</td>\n",
       "      <td>0.0</td>\n",
       "      <td>0.0</td>\n",
       "      <td>0.0</td>\n",
       "      <td>0.0</td>\n",
       "      <td>0.0</td>\n",
       "      <td>1</td>\n",
       "      <td>0</td>\n",
       "      <td>0</td>\n",
       "      <td>0</td>\n",
       "      <td>0</td>\n",
       "      <td>0</td>\n",
       "    </tr>\n",
       "    <tr>\n",
       "      <th>2</th>\n",
       "      <td>2014-01-01 02:00:00-05:00</td>\n",
       "      <td>34.0</td>\n",
       "      <td>70.0</td>\n",
       "      <td>268.48</td>\n",
       "      <td>266.48</td>\n",
       "      <td>270.37</td>\n",
       "      <td>57.0</td>\n",
       "      <td>3.0</td>\n",
       "      <td>0.0</td>\n",
       "      <td>1</td>\n",
       "      <td>2</td>\n",
       "      <td>2</td>\n",
       "      <td>True</td>\n",
       "      <td>0.0</td>\n",
       "      <td>0.0</td>\n",
       "      <td>0.0</td>\n",
       "      <td>0.0</td>\n",
       "      <td>0.0</td>\n",
       "      <td>1</td>\n",
       "      <td>0</td>\n",
       "      <td>0</td>\n",
       "      <td>0</td>\n",
       "      <td>0</td>\n",
       "      <td>0</td>\n",
       "    </tr>\n",
       "    <tr>\n",
       "      <th>3</th>\n",
       "      <td>2014-01-01 03:00:00-05:00</td>\n",
       "      <td>12.0</td>\n",
       "      <td>18.0</td>\n",
       "      <td>268.33</td>\n",
       "      <td>265.93</td>\n",
       "      <td>270.37</td>\n",
       "      <td>80.0</td>\n",
       "      <td>3.0</td>\n",
       "      <td>0.0</td>\n",
       "      <td>1</td>\n",
       "      <td>3</td>\n",
       "      <td>2</td>\n",
       "      <td>True</td>\n",
       "      <td>0.0</td>\n",
       "      <td>291.0</td>\n",
       "      <td>0.0</td>\n",
       "      <td>0.0</td>\n",
       "      <td>0.0</td>\n",
       "      <td>1</td>\n",
       "      <td>0</td>\n",
       "      <td>0</td>\n",
       "      <td>0</td>\n",
       "      <td>0</td>\n",
       "      <td>0</td>\n",
       "    </tr>\n",
       "    <tr>\n",
       "      <th>4</th>\n",
       "      <td>2014-01-01 04:00:00-05:00</td>\n",
       "      <td>25.0</td>\n",
       "      <td>37.0</td>\n",
       "      <td>268.10</td>\n",
       "      <td>265.37</td>\n",
       "      <td>270.37</td>\n",
       "      <td>80.0</td>\n",
       "      <td>3.0</td>\n",
       "      <td>0.0</td>\n",
       "      <td>1</td>\n",
       "      <td>4</td>\n",
       "      <td>2</td>\n",
       "      <td>True</td>\n",
       "      <td>0.0</td>\n",
       "      <td>0.0</td>\n",
       "      <td>0.0</td>\n",
       "      <td>0.0</td>\n",
       "      <td>0.0</td>\n",
       "      <td>1</td>\n",
       "      <td>0</td>\n",
       "      <td>0</td>\n",
       "      <td>0</td>\n",
       "      <td>0</td>\n",
       "      <td>0</td>\n",
       "    </tr>\n",
       "  </tbody>\n",
       "</table>\n",
       "</div>"
      ],
      "text/plain": [
       "                 pickup_time  num_pickups  num_passengers    temp  temp_min  \\\n",
       "0  2014-01-01 00:00:00-05:00        107.0           210.0  269.27    267.59   \n",
       "1  2014-01-01 01:00:00-05:00         34.0            45.0  268.90    267.04   \n",
       "2  2014-01-01 02:00:00-05:00         34.0            70.0  268.48    266.48   \n",
       "3  2014-01-01 03:00:00-05:00         12.0            18.0  268.33    265.93   \n",
       "4  2014-01-01 04:00:00-05:00         25.0            37.0  268.10    265.37   \n",
       "\n",
       "   temp_max  humidity  wind_speed  Passengers  Month  Hour  Day  holiday  \\\n",
       "0    270.93      80.0         3.0       108.0      1     0    2     True   \n",
       "1    270.93      80.0         2.0         0.0      1     1    2     True   \n",
       "2    270.37      57.0         3.0         0.0      1     2    2     True   \n",
       "3    270.37      80.0         3.0         0.0      1     3    2     True   \n",
       "4    270.37      80.0         3.0         0.0      1     4    2     True   \n",
       "\n",
       "   precip_in  Avg_Delay_Arriving  Avg_Delay_Departing  \\\n",
       "0        0.0                 0.0                  0.0   \n",
       "1        0.0                 0.0                  0.0   \n",
       "2        0.0                 0.0                  0.0   \n",
       "3        0.0               291.0                  0.0   \n",
       "4        0.0                 0.0                  0.0   \n",
       "\n",
       "   Cancelled_Arriving_Flights  Cancelled_Departing_Flights  clear  clouds  \\\n",
       "0                         0.0                          0.0      1       0   \n",
       "1                         0.0                          0.0      1       0   \n",
       "2                         0.0                          0.0      1       0   \n",
       "3                         0.0                          0.0      1       0   \n",
       "4                         0.0                          0.0      1       0   \n",
       "\n",
       "   fog  rain  snow  thunderstorm  \n",
       "0    0     0     0             0  \n",
       "1    0     0     0             0  \n",
       "2    0     0     0             0  \n",
       "3    0     0     0             0  \n",
       "4    0     0     0             0  "
      ]
     },
     "execution_count": 13,
     "metadata": {},
     "output_type": "execute_result"
    }
   ],
   "source": [
    "data.head()"
   ]
  },
  {
   "cell_type": "markdown",
   "metadata": {},
   "source": [
    "** Remark : We can choose to only include weather main categories or weather description also alongwith <br> TRY BOTH OF THEM FOR MODELS **"
   ]
  },
  {
   "cell_type": "markdown",
   "metadata": {},
   "source": [
    "### Modifying Boolean Data Columns (Holiday)"
   ]
  },
  {
   "cell_type": "code",
   "execution_count": 14,
   "metadata": {
    "collapsed": true
   },
   "outputs": [],
   "source": [
    "data['holiday'] = data.holiday.astype(int)"
   ]
  },
  {
   "cell_type": "code",
   "execution_count": 15,
   "metadata": {},
   "outputs": [
    {
     "data": {
      "text/html": [
       "<div>\n",
       "<style scoped>\n",
       "    .dataframe tbody tr th:only-of-type {\n",
       "        vertical-align: middle;\n",
       "    }\n",
       "\n",
       "    .dataframe tbody tr th {\n",
       "        vertical-align: top;\n",
       "    }\n",
       "\n",
       "    .dataframe thead th {\n",
       "        text-align: right;\n",
       "    }\n",
       "</style>\n",
       "<table border=\"1\" class=\"dataframe\">\n",
       "  <thead>\n",
       "    <tr style=\"text-align: right;\">\n",
       "      <th></th>\n",
       "      <th>pickup_time</th>\n",
       "      <th>num_pickups</th>\n",
       "      <th>num_passengers</th>\n",
       "      <th>temp</th>\n",
       "      <th>temp_min</th>\n",
       "      <th>temp_max</th>\n",
       "      <th>humidity</th>\n",
       "      <th>wind_speed</th>\n",
       "      <th>Passengers</th>\n",
       "      <th>Month</th>\n",
       "      <th>Hour</th>\n",
       "      <th>Day</th>\n",
       "      <th>holiday</th>\n",
       "      <th>precip_in</th>\n",
       "      <th>Avg_Delay_Arriving</th>\n",
       "      <th>Avg_Delay_Departing</th>\n",
       "      <th>Cancelled_Arriving_Flights</th>\n",
       "      <th>Cancelled_Departing_Flights</th>\n",
       "      <th>clear</th>\n",
       "      <th>clouds</th>\n",
       "      <th>fog</th>\n",
       "      <th>rain</th>\n",
       "      <th>snow</th>\n",
       "      <th>thunderstorm</th>\n",
       "    </tr>\n",
       "  </thead>\n",
       "  <tbody>\n",
       "    <tr>\n",
       "      <th>0</th>\n",
       "      <td>2014-01-01 00:00:00-05:00</td>\n",
       "      <td>107.0</td>\n",
       "      <td>210.0</td>\n",
       "      <td>269.27</td>\n",
       "      <td>267.59</td>\n",
       "      <td>270.93</td>\n",
       "      <td>80.0</td>\n",
       "      <td>3.0</td>\n",
       "      <td>108.0</td>\n",
       "      <td>1</td>\n",
       "      <td>0</td>\n",
       "      <td>2</td>\n",
       "      <td>1</td>\n",
       "      <td>0.0</td>\n",
       "      <td>0.0</td>\n",
       "      <td>0.0</td>\n",
       "      <td>0.0</td>\n",
       "      <td>0.0</td>\n",
       "      <td>1</td>\n",
       "      <td>0</td>\n",
       "      <td>0</td>\n",
       "      <td>0</td>\n",
       "      <td>0</td>\n",
       "      <td>0</td>\n",
       "    </tr>\n",
       "    <tr>\n",
       "      <th>1</th>\n",
       "      <td>2014-01-01 01:00:00-05:00</td>\n",
       "      <td>34.0</td>\n",
       "      <td>45.0</td>\n",
       "      <td>268.90</td>\n",
       "      <td>267.04</td>\n",
       "      <td>270.93</td>\n",
       "      <td>80.0</td>\n",
       "      <td>2.0</td>\n",
       "      <td>0.0</td>\n",
       "      <td>1</td>\n",
       "      <td>1</td>\n",
       "      <td>2</td>\n",
       "      <td>1</td>\n",
       "      <td>0.0</td>\n",
       "      <td>0.0</td>\n",
       "      <td>0.0</td>\n",
       "      <td>0.0</td>\n",
       "      <td>0.0</td>\n",
       "      <td>1</td>\n",
       "      <td>0</td>\n",
       "      <td>0</td>\n",
       "      <td>0</td>\n",
       "      <td>0</td>\n",
       "      <td>0</td>\n",
       "    </tr>\n",
       "    <tr>\n",
       "      <th>2</th>\n",
       "      <td>2014-01-01 02:00:00-05:00</td>\n",
       "      <td>34.0</td>\n",
       "      <td>70.0</td>\n",
       "      <td>268.48</td>\n",
       "      <td>266.48</td>\n",
       "      <td>270.37</td>\n",
       "      <td>57.0</td>\n",
       "      <td>3.0</td>\n",
       "      <td>0.0</td>\n",
       "      <td>1</td>\n",
       "      <td>2</td>\n",
       "      <td>2</td>\n",
       "      <td>1</td>\n",
       "      <td>0.0</td>\n",
       "      <td>0.0</td>\n",
       "      <td>0.0</td>\n",
       "      <td>0.0</td>\n",
       "      <td>0.0</td>\n",
       "      <td>1</td>\n",
       "      <td>0</td>\n",
       "      <td>0</td>\n",
       "      <td>0</td>\n",
       "      <td>0</td>\n",
       "      <td>0</td>\n",
       "    </tr>\n",
       "    <tr>\n",
       "      <th>3</th>\n",
       "      <td>2014-01-01 03:00:00-05:00</td>\n",
       "      <td>12.0</td>\n",
       "      <td>18.0</td>\n",
       "      <td>268.33</td>\n",
       "      <td>265.93</td>\n",
       "      <td>270.37</td>\n",
       "      <td>80.0</td>\n",
       "      <td>3.0</td>\n",
       "      <td>0.0</td>\n",
       "      <td>1</td>\n",
       "      <td>3</td>\n",
       "      <td>2</td>\n",
       "      <td>1</td>\n",
       "      <td>0.0</td>\n",
       "      <td>291.0</td>\n",
       "      <td>0.0</td>\n",
       "      <td>0.0</td>\n",
       "      <td>0.0</td>\n",
       "      <td>1</td>\n",
       "      <td>0</td>\n",
       "      <td>0</td>\n",
       "      <td>0</td>\n",
       "      <td>0</td>\n",
       "      <td>0</td>\n",
       "    </tr>\n",
       "    <tr>\n",
       "      <th>4</th>\n",
       "      <td>2014-01-01 04:00:00-05:00</td>\n",
       "      <td>25.0</td>\n",
       "      <td>37.0</td>\n",
       "      <td>268.10</td>\n",
       "      <td>265.37</td>\n",
       "      <td>270.37</td>\n",
       "      <td>80.0</td>\n",
       "      <td>3.0</td>\n",
       "      <td>0.0</td>\n",
       "      <td>1</td>\n",
       "      <td>4</td>\n",
       "      <td>2</td>\n",
       "      <td>1</td>\n",
       "      <td>0.0</td>\n",
       "      <td>0.0</td>\n",
       "      <td>0.0</td>\n",
       "      <td>0.0</td>\n",
       "      <td>0.0</td>\n",
       "      <td>1</td>\n",
       "      <td>0</td>\n",
       "      <td>0</td>\n",
       "      <td>0</td>\n",
       "      <td>0</td>\n",
       "      <td>0</td>\n",
       "    </tr>\n",
       "  </tbody>\n",
       "</table>\n",
       "</div>"
      ],
      "text/plain": [
       "                 pickup_time  num_pickups  num_passengers    temp  temp_min  \\\n",
       "0  2014-01-01 00:00:00-05:00        107.0           210.0  269.27    267.59   \n",
       "1  2014-01-01 01:00:00-05:00         34.0            45.0  268.90    267.04   \n",
       "2  2014-01-01 02:00:00-05:00         34.0            70.0  268.48    266.48   \n",
       "3  2014-01-01 03:00:00-05:00         12.0            18.0  268.33    265.93   \n",
       "4  2014-01-01 04:00:00-05:00         25.0            37.0  268.10    265.37   \n",
       "\n",
       "   temp_max  humidity  wind_speed  Passengers  Month  Hour  Day  holiday  \\\n",
       "0    270.93      80.0         3.0       108.0      1     0    2        1   \n",
       "1    270.93      80.0         2.0         0.0      1     1    2        1   \n",
       "2    270.37      57.0         3.0         0.0      1     2    2        1   \n",
       "3    270.37      80.0         3.0         0.0      1     3    2        1   \n",
       "4    270.37      80.0         3.0         0.0      1     4    2        1   \n",
       "\n",
       "   precip_in  Avg_Delay_Arriving  Avg_Delay_Departing  \\\n",
       "0        0.0                 0.0                  0.0   \n",
       "1        0.0                 0.0                  0.0   \n",
       "2        0.0                 0.0                  0.0   \n",
       "3        0.0               291.0                  0.0   \n",
       "4        0.0                 0.0                  0.0   \n",
       "\n",
       "   Cancelled_Arriving_Flights  Cancelled_Departing_Flights  clear  clouds  \\\n",
       "0                         0.0                          0.0      1       0   \n",
       "1                         0.0                          0.0      1       0   \n",
       "2                         0.0                          0.0      1       0   \n",
       "3                         0.0                          0.0      1       0   \n",
       "4                         0.0                          0.0      1       0   \n",
       "\n",
       "   fog  rain  snow  thunderstorm  \n",
       "0    0     0     0             0  \n",
       "1    0     0     0             0  \n",
       "2    0     0     0             0  \n",
       "3    0     0     0             0  \n",
       "4    0     0     0             0  "
      ]
     },
     "execution_count": 15,
     "metadata": {},
     "output_type": "execute_result"
    }
   ],
   "source": [
    "data.head()"
   ]
  },
  {
   "cell_type": "markdown",
   "metadata": {},
   "source": [
    "### Time Feature"
   ]
  },
  {
   "cell_type": "code",
   "execution_count": 16,
   "metadata": {
    "collapsed": true
   },
   "outputs": [],
   "source": [
    "data.rename(columns={'Hour':'HourOfDay'}, inplace=True)\n",
    "data.rename(columns={'Day':'DayOfWeek'}, inplace=True)"
   ]
  },
  {
   "cell_type": "code",
   "execution_count": 17,
   "metadata": {},
   "outputs": [
    {
     "data": {
      "text/html": [
       "<div>\n",
       "<style scoped>\n",
       "    .dataframe tbody tr th:only-of-type {\n",
       "        vertical-align: middle;\n",
       "    }\n",
       "\n",
       "    .dataframe tbody tr th {\n",
       "        vertical-align: top;\n",
       "    }\n",
       "\n",
       "    .dataframe thead th {\n",
       "        text-align: right;\n",
       "    }\n",
       "</style>\n",
       "<table border=\"1\" class=\"dataframe\">\n",
       "  <thead>\n",
       "    <tr style=\"text-align: right;\">\n",
       "      <th></th>\n",
       "      <th>pickup_time</th>\n",
       "      <th>num_pickups</th>\n",
       "      <th>num_passengers</th>\n",
       "      <th>temp</th>\n",
       "      <th>temp_min</th>\n",
       "      <th>temp_max</th>\n",
       "      <th>humidity</th>\n",
       "      <th>wind_speed</th>\n",
       "      <th>Passengers</th>\n",
       "      <th>Month</th>\n",
       "      <th>HourOfDay</th>\n",
       "      <th>DayOfWeek</th>\n",
       "      <th>holiday</th>\n",
       "      <th>precip_in</th>\n",
       "      <th>Avg_Delay_Arriving</th>\n",
       "      <th>Avg_Delay_Departing</th>\n",
       "      <th>Cancelled_Arriving_Flights</th>\n",
       "      <th>Cancelled_Departing_Flights</th>\n",
       "      <th>clear</th>\n",
       "      <th>clouds</th>\n",
       "      <th>fog</th>\n",
       "      <th>rain</th>\n",
       "      <th>snow</th>\n",
       "      <th>thunderstorm</th>\n",
       "    </tr>\n",
       "  </thead>\n",
       "  <tbody>\n",
       "    <tr>\n",
       "      <th>0</th>\n",
       "      <td>2014-01-01 00:00:00-05:00</td>\n",
       "      <td>107.0</td>\n",
       "      <td>210.0</td>\n",
       "      <td>269.27</td>\n",
       "      <td>267.59</td>\n",
       "      <td>270.93</td>\n",
       "      <td>80.0</td>\n",
       "      <td>3.0</td>\n",
       "      <td>108.0</td>\n",
       "      <td>1</td>\n",
       "      <td>0</td>\n",
       "      <td>2</td>\n",
       "      <td>1</td>\n",
       "      <td>0.0</td>\n",
       "      <td>0.0</td>\n",
       "      <td>0.0</td>\n",
       "      <td>0.0</td>\n",
       "      <td>0.0</td>\n",
       "      <td>1</td>\n",
       "      <td>0</td>\n",
       "      <td>0</td>\n",
       "      <td>0</td>\n",
       "      <td>0</td>\n",
       "      <td>0</td>\n",
       "    </tr>\n",
       "    <tr>\n",
       "      <th>1</th>\n",
       "      <td>2014-01-01 01:00:00-05:00</td>\n",
       "      <td>34.0</td>\n",
       "      <td>45.0</td>\n",
       "      <td>268.90</td>\n",
       "      <td>267.04</td>\n",
       "      <td>270.93</td>\n",
       "      <td>80.0</td>\n",
       "      <td>2.0</td>\n",
       "      <td>0.0</td>\n",
       "      <td>1</td>\n",
       "      <td>1</td>\n",
       "      <td>2</td>\n",
       "      <td>1</td>\n",
       "      <td>0.0</td>\n",
       "      <td>0.0</td>\n",
       "      <td>0.0</td>\n",
       "      <td>0.0</td>\n",
       "      <td>0.0</td>\n",
       "      <td>1</td>\n",
       "      <td>0</td>\n",
       "      <td>0</td>\n",
       "      <td>0</td>\n",
       "      <td>0</td>\n",
       "      <td>0</td>\n",
       "    </tr>\n",
       "  </tbody>\n",
       "</table>\n",
       "</div>"
      ],
      "text/plain": [
       "                 pickup_time  num_pickups  num_passengers    temp  temp_min  \\\n",
       "0  2014-01-01 00:00:00-05:00        107.0           210.0  269.27    267.59   \n",
       "1  2014-01-01 01:00:00-05:00         34.0            45.0  268.90    267.04   \n",
       "\n",
       "   temp_max  humidity  wind_speed  Passengers  Month  HourOfDay  DayOfWeek  \\\n",
       "0    270.93      80.0         3.0       108.0      1          0          2   \n",
       "1    270.93      80.0         2.0         0.0      1          1          2   \n",
       "\n",
       "   holiday  precip_in  Avg_Delay_Arriving  Avg_Delay_Departing  \\\n",
       "0        1        0.0                 0.0                  0.0   \n",
       "1        1        0.0                 0.0                  0.0   \n",
       "\n",
       "   Cancelled_Arriving_Flights  Cancelled_Departing_Flights  clear  clouds  \\\n",
       "0                         0.0                          0.0      1       0   \n",
       "1                         0.0                          0.0      1       0   \n",
       "\n",
       "   fog  rain  snow  thunderstorm  \n",
       "0    0     0     0             0  \n",
       "1    0     0     0             0  "
      ]
     },
     "execution_count": 17,
     "metadata": {},
     "output_type": "execute_result"
    }
   ],
   "source": [
    "data.head(2)"
   ]
  },
  {
   "cell_type": "code",
   "execution_count": 18,
   "metadata": {},
   "outputs": [
    {
     "data": {
      "text/plain": [
       "(26230, 24)"
      ]
     },
     "execution_count": 18,
     "metadata": {},
     "output_type": "execute_result"
    }
   ],
   "source": [
    "data.shape"
   ]
  },
  {
   "cell_type": "markdown",
   "metadata": {},
   "source": [
    "### Drop the Pickup Time and Number of Passengers"
   ]
  },
  {
   "cell_type": "code",
   "execution_count": 19,
   "metadata": {
    "collapsed": true
   },
   "outputs": [],
   "source": [
    "data.drop([\"pickup_time\", \"num_passengers\"], axis=1, inplace=True)"
   ]
  },
  {
   "cell_type": "markdown",
   "metadata": {},
   "source": [
    "## MODELS FOLLOW FROM HERE"
   ]
  },
  {
   "cell_type": "code",
   "execution_count": 20,
   "metadata": {
    "collapsed": true
   },
   "outputs": [],
   "source": [
    "## the labels (num_pickups)\n",
    "num_pickups = data.num_pickups\n",
    "data.drop(\"num_pickups\", axis=1, inplace=True)"
   ]
  },
  {
   "cell_type": "code",
   "execution_count": 21,
   "metadata": {
    "collapsed": true
   },
   "outputs": [],
   "source": [
    "X_train, X_test, y_train, y_test = train_test_split(data, num_pickups, random_state=0, test_size=0.1)"
   ]
  },
  {
   "cell_type": "markdown",
   "metadata": {},
   "source": [
    "## Ridge Regression"
   ]
  },
  {
   "cell_type": "code",
   "execution_count": 22,
   "metadata": {
    "collapsed": true
   },
   "outputs": [],
   "source": [
    "ridge_pipe = make_pipeline(StandardScaler(), VarianceThreshold(), Ridge())\n",
    "ridge_params = {'ridge__alpha' : [0.01, 0.1, 1.0, 10.0, 100.0, np.log(14)]}"
   ]
  },
  {
   "cell_type": "code",
   "execution_count": 23,
   "metadata": {
    "collapsed": true
   },
   "outputs": [],
   "source": [
    "ridge_grid = GridSearchCV(ridge_pipe, ridge_params, cv=3, scoring='r2')"
   ]
  },
  {
   "cell_type": "code",
   "execution_count": 24,
   "metadata": {},
   "outputs": [
    {
     "data": {
      "text/plain": [
       "GridSearchCV(cv=3, error_score='raise',\n",
       "       estimator=Pipeline(memory=None,\n",
       "     steps=[('standardscaler', StandardScaler(copy=True, with_mean=True, with_std=True)), ('variancethreshold', VarianceThreshold(threshold=0.0)), ('ridge', Ridge(alpha=1.0, copy_X=True, fit_intercept=True, max_iter=None,\n",
       "   normalize=False, random_state=None, solver='auto', tol=0.001))]),\n",
       "       fit_params=None, iid=True, n_jobs=1,\n",
       "       param_grid={'ridge__alpha': [0.01, 0.1, 1.0, 10.0, 100.0, 2.6390573296152584]},\n",
       "       pre_dispatch='2*n_jobs', refit=True, return_train_score='warn',\n",
       "       scoring='r2', verbose=0)"
      ]
     },
     "execution_count": 24,
     "metadata": {},
     "output_type": "execute_result"
    }
   ],
   "source": [
    "ridge_grid.fit(X_train, y_train)"
   ]
  },
  {
   "cell_type": "code",
   "execution_count": 25,
   "metadata": {},
   "outputs": [
    {
     "data": {
      "text/plain": [
       "{'ridge__alpha': 10.0}"
      ]
     },
     "execution_count": 25,
     "metadata": {},
     "output_type": "execute_result"
    }
   ],
   "source": [
    "ridge_grid.best_params_"
   ]
  },
  {
   "cell_type": "code",
   "execution_count": 26,
   "metadata": {},
   "outputs": [
    {
     "data": {
      "text/plain": [
       "0.62991310925248489"
      ]
     },
     "execution_count": 26,
     "metadata": {},
     "output_type": "execute_result"
    }
   ],
   "source": [
    "ridge_grid.best_score_"
   ]
  },
  {
   "cell_type": "markdown",
   "metadata": {},
   "source": [
    "## SVR"
   ]
  },
  {
   "cell_type": "code",
   "execution_count": 27,
   "metadata": {
    "collapsed": true
   },
   "outputs": [],
   "source": [
    "svr_pipe = make_pipeline(StandardScaler(), VarianceThreshold(), SVR())\n",
    "svr_params = {'svr__kernel' : ['linear', 'rbf', 'sigmoid'],\n",
    "             'svr__C' : [1.0, 10.0, 100.0],\n",
    "             'svr__epsilon' : [0.01, 0.05, 0.1, 0.5]}\n",
    "svr_grid = GridSearchCV(svr_pipe, svr_params, cv=3, scoring='r2', verbose=2, n_jobs=-1)"
   ]
  },
  {
   "cell_type": "code",
   "execution_count": 28,
   "metadata": {},
   "outputs": [
    {
     "name": "stdout",
     "output_type": "stream",
     "text": [
      "Fitting 3 folds for each of 36 candidates, totalling 108 fits\n",
      "[CV] svr__C=1.0, svr__epsilon=0.01, svr__kernel=linear ...............\n",
      "[CV] svr__C=1.0, svr__epsilon=0.01, svr__kernel=linear ...............\n",
      "[CV] svr__C=1.0, svr__epsilon=0.01, svr__kernel=linear ...............\n",
      "[CV] svr__C=1.0, svr__epsilon=0.01, svr__kernel=rbf ..................\n",
      "[CV] svr__C=1.0, svr__epsilon=0.01, svr__kernel=rbf ..................\n",
      "[CV] svr__C=1.0, svr__epsilon=0.01, svr__kernel=rbf ..................\n",
      "[CV] svr__C=1.0, svr__epsilon=0.01, svr__kernel=sigmoid ..............\n",
      "[CV] svr__C=1.0, svr__epsilon=0.01, svr__kernel=sigmoid ..............\n",
      "[CV] svr__C=1.0, svr__epsilon=0.01, svr__kernel=sigmoid ..............\n",
      "[CV] svr__C=1.0, svr__epsilon=0.05, svr__kernel=linear ...............\n",
      "[CV] svr__C=1.0, svr__epsilon=0.05, svr__kernel=rbf ..................\n",
      "[CV] svr__C=1.0, svr__epsilon=0.05, svr__kernel=rbf ..................\n",
      "[CV] svr__C=1.0, svr__epsilon=0.05, svr__kernel=linear ...............\n",
      "[CV] svr__C=1.0, svr__epsilon=0.05, svr__kernel=rbf ..................\n",
      "[CV] svr__C=1.0, svr__epsilon=0.05, svr__kernel=linear ...............\n",
      "[CV] svr__C=1.0, svr__epsilon=0.05, svr__kernel=sigmoid ..............\n",
      "[CV] svr__C=1.0, svr__epsilon=0.05, svr__kernel=sigmoid ..............\n",
      "[CV] svr__C=1.0, svr__epsilon=0.05, svr__kernel=sigmoid ..............\n",
      "[CV] svr__C=1.0, svr__epsilon=0.1, svr__kernel=linear ................\n",
      "[CV] svr__C=1.0, svr__epsilon=0.1, svr__kernel=linear ................\n",
      "[CV] svr__C=1.0, svr__epsilon=0.1, svr__kernel=linear ................\n",
      "[CV] svr__C=1.0, svr__epsilon=0.1, svr__kernel=rbf ...................\n",
      "[CV] svr__C=1.0, svr__epsilon=0.1, svr__kernel=rbf ...................\n",
      "[CV] svr__C=1.0, svr__epsilon=0.1, svr__kernel=rbf ...................\n",
      "[CV] . svr__C=1.0, svr__epsilon=0.1, svr__kernel=linear, total=  38.1s\n",
      "[CV] svr__C=1.0, svr__epsilon=0.1, svr__kernel=sigmoid ...............\n",
      "[CV]  svr__C=1.0, svr__epsilon=0.05, svr__kernel=linear, total=  38.9s\n",
      "[CV] svr__C=1.0, svr__epsilon=0.1, svr__kernel=sigmoid ...............\n",
      "[CV]  svr__C=1.0, svr__epsilon=0.01, svr__kernel=linear, total=  38.1s\n",
      "[CV] svr__C=1.0, svr__epsilon=0.1, svr__kernel=sigmoid ...............\n",
      "[CV]  svr__C=1.0, svr__epsilon=0.01, svr__kernel=linear, total=  41.0s\n",
      "[CV] svr__C=1.0, svr__epsilon=0.5, svr__kernel=linear ................\n",
      "[CV]  svr__C=1.0, svr__epsilon=0.05, svr__kernel=linear, total=  39.3s\n",
      "[CV] svr__C=1.0, svr__epsilon=0.5, svr__kernel=linear ................\n",
      "[CV] . svr__C=1.0, svr__epsilon=0.1, svr__kernel=linear, total=  39.6s\n",
      "[CV] svr__C=1.0, svr__epsilon=0.5, svr__kernel=linear ................\n",
      "[CV]  svr__C=1.0, svr__epsilon=0.01, svr__kernel=linear, total=  39.6s\n",
      "[CV] svr__C=1.0, svr__epsilon=0.5, svr__kernel=rbf ...................\n",
      "[CV]  svr__C=1.0, svr__epsilon=0.05, svr__kernel=linear, total=  40.3s\n",
      "[CV] svr__C=1.0, svr__epsilon=0.5, svr__kernel=rbf ...................\n",
      "[CV] . svr__C=1.0, svr__epsilon=0.1, svr__kernel=linear, total=  41.6s\n",
      "[CV] svr__C=1.0, svr__epsilon=0.5, svr__kernel=rbf ...................\n",
      "[CV]  svr__C=1.0, svr__epsilon=0.01, svr__kernel=sigmoid, total=  55.5s\n",
      "[CV] svr__C=1.0, svr__epsilon=0.5, svr__kernel=sigmoid ...............\n",
      "[CV] .... svr__C=1.0, svr__epsilon=0.1, svr__kernel=rbf, total=  57.4s\n",
      "[CV] svr__C=1.0, svr__epsilon=0.5, svr__kernel=sigmoid ...............\n",
      "[CV]  svr__C=1.0, svr__epsilon=0.01, svr__kernel=sigmoid, total=  54.9s\n",
      "[CV] svr__C=1.0, svr__epsilon=0.5, svr__kernel=sigmoid ...............\n",
      "[CV]  svr__C=1.0, svr__epsilon=0.01, svr__kernel=sigmoid, total=  53.9s\n",
      "[CV] svr__C=10.0, svr__epsilon=0.01, svr__kernel=linear ..............\n",
      "[CV]  svr__C=1.0, svr__epsilon=0.05, svr__kernel=sigmoid, total=  54.8s\n",
      "[CV] svr__C=10.0, svr__epsilon=0.01, svr__kernel=linear ..............\n",
      "[CV] ... svr__C=1.0, svr__epsilon=0.05, svr__kernel=rbf, total=  58.0s\n",
      "[CV] svr__C=10.0, svr__epsilon=0.01, svr__kernel=linear ..............\n",
      "[CV] ... svr__C=1.0, svr__epsilon=0.01, svr__kernel=rbf, total=  57.9s\n",
      "[CV] svr__C=10.0, svr__epsilon=0.01, svr__kernel=rbf .................\n",
      "[CV] ... svr__C=1.0, svr__epsilon=0.05, svr__kernel=rbf, total=  57.7s\n",
      "[CV] svr__C=10.0, svr__epsilon=0.01, svr__kernel=rbf .................\n",
      "[CV]  svr__C=1.0, svr__epsilon=0.05, svr__kernel=sigmoid, total=  55.9s\n",
      "[CV] svr__C=10.0, svr__epsilon=0.01, svr__kernel=rbf .................\n",
      "[CV]  svr__C=1.0, svr__epsilon=0.05, svr__kernel=sigmoid, total=  55.7s\n",
      "[CV] svr__C=10.0, svr__epsilon=0.01, svr__kernel=sigmoid .............\n",
      "[CV] ... svr__C=1.0, svr__epsilon=0.01, svr__kernel=rbf, total=  58.2s\n",
      "[CV] svr__C=10.0, svr__epsilon=0.01, svr__kernel=sigmoid .............\n",
      "[CV] .... svr__C=1.0, svr__epsilon=0.1, svr__kernel=rbf, total=  58.5s\n",
      "[CV] svr__C=10.0, svr__epsilon=0.01, svr__kernel=sigmoid .............\n",
      "[CV] ... svr__C=1.0, svr__epsilon=0.01, svr__kernel=rbf, total=  58.3s\n",
      "[CV] svr__C=10.0, svr__epsilon=0.05, svr__kernel=linear ..............\n",
      "[CV] ... svr__C=1.0, svr__epsilon=0.05, svr__kernel=rbf, total=  58.2s\n",
      "[CV] svr__C=10.0, svr__epsilon=0.05, svr__kernel=linear ..............\n",
      "[CV] .... svr__C=1.0, svr__epsilon=0.1, svr__kernel=rbf, total=  57.7s\n",
      "[CV] svr__C=10.0, svr__epsilon=0.05, svr__kernel=linear ..............\n",
      "[CV] . svr__C=1.0, svr__epsilon=0.5, svr__kernel=linear, total=  37.8s\n",
      "[CV] svr__C=10.0, svr__epsilon=0.05, svr__kernel=rbf .................\n",
      "[CV] . svr__C=1.0, svr__epsilon=0.5, svr__kernel=linear, total=  38.1s\n",
      "[CV] svr__C=10.0, svr__epsilon=0.05, svr__kernel=rbf .................\n",
      "[CV] . svr__C=1.0, svr__epsilon=0.5, svr__kernel=linear, total=  39.3s\n",
      "[CV] svr__C=10.0, svr__epsilon=0.05, svr__kernel=rbf .................\n",
      "[CV]  svr__C=1.0, svr__epsilon=0.1, svr__kernel=sigmoid, total=  50.9s\n",
      "[CV] svr__C=10.0, svr__epsilon=0.05, svr__kernel=sigmoid .............\n",
      "[CV]  svr__C=1.0, svr__epsilon=0.1, svr__kernel=sigmoid, total=  50.5s\n",
      "[CV] svr__C=10.0, svr__epsilon=0.05, svr__kernel=sigmoid .............\n",
      "[CV]  svr__C=1.0, svr__epsilon=0.1, svr__kernel=sigmoid, total=  52.1s\n",
      "[CV] svr__C=10.0, svr__epsilon=0.05, svr__kernel=sigmoid .............\n",
      "[CV]  svr__C=10.0, svr__epsilon=0.05, svr__kernel=linear, total=  38.9s\n",
      "[CV] svr__C=10.0, svr__epsilon=0.1, svr__kernel=linear ...............\n",
      "[CV] .... svr__C=1.0, svr__epsilon=0.5, svr__kernel=rbf, total=  55.4s\n",
      "[CV] svr__C=10.0, svr__epsilon=0.1, svr__kernel=linear ...............\n",
      "[CV]  svr__C=10.0, svr__epsilon=0.01, svr__kernel=linear, total=  39.4s\n",
      "[CV] svr__C=10.0, svr__epsilon=0.1, svr__kernel=linear ...............\n",
      "[CV]  svr__C=10.0, svr__epsilon=0.01, svr__kernel=linear, total=  39.3s\n",
      "[CV] svr__C=10.0, svr__epsilon=0.1, svr__kernel=rbf ..................\n",
      "[CV]  svr__C=10.0, svr__epsilon=0.01, svr__kernel=linear, total=  39.8s\n",
      "[CV] svr__C=10.0, svr__epsilon=0.1, svr__kernel=rbf ..................\n",
      "[CV] .... svr__C=1.0, svr__epsilon=0.5, svr__kernel=rbf, total=  56.4s\n",
      "[CV] svr__C=10.0, svr__epsilon=0.1, svr__kernel=rbf ..................\n",
      "[CV]  svr__C=10.0, svr__epsilon=0.05, svr__kernel=linear, total=  38.6s\n",
      "[CV] svr__C=10.0, svr__epsilon=0.1, svr__kernel=sigmoid ..............\n",
      "[CV]  svr__C=10.0, svr__epsilon=0.05, svr__kernel=linear, total=  41.7s\n",
      "[CV] svr__C=10.0, svr__epsilon=0.1, svr__kernel=sigmoid ..............\n",
      "[CV] .... svr__C=1.0, svr__epsilon=0.5, svr__kernel=rbf, total=  56.2s\n",
      "[CV] svr__C=10.0, svr__epsilon=0.1, svr__kernel=sigmoid ..............\n",
      "[CV]  svr__C=1.0, svr__epsilon=0.5, svr__kernel=sigmoid, total=  47.5s\n",
      "[CV] svr__C=10.0, svr__epsilon=0.5, svr__kernel=linear ...............\n",
      "[CV] .. svr__C=10.0, svr__epsilon=0.01, svr__kernel=rbf, total=  48.8s\n",
      "[CV] svr__C=10.0, svr__epsilon=0.5, svr__kernel=linear ...............\n",
      "[CV]  svr__C=1.0, svr__epsilon=0.5, svr__kernel=sigmoid, total=  50.4s\n",
      "[CV] svr__C=10.0, svr__epsilon=0.5, svr__kernel=linear ...............\n",
      "[CV] .. svr__C=10.0, svr__epsilon=0.01, svr__kernel=rbf, total=  51.3s\n",
      "[CV] svr__C=10.0, svr__epsilon=0.5, svr__kernel=rbf ..................\n",
      "[CV]  svr__C=1.0, svr__epsilon=0.5, svr__kernel=sigmoid, total=  51.8s\n",
      "[CV] svr__C=10.0, svr__epsilon=0.5, svr__kernel=rbf ..................\n",
      "[CV]  svr__C=10.0, svr__epsilon=0.01, svr__kernel=sigmoid, total=  53.8s\n",
      "[CV] svr__C=10.0, svr__epsilon=0.5, svr__kernel=rbf ..................\n",
      "[CV]  svr__C=10.0, svr__epsilon=0.01, svr__kernel=sigmoid, total=  55.0s\n"
     ]
    },
    {
     "name": "stdout",
     "output_type": "stream",
     "text": [
      "[CV] svr__C=10.0, svr__epsilon=0.5, svr__kernel=sigmoid ..............\n",
      "[CV] .. svr__C=10.0, svr__epsilon=0.01, svr__kernel=rbf, total=  57.0s\n",
      "[CV] svr__C=10.0, svr__epsilon=0.5, svr__kernel=sigmoid ..............\n",
      "[CV]  svr__C=10.0, svr__epsilon=0.01, svr__kernel=sigmoid, total=  55.8s\n",
      "[CV] svr__C=10.0, svr__epsilon=0.5, svr__kernel=sigmoid ..............\n",
      "[CV] .. svr__C=10.0, svr__epsilon=0.05, svr__kernel=rbf, total=  56.3s\n",
      "[CV] svr__C=100.0, svr__epsilon=0.01, svr__kernel=linear .............\n",
      "[CV]  svr__C=10.0, svr__epsilon=0.1, svr__kernel=linear, total=  35.6s\n",
      "[CV] svr__C=100.0, svr__epsilon=0.01, svr__kernel=linear .............\n",
      "[CV] .. svr__C=10.0, svr__epsilon=0.05, svr__kernel=rbf, total=  57.1s\n",
      "[CV] svr__C=100.0, svr__epsilon=0.01, svr__kernel=linear .............\n",
      "[CV]  svr__C=10.0, svr__epsilon=0.1, svr__kernel=linear, total=  38.1s\n",
      "[CV] svr__C=100.0, svr__epsilon=0.01, svr__kernel=rbf ................\n",
      "[CV] .. svr__C=10.0, svr__epsilon=0.05, svr__kernel=rbf, total=  57.2s\n",
      "[CV]  svr__C=10.0, svr__epsilon=0.1, svr__kernel=linear, total=  37.9s\n",
      "[CV] svr__C=100.0, svr__epsilon=0.01, svr__kernel=rbf ................\n",
      "[CV] svr__C=100.0, svr__epsilon=0.01, svr__kernel=rbf ................\n",
      "[CV]  svr__C=10.0, svr__epsilon=0.5, svr__kernel=linear, total=  34.5s\n",
      "[CV] svr__C=100.0, svr__epsilon=0.01, svr__kernel=sigmoid ............\n",
      "[CV]  svr__C=10.0, svr__epsilon=0.5, svr__kernel=linear, total=  37.0s\n",
      "[CV] svr__C=100.0, svr__epsilon=0.01, svr__kernel=sigmoid ............\n",
      "[CV]  svr__C=10.0, svr__epsilon=0.5, svr__kernel=linear, total=  38.5s\n",
      "[CV] svr__C=100.0, svr__epsilon=0.01, svr__kernel=sigmoid ............\n",
      "[CV] ... svr__C=10.0, svr__epsilon=0.1, svr__kernel=rbf, total=  48.6s\n",
      "[CV] svr__C=100.0, svr__epsilon=0.05, svr__kernel=linear .............\n",
      "[CV]  svr__C=10.0, svr__epsilon=0.05, svr__kernel=sigmoid, total=  55.1s\n",
      "[CV] svr__C=100.0, svr__epsilon=0.05, svr__kernel=linear .............\n",
      "[CV]  svr__C=10.0, svr__epsilon=0.05, svr__kernel=sigmoid, total=  55.1s\n",
      "[CV] svr__C=100.0, svr__epsilon=0.05, svr__kernel=linear .............\n",
      "[CV] ... svr__C=10.0, svr__epsilon=0.1, svr__kernel=rbf, total=  50.7s\n",
      "[CV] svr__C=100.0, svr__epsilon=0.05, svr__kernel=rbf ................\n",
      "[CV]  svr__C=10.0, svr__epsilon=0.05, svr__kernel=sigmoid, total=  59.5s\n",
      "[CV] svr__C=100.0, svr__epsilon=0.05, svr__kernel=rbf ................\n",
      "[CV]  svr__C=10.0, svr__epsilon=0.1, svr__kernel=sigmoid, total=  54.8s\n",
      "[CV] svr__C=100.0, svr__epsilon=0.05, svr__kernel=rbf ................\n",
      "[CV]  svr__C=10.0, svr__epsilon=0.1, svr__kernel=sigmoid, total=  55.3s\n",
      "[CV] svr__C=100.0, svr__epsilon=0.05, svr__kernel=sigmoid ............\n",
      "[CV] ... svr__C=10.0, svr__epsilon=0.1, svr__kernel=rbf, total=  58.3s\n",
      "[CV] svr__C=100.0, svr__epsilon=0.05, svr__kernel=sigmoid ............\n",
      "[CV]  svr__C=10.0, svr__epsilon=0.1, svr__kernel=sigmoid, total=  58.3s\n",
      "[CV] svr__C=100.0, svr__epsilon=0.05, svr__kernel=sigmoid ............\n",
      "[CV] ... svr__C=10.0, svr__epsilon=0.5, svr__kernel=rbf, total=  49.4s\n",
      "[CV] svr__C=100.0, svr__epsilon=0.1, svr__kernel=linear ..............\n",
      "[CV] ... svr__C=10.0, svr__epsilon=0.5, svr__kernel=rbf, total=  54.8s\n",
      "[CV] svr__C=100.0, svr__epsilon=0.1, svr__kernel=linear ..............\n",
      "[CV] ... svr__C=10.0, svr__epsilon=0.5, svr__kernel=rbf, total=  57.0s\n",
      "[CV] svr__C=100.0, svr__epsilon=0.1, svr__kernel=linear ..............\n",
      "[CV]  svr__C=10.0, svr__epsilon=0.5, svr__kernel=sigmoid, total=  54.6s\n",
      "[CV] svr__C=100.0, svr__epsilon=0.1, svr__kernel=rbf .................\n",
      "[CV]  svr__C=10.0, svr__epsilon=0.5, svr__kernel=sigmoid, total=  55.0s\n",
      "[CV] svr__C=100.0, svr__epsilon=0.1, svr__kernel=rbf .................\n",
      "[CV]  svr__C=10.0, svr__epsilon=0.5, svr__kernel=sigmoid, total=  56.2s\n",
      "[CV] svr__C=100.0, svr__epsilon=0.1, svr__kernel=rbf .................\n",
      "[CV]  svr__C=100.0, svr__epsilon=0.01, svr__kernel=linear, total= 1.0min\n",
      "[CV] svr__C=100.0, svr__epsilon=0.1, svr__kernel=sigmoid .............\n",
      "[CV]  svr__C=100.0, svr__epsilon=0.01, svr__kernel=linear, total= 1.1min\n",
      "[CV] svr__C=100.0, svr__epsilon=0.1, svr__kernel=sigmoid .............\n",
      "[CV]  svr__C=100.0, svr__epsilon=0.01, svr__kernel=linear, total= 1.1min\n",
      "[CV] svr__C=100.0, svr__epsilon=0.1, svr__kernel=sigmoid .............\n",
      "[CV] . svr__C=100.0, svr__epsilon=0.01, svr__kernel=rbf, total=  51.4s\n",
      "[CV] svr__C=100.0, svr__epsilon=0.5, svr__kernel=linear ..............\n",
      "[CV] . svr__C=100.0, svr__epsilon=0.01, svr__kernel=rbf, total=  51.0s\n",
      "[CV] svr__C=100.0, svr__epsilon=0.5, svr__kernel=linear ..............\n",
      "[CV] . svr__C=100.0, svr__epsilon=0.01, svr__kernel=rbf, total=  59.6s\n",
      "[CV] svr__C=100.0, svr__epsilon=0.5, svr__kernel=linear ..............\n",
      "[CV]  svr__C=100.0, svr__epsilon=0.05, svr__kernel=linear, total= 1.0min\n",
      "[CV] svr__C=100.0, svr__epsilon=0.5, svr__kernel=rbf .................\n",
      "[CV]  svr__C=100.0, svr__epsilon=0.01, svr__kernel=sigmoid, total=  57.4s\n",
      "[CV] svr__C=100.0, svr__epsilon=0.5, svr__kernel=rbf .................\n",
      "[CV]  svr__C=100.0, svr__epsilon=0.05, svr__kernel=linear, total= 1.1min\n",
      "[CV] svr__C=100.0, svr__epsilon=0.5, svr__kernel=rbf .................\n",
      "[CV]  svr__C=100.0, svr__epsilon=0.05, svr__kernel=linear, total= 1.1min\n",
      "[CV] svr__C=100.0, svr__epsilon=0.5, svr__kernel=sigmoid .............\n",
      "[CV] . svr__C=100.0, svr__epsilon=0.05, svr__kernel=rbf, total=  49.8s\n",
      "[CV] svr__C=100.0, svr__epsilon=0.5, svr__kernel=sigmoid .............\n",
      "[CV]  svr__C=100.0, svr__epsilon=0.01, svr__kernel=sigmoid, total=  57.5s\n",
      "[CV] svr__C=100.0, svr__epsilon=0.5, svr__kernel=sigmoid .............\n",
      "[CV] . svr__C=100.0, svr__epsilon=0.05, svr__kernel=rbf, total=  48.6s\n",
      "[CV]  svr__C=100.0, svr__epsilon=0.01, svr__kernel=sigmoid, total=  58.7s\n",
      "[CV] . svr__C=100.0, svr__epsilon=0.05, svr__kernel=rbf, total=  59.0s\n",
      "[CV]  svr__C=100.0, svr__epsilon=0.05, svr__kernel=sigmoid, total=  57.0s\n",
      "[CV]  svr__C=100.0, svr__epsilon=0.1, svr__kernel=linear, total=  59.8s\n",
      "[CV]  svr__C=100.0, svr__epsilon=0.05, svr__kernel=sigmoid, total= 1.0min\n",
      "[CV]  svr__C=100.0, svr__epsilon=0.05, svr__kernel=sigmoid, total=  57.8s\n",
      "[CV]  svr__C=100.0, svr__epsilon=0.1, svr__kernel=linear, total=  58.1s\n",
      "[CV]  svr__C=100.0, svr__epsilon=0.1, svr__kernel=linear, total= 1.0min\n",
      "[CV] .. svr__C=100.0, svr__epsilon=0.1, svr__kernel=rbf, total=  48.6s\n",
      "[CV] .. svr__C=100.0, svr__epsilon=0.1, svr__kernel=rbf, total=  49.3s\n",
      "[CV] .. svr__C=100.0, svr__epsilon=0.1, svr__kernel=rbf, total=  49.0s\n",
      "[CV]  svr__C=100.0, svr__epsilon=0.5, svr__kernel=linear, total=  55.9s\n",
      "[CV]  svr__C=100.0, svr__epsilon=0.5, svr__kernel=linear, total=  56.8s\n",
      "[CV]  svr__C=100.0, svr__epsilon=0.1, svr__kernel=sigmoid, total=  53.7s\n",
      "[CV]  svr__C=100.0, svr__epsilon=0.5, svr__kernel=linear, total=  54.3s\n",
      "[CV]  svr__C=100.0, svr__epsilon=0.1, svr__kernel=sigmoid, total=  52.4s\n",
      "[CV]  svr__C=100.0, svr__epsilon=0.1, svr__kernel=sigmoid, total=  55.8s\n",
      "[CV] .. svr__C=100.0, svr__epsilon=0.5, svr__kernel=rbf, total=  38.4s\n",
      "[CV] .. svr__C=100.0, svr__epsilon=0.5, svr__kernel=rbf, total=  42.0s\n",
      "[CV]  svr__C=100.0, svr__epsilon=0.5, svr__kernel=sigmoid, total=  46.7s\n",
      "[CV] .. svr__C=100.0, svr__epsilon=0.5, svr__kernel=rbf, total=  50.1s\n",
      "[CV]  svr__C=100.0, svr__epsilon=0.5, svr__kernel=sigmoid, total=  45.4s\n",
      "[CV]  svr__C=100.0, svr__epsilon=0.5, svr__kernel=sigmoid, total=  47.0s\n"
     ]
    },
    {
     "name": "stderr",
     "output_type": "stream",
     "text": [
      "[Parallel(n_jobs=-1)]: Done 108 out of 108 | elapsed:  5.9min finished\n"
     ]
    },
    {
     "data": {
      "text/plain": [
       "GridSearchCV(cv=3, error_score='raise',\n",
       "       estimator=Pipeline(memory=None,\n",
       "     steps=[('standardscaler', StandardScaler(copy=True, with_mean=True, with_std=True)), ('variancethreshold', VarianceThreshold(threshold=0.0)), ('svr', SVR(C=1.0, cache_size=200, coef0=0.0, degree=3, epsilon=0.1, gamma='auto',\n",
       "  kernel='rbf', max_iter=-1, shrinking=True, tol=0.001, verbose=False))]),\n",
       "       fit_params=None, iid=True, n_jobs=-1,\n",
       "       param_grid={'svr__kernel': ['linear', 'rbf', 'sigmoid'], 'svr__C': [1.0, 10.0, 100.0], 'svr__epsilon': [0.01, 0.05, 0.1, 0.5]},\n",
       "       pre_dispatch='2*n_jobs', refit=True, return_train_score='warn',\n",
       "       scoring='r2', verbose=2)"
      ]
     },
     "execution_count": 28,
     "metadata": {},
     "output_type": "execute_result"
    }
   ],
   "source": [
    "svr_grid.fit(X_train, y_train)"
   ]
  },
  {
   "cell_type": "code",
   "execution_count": 29,
   "metadata": {},
   "outputs": [
    {
     "data": {
      "text/plain": [
       "0.74716491800283125"
      ]
     },
     "execution_count": 29,
     "metadata": {},
     "output_type": "execute_result"
    }
   ],
   "source": [
    "svr_grid.best_score_"
   ]
  },
  {
   "cell_type": "markdown",
   "metadata": {},
   "source": [
    "### Random Forest"
   ]
  },
  {
   "cell_type": "code",
   "execution_count": 31,
   "metadata": {
    "collapsed": true
   },
   "outputs": [],
   "source": [
    "rf_pipe = make_pipeline(RandomForestRegressor(n_jobs=-1))\n",
    "rf_params = {'randomforestregressor__n_estimators' : [10, 50, 100],\n",
    "             'randomforestregressor__max_features' : [3, 6, 10, 'auto'],\n",
    "             'randomforestregressor__max_depth' : [5, 10, None]}\n",
    "rf_grid = GridSearchCV(rf_pipe, rf_params, cv=3, scoring='r2', verbose=2)"
   ]
  },
  {
   "cell_type": "code",
   "execution_count": 32,
   "metadata": {},
   "outputs": [
    {
     "name": "stdout",
     "output_type": "stream",
     "text": [
      "Fitting 3 folds for each of 36 candidates, totalling 108 fits\n",
      "[CV] randomforestregressor__max_depth=5, randomforestregressor__max_features=3, randomforestregressor__n_estimators=10 \n",
      "[CV]  randomforestregressor__max_depth=5, randomforestregressor__max_features=3, randomforestregressor__n_estimators=10, total=   0.3s\n",
      "[CV] randomforestregressor__max_depth=5, randomforestregressor__max_features=3, randomforestregressor__n_estimators=10 \n"
     ]
    },
    {
     "name": "stderr",
     "output_type": "stream",
     "text": [
      "[Parallel(n_jobs=1)]: Done   1 out of   1 | elapsed:    0.4s remaining:    0.0s\n"
     ]
    },
    {
     "name": "stdout",
     "output_type": "stream",
     "text": [
      "[CV]  randomforestregressor__max_depth=5, randomforestregressor__max_features=3, randomforestregressor__n_estimators=10, total=   0.2s\n",
      "[CV] randomforestregressor__max_depth=5, randomforestregressor__max_features=3, randomforestregressor__n_estimators=10 \n",
      "[CV]  randomforestregressor__max_depth=5, randomforestregressor__max_features=3, randomforestregressor__n_estimators=10, total=   0.2s\n",
      "[CV] randomforestregressor__max_depth=5, randomforestregressor__max_features=3, randomforestregressor__n_estimators=50 \n",
      "[CV]  randomforestregressor__max_depth=5, randomforestregressor__max_features=3, randomforestregressor__n_estimators=50, total=   0.3s\n",
      "[CV] randomforestregressor__max_depth=5, randomforestregressor__max_features=3, randomforestregressor__n_estimators=50 \n",
      "[CV]  randomforestregressor__max_depth=5, randomforestregressor__max_features=3, randomforestregressor__n_estimators=50, total=   0.3s\n",
      "[CV] randomforestregressor__max_depth=5, randomforestregressor__max_features=3, randomforestregressor__n_estimators=50 \n",
      "[CV]  randomforestregressor__max_depth=5, randomforestregressor__max_features=3, randomforestregressor__n_estimators=50, total=   0.3s\n",
      "[CV] randomforestregressor__max_depth=5, randomforestregressor__max_features=3, randomforestregressor__n_estimators=100 \n",
      "[CV]  randomforestregressor__max_depth=5, randomforestregressor__max_features=3, randomforestregressor__n_estimators=100, total=   0.4s\n",
      "[CV] randomforestregressor__max_depth=5, randomforestregressor__max_features=3, randomforestregressor__n_estimators=100 \n",
      "[CV]  randomforestregressor__max_depth=5, randomforestregressor__max_features=3, randomforestregressor__n_estimators=100, total=   0.4s\n",
      "[CV] randomforestregressor__max_depth=5, randomforestregressor__max_features=3, randomforestregressor__n_estimators=100 \n",
      "[CV]  randomforestregressor__max_depth=5, randomforestregressor__max_features=3, randomforestregressor__n_estimators=100, total=   0.4s\n",
      "[CV] randomforestregressor__max_depth=5, randomforestregressor__max_features=6, randomforestregressor__n_estimators=10 \n",
      "[CV]  randomforestregressor__max_depth=5, randomforestregressor__max_features=6, randomforestregressor__n_estimators=10, total=   0.2s\n",
      "[CV] randomforestregressor__max_depth=5, randomforestregressor__max_features=6, randomforestregressor__n_estimators=10 \n",
      "[CV]  randomforestregressor__max_depth=5, randomforestregressor__max_features=6, randomforestregressor__n_estimators=10, total=   0.2s\n",
      "[CV] randomforestregressor__max_depth=5, randomforestregressor__max_features=6, randomforestregressor__n_estimators=10 \n",
      "[CV]  randomforestregressor__max_depth=5, randomforestregressor__max_features=6, randomforestregressor__n_estimators=10, total=   0.2s\n",
      "[CV] randomforestregressor__max_depth=5, randomforestregressor__max_features=6, randomforestregressor__n_estimators=50 \n",
      "[CV]  randomforestregressor__max_depth=5, randomforestregressor__max_features=6, randomforestregressor__n_estimators=50, total=   0.4s\n",
      "[CV] randomforestregressor__max_depth=5, randomforestregressor__max_features=6, randomforestregressor__n_estimators=50 \n",
      "[CV]  randomforestregressor__max_depth=5, randomforestregressor__max_features=6, randomforestregressor__n_estimators=50, total=   0.4s\n",
      "[CV] randomforestregressor__max_depth=5, randomforestregressor__max_features=6, randomforestregressor__n_estimators=50 \n",
      "[CV]  randomforestregressor__max_depth=5, randomforestregressor__max_features=6, randomforestregressor__n_estimators=50, total=   0.4s\n",
      "[CV] randomforestregressor__max_depth=5, randomforestregressor__max_features=6, randomforestregressor__n_estimators=100 \n",
      "[CV]  randomforestregressor__max_depth=5, randomforestregressor__max_features=6, randomforestregressor__n_estimators=100, total=   0.5s\n",
      "[CV] randomforestregressor__max_depth=5, randomforestregressor__max_features=6, randomforestregressor__n_estimators=100 \n",
      "[CV]  randomforestregressor__max_depth=5, randomforestregressor__max_features=6, randomforestregressor__n_estimators=100, total=   0.4s\n",
      "[CV] randomforestregressor__max_depth=5, randomforestregressor__max_features=6, randomforestregressor__n_estimators=100 \n",
      "[CV]  randomforestregressor__max_depth=5, randomforestregressor__max_features=6, randomforestregressor__n_estimators=100, total=   0.4s\n",
      "[CV] randomforestregressor__max_depth=5, randomforestregressor__max_features=10, randomforestregressor__n_estimators=10 \n",
      "[CV]  randomforestregressor__max_depth=5, randomforestregressor__max_features=10, randomforestregressor__n_estimators=10, total=   0.2s\n",
      "[CV] randomforestregressor__max_depth=5, randomforestregressor__max_features=10, randomforestregressor__n_estimators=10 \n",
      "[CV]  randomforestregressor__max_depth=5, randomforestregressor__max_features=10, randomforestregressor__n_estimators=10, total=   0.2s\n",
      "[CV] randomforestregressor__max_depth=5, randomforestregressor__max_features=10, randomforestregressor__n_estimators=10 \n",
      "[CV]  randomforestregressor__max_depth=5, randomforestregressor__max_features=10, randomforestregressor__n_estimators=10, total=   0.2s\n",
      "[CV] randomforestregressor__max_depth=5, randomforestregressor__max_features=10, randomforestregressor__n_estimators=50 \n",
      "[CV]  randomforestregressor__max_depth=5, randomforestregressor__max_features=10, randomforestregressor__n_estimators=50, total=   0.4s\n",
      "[CV] randomforestregressor__max_depth=5, randomforestregressor__max_features=10, randomforestregressor__n_estimators=50 \n",
      "[CV]  randomforestregressor__max_depth=5, randomforestregressor__max_features=10, randomforestregressor__n_estimators=50, total=   0.4s\n",
      "[CV] randomforestregressor__max_depth=5, randomforestregressor__max_features=10, randomforestregressor__n_estimators=50 \n",
      "[CV]  randomforestregressor__max_depth=5, randomforestregressor__max_features=10, randomforestregressor__n_estimators=50, total=   0.4s\n",
      "[CV] randomforestregressor__max_depth=5, randomforestregressor__max_features=10, randomforestregressor__n_estimators=100 \n",
      "[CV]  randomforestregressor__max_depth=5, randomforestregressor__max_features=10, randomforestregressor__n_estimators=100, total=   0.5s\n",
      "[CV] randomforestregressor__max_depth=5, randomforestregressor__max_features=10, randomforestregressor__n_estimators=100 \n",
      "[CV]  randomforestregressor__max_depth=5, randomforestregressor__max_features=10, randomforestregressor__n_estimators=100, total=   0.4s\n",
      "[CV] randomforestregressor__max_depth=5, randomforestregressor__max_features=10, randomforestregressor__n_estimators=100 \n",
      "[CV]  randomforestregressor__max_depth=5, randomforestregressor__max_features=10, randomforestregressor__n_estimators=100, total=   0.4s\n",
      "[CV] randomforestregressor__max_depth=5, randomforestregressor__max_features=auto, randomforestregressor__n_estimators=10 \n",
      "[CV]  randomforestregressor__max_depth=5, randomforestregressor__max_features=auto, randomforestregressor__n_estimators=10, total=   0.2s\n",
      "[CV] randomforestregressor__max_depth=5, randomforestregressor__max_features=auto, randomforestregressor__n_estimators=10 \n",
      "[CV]  randomforestregressor__max_depth=5, randomforestregressor__max_features=auto, randomforestregressor__n_estimators=10, total=   0.2s\n",
      "[CV] randomforestregressor__max_depth=5, randomforestregressor__max_features=auto, randomforestregressor__n_estimators=10 \n",
      "[CV]  randomforestregressor__max_depth=5, randomforestregressor__max_features=auto, randomforestregressor__n_estimators=10, total=   0.2s\n",
      "[CV] randomforestregressor__max_depth=5, randomforestregressor__max_features=auto, randomforestregressor__n_estimators=50 \n",
      "[CV]  randomforestregressor__max_depth=5, randomforestregressor__max_features=auto, randomforestregressor__n_estimators=50, total=   0.4s\n",
      "[CV] randomforestregressor__max_depth=5, randomforestregressor__max_features=auto, randomforestregressor__n_estimators=50 \n",
      "[CV]  randomforestregressor__max_depth=5, randomforestregressor__max_features=auto, randomforestregressor__n_estimators=50, total=   0.4s\n",
      "[CV] randomforestregressor__max_depth=5, randomforestregressor__max_features=auto, randomforestregressor__n_estimators=50 \n",
      "[CV]  randomforestregressor__max_depth=5, randomforestregressor__max_features=auto, randomforestregressor__n_estimators=50, total=   0.4s\n",
      "[CV] randomforestregressor__max_depth=5, randomforestregressor__max_features=auto, randomforestregressor__n_estimators=100 \n"
     ]
    },
    {
     "name": "stdout",
     "output_type": "stream",
     "text": [
      "[CV]  randomforestregressor__max_depth=5, randomforestregressor__max_features=auto, randomforestregressor__n_estimators=100, total=   0.5s\n",
      "[CV] randomforestregressor__max_depth=5, randomforestregressor__max_features=auto, randomforestregressor__n_estimators=100 \n",
      "[CV]  randomforestregressor__max_depth=5, randomforestregressor__max_features=auto, randomforestregressor__n_estimators=100, total=   0.5s\n",
      "[CV] randomforestregressor__max_depth=5, randomforestregressor__max_features=auto, randomforestregressor__n_estimators=100 \n",
      "[CV]  randomforestregressor__max_depth=5, randomforestregressor__max_features=auto, randomforestregressor__n_estimators=100, total=   0.7s\n",
      "[CV] randomforestregressor__max_depth=10, randomforestregressor__max_features=3, randomforestregressor__n_estimators=10 \n",
      "[CV]  randomforestregressor__max_depth=10, randomforestregressor__max_features=3, randomforestregressor__n_estimators=10, total=   0.2s\n",
      "[CV] randomforestregressor__max_depth=10, randomforestregressor__max_features=3, randomforestregressor__n_estimators=10 \n",
      "[CV]  randomforestregressor__max_depth=10, randomforestregressor__max_features=3, randomforestregressor__n_estimators=10, total=   0.2s\n",
      "[CV] randomforestregressor__max_depth=10, randomforestregressor__max_features=3, randomforestregressor__n_estimators=10 \n",
      "[CV]  randomforestregressor__max_depth=10, randomforestregressor__max_features=3, randomforestregressor__n_estimators=10, total=   0.3s\n",
      "[CV] randomforestregressor__max_depth=10, randomforestregressor__max_features=3, randomforestregressor__n_estimators=50 \n",
      "[CV]  randomforestregressor__max_depth=10, randomforestregressor__max_features=3, randomforestregressor__n_estimators=50, total=   0.4s\n",
      "[CV] randomforestregressor__max_depth=10, randomforestregressor__max_features=3, randomforestregressor__n_estimators=50 \n",
      "[CV]  randomforestregressor__max_depth=10, randomforestregressor__max_features=3, randomforestregressor__n_estimators=50, total=   0.4s\n",
      "[CV] randomforestregressor__max_depth=10, randomforestregressor__max_features=3, randomforestregressor__n_estimators=50 \n",
      "[CV]  randomforestregressor__max_depth=10, randomforestregressor__max_features=3, randomforestregressor__n_estimators=50, total=   0.4s\n",
      "[CV] randomforestregressor__max_depth=10, randomforestregressor__max_features=3, randomforestregressor__n_estimators=100 \n",
      "[CV]  randomforestregressor__max_depth=10, randomforestregressor__max_features=3, randomforestregressor__n_estimators=100, total=   0.5s\n",
      "[CV] randomforestregressor__max_depth=10, randomforestregressor__max_features=3, randomforestregressor__n_estimators=100 \n",
      "[CV]  randomforestregressor__max_depth=10, randomforestregressor__max_features=3, randomforestregressor__n_estimators=100, total=   0.5s\n",
      "[CV] randomforestregressor__max_depth=10, randomforestregressor__max_features=3, randomforestregressor__n_estimators=100 \n",
      "[CV]  randomforestregressor__max_depth=10, randomforestregressor__max_features=3, randomforestregressor__n_estimators=100, total=   0.6s\n",
      "[CV] randomforestregressor__max_depth=10, randomforestregressor__max_features=6, randomforestregressor__n_estimators=10 \n",
      "[CV]  randomforestregressor__max_depth=10, randomforestregressor__max_features=6, randomforestregressor__n_estimators=10, total=   0.2s\n",
      "[CV] randomforestregressor__max_depth=10, randomforestregressor__max_features=6, randomforestregressor__n_estimators=10 \n",
      "[CV]  randomforestregressor__max_depth=10, randomforestregressor__max_features=6, randomforestregressor__n_estimators=10, total=   0.2s\n",
      "[CV] randomforestregressor__max_depth=10, randomforestregressor__max_features=6, randomforestregressor__n_estimators=10 \n",
      "[CV]  randomforestregressor__max_depth=10, randomforestregressor__max_features=6, randomforestregressor__n_estimators=10, total=   0.2s\n",
      "[CV] randomforestregressor__max_depth=10, randomforestregressor__max_features=6, randomforestregressor__n_estimators=50 \n",
      "[CV]  randomforestregressor__max_depth=10, randomforestregressor__max_features=6, randomforestregressor__n_estimators=50, total=   0.4s\n",
      "[CV] randomforestregressor__max_depth=10, randomforestregressor__max_features=6, randomforestregressor__n_estimators=50 \n",
      "[CV]  randomforestregressor__max_depth=10, randomforestregressor__max_features=6, randomforestregressor__n_estimators=50, total=   0.4s\n",
      "[CV] randomforestregressor__max_depth=10, randomforestregressor__max_features=6, randomforestregressor__n_estimators=50 \n",
      "[CV]  randomforestregressor__max_depth=10, randomforestregressor__max_features=6, randomforestregressor__n_estimators=50, total=   0.4s\n",
      "[CV] randomforestregressor__max_depth=10, randomforestregressor__max_features=6, randomforestregressor__n_estimators=100 \n",
      "[CV]  randomforestregressor__max_depth=10, randomforestregressor__max_features=6, randomforestregressor__n_estimators=100, total=   0.6s\n",
      "[CV] randomforestregressor__max_depth=10, randomforestregressor__max_features=6, randomforestregressor__n_estimators=100 \n",
      "[CV]  randomforestregressor__max_depth=10, randomforestregressor__max_features=6, randomforestregressor__n_estimators=100, total=   0.6s\n",
      "[CV] randomforestregressor__max_depth=10, randomforestregressor__max_features=6, randomforestregressor__n_estimators=100 \n",
      "[CV]  randomforestregressor__max_depth=10, randomforestregressor__max_features=6, randomforestregressor__n_estimators=100, total=   0.5s\n",
      "[CV] randomforestregressor__max_depth=10, randomforestregressor__max_features=10, randomforestregressor__n_estimators=10 \n",
      "[CV]  randomforestregressor__max_depth=10, randomforestregressor__max_features=10, randomforestregressor__n_estimators=10, total=   0.2s\n",
      "[CV] randomforestregressor__max_depth=10, randomforestregressor__max_features=10, randomforestregressor__n_estimators=10 \n",
      "[CV]  randomforestregressor__max_depth=10, randomforestregressor__max_features=10, randomforestregressor__n_estimators=10, total=   0.2s\n",
      "[CV] randomforestregressor__max_depth=10, randomforestregressor__max_features=10, randomforestregressor__n_estimators=10 \n",
      "[CV]  randomforestregressor__max_depth=10, randomforestregressor__max_features=10, randomforestregressor__n_estimators=10, total=   0.2s\n",
      "[CV] randomforestregressor__max_depth=10, randomforestregressor__max_features=10, randomforestregressor__n_estimators=50 \n",
      "[CV]  randomforestregressor__max_depth=10, randomforestregressor__max_features=10, randomforestregressor__n_estimators=50, total=   0.4s\n",
      "[CV] randomforestregressor__max_depth=10, randomforestregressor__max_features=10, randomforestregressor__n_estimators=50 \n",
      "[CV]  randomforestregressor__max_depth=10, randomforestregressor__max_features=10, randomforestregressor__n_estimators=50, total=   0.4s\n",
      "[CV] randomforestregressor__max_depth=10, randomforestregressor__max_features=10, randomforestregressor__n_estimators=50 \n",
      "[CV]  randomforestregressor__max_depth=10, randomforestregressor__max_features=10, randomforestregressor__n_estimators=50, total=   0.4s\n",
      "[CV] randomforestregressor__max_depth=10, randomforestregressor__max_features=10, randomforestregressor__n_estimators=100 \n",
      "[CV]  randomforestregressor__max_depth=10, randomforestregressor__max_features=10, randomforestregressor__n_estimators=100, total=   0.6s\n",
      "[CV] randomforestregressor__max_depth=10, randomforestregressor__max_features=10, randomforestregressor__n_estimators=100 \n",
      "[CV]  randomforestregressor__max_depth=10, randomforestregressor__max_features=10, randomforestregressor__n_estimators=100, total=   0.6s\n",
      "[CV] randomforestregressor__max_depth=10, randomforestregressor__max_features=10, randomforestregressor__n_estimators=100 \n",
      "[CV]  randomforestregressor__max_depth=10, randomforestregressor__max_features=10, randomforestregressor__n_estimators=100, total=   0.6s\n",
      "[CV] randomforestregressor__max_depth=10, randomforestregressor__max_features=auto, randomforestregressor__n_estimators=10 \n",
      "[CV]  randomforestregressor__max_depth=10, randomforestregressor__max_features=auto, randomforestregressor__n_estimators=10, total=   0.3s\n",
      "[CV] randomforestregressor__max_depth=10, randomforestregressor__max_features=auto, randomforestregressor__n_estimators=10 \n",
      "[CV]  randomforestregressor__max_depth=10, randomforestregressor__max_features=auto, randomforestregressor__n_estimators=10, total=   0.3s\n",
      "[CV] randomforestregressor__max_depth=10, randomforestregressor__max_features=auto, randomforestregressor__n_estimators=10 \n"
     ]
    },
    {
     "name": "stdout",
     "output_type": "stream",
     "text": [
      "[CV]  randomforestregressor__max_depth=10, randomforestregressor__max_features=auto, randomforestregressor__n_estimators=10, total=   0.3s\n",
      "[CV] randomforestregressor__max_depth=10, randomforestregressor__max_features=auto, randomforestregressor__n_estimators=50 \n",
      "[CV]  randomforestregressor__max_depth=10, randomforestregressor__max_features=auto, randomforestregressor__n_estimators=50, total=   0.5s\n",
      "[CV] randomforestregressor__max_depth=10, randomforestregressor__max_features=auto, randomforestregressor__n_estimators=50 \n",
      "[CV]  randomforestregressor__max_depth=10, randomforestregressor__max_features=auto, randomforestregressor__n_estimators=50, total=   0.5s\n",
      "[CV] randomforestregressor__max_depth=10, randomforestregressor__max_features=auto, randomforestregressor__n_estimators=50 \n",
      "[CV]  randomforestregressor__max_depth=10, randomforestregressor__max_features=auto, randomforestregressor__n_estimators=50, total=   0.5s\n",
      "[CV] randomforestregressor__max_depth=10, randomforestregressor__max_features=auto, randomforestregressor__n_estimators=100 \n",
      "[CV]  randomforestregressor__max_depth=10, randomforestregressor__max_features=auto, randomforestregressor__n_estimators=100, total=   0.7s\n",
      "[CV] randomforestregressor__max_depth=10, randomforestregressor__max_features=auto, randomforestregressor__n_estimators=100 \n",
      "[CV]  randomforestregressor__max_depth=10, randomforestregressor__max_features=auto, randomforestregressor__n_estimators=100, total=   0.7s\n",
      "[CV] randomforestregressor__max_depth=10, randomforestregressor__max_features=auto, randomforestregressor__n_estimators=100 \n",
      "[CV]  randomforestregressor__max_depth=10, randomforestregressor__max_features=auto, randomforestregressor__n_estimators=100, total=   0.7s\n",
      "[CV] randomforestregressor__max_depth=None, randomforestregressor__max_features=3, randomforestregressor__n_estimators=10 \n",
      "[CV]  randomforestregressor__max_depth=None, randomforestregressor__max_features=3, randomforestregressor__n_estimators=10, total=   0.2s\n",
      "[CV] randomforestregressor__max_depth=None, randomforestregressor__max_features=3, randomforestregressor__n_estimators=10 \n",
      "[CV]  randomforestregressor__max_depth=None, randomforestregressor__max_features=3, randomforestregressor__n_estimators=10, total=   0.2s\n",
      "[CV] randomforestregressor__max_depth=None, randomforestregressor__max_features=3, randomforestregressor__n_estimators=10 \n",
      "[CV]  randomforestregressor__max_depth=None, randomforestregressor__max_features=3, randomforestregressor__n_estimators=10, total=   0.2s\n",
      "[CV] randomforestregressor__max_depth=None, randomforestregressor__max_features=3, randomforestregressor__n_estimators=50 \n",
      "[CV]  randomforestregressor__max_depth=None, randomforestregressor__max_features=3, randomforestregressor__n_estimators=50, total=   0.4s\n",
      "[CV] randomforestregressor__max_depth=None, randomforestregressor__max_features=3, randomforestregressor__n_estimators=50 \n",
      "[CV]  randomforestregressor__max_depth=None, randomforestregressor__max_features=3, randomforestregressor__n_estimators=50, total=   0.5s\n",
      "[CV] randomforestregressor__max_depth=None, randomforestregressor__max_features=3, randomforestregressor__n_estimators=50 \n",
      "[CV]  randomforestregressor__max_depth=None, randomforestregressor__max_features=3, randomforestregressor__n_estimators=50, total=   0.4s\n",
      "[CV] randomforestregressor__max_depth=None, randomforestregressor__max_features=3, randomforestregressor__n_estimators=100 \n",
      "[CV]  randomforestregressor__max_depth=None, randomforestregressor__max_features=3, randomforestregressor__n_estimators=100, total=   0.6s\n",
      "[CV] randomforestregressor__max_depth=None, randomforestregressor__max_features=3, randomforestregressor__n_estimators=100 \n",
      "[CV]  randomforestregressor__max_depth=None, randomforestregressor__max_features=3, randomforestregressor__n_estimators=100, total=   0.6s\n",
      "[CV] randomforestregressor__max_depth=None, randomforestregressor__max_features=3, randomforestregressor__n_estimators=100 \n",
      "[CV]  randomforestregressor__max_depth=None, randomforestregressor__max_features=3, randomforestregressor__n_estimators=100, total=   0.6s\n",
      "[CV] randomforestregressor__max_depth=None, randomforestregressor__max_features=6, randomforestregressor__n_estimators=10 \n",
      "[CV]  randomforestregressor__max_depth=None, randomforestregressor__max_features=6, randomforestregressor__n_estimators=10, total=   0.2s\n",
      "[CV] randomforestregressor__max_depth=None, randomforestregressor__max_features=6, randomforestregressor__n_estimators=10 \n",
      "[CV]  randomforestregressor__max_depth=None, randomforestregressor__max_features=6, randomforestregressor__n_estimators=10, total=   0.2s\n",
      "[CV] randomforestregressor__max_depth=None, randomforestregressor__max_features=6, randomforestregressor__n_estimators=10 \n",
      "[CV]  randomforestregressor__max_depth=None, randomforestregressor__max_features=6, randomforestregressor__n_estimators=10, total=   0.2s\n",
      "[CV] randomforestregressor__max_depth=None, randomforestregressor__max_features=6, randomforestregressor__n_estimators=50 \n",
      "[CV]  randomforestregressor__max_depth=None, randomforestregressor__max_features=6, randomforestregressor__n_estimators=50, total=   0.5s\n",
      "[CV] randomforestregressor__max_depth=None, randomforestregressor__max_features=6, randomforestregressor__n_estimators=50 \n",
      "[CV]  randomforestregressor__max_depth=None, randomforestregressor__max_features=6, randomforestregressor__n_estimators=50, total=   0.5s\n",
      "[CV] randomforestregressor__max_depth=None, randomforestregressor__max_features=6, randomforestregressor__n_estimators=50 \n",
      "[CV]  randomforestregressor__max_depth=None, randomforestregressor__max_features=6, randomforestregressor__n_estimators=50, total=   0.5s\n",
      "[CV] randomforestregressor__max_depth=None, randomforestregressor__max_features=6, randomforestregressor__n_estimators=100 \n",
      "[CV]  randomforestregressor__max_depth=None, randomforestregressor__max_features=6, randomforestregressor__n_estimators=100, total=   0.6s\n",
      "[CV] randomforestregressor__max_depth=None, randomforestregressor__max_features=6, randomforestregressor__n_estimators=100 \n",
      "[CV]  randomforestregressor__max_depth=None, randomforestregressor__max_features=6, randomforestregressor__n_estimators=100, total=   0.7s\n",
      "[CV] randomforestregressor__max_depth=None, randomforestregressor__max_features=6, randomforestregressor__n_estimators=100 \n",
      "[CV]  randomforestregressor__max_depth=None, randomforestregressor__max_features=6, randomforestregressor__n_estimators=100, total=   0.7s\n",
      "[CV] randomforestregressor__max_depth=None, randomforestregressor__max_features=10, randomforestregressor__n_estimators=10 \n",
      "[CV]  randomforestregressor__max_depth=None, randomforestregressor__max_features=10, randomforestregressor__n_estimators=10, total=   0.3s\n",
      "[CV] randomforestregressor__max_depth=None, randomforestregressor__max_features=10, randomforestregressor__n_estimators=10 \n",
      "[CV]  randomforestregressor__max_depth=None, randomforestregressor__max_features=10, randomforestregressor__n_estimators=10, total=   0.3s\n",
      "[CV] randomforestregressor__max_depth=None, randomforestregressor__max_features=10, randomforestregressor__n_estimators=10 \n",
      "[CV]  randomforestregressor__max_depth=None, randomforestregressor__max_features=10, randomforestregressor__n_estimators=10, total=   0.3s\n",
      "[CV] randomforestregressor__max_depth=None, randomforestregressor__max_features=10, randomforestregressor__n_estimators=50 \n",
      "[CV]  randomforestregressor__max_depth=None, randomforestregressor__max_features=10, randomforestregressor__n_estimators=50, total=   0.5s\n",
      "[CV] randomforestregressor__max_depth=None, randomforestregressor__max_features=10, randomforestregressor__n_estimators=50 \n",
      "[CV]  randomforestregressor__max_depth=None, randomforestregressor__max_features=10, randomforestregressor__n_estimators=50, total=   0.5s\n",
      "[CV] randomforestregressor__max_depth=None, randomforestregressor__max_features=10, randomforestregressor__n_estimators=50 \n",
      "[CV]  randomforestregressor__max_depth=None, randomforestregressor__max_features=10, randomforestregressor__n_estimators=50, total=   0.5s\n",
      "[CV] randomforestregressor__max_depth=None, randomforestregressor__max_features=10, randomforestregressor__n_estimators=100 \n",
      "[CV]  randomforestregressor__max_depth=None, randomforestregressor__max_features=10, randomforestregressor__n_estimators=100, total=   0.8s\n",
      "[CV] randomforestregressor__max_depth=None, randomforestregressor__max_features=10, randomforestregressor__n_estimators=100 \n"
     ]
    },
    {
     "name": "stdout",
     "output_type": "stream",
     "text": [
      "[CV]  randomforestregressor__max_depth=None, randomforestregressor__max_features=10, randomforestregressor__n_estimators=100, total=   0.7s\n",
      "[CV] randomforestregressor__max_depth=None, randomforestregressor__max_features=10, randomforestregressor__n_estimators=100 \n",
      "[CV]  randomforestregressor__max_depth=None, randomforestregressor__max_features=10, randomforestregressor__n_estimators=100, total=   0.7s\n",
      "[CV] randomforestregressor__max_depth=None, randomforestregressor__max_features=auto, randomforestregressor__n_estimators=10 \n",
      "[CV]  randomforestregressor__max_depth=None, randomforestregressor__max_features=auto, randomforestregressor__n_estimators=10, total=   0.3s\n",
      "[CV] randomforestregressor__max_depth=None, randomforestregressor__max_features=auto, randomforestregressor__n_estimators=10 \n",
      "[CV]  randomforestregressor__max_depth=None, randomforestregressor__max_features=auto, randomforestregressor__n_estimators=10, total=   0.3s\n",
      "[CV] randomforestregressor__max_depth=None, randomforestregressor__max_features=auto, randomforestregressor__n_estimators=10 \n",
      "[CV]  randomforestregressor__max_depth=None, randomforestregressor__max_features=auto, randomforestregressor__n_estimators=10, total=   0.3s\n",
      "[CV] randomforestregressor__max_depth=None, randomforestregressor__max_features=auto, randomforestregressor__n_estimators=50 \n",
      "[CV]  randomforestregressor__max_depth=None, randomforestregressor__max_features=auto, randomforestregressor__n_estimators=50, total=   0.8s\n",
      "[CV] randomforestregressor__max_depth=None, randomforestregressor__max_features=auto, randomforestregressor__n_estimators=50 \n",
      "[CV]  randomforestregressor__max_depth=None, randomforestregressor__max_features=auto, randomforestregressor__n_estimators=50, total=   0.8s\n",
      "[CV] randomforestregressor__max_depth=None, randomforestregressor__max_features=auto, randomforestregressor__n_estimators=50 \n",
      "[CV]  randomforestregressor__max_depth=None, randomforestregressor__max_features=auto, randomforestregressor__n_estimators=50, total=   0.8s\n",
      "[CV] randomforestregressor__max_depth=None, randomforestregressor__max_features=auto, randomforestregressor__n_estimators=100 \n",
      "[CV]  randomforestregressor__max_depth=None, randomforestregressor__max_features=auto, randomforestregressor__n_estimators=100, total=   1.1s\n",
      "[CV] randomforestregressor__max_depth=None, randomforestregressor__max_features=auto, randomforestregressor__n_estimators=100 \n",
      "[CV]  randomforestregressor__max_depth=None, randomforestregressor__max_features=auto, randomforestregressor__n_estimators=100, total=   1.1s\n",
      "[CV] randomforestregressor__max_depth=None, randomforestregressor__max_features=auto, randomforestregressor__n_estimators=100 \n",
      "[CV]  randomforestregressor__max_depth=None, randomforestregressor__max_features=auto, randomforestregressor__n_estimators=100, total=   1.2s\n"
     ]
    },
    {
     "name": "stderr",
     "output_type": "stream",
     "text": [
      "[Parallel(n_jobs=1)]: Done 108 out of 108 | elapsed:   59.5s finished\n"
     ]
    },
    {
     "data": {
      "text/plain": [
       "GridSearchCV(cv=3, error_score='raise',\n",
       "       estimator=Pipeline(memory=None,\n",
       "     steps=[('randomforestregressor', RandomForestRegressor(bootstrap=True, criterion='mse', max_depth=None,\n",
       "           max_features='auto', max_leaf_nodes=None,\n",
       "           min_impurity_decrease=0.0, min_impurity_split=None,\n",
       "           min_samples_leaf=1, min_samples_split=2,\n",
       "           min_weight_fraction_leaf=0.0, n_estimators=10, n_jobs=-1,\n",
       "           oob_score=False, random_state=None, verbose=0, warm_start=False))]),\n",
       "       fit_params=None, iid=True, n_jobs=1,\n",
       "       param_grid={'randomforestregressor__n_estimators': [10, 50, 100], 'randomforestregressor__max_features': [3, 6, 10, 'auto'], 'randomforestregressor__max_depth': [5, 10, None]},\n",
       "       pre_dispatch='2*n_jobs', refit=True, return_train_score='warn',\n",
       "       scoring='r2', verbose=2)"
      ]
     },
     "execution_count": 32,
     "metadata": {},
     "output_type": "execute_result"
    }
   ],
   "source": [
    "rf_grid.fit(X_train, y_train)"
   ]
  },
  {
   "cell_type": "code",
   "execution_count": 33,
   "metadata": {},
   "outputs": [
    {
     "data": {
      "text/plain": [
       "0.89994709853709931"
      ]
     },
     "execution_count": 33,
     "metadata": {},
     "output_type": "execute_result"
    }
   ],
   "source": [
    "rf_grid.best_score_"
   ]
  },
  {
   "cell_type": "markdown",
   "metadata": {},
   "source": [
    "### Gradient Boosting Regressor"
   ]
  },
  {
   "cell_type": "code",
   "execution_count": 34,
   "metadata": {
    "collapsed": true
   },
   "outputs": [],
   "source": [
    "gbt_pipe = make_pipeline(GradientBoostingRegressor(random_state=0))\n",
    "gbt_params = {'gradientboostingregressor__n_estimators' : [50, 100, 200],\n",
    "              'gradientboostingregressor__max_features' : [3, 6, 'auto'],\n",
    "#              'gradientboostingregressor__subsample' : [0.2, 0.5, 1.0],\n",
    "              'gradientboostingregressor__max_depth' : [3, 5, 7],\n",
    "              'gradientboostingregressor__init' : [None]}\n",
    "gbt_grid = GridSearchCV(gbt_pipe, gbt_params, cv=3, scoring='r2', verbose=3)"
   ]
  },
  {
   "cell_type": "code",
   "execution_count": 35,
   "metadata": {},
   "outputs": [
    {
     "name": "stdout",
     "output_type": "stream",
     "text": [
      "Fitting 3 folds for each of 27 candidates, totalling 81 fits\n",
      "[CV] gradientboostingregressor__init=None, gradientboostingregressor__max_depth=3, gradientboostingregressor__max_features=3, gradientboostingregressor__n_estimators=50 \n",
      "[CV]  gradientboostingregressor__init=None, gradientboostingregressor__max_depth=3, gradientboostingregressor__max_features=3, gradientboostingregressor__n_estimators=50, score=0.8013250140563072, total=   0.2s\n",
      "[CV] gradientboostingregressor__init=None, gradientboostingregressor__max_depth=3, gradientboostingregressor__max_features=3, gradientboostingregressor__n_estimators=50 \n"
     ]
    },
    {
     "name": "stderr",
     "output_type": "stream",
     "text": [
      "[Parallel(n_jobs=1)]: Done   1 out of   1 | elapsed:    0.2s remaining:    0.0s\n"
     ]
    },
    {
     "name": "stdout",
     "output_type": "stream",
     "text": [
      "[CV]  gradientboostingregressor__init=None, gradientboostingregressor__max_depth=3, gradientboostingregressor__max_features=3, gradientboostingregressor__n_estimators=50, score=0.8036018941586679, total=   0.2s\n",
      "[CV] gradientboostingregressor__init=None, gradientboostingregressor__max_depth=3, gradientboostingregressor__max_features=3, gradientboostingregressor__n_estimators=50 \n"
     ]
    },
    {
     "name": "stderr",
     "output_type": "stream",
     "text": [
      "[Parallel(n_jobs=1)]: Done   2 out of   2 | elapsed:    0.5s remaining:    0.0s\n"
     ]
    },
    {
     "name": "stdout",
     "output_type": "stream",
     "text": [
      "[CV]  gradientboostingregressor__init=None, gradientboostingregressor__max_depth=3, gradientboostingregressor__max_features=3, gradientboostingregressor__n_estimators=50, score=0.8006899531489527, total=   0.2s\n",
      "[CV] gradientboostingregressor__init=None, gradientboostingregressor__max_depth=3, gradientboostingregressor__max_features=3, gradientboostingregressor__n_estimators=100 \n",
      "[CV]  gradientboostingregressor__init=None, gradientboostingregressor__max_depth=3, gradientboostingregressor__max_features=3, gradientboostingregressor__n_estimators=100, score=0.8368665782259882, total=   0.4s\n",
      "[CV] gradientboostingregressor__init=None, gradientboostingregressor__max_depth=3, gradientboostingregressor__max_features=3, gradientboostingregressor__n_estimators=100 \n",
      "[CV]  gradientboostingregressor__init=None, gradientboostingregressor__max_depth=3, gradientboostingregressor__max_features=3, gradientboostingregressor__n_estimators=100, score=0.8347781577265666, total=   0.4s\n",
      "[CV] gradientboostingregressor__init=None, gradientboostingregressor__max_depth=3, gradientboostingregressor__max_features=3, gradientboostingregressor__n_estimators=100 \n",
      "[CV]  gradientboostingregressor__init=None, gradientboostingregressor__max_depth=3, gradientboostingregressor__max_features=3, gradientboostingregressor__n_estimators=100, score=0.8321748329660326, total=   0.4s\n",
      "[CV] gradientboostingregressor__init=None, gradientboostingregressor__max_depth=3, gradientboostingregressor__max_features=3, gradientboostingregressor__n_estimators=200 \n",
      "[CV]  gradientboostingregressor__init=None, gradientboostingregressor__max_depth=3, gradientboostingregressor__max_features=3, gradientboostingregressor__n_estimators=200, score=0.8553333884992786, total=   0.8s\n",
      "[CV] gradientboostingregressor__init=None, gradientboostingregressor__max_depth=3, gradientboostingregressor__max_features=3, gradientboostingregressor__n_estimators=200 \n",
      "[CV]  gradientboostingregressor__init=None, gradientboostingregressor__max_depth=3, gradientboostingregressor__max_features=3, gradientboostingregressor__n_estimators=200, score=0.8551091637740358, total=   0.9s\n",
      "[CV] gradientboostingregressor__init=None, gradientboostingregressor__max_depth=3, gradientboostingregressor__max_features=3, gradientboostingregressor__n_estimators=200 \n",
      "[CV]  gradientboostingregressor__init=None, gradientboostingregressor__max_depth=3, gradientboostingregressor__max_features=3, gradientboostingregressor__n_estimators=200, score=0.8520426974425857, total=   1.0s\n",
      "[CV] gradientboostingregressor__init=None, gradientboostingregressor__max_depth=3, gradientboostingregressor__max_features=6, gradientboostingregressor__n_estimators=50 \n",
      "[CV]  gradientboostingregressor__init=None, gradientboostingregressor__max_depth=3, gradientboostingregressor__max_features=6, gradientboostingregressor__n_estimators=50, score=0.8303022330756223, total=   0.5s\n",
      "[CV] gradientboostingregressor__init=None, gradientboostingregressor__max_depth=3, gradientboostingregressor__max_features=6, gradientboostingregressor__n_estimators=50 \n",
      "[CV]  gradientboostingregressor__init=None, gradientboostingregressor__max_depth=3, gradientboostingregressor__max_features=6, gradientboostingregressor__n_estimators=50, score=0.8251139141182977, total=   0.5s\n",
      "[CV] gradientboostingregressor__init=None, gradientboostingregressor__max_depth=3, gradientboostingregressor__max_features=6, gradientboostingregressor__n_estimators=50 \n",
      "[CV]  gradientboostingregressor__init=None, gradientboostingregressor__max_depth=3, gradientboostingregressor__max_features=6, gradientboostingregressor__n_estimators=50, score=0.830233967997064, total=   0.5s\n",
      "[CV] gradientboostingregressor__init=None, gradientboostingregressor__max_depth=3, gradientboostingregressor__max_features=6, gradientboostingregressor__n_estimators=100 \n",
      "[CV]  gradientboostingregressor__init=None, gradientboostingregressor__max_depth=3, gradientboostingregressor__max_features=6, gradientboostingregressor__n_estimators=100, score=0.8548677023285616, total=   0.9s\n",
      "[CV] gradientboostingregressor__init=None, gradientboostingregressor__max_depth=3, gradientboostingregressor__max_features=6, gradientboostingregressor__n_estimators=100 \n",
      "[CV]  gradientboostingregressor__init=None, gradientboostingregressor__max_depth=3, gradientboostingregressor__max_features=6, gradientboostingregressor__n_estimators=100, score=0.8513553019764163, total=   0.6s\n",
      "[CV] gradientboostingregressor__init=None, gradientboostingregressor__max_depth=3, gradientboostingregressor__max_features=6, gradientboostingregressor__n_estimators=100 \n",
      "[CV]  gradientboostingregressor__init=None, gradientboostingregressor__max_depth=3, gradientboostingregressor__max_features=6, gradientboostingregressor__n_estimators=100, score=0.853785000608749, total=   0.6s\n",
      "[CV] gradientboostingregressor__init=None, gradientboostingregressor__max_depth=3, gradientboostingregressor__max_features=6, gradientboostingregressor__n_estimators=200 \n",
      "[CV]  gradientboostingregressor__init=None, gradientboostingregressor__max_depth=3, gradientboostingregressor__max_features=6, gradientboostingregressor__n_estimators=200, score=0.8728989872421231, total=   1.3s\n",
      "[CV] gradientboostingregressor__init=None, gradientboostingregressor__max_depth=3, gradientboostingregressor__max_features=6, gradientboostingregressor__n_estimators=200 \n",
      "[CV]  gradientboostingregressor__init=None, gradientboostingregressor__max_depth=3, gradientboostingregressor__max_features=6, gradientboostingregressor__n_estimators=200, score=0.8702430574074763, total=   1.2s\n",
      "[CV] gradientboostingregressor__init=None, gradientboostingregressor__max_depth=3, gradientboostingregressor__max_features=6, gradientboostingregressor__n_estimators=200 \n",
      "[CV]  gradientboostingregressor__init=None, gradientboostingregressor__max_depth=3, gradientboostingregressor__max_features=6, gradientboostingregressor__n_estimators=200, score=0.8715046784113372, total=   1.2s\n",
      "[CV] gradientboostingregressor__init=None, gradientboostingregressor__max_depth=3, gradientboostingregressor__max_features=auto, gradientboostingregressor__n_estimators=50 \n",
      "[CV]  gradientboostingregressor__init=None, gradientboostingregressor__max_depth=3, gradientboostingregressor__max_features=auto, gradientboostingregressor__n_estimators=50, score=0.8555746571556927, total=   1.0s\n",
      "[CV] gradientboostingregressor__init=None, gradientboostingregressor__max_depth=3, gradientboostingregressor__max_features=auto, gradientboostingregressor__n_estimators=50 \n",
      "[CV]  gradientboostingregressor__init=None, gradientboostingregressor__max_depth=3, gradientboostingregressor__max_features=auto, gradientboostingregressor__n_estimators=50, score=0.8566511026320172, total=   1.0s\n",
      "[CV] gradientboostingregressor__init=None, gradientboostingregressor__max_depth=3, gradientboostingregressor__max_features=auto, gradientboostingregressor__n_estimators=50 \n",
      "[CV]  gradientboostingregressor__init=None, gradientboostingregressor__max_depth=3, gradientboostingregressor__max_features=auto, gradientboostingregressor__n_estimators=50, score=0.856150430771305, total=   1.0s\n",
      "[CV] gradientboostingregressor__init=None, gradientboostingregressor__max_depth=3, gradientboostingregressor__max_features=auto, gradientboostingregressor__n_estimators=100 \n",
      "[CV]  gradientboostingregressor__init=None, gradientboostingregressor__max_depth=3, gradientboostingregressor__max_features=auto, gradientboostingregressor__n_estimators=100, score=0.8694492805234523, total=   2.2s\n",
      "[CV] gradientboostingregressor__init=None, gradientboostingregressor__max_depth=3, gradientboostingregressor__max_features=auto, gradientboostingregressor__n_estimators=100 \n",
      "[CV]  gradientboostingregressor__init=None, gradientboostingregressor__max_depth=3, gradientboostingregressor__max_features=auto, gradientboostingregressor__n_estimators=100, score=0.8705601775066932, total=   1.7s\n",
      "[CV] gradientboostingregressor__init=None, gradientboostingregressor__max_depth=3, gradientboostingregressor__max_features=auto, gradientboostingregressor__n_estimators=100 \n",
      "[CV]  gradientboostingregressor__init=None, gradientboostingregressor__max_depth=3, gradientboostingregressor__max_features=auto, gradientboostingregressor__n_estimators=100, score=0.870771650828562, total=   1.6s\n",
      "[CV] gradientboostingregressor__init=None, gradientboostingregressor__max_depth=3, gradientboostingregressor__max_features=auto, gradientboostingregressor__n_estimators=200 \n"
     ]
    },
    {
     "name": "stdout",
     "output_type": "stream",
     "text": [
      "[CV]  gradientboostingregressor__init=None, gradientboostingregressor__max_depth=3, gradientboostingregressor__max_features=auto, gradientboostingregressor__n_estimators=200, score=0.8817065994296424, total=   2.9s\n",
      "[CV] gradientboostingregressor__init=None, gradientboostingregressor__max_depth=3, gradientboostingregressor__max_features=auto, gradientboostingregressor__n_estimators=200 \n",
      "[CV]  gradientboostingregressor__init=None, gradientboostingregressor__max_depth=3, gradientboostingregressor__max_features=auto, gradientboostingregressor__n_estimators=200, score=0.8864686563239146, total=   3.1s\n",
      "[CV] gradientboostingregressor__init=None, gradientboostingregressor__max_depth=3, gradientboostingregressor__max_features=auto, gradientboostingregressor__n_estimators=200 \n",
      "[CV]  gradientboostingregressor__init=None, gradientboostingregressor__max_depth=3, gradientboostingregressor__max_features=auto, gradientboostingregressor__n_estimators=200, score=0.8831525477042182, total=   3.2s\n",
      "[CV] gradientboostingregressor__init=None, gradientboostingregressor__max_depth=5, gradientboostingregressor__max_features=3, gradientboostingregressor__n_estimators=50 \n",
      "[CV]  gradientboostingregressor__init=None, gradientboostingregressor__max_depth=5, gradientboostingregressor__max_features=3, gradientboostingregressor__n_estimators=50, score=0.8462657818644458, total=   0.4s\n",
      "[CV] gradientboostingregressor__init=None, gradientboostingregressor__max_depth=5, gradientboostingregressor__max_features=3, gradientboostingregressor__n_estimators=50 \n",
      "[CV]  gradientboostingregressor__init=None, gradientboostingregressor__max_depth=5, gradientboostingregressor__max_features=3, gradientboostingregressor__n_estimators=50, score=0.8467963454744061, total=   0.4s\n",
      "[CV] gradientboostingregressor__init=None, gradientboostingregressor__max_depth=5, gradientboostingregressor__max_features=3, gradientboostingregressor__n_estimators=50 \n",
      "[CV]  gradientboostingregressor__init=None, gradientboostingregressor__max_depth=5, gradientboostingregressor__max_features=3, gradientboostingregressor__n_estimators=50, score=0.843578606347642, total=   0.5s\n",
      "[CV] gradientboostingregressor__init=None, gradientboostingregressor__max_depth=5, gradientboostingregressor__max_features=3, gradientboostingregressor__n_estimators=100 \n",
      "[CV]  gradientboostingregressor__init=None, gradientboostingregressor__max_depth=5, gradientboostingregressor__max_features=3, gradientboostingregressor__n_estimators=100, score=0.8691601161882712, total=   0.8s\n",
      "[CV] gradientboostingregressor__init=None, gradientboostingregressor__max_depth=5, gradientboostingregressor__max_features=3, gradientboostingregressor__n_estimators=100 \n",
      "[CV]  gradientboostingregressor__init=None, gradientboostingregressor__max_depth=5, gradientboostingregressor__max_features=3, gradientboostingregressor__n_estimators=100, score=0.8711443179688038, total=   0.8s\n",
      "[CV] gradientboostingregressor__init=None, gradientboostingregressor__max_depth=5, gradientboostingregressor__max_features=3, gradientboostingregressor__n_estimators=100 \n",
      "[CV]  gradientboostingregressor__init=None, gradientboostingregressor__max_depth=5, gradientboostingregressor__max_features=3, gradientboostingregressor__n_estimators=100, score=0.868718318011947, total=   0.8s\n",
      "[CV] gradientboostingregressor__init=None, gradientboostingregressor__max_depth=5, gradientboostingregressor__max_features=3, gradientboostingregressor__n_estimators=200 \n",
      "[CV]  gradientboostingregressor__init=None, gradientboostingregressor__max_depth=5, gradientboostingregressor__max_features=3, gradientboostingregressor__n_estimators=200, score=0.8834817895940263, total=   1.6s\n",
      "[CV] gradientboostingregressor__init=None, gradientboostingregressor__max_depth=5, gradientboostingregressor__max_features=3, gradientboostingregressor__n_estimators=200 \n",
      "[CV]  gradientboostingregressor__init=None, gradientboostingregressor__max_depth=5, gradientboostingregressor__max_features=3, gradientboostingregressor__n_estimators=200, score=0.8871463701632837, total=   1.6s\n",
      "[CV] gradientboostingregressor__init=None, gradientboostingregressor__max_depth=5, gradientboostingregressor__max_features=3, gradientboostingregressor__n_estimators=200 \n",
      "[CV]  gradientboostingregressor__init=None, gradientboostingregressor__max_depth=5, gradientboostingregressor__max_features=3, gradientboostingregressor__n_estimators=200, score=0.8833764354018211, total=   1.7s\n",
      "[CV] gradientboostingregressor__init=None, gradientboostingregressor__max_depth=5, gradientboostingregressor__max_features=6, gradientboostingregressor__n_estimators=50 \n",
      "[CV]  gradientboostingregressor__init=None, gradientboostingregressor__max_depth=5, gradientboostingregressor__max_features=6, gradientboostingregressor__n_estimators=50, score=0.8710091213747728, total=   0.7s\n",
      "[CV] gradientboostingregressor__init=None, gradientboostingregressor__max_depth=5, gradientboostingregressor__max_features=6, gradientboostingregressor__n_estimators=50 \n",
      "[CV]  gradientboostingregressor__init=None, gradientboostingregressor__max_depth=5, gradientboostingregressor__max_features=6, gradientboostingregressor__n_estimators=50, score=0.8715881535666037, total=   0.7s\n",
      "[CV] gradientboostingregressor__init=None, gradientboostingregressor__max_depth=5, gradientboostingregressor__max_features=6, gradientboostingregressor__n_estimators=50 \n",
      "[CV]  gradientboostingregressor__init=None, gradientboostingregressor__max_depth=5, gradientboostingregressor__max_features=6, gradientboostingregressor__n_estimators=50, score=0.8733616367597632, total=   0.8s\n",
      "[CV] gradientboostingregressor__init=None, gradientboostingregressor__max_depth=5, gradientboostingregressor__max_features=6, gradientboostingregressor__n_estimators=100 \n",
      "[CV]  gradientboostingregressor__init=None, gradientboostingregressor__max_depth=5, gradientboostingregressor__max_features=6, gradientboostingregressor__n_estimators=100, score=0.886894416484197, total=   1.4s\n",
      "[CV] gradientboostingregressor__init=None, gradientboostingregressor__max_depth=5, gradientboostingregressor__max_features=6, gradientboostingregressor__n_estimators=100 \n",
      "[CV]  gradientboostingregressor__init=None, gradientboostingregressor__max_depth=5, gradientboostingregressor__max_features=6, gradientboostingregressor__n_estimators=100, score=0.8876211838843758, total=   1.5s\n",
      "[CV] gradientboostingregressor__init=None, gradientboostingregressor__max_depth=5, gradientboostingregressor__max_features=6, gradientboostingregressor__n_estimators=100 \n",
      "[CV]  gradientboostingregressor__init=None, gradientboostingregressor__max_depth=5, gradientboostingregressor__max_features=6, gradientboostingregressor__n_estimators=100, score=0.8871837394874457, total=   1.4s\n",
      "[CV] gradientboostingregressor__init=None, gradientboostingregressor__max_depth=5, gradientboostingregressor__max_features=6, gradientboostingregressor__n_estimators=200 \n",
      "[CV]  gradientboostingregressor__init=None, gradientboostingregressor__max_depth=5, gradientboostingregressor__max_features=6, gradientboostingregressor__n_estimators=200, score=0.8944789184047145, total=   3.1s\n",
      "[CV] gradientboostingregressor__init=None, gradientboostingregressor__max_depth=5, gradientboostingregressor__max_features=6, gradientboostingregressor__n_estimators=200 \n",
      "[CV]  gradientboostingregressor__init=None, gradientboostingregressor__max_depth=5, gradientboostingregressor__max_features=6, gradientboostingregressor__n_estimators=200, score=0.8963670325680074, total=   2.7s\n",
      "[CV] gradientboostingregressor__init=None, gradientboostingregressor__max_depth=5, gradientboostingregressor__max_features=6, gradientboostingregressor__n_estimators=200 \n",
      "[CV]  gradientboostingregressor__init=None, gradientboostingregressor__max_depth=5, gradientboostingregressor__max_features=6, gradientboostingregressor__n_estimators=200, score=0.8962231532167654, total=   2.7s\n",
      "[CV] gradientboostingregressor__init=None, gradientboostingregressor__max_depth=5, gradientboostingregressor__max_features=auto, gradientboostingregressor__n_estimators=50 \n",
      "[CV]  gradientboostingregressor__init=None, gradientboostingregressor__max_depth=5, gradientboostingregressor__max_features=auto, gradientboostingregressor__n_estimators=50, score=0.8878883922202733, total=   2.0s\n",
      "[CV] gradientboostingregressor__init=None, gradientboostingregressor__max_depth=5, gradientboostingregressor__max_features=auto, gradientboostingregressor__n_estimators=50 \n"
     ]
    },
    {
     "name": "stdout",
     "output_type": "stream",
     "text": [
      "[CV]  gradientboostingregressor__init=None, gradientboostingregressor__max_depth=5, gradientboostingregressor__max_features=auto, gradientboostingregressor__n_estimators=50, score=0.8900277061640344, total=   2.1s\n",
      "[CV] gradientboostingregressor__init=None, gradientboostingregressor__max_depth=5, gradientboostingregressor__max_features=auto, gradientboostingregressor__n_estimators=50 \n",
      "[CV]  gradientboostingregressor__init=None, gradientboostingregressor__max_depth=5, gradientboostingregressor__max_features=auto, gradientboostingregressor__n_estimators=50, score=0.8879747665324168, total=   2.2s\n",
      "[CV] gradientboostingregressor__init=None, gradientboostingregressor__max_depth=5, gradientboostingregressor__max_features=auto, gradientboostingregressor__n_estimators=100 \n",
      "[CV]  gradientboostingregressor__init=None, gradientboostingregressor__max_depth=5, gradientboostingregressor__max_features=auto, gradientboostingregressor__n_estimators=100, score=0.8957512672883914, total=   3.7s\n",
      "[CV] gradientboostingregressor__init=None, gradientboostingregressor__max_depth=5, gradientboostingregressor__max_features=auto, gradientboostingregressor__n_estimators=100 \n",
      "[CV]  gradientboostingregressor__init=None, gradientboostingregressor__max_depth=5, gradientboostingregressor__max_features=auto, gradientboostingregressor__n_estimators=100, score=0.8981421595704477, total=   3.8s\n",
      "[CV] gradientboostingregressor__init=None, gradientboostingregressor__max_depth=5, gradientboostingregressor__max_features=auto, gradientboostingregressor__n_estimators=100 \n",
      "[CV]  gradientboostingregressor__init=None, gradientboostingregressor__max_depth=5, gradientboostingregressor__max_features=auto, gradientboostingregressor__n_estimators=100, score=0.8960669058391093, total=   3.6s\n",
      "[CV] gradientboostingregressor__init=None, gradientboostingregressor__max_depth=5, gradientboostingregressor__max_features=auto, gradientboostingregressor__n_estimators=200 \n",
      "[CV]  gradientboostingregressor__init=None, gradientboostingregressor__max_depth=5, gradientboostingregressor__max_features=auto, gradientboostingregressor__n_estimators=200, score=0.8991509598913513, total=   6.9s\n",
      "[CV] gradientboostingregressor__init=None, gradientboostingregressor__max_depth=5, gradientboostingregressor__max_features=auto, gradientboostingregressor__n_estimators=200 \n",
      "[CV]  gradientboostingregressor__init=None, gradientboostingregressor__max_depth=5, gradientboostingregressor__max_features=auto, gradientboostingregressor__n_estimators=200, score=0.9017375494797926, total=   7.0s\n",
      "[CV] gradientboostingregressor__init=None, gradientboostingregressor__max_depth=5, gradientboostingregressor__max_features=auto, gradientboostingregressor__n_estimators=200 \n",
      "[CV]  gradientboostingregressor__init=None, gradientboostingregressor__max_depth=5, gradientboostingregressor__max_features=auto, gradientboostingregressor__n_estimators=200, score=0.9010645319552422, total=   7.4s\n",
      "[CV] gradientboostingregressor__init=None, gradientboostingregressor__max_depth=7, gradientboostingregressor__max_features=3, gradientboostingregressor__n_estimators=50 \n",
      "[CV]  gradientboostingregressor__init=None, gradientboostingregressor__max_depth=7, gradientboostingregressor__max_features=3, gradientboostingregressor__n_estimators=50, score=0.8722187563957641, total=   0.9s\n",
      "[CV] gradientboostingregressor__init=None, gradientboostingregressor__max_depth=7, gradientboostingregressor__max_features=3, gradientboostingregressor__n_estimators=50 \n",
      "[CV]  gradientboostingregressor__init=None, gradientboostingregressor__max_depth=7, gradientboostingregressor__max_features=3, gradientboostingregressor__n_estimators=50, score=0.8677033802398803, total=   1.0s\n",
      "[CV] gradientboostingregressor__init=None, gradientboostingregressor__max_depth=7, gradientboostingregressor__max_features=3, gradientboostingregressor__n_estimators=50 \n",
      "[CV]  gradientboostingregressor__init=None, gradientboostingregressor__max_depth=7, gradientboostingregressor__max_features=3, gradientboostingregressor__n_estimators=50, score=0.8634248616257139, total=   0.8s\n",
      "[CV] gradientboostingregressor__init=None, gradientboostingregressor__max_depth=7, gradientboostingregressor__max_features=3, gradientboostingregressor__n_estimators=100 \n",
      "[CV]  gradientboostingregressor__init=None, gradientboostingregressor__max_depth=7, gradientboostingregressor__max_features=3, gradientboostingregressor__n_estimators=100, score=0.8887560839022999, total=   1.5s\n",
      "[CV] gradientboostingregressor__init=None, gradientboostingregressor__max_depth=7, gradientboostingregressor__max_features=3, gradientboostingregressor__n_estimators=100 \n",
      "[CV]  gradientboostingregressor__init=None, gradientboostingregressor__max_depth=7, gradientboostingregressor__max_features=3, gradientboostingregressor__n_estimators=100, score=0.8881607074448216, total=   1.5s\n",
      "[CV] gradientboostingregressor__init=None, gradientboostingregressor__max_depth=7, gradientboostingregressor__max_features=3, gradientboostingregressor__n_estimators=100 \n",
      "[CV]  gradientboostingregressor__init=None, gradientboostingregressor__max_depth=7, gradientboostingregressor__max_features=3, gradientboostingregressor__n_estimators=100, score=0.8833314426180473, total=   1.6s\n",
      "[CV] gradientboostingregressor__init=None, gradientboostingregressor__max_depth=7, gradientboostingregressor__max_features=3, gradientboostingregressor__n_estimators=200 \n",
      "[CV]  gradientboostingregressor__init=None, gradientboostingregressor__max_depth=7, gradientboostingregressor__max_features=3, gradientboostingregressor__n_estimators=200, score=0.8973273571046364, total=   3.3s\n",
      "[CV] gradientboostingregressor__init=None, gradientboostingregressor__max_depth=7, gradientboostingregressor__max_features=3, gradientboostingregressor__n_estimators=200 \n",
      "[CV]  gradientboostingregressor__init=None, gradientboostingregressor__max_depth=7, gradientboostingregressor__max_features=3, gradientboostingregressor__n_estimators=200, score=0.8975880760473133, total=   3.9s\n",
      "[CV] gradientboostingregressor__init=None, gradientboostingregressor__max_depth=7, gradientboostingregressor__max_features=3, gradientboostingregressor__n_estimators=200 \n",
      "[CV]  gradientboostingregressor__init=None, gradientboostingregressor__max_depth=7, gradientboostingregressor__max_features=3, gradientboostingregressor__n_estimators=200, score=0.8958765669187466, total=   3.7s\n",
      "[CV] gradientboostingregressor__init=None, gradientboostingregressor__max_depth=7, gradientboostingregressor__max_features=6, gradientboostingregressor__n_estimators=50 \n",
      "[CV]  gradientboostingregressor__init=None, gradientboostingregressor__max_depth=7, gradientboostingregressor__max_features=6, gradientboostingregressor__n_estimators=50, score=0.8918197476979881, total=   1.8s\n",
      "[CV] gradientboostingregressor__init=None, gradientboostingregressor__max_depth=7, gradientboostingregressor__max_features=6, gradientboostingregressor__n_estimators=50 \n",
      "[CV]  gradientboostingregressor__init=None, gradientboostingregressor__max_depth=7, gradientboostingregressor__max_features=6, gradientboostingregressor__n_estimators=50, score=0.891322157746076, total=   1.6s\n",
      "[CV] gradientboostingregressor__init=None, gradientboostingregressor__max_depth=7, gradientboostingregressor__max_features=6, gradientboostingregressor__n_estimators=50 \n",
      "[CV]  gradientboostingregressor__init=None, gradientboostingregressor__max_depth=7, gradientboostingregressor__max_features=6, gradientboostingregressor__n_estimators=50, score=0.8912328408402528, total=   1.4s\n",
      "[CV] gradientboostingregressor__init=None, gradientboostingregressor__max_depth=7, gradientboostingregressor__max_features=6, gradientboostingregressor__n_estimators=100 \n",
      "[CV]  gradientboostingregressor__init=None, gradientboostingregressor__max_depth=7, gradientboostingregressor__max_features=6, gradientboostingregressor__n_estimators=100, score=0.9001152932459321, total=   2.7s\n",
      "[CV] gradientboostingregressor__init=None, gradientboostingregressor__max_depth=7, gradientboostingregressor__max_features=6, gradientboostingregressor__n_estimators=100 \n",
      "[CV]  gradientboostingregressor__init=None, gradientboostingregressor__max_depth=7, gradientboostingregressor__max_features=6, gradientboostingregressor__n_estimators=100, score=0.9002284810330334, total=   2.6s\n",
      "[CV] gradientboostingregressor__init=None, gradientboostingregressor__max_depth=7, gradientboostingregressor__max_features=6, gradientboostingregressor__n_estimators=100 \n"
     ]
    },
    {
     "name": "stdout",
     "output_type": "stream",
     "text": [
      "[CV]  gradientboostingregressor__init=None, gradientboostingregressor__max_depth=7, gradientboostingregressor__max_features=6, gradientboostingregressor__n_estimators=100, score=0.9006018020294257, total=   2.9s\n",
      "[CV] gradientboostingregressor__init=None, gradientboostingregressor__max_depth=7, gradientboostingregressor__max_features=6, gradientboostingregressor__n_estimators=200 \n",
      "[CV]  gradientboostingregressor__init=None, gradientboostingregressor__max_depth=7, gradientboostingregressor__max_features=6, gradientboostingregressor__n_estimators=200, score=0.9040412511580916, total=   5.6s\n",
      "[CV] gradientboostingregressor__init=None, gradientboostingregressor__max_depth=7, gradientboostingregressor__max_features=6, gradientboostingregressor__n_estimators=200 \n",
      "[CV]  gradientboostingregressor__init=None, gradientboostingregressor__max_depth=7, gradientboostingregressor__max_features=6, gradientboostingregressor__n_estimators=200, score=0.903690227426603, total=   5.8s\n",
      "[CV] gradientboostingregressor__init=None, gradientboostingregressor__max_depth=7, gradientboostingregressor__max_features=6, gradientboostingregressor__n_estimators=200 \n",
      "[CV]  gradientboostingregressor__init=None, gradientboostingregressor__max_depth=7, gradientboostingregressor__max_features=6, gradientboostingregressor__n_estimators=200, score=0.9034426788835113, total=   5.0s\n",
      "[CV] gradientboostingregressor__init=None, gradientboostingregressor__max_depth=7, gradientboostingregressor__max_features=auto, gradientboostingregressor__n_estimators=50 \n",
      "[CV]  gradientboostingregressor__init=None, gradientboostingregressor__max_depth=7, gradientboostingregressor__max_features=auto, gradientboostingregressor__n_estimators=50, score=0.8970497733849851, total=   4.9s\n",
      "[CV] gradientboostingregressor__init=None, gradientboostingregressor__max_depth=7, gradientboostingregressor__max_features=auto, gradientboostingregressor__n_estimators=50 \n",
      "[CV]  gradientboostingregressor__init=None, gradientboostingregressor__max_depth=7, gradientboostingregressor__max_features=auto, gradientboostingregressor__n_estimators=50, score=0.898379091965191, total=   4.8s\n",
      "[CV] gradientboostingregressor__init=None, gradientboostingregressor__max_depth=7, gradientboostingregressor__max_features=auto, gradientboostingregressor__n_estimators=50 \n",
      "[CV]  gradientboostingregressor__init=None, gradientboostingregressor__max_depth=7, gradientboostingregressor__max_features=auto, gradientboostingregressor__n_estimators=50, score=0.8975172637549825, total=   5.1s\n",
      "[CV] gradientboostingregressor__init=None, gradientboostingregressor__max_depth=7, gradientboostingregressor__max_features=auto, gradientboostingregressor__n_estimators=100 \n",
      "[CV]  gradientboostingregressor__init=None, gradientboostingregressor__max_depth=7, gradientboostingregressor__max_features=auto, gradientboostingregressor__n_estimators=100, score=0.9027034388073941, total=  10.0s\n",
      "[CV] gradientboostingregressor__init=None, gradientboostingregressor__max_depth=7, gradientboostingregressor__max_features=auto, gradientboostingregressor__n_estimators=100 \n",
      "[CV]  gradientboostingregressor__init=None, gradientboostingregressor__max_depth=7, gradientboostingregressor__max_features=auto, gradientboostingregressor__n_estimators=100, score=0.9029430616798978, total=   8.7s\n",
      "[CV] gradientboostingregressor__init=None, gradientboostingregressor__max_depth=7, gradientboostingregressor__max_features=auto, gradientboostingregressor__n_estimators=100 \n",
      "[CV]  gradientboostingregressor__init=None, gradientboostingregressor__max_depth=7, gradientboostingregressor__max_features=auto, gradientboostingregressor__n_estimators=100, score=0.9023452580211733, total=   7.6s\n",
      "[CV] gradientboostingregressor__init=None, gradientboostingregressor__max_depth=7, gradientboostingregressor__max_features=auto, gradientboostingregressor__n_estimators=200 \n",
      "[CV]  gradientboostingregressor__init=None, gradientboostingregressor__max_depth=7, gradientboostingregressor__max_features=auto, gradientboostingregressor__n_estimators=200, score=0.9046720725056875, total=  15.3s\n",
      "[CV] gradientboostingregressor__init=None, gradientboostingregressor__max_depth=7, gradientboostingregressor__max_features=auto, gradientboostingregressor__n_estimators=200 \n",
      "[CV]  gradientboostingregressor__init=None, gradientboostingregressor__max_depth=7, gradientboostingregressor__max_features=auto, gradientboostingregressor__n_estimators=200, score=0.9042347379290588, total=  17.8s\n",
      "[CV] gradientboostingregressor__init=None, gradientboostingregressor__max_depth=7, gradientboostingregressor__max_features=auto, gradientboostingregressor__n_estimators=200 \n",
      "[CV]  gradientboostingregressor__init=None, gradientboostingregressor__max_depth=7, gradientboostingregressor__max_features=auto, gradientboostingregressor__n_estimators=200, score=0.9041880983277748, total=  15.6s\n"
     ]
    },
    {
     "name": "stderr",
     "output_type": "stream",
     "text": [
      "[Parallel(n_jobs=1)]: Done  81 out of  81 | elapsed:  3.9min finished\n"
     ]
    },
    {
     "data": {
      "text/plain": [
       "GridSearchCV(cv=3, error_score='raise',\n",
       "       estimator=Pipeline(memory=None,\n",
       "     steps=[('gradientboostingregressor', GradientBoostingRegressor(alpha=0.9, criterion='friedman_mse', init=None,\n",
       "             learning_rate=0.1, loss='ls', max_depth=3, max_features=None,\n",
       "             max_leaf_nodes=None, min_impurity_decrease=0.0,\n",
       "             min...ors=100, presort='auto', random_state=0,\n",
       "             subsample=1.0, verbose=0, warm_start=False))]),\n",
       "       fit_params=None, iid=True, n_jobs=1,\n",
       "       param_grid={'gradientboostingregressor__n_estimators': [50, 100, 200], 'gradientboostingregressor__max_features': [3, 6, 'auto'], 'gradientboostingregressor__max_depth': [3, 5, 7], 'gradientboostingregressor__init': [None]},\n",
       "       pre_dispatch='2*n_jobs', refit=True, return_train_score='warn',\n",
       "       scoring='r2', verbose=3)"
      ]
     },
     "execution_count": 35,
     "metadata": {},
     "output_type": "execute_result"
    }
   ],
   "source": [
    "gbt_grid.fit(X_train, y_train)"
   ]
  },
  {
   "cell_type": "code",
   "execution_count": 36,
   "metadata": {},
   "outputs": [
    {
     "data": {
      "text/plain": [
       "0.90436496958750701"
      ]
     },
     "execution_count": 36,
     "metadata": {},
     "output_type": "execute_result"
    }
   ],
   "source": [
    "gbt_grid.best_score_"
   ]
  },
  {
   "cell_type": "markdown",
   "metadata": {},
   "source": [
    "## XGBoost Regressor"
   ]
  },
  {
   "cell_type": "code",
   "execution_count": 39,
   "metadata": {
    "collapsed": true
   },
   "outputs": [],
   "source": [
    "xgb_pipe = make_pipeline(XGBRegressor())\n",
    "xgb_params = {}\n",
    "xgb_grid = GridSearchCV(xgb_pipe, xgb_params, cv=3, scoring='r2', verbose=3)"
   ]
  },
  {
   "cell_type": "code",
   "execution_count": 40,
   "metadata": {},
   "outputs": [
    {
     "name": "stdout",
     "output_type": "stream",
     "text": [
      "Fitting 3 folds for each of 1 candidates, totalling 3 fits\n",
      "[CV]  ................................................................\n",
      "[CV] ....................... , score=0.8706531169012568, total=   0.3s\n",
      "[CV]  ................................................................\n"
     ]
    },
    {
     "name": "stderr",
     "output_type": "stream",
     "text": [
      "[Parallel(n_jobs=1)]: Done   1 out of   1 | elapsed:    0.4s remaining:    0.0s\n"
     ]
    },
    {
     "name": "stdout",
     "output_type": "stream",
     "text": [
      "[CV] ....................... , score=0.8693851826641639, total=   0.2s\n",
      "[CV]  ................................................................\n",
      "[CV] ....................... , score=0.8679147000763284, total=   0.2s\n"
     ]
    },
    {
     "name": "stderr",
     "output_type": "stream",
     "text": [
      "[Parallel(n_jobs=1)]: Done   2 out of   2 | elapsed:    0.6s remaining:    0.0s\n",
      "[Parallel(n_jobs=1)]: Done   3 out of   3 | elapsed:    0.8s finished\n"
     ]
    },
    {
     "data": {
      "text/plain": [
       "GridSearchCV(cv=3, error_score='raise',\n",
       "       estimator=Pipeline(memory=None,\n",
       "     steps=[('xgbregressor', XGBRegressor(base_score=0.5, colsample_bylevel=1, colsample_bytree=1, gamma=0,\n",
       "       learning_rate=0.1, max_delta_step=0, max_depth=3,\n",
       "       min_child_weight=1, missing=None, n_estimators=100, nthread=-1,\n",
       "       objective='reg:linear', reg_alpha=0, reg_lambda=1,\n",
       "       scale_pos_weight=1, seed=0, silent=True, subsample=1))]),\n",
       "       fit_params=None, iid=True, n_jobs=1, param_grid={},\n",
       "       pre_dispatch='2*n_jobs', refit=True, return_train_score='warn',\n",
       "       scoring='r2', verbose=3)"
      ]
     },
     "execution_count": 40,
     "metadata": {},
     "output_type": "execute_result"
    }
   ],
   "source": [
    "xgb_grid.fit(X_train, y_train)"
   ]
  },
  {
   "cell_type": "code",
   "execution_count": 41,
   "metadata": {},
   "outputs": [
    {
     "data": {
      "text/plain": [
       "0.86931766654724962"
      ]
     },
     "execution_count": 41,
     "metadata": {},
     "output_type": "execute_result"
    }
   ],
   "source": [
    "xgb_grid.best_score_"
   ]
  },
  {
   "cell_type": "code",
   "execution_count": null,
   "metadata": {
    "collapsed": true
   },
   "outputs": [],
   "source": []
  }
 ],
 "metadata": {
  "anaconda-cloud": {},
  "kernelspec": {
   "display_name": "Python 3",
   "language": "python",
   "name": "python3"
  },
  "language_info": {
   "codemirror_mode": {
    "name": "ipython",
    "version": 3
   },
   "file_extension": ".py",
   "mimetype": "text/x-python",
   "name": "python",
   "nbconvert_exporter": "python",
   "pygments_lexer": "ipython3",
   "version": "3.6.2"
  }
 },
 "nbformat": 4,
 "nbformat_minor": 2
}
