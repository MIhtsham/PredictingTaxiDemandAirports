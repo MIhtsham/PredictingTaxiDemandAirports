{
 "cells": [
  {
   "cell_type": "code",
   "execution_count": 9,
   "metadata": {
    "collapsed": true
   },
   "outputs": [],
   "source": [
    "import pandas as pd\n",
    "import datetime\n",
    "import numpy as np\n",
    "import matplotlib.pyplot as plt\n",
    "from sklearn.ensemble import RandomForestRegressor, BaggingRegressor, GradientBoostingRegressor, AdaBoostRegressor\n",
    "from sklearn.neighbors import KNeighborsRegressor"
   ]
  },
  {
   "cell_type": "code",
   "execution_count": 10,
   "metadata": {
    "collapsed": false
   },
   "outputs": [],
   "source": [
    "import pandas as pd\n",
    "import matplotlib.pyplot as plt\n",
    "import seaborn as sns\n",
    "import numpy as np\n",
    "import numpy as np\n",
    "from sklearn.linear_model import Ridge, LinearRegression, Lasso, RidgeCV, LassoCV\n",
    "from sklearn.preprocessing import StandardScaler, RobustScaler, MinMaxScaler, Normalizer\n",
    "from sklearn.model_selection import cross_val_score\n",
    "from sklearn.preprocessing import PolynomialFeatures\n",
    "from sklearn.model_selection import GridSearchCV, RandomizedSearchCV\n",
    "from sklearn.pipeline import make_pipeline\n",
    "from sklearn.feature_selection import VarianceThreshold\n",
    "from sklearn.svm import SVR\n",
    "import pandas as pd\n",
    "import matplotlib.pyplot as plt\n",
    "from sklearn.utils import shuffle\n",
    "from sklearn.model_selection import train_test_split\n",
    "%matplotlib inline\n",
    "# plt.style.use(\"ggplot\")\n",
    "sns.set_style(\"darkgrid\")"
   ]
  },
  {
   "cell_type": "code",
   "execution_count": 11,
   "metadata": {
    "collapsed": true
   },
   "outputs": [],
   "source": [
    "data = pd.read_csv(\"../clean_data/FinalData_for_Models.csv\")"
   ]
  },
  {
   "cell_type": "code",
   "execution_count": 12,
   "metadata": {
    "collapsed": false
   },
   "outputs": [],
   "source": [
    "data.rename(columns={'Unnamed: 0':'pickup_time'}, inplace=True)"
   ]
  },
  {
   "cell_type": "code",
   "execution_count": 13,
   "metadata": {
    "collapsed": false
   },
   "outputs": [
    {
     "data": {
      "text/html": [
       "<div>\n",
       "<style>\n",
       "    .dataframe thead tr:only-child th {\n",
       "        text-align: right;\n",
       "    }\n",
       "\n",
       "    .dataframe thead th {\n",
       "        text-align: left;\n",
       "    }\n",
       "\n",
       "    .dataframe tbody tr th {\n",
       "        vertical-align: top;\n",
       "    }\n",
       "</style>\n",
       "<table border=\"1\" class=\"dataframe\">\n",
       "  <thead>\n",
       "    <tr style=\"text-align: right;\">\n",
       "      <th></th>\n",
       "      <th>pickup_time</th>\n",
       "      <th>num_pickups</th>\n",
       "      <th>num_passengers</th>\n",
       "      <th>missing_dt</th>\n",
       "      <th>temp</th>\n",
       "      <th>temp_min</th>\n",
       "      <th>temp_max</th>\n",
       "      <th>humidity</th>\n",
       "      <th>wind_speed</th>\n",
       "      <th>weather_main</th>\n",
       "      <th>weather_description</th>\n",
       "      <th>Passengers</th>\n",
       "      <th>Month</th>\n",
       "      <th>Hour</th>\n",
       "      <th>Day</th>\n",
       "      <th>holiday</th>\n",
       "      <th>precip_in</th>\n",
       "    </tr>\n",
       "  </thead>\n",
       "  <tbody>\n",
       "    <tr>\n",
       "      <th>0</th>\n",
       "      <td>2014-01-01 00:00:00-05:00</td>\n",
       "      <td>107.0</td>\n",
       "      <td>210.0</td>\n",
       "      <td>False</td>\n",
       "      <td>269.27</td>\n",
       "      <td>267.59</td>\n",
       "      <td>270.93</td>\n",
       "      <td>80.0</td>\n",
       "      <td>3.0</td>\n",
       "      <td>clear</td>\n",
       "      <td>sky is clear</td>\n",
       "      <td>108.0</td>\n",
       "      <td>1</td>\n",
       "      <td>0</td>\n",
       "      <td>2</td>\n",
       "      <td>True</td>\n",
       "      <td>0.0</td>\n",
       "    </tr>\n",
       "    <tr>\n",
       "      <th>1</th>\n",
       "      <td>2014-01-01 01:00:00-05:00</td>\n",
       "      <td>34.0</td>\n",
       "      <td>45.0</td>\n",
       "      <td>False</td>\n",
       "      <td>268.90</td>\n",
       "      <td>267.04</td>\n",
       "      <td>270.93</td>\n",
       "      <td>80.0</td>\n",
       "      <td>2.0</td>\n",
       "      <td>clear</td>\n",
       "      <td>sky is clear</td>\n",
       "      <td>0.0</td>\n",
       "      <td>1</td>\n",
       "      <td>1</td>\n",
       "      <td>2</td>\n",
       "      <td>True</td>\n",
       "      <td>0.0</td>\n",
       "    </tr>\n",
       "    <tr>\n",
       "      <th>2</th>\n",
       "      <td>2014-01-01 02:00:00-05:00</td>\n",
       "      <td>34.0</td>\n",
       "      <td>70.0</td>\n",
       "      <td>False</td>\n",
       "      <td>268.48</td>\n",
       "      <td>266.48</td>\n",
       "      <td>270.37</td>\n",
       "      <td>57.0</td>\n",
       "      <td>3.0</td>\n",
       "      <td>clear</td>\n",
       "      <td>sky is clear</td>\n",
       "      <td>0.0</td>\n",
       "      <td>1</td>\n",
       "      <td>2</td>\n",
       "      <td>2</td>\n",
       "      <td>True</td>\n",
       "      <td>0.0</td>\n",
       "    </tr>\n",
       "    <tr>\n",
       "      <th>3</th>\n",
       "      <td>2014-01-01 03:00:00-05:00</td>\n",
       "      <td>12.0</td>\n",
       "      <td>18.0</td>\n",
       "      <td>False</td>\n",
       "      <td>268.33</td>\n",
       "      <td>265.93</td>\n",
       "      <td>270.37</td>\n",
       "      <td>80.0</td>\n",
       "      <td>3.0</td>\n",
       "      <td>clear</td>\n",
       "      <td>sky is clear</td>\n",
       "      <td>0.0</td>\n",
       "      <td>1</td>\n",
       "      <td>3</td>\n",
       "      <td>2</td>\n",
       "      <td>True</td>\n",
       "      <td>0.0</td>\n",
       "    </tr>\n",
       "    <tr>\n",
       "      <th>4</th>\n",
       "      <td>2014-01-01 04:00:00-05:00</td>\n",
       "      <td>25.0</td>\n",
       "      <td>37.0</td>\n",
       "      <td>False</td>\n",
       "      <td>268.10</td>\n",
       "      <td>265.37</td>\n",
       "      <td>270.37</td>\n",
       "      <td>80.0</td>\n",
       "      <td>3.0</td>\n",
       "      <td>clear</td>\n",
       "      <td>sky is clear</td>\n",
       "      <td>0.0</td>\n",
       "      <td>1</td>\n",
       "      <td>4</td>\n",
       "      <td>2</td>\n",
       "      <td>True</td>\n",
       "      <td>0.0</td>\n",
       "    </tr>\n",
       "  </tbody>\n",
       "</table>\n",
       "</div>"
      ],
      "text/plain": [
       "                 pickup_time  num_pickups  num_passengers  missing_dt    temp  \\\n",
       "0  2014-01-01 00:00:00-05:00        107.0           210.0       False  269.27   \n",
       "1  2014-01-01 01:00:00-05:00         34.0            45.0       False  268.90   \n",
       "2  2014-01-01 02:00:00-05:00         34.0            70.0       False  268.48   \n",
       "3  2014-01-01 03:00:00-05:00         12.0            18.0       False  268.33   \n",
       "4  2014-01-01 04:00:00-05:00         25.0            37.0       False  268.10   \n",
       "\n",
       "   temp_min  temp_max  humidity  wind_speed weather_main weather_description  \\\n",
       "0    267.59    270.93      80.0         3.0        clear        sky is clear   \n",
       "1    267.04    270.93      80.0         2.0        clear        sky is clear   \n",
       "2    266.48    270.37      57.0         3.0        clear        sky is clear   \n",
       "3    265.93    270.37      80.0         3.0        clear        sky is clear   \n",
       "4    265.37    270.37      80.0         3.0        clear        sky is clear   \n",
       "\n",
       "   Passengers  Month  Hour  Day  holiday  precip_in  \n",
       "0       108.0      1     0    2     True        0.0  \n",
       "1         0.0      1     1    2     True        0.0  \n",
       "2         0.0      1     2    2     True        0.0  \n",
       "3         0.0      1     3    2     True        0.0  \n",
       "4         0.0      1     4    2     True        0.0  "
      ]
     },
     "execution_count": 13,
     "metadata": {},
     "output_type": "execute_result"
    }
   ],
   "source": [
    "data.head()"
   ]
  },
  {
   "cell_type": "code",
   "execution_count": 14,
   "metadata": {
    "collapsed": false
   },
   "outputs": [],
   "source": [
    "data = data.loc[data['missing_dt'] == False, :]"
   ]
  },
  {
   "cell_type": "code",
   "execution_count": 15,
   "metadata": {
    "collapsed": false
   },
   "outputs": [
    {
     "data": {
      "text/html": [
       "<div>\n",
       "<style>\n",
       "    .dataframe thead tr:only-child th {\n",
       "        text-align: right;\n",
       "    }\n",
       "\n",
       "    .dataframe thead th {\n",
       "        text-align: left;\n",
       "    }\n",
       "\n",
       "    .dataframe tbody tr th {\n",
       "        vertical-align: top;\n",
       "    }\n",
       "</style>\n",
       "<table border=\"1\" class=\"dataframe\">\n",
       "  <thead>\n",
       "    <tr style=\"text-align: right;\">\n",
       "      <th></th>\n",
       "      <th>pickup_time</th>\n",
       "      <th>num_pickups</th>\n",
       "      <th>num_passengers</th>\n",
       "      <th>missing_dt</th>\n",
       "      <th>temp</th>\n",
       "      <th>temp_min</th>\n",
       "      <th>temp_max</th>\n",
       "      <th>humidity</th>\n",
       "      <th>wind_speed</th>\n",
       "      <th>weather_main</th>\n",
       "      <th>weather_description</th>\n",
       "      <th>Passengers</th>\n",
       "      <th>Month</th>\n",
       "      <th>Hour</th>\n",
       "      <th>Day</th>\n",
       "      <th>holiday</th>\n",
       "      <th>precip_in</th>\n",
       "    </tr>\n",
       "  </thead>\n",
       "  <tbody>\n",
       "    <tr>\n",
       "      <th>0</th>\n",
       "      <td>2014-01-01 00:00:00-05:00</td>\n",
       "      <td>107.0</td>\n",
       "      <td>210.0</td>\n",
       "      <td>False</td>\n",
       "      <td>269.27</td>\n",
       "      <td>267.59</td>\n",
       "      <td>270.93</td>\n",
       "      <td>80.0</td>\n",
       "      <td>3.0</td>\n",
       "      <td>clear</td>\n",
       "      <td>sky is clear</td>\n",
       "      <td>108.0</td>\n",
       "      <td>1</td>\n",
       "      <td>0</td>\n",
       "      <td>2</td>\n",
       "      <td>True</td>\n",
       "      <td>0.0</td>\n",
       "    </tr>\n",
       "    <tr>\n",
       "      <th>1</th>\n",
       "      <td>2014-01-01 01:00:00-05:00</td>\n",
       "      <td>34.0</td>\n",
       "      <td>45.0</td>\n",
       "      <td>False</td>\n",
       "      <td>268.90</td>\n",
       "      <td>267.04</td>\n",
       "      <td>270.93</td>\n",
       "      <td>80.0</td>\n",
       "      <td>2.0</td>\n",
       "      <td>clear</td>\n",
       "      <td>sky is clear</td>\n",
       "      <td>0.0</td>\n",
       "      <td>1</td>\n",
       "      <td>1</td>\n",
       "      <td>2</td>\n",
       "      <td>True</td>\n",
       "      <td>0.0</td>\n",
       "    </tr>\n",
       "    <tr>\n",
       "      <th>2</th>\n",
       "      <td>2014-01-01 02:00:00-05:00</td>\n",
       "      <td>34.0</td>\n",
       "      <td>70.0</td>\n",
       "      <td>False</td>\n",
       "      <td>268.48</td>\n",
       "      <td>266.48</td>\n",
       "      <td>270.37</td>\n",
       "      <td>57.0</td>\n",
       "      <td>3.0</td>\n",
       "      <td>clear</td>\n",
       "      <td>sky is clear</td>\n",
       "      <td>0.0</td>\n",
       "      <td>1</td>\n",
       "      <td>2</td>\n",
       "      <td>2</td>\n",
       "      <td>True</td>\n",
       "      <td>0.0</td>\n",
       "    </tr>\n",
       "    <tr>\n",
       "      <th>3</th>\n",
       "      <td>2014-01-01 03:00:00-05:00</td>\n",
       "      <td>12.0</td>\n",
       "      <td>18.0</td>\n",
       "      <td>False</td>\n",
       "      <td>268.33</td>\n",
       "      <td>265.93</td>\n",
       "      <td>270.37</td>\n",
       "      <td>80.0</td>\n",
       "      <td>3.0</td>\n",
       "      <td>clear</td>\n",
       "      <td>sky is clear</td>\n",
       "      <td>0.0</td>\n",
       "      <td>1</td>\n",
       "      <td>3</td>\n",
       "      <td>2</td>\n",
       "      <td>True</td>\n",
       "      <td>0.0</td>\n",
       "    </tr>\n",
       "    <tr>\n",
       "      <th>4</th>\n",
       "      <td>2014-01-01 04:00:00-05:00</td>\n",
       "      <td>25.0</td>\n",
       "      <td>37.0</td>\n",
       "      <td>False</td>\n",
       "      <td>268.10</td>\n",
       "      <td>265.37</td>\n",
       "      <td>270.37</td>\n",
       "      <td>80.0</td>\n",
       "      <td>3.0</td>\n",
       "      <td>clear</td>\n",
       "      <td>sky is clear</td>\n",
       "      <td>0.0</td>\n",
       "      <td>1</td>\n",
       "      <td>4</td>\n",
       "      <td>2</td>\n",
       "      <td>True</td>\n",
       "      <td>0.0</td>\n",
       "    </tr>\n",
       "  </tbody>\n",
       "</table>\n",
       "</div>"
      ],
      "text/plain": [
       "                 pickup_time  num_pickups  num_passengers  missing_dt    temp  \\\n",
       "0  2014-01-01 00:00:00-05:00        107.0           210.0       False  269.27   \n",
       "1  2014-01-01 01:00:00-05:00         34.0            45.0       False  268.90   \n",
       "2  2014-01-01 02:00:00-05:00         34.0            70.0       False  268.48   \n",
       "3  2014-01-01 03:00:00-05:00         12.0            18.0       False  268.33   \n",
       "4  2014-01-01 04:00:00-05:00         25.0            37.0       False  268.10   \n",
       "\n",
       "   temp_min  temp_max  humidity  wind_speed weather_main weather_description  \\\n",
       "0    267.59    270.93      80.0         3.0        clear        sky is clear   \n",
       "1    267.04    270.93      80.0         2.0        clear        sky is clear   \n",
       "2    266.48    270.37      57.0         3.0        clear        sky is clear   \n",
       "3    265.93    270.37      80.0         3.0        clear        sky is clear   \n",
       "4    265.37    270.37      80.0         3.0        clear        sky is clear   \n",
       "\n",
       "   Passengers  Month  Hour  Day  holiday  precip_in  \n",
       "0       108.0      1     0    2     True        0.0  \n",
       "1         0.0      1     1    2     True        0.0  \n",
       "2         0.0      1     2    2     True        0.0  \n",
       "3         0.0      1     3    2     True        0.0  \n",
       "4         0.0      1     4    2     True        0.0  "
      ]
     },
     "execution_count": 15,
     "metadata": {},
     "output_type": "execute_result"
    }
   ],
   "source": [
    "data.head()"
   ]
  },
  {
   "cell_type": "code",
   "execution_count": 16,
   "metadata": {
    "collapsed": false
   },
   "outputs": [
    {
     "data": {
      "text/html": [
       "<div>\n",
       "<style>\n",
       "    .dataframe thead tr:only-child th {\n",
       "        text-align: right;\n",
       "    }\n",
       "\n",
       "    .dataframe thead th {\n",
       "        text-align: left;\n",
       "    }\n",
       "\n",
       "    .dataframe tbody tr th {\n",
       "        vertical-align: top;\n",
       "    }\n",
       "</style>\n",
       "<table border=\"1\" class=\"dataframe\">\n",
       "  <thead>\n",
       "    <tr style=\"text-align: right;\">\n",
       "      <th></th>\n",
       "      <th>pickup_time</th>\n",
       "      <th>num_pickups</th>\n",
       "      <th>num_passengers</th>\n",
       "      <th>missing_dt</th>\n",
       "      <th>temp</th>\n",
       "      <th>temp_min</th>\n",
       "      <th>temp_max</th>\n",
       "      <th>humidity</th>\n",
       "      <th>wind_speed</th>\n",
       "      <th>weather_main</th>\n",
       "      <th>weather_description</th>\n",
       "      <th>Passengers</th>\n",
       "      <th>Month</th>\n",
       "      <th>Hour</th>\n",
       "      <th>Day</th>\n",
       "      <th>holiday</th>\n",
       "      <th>precip_in</th>\n",
       "    </tr>\n",
       "  </thead>\n",
       "  <tbody>\n",
       "  </tbody>\n",
       "</table>\n",
       "</div>"
      ],
      "text/plain": [
       "Empty DataFrame\n",
       "Columns: [pickup_time, num_pickups, num_passengers, missing_dt, temp, temp_min, temp_max, humidity, wind_speed, weather_main, weather_description, Passengers, Month, Hour, Day, holiday, precip_in]\n",
       "Index: []"
      ]
     },
     "execution_count": 16,
     "metadata": {},
     "output_type": "execute_result"
    }
   ],
   "source": [
    "data.loc[data['Passengers'].isnull()]"
   ]
  },
  {
   "cell_type": "code",
   "execution_count": 17,
   "metadata": {
    "collapsed": false
   },
   "outputs": [
    {
     "data": {
      "text/html": [
       "<div>\n",
       "<style>\n",
       "    .dataframe thead tr:only-child th {\n",
       "        text-align: right;\n",
       "    }\n",
       "\n",
       "    .dataframe thead th {\n",
       "        text-align: left;\n",
       "    }\n",
       "\n",
       "    .dataframe tbody tr th {\n",
       "        vertical-align: top;\n",
       "    }\n",
       "</style>\n",
       "<table border=\"1\" class=\"dataframe\">\n",
       "  <thead>\n",
       "    <tr style=\"text-align: right;\">\n",
       "      <th></th>\n",
       "      <th>pickup_time</th>\n",
       "      <th>num_pickups</th>\n",
       "      <th>num_passengers</th>\n",
       "      <th>missing_dt</th>\n",
       "      <th>temp</th>\n",
       "      <th>temp_min</th>\n",
       "      <th>temp_max</th>\n",
       "      <th>humidity</th>\n",
       "      <th>wind_speed</th>\n",
       "      <th>weather_main</th>\n",
       "      <th>weather_description</th>\n",
       "      <th>Passengers</th>\n",
       "      <th>Month</th>\n",
       "      <th>Hour</th>\n",
       "      <th>Day</th>\n",
       "      <th>holiday</th>\n",
       "      <th>precip_in</th>\n",
       "    </tr>\n",
       "  </thead>\n",
       "  <tbody>\n",
       "    <tr>\n",
       "      <th>0</th>\n",
       "      <td>2014-01-01 00:00:00-05:00</td>\n",
       "      <td>107.0</td>\n",
       "      <td>210.0</td>\n",
       "      <td>False</td>\n",
       "      <td>269.27</td>\n",
       "      <td>267.59</td>\n",
       "      <td>270.93</td>\n",
       "      <td>80.0</td>\n",
       "      <td>3.0</td>\n",
       "      <td>clear</td>\n",
       "      <td>sky is clear</td>\n",
       "      <td>108.0</td>\n",
       "      <td>1</td>\n",
       "      <td>0</td>\n",
       "      <td>2</td>\n",
       "      <td>True</td>\n",
       "      <td>0.0</td>\n",
       "    </tr>\n",
       "    <tr>\n",
       "      <th>1</th>\n",
       "      <td>2014-01-01 01:00:00-05:00</td>\n",
       "      <td>34.0</td>\n",
       "      <td>45.0</td>\n",
       "      <td>False</td>\n",
       "      <td>268.90</td>\n",
       "      <td>267.04</td>\n",
       "      <td>270.93</td>\n",
       "      <td>80.0</td>\n",
       "      <td>2.0</td>\n",
       "      <td>clear</td>\n",
       "      <td>sky is clear</td>\n",
       "      <td>0.0</td>\n",
       "      <td>1</td>\n",
       "      <td>1</td>\n",
       "      <td>2</td>\n",
       "      <td>True</td>\n",
       "      <td>0.0</td>\n",
       "    </tr>\n",
       "    <tr>\n",
       "      <th>2</th>\n",
       "      <td>2014-01-01 02:00:00-05:00</td>\n",
       "      <td>34.0</td>\n",
       "      <td>70.0</td>\n",
       "      <td>False</td>\n",
       "      <td>268.48</td>\n",
       "      <td>266.48</td>\n",
       "      <td>270.37</td>\n",
       "      <td>57.0</td>\n",
       "      <td>3.0</td>\n",
       "      <td>clear</td>\n",
       "      <td>sky is clear</td>\n",
       "      <td>0.0</td>\n",
       "      <td>1</td>\n",
       "      <td>2</td>\n",
       "      <td>2</td>\n",
       "      <td>True</td>\n",
       "      <td>0.0</td>\n",
       "    </tr>\n",
       "    <tr>\n",
       "      <th>3</th>\n",
       "      <td>2014-01-01 03:00:00-05:00</td>\n",
       "      <td>12.0</td>\n",
       "      <td>18.0</td>\n",
       "      <td>False</td>\n",
       "      <td>268.33</td>\n",
       "      <td>265.93</td>\n",
       "      <td>270.37</td>\n",
       "      <td>80.0</td>\n",
       "      <td>3.0</td>\n",
       "      <td>clear</td>\n",
       "      <td>sky is clear</td>\n",
       "      <td>0.0</td>\n",
       "      <td>1</td>\n",
       "      <td>3</td>\n",
       "      <td>2</td>\n",
       "      <td>True</td>\n",
       "      <td>0.0</td>\n",
       "    </tr>\n",
       "    <tr>\n",
       "      <th>4</th>\n",
       "      <td>2014-01-01 04:00:00-05:00</td>\n",
       "      <td>25.0</td>\n",
       "      <td>37.0</td>\n",
       "      <td>False</td>\n",
       "      <td>268.10</td>\n",
       "      <td>265.37</td>\n",
       "      <td>270.37</td>\n",
       "      <td>80.0</td>\n",
       "      <td>3.0</td>\n",
       "      <td>clear</td>\n",
       "      <td>sky is clear</td>\n",
       "      <td>0.0</td>\n",
       "      <td>1</td>\n",
       "      <td>4</td>\n",
       "      <td>2</td>\n",
       "      <td>True</td>\n",
       "      <td>0.0</td>\n",
       "    </tr>\n",
       "  </tbody>\n",
       "</table>\n",
       "</div>"
      ],
      "text/plain": [
       "                 pickup_time  num_pickups  num_passengers  missing_dt    temp  \\\n",
       "0  2014-01-01 00:00:00-05:00        107.0           210.0       False  269.27   \n",
       "1  2014-01-01 01:00:00-05:00         34.0            45.0       False  268.90   \n",
       "2  2014-01-01 02:00:00-05:00         34.0            70.0       False  268.48   \n",
       "3  2014-01-01 03:00:00-05:00         12.0            18.0       False  268.33   \n",
       "4  2014-01-01 04:00:00-05:00         25.0            37.0       False  268.10   \n",
       "\n",
       "   temp_min  temp_max  humidity  wind_speed weather_main weather_description  \\\n",
       "0    267.59    270.93      80.0         3.0        clear        sky is clear   \n",
       "1    267.04    270.93      80.0         2.0        clear        sky is clear   \n",
       "2    266.48    270.37      57.0         3.0        clear        sky is clear   \n",
       "3    265.93    270.37      80.0         3.0        clear        sky is clear   \n",
       "4    265.37    270.37      80.0         3.0        clear        sky is clear   \n",
       "\n",
       "   Passengers  Month  Hour  Day  holiday  precip_in  \n",
       "0       108.0      1     0    2     True        0.0  \n",
       "1         0.0      1     1    2     True        0.0  \n",
       "2         0.0      1     2    2     True        0.0  \n",
       "3         0.0      1     3    2     True        0.0  \n",
       "4         0.0      1     4    2     True        0.0  "
      ]
     },
     "execution_count": 17,
     "metadata": {},
     "output_type": "execute_result"
    }
   ],
   "source": [
    "data.head()"
   ]
  },
  {
   "cell_type": "code",
   "execution_count": 18,
   "metadata": {
    "collapsed": false
   },
   "outputs": [
    {
     "data": {
      "text/plain": [
       "(26230, 17)"
      ]
     },
     "execution_count": 18,
     "metadata": {},
     "output_type": "execute_result"
    }
   ],
   "source": [
    "data.shape"
   ]
  },
  {
   "cell_type": "code",
   "execution_count": 19,
   "metadata": {
    "collapsed": false
   },
   "outputs": [
    {
     "data": {
      "text/plain": [
       "array(['clear', 'snow', 'fog', 'snow,fog', 'rain,fog,snow', 'rain,snow',\n",
       "       'rain', 'rain,fog', 'clouds,clear', 'clouds', 'rain,clear',\n",
       "       'clouds,snow', 'clouds,snow,fog', 'clouds,fog,snow', 'clouds,fog',\n",
       "       'clouds,rain,fog', 'clouds,rain,thunderstorm,fog', 'clouds,rain',\n",
       "       'clear,fog', 'rain,thunderstorm,fog', 'rain,thunderstorm',\n",
       "       'thunderstorm,fog', 'thunderstorm,rain', 'thunderstorm',\n",
       "       'thunderstorm,rain,fog', 'clouds,thunderstorm,fog',\n",
       "       'rain,clear,fog', 'clear,clouds,rain', 'clouds,rain,clear',\n",
       "       'clouds,clear,fog', 'snow,rain,fog', 'snow,thunderstorm,fog',\n",
       "       'thunderstorm,rain,fog,snow'], dtype=object)"
      ]
     },
     "execution_count": 19,
     "metadata": {},
     "output_type": "execute_result"
    }
   ],
   "source": [
    "data.weather_main.unique()"
   ]
  },
  {
   "cell_type": "markdown",
   "metadata": {},
   "source": [
    "## Feature Extraction:\n",
    "\n"
   ]
  },
  {
   "cell_type": "markdown",
   "metadata": {},
   "source": [
    " ### Holiday Feature"
   ]
  },
  {
   "cell_type": "code",
   "execution_count": 20,
   "metadata": {
    "collapsed": false
   },
   "outputs": [],
   "source": [
    "data['holiday'] = data['holiday'].astype(int)"
   ]
  },
  {
   "cell_type": "code",
   "execution_count": 21,
   "metadata": {
    "collapsed": false
   },
   "outputs": [
    {
     "data": {
      "text/html": [
       "<div>\n",
       "<style>\n",
       "    .dataframe thead tr:only-child th {\n",
       "        text-align: right;\n",
       "    }\n",
       "\n",
       "    .dataframe thead th {\n",
       "        text-align: left;\n",
       "    }\n",
       "\n",
       "    .dataframe tbody tr th {\n",
       "        vertical-align: top;\n",
       "    }\n",
       "</style>\n",
       "<table border=\"1\" class=\"dataframe\">\n",
       "  <thead>\n",
       "    <tr style=\"text-align: right;\">\n",
       "      <th></th>\n",
       "      <th>pickup_time</th>\n",
       "      <th>num_pickups</th>\n",
       "      <th>num_passengers</th>\n",
       "      <th>missing_dt</th>\n",
       "      <th>temp</th>\n",
       "      <th>temp_min</th>\n",
       "      <th>temp_max</th>\n",
       "      <th>humidity</th>\n",
       "      <th>wind_speed</th>\n",
       "      <th>weather_main</th>\n",
       "      <th>weather_description</th>\n",
       "      <th>Passengers</th>\n",
       "      <th>Month</th>\n",
       "      <th>Hour</th>\n",
       "      <th>Day</th>\n",
       "      <th>holiday</th>\n",
       "      <th>precip_in</th>\n",
       "    </tr>\n",
       "  </thead>\n",
       "  <tbody>\n",
       "    <tr>\n",
       "      <th>0</th>\n",
       "      <td>2014-01-01 00:00:00-05:00</td>\n",
       "      <td>107.0</td>\n",
       "      <td>210.0</td>\n",
       "      <td>False</td>\n",
       "      <td>269.27</td>\n",
       "      <td>267.59</td>\n",
       "      <td>270.93</td>\n",
       "      <td>80.0</td>\n",
       "      <td>3.0</td>\n",
       "      <td>clear</td>\n",
       "      <td>sky is clear</td>\n",
       "      <td>108.0</td>\n",
       "      <td>1</td>\n",
       "      <td>0</td>\n",
       "      <td>2</td>\n",
       "      <td>1</td>\n",
       "      <td>0.0</td>\n",
       "    </tr>\n",
       "    <tr>\n",
       "      <th>1</th>\n",
       "      <td>2014-01-01 01:00:00-05:00</td>\n",
       "      <td>34.0</td>\n",
       "      <td>45.0</td>\n",
       "      <td>False</td>\n",
       "      <td>268.90</td>\n",
       "      <td>267.04</td>\n",
       "      <td>270.93</td>\n",
       "      <td>80.0</td>\n",
       "      <td>2.0</td>\n",
       "      <td>clear</td>\n",
       "      <td>sky is clear</td>\n",
       "      <td>0.0</td>\n",
       "      <td>1</td>\n",
       "      <td>1</td>\n",
       "      <td>2</td>\n",
       "      <td>1</td>\n",
       "      <td>0.0</td>\n",
       "    </tr>\n",
       "  </tbody>\n",
       "</table>\n",
       "</div>"
      ],
      "text/plain": [
       "                 pickup_time  num_pickups  num_passengers  missing_dt    temp  \\\n",
       "0  2014-01-01 00:00:00-05:00        107.0           210.0       False  269.27   \n",
       "1  2014-01-01 01:00:00-05:00         34.0            45.0       False  268.90   \n",
       "\n",
       "   temp_min  temp_max  humidity  wind_speed weather_main weather_description  \\\n",
       "0    267.59    270.93      80.0         3.0        clear        sky is clear   \n",
       "1    267.04    270.93      80.0         2.0        clear        sky is clear   \n",
       "\n",
       "   Passengers  Month  Hour  Day  holiday  precip_in  \n",
       "0       108.0      1     0    2        1        0.0  \n",
       "1         0.0      1     1    2        1        0.0  "
      ]
     },
     "execution_count": 21,
     "metadata": {},
     "output_type": "execute_result"
    }
   ],
   "source": [
    "data.head(2)"
   ]
  },
  {
   "cell_type": "markdown",
   "metadata": {},
   "source": [
    "### Time Feature"
   ]
  },
  {
   "cell_type": "code",
   "execution_count": 22,
   "metadata": {
    "collapsed": false
   },
   "outputs": [],
   "source": [
    "data.rename(columns={'Hour':'HourOfDay'}, inplace=True)\n",
    "data.rename(columns={'Day':'DayOfWeek'}, inplace=True)"
   ]
  },
  {
   "cell_type": "code",
   "execution_count": 23,
   "metadata": {
    "collapsed": false
   },
   "outputs": [
    {
     "data": {
      "text/html": [
       "<div>\n",
       "<style>\n",
       "    .dataframe thead tr:only-child th {\n",
       "        text-align: right;\n",
       "    }\n",
       "\n",
       "    .dataframe thead th {\n",
       "        text-align: left;\n",
       "    }\n",
       "\n",
       "    .dataframe tbody tr th {\n",
       "        vertical-align: top;\n",
       "    }\n",
       "</style>\n",
       "<table border=\"1\" class=\"dataframe\">\n",
       "  <thead>\n",
       "    <tr style=\"text-align: right;\">\n",
       "      <th></th>\n",
       "      <th>pickup_time</th>\n",
       "      <th>num_pickups</th>\n",
       "      <th>num_passengers</th>\n",
       "      <th>missing_dt</th>\n",
       "      <th>temp</th>\n",
       "      <th>temp_min</th>\n",
       "      <th>temp_max</th>\n",
       "      <th>humidity</th>\n",
       "      <th>wind_speed</th>\n",
       "      <th>weather_main</th>\n",
       "      <th>weather_description</th>\n",
       "      <th>Passengers</th>\n",
       "      <th>Month</th>\n",
       "      <th>HourOfDay</th>\n",
       "      <th>DayOfWeek</th>\n",
       "      <th>holiday</th>\n",
       "      <th>precip_in</th>\n",
       "    </tr>\n",
       "  </thead>\n",
       "  <tbody>\n",
       "    <tr>\n",
       "      <th>0</th>\n",
       "      <td>2014-01-01 00:00:00-05:00</td>\n",
       "      <td>107.0</td>\n",
       "      <td>210.0</td>\n",
       "      <td>False</td>\n",
       "      <td>269.27</td>\n",
       "      <td>267.59</td>\n",
       "      <td>270.93</td>\n",
       "      <td>80.0</td>\n",
       "      <td>3.0</td>\n",
       "      <td>clear</td>\n",
       "      <td>sky is clear</td>\n",
       "      <td>108.0</td>\n",
       "      <td>1</td>\n",
       "      <td>0</td>\n",
       "      <td>2</td>\n",
       "      <td>1</td>\n",
       "      <td>0.0</td>\n",
       "    </tr>\n",
       "    <tr>\n",
       "      <th>1</th>\n",
       "      <td>2014-01-01 01:00:00-05:00</td>\n",
       "      <td>34.0</td>\n",
       "      <td>45.0</td>\n",
       "      <td>False</td>\n",
       "      <td>268.90</td>\n",
       "      <td>267.04</td>\n",
       "      <td>270.93</td>\n",
       "      <td>80.0</td>\n",
       "      <td>2.0</td>\n",
       "      <td>clear</td>\n",
       "      <td>sky is clear</td>\n",
       "      <td>0.0</td>\n",
       "      <td>1</td>\n",
       "      <td>1</td>\n",
       "      <td>2</td>\n",
       "      <td>1</td>\n",
       "      <td>0.0</td>\n",
       "    </tr>\n",
       "  </tbody>\n",
       "</table>\n",
       "</div>"
      ],
      "text/plain": [
       "                 pickup_time  num_pickups  num_passengers  missing_dt    temp  \\\n",
       "0  2014-01-01 00:00:00-05:00        107.0           210.0       False  269.27   \n",
       "1  2014-01-01 01:00:00-05:00         34.0            45.0       False  268.90   \n",
       "\n",
       "   temp_min  temp_max  humidity  wind_speed weather_main weather_description  \\\n",
       "0    267.59    270.93      80.0         3.0        clear        sky is clear   \n",
       "1    267.04    270.93      80.0         2.0        clear        sky is clear   \n",
       "\n",
       "   Passengers  Month  HourOfDay  DayOfWeek  holiday  precip_in  \n",
       "0       108.0      1          0          2        1        0.0  \n",
       "1         0.0      1          1          2        1        0.0  "
      ]
     },
     "execution_count": 23,
     "metadata": {},
     "output_type": "execute_result"
    }
   ],
   "source": [
    "data.head(2)"
   ]
  },
  {
   "cell_type": "markdown",
   "metadata": {},
   "source": [
    "### Weather Feature "
   ]
  },
  {
   "cell_type": "code",
   "execution_count": 24,
   "metadata": {
    "collapsed": false
   },
   "outputs": [],
   "source": [
    "# snow = data[data[\"weather_main\"]==\"Snow\"]\n",
    "# df_snow = pd.get_dummies(snow['weather_description'])\n",
    "# df_snow.head(10)"
   ]
  },
  {
   "cell_type": "code",
   "execution_count": 25,
   "metadata": {
    "collapsed": false
   },
   "outputs": [],
   "source": [
    "temp = data.groupby(\"weather_main\")[\"num_pickups\"].sum()"
   ]
  },
  {
   "cell_type": "code",
   "execution_count": 26,
   "metadata": {
    "collapsed": false
   },
   "outputs": [
    {
     "data": {
      "image/png": "[encoded data removed]",
      "text/plain": [
       "<matplotlib.figure.Figure at 0x10e25e5c0>"
      ]
     },
     "metadata": {},
     "output_type": "display_data"
    }
   ],
   "source": [
    "temp.plot(kind=\"bar\")\n",
    "plt.show()"
   ]
  },
  {
   "cell_type": "code",
   "execution_count": 27,
   "metadata": {
    "collapsed": false
   },
   "outputs": [],
   "source": [
    "# data.weather_description.unique()"
   ]
  },
  {
   "cell_type": "code",
   "execution_count": 28,
   "metadata": {
    "collapsed": false
   },
   "outputs": [],
   "source": [
    "# data = data.replace({'weather_description' : {'Sky is Clear': 'Clear', 'moderate rain': 'medium rain','sky is clear': 'Clear', 'fog': 'haze', 'heavy intensity rain': 'heavy rain', \n",
    "#  'smoke':'haze', 'mist':'haze','light intensity drizzle': 'light rain', 'overcast clouds': 'haze', \n",
    "#  'broken clouds': 'heavy rain','scattered clouds': 'Clear', 'snow': 'medium snow', 'few clouds': 'haze', \n",
    "#                                        'very heavy rain': 'heavy rain', 'thunderstorm': 'light rain', 'dust': 'haze',\n",
    "# 'thunderstorm with light rain': 'light rain', 'thunderstorm with heavy rain': 'heavy rain',\n",
    "# 'thunderstorm with rain': 'medium rain', 'proximity thunderstorm':'Clear','light rain and snow': 'light snow', \n",
    "# 'freezing rain': 'heavy rain', 'drizzle': 'light rain','heavy intensity drizzle': 'medium rain', \n",
    "# 'shower rain': 'medium rain','light intensity shower rain': 'light rain'}})"
   ]
  },
  {
   "cell_type": "code",
   "execution_count": 29,
   "metadata": {
    "collapsed": false
   },
   "outputs": [],
   "source": [
    "# data.weather_description.unique()"
   ]
  },
  {
   "cell_type": "code",
   "execution_count": 30,
   "metadata": {
    "collapsed": true
   },
   "outputs": [],
   "source": [
    "column = data.weather_main.astype('category')\n",
    "weather_column_encoded = column.cat.codes\n",
    "weather_column_encoded = pd.DataFrame(weather_column_encoded, columns=['weather_encoded'])"
   ]
  },
  {
   "cell_type": "code",
   "execution_count": 31,
   "metadata": {
    "collapsed": false
   },
   "outputs": [],
   "source": [
    "data = data.merge(weather_column_encoded, left_index=True, right_index=True)"
   ]
  },
  {
   "cell_type": "code",
   "execution_count": 32,
   "metadata": {
    "collapsed": false
   },
   "outputs": [
    {
     "data": {
      "text/html": [
       "<div>\n",
       "<style>\n",
       "    .dataframe thead tr:only-child th {\n",
       "        text-align: right;\n",
       "    }\n",
       "\n",
       "    .dataframe thead th {\n",
       "        text-align: left;\n",
       "    }\n",
       "\n",
       "    .dataframe tbody tr th {\n",
       "        vertical-align: top;\n",
       "    }\n",
       "</style>\n",
       "<table border=\"1\" class=\"dataframe\">\n",
       "  <thead>\n",
       "    <tr style=\"text-align: right;\">\n",
       "      <th></th>\n",
       "      <th>pickup_time</th>\n",
       "      <th>num_pickups</th>\n",
       "      <th>num_passengers</th>\n",
       "      <th>missing_dt</th>\n",
       "      <th>temp</th>\n",
       "      <th>temp_min</th>\n",
       "      <th>temp_max</th>\n",
       "      <th>humidity</th>\n",
       "      <th>wind_speed</th>\n",
       "      <th>weather_main</th>\n",
       "      <th>weather_description</th>\n",
       "      <th>Passengers</th>\n",
       "      <th>Month</th>\n",
       "      <th>HourOfDay</th>\n",
       "      <th>DayOfWeek</th>\n",
       "      <th>holiday</th>\n",
       "      <th>precip_in</th>\n",
       "      <th>weather_encoded</th>\n",
       "    </tr>\n",
       "  </thead>\n",
       "  <tbody>\n",
       "    <tr>\n",
       "      <th>0</th>\n",
       "      <td>2014-01-01 00:00:00-05:00</td>\n",
       "      <td>107.0</td>\n",
       "      <td>210.0</td>\n",
       "      <td>False</td>\n",
       "      <td>269.27</td>\n",
       "      <td>267.59</td>\n",
       "      <td>270.93</td>\n",
       "      <td>80.0</td>\n",
       "      <td>3.0</td>\n",
       "      <td>clear</td>\n",
       "      <td>sky is clear</td>\n",
       "      <td>108.0</td>\n",
       "      <td>1</td>\n",
       "      <td>0</td>\n",
       "      <td>2</td>\n",
       "      <td>1</td>\n",
       "      <td>0.0</td>\n",
       "      <td>0</td>\n",
       "    </tr>\n",
       "    <tr>\n",
       "      <th>1</th>\n",
       "      <td>2014-01-01 01:00:00-05:00</td>\n",
       "      <td>34.0</td>\n",
       "      <td>45.0</td>\n",
       "      <td>False</td>\n",
       "      <td>268.90</td>\n",
       "      <td>267.04</td>\n",
       "      <td>270.93</td>\n",
       "      <td>80.0</td>\n",
       "      <td>2.0</td>\n",
       "      <td>clear</td>\n",
       "      <td>sky is clear</td>\n",
       "      <td>0.0</td>\n",
       "      <td>1</td>\n",
       "      <td>1</td>\n",
       "      <td>2</td>\n",
       "      <td>1</td>\n",
       "      <td>0.0</td>\n",
       "      <td>0</td>\n",
       "    </tr>\n",
       "    <tr>\n",
       "      <th>2</th>\n",
       "      <td>2014-01-01 02:00:00-05:00</td>\n",
       "      <td>34.0</td>\n",
       "      <td>70.0</td>\n",
       "      <td>False</td>\n",
       "      <td>268.48</td>\n",
       "      <td>266.48</td>\n",
       "      <td>270.37</td>\n",
       "      <td>57.0</td>\n",
       "      <td>3.0</td>\n",
       "      <td>clear</td>\n",
       "      <td>sky is clear</td>\n",
       "      <td>0.0</td>\n",
       "      <td>1</td>\n",
       "      <td>2</td>\n",
       "      <td>2</td>\n",
       "      <td>1</td>\n",
       "      <td>0.0</td>\n",
       "      <td>0</td>\n",
       "    </tr>\n",
       "    <tr>\n",
       "      <th>3</th>\n",
       "      <td>2014-01-01 03:00:00-05:00</td>\n",
       "      <td>12.0</td>\n",
       "      <td>18.0</td>\n",
       "      <td>False</td>\n",
       "      <td>268.33</td>\n",
       "      <td>265.93</td>\n",
       "      <td>270.37</td>\n",
       "      <td>80.0</td>\n",
       "      <td>3.0</td>\n",
       "      <td>clear</td>\n",
       "      <td>sky is clear</td>\n",
       "      <td>0.0</td>\n",
       "      <td>1</td>\n",
       "      <td>3</td>\n",
       "      <td>2</td>\n",
       "      <td>1</td>\n",
       "      <td>0.0</td>\n",
       "      <td>0</td>\n",
       "    </tr>\n",
       "    <tr>\n",
       "      <th>4</th>\n",
       "      <td>2014-01-01 04:00:00-05:00</td>\n",
       "      <td>25.0</td>\n",
       "      <td>37.0</td>\n",
       "      <td>False</td>\n",
       "      <td>268.10</td>\n",
       "      <td>265.37</td>\n",
       "      <td>270.37</td>\n",
       "      <td>80.0</td>\n",
       "      <td>3.0</td>\n",
       "      <td>clear</td>\n",
       "      <td>sky is clear</td>\n",
       "      <td>0.0</td>\n",
       "      <td>1</td>\n",
       "      <td>4</td>\n",
       "      <td>2</td>\n",
       "      <td>1</td>\n",
       "      <td>0.0</td>\n",
       "      <td>0</td>\n",
       "    </tr>\n",
       "  </tbody>\n",
       "</table>\n",
       "</div>"
      ],
      "text/plain": [
       "                 pickup_time  num_pickups  num_passengers  missing_dt    temp  \\\n",
       "0  2014-01-01 00:00:00-05:00        107.0           210.0       False  269.27   \n",
       "1  2014-01-01 01:00:00-05:00         34.0            45.0       False  268.90   \n",
       "2  2014-01-01 02:00:00-05:00         34.0            70.0       False  268.48   \n",
       "3  2014-01-01 03:00:00-05:00         12.0            18.0       False  268.33   \n",
       "4  2014-01-01 04:00:00-05:00         25.0            37.0       False  268.10   \n",
       "\n",
       "   temp_min  temp_max  humidity  wind_speed weather_main weather_description  \\\n",
       "0    267.59    270.93      80.0         3.0        clear        sky is clear   \n",
       "1    267.04    270.93      80.0         2.0        clear        sky is clear   \n",
       "2    266.48    270.37      57.0         3.0        clear        sky is clear   \n",
       "3    265.93    270.37      80.0         3.0        clear        sky is clear   \n",
       "4    265.37    270.37      80.0         3.0        clear        sky is clear   \n",
       "\n",
       "   Passengers  Month  HourOfDay  DayOfWeek  holiday  precip_in  \\\n",
       "0       108.0      1          0          2        1        0.0   \n",
       "1         0.0      1          1          2        1        0.0   \n",
       "2         0.0      1          2          2        1        0.0   \n",
       "3         0.0      1          3          2        1        0.0   \n",
       "4         0.0      1          4          2        1        0.0   \n",
       "\n",
       "   weather_encoded  \n",
       "0                0  \n",
       "1                0  \n",
       "2                0  \n",
       "3                0  \n",
       "4                0  "
      ]
     },
     "execution_count": 32,
     "metadata": {},
     "output_type": "execute_result"
    }
   ],
   "source": [
    "data.head()"
   ]
  },
  {
   "cell_type": "code",
   "execution_count": 33,
   "metadata": {
    "collapsed": false
   },
   "outputs": [
    {
     "data": {
      "text/plain": [
       "array([ 0, 24, 15, 25, 20, 21, 16, 19,  4,  3, 17, 12, 13,  7,  6, 10, 11,\n",
       "        8,  2, 23, 22, 29, 30, 28, 31, 14, 18,  1,  9,  5, 26, 27, 32])"
      ]
     },
     "execution_count": 33,
     "metadata": {},
     "output_type": "execute_result"
    }
   ],
   "source": [
    "data.weather_encoded.unique()"
   ]
  },
  {
   "cell_type": "markdown",
   "metadata": {},
   "source": [
    "### DayOfWeek + Weather Encoded"
   ]
  },
  {
   "cell_type": "code",
   "execution_count": 34,
   "metadata": {
    "collapsed": false
   },
   "outputs": [],
   "source": [
    "data[\"DayofWeek_WeatherEncoded\"]=data[['DayOfWeek','weather_encoded']].apply(lambda x: '_'.join(str(i) for i in x), axis=1)"
   ]
  },
  {
   "cell_type": "markdown",
   "metadata": {},
   "source": [
    "### DayOfWeek + HourOfDay"
   ]
  },
  {
   "cell_type": "code",
   "execution_count": 35,
   "metadata": {
    "collapsed": true
   },
   "outputs": [],
   "source": [
    "data[\"DayofWeek_HourOfDay\"]=data[['DayOfWeek','HourOfDay']].apply(lambda x: '_'.join(str(i) for i in x), axis=1)"
   ]
  },
  {
   "cell_type": "markdown",
   "metadata": {},
   "source": [
    "### DayOfWeek + HourOfDay + Holiday"
   ]
  },
  {
   "cell_type": "code",
   "execution_count": 36,
   "metadata": {
    "collapsed": false
   },
   "outputs": [],
   "source": [
    "data[\"DayofWeek_HourOfDay_Holiday\"]=data[['DayOfWeek','HourOfDay', 'holiday']].apply(lambda x: '_'.join(str(i) for i in x), axis=1)"
   ]
  },
  {
   "cell_type": "markdown",
   "metadata": {},
   "source": [
    "### HourOfDay + PassengersArriving"
   ]
  },
  {
   "cell_type": "code",
   "execution_count": 37,
   "metadata": {
    "collapsed": true
   },
   "outputs": [],
   "source": [
    "#data[\"DayofWeek_Passengers\"]=data[['DayOfWeek','Passengers']].apply(lambda x: '_'.join(str(i) for i in x), axis=1)"
   ]
  },
  {
   "cell_type": "markdown",
   "metadata": {},
   "source": [
    "### Adding previous hours info"
   ]
  },
  {
   "cell_type": "code",
   "execution_count": 38,
   "metadata": {
    "collapsed": true
   },
   "outputs": [],
   "source": [
    "data[\"prev_hour_passengers\"] = data['Passengers'].shift(1)\n",
    "data[\"prev_2_hour_passengers\"] = data['Passengers'].shift(2)"
   ]
  },
  {
   "cell_type": "code",
   "execution_count": 39,
   "metadata": {
    "collapsed": false
   },
   "outputs": [],
   "source": [
    "#data[\"DayofWeek_Passengers_prev\"]=data[['DayOfWeek','prev_hour_passengers']].apply(lambda x: '_'.join(str(i) for i in x), axis=1)\n",
    "#data[\"DayofWeek_Passengers_prev2\"]=data[['DayOfWeek','prev_2_hour_passengers']].apply(lambda x: '_'.join(str(i) for i in x), axis=1)"
   ]
  },
  {
   "cell_type": "code",
   "execution_count": 40,
   "metadata": {
    "collapsed": false
   },
   "outputs": [],
   "source": [
    "data.drop(data['prev_2_hour_passengers'].isnull(), inplace=True)"
   ]
  },
  {
   "cell_type": "code",
   "execution_count": 41,
   "metadata": {
    "collapsed": false
   },
   "outputs": [
    {
     "data": {
      "text/html": [
       "<div>\n",
       "<style>\n",
       "    .dataframe thead tr:only-child th {\n",
       "        text-align: right;\n",
       "    }\n",
       "\n",
       "    .dataframe thead th {\n",
       "        text-align: left;\n",
       "    }\n",
       "\n",
       "    .dataframe tbody tr th {\n",
       "        vertical-align: top;\n",
       "    }\n",
       "</style>\n",
       "<table border=\"1\" class=\"dataframe\">\n",
       "  <thead>\n",
       "    <tr style=\"text-align: right;\">\n",
       "      <th></th>\n",
       "      <th>pickup_time</th>\n",
       "      <th>num_pickups</th>\n",
       "      <th>num_passengers</th>\n",
       "      <th>missing_dt</th>\n",
       "      <th>temp</th>\n",
       "      <th>temp_min</th>\n",
       "      <th>temp_max</th>\n",
       "      <th>humidity</th>\n",
       "      <th>wind_speed</th>\n",
       "      <th>weather_main</th>\n",
       "      <th>...</th>\n",
       "      <th>HourOfDay</th>\n",
       "      <th>DayOfWeek</th>\n",
       "      <th>holiday</th>\n",
       "      <th>precip_in</th>\n",
       "      <th>weather_encoded</th>\n",
       "      <th>DayofWeek_WeatherEncoded</th>\n",
       "      <th>DayofWeek_HourOfDay</th>\n",
       "      <th>DayofWeek_HourOfDay_Holiday</th>\n",
       "      <th>prev_hour_passengers</th>\n",
       "      <th>prev_2_hour_passengers</th>\n",
       "    </tr>\n",
       "  </thead>\n",
       "  <tbody>\n",
       "    <tr>\n",
       "      <th>2</th>\n",
       "      <td>2014-01-01 02:00:00-05:00</td>\n",
       "      <td>34.0</td>\n",
       "      <td>70.0</td>\n",
       "      <td>False</td>\n",
       "      <td>268.48</td>\n",
       "      <td>266.48</td>\n",
       "      <td>270.37</td>\n",
       "      <td>57.0</td>\n",
       "      <td>3.0</td>\n",
       "      <td>clear</td>\n",
       "      <td>...</td>\n",
       "      <td>2</td>\n",
       "      <td>2</td>\n",
       "      <td>1</td>\n",
       "      <td>0.0</td>\n",
       "      <td>0</td>\n",
       "      <td>2_0</td>\n",
       "      <td>2_2</td>\n",
       "      <td>2_2_1</td>\n",
       "      <td>0.0</td>\n",
       "      <td>108.0</td>\n",
       "    </tr>\n",
       "    <tr>\n",
       "      <th>3</th>\n",
       "      <td>2014-01-01 03:00:00-05:00</td>\n",
       "      <td>12.0</td>\n",
       "      <td>18.0</td>\n",
       "      <td>False</td>\n",
       "      <td>268.33</td>\n",
       "      <td>265.93</td>\n",
       "      <td>270.37</td>\n",
       "      <td>80.0</td>\n",
       "      <td>3.0</td>\n",
       "      <td>clear</td>\n",
       "      <td>...</td>\n",
       "      <td>3</td>\n",
       "      <td>2</td>\n",
       "      <td>1</td>\n",
       "      <td>0.0</td>\n",
       "      <td>0</td>\n",
       "      <td>2_0</td>\n",
       "      <td>2_3</td>\n",
       "      <td>2_3_1</td>\n",
       "      <td>0.0</td>\n",
       "      <td>0.0</td>\n",
       "    </tr>\n",
       "    <tr>\n",
       "      <th>4</th>\n",
       "      <td>2014-01-01 04:00:00-05:00</td>\n",
       "      <td>25.0</td>\n",
       "      <td>37.0</td>\n",
       "      <td>False</td>\n",
       "      <td>268.10</td>\n",
       "      <td>265.37</td>\n",
       "      <td>270.37</td>\n",
       "      <td>80.0</td>\n",
       "      <td>3.0</td>\n",
       "      <td>clear</td>\n",
       "      <td>...</td>\n",
       "      <td>4</td>\n",
       "      <td>2</td>\n",
       "      <td>1</td>\n",
       "      <td>0.0</td>\n",
       "      <td>0</td>\n",
       "      <td>2_0</td>\n",
       "      <td>2_4</td>\n",
       "      <td>2_4_1</td>\n",
       "      <td>0.0</td>\n",
       "      <td>0.0</td>\n",
       "    </tr>\n",
       "    <tr>\n",
       "      <th>5</th>\n",
       "      <td>2014-01-01 05:00:00-05:00</td>\n",
       "      <td>16.0</td>\n",
       "      <td>24.0</td>\n",
       "      <td>False</td>\n",
       "      <td>268.02</td>\n",
       "      <td>265.37</td>\n",
       "      <td>270.37</td>\n",
       "      <td>80.0</td>\n",
       "      <td>1.0</td>\n",
       "      <td>clear</td>\n",
       "      <td>...</td>\n",
       "      <td>5</td>\n",
       "      <td>2</td>\n",
       "      <td>1</td>\n",
       "      <td>0.0</td>\n",
       "      <td>0</td>\n",
       "      <td>2_0</td>\n",
       "      <td>2_5</td>\n",
       "      <td>2_5_1</td>\n",
       "      <td>0.0</td>\n",
       "      <td>0.0</td>\n",
       "    </tr>\n",
       "    <tr>\n",
       "      <th>6</th>\n",
       "      <td>2014-01-01 06:00:00-05:00</td>\n",
       "      <td>14.0</td>\n",
       "      <td>17.0</td>\n",
       "      <td>False</td>\n",
       "      <td>267.90</td>\n",
       "      <td>265.37</td>\n",
       "      <td>270.37</td>\n",
       "      <td>80.0</td>\n",
       "      <td>1.0</td>\n",
       "      <td>clear</td>\n",
       "      <td>...</td>\n",
       "      <td>6</td>\n",
       "      <td>2</td>\n",
       "      <td>1</td>\n",
       "      <td>0.0</td>\n",
       "      <td>0</td>\n",
       "      <td>2_0</td>\n",
       "      <td>2_6</td>\n",
       "      <td>2_6_1</td>\n",
       "      <td>243.0</td>\n",
       "      <td>0.0</td>\n",
       "    </tr>\n",
       "  </tbody>\n",
       "</table>\n",
       "<p>5 rows × 23 columns</p>\n",
       "</div>"
      ],
      "text/plain": [
       "                 pickup_time  num_pickups  num_passengers  missing_dt    temp  \\\n",
       "2  2014-01-01 02:00:00-05:00         34.0            70.0       False  268.48   \n",
       "3  2014-01-01 03:00:00-05:00         12.0            18.0       False  268.33   \n",
       "4  2014-01-01 04:00:00-05:00         25.0            37.0       False  268.10   \n",
       "5  2014-01-01 05:00:00-05:00         16.0            24.0       False  268.02   \n",
       "6  2014-01-01 06:00:00-05:00         14.0            17.0       False  267.90   \n",
       "\n",
       "   temp_min  temp_max  humidity  wind_speed weather_main  \\\n",
       "2    266.48    270.37      57.0         3.0        clear   \n",
       "3    265.93    270.37      80.0         3.0        clear   \n",
       "4    265.37    270.37      80.0         3.0        clear   \n",
       "5    265.37    270.37      80.0         1.0        clear   \n",
       "6    265.37    270.37      80.0         1.0        clear   \n",
       "\n",
       "           ...           HourOfDay  DayOfWeek  holiday  precip_in  \\\n",
       "2          ...                   2          2        1        0.0   \n",
       "3          ...                   3          2        1        0.0   \n",
       "4          ...                   4          2        1        0.0   \n",
       "5          ...                   5          2        1        0.0   \n",
       "6          ...                   6          2        1        0.0   \n",
       "\n",
       "   weather_encoded  DayofWeek_WeatherEncoded  DayofWeek_HourOfDay  \\\n",
       "2                0                       2_0                  2_2   \n",
       "3                0                       2_0                  2_3   \n",
       "4                0                       2_0                  2_4   \n",
       "5                0                       2_0                  2_5   \n",
       "6                0                       2_0                  2_6   \n",
       "\n",
       "   DayofWeek_HourOfDay_Holiday prev_hour_passengers prev_2_hour_passengers  \n",
       "2                        2_2_1                  0.0                  108.0  \n",
       "3                        2_3_1                  0.0                    0.0  \n",
       "4                        2_4_1                  0.0                    0.0  \n",
       "5                        2_5_1                  0.0                    0.0  \n",
       "6                        2_6_1                243.0                    0.0  \n",
       "\n",
       "[5 rows x 23 columns]"
      ]
     },
     "execution_count": 41,
     "metadata": {},
     "output_type": "execute_result"
    }
   ],
   "source": [
    "data.head()"
   ]
  },
  {
   "cell_type": "code",
   "execution_count": 42,
   "metadata": {
    "collapsed": false
   },
   "outputs": [
    {
     "data": {
      "text/plain": [
       "Index(['pickup_time', 'num_pickups', 'num_passengers', 'missing_dt', 'temp',\n",
       "       'temp_min', 'temp_max', 'humidity', 'wind_speed', 'weather_main',\n",
       "       'weather_description', 'Passengers', 'Month', 'HourOfDay', 'DayOfWeek',\n",
       "       'holiday', 'precip_in', 'weather_encoded', 'DayofWeek_WeatherEncoded',\n",
       "       'DayofWeek_HourOfDay', 'DayofWeek_HourOfDay_Holiday',\n",
       "       'prev_hour_passengers', 'prev_2_hour_passengers'],\n",
       "      dtype='object')"
      ]
     },
     "execution_count": 42,
     "metadata": {},
     "output_type": "execute_result"
    }
   ],
   "source": [
    "data.columns"
   ]
  },
  {
   "cell_type": "code",
   "execution_count": 43,
   "metadata": {
    "collapsed": false
   },
   "outputs": [],
   "source": [
    "final_data = data.drop(['num_passengers', 'temp_min', 'temp_max', 'humidity', 'wind_speed', \n",
    "            'pickup_time', 'missing_dt'],axis=1)"
   ]
  },
  {
   "cell_type": "code",
   "execution_count": 44,
   "metadata": {
    "collapsed": false
   },
   "outputs": [
    {
     "data": {
      "text/plain": [
       "Index(['num_pickups', 'temp', 'weather_main', 'weather_description',\n",
       "       'Passengers', 'Month', 'HourOfDay', 'DayOfWeek', 'holiday', 'precip_in',\n",
       "       'weather_encoded', 'DayofWeek_WeatherEncoded', 'DayofWeek_HourOfDay',\n",
       "       'DayofWeek_HourOfDay_Holiday', 'prev_hour_passengers',\n",
       "       'prev_2_hour_passengers'],\n",
       "      dtype='object')"
      ]
     },
     "execution_count": 44,
     "metadata": {},
     "output_type": "execute_result"
    }
   ],
   "source": [
    "final_data.columns"
   ]
  },
  {
   "cell_type": "code",
   "execution_count": 45,
   "metadata": {
    "collapsed": true
   },
   "outputs": [],
   "source": [
    "categorical_vars = final_data.describe(include=[\"object\"]).columns\n",
    "continuous_vars = final_data.describe().columns"
   ]
  },
  {
   "cell_type": "code",
   "execution_count": 46,
   "metadata": {
    "collapsed": false
   },
   "outputs": [
    {
     "data": {
      "text/plain": [
       "Index(['weather_main', 'weather_description', 'DayofWeek_WeatherEncoded',\n",
       "       'DayofWeek_HourOfDay', 'DayofWeek_HourOfDay_Holiday'],\n",
       "      dtype='object')"
      ]
     },
     "execution_count": 46,
     "metadata": {},
     "output_type": "execute_result"
    }
   ],
   "source": [
    "categorical_vars"
   ]
  },
  {
   "cell_type": "code",
   "execution_count": 47,
   "metadata": {
    "collapsed": false
   },
   "outputs": [
    {
     "data": {
      "text/plain": [
       "Index(['num_pickups', 'temp', 'Passengers', 'Month', 'HourOfDay', 'DayOfWeek',\n",
       "       'holiday', 'precip_in', 'weather_encoded', 'prev_hour_passengers',\n",
       "       'prev_2_hour_passengers'],\n",
       "      dtype='object')"
      ]
     },
     "execution_count": 47,
     "metadata": {},
     "output_type": "execute_result"
    }
   ],
   "source": [
    "continuous_vars"
   ]
  },
  {
   "cell_type": "markdown",
   "metadata": {},
   "source": [
    "## Correlation:"
   ]
  },
  {
   "cell_type": "code",
   "execution_count": 48,
   "metadata": {
    "collapsed": false
   },
   "outputs": [
    {
     "data": {
      "text/plain": [
       "Index(['num_pickups', 'temp', 'weather_main', 'weather_description',\n",
       "       'Passengers', 'Month', 'HourOfDay', 'DayOfWeek', 'holiday', 'precip_in',\n",
       "       'weather_encoded', 'DayofWeek_WeatherEncoded', 'DayofWeek_HourOfDay',\n",
       "       'DayofWeek_HourOfDay_Holiday', 'prev_hour_passengers',\n",
       "       'prev_2_hour_passengers'],\n",
       "      dtype='object')"
      ]
     },
     "execution_count": 48,
     "metadata": {},
     "output_type": "execute_result"
    }
   ],
   "source": [
    "final_data.columns"
   ]
  },
  {
   "cell_type": "code",
   "execution_count": 49,
   "metadata": {
    "collapsed": false
   },
   "outputs": [
    {
     "data": {
      "text/plain": [
       "<matplotlib.axes._subplots.AxesSubplot at 0x103ae0a90>"
      ]
     },
     "execution_count": 49,
     "metadata": {},
     "output_type": "execute_result"
    },
    {
     "data": {
      "image/png": "[encoded data removed]",
      "text/plain": [
       "<matplotlib.figure.Figure at 0x113eec710>"
      ]
     },
     "metadata": {},
     "output_type": "display_data"
    }
   ],
   "source": [
    "import seaborn as sns\n",
    "plt.figure(figsize=(10,10))\n",
    "sns.heatmap(final_data[continuous_vars].corr(),\n",
    "           annot=True, fmt=\".2f\")"
   ]
  },
  {
   "cell_type": "code",
   "execution_count": 50,
   "metadata": {
    "collapsed": true
   },
   "outputs": [],
   "source": [
    "data_dummies_df = pd.get_dummies(final_data, columns=categorical_vars, drop_first=True)"
   ]
  },
  {
   "cell_type": "code",
   "execution_count": 51,
   "metadata": {
    "collapsed": true
   },
   "outputs": [],
   "source": [
    "num_pickups = data_dummies_df.num_pickups\n",
    "data_dummies_df.drop(\"num_pickups\", axis=1, inplace=True)"
   ]
  },
  {
   "cell_type": "code",
   "execution_count": 52,
   "metadata": {
    "collapsed": false
   },
   "outputs": [],
   "source": [
    "X_train, X_test, y_train, y_test = train_test_split(data_dummies_df, num_pickups, random_state=0, test_size=0.2)"
   ]
  },
  {
   "cell_type": "markdown",
   "metadata": {},
   "source": [
    "### Plotting error functions"
   ]
  },
  {
   "cell_type": "code",
   "execution_count": 53,
   "metadata": {
    "collapsed": true
   },
   "outputs": [],
   "source": [
    "def get_predictions(X_train, y_train, X_test, classifier):\n",
    "    classifier.fit(X_train, y_train)\n",
    "    return classifier.predict(X_test)"
   ]
  },
  {
   "cell_type": "code",
   "execution_count": 54,
   "metadata": {
    "collapsed": true
   },
   "outputs": [],
   "source": [
    "def plot_errors_hour(data, predictions, y_test):\n",
    "    test_hours = data['HourOfDay'].loc[y_test.index]\n",
    "    errors_df = pd.DataFrame({'HourOfDay' : test_hours, 'y_test' : y_test, 'predictions' : predictions})\n",
    "    errors_df['error'] = errors_df.predictions - errors_df.y_test\n",
    "    errors_df['error frac'] = errors_df.error / errors_df.y_test\n",
    "    errors_df_hourly = errors_df.groupby('HourOfDay').agg({'error' : 'mean', 'error frac' : 'mean'})\n",
    "    errors_df_hourly.plot(kind = 'bar')\n",
    "    return errors_df_hourly"
   ]
  },
  {
   "cell_type": "markdown",
   "metadata": {},
   "source": [
    "### Pipeline Ridge"
   ]
  },
  {
   "cell_type": "code",
   "execution_count": 53,
   "metadata": {
    "collapsed": false
   },
   "outputs": [],
   "source": [
    "ridge_pipe = make_pipeline(RobustScaler(), VarianceThreshold(), Ridge())\n",
    "ridge_params = {'ridge__alpha' : [0.01, 0.1, 1.0, 10.0, 100.0, np.log(14)]}"
   ]
  },
  {
   "cell_type": "code",
   "execution_count": 54,
   "metadata": {
    "collapsed": true
   },
   "outputs": [],
   "source": [
    "ridge_grid = GridSearchCV(ridge_pipe, ridge_params, cv=3, scoring='r2')"
   ]
  },
  {
   "cell_type": "code",
   "execution_count": 55,
   "metadata": {
    "collapsed": false
   },
   "outputs": [
    {
     "data": {
      "text/plain": [
       "GridSearchCV(cv=3, error_score='raise',\n",
       "       estimator=Pipeline(memory=None,\n",
       "     steps=[('robustscaler', RobustScaler(copy=True, quantile_range=(25.0, 75.0), with_centering=True,\n",
       "       with_scaling=True)), ('variancethreshold', VarianceThreshold(threshold=0.0)), ('ridge', Ridge(alpha=1.0, copy_X=True, fit_intercept=True, max_iter=None,\n",
       "   normalize=False, random_state=None, solver='auto', tol=0.001))]),\n",
       "       fit_params=None, iid=True, n_jobs=1,\n",
       "       param_grid={'ridge__alpha': [0.01, 0.1, 1.0, 10.0, 100.0, 2.6390573296152584]},\n",
       "       pre_dispatch='2*n_jobs', refit=True, return_train_score=True,\n",
       "       scoring='r2', verbose=0)"
      ]
     },
     "execution_count": 55,
     "metadata": {},
     "output_type": "execute_result"
    }
   ],
   "source": [
    "ridge_grid.fit(X_train, y_train)"
   ]
  },
  {
   "cell_type": "code",
   "execution_count": null,
   "metadata": {
    "collapsed": false
   },
   "outputs": [],
   "source": [
    "ridge_grid.best_params_\n",
    "#alpha = 1.0"
   ]
  },
  {
   "cell_type": "code",
   "execution_count": 55,
   "metadata": {
    "collapsed": true
   },
   "outputs": [],
   "source": [
    "ridge = Ridge(alpha = 1.0)"
   ]
  },
  {
   "cell_type": "code",
   "execution_count": 56,
   "metadata": {
    "collapsed": false
   },
   "outputs": [
    {
     "data": {
      "text/plain": [
       "Ridge(alpha=1.0, copy_X=True, fit_intercept=True, max_iter=None,\n",
       "   normalize=False, random_state=None, solver='auto', tol=0.001)"
      ]
     },
     "execution_count": 56,
     "metadata": {},
     "output_type": "execute_result"
    }
   ],
   "source": [
    "ridge.fit(X_train, y_train)"
   ]
  },
  {
   "cell_type": "code",
   "execution_count": 57,
   "metadata": {
    "collapsed": false
   },
   "outputs": [
    {
     "data": {
      "text/plain": [
       "0.86518408378015987"
      ]
     },
     "execution_count": 57,
     "metadata": {},
     "output_type": "execute_result"
    }
   ],
   "source": [
    "ridge.score(X_test, y_test)"
   ]
  },
  {
   "cell_type": "code",
   "execution_count": 47,
   "metadata": {
    "collapsed": false
   },
   "outputs": [
    {
     "data": {
      "text/html": [
       "<div>\n",
       "<style>\n",
       "    .dataframe thead tr:only-child th {\n",
       "        text-align: right;\n",
       "    }\n",
       "\n",
       "    .dataframe thead th {\n",
       "        text-align: left;\n",
       "    }\n",
       "\n",
       "    .dataframe tbody tr th {\n",
       "        vertical-align: top;\n",
       "    }\n",
       "</style>\n",
       "<table border=\"1\" class=\"dataframe\">\n",
       "  <thead>\n",
       "    <tr style=\"text-align: right;\">\n",
       "      <th></th>\n",
       "      <th>error</th>\n",
       "      <th>error frac</th>\n",
       "    </tr>\n",
       "    <tr>\n",
       "      <th>HourOfDay</th>\n",
       "      <th></th>\n",
       "      <th></th>\n",
       "    </tr>\n",
       "  </thead>\n",
       "  <tbody>\n",
       "    <tr>\n",
       "      <th>0</th>\n",
       "      <td>3.256119</td>\n",
       "      <td>1.137179</td>\n",
       "    </tr>\n",
       "    <tr>\n",
       "      <th>1</th>\n",
       "      <td>-37.762596</td>\n",
       "      <td>12.907092</td>\n",
       "    </tr>\n",
       "    <tr>\n",
       "      <th>2</th>\n",
       "      <td>-9.105007</td>\n",
       "      <td>36.979965</td>\n",
       "    </tr>\n",
       "    <tr>\n",
       "      <th>3</th>\n",
       "      <td>-36.855928</td>\n",
       "      <td>34.757310</td>\n",
       "    </tr>\n",
       "    <tr>\n",
       "      <th>4</th>\n",
       "      <td>12.124674</td>\n",
       "      <td>8.823015</td>\n",
       "    </tr>\n",
       "    <tr>\n",
       "      <th>5</th>\n",
       "      <td>-4.125772</td>\n",
       "      <td>inf</td>\n",
       "    </tr>\n",
       "    <tr>\n",
       "      <th>6</th>\n",
       "      <td>0.094664</td>\n",
       "      <td>NaN</td>\n",
       "    </tr>\n",
       "    <tr>\n",
       "      <th>7</th>\n",
       "      <td>7.169178</td>\n",
       "      <td>NaN</td>\n",
       "    </tr>\n",
       "    <tr>\n",
       "      <th>8</th>\n",
       "      <td>21.137490</td>\n",
       "      <td>NaN</td>\n",
       "    </tr>\n",
       "    <tr>\n",
       "      <th>9</th>\n",
       "      <td>3.462712</td>\n",
       "      <td>12.133327</td>\n",
       "    </tr>\n",
       "    <tr>\n",
       "      <th>10</th>\n",
       "      <td>6.673819</td>\n",
       "      <td>6.955741</td>\n",
       "    </tr>\n",
       "    <tr>\n",
       "      <th>11</th>\n",
       "      <td>5.579586</td>\n",
       "      <td>inf</td>\n",
       "    </tr>\n",
       "    <tr>\n",
       "      <th>12</th>\n",
       "      <td>13.483807</td>\n",
       "      <td>0.448334</td>\n",
       "    </tr>\n",
       "    <tr>\n",
       "      <th>13</th>\n",
       "      <td>0.002872</td>\n",
       "      <td>0.244053</td>\n",
       "    </tr>\n",
       "    <tr>\n",
       "      <th>14</th>\n",
       "      <td>2.402575</td>\n",
       "      <td>0.807355</td>\n",
       "    </tr>\n",
       "    <tr>\n",
       "      <th>15</th>\n",
       "      <td>5.904198</td>\n",
       "      <td>0.216619</td>\n",
       "    </tr>\n",
       "    <tr>\n",
       "      <th>16</th>\n",
       "      <td>-3.496062</td>\n",
       "      <td>0.037574</td>\n",
       "    </tr>\n",
       "    <tr>\n",
       "      <th>17</th>\n",
       "      <td>-5.096819</td>\n",
       "      <td>0.191348</td>\n",
       "    </tr>\n",
       "    <tr>\n",
       "      <th>18</th>\n",
       "      <td>0.624595</td>\n",
       "      <td>0.058103</td>\n",
       "    </tr>\n",
       "    <tr>\n",
       "      <th>19</th>\n",
       "      <td>-8.882165</td>\n",
       "      <td>0.123681</td>\n",
       "    </tr>\n",
       "    <tr>\n",
       "      <th>20</th>\n",
       "      <td>-11.335979</td>\n",
       "      <td>2.368556</td>\n",
       "    </tr>\n",
       "    <tr>\n",
       "      <th>21</th>\n",
       "      <td>0.005357</td>\n",
       "      <td>0.073270</td>\n",
       "    </tr>\n",
       "    <tr>\n",
       "      <th>22</th>\n",
       "      <td>10.415612</td>\n",
       "      <td>0.175665</td>\n",
       "    </tr>\n",
       "    <tr>\n",
       "      <th>23</th>\n",
       "      <td>0.617479</td>\n",
       "      <td>0.496367</td>\n",
       "    </tr>\n",
       "  </tbody>\n",
       "</table>\n",
       "</div>"
      ],
      "text/plain": [
       "               error  error frac\n",
       "HourOfDay                       \n",
       "0           3.256119    1.137179\n",
       "1         -37.762596   12.907092\n",
       "2          -9.105007   36.979965\n",
       "3         -36.855928   34.757310\n",
       "4          12.124674    8.823015\n",
       "5          -4.125772         inf\n",
       "6           0.094664         NaN\n",
       "7           7.169178         NaN\n",
       "8          21.137490         NaN\n",
       "9           3.462712   12.133327\n",
       "10          6.673819    6.955741\n",
       "11          5.579586         inf\n",
       "12         13.483807    0.448334\n",
       "13          0.002872    0.244053\n",
       "14          2.402575    0.807355\n",
       "15          5.904198    0.216619\n",
       "16         -3.496062    0.037574\n",
       "17         -5.096819    0.191348\n",
       "18          0.624595    0.058103\n",
       "19         -8.882165    0.123681\n",
       "20        -11.335979    2.368556\n",
       "21          0.005357    0.073270\n",
       "22         10.415612    0.175665\n",
       "23          0.617479    0.496367"
      ]
     },
     "execution_count": 47,
     "metadata": {},
     "output_type": "execute_result"
    },
    {
     "data": {
      "image/png": "[encoded data removed]",
      "text/plain": [
       "<matplotlib.figure.Figure at 0x1186a5cc0>"
      ]
     },
     "metadata": {},
     "output_type": "display_data"
    }
   ],
   "source": [
    "plot_errors_hour(data, get_predictions(X_train, y_train, X_test, Ridge(alpha = 1.0)), y_test)"
   ]
  },
  {
   "cell_type": "markdown",
   "metadata": {},
   "source": [
    "### Pipeline SVR"
   ]
  },
  {
   "cell_type": "markdown",
   "metadata": {},
   "source": [
    "Takes way longer and it doesn't do great (only 0.6642 R^2)"
   ]
  },
  {
   "cell_type": "code",
   "execution_count": 337,
   "metadata": {
    "collapsed": false
   },
   "outputs": [],
   "source": [
    "svr_pipe = make_pipeline(RobustScaler(), VarianceThreshold(), SVR())\n",
    "svr_params = {'svr__kernel' : ['linear', 'rbf', 'sigmoid'],\n",
    "             'svr__C' : [1.0, 10.0, 100.0],\n",
    "             'svr__epsilon' : [0.01, 0.05, 0.1, 0.5]}\n",
    "svr_grid = GridSearchCV(svr_pipe, svr_params, cv=3, scoring='r2', verbose=2, n_jobs=-1)"
   ]
  },
  {
   "cell_type": "code",
   "execution_count": 338,
   "metadata": {
    "collapsed": false
   },
   "outputs": [
    {
     "name": "stdout",
     "output_type": "stream",
     "text": [
      "Fitting 3 folds for each of 36 candidates, totalling 108 fits\n",
      "[CV] svr__C=1.0, svr__epsilon=0.01, svr__kernel=linear ...............\n",
      "[CV] svr__C=1.0, svr__epsilon=0.01, svr__kernel=linear ...............\n",
      "[CV] svr__C=1.0, svr__epsilon=0.01, svr__kernel=linear ...............\n",
      "[CV] svr__C=1.0, svr__epsilon=0.01, svr__kernel=rbf ..................\n",
      "[CV]  svr__C=1.0, svr__epsilon=0.01, svr__kernel=linear, total= 3.6min\n",
      "[CV] svr__C=1.0, svr__epsilon=0.01, svr__kernel=rbf ..................\n",
      "[CV]  svr__C=1.0, svr__epsilon=0.01, svr__kernel=linear, total= 3.6min\n",
      "[CV] svr__C=1.0, svr__epsilon=0.01, svr__kernel=rbf ..................\n",
      "[CV]  svr__C=1.0, svr__epsilon=0.01, svr__kernel=linear, total= 3.6min\n",
      "[CV] svr__C=1.0, svr__epsilon=0.01, svr__kernel=sigmoid ..............\n",
      "[CV] ... svr__C=1.0, svr__epsilon=0.01, svr__kernel=rbf, total= 3.9min\n",
      "[CV] svr__C=1.0, svr__epsilon=0.01, svr__kernel=sigmoid ..............\n",
      "[CV]  svr__C=1.0, svr__epsilon=0.01, svr__kernel=sigmoid, total= 3.5min\n",
      "[CV] svr__C=1.0, svr__epsilon=0.01, svr__kernel=sigmoid ..............\n",
      "[CV] ... svr__C=1.0, svr__epsilon=0.01, svr__kernel=rbf, total= 3.8min\n",
      "[CV] svr__C=1.0, svr__epsilon=0.05, svr__kernel=linear ...............\n",
      "[CV] ... svr__C=1.0, svr__epsilon=0.01, svr__kernel=rbf, total= 3.8min\n",
      "[CV] svr__C=1.0, svr__epsilon=0.05, svr__kernel=linear ...............\n",
      "[CV]  svr__C=1.0, svr__epsilon=0.01, svr__kernel=sigmoid, total= 3.5min\n",
      "[CV] svr__C=1.0, svr__epsilon=0.05, svr__kernel=linear ...............\n",
      "[CV]  svr__C=1.0, svr__epsilon=0.01, svr__kernel=sigmoid, total= 3.6min\n",
      "[CV] svr__C=1.0, svr__epsilon=0.05, svr__kernel=rbf ..................\n",
      "[CV]  svr__C=1.0, svr__epsilon=0.05, svr__kernel=linear, total= 3.5min\n",
      "[CV] svr__C=1.0, svr__epsilon=0.05, svr__kernel=rbf ..................\n",
      "[CV]  svr__C=1.0, svr__epsilon=0.05, svr__kernel=linear, total= 3.5min\n",
      "[CV] svr__C=1.0, svr__epsilon=0.05, svr__kernel=rbf ..................\n",
      "[CV]  svr__C=1.0, svr__epsilon=0.05, svr__kernel=linear, total= 3.5min\n",
      "[CV] svr__C=1.0, svr__epsilon=0.05, svr__kernel=sigmoid ..............\n",
      "[CV]  svr__C=1.0, svr__epsilon=0.05, svr__kernel=sigmoid, total= 3.4min\n",
      "[CV] svr__C=1.0, svr__epsilon=0.05, svr__kernel=sigmoid ..............\n",
      "[CV] ... svr__C=1.0, svr__epsilon=0.05, svr__kernel=rbf, total= 3.8min\n",
      "[CV] svr__C=1.0, svr__epsilon=0.05, svr__kernel=sigmoid ..............\n",
      "[CV] ... svr__C=1.0, svr__epsilon=0.05, svr__kernel=rbf, total= 3.7min\n",
      "[CV] svr__C=1.0, svr__epsilon=0.1, svr__kernel=linear ................\n",
      "[CV] ... svr__C=1.0, svr__epsilon=0.05, svr__kernel=rbf, total= 3.7min\n",
      "[CV] svr__C=1.0, svr__epsilon=0.1, svr__kernel=linear ................\n",
      "[CV]  svr__C=1.0, svr__epsilon=0.05, svr__kernel=sigmoid, total= 3.6min\n",
      "[CV] svr__C=1.0, svr__epsilon=0.1, svr__kernel=linear ................\n",
      "[CV]  svr__C=1.0, svr__epsilon=0.05, svr__kernel=sigmoid, total= 3.6min\n",
      "[CV] svr__C=1.0, svr__epsilon=0.1, svr__kernel=rbf ...................\n",
      "[CV] . svr__C=1.0, svr__epsilon=0.1, svr__kernel=linear, total= 3.6min\n",
      "[CV] svr__C=1.0, svr__epsilon=0.1, svr__kernel=rbf ...................\n",
      "[CV] . svr__C=1.0, svr__epsilon=0.1, svr__kernel=linear, total= 3.6min\n",
      "[CV] svr__C=1.0, svr__epsilon=0.1, svr__kernel=rbf ...................\n",
      "[CV] . svr__C=1.0, svr__epsilon=0.1, svr__kernel=linear, total= 3.5min\n",
      "[CV] svr__C=1.0, svr__epsilon=0.1, svr__kernel=sigmoid ...............\n",
      "[CV] .... svr__C=1.0, svr__epsilon=0.1, svr__kernel=rbf, total= 4.0min\n",
      "[CV] svr__C=1.0, svr__epsilon=0.1, svr__kernel=sigmoid ...............\n",
      "[CV] .... svr__C=1.0, svr__epsilon=0.1, svr__kernel=rbf, total= 3.9min\n",
      "[CV] svr__C=1.0, svr__epsilon=0.1, svr__kernel=sigmoid ...............\n",
      "[CV] .... svr__C=1.0, svr__epsilon=0.1, svr__kernel=rbf, total= 3.9min\n",
      "[CV] svr__C=1.0, svr__epsilon=0.5, svr__kernel=linear ................\n",
      "[CV]  svr__C=1.0, svr__epsilon=0.1, svr__kernel=sigmoid, total= 3.5min\n",
      "[CV] svr__C=1.0, svr__epsilon=0.5, svr__kernel=linear ................\n",
      "[CV]  svr__C=1.0, svr__epsilon=0.1, svr__kernel=sigmoid, total= 3.5min\n",
      "[CV] svr__C=1.0, svr__epsilon=0.5, svr__kernel=linear ................\n",
      "[CV] . svr__C=1.0, svr__epsilon=0.5, svr__kernel=linear, total= 3.4min\n",
      "[CV] svr__C=1.0, svr__epsilon=0.5, svr__kernel=rbf ...................\n",
      "[CV]  svr__C=1.0, svr__epsilon=0.1, svr__kernel=sigmoid, total= 3.5min\n",
      "[CV] svr__C=1.0, svr__epsilon=0.5, svr__kernel=rbf ...................\n",
      "[CV] . svr__C=1.0, svr__epsilon=0.5, svr__kernel=linear, total= 3.4min\n",
      "[CV] svr__C=1.0, svr__epsilon=0.5, svr__kernel=rbf ...................\n",
      "[CV] . svr__C=1.0, svr__epsilon=0.5, svr__kernel=linear, total= 3.3min\n",
      "[CV] svr__C=1.0, svr__epsilon=0.5, svr__kernel=sigmoid ...............\n",
      "[CV] .... svr__C=1.0, svr__epsilon=0.5, svr__kernel=rbf, total= 3.7min\n",
      "[CV] svr__C=1.0, svr__epsilon=0.5, svr__kernel=sigmoid ...............\n",
      "[CV] .... svr__C=1.0, svr__epsilon=0.5, svr__kernel=rbf, total= 3.7min\n",
      "[CV] svr__C=1.0, svr__epsilon=0.5, svr__kernel=sigmoid ...............\n",
      "[CV] .... svr__C=1.0, svr__epsilon=0.5, svr__kernel=rbf, total= 4.3min\n",
      "[CV] svr__C=10.0, svr__epsilon=0.01, svr__kernel=linear ..............\n"
     ]
    },
    {
     "name": "stderr",
     "output_type": "stream",
     "text": [
      "[Parallel(n_jobs=-1)]: Done  33 tasks      | elapsed: 52.8min\n"
     ]
    },
    {
     "name": "stdout",
     "output_type": "stream",
     "text": [
      "[CV]  svr__C=1.0, svr__epsilon=0.5, svr__kernel=sigmoid, total= 3.8min\n",
      "[CV] svr__C=10.0, svr__epsilon=0.01, svr__kernel=linear ..............\n",
      "[CV]  svr__C=1.0, svr__epsilon=0.5, svr__kernel=sigmoid, total= 3.8min\n",
      "[CV] svr__C=10.0, svr__epsilon=0.01, svr__kernel=linear ..............\n",
      "[CV]  svr__C=1.0, svr__epsilon=0.5, svr__kernel=sigmoid, total= 3.8min\n",
      "[CV] svr__C=10.0, svr__epsilon=0.01, svr__kernel=rbf .................\n",
      "[CV]  svr__C=10.0, svr__epsilon=0.01, svr__kernel=linear, total= 3.6min\n",
      "[CV] svr__C=10.0, svr__epsilon=0.01, svr__kernel=rbf .................\n",
      "[CV]  svr__C=10.0, svr__epsilon=0.01, svr__kernel=linear, total= 3.6min\n",
      "[CV] svr__C=10.0, svr__epsilon=0.01, svr__kernel=rbf .................\n",
      "[CV]  svr__C=10.0, svr__epsilon=0.01, svr__kernel=linear, total= 3.5min\n",
      "[CV] svr__C=10.0, svr__epsilon=0.01, svr__kernel=sigmoid .............\n",
      "[CV] .. svr__C=10.0, svr__epsilon=0.01, svr__kernel=rbf, total= 3.9min\n",
      "[CV] svr__C=10.0, svr__epsilon=0.01, svr__kernel=sigmoid .............\n",
      "[CV] .. svr__C=10.0, svr__epsilon=0.01, svr__kernel=rbf, total= 3.8min\n",
      "[CV] svr__C=10.0, svr__epsilon=0.01, svr__kernel=sigmoid .............\n",
      "[CV] .. svr__C=10.0, svr__epsilon=0.01, svr__kernel=rbf, total= 3.8min\n",
      "[CV] svr__C=10.0, svr__epsilon=0.05, svr__kernel=linear ..............\n",
      "[CV]  svr__C=10.0, svr__epsilon=0.01, svr__kernel=sigmoid, total= 3.5min\n",
      "[CV] svr__C=10.0, svr__epsilon=0.05, svr__kernel=linear ..............\n",
      "[CV]  svr__C=10.0, svr__epsilon=0.01, svr__kernel=sigmoid, total= 3.4min\n",
      "[CV] svr__C=10.0, svr__epsilon=0.05, svr__kernel=linear ..............\n",
      "[CV]  svr__C=10.0, svr__epsilon=0.01, svr__kernel=sigmoid, total= 3.6min\n",
      "[CV] svr__C=10.0, svr__epsilon=0.05, svr__kernel=rbf .................\n",
      "[CV]  svr__C=10.0, svr__epsilon=0.05, svr__kernel=linear, total= 3.6min\n",
      "[CV] svr__C=10.0, svr__epsilon=0.05, svr__kernel=rbf .................\n",
      "[CV]  svr__C=10.0, svr__epsilon=0.05, svr__kernel=linear, total= 3.6min\n",
      "[CV] svr__C=10.0, svr__epsilon=0.05, svr__kernel=rbf .................\n",
      "[CV]  svr__C=10.0, svr__epsilon=0.05, svr__kernel=linear, total= 3.6min\n",
      "[CV] svr__C=10.0, svr__epsilon=0.05, svr__kernel=sigmoid .............\n",
      "[CV] .. svr__C=10.0, svr__epsilon=0.05, svr__kernel=rbf, total= 3.9min\n",
      "[CV] svr__C=10.0, svr__epsilon=0.05, svr__kernel=sigmoid .............\n",
      "[CV] .. svr__C=10.0, svr__epsilon=0.05, svr__kernel=rbf, total= 3.9min\n",
      "[CV] svr__C=10.0, svr__epsilon=0.05, svr__kernel=sigmoid .............\n",
      "[CV]  svr__C=10.0, svr__epsilon=0.05, svr__kernel=sigmoid, total= 3.4min\n",
      "[CV] svr__C=10.0, svr__epsilon=0.1, svr__kernel=linear ...............\n",
      "[CV] .. svr__C=10.0, svr__epsilon=0.05, svr__kernel=rbf, total= 3.8min\n",
      "[CV] svr__C=10.0, svr__epsilon=0.1, svr__kernel=linear ...............\n",
      "[CV]  svr__C=10.0, svr__epsilon=0.05, svr__kernel=sigmoid, total= 3.6min\n",
      "[CV] svr__C=10.0, svr__epsilon=0.1, svr__kernel=linear ...............\n",
      "[CV]  svr__C=10.0, svr__epsilon=0.05, svr__kernel=sigmoid, total= 3.6min\n",
      "[CV] svr__C=10.0, svr__epsilon=0.1, svr__kernel=rbf ..................\n",
      "[CV]  svr__C=10.0, svr__epsilon=0.1, svr__kernel=linear, total= 3.6min\n",
      "[CV] svr__C=10.0, svr__epsilon=0.1, svr__kernel=rbf ..................\n",
      "[CV]  svr__C=10.0, svr__epsilon=0.1, svr__kernel=linear, total= 3.6min\n",
      "[CV] svr__C=10.0, svr__epsilon=0.1, svr__kernel=rbf ..................\n",
      "[CV]  svr__C=10.0, svr__epsilon=0.1, svr__kernel=linear, total= 3.5min\n",
      "[CV] svr__C=10.0, svr__epsilon=0.1, svr__kernel=sigmoid ..............\n",
      "[CV] ... svr__C=10.0, svr__epsilon=0.1, svr__kernel=rbf, total= 3.8min\n",
      "[CV] svr__C=10.0, svr__epsilon=0.1, svr__kernel=sigmoid ..............\n",
      "[CV] ... svr__C=10.0, svr__epsilon=0.1, svr__kernel=rbf, total= 3.7min\n",
      "[CV] svr__C=10.0, svr__epsilon=0.1, svr__kernel=sigmoid ..............\n",
      "[CV] ... svr__C=10.0, svr__epsilon=0.1, svr__kernel=rbf, total= 3.7min\n",
      "[CV] svr__C=10.0, svr__epsilon=0.5, svr__kernel=linear ...............\n",
      "[CV]  svr__C=10.0, svr__epsilon=0.1, svr__kernel=sigmoid, total= 3.5min\n",
      "[CV] svr__C=10.0, svr__epsilon=0.5, svr__kernel=linear ...............\n",
      "[CV]  svr__C=10.0, svr__epsilon=0.1, svr__kernel=sigmoid, total= 3.6min\n",
      "[CV] svr__C=10.0, svr__epsilon=0.5, svr__kernel=linear ...............\n",
      "[CV]  svr__C=10.0, svr__epsilon=0.5, svr__kernel=linear, total= 3.5min\n",
      "[CV] svr__C=10.0, svr__epsilon=0.5, svr__kernel=rbf ..................\n",
      "[CV]  svr__C=10.0, svr__epsilon=0.1, svr__kernel=sigmoid, total= 3.6min\n",
      "[CV] svr__C=10.0, svr__epsilon=0.5, svr__kernel=rbf ..................\n",
      "[CV]  svr__C=10.0, svr__epsilon=0.5, svr__kernel=linear, total= 3.5min\n",
      "[CV] svr__C=10.0, svr__epsilon=0.5, svr__kernel=rbf ..................\n",
      "[CV]  svr__C=10.0, svr__epsilon=0.5, svr__kernel=linear, total= 3.5min\n",
      "[CV] svr__C=10.0, svr__epsilon=0.5, svr__kernel=sigmoid ..............\n",
      "[CV] ... svr__C=10.0, svr__epsilon=0.5, svr__kernel=rbf, total= 3.8min\n",
      "[CV] svr__C=10.0, svr__epsilon=0.5, svr__kernel=sigmoid ..............\n",
      "[CV] ... svr__C=10.0, svr__epsilon=0.5, svr__kernel=rbf, total= 3.8min\n",
      "[CV] svr__C=10.0, svr__epsilon=0.5, svr__kernel=sigmoid ..............\n",
      "[CV] ... svr__C=10.0, svr__epsilon=0.5, svr__kernel=rbf, total= 3.8min\n",
      "[CV] svr__C=100.0, svr__epsilon=0.01, svr__kernel=linear .............\n",
      "[CV]  svr__C=10.0, svr__epsilon=0.5, svr__kernel=sigmoid, total= 3.5min\n",
      "[CV] svr__C=100.0, svr__epsilon=0.01, svr__kernel=linear .............\n",
      "[CV]  svr__C=10.0, svr__epsilon=0.5, svr__kernel=sigmoid, total= 3.5min\n",
      "[CV] svr__C=100.0, svr__epsilon=0.01, svr__kernel=linear .............\n",
      "[CV]  svr__C=10.0, svr__epsilon=0.5, svr__kernel=sigmoid, total= 3.5min\n",
      "[CV] svr__C=100.0, svr__epsilon=0.01, svr__kernel=rbf ................\n",
      "[CV]  svr__C=100.0, svr__epsilon=0.01, svr__kernel=linear, total= 3.9min\n",
      "[CV] svr__C=100.0, svr__epsilon=0.01, svr__kernel=rbf ................\n",
      "[CV]  svr__C=100.0, svr__epsilon=0.01, svr__kernel=linear, total= 3.8min\n",
      "[CV] svr__C=100.0, svr__epsilon=0.01, svr__kernel=rbf ................\n",
      "[CV]  svr__C=100.0, svr__epsilon=0.01, svr__kernel=linear, total= 3.8min\n",
      "[CV] svr__C=100.0, svr__epsilon=0.01, svr__kernel=sigmoid ............\n",
      "[CV] . svr__C=100.0, svr__epsilon=0.01, svr__kernel=rbf, total= 3.8min\n",
      "[CV] svr__C=100.0, svr__epsilon=0.01, svr__kernel=sigmoid ............\n",
      "[CV] . svr__C=100.0, svr__epsilon=0.01, svr__kernel=rbf, total= 3.7min\n",
      "[CV] svr__C=100.0, svr__epsilon=0.01, svr__kernel=sigmoid ............\n",
      "[CV] . svr__C=100.0, svr__epsilon=0.01, svr__kernel=rbf, total= 3.7min\n",
      "[CV] svr__C=100.0, svr__epsilon=0.05, svr__kernel=linear .............\n",
      "[CV]  svr__C=100.0, svr__epsilon=0.01, svr__kernel=sigmoid, total= 3.4min\n",
      "[CV] svr__C=100.0, svr__epsilon=0.05, svr__kernel=linear .............\n",
      "[CV]  svr__C=100.0, svr__epsilon=0.01, svr__kernel=sigmoid, total= 3.4min\n",
      "[CV] svr__C=100.0, svr__epsilon=0.05, svr__kernel=linear .............\n",
      "[CV]  svr__C=100.0, svr__epsilon=0.01, svr__kernel=sigmoid, total= 3.5min\n",
      "[CV] svr__C=100.0, svr__epsilon=0.05, svr__kernel=rbf ................\n",
      "[CV]  svr__C=100.0, svr__epsilon=0.05, svr__kernel=linear, total= 3.7min\n",
      "[CV] svr__C=100.0, svr__epsilon=0.05, svr__kernel=rbf ................\n",
      "[CV]  svr__C=100.0, svr__epsilon=0.05, svr__kernel=linear, total= 3.8min\n",
      "[CV] svr__C=100.0, svr__epsilon=0.05, svr__kernel=rbf ................\n",
      "[CV]  svr__C=100.0, svr__epsilon=0.05, svr__kernel=linear, total= 3.9min\n",
      "[CV] svr__C=100.0, svr__epsilon=0.05, svr__kernel=sigmoid ............\n",
      "[CV] . svr__C=100.0, svr__epsilon=0.05, svr__kernel=rbf, total= 3.8min\n",
      "[CV] svr__C=100.0, svr__epsilon=0.05, svr__kernel=sigmoid ............\n",
      "[CV] . svr__C=100.0, svr__epsilon=0.05, svr__kernel=rbf, total= 3.7min\n",
      "[CV] svr__C=100.0, svr__epsilon=0.05, svr__kernel=sigmoid ............\n",
      "[CV]  svr__C=100.0, svr__epsilon=0.05, svr__kernel=sigmoid, total= 3.3min\n",
      "[CV] svr__C=100.0, svr__epsilon=0.1, svr__kernel=linear ..............\n",
      "[CV] . svr__C=100.0, svr__epsilon=0.05, svr__kernel=rbf, total= 3.7min\n",
      "[CV] svr__C=100.0, svr__epsilon=0.1, svr__kernel=linear ..............\n",
      "[CV]  svr__C=100.0, svr__epsilon=0.05, svr__kernel=sigmoid, total= 3.5min\n",
      "[CV] svr__C=100.0, svr__epsilon=0.1, svr__kernel=linear ..............\n",
      "[CV]  svr__C=100.0, svr__epsilon=0.05, svr__kernel=sigmoid, total= 3.5min\n",
      "[CV] svr__C=100.0, svr__epsilon=0.1, svr__kernel=rbf .................\n",
      "[CV]  svr__C=100.0, svr__epsilon=0.1, svr__kernel=linear, total= 3.8min\n",
      "[CV] svr__C=100.0, svr__epsilon=0.1, svr__kernel=rbf .................\n",
      "[CV]  svr__C=100.0, svr__epsilon=0.1, svr__kernel=linear, total= 3.8min\n",
      "[CV] svr__C=100.0, svr__epsilon=0.1, svr__kernel=rbf .................\n",
      "[CV]  svr__C=100.0, svr__epsilon=0.1, svr__kernel=linear, total= 3.8min\n",
      "[CV] svr__C=100.0, svr__epsilon=0.1, svr__kernel=sigmoid .............\n",
      "[CV] .. svr__C=100.0, svr__epsilon=0.1, svr__kernel=rbf, total= 3.7min\n",
      "[CV] svr__C=100.0, svr__epsilon=0.1, svr__kernel=sigmoid .............\n",
      "[CV] .. svr__C=100.0, svr__epsilon=0.1, svr__kernel=rbf, total= 3.7min\n",
      "[CV] svr__C=100.0, svr__epsilon=0.1, svr__kernel=sigmoid .............\n",
      "[CV] .. svr__C=100.0, svr__epsilon=0.1, svr__kernel=rbf, total= 3.7min\n",
      "[CV] svr__C=100.0, svr__epsilon=0.5, svr__kernel=linear ..............\n",
      "[CV]  svr__C=100.0, svr__epsilon=0.1, svr__kernel=sigmoid, total= 3.5min\n",
      "[CV] svr__C=100.0, svr__epsilon=0.5, svr__kernel=linear ..............\n",
      "[CV]  svr__C=100.0, svr__epsilon=0.1, svr__kernel=sigmoid, total= 3.5min\n",
      "[CV] svr__C=100.0, svr__epsilon=0.5, svr__kernel=linear ..............\n",
      "[CV]  svr__C=100.0, svr__epsilon=0.1, svr__kernel=sigmoid, total= 3.5min\n",
      "[CV] svr__C=100.0, svr__epsilon=0.5, svr__kernel=rbf .................\n",
      "[CV]  svr__C=100.0, svr__epsilon=0.5, svr__kernel=linear, total= 3.8min\n",
      "[CV] svr__C=100.0, svr__epsilon=0.5, svr__kernel=rbf .................\n",
      "[CV]  svr__C=100.0, svr__epsilon=0.5, svr__kernel=linear, total= 3.8min\n",
      "[CV] svr__C=100.0, svr__epsilon=0.5, svr__kernel=rbf .................\n",
      "[CV]  svr__C=100.0, svr__epsilon=0.5, svr__kernel=linear, total= 3.8min\n",
      "[CV] svr__C=100.0, svr__epsilon=0.5, svr__kernel=sigmoid .............\n",
      "[CV] .. svr__C=100.0, svr__epsilon=0.5, svr__kernel=rbf, total= 3.7min\n",
      "[CV] svr__C=100.0, svr__epsilon=0.5, svr__kernel=sigmoid .............\n",
      "[CV] .. svr__C=100.0, svr__epsilon=0.5, svr__kernel=rbf, total= 3.7min\n",
      "[CV] svr__C=100.0, svr__epsilon=0.5, svr__kernel=sigmoid .............\n",
      "[CV] .. svr__C=100.0, svr__epsilon=0.5, svr__kernel=rbf, total= 3.7min\n",
      "[CV]  svr__C=100.0, svr__epsilon=0.5, svr__kernel=sigmoid, total= 3.4min\n",
      "[CV]  svr__C=100.0, svr__epsilon=0.5, svr__kernel=sigmoid, total= 3.4min\n",
      "[CV]  svr__C=100.0, svr__epsilon=0.5, svr__kernel=sigmoid, total= 3.4min\n"
     ]
    },
    {
     "name": "stderr",
     "output_type": "stream",
     "text": [
      "[Parallel(n_jobs=-1)]: Done 108 out of 108 | elapsed: 160.0min finished\n"
     ]
    },
    {
     "data": {
      "text/plain": [
       "GridSearchCV(cv=3, error_score='raise',\n",
       "       estimator=Pipeline(memory=None,\n",
       "     steps=[('robustscaler', RobustScaler(copy=True, quantile_range=(25.0, 75.0), with_centering=True,\n",
       "       with_scaling=True)), ('variancethreshold', VarianceThreshold(threshold=0.0)), ('svr', SVR(C=1.0, cache_size=200, coef0=0.0, degree=3, epsilon=0.1, gamma='auto',\n",
       "  kernel='rbf', max_iter=-1, shrinking=True, tol=0.001, verbose=False))]),\n",
       "       fit_params=None, iid=True, n_jobs=-1,\n",
       "       param_grid={'svr__kernel': ['linear', 'rbf', 'sigmoid'], 'svr__C': [1.0, 10.0, 100.0], 'svr__epsilon': [0.01, 0.05, 0.1, 0.5]},\n",
       "       pre_dispatch='2*n_jobs', refit=True, return_train_score=True,\n",
       "       scoring='r2', verbose=2)"
      ]
     },
     "execution_count": 338,
     "metadata": {},
     "output_type": "execute_result"
    }
   ],
   "source": [
    "svr_grid.fit(X_train, y_train)"
   ]
  },
  {
   "cell_type": "code",
   "execution_count": 340,
   "metadata": {
    "collapsed": false
   },
   "outputs": [
    {
     "data": {
      "text/plain": [
       "0.6642188611968457"
      ]
     },
     "execution_count": 340,
     "metadata": {},
     "output_type": "execute_result"
    }
   ],
   "source": [
    "svr_grid.score(X_test, y_test)"
   ]
  },
  {
   "cell_type": "code",
   "execution_count": 341,
   "metadata": {
    "collapsed": false
   },
   "outputs": [
    {
     "data": {
      "text/plain": [
       "{'svr__C': 100.0, 'svr__epsilon': 0.5, 'svr__kernel': 'linear'}"
      ]
     },
     "execution_count": 341,
     "metadata": {},
     "output_type": "execute_result"
    }
   ],
   "source": [
    "svr_grid.best_params_\n",
    "#C = 100, epsilon = 0.5, kernel = 'linear'"
   ]
  },
  {
   "cell_type": "code",
   "execution_count": null,
   "metadata": {
    "collapsed": true
   },
   "outputs": [],
   "source": [
    "plot_errors_hour(data, get_predictions(X_train, y_train, X_test, SVR(\n",
    "        C = 100.0,\n",
    "        epsilon = 0.5,\n",
    "        kernel = 'linear')), y_test)"
   ]
  },
  {
   "cell_type": "markdown",
   "metadata": {},
   "source": [
    "### Pipeline RF"
   ]
  },
  {
   "cell_type": "code",
   "execution_count": 69,
   "metadata": {
    "collapsed": true
   },
   "outputs": [],
   "source": [
    "rf_pipe = make_pipeline(RobustScaler(), VarianceThreshold(), RandomForestRegressor(n_jobs=-1))\n",
    "rf_params = {'randomforestregressor__n_estimators' : [10, 50, 100],\n",
    "             'randomforestregressor__max_features' : [3, 6, 10, 'auto'],\n",
    "             'randomforestregressor__max_depth' : [5, 10, None]}\n",
    "rf_grid = GridSearchCV(rf_pipe, rf_params, cv=3, scoring='r2')"
   ]
  },
  {
   "cell_type": "code",
   "execution_count": 70,
   "metadata": {
    "collapsed": false
   },
   "outputs": [
    {
     "data": {
      "text/plain": [
       "GridSearchCV(cv=3, error_score='raise',\n",
       "       estimator=Pipeline(memory=None,\n",
       "     steps=[('robustscaler', RobustScaler(copy=True, quantile_range=(25.0, 75.0), with_centering=True,\n",
       "       with_scaling=True)), ('variancethreshold', VarianceThreshold(threshold=0.0)), ('randomforestregressor', RandomForestRegressor(bootstrap=True, criterion='mse', max_depth=None,\n",
       "           max_featu...imators=10, n_jobs=-1,\n",
       "           oob_score=False, random_state=None, verbose=0, warm_start=False))]),\n",
       "       fit_params=None, iid=True, n_jobs=1,\n",
       "       param_grid={'randomforestregressor__n_estimators': [10, 50, 100], 'randomforestregressor__max_features': [3, 6, 10, 'auto'], 'randomforestregressor__max_depth': [5, 10, None]},\n",
       "       pre_dispatch='2*n_jobs', refit=True, return_train_score=True,\n",
       "       scoring='r2', verbose=0)"
      ]
     },
     "execution_count": 70,
     "metadata": {},
     "output_type": "execute_result"
    }
   ],
   "source": [
    "rf_grid.fit(X_train, y_train)"
   ]
  },
  {
   "cell_type": "code",
   "execution_count": 73,
   "metadata": {
    "collapsed": false
   },
   "outputs": [
    {
     "data": {
      "text/plain": [
       "0.76915546151153791"
      ]
     },
     "execution_count": 73,
     "metadata": {},
     "output_type": "execute_result"
    }
   ],
   "source": [
    "rf_grid.score(X_test, y_test)"
   ]
  },
  {
   "cell_type": "code",
   "execution_count": 333,
   "metadata": {
    "collapsed": false
   },
   "outputs": [
    {
     "data": {
      "text/plain": [
       "{'randomforestregressor__max_depth': None,\n",
       " 'randomforestregressor__max_features': 'auto',\n",
       " 'randomforestregressor__n_estimators': 100}"
      ]
     },
     "execution_count": 333,
     "metadata": {},
     "output_type": "execute_result"
    }
   ],
   "source": [
    "rf_grid.best_params_\n",
    "#max_depth = None, max_features = 'auto', n_estimators = 100"
   ]
  },
  {
   "cell_type": "code",
   "execution_count": 48,
   "metadata": {
    "collapsed": false
   },
   "outputs": [
    {
     "data": {
      "text/html": [
       "<div>\n",
       "<style>\n",
       "    .dataframe thead tr:only-child th {\n",
       "        text-align: right;\n",
       "    }\n",
       "\n",
       "    .dataframe thead th {\n",
       "        text-align: left;\n",
       "    }\n",
       "\n",
       "    .dataframe tbody tr th {\n",
       "        vertical-align: top;\n",
       "    }\n",
       "</style>\n",
       "<table border=\"1\" class=\"dataframe\">\n",
       "  <thead>\n",
       "    <tr style=\"text-align: right;\">\n",
       "      <th></th>\n",
       "      <th>error</th>\n",
       "      <th>error frac</th>\n",
       "    </tr>\n",
       "    <tr>\n",
       "      <th>HourOfDay</th>\n",
       "      <th></th>\n",
       "      <th></th>\n",
       "    </tr>\n",
       "  </thead>\n",
       "  <tbody>\n",
       "    <tr>\n",
       "      <th>0</th>\n",
       "      <td>25.320931</td>\n",
       "      <td>0.689082</td>\n",
       "    </tr>\n",
       "    <tr>\n",
       "      <th>1</th>\n",
       "      <td>-18.247832</td>\n",
       "      <td>7.330749</td>\n",
       "    </tr>\n",
       "    <tr>\n",
       "      <th>2</th>\n",
       "      <td>-9.427580</td>\n",
       "      <td>27.167766</td>\n",
       "    </tr>\n",
       "    <tr>\n",
       "      <th>3</th>\n",
       "      <td>-41.793935</td>\n",
       "      <td>16.521189</td>\n",
       "    </tr>\n",
       "    <tr>\n",
       "      <th>4</th>\n",
       "      <td>7.786270</td>\n",
       "      <td>5.220199</td>\n",
       "    </tr>\n",
       "    <tr>\n",
       "      <th>5</th>\n",
       "      <td>-3.152386</td>\n",
       "      <td>inf</td>\n",
       "    </tr>\n",
       "    <tr>\n",
       "      <th>6</th>\n",
       "      <td>9.128520</td>\n",
       "      <td>inf</td>\n",
       "    </tr>\n",
       "    <tr>\n",
       "      <th>7</th>\n",
       "      <td>8.114178</td>\n",
       "      <td>inf</td>\n",
       "    </tr>\n",
       "    <tr>\n",
       "      <th>8</th>\n",
       "      <td>13.843652</td>\n",
       "      <td>inf</td>\n",
       "    </tr>\n",
       "    <tr>\n",
       "      <th>9</th>\n",
       "      <td>6.376636</td>\n",
       "      <td>8.524758</td>\n",
       "    </tr>\n",
       "    <tr>\n",
       "      <th>10</th>\n",
       "      <td>7.863443</td>\n",
       "      <td>5.126559</td>\n",
       "    </tr>\n",
       "    <tr>\n",
       "      <th>11</th>\n",
       "      <td>5.657168</td>\n",
       "      <td>inf</td>\n",
       "    </tr>\n",
       "    <tr>\n",
       "      <th>12</th>\n",
       "      <td>14.313291</td>\n",
       "      <td>0.409891</td>\n",
       "    </tr>\n",
       "    <tr>\n",
       "      <th>13</th>\n",
       "      <td>-9.965463</td>\n",
       "      <td>0.110675</td>\n",
       "    </tr>\n",
       "    <tr>\n",
       "      <th>14</th>\n",
       "      <td>10.409949</td>\n",
       "      <td>0.461196</td>\n",
       "    </tr>\n",
       "    <tr>\n",
       "      <th>15</th>\n",
       "      <td>8.672687</td>\n",
       "      <td>0.071968</td>\n",
       "    </tr>\n",
       "    <tr>\n",
       "      <th>16</th>\n",
       "      <td>3.631106</td>\n",
       "      <td>0.044289</td>\n",
       "    </tr>\n",
       "    <tr>\n",
       "      <th>17</th>\n",
       "      <td>-11.272778</td>\n",
       "      <td>0.093556</td>\n",
       "    </tr>\n",
       "    <tr>\n",
       "      <th>18</th>\n",
       "      <td>-7.088367</td>\n",
       "      <td>0.031237</td>\n",
       "    </tr>\n",
       "    <tr>\n",
       "      <th>19</th>\n",
       "      <td>2.314673</td>\n",
       "      <td>0.044347</td>\n",
       "    </tr>\n",
       "    <tr>\n",
       "      <th>20</th>\n",
       "      <td>3.013445</td>\n",
       "      <td>2.045390</td>\n",
       "    </tr>\n",
       "    <tr>\n",
       "      <th>21</th>\n",
       "      <td>-8.505315</td>\n",
       "      <td>0.043371</td>\n",
       "    </tr>\n",
       "    <tr>\n",
       "      <th>22</th>\n",
       "      <td>3.974375</td>\n",
       "      <td>0.135847</td>\n",
       "    </tr>\n",
       "    <tr>\n",
       "      <th>23</th>\n",
       "      <td>-3.021714</td>\n",
       "      <td>0.287380</td>\n",
       "    </tr>\n",
       "  </tbody>\n",
       "</table>\n",
       "</div>"
      ],
      "text/plain": [
       "               error  error frac\n",
       "HourOfDay                       \n",
       "0          25.320931    0.689082\n",
       "1         -18.247832    7.330749\n",
       "2          -9.427580   27.167766\n",
       "3         -41.793935   16.521189\n",
       "4           7.786270    5.220199\n",
       "5          -3.152386         inf\n",
       "6           9.128520         inf\n",
       "7           8.114178         inf\n",
       "8          13.843652         inf\n",
       "9           6.376636    8.524758\n",
       "10          7.863443    5.126559\n",
       "11          5.657168         inf\n",
       "12         14.313291    0.409891\n",
       "13         -9.965463    0.110675\n",
       "14         10.409949    0.461196\n",
       "15          8.672687    0.071968\n",
       "16          3.631106    0.044289\n",
       "17        -11.272778    0.093556\n",
       "18         -7.088367    0.031237\n",
       "19          2.314673    0.044347\n",
       "20          3.013445    2.045390\n",
       "21         -8.505315    0.043371\n",
       "22          3.974375    0.135847\n",
       "23         -3.021714    0.287380"
      ]
     },
     "execution_count": 48,
     "metadata": {},
     "output_type": "execute_result"
    },
    {
     "data": {
      "image/png": "[encoded data removed]",
      "text/plain": [
       "<matplotlib.figure.Figure at 0x12e2c3dd8>"
      ]
     },
     "metadata": {},
     "output_type": "display_data"
    }
   ],
   "source": [
    "plot_errors_hour(data, get_predictions(X_train, y_train, X_test, RandomForestRegressor(\n",
    "        max_depth = None,\n",
    "        max_features = 'auto',\n",
    "        n_estimators = 100)), y_test)"
   ]
  },
  {
   "cell_type": "markdown",
   "metadata": {},
   "source": [
    "### GBT"
   ]
  },
  {
   "cell_type": "code",
   "execution_count": 142,
   "metadata": {
    "collapsed": false
   },
   "outputs": [],
   "source": [
    "gbt_pipe = make_pipeline(RobustScaler(), VarianceThreshold(), GradientBoostingRegressor(random_state=0))\n",
    "gbt_params = {'gradientboostingregressor__n_estimators' : [50, 100, 200],\n",
    "              'gradientboostingregressor__max_features' : [3, 6, 'auto'],\n",
    "#              'gradientboostingregressor__subsample' : [0.2, 0.5, 1.0],\n",
    "              'gradientboostingregressor__max_depth' : [3, 5, 7],\n",
    "              'gradientboostingregressor__init' : [None]}\n",
    "gbt_grid = GridSearchCV(gbt_pipe, gbt_params, cv=3, scoring='r2', verbose=3)"
   ]
  },
  {
   "cell_type": "code",
   "execution_count": 143,
   "metadata": {
    "collapsed": false
   },
   "outputs": [
    {
     "name": "stdout",
     "output_type": "stream",
     "text": [
      "Fitting 3 folds for each of 27 candidates, totalling 81 fits\n",
      "[CV] gradientboostingregressor__init=None, gradientboostingregressor__max_depth=3, gradientboostingregressor__max_features=3, gradientboostingregressor__n_estimators=50 \n",
      "[CV]  gradientboostingregressor__init=None, gradientboostingregressor__max_depth=3, gradientboostingregressor__max_features=3, gradientboostingregressor__n_estimators=50, score=0.22039883202427868, total=   1.1s\n",
      "[CV] gradientboostingregressor__init=None, gradientboostingregressor__max_depth=3, gradientboostingregressor__max_features=3, gradientboostingregressor__n_estimators=50 \n"
     ]
    },
    {
     "name": "stderr",
     "output_type": "stream",
     "text": [
      "[Parallel(n_jobs=1)]: Done   1 out of   1 | elapsed:    1.2s remaining:    0.0s\n"
     ]
    },
    {
     "name": "stdout",
     "output_type": "stream",
     "text": [
      "[CV]  gradientboostingregressor__init=None, gradientboostingregressor__max_depth=3, gradientboostingregressor__max_features=3, gradientboostingregressor__n_estimators=50, score=0.22946544199693975, total=   0.9s\n",
      "[CV] gradientboostingregressor__init=None, gradientboostingregressor__max_depth=3, gradientboostingregressor__max_features=3, gradientboostingregressor__n_estimators=50 \n"
     ]
    },
    {
     "name": "stderr",
     "output_type": "stream",
     "text": [
      "[Parallel(n_jobs=1)]: Done   2 out of   2 | elapsed:    2.2s remaining:    0.0s\n"
     ]
    },
    {
     "name": "stdout",
     "output_type": "stream",
     "text": [
      "[CV]  gradientboostingregressor__init=None, gradientboostingregressor__max_depth=3, gradientboostingregressor__max_features=3, gradientboostingregressor__n_estimators=50, score=0.2206955183159618, total=   0.9s\n",
      "[CV] gradientboostingregressor__init=None, gradientboostingregressor__max_depth=3, gradientboostingregressor__max_features=3, gradientboostingregressor__n_estimators=100 \n",
      "[CV]  gradientboostingregressor__init=None, gradientboostingregressor__max_depth=3, gradientboostingregressor__max_features=3, gradientboostingregressor__n_estimators=100, score=0.49002167917454553, total=   1.0s\n",
      "[CV] gradientboostingregressor__init=None, gradientboostingregressor__max_depth=3, gradientboostingregressor__max_features=3, gradientboostingregressor__n_estimators=100 \n",
      "[CV]  gradientboostingregressor__init=None, gradientboostingregressor__max_depth=3, gradientboostingregressor__max_features=3, gradientboostingregressor__n_estimators=100, score=0.4979056045585144, total=   1.3s\n",
      "[CV] gradientboostingregressor__init=None, gradientboostingregressor__max_depth=3, gradientboostingregressor__max_features=3, gradientboostingregressor__n_estimators=100 \n",
      "[CV]  gradientboostingregressor__init=None, gradientboostingregressor__max_depth=3, gradientboostingregressor__max_features=3, gradientboostingregressor__n_estimators=100, score=0.4686590178054745, total=   1.1s\n",
      "[CV] gradientboostingregressor__init=None, gradientboostingregressor__max_depth=3, gradientboostingregressor__max_features=3, gradientboostingregressor__n_estimators=200 \n",
      "[CV]  gradientboostingregressor__init=None, gradientboostingregressor__max_depth=3, gradientboostingregressor__max_features=3, gradientboostingregressor__n_estimators=200, score=0.6409337013457024, total=   1.7s\n",
      "[CV] gradientboostingregressor__init=None, gradientboostingregressor__max_depth=3, gradientboostingregressor__max_features=3, gradientboostingregressor__n_estimators=200 \n",
      "[CV]  gradientboostingregressor__init=None, gradientboostingregressor__max_depth=3, gradientboostingregressor__max_features=3, gradientboostingregressor__n_estimators=200, score=0.649658686694207, total=   1.6s\n",
      "[CV] gradientboostingregressor__init=None, gradientboostingregressor__max_depth=3, gradientboostingregressor__max_features=3, gradientboostingregressor__n_estimators=200 \n",
      "[CV]  gradientboostingregressor__init=None, gradientboostingregressor__max_depth=3, gradientboostingregressor__max_features=3, gradientboostingregressor__n_estimators=200, score=0.6194130520530606, total=   1.3s\n",
      "[CV] gradientboostingregressor__init=None, gradientboostingregressor__max_depth=3, gradientboostingregressor__max_features=6, gradientboostingregressor__n_estimators=50 \n",
      "[CV]  gradientboostingregressor__init=None, gradientboostingregressor__max_depth=3, gradientboostingregressor__max_features=6, gradientboostingregressor__n_estimators=50, score=0.42017406970103743, total=   1.0s\n",
      "[CV] gradientboostingregressor__init=None, gradientboostingregressor__max_depth=3, gradientboostingregressor__max_features=6, gradientboostingregressor__n_estimators=50 \n",
      "[CV]  gradientboostingregressor__init=None, gradientboostingregressor__max_depth=3, gradientboostingregressor__max_features=6, gradientboostingregressor__n_estimators=50, score=0.4143596582826842, total=   1.0s\n",
      "[CV] gradientboostingregressor__init=None, gradientboostingregressor__max_depth=3, gradientboostingregressor__max_features=6, gradientboostingregressor__n_estimators=50 \n",
      "[CV]  gradientboostingregressor__init=None, gradientboostingregressor__max_depth=3, gradientboostingregressor__max_features=6, gradientboostingregressor__n_estimators=50, score=0.3929394649003354, total=   0.9s\n",
      "[CV] gradientboostingregressor__init=None, gradientboostingregressor__max_depth=3, gradientboostingregressor__max_features=6, gradientboostingregressor__n_estimators=100 \n",
      "[CV]  gradientboostingregressor__init=None, gradientboostingregressor__max_depth=3, gradientboostingregressor__max_features=6, gradientboostingregressor__n_estimators=100, score=0.5972412755697225, total=   1.1s\n",
      "[CV] gradientboostingregressor__init=None, gradientboostingregressor__max_depth=3, gradientboostingregressor__max_features=6, gradientboostingregressor__n_estimators=100 \n",
      "[CV]  gradientboostingregressor__init=None, gradientboostingregressor__max_depth=3, gradientboostingregressor__max_features=6, gradientboostingregressor__n_estimators=100, score=0.5917002409053282, total=   1.1s\n",
      "[CV] gradientboostingregressor__init=None, gradientboostingregressor__max_depth=3, gradientboostingregressor__max_features=6, gradientboostingregressor__n_estimators=100 \n",
      "[CV]  gradientboostingregressor__init=None, gradientboostingregressor__max_depth=3, gradientboostingregressor__max_features=6, gradientboostingregressor__n_estimators=100, score=0.5720798982484885, total=   1.1s\n",
      "[CV] gradientboostingregressor__init=None, gradientboostingregressor__max_depth=3, gradientboostingregressor__max_features=6, gradientboostingregressor__n_estimators=200 \n",
      "[CV]  gradientboostingregressor__init=None, gradientboostingregressor__max_depth=3, gradientboostingregressor__max_features=6, gradientboostingregressor__n_estimators=200, score=0.6783271058009133, total=   1.4s\n",
      "[CV] gradientboostingregressor__init=None, gradientboostingregressor__max_depth=3, gradientboostingregressor__max_features=6, gradientboostingregressor__n_estimators=200 \n",
      "[CV]  gradientboostingregressor__init=None, gradientboostingregressor__max_depth=3, gradientboostingregressor__max_features=6, gradientboostingregressor__n_estimators=200, score=0.6803303276571674, total=   1.5s\n",
      "[CV] gradientboostingregressor__init=None, gradientboostingregressor__max_depth=3, gradientboostingregressor__max_features=6, gradientboostingregressor__n_estimators=200 \n",
      "[CV]  gradientboostingregressor__init=None, gradientboostingregressor__max_depth=3, gradientboostingregressor__max_features=6, gradientboostingregressor__n_estimators=200, score=0.6605786287254469, total=   1.4s\n",
      "[CV] gradientboostingregressor__init=None, gradientboostingregressor__max_depth=3, gradientboostingregressor__max_features=auto, gradientboostingregressor__n_estimators=50 \n",
      "[CV]  gradientboostingregressor__init=None, gradientboostingregressor__max_depth=3, gradientboostingregressor__max_features=auto, gradientboostingregressor__n_estimators=50, score=0.726354559252151, total=   7.3s\n",
      "[CV] gradientboostingregressor__init=None, gradientboostingregressor__max_depth=3, gradientboostingregressor__max_features=auto, gradientboostingregressor__n_estimators=50 \n",
      "[CV]  gradientboostingregressor__init=None, gradientboostingregressor__max_depth=3, gradientboostingregressor__max_features=auto, gradientboostingregressor__n_estimators=50, score=0.7305982119893227, total=   7.6s\n",
      "[CV] gradientboostingregressor__init=None, gradientboostingregressor__max_depth=3, gradientboostingregressor__max_features=auto, gradientboostingregressor__n_estimators=50 \n",
      "[CV]  gradientboostingregressor__init=None, gradientboostingregressor__max_depth=3, gradientboostingregressor__max_features=auto, gradientboostingregressor__n_estimators=50, score=0.7139676790944749, total=   7.8s\n",
      "[CV] gradientboostingregressor__init=None, gradientboostingregressor__max_depth=3, gradientboostingregressor__max_features=auto, gradientboostingregressor__n_estimators=100 \n",
      "[CV]  gradientboostingregressor__init=None, gradientboostingregressor__max_depth=3, gradientboostingregressor__max_features=auto, gradientboostingregressor__n_estimators=100, score=0.739052353211479, total=  13.2s\n",
      "[CV] gradientboostingregressor__init=None, gradientboostingregressor__max_depth=3, gradientboostingregressor__max_features=auto, gradientboostingregressor__n_estimators=100 \n",
      "[CV]  gradientboostingregressor__init=None, gradientboostingregressor__max_depth=3, gradientboostingregressor__max_features=auto, gradientboostingregressor__n_estimators=100, score=0.7431076454939831, total=  11.1s\n",
      "[CV] gradientboostingregressor__init=None, gradientboostingregressor__max_depth=3, gradientboostingregressor__max_features=auto, gradientboostingregressor__n_estimators=100 \n",
      "[CV]  gradientboostingregressor__init=None, gradientboostingregressor__max_depth=3, gradientboostingregressor__max_features=auto, gradientboostingregressor__n_estimators=100, score=0.7253831315753883, total=  12.8s\n",
      "[CV] gradientboostingregressor__init=None, gradientboostingregressor__max_depth=3, gradientboostingregressor__max_features=auto, gradientboostingregressor__n_estimators=200 \n",
      "[CV]  gradientboostingregressor__init=None, gradientboostingregressor__max_depth=3, gradientboostingregressor__max_features=auto, gradientboostingregressor__n_estimators=200, score=0.7469879585762376, total=  22.2s\n",
      "[CV] gradientboostingregressor__init=None, gradientboostingregressor__max_depth=3, gradientboostingregressor__max_features=auto, gradientboostingregressor__n_estimators=200 \n",
      "[CV]  gradientboostingregressor__init=None, gradientboostingregressor__max_depth=3, gradientboostingregressor__max_features=auto, gradientboostingregressor__n_estimators=200, score=0.752704281836004, total=  20.5s\n",
      "[CV] gradientboostingregressor__init=None, gradientboostingregressor__max_depth=3, gradientboostingregressor__max_features=auto, gradientboostingregressor__n_estimators=200 \n",
      "[CV]  gradientboostingregressor__init=None, gradientboostingregressor__max_depth=3, gradientboostingregressor__max_features=auto, gradientboostingregressor__n_estimators=200, score=0.7353824749067781, total=  26.1s\n",
      "[CV] gradientboostingregressor__init=None, gradientboostingregressor__max_depth=5, gradientboostingregressor__max_features=3, gradientboostingregressor__n_estimators=50 \n",
      "[CV]  gradientboostingregressor__init=None, gradientboostingregressor__max_depth=5, gradientboostingregressor__max_features=3, gradientboostingregressor__n_estimators=50, score=0.4336761644918059, total=   1.6s\n",
      "[CV] gradientboostingregressor__init=None, gradientboostingregressor__max_depth=5, gradientboostingregressor__max_features=3, gradientboostingregressor__n_estimators=50 \n",
      "[CV]  gradientboostingregressor__init=None, gradientboostingregressor__max_depth=5, gradientboostingregressor__max_features=3, gradientboostingregressor__n_estimators=50, score=0.44652701492917357, total=   2.0s\n",
      "[CV] gradientboostingregressor__init=None, gradientboostingregressor__max_depth=5, gradientboostingregressor__max_features=3, gradientboostingregressor__n_estimators=50 \n",
      "[CV]  gradientboostingregressor__init=None, gradientboostingregressor__max_depth=5, gradientboostingregressor__max_features=3, gradientboostingregressor__n_estimators=50, score=0.44147257944829266, total=   1.9s\n",
      "[CV] gradientboostingregressor__init=None, gradientboostingregressor__max_depth=5, gradientboostingregressor__max_features=3, gradientboostingregressor__n_estimators=100 \n",
      "[CV]  gradientboostingregressor__init=None, gradientboostingregressor__max_depth=5, gradientboostingregressor__max_features=3, gradientboostingregressor__n_estimators=100, score=0.6128030138265561, total=   2.5s\n",
      "[CV] gradientboostingregressor__init=None, gradientboostingregressor__max_depth=5, gradientboostingregressor__max_features=3, gradientboostingregressor__n_estimators=100 \n",
      "[CV]  gradientboostingregressor__init=None, gradientboostingregressor__max_depth=5, gradientboostingregressor__max_features=3, gradientboostingregressor__n_estimators=100, score=0.6260747653851697, total=   2.0s\n",
      "[CV] gradientboostingregressor__init=None, gradientboostingregressor__max_depth=5, gradientboostingregressor__max_features=3, gradientboostingregressor__n_estimators=100 \n",
      "[CV]  gradientboostingregressor__init=None, gradientboostingregressor__max_depth=5, gradientboostingregressor__max_features=3, gradientboostingregressor__n_estimators=100, score=0.597285380441472, total=   1.9s\n",
      "[CV] gradientboostingregressor__init=None, gradientboostingregressor__max_depth=5, gradientboostingregressor__max_features=3, gradientboostingregressor__n_estimators=200 \n",
      "[CV]  gradientboostingregressor__init=None, gradientboostingregressor__max_depth=5, gradientboostingregressor__max_features=3, gradientboostingregressor__n_estimators=200, score=0.6941138536782278, total=   3.0s\n",
      "[CV] gradientboostingregressor__init=None, gradientboostingregressor__max_depth=5, gradientboostingregressor__max_features=3, gradientboostingregressor__n_estimators=200 \n",
      "[CV]  gradientboostingregressor__init=None, gradientboostingregressor__max_depth=5, gradientboostingregressor__max_features=3, gradientboostingregressor__n_estimators=200, score=0.7031711466873127, total=   3.0s\n",
      "[CV] gradientboostingregressor__init=None, gradientboostingregressor__max_depth=5, gradientboostingregressor__max_features=3, gradientboostingregressor__n_estimators=200 \n",
      "[CV]  gradientboostingregressor__init=None, gradientboostingregressor__max_depth=5, gradientboostingregressor__max_features=3, gradientboostingregressor__n_estimators=200, score=0.6835929504478625, total=   3.1s\n",
      "[CV] gradientboostingregressor__init=None, gradientboostingregressor__max_depth=5, gradientboostingregressor__max_features=6, gradientboostingregressor__n_estimators=50 \n",
      "[CV]  gradientboostingregressor__init=None, gradientboostingregressor__max_depth=5, gradientboostingregressor__max_features=6, gradientboostingregressor__n_estimators=50, score=0.5700049726014351, total=   1.3s\n",
      "[CV] gradientboostingregressor__init=None, gradientboostingregressor__max_depth=5, gradientboostingregressor__max_features=6, gradientboostingregressor__n_estimators=50 \n",
      "[CV]  gradientboostingregressor__init=None, gradientboostingregressor__max_depth=5, gradientboostingregressor__max_features=6, gradientboostingregressor__n_estimators=50, score=0.5747682319892214, total=   1.3s\n",
      "[CV] gradientboostingregressor__init=None, gradientboostingregressor__max_depth=5, gradientboostingregressor__max_features=6, gradientboostingregressor__n_estimators=50 \n",
      "[CV]  gradientboostingregressor__init=None, gradientboostingregressor__max_depth=5, gradientboostingregressor__max_features=6, gradientboostingregressor__n_estimators=50, score=0.5630549467216632, total=   1.3s\n",
      "[CV] gradientboostingregressor__init=None, gradientboostingregressor__max_depth=5, gradientboostingregressor__max_features=6, gradientboostingregressor__n_estimators=100 \n",
      "[CV]  gradientboostingregressor__init=None, gradientboostingregressor__max_depth=5, gradientboostingregressor__max_features=6, gradientboostingregressor__n_estimators=100, score=0.6762311906330392, total=   1.9s\n",
      "[CV] gradientboostingregressor__init=None, gradientboostingregressor__max_depth=5, gradientboostingregressor__max_features=6, gradientboostingregressor__n_estimators=100 \n",
      "[CV]  gradientboostingregressor__init=None, gradientboostingregressor__max_depth=5, gradientboostingregressor__max_features=6, gradientboostingregressor__n_estimators=100, score=0.6791127589713252, total=   1.9s\n",
      "[CV] gradientboostingregressor__init=None, gradientboostingregressor__max_depth=5, gradientboostingregressor__max_features=6, gradientboostingregressor__n_estimators=100 \n",
      "[CV]  gradientboostingregressor__init=None, gradientboostingregressor__max_depth=5, gradientboostingregressor__max_features=6, gradientboostingregressor__n_estimators=100, score=0.6649839091601474, total=   2.0s\n",
      "[CV] gradientboostingregressor__init=None, gradientboostingregressor__max_depth=5, gradientboostingregressor__max_features=6, gradientboostingregressor__n_estimators=200 \n",
      "[CV]  gradientboostingregressor__init=None, gradientboostingregressor__max_depth=5, gradientboostingregressor__max_features=6, gradientboostingregressor__n_estimators=200, score=0.7195561894923135, total=   3.2s\n",
      "[CV] gradientboostingregressor__init=None, gradientboostingregressor__max_depth=5, gradientboostingregressor__max_features=6, gradientboostingregressor__n_estimators=200 \n",
      "[CV]  gradientboostingregressor__init=None, gradientboostingregressor__max_depth=5, gradientboostingregressor__max_features=6, gradientboostingregressor__n_estimators=200, score=0.7218259821241815, total=   3.1s\n",
      "[CV] gradientboostingregressor__init=None, gradientboostingregressor__max_depth=5, gradientboostingregressor__max_features=6, gradientboostingregressor__n_estimators=200 \n",
      "[CV]  gradientboostingregressor__init=None, gradientboostingregressor__max_depth=5, gradientboostingregressor__max_features=6, gradientboostingregressor__n_estimators=200, score=0.7070472948199304, total=   3.2s\n",
      "[CV] gradientboostingregressor__init=None, gradientboostingregressor__max_depth=5, gradientboostingregressor__max_features=auto, gradientboostingregressor__n_estimators=50 \n",
      "[CV]  gradientboostingregressor__init=None, gradientboostingregressor__max_depth=5, gradientboostingregressor__max_features=auto, gradientboostingregressor__n_estimators=50, score=0.7615917024815898, total=  13.9s\n",
      "[CV] gradientboostingregressor__init=None, gradientboostingregressor__max_depth=5, gradientboostingregressor__max_features=auto, gradientboostingregressor__n_estimators=50 \n",
      "[CV]  gradientboostingregressor__init=None, gradientboostingregressor__max_depth=5, gradientboostingregressor__max_features=auto, gradientboostingregressor__n_estimators=50, score=0.7651646811340772, total=  13.5s\n",
      "[CV] gradientboostingregressor__init=None, gradientboostingregressor__max_depth=5, gradientboostingregressor__max_features=auto, gradientboostingregressor__n_estimators=50 \n",
      "[CV]  gradientboostingregressor__init=None, gradientboostingregressor__max_depth=5, gradientboostingregressor__max_features=auto, gradientboostingregressor__n_estimators=50, score=0.7448753080542451, total=  13.8s\n",
      "[CV] gradientboostingregressor__init=None, gradientboostingregressor__max_depth=5, gradientboostingregressor__max_features=auto, gradientboostingregressor__n_estimators=100 \n",
      "[CV]  gradientboostingregressor__init=None, gradientboostingregressor__max_depth=5, gradientboostingregressor__max_features=auto, gradientboostingregressor__n_estimators=100, score=0.7645976202430267, total=  21.0s\n",
      "[CV] gradientboostingregressor__init=None, gradientboostingregressor__max_depth=5, gradientboostingregressor__max_features=auto, gradientboostingregressor__n_estimators=100 \n",
      "[CV]  gradientboostingregressor__init=None, gradientboostingregressor__max_depth=5, gradientboostingregressor__max_features=auto, gradientboostingregressor__n_estimators=100, score=0.7689358321758895, total=  21.0s\n",
      "[CV] gradientboostingregressor__init=None, gradientboostingregressor__max_depth=5, gradientboostingregressor__max_features=auto, gradientboostingregressor__n_estimators=100 \n",
      "[CV]  gradientboostingregressor__init=None, gradientboostingregressor__max_depth=5, gradientboostingregressor__max_features=auto, gradientboostingregressor__n_estimators=100, score=0.7490366412572877, total=  21.3s\n",
      "[CV] gradientboostingregressor__init=None, gradientboostingregressor__max_depth=5, gradientboostingregressor__max_features=auto, gradientboostingregressor__n_estimators=200 \n",
      "[CV]  gradientboostingregressor__init=None, gradientboostingregressor__max_depth=5, gradientboostingregressor__max_features=auto, gradientboostingregressor__n_estimators=200, score=0.7663617945712542, total=  35.7s\n",
      "[CV] gradientboostingregressor__init=None, gradientboostingregressor__max_depth=5, gradientboostingregressor__max_features=auto, gradientboostingregressor__n_estimators=200 \n",
      "[CV]  gradientboostingregressor__init=None, gradientboostingregressor__max_depth=5, gradientboostingregressor__max_features=auto, gradientboostingregressor__n_estimators=200, score=0.7718511855688541, total=  35.5s\n",
      "[CV] gradientboostingregressor__init=None, gradientboostingregressor__max_depth=5, gradientboostingregressor__max_features=auto, gradientboostingregressor__n_estimators=200 \n",
      "[CV]  gradientboostingregressor__init=None, gradientboostingregressor__max_depth=5, gradientboostingregressor__max_features=auto, gradientboostingregressor__n_estimators=200, score=0.7524341795358107, total=  36.3s\n",
      "[CV] gradientboostingregressor__init=None, gradientboostingregressor__max_depth=7, gradientboostingregressor__max_features=3, gradientboostingregressor__n_estimators=50 \n",
      "[CV]  gradientboostingregressor__init=None, gradientboostingregressor__max_depth=7, gradientboostingregressor__max_features=3, gradientboostingregressor__n_estimators=50, score=0.5153907829790147, total=   2.4s\n",
      "[CV] gradientboostingregressor__init=None, gradientboostingregressor__max_depth=7, gradientboostingregressor__max_features=3, gradientboostingregressor__n_estimators=50 \n",
      "[CV]  gradientboostingregressor__init=None, gradientboostingregressor__max_depth=7, gradientboostingregressor__max_features=3, gradientboostingregressor__n_estimators=50, score=0.5343138251321948, total=   2.4s\n",
      "[CV] gradientboostingregressor__init=None, gradientboostingregressor__max_depth=7, gradientboostingregressor__max_features=3, gradientboostingregressor__n_estimators=50 \n",
      "[CV]  gradientboostingregressor__init=None, gradientboostingregressor__max_depth=7, gradientboostingregressor__max_features=3, gradientboostingregressor__n_estimators=50, score=0.5129091345856349, total=   2.4s\n",
      "[CV] gradientboostingregressor__init=None, gradientboostingregressor__max_depth=7, gradientboostingregressor__max_features=3, gradientboostingregressor__n_estimators=100 \n",
      "[CV]  gradientboostingregressor__init=None, gradientboostingregressor__max_depth=7, gradientboostingregressor__max_features=3, gradientboostingregressor__n_estimators=100, score=0.6597104450873488, total=   4.1s\n",
      "[CV] gradientboostingregressor__init=None, gradientboostingregressor__max_depth=7, gradientboostingregressor__max_features=3, gradientboostingregressor__n_estimators=100 \n",
      "[CV]  gradientboostingregressor__init=None, gradientboostingregressor__max_depth=7, gradientboostingregressor__max_features=3, gradientboostingregressor__n_estimators=100, score=0.6683243604186941, total=   4.0s\n",
      "[CV] gradientboostingregressor__init=None, gradientboostingregressor__max_depth=7, gradientboostingregressor__max_features=3, gradientboostingregressor__n_estimators=100 \n",
      "[CV]  gradientboostingregressor__init=None, gradientboostingregressor__max_depth=7, gradientboostingregressor__max_features=3, gradientboostingregressor__n_estimators=100, score=0.6515619198894179, total=   4.1s\n",
      "[CV] gradientboostingregressor__init=None, gradientboostingregressor__max_depth=7, gradientboostingregressor__max_features=3, gradientboostingregressor__n_estimators=200 \n",
      "[CV]  gradientboostingregressor__init=None, gradientboostingregressor__max_depth=7, gradientboostingregressor__max_features=3, gradientboostingregressor__n_estimators=200, score=0.7204161062847557, total=   7.1s\n",
      "[CV] gradientboostingregressor__init=None, gradientboostingregressor__max_depth=7, gradientboostingregressor__max_features=3, gradientboostingregressor__n_estimators=200 \n",
      "[CV]  gradientboostingregressor__init=None, gradientboostingregressor__max_depth=7, gradientboostingregressor__max_features=3, gradientboostingregressor__n_estimators=200, score=0.7232870670803633, total=   7.1s\n",
      "[CV] gradientboostingregressor__init=None, gradientboostingregressor__max_depth=7, gradientboostingregressor__max_features=3, gradientboostingregressor__n_estimators=200 \n",
      "[CV]  gradientboostingregressor__init=None, gradientboostingregressor__max_depth=7, gradientboostingregressor__max_features=3, gradientboostingregressor__n_estimators=200, score=0.7122194972181228, total=   7.3s\n",
      "[CV] gradientboostingregressor__init=None, gradientboostingregressor__max_depth=7, gradientboostingregressor__max_features=6, gradientboostingregressor__n_estimators=50 \n",
      "[CV]  gradientboostingregressor__init=None, gradientboostingregressor__max_depth=7, gradientboostingregressor__max_features=6, gradientboostingregressor__n_estimators=50, score=0.620432753754439, total=   2.4s\n",
      "[CV] gradientboostingregressor__init=None, gradientboostingregressor__max_depth=7, gradientboostingregressor__max_features=6, gradientboostingregressor__n_estimators=50 \n",
      "[CV]  gradientboostingregressor__init=None, gradientboostingregressor__max_depth=7, gradientboostingregressor__max_features=6, gradientboostingregressor__n_estimators=50, score=0.6311373488701801, total=   2.5s\n",
      "[CV] gradientboostingregressor__init=None, gradientboostingregressor__max_depth=7, gradientboostingregressor__max_features=6, gradientboostingregressor__n_estimators=50 \n",
      "[CV]  gradientboostingregressor__init=None, gradientboostingregressor__max_depth=7, gradientboostingregressor__max_features=6, gradientboostingregressor__n_estimators=50, score=0.6130466381842781, total=   2.5s\n",
      "[CV] gradientboostingregressor__init=None, gradientboostingregressor__max_depth=7, gradientboostingregressor__max_features=6, gradientboostingregressor__n_estimators=100 \n",
      "[CV]  gradientboostingregressor__init=None, gradientboostingregressor__max_depth=7, gradientboostingregressor__max_features=6, gradientboostingregressor__n_estimators=100, score=0.7080056243968493, total=   4.1s\n",
      "[CV] gradientboostingregressor__init=None, gradientboostingregressor__max_depth=7, gradientboostingregressor__max_features=6, gradientboostingregressor__n_estimators=100 \n",
      "[CV]  gradientboostingregressor__init=None, gradientboostingregressor__max_depth=7, gradientboostingregressor__max_features=6, gradientboostingregressor__n_estimators=100, score=0.7107388365641708, total=   4.2s\n",
      "[CV] gradientboostingregressor__init=None, gradientboostingregressor__max_depth=7, gradientboostingregressor__max_features=6, gradientboostingregressor__n_estimators=100 \n",
      "[CV]  gradientboostingregressor__init=None, gradientboostingregressor__max_depth=7, gradientboostingregressor__max_features=6, gradientboostingregressor__n_estimators=100, score=0.6947286369341937, total=   4.1s\n",
      "[CV] gradientboostingregressor__init=None, gradientboostingregressor__max_depth=7, gradientboostingregressor__max_features=6, gradientboostingregressor__n_estimators=200 \n",
      "[CV]  gradientboostingregressor__init=None, gradientboostingregressor__max_depth=7, gradientboostingregressor__max_features=6, gradientboostingregressor__n_estimators=200, score=0.7353352592051297, total=   7.4s\n",
      "[CV] gradientboostingregressor__init=None, gradientboostingregressor__max_depth=7, gradientboostingregressor__max_features=6, gradientboostingregressor__n_estimators=200 \n",
      "[CV]  gradientboostingregressor__init=None, gradientboostingregressor__max_depth=7, gradientboostingregressor__max_features=6, gradientboostingregressor__n_estimators=200, score=0.7388794283918254, total=   7.5s\n",
      "[CV] gradientboostingregressor__init=None, gradientboostingregressor__max_depth=7, gradientboostingregressor__max_features=6, gradientboostingregressor__n_estimators=200 \n",
      "[CV]  gradientboostingregressor__init=None, gradientboostingregressor__max_depth=7, gradientboostingregressor__max_features=6, gradientboostingregressor__n_estimators=200, score=0.7190436865360662, total=   7.3s\n",
      "[CV] gradientboostingregressor__init=None, gradientboostingregressor__max_depth=7, gradientboostingregressor__max_features=auto, gradientboostingregressor__n_estimators=50 \n",
      "[CV]  gradientboostingregressor__init=None, gradientboostingregressor__max_depth=7, gradientboostingregressor__max_features=auto, gradientboostingregressor__n_estimators=50, score=0.7741219126273011, total=  23.1s\n",
      "[CV] gradientboostingregressor__init=None, gradientboostingregressor__max_depth=7, gradientboostingregressor__max_features=auto, gradientboostingregressor__n_estimators=50 \n",
      "[CV]  gradientboostingregressor__init=None, gradientboostingregressor__max_depth=7, gradientboostingregressor__max_features=auto, gradientboostingregressor__n_estimators=50, score=0.7775868261743784, total=  22.5s\n",
      "[CV] gradientboostingregressor__init=None, gradientboostingregressor__max_depth=7, gradientboostingregressor__max_features=auto, gradientboostingregressor__n_estimators=50 \n",
      "[CV]  gradientboostingregressor__init=None, gradientboostingregressor__max_depth=7, gradientboostingregressor__max_features=auto, gradientboostingregressor__n_estimators=50, score=0.7614003363323496, total=  21.1s\n",
      "[CV] gradientboostingregressor__init=None, gradientboostingregressor__max_depth=7, gradientboostingregressor__max_features=auto, gradientboostingregressor__n_estimators=100 \n",
      "[CV]  gradientboostingregressor__init=None, gradientboostingregressor__max_depth=7, gradientboostingregressor__max_features=auto, gradientboostingregressor__n_estimators=100, score=0.7729193144126156, total=  31.4s\n",
      "[CV] gradientboostingregressor__init=None, gradientboostingregressor__max_depth=7, gradientboostingregressor__max_features=auto, gradientboostingregressor__n_estimators=100 \n",
      "[CV]  gradientboostingregressor__init=None, gradientboostingregressor__max_depth=7, gradientboostingregressor__max_features=auto, gradientboostingregressor__n_estimators=100, score=0.7777500612137602, total=  32.7s\n",
      "[CV] gradientboostingregressor__init=None, gradientboostingregressor__max_depth=7, gradientboostingregressor__max_features=auto, gradientboostingregressor__n_estimators=100 \n",
      "[CV]  gradientboostingregressor__init=None, gradientboostingregressor__max_depth=7, gradientboostingregressor__max_features=auto, gradientboostingregressor__n_estimators=100, score=0.7604196782755309, total=  32.0s\n",
      "[CV] gradientboostingregressor__init=None, gradientboostingregressor__max_depth=7, gradientboostingregressor__max_features=auto, gradientboostingregressor__n_estimators=200 \n",
      "[CV]  gradientboostingregressor__init=None, gradientboostingregressor__max_depth=7, gradientboostingregressor__max_features=auto, gradientboostingregressor__n_estimators=200, score=0.7688708903280809, total=  55.8s\n",
      "[CV] gradientboostingregressor__init=None, gradientboostingregressor__max_depth=7, gradientboostingregressor__max_features=auto, gradientboostingregressor__n_estimators=200 \n",
      "[CV]  gradientboostingregressor__init=None, gradientboostingregressor__max_depth=7, gradientboostingregressor__max_features=auto, gradientboostingregressor__n_estimators=200, score=0.7743957256281262, total=  55.8s\n",
      "[CV] gradientboostingregressor__init=None, gradientboostingregressor__max_depth=7, gradientboostingregressor__max_features=auto, gradientboostingregressor__n_estimators=200 \n",
      "[CV]  gradientboostingregressor__init=None, gradientboostingregressor__max_depth=7, gradientboostingregressor__max_features=auto, gradientboostingregressor__n_estimators=200, score=0.7578934070613507, total=  55.3s\n"
     ]
    },
    {
     "name": "stderr",
     "output_type": "stream",
     "text": [
      "[Parallel(n_jobs=1)]: Done  81 out of  81 | elapsed: 13.8min finished\n"
     ]
    },
    {
     "data": {
      "text/plain": [
       "862.6728050708771"
      ]
     },
     "execution_count": 143,
     "metadata": {},
     "output_type": "execute_result"
    }
   ],
   "source": [
    "start = time.time()\n",
    "gbt_grid.fit(X_train, y_train)\n",
    "time.time() - start"
   ]
  },
  {
   "cell_type": "code",
   "execution_count": 146,
   "metadata": {
    "collapsed": false
   },
   "outputs": [
    {
     "data": {
      "text/plain": [
       "0.76331350668818299"
      ]
     },
     "execution_count": 146,
     "metadata": {},
     "output_type": "execute_result"
    }
   ],
   "source": [
    "gbt_grid.score(X_test, y_test)"
   ]
  },
  {
   "cell_type": "code",
   "execution_count": 335,
   "metadata": {
    "collapsed": false
   },
   "outputs": [
    {
     "data": {
      "text/plain": [
       "{'gradientboostingregressor__init': None,\n",
       " 'gradientboostingregressor__max_depth': 7,\n",
       " 'gradientboostingregressor__max_features': 'auto',\n",
       " 'gradientboostingregressor__n_estimators': 50}"
      ]
     },
     "execution_count": 335,
     "metadata": {},
     "output_type": "execute_result"
    }
   ],
   "source": [
    "gbt_grid.best_params_\n",
    "#init = None, max_depther = 7, max_features = 'auto', n_estimators = 50"
   ]
  },
  {
   "cell_type": "code",
   "execution_count": 345,
   "metadata": {
    "collapsed": false
   },
   "outputs": [
    {
     "data": {
      "text/html": [
       "<div>\n",
       "<style>\n",
       "    .dataframe thead tr:only-child th {\n",
       "        text-align: right;\n",
       "    }\n",
       "\n",
       "    .dataframe thead th {\n",
       "        text-align: left;\n",
       "    }\n",
       "\n",
       "    .dataframe tbody tr th {\n",
       "        vertical-align: top;\n",
       "    }\n",
       "</style>\n",
       "<table border=\"1\" class=\"dataframe\">\n",
       "  <thead>\n",
       "    <tr style=\"text-align: right;\">\n",
       "      <th></th>\n",
       "      <th>error</th>\n",
       "      <th>error frac</th>\n",
       "    </tr>\n",
       "    <tr>\n",
       "      <th>HourOfDay</th>\n",
       "      <th></th>\n",
       "      <th></th>\n",
       "    </tr>\n",
       "  </thead>\n",
       "  <tbody>\n",
       "    <tr>\n",
       "      <th>0</th>\n",
       "      <td>29.700086</td>\n",
       "      <td>0.707911</td>\n",
       "    </tr>\n",
       "    <tr>\n",
       "      <th>1</th>\n",
       "      <td>-16.854285</td>\n",
       "      <td>7.444019</td>\n",
       "    </tr>\n",
       "    <tr>\n",
       "      <th>2</th>\n",
       "      <td>-10.696975</td>\n",
       "      <td>26.968652</td>\n",
       "    </tr>\n",
       "    <tr>\n",
       "      <th>3</th>\n",
       "      <td>-42.805410</td>\n",
       "      <td>16.344273</td>\n",
       "    </tr>\n",
       "    <tr>\n",
       "      <th>4</th>\n",
       "      <td>7.706196</td>\n",
       "      <td>5.326479</td>\n",
       "    </tr>\n",
       "    <tr>\n",
       "      <th>5</th>\n",
       "      <td>-3.107671</td>\n",
       "      <td>inf</td>\n",
       "    </tr>\n",
       "    <tr>\n",
       "      <th>6</th>\n",
       "      <td>10.545493</td>\n",
       "      <td>inf</td>\n",
       "    </tr>\n",
       "    <tr>\n",
       "      <th>7</th>\n",
       "      <td>9.476356</td>\n",
       "      <td>inf</td>\n",
       "    </tr>\n",
       "    <tr>\n",
       "      <th>8</th>\n",
       "      <td>13.539174</td>\n",
       "      <td>inf</td>\n",
       "    </tr>\n",
       "    <tr>\n",
       "      <th>9</th>\n",
       "      <td>7.574364</td>\n",
       "      <td>8.562480</td>\n",
       "    </tr>\n",
       "    <tr>\n",
       "      <th>10</th>\n",
       "      <td>6.035802</td>\n",
       "      <td>4.872713</td>\n",
       "    </tr>\n",
       "    <tr>\n",
       "      <th>11</th>\n",
       "      <td>5.043761</td>\n",
       "      <td>inf</td>\n",
       "    </tr>\n",
       "    <tr>\n",
       "      <th>12</th>\n",
       "      <td>14.080812</td>\n",
       "      <td>0.407543</td>\n",
       "    </tr>\n",
       "    <tr>\n",
       "      <th>13</th>\n",
       "      <td>-7.760833</td>\n",
       "      <td>0.121245</td>\n",
       "    </tr>\n",
       "    <tr>\n",
       "      <th>14</th>\n",
       "      <td>9.896970</td>\n",
       "      <td>0.529768</td>\n",
       "    </tr>\n",
       "    <tr>\n",
       "      <th>15</th>\n",
       "      <td>9.962907</td>\n",
       "      <td>0.077686</td>\n",
       "    </tr>\n",
       "    <tr>\n",
       "      <th>16</th>\n",
       "      <td>4.097740</td>\n",
       "      <td>0.044601</td>\n",
       "    </tr>\n",
       "    <tr>\n",
       "      <th>17</th>\n",
       "      <td>-11.329957</td>\n",
       "      <td>0.091079</td>\n",
       "    </tr>\n",
       "    <tr>\n",
       "      <th>18</th>\n",
       "      <td>-7.213705</td>\n",
       "      <td>0.032562</td>\n",
       "    </tr>\n",
       "    <tr>\n",
       "      <th>19</th>\n",
       "      <td>3.544439</td>\n",
       "      <td>0.053154</td>\n",
       "    </tr>\n",
       "    <tr>\n",
       "      <th>20</th>\n",
       "      <td>1.996411</td>\n",
       "      <td>2.182761</td>\n",
       "    </tr>\n",
       "    <tr>\n",
       "      <th>21</th>\n",
       "      <td>-9.779144</td>\n",
       "      <td>0.039863</td>\n",
       "    </tr>\n",
       "    <tr>\n",
       "      <th>22</th>\n",
       "      <td>3.120865</td>\n",
       "      <td>0.139046</td>\n",
       "    </tr>\n",
       "    <tr>\n",
       "      <th>23</th>\n",
       "      <td>-5.341476</td>\n",
       "      <td>0.295855</td>\n",
       "    </tr>\n",
       "  </tbody>\n",
       "</table>\n",
       "</div>"
      ],
      "text/plain": [
       "               error  error frac\n",
       "HourOfDay                       \n",
       "0          29.700086    0.707911\n",
       "1         -16.854285    7.444019\n",
       "2         -10.696975   26.968652\n",
       "3         -42.805410   16.344273\n",
       "4           7.706196    5.326479\n",
       "5          -3.107671         inf\n",
       "6          10.545493         inf\n",
       "7           9.476356         inf\n",
       "8          13.539174         inf\n",
       "9           7.574364    8.562480\n",
       "10          6.035802    4.872713\n",
       "11          5.043761         inf\n",
       "12         14.080812    0.407543\n",
       "13         -7.760833    0.121245\n",
       "14          9.896970    0.529768\n",
       "15          9.962907    0.077686\n",
       "16          4.097740    0.044601\n",
       "17        -11.329957    0.091079\n",
       "18         -7.213705    0.032562\n",
       "19          3.544439    0.053154\n",
       "20          1.996411    2.182761\n",
       "21         -9.779144    0.039863\n",
       "22          3.120865    0.139046\n",
       "23         -5.341476    0.295855"
      ]
     },
     "execution_count": 345,
     "metadata": {},
     "output_type": "execute_result"
    },
    {
     "data": {
      "image/png": "[encoded data removed]",
      "text/plain": [
       "<matplotlib.figure.Figure at 0x12405fcf8>"
      ]
     },
     "metadata": {},
     "output_type": "display_data"
    }
   ],
   "source": [
    "plot_errors_hour(data, get_predictions(X_train, y_train, X_test, GradientBoostingRegressor(\n",
    "        max_depth = 7,\n",
    "        max_features = 'auto',\n",
    "        n_estimators = 50)), y_test)"
   ]
  },
  {
   "cell_type": "code",
   "execution_count": 273,
   "metadata": {
    "collapsed": true
   },
   "outputs": [],
   "source": [
    "class ridge_compatability:\n",
    "    def __init__(self, est):\n",
    "        self.est = est\n",
    "    def predict(self, X):\n",
    "        return self.est.predict(X).reshape(-1,1)\n",
    "    def fit(self, X, y=None, sample_weights = None):\n",
    "        return self.est.fit(X, y)\n",
    "ridge = Ridge()\n",
    "base_estimator = ridge_compatability(ridge)"
   ]
  },
  {
   "cell_type": "code",
   "execution_count": 274,
   "metadata": {
    "collapsed": false
   },
   "outputs": [],
   "source": [
    "gbt2_pipe = make_pipeline(RobustScaler(), VarianceThreshold(), GradientBoostingRegressor(random_state=0))\n",
    "gbt2_params = {'gradientboostingregressor__n_estimators' : [50, 100, 200],\n",
    "              'gradientboostingregressor__max_features' : [3, 6, 'auto'],\n",
    "#              'gradientboostingregressor__subsample' : [0.2, 0.5, 1.0],\n",
    "              'gradientboostingregressor__max_depth' : [3, 5, 7],\n",
    "              'gradientboostingregressor__init' : [base_estimator]}\n",
    "gbt2_grid = GridSearchCV(gbt2_pipe, gbt2_params, cv=3, scoring='r2', verbose=2)"
   ]
  },
  {
   "cell_type": "code",
   "execution_count": 275,
   "metadata": {
    "collapsed": false
   },
   "outputs": [
    {
     "name": "stdout",
     "output_type": "stream",
     "text": [
      "Fitting 3 folds for each of 27 candidates, totalling 81 fits\n",
      "[CV] gradientboostingregressor__init=<__main__.ridge_compatability object at 0x123fdfef0>, gradientboostingregressor__max_depth=3, gradientboostingregressor__max_features=3, gradientboostingregressor__n_estimators=50 \n",
      "[CV]  gradientboostingregressor__init=<__main__.ridge_compatability object at 0x123fdfef0>, gradientboostingregressor__max_depth=3, gradientboostingregressor__max_features=3, gradientboostingregressor__n_estimators=50, total=   1.4s\n",
      "[CV] gradientboostingregressor__init=<__main__.ridge_compatability object at 0x123fdfef0>, gradientboostingregressor__max_depth=3, gradientboostingregressor__max_features=3, gradientboostingregressor__n_estimators=50 \n"
     ]
    },
    {
     "name": "stderr",
     "output_type": "stream",
     "text": [
      "[Parallel(n_jobs=1)]: Done   1 out of   1 | elapsed:    1.5s remaining:    0.0s\n"
     ]
    },
    {
     "name": "stdout",
     "output_type": "stream",
     "text": [
      "[CV]  gradientboostingregressor__init=<__main__.ridge_compatability object at 0x123fdfef0>, gradientboostingregressor__max_depth=3, gradientboostingregressor__max_features=3, gradientboostingregressor__n_estimators=50, total=   1.0s\n",
      "[CV] gradientboostingregressor__init=<__main__.ridge_compatability object at 0x123fdfef0>, gradientboostingregressor__max_depth=3, gradientboostingregressor__max_features=3, gradientboostingregressor__n_estimators=50 \n",
      "[CV]  gradientboostingregressor__init=<__main__.ridge_compatability object at 0x123fdfef0>, gradientboostingregressor__max_depth=3, gradientboostingregressor__max_features=3, gradientboostingregressor__n_estimators=50, total=   1.1s\n",
      "[CV] gradientboostingregressor__init=<__main__.ridge_compatability object at 0x123fdfef0>, gradientboostingregressor__max_depth=3, gradientboostingregressor__max_features=3, gradientboostingregressor__n_estimators=100 \n",
      "[CV]  gradientboostingregressor__init=<__main__.ridge_compatability object at 0x123fdfef0>, gradientboostingregressor__max_depth=3, gradientboostingregressor__max_features=3, gradientboostingregressor__n_estimators=100, total=   1.3s\n",
      "[CV] gradientboostingregressor__init=<__main__.ridge_compatability object at 0x123fdfef0>, gradientboostingregressor__max_depth=3, gradientboostingregressor__max_features=3, gradientboostingregressor__n_estimators=100 \n",
      "[CV]  gradientboostingregressor__init=<__main__.ridge_compatability object at 0x123fdfef0>, gradientboostingregressor__max_depth=3, gradientboostingregressor__max_features=3, gradientboostingregressor__n_estimators=100, total=   1.2s\n",
      "[CV] gradientboostingregressor__init=<__main__.ridge_compatability object at 0x123fdfef0>, gradientboostingregressor__max_depth=3, gradientboostingregressor__max_features=3, gradientboostingregressor__n_estimators=100 \n",
      "[CV]  gradientboostingregressor__init=<__main__.ridge_compatability object at 0x123fdfef0>, gradientboostingregressor__max_depth=3, gradientboostingregressor__max_features=3, gradientboostingregressor__n_estimators=100, total=   1.6s\n",
      "[CV] gradientboostingregressor__init=<__main__.ridge_compatability object at 0x123fdfef0>, gradientboostingregressor__max_depth=3, gradientboostingregressor__max_features=3, gradientboostingregressor__n_estimators=200 \n",
      "[CV]  gradientboostingregressor__init=<__main__.ridge_compatability object at 0x123fdfef0>, gradientboostingregressor__max_depth=3, gradientboostingregressor__max_features=3, gradientboostingregressor__n_estimators=200, total=   1.8s\n",
      "[CV] gradientboostingregressor__init=<__main__.ridge_compatability object at 0x123fdfef0>, gradientboostingregressor__max_depth=3, gradientboostingregressor__max_features=3, gradientboostingregressor__n_estimators=200 \n",
      "[CV]  gradientboostingregressor__init=<__main__.ridge_compatability object at 0x123fdfef0>, gradientboostingregressor__max_depth=3, gradientboostingregressor__max_features=3, gradientboostingregressor__n_estimators=200, total=   1.7s\n",
      "[CV] gradientboostingregressor__init=<__main__.ridge_compatability object at 0x123fdfef0>, gradientboostingregressor__max_depth=3, gradientboostingregressor__max_features=3, gradientboostingregressor__n_estimators=200 \n",
      "[CV]  gradientboostingregressor__init=<__main__.ridge_compatability object at 0x123fdfef0>, gradientboostingregressor__max_depth=3, gradientboostingregressor__max_features=3, gradientboostingregressor__n_estimators=200, total=   1.5s\n",
      "[CV] gradientboostingregressor__init=<__main__.ridge_compatability object at 0x123fdfef0>, gradientboostingregressor__max_depth=3, gradientboostingregressor__max_features=6, gradientboostingregressor__n_estimators=50 \n",
      "[CV]  gradientboostingregressor__init=<__main__.ridge_compatability object at 0x123fdfef0>, gradientboostingregressor__max_depth=3, gradientboostingregressor__max_features=6, gradientboostingregressor__n_estimators=50, total=   1.0s\n",
      "[CV] gradientboostingregressor__init=<__main__.ridge_compatability object at 0x123fdfef0>, gradientboostingregressor__max_depth=3, gradientboostingregressor__max_features=6, gradientboostingregressor__n_estimators=50 \n",
      "[CV]  gradientboostingregressor__init=<__main__.ridge_compatability object at 0x123fdfef0>, gradientboostingregressor__max_depth=3, gradientboostingregressor__max_features=6, gradientboostingregressor__n_estimators=50, total=   1.0s\n",
      "[CV] gradientboostingregressor__init=<__main__.ridge_compatability object at 0x123fdfef0>, gradientboostingregressor__max_depth=3, gradientboostingregressor__max_features=6, gradientboostingregressor__n_estimators=50 \n",
      "[CV]  gradientboostingregressor__init=<__main__.ridge_compatability object at 0x123fdfef0>, gradientboostingregressor__max_depth=3, gradientboostingregressor__max_features=6, gradientboostingregressor__n_estimators=50, total=   1.0s\n",
      "[CV] gradientboostingregressor__init=<__main__.ridge_compatability object at 0x123fdfef0>, gradientboostingregressor__max_depth=3, gradientboostingregressor__max_features=6, gradientboostingregressor__n_estimators=100 \n",
      "[CV]  gradientboostingregressor__init=<__main__.ridge_compatability object at 0x123fdfef0>, gradientboostingregressor__max_depth=3, gradientboostingregressor__max_features=6, gradientboostingregressor__n_estimators=100, total=   1.2s\n",
      "[CV] gradientboostingregressor__init=<__main__.ridge_compatability object at 0x123fdfef0>, gradientboostingregressor__max_depth=3, gradientboostingregressor__max_features=6, gradientboostingregressor__n_estimators=100 \n",
      "[CV]  gradientboostingregressor__init=<__main__.ridge_compatability object at 0x123fdfef0>, gradientboostingregressor__max_depth=3, gradientboostingregressor__max_features=6, gradientboostingregressor__n_estimators=100, total=   1.2s\n",
      "[CV] gradientboostingregressor__init=<__main__.ridge_compatability object at 0x123fdfef0>, gradientboostingregressor__max_depth=3, gradientboostingregressor__max_features=6, gradientboostingregressor__n_estimators=100 \n",
      "[CV]  gradientboostingregressor__init=<__main__.ridge_compatability object at 0x123fdfef0>, gradientboostingregressor__max_depth=3, gradientboostingregressor__max_features=6, gradientboostingregressor__n_estimators=100, total=   1.6s\n",
      "[CV] gradientboostingregressor__init=<__main__.ridge_compatability object at 0x123fdfef0>, gradientboostingregressor__max_depth=3, gradientboostingregressor__max_features=6, gradientboostingregressor__n_estimators=200 \n",
      "[CV]  gradientboostingregressor__init=<__main__.ridge_compatability object at 0x123fdfef0>, gradientboostingregressor__max_depth=3, gradientboostingregressor__max_features=6, gradientboostingregressor__n_estimators=200, total=   1.8s\n",
      "[CV] gradientboostingregressor__init=<__main__.ridge_compatability object at 0x123fdfef0>, gradientboostingregressor__max_depth=3, gradientboostingregressor__max_features=6, gradientboostingregressor__n_estimators=200 \n",
      "[CV]  gradientboostingregressor__init=<__main__.ridge_compatability object at 0x123fdfef0>, gradientboostingregressor__max_depth=3, gradientboostingregressor__max_features=6, gradientboostingregressor__n_estimators=200, total=   1.6s\n",
      "[CV] gradientboostingregressor__init=<__main__.ridge_compatability object at 0x123fdfef0>, gradientboostingregressor__max_depth=3, gradientboostingregressor__max_features=6, gradientboostingregressor__n_estimators=200 \n",
      "[CV]  gradientboostingregressor__init=<__main__.ridge_compatability object at 0x123fdfef0>, gradientboostingregressor__max_depth=3, gradientboostingregressor__max_features=6, gradientboostingregressor__n_estimators=200, total=   1.6s\n",
      "[CV] gradientboostingregressor__init=<__main__.ridge_compatability object at 0x123fdfef0>, gradientboostingregressor__max_depth=3, gradientboostingregressor__max_features=auto, gradientboostingregressor__n_estimators=50 \n",
      "[CV]  gradientboostingregressor__init=<__main__.ridge_compatability object at 0x123fdfef0>, gradientboostingregressor__max_depth=3, gradientboostingregressor__max_features=auto, gradientboostingregressor__n_estimators=50, total=   7.2s\n",
      "[CV] gradientboostingregressor__init=<__main__.ridge_compatability object at 0x123fdfef0>, gradientboostingregressor__max_depth=3, gradientboostingregressor__max_features=auto, gradientboostingregressor__n_estimators=50 \n",
      "[CV]  gradientboostingregressor__init=<__main__.ridge_compatability object at 0x123fdfef0>, gradientboostingregressor__max_depth=3, gradientboostingregressor__max_features=auto, gradientboostingregressor__n_estimators=50, total=   7.2s\n",
      "[CV] gradientboostingregressor__init=<__main__.ridge_compatability object at 0x123fdfef0>, gradientboostingregressor__max_depth=3, gradientboostingregressor__max_features=auto, gradientboostingregressor__n_estimators=50 \n",
      "[CV]  gradientboostingregressor__init=<__main__.ridge_compatability object at 0x123fdfef0>, gradientboostingregressor__max_depth=3, gradientboostingregressor__max_features=auto, gradientboostingregressor__n_estimators=50, total=   7.1s\n",
      "[CV] gradientboostingregressor__init=<__main__.ridge_compatability object at 0x123fdfef0>, gradientboostingregressor__max_depth=3, gradientboostingregressor__max_features=auto, gradientboostingregressor__n_estimators=100 \n",
      "[CV]  gradientboostingregressor__init=<__main__.ridge_compatability object at 0x123fdfef0>, gradientboostingregressor__max_depth=3, gradientboostingregressor__max_features=auto, gradientboostingregressor__n_estimators=100, total=  15.3s\n",
      "[CV] gradientboostingregressor__init=<__main__.ridge_compatability object at 0x123fdfef0>, gradientboostingregressor__max_depth=3, gradientboostingregressor__max_features=auto, gradientboostingregressor__n_estimators=100 \n",
      "[CV]  gradientboostingregressor__init=<__main__.ridge_compatability object at 0x123fdfef0>, gradientboostingregressor__max_depth=3, gradientboostingregressor__max_features=auto, gradientboostingregressor__n_estimators=100, total=  13.6s\n",
      "[CV] gradientboostingregressor__init=<__main__.ridge_compatability object at 0x123fdfef0>, gradientboostingregressor__max_depth=3, gradientboostingregressor__max_features=auto, gradientboostingregressor__n_estimators=100 \n",
      "[CV]  gradientboostingregressor__init=<__main__.ridge_compatability object at 0x123fdfef0>, gradientboostingregressor__max_depth=3, gradientboostingregressor__max_features=auto, gradientboostingregressor__n_estimators=100, total=  13.2s\n",
      "[CV] gradientboostingregressor__init=<__main__.ridge_compatability object at 0x123fdfef0>, gradientboostingregressor__max_depth=3, gradientboostingregressor__max_features=auto, gradientboostingregressor__n_estimators=200 \n",
      "[CV]  gradientboostingregressor__init=<__main__.ridge_compatability object at 0x123fdfef0>, gradientboostingregressor__max_depth=3, gradientboostingregressor__max_features=auto, gradientboostingregressor__n_estimators=200, total=  25.1s\n",
      "[CV] gradientboostingregressor__init=<__main__.ridge_compatability object at 0x123fdfef0>, gradientboostingregressor__max_depth=3, gradientboostingregressor__max_features=auto, gradientboostingregressor__n_estimators=200 \n",
      "[CV]  gradientboostingregressor__init=<__main__.ridge_compatability object at 0x123fdfef0>, gradientboostingregressor__max_depth=3, gradientboostingregressor__max_features=auto, gradientboostingregressor__n_estimators=200, total=  25.2s\n",
      "[CV] gradientboostingregressor__init=<__main__.ridge_compatability object at 0x123fdfef0>, gradientboostingregressor__max_depth=3, gradientboostingregressor__max_features=auto, gradientboostingregressor__n_estimators=200 \n",
      "[CV]  gradientboostingregressor__init=<__main__.ridge_compatability object at 0x123fdfef0>, gradientboostingregressor__max_depth=3, gradientboostingregressor__max_features=auto, gradientboostingregressor__n_estimators=200, total=  24.6s\n",
      "[CV] gradientboostingregressor__init=<__main__.ridge_compatability object at 0x123fdfef0>, gradientboostingregressor__max_depth=5, gradientboostingregressor__max_features=3, gradientboostingregressor__n_estimators=50 \n",
      "[CV]  gradientboostingregressor__init=<__main__.ridge_compatability object at 0x123fdfef0>, gradientboostingregressor__max_depth=5, gradientboostingregressor__max_features=3, gradientboostingregressor__n_estimators=50, total=   1.6s\n",
      "[CV] gradientboostingregressor__init=<__main__.ridge_compatability object at 0x123fdfef0>, gradientboostingregressor__max_depth=5, gradientboostingregressor__max_features=3, gradientboostingregressor__n_estimators=50 \n",
      "[CV]  gradientboostingregressor__init=<__main__.ridge_compatability object at 0x123fdfef0>, gradientboostingregressor__max_depth=5, gradientboostingregressor__max_features=3, gradientboostingregressor__n_estimators=50, total=   1.5s\n",
      "[CV] gradientboostingregressor__init=<__main__.ridge_compatability object at 0x123fdfef0>, gradientboostingregressor__max_depth=5, gradientboostingregressor__max_features=3, gradientboostingregressor__n_estimators=50 \n",
      "[CV]  gradientboostingregressor__init=<__main__.ridge_compatability object at 0x123fdfef0>, gradientboostingregressor__max_depth=5, gradientboostingregressor__max_features=3, gradientboostingregressor__n_estimators=50, total=   1.3s\n",
      "[CV] gradientboostingregressor__init=<__main__.ridge_compatability object at 0x123fdfef0>, gradientboostingregressor__max_depth=5, gradientboostingregressor__max_features=3, gradientboostingregressor__n_estimators=100 \n",
      "[CV]  gradientboostingregressor__init=<__main__.ridge_compatability object at 0x123fdfef0>, gradientboostingregressor__max_depth=5, gradientboostingregressor__max_features=3, gradientboostingregressor__n_estimators=100, total=   1.9s\n",
      "[CV] gradientboostingregressor__init=<__main__.ridge_compatability object at 0x123fdfef0>, gradientboostingregressor__max_depth=5, gradientboostingregressor__max_features=3, gradientboostingregressor__n_estimators=100 \n",
      "[CV]  gradientboostingregressor__init=<__main__.ridge_compatability object at 0x123fdfef0>, gradientboostingregressor__max_depth=5, gradientboostingregressor__max_features=3, gradientboostingregressor__n_estimators=100, total=   1.9s\n",
      "[CV] gradientboostingregressor__init=<__main__.ridge_compatability object at 0x123fdfef0>, gradientboostingregressor__max_depth=5, gradientboostingregressor__max_features=3, gradientboostingregressor__n_estimators=100 \n",
      "[CV]  gradientboostingregressor__init=<__main__.ridge_compatability object at 0x123fdfef0>, gradientboostingregressor__max_depth=5, gradientboostingregressor__max_features=3, gradientboostingregressor__n_estimators=100, total=   1.9s\n",
      "[CV] gradientboostingregressor__init=<__main__.ridge_compatability object at 0x123fdfef0>, gradientboostingregressor__max_depth=5, gradientboostingregressor__max_features=3, gradientboostingregressor__n_estimators=200 \n",
      "[CV]  gradientboostingregressor__init=<__main__.ridge_compatability object at 0x123fdfef0>, gradientboostingregressor__max_depth=5, gradientboostingregressor__max_features=3, gradientboostingregressor__n_estimators=200, total=   3.1s\n",
      "[CV] gradientboostingregressor__init=<__main__.ridge_compatability object at 0x123fdfef0>, gradientboostingregressor__max_depth=5, gradientboostingregressor__max_features=3, gradientboostingregressor__n_estimators=200 \n",
      "[CV]  gradientboostingregressor__init=<__main__.ridge_compatability object at 0x123fdfef0>, gradientboostingregressor__max_depth=5, gradientboostingregressor__max_features=3, gradientboostingregressor__n_estimators=200, total=   3.1s\n",
      "[CV] gradientboostingregressor__init=<__main__.ridge_compatability object at 0x123fdfef0>, gradientboostingregressor__max_depth=5, gradientboostingregressor__max_features=3, gradientboostingregressor__n_estimators=200 \n",
      "[CV]  gradientboostingregressor__init=<__main__.ridge_compatability object at 0x123fdfef0>, gradientboostingregressor__max_depth=5, gradientboostingregressor__max_features=3, gradientboostingregressor__n_estimators=200, total=   3.2s\n",
      "[CV] gradientboostingregressor__init=<__main__.ridge_compatability object at 0x123fdfef0>, gradientboostingregressor__max_depth=5, gradientboostingregressor__max_features=6, gradientboostingregressor__n_estimators=50 \n",
      "[CV]  gradientboostingregressor__init=<__main__.ridge_compatability object at 0x123fdfef0>, gradientboostingregressor__max_depth=5, gradientboostingregressor__max_features=6, gradientboostingregressor__n_estimators=50, total=   1.4s\n",
      "[CV] gradientboostingregressor__init=<__main__.ridge_compatability object at 0x123fdfef0>, gradientboostingregressor__max_depth=5, gradientboostingregressor__max_features=6, gradientboostingregressor__n_estimators=50 \n",
      "[CV]  gradientboostingregressor__init=<__main__.ridge_compatability object at 0x123fdfef0>, gradientboostingregressor__max_depth=5, gradientboostingregressor__max_features=6, gradientboostingregressor__n_estimators=50, total=   1.3s\n",
      "[CV] gradientboostingregressor__init=<__main__.ridge_compatability object at 0x123fdfef0>, gradientboostingregressor__max_depth=5, gradientboostingregressor__max_features=6, gradientboostingregressor__n_estimators=50 \n",
      "[CV]  gradientboostingregressor__init=<__main__.ridge_compatability object at 0x123fdfef0>, gradientboostingregressor__max_depth=5, gradientboostingregressor__max_features=6, gradientboostingregressor__n_estimators=50, total=   1.3s\n",
      "[CV] gradientboostingregressor__init=<__main__.ridge_compatability object at 0x123fdfef0>, gradientboostingregressor__max_depth=5, gradientboostingregressor__max_features=6, gradientboostingregressor__n_estimators=100 \n",
      "[CV]  gradientboostingregressor__init=<__main__.ridge_compatability object at 0x123fdfef0>, gradientboostingregressor__max_depth=5, gradientboostingregressor__max_features=6, gradientboostingregressor__n_estimators=100, total=   2.0s\n",
      "[CV] gradientboostingregressor__init=<__main__.ridge_compatability object at 0x123fdfef0>, gradientboostingregressor__max_depth=5, gradientboostingregressor__max_features=6, gradientboostingregressor__n_estimators=100 \n",
      "[CV]  gradientboostingregressor__init=<__main__.ridge_compatability object at 0x123fdfef0>, gradientboostingregressor__max_depth=5, gradientboostingregressor__max_features=6, gradientboostingregressor__n_estimators=100, total=   2.0s\n",
      "[CV] gradientboostingregressor__init=<__main__.ridge_compatability object at 0x123fdfef0>, gradientboostingregressor__max_depth=5, gradientboostingregressor__max_features=6, gradientboostingregressor__n_estimators=100 \n",
      "[CV]  gradientboostingregressor__init=<__main__.ridge_compatability object at 0x123fdfef0>, gradientboostingregressor__max_depth=5, gradientboostingregressor__max_features=6, gradientboostingregressor__n_estimators=100, total=   1.9s\n",
      "[CV] gradientboostingregressor__init=<__main__.ridge_compatability object at 0x123fdfef0>, gradientboostingregressor__max_depth=5, gradientboostingregressor__max_features=6, gradientboostingregressor__n_estimators=200 \n",
      "[CV]  gradientboostingregressor__init=<__main__.ridge_compatability object at 0x123fdfef0>, gradientboostingregressor__max_depth=5, gradientboostingregressor__max_features=6, gradientboostingregressor__n_estimators=200, total=   3.3s\n",
      "[CV] gradientboostingregressor__init=<__main__.ridge_compatability object at 0x123fdfef0>, gradientboostingregressor__max_depth=5, gradientboostingregressor__max_features=6, gradientboostingregressor__n_estimators=200 \n",
      "[CV]  gradientboostingregressor__init=<__main__.ridge_compatability object at 0x123fdfef0>, gradientboostingregressor__max_depth=5, gradientboostingregressor__max_features=6, gradientboostingregressor__n_estimators=200, total=   3.3s\n",
      "[CV] gradientboostingregressor__init=<__main__.ridge_compatability object at 0x123fdfef0>, gradientboostingregressor__max_depth=5, gradientboostingregressor__max_features=6, gradientboostingregressor__n_estimators=200 \n",
      "[CV]  gradientboostingregressor__init=<__main__.ridge_compatability object at 0x123fdfef0>, gradientboostingregressor__max_depth=5, gradientboostingregressor__max_features=6, gradientboostingregressor__n_estimators=200, total=   3.4s\n",
      "[CV] gradientboostingregressor__init=<__main__.ridge_compatability object at 0x123fdfef0>, gradientboostingregressor__max_depth=5, gradientboostingregressor__max_features=auto, gradientboostingregressor__n_estimators=50 \n",
      "[CV]  gradientboostingregressor__init=<__main__.ridge_compatability object at 0x123fdfef0>, gradientboostingregressor__max_depth=5, gradientboostingregressor__max_features=auto, gradientboostingregressor__n_estimators=50, total=  15.3s\n",
      "[CV] gradientboostingregressor__init=<__main__.ridge_compatability object at 0x123fdfef0>, gradientboostingregressor__max_depth=5, gradientboostingregressor__max_features=auto, gradientboostingregressor__n_estimators=50 \n",
      "[CV]  gradientboostingregressor__init=<__main__.ridge_compatability object at 0x123fdfef0>, gradientboostingregressor__max_depth=5, gradientboostingregressor__max_features=auto, gradientboostingregressor__n_estimators=50, total=  15.2s\n",
      "[CV] gradientboostingregressor__init=<__main__.ridge_compatability object at 0x123fdfef0>, gradientboostingregressor__max_depth=5, gradientboostingregressor__max_features=auto, gradientboostingregressor__n_estimators=50 \n",
      "[CV]  gradientboostingregressor__init=<__main__.ridge_compatability object at 0x123fdfef0>, gradientboostingregressor__max_depth=5, gradientboostingregressor__max_features=auto, gradientboostingregressor__n_estimators=50, total=  14.5s\n",
      "[CV] gradientboostingregressor__init=<__main__.ridge_compatability object at 0x123fdfef0>, gradientboostingregressor__max_depth=5, gradientboostingregressor__max_features=auto, gradientboostingregressor__n_estimators=100 \n",
      "[CV]  gradientboostingregressor__init=<__main__.ridge_compatability object at 0x123fdfef0>, gradientboostingregressor__max_depth=5, gradientboostingregressor__max_features=auto, gradientboostingregressor__n_estimators=100, total=  27.6s\n",
      "[CV] gradientboostingregressor__init=<__main__.ridge_compatability object at 0x123fdfef0>, gradientboostingregressor__max_depth=5, gradientboostingregressor__max_features=auto, gradientboostingregressor__n_estimators=100 \n",
      "[CV]  gradientboostingregressor__init=<__main__.ridge_compatability object at 0x123fdfef0>, gradientboostingregressor__max_depth=5, gradientboostingregressor__max_features=auto, gradientboostingregressor__n_estimators=100, total=  27.5s\n",
      "[CV] gradientboostingregressor__init=<__main__.ridge_compatability object at 0x123fdfef0>, gradientboostingregressor__max_depth=5, gradientboostingregressor__max_features=auto, gradientboostingregressor__n_estimators=100 \n",
      "[CV]  gradientboostingregressor__init=<__main__.ridge_compatability object at 0x123fdfef0>, gradientboostingregressor__max_depth=5, gradientboostingregressor__max_features=auto, gradientboostingregressor__n_estimators=100, total=  25.9s\n",
      "[CV] gradientboostingregressor__init=<__main__.ridge_compatability object at 0x123fdfef0>, gradientboostingregressor__max_depth=5, gradientboostingregressor__max_features=auto, gradientboostingregressor__n_estimators=200 \n",
      "[CV]  gradientboostingregressor__init=<__main__.ridge_compatability object at 0x123fdfef0>, gradientboostingregressor__max_depth=5, gradientboostingregressor__max_features=auto, gradientboostingregressor__n_estimators=200, total=  50.7s\n",
      "[CV] gradientboostingregressor__init=<__main__.ridge_compatability object at 0x123fdfef0>, gradientboostingregressor__max_depth=5, gradientboostingregressor__max_features=auto, gradientboostingregressor__n_estimators=200 \n",
      "[CV]  gradientboostingregressor__init=<__main__.ridge_compatability object at 0x123fdfef0>, gradientboostingregressor__max_depth=5, gradientboostingregressor__max_features=auto, gradientboostingregressor__n_estimators=200, total=  49.2s\n",
      "[CV] gradientboostingregressor__init=<__main__.ridge_compatability object at 0x123fdfef0>, gradientboostingregressor__max_depth=5, gradientboostingregressor__max_features=auto, gradientboostingregressor__n_estimators=200 \n",
      "[CV]  gradientboostingregressor__init=<__main__.ridge_compatability object at 0x123fdfef0>, gradientboostingregressor__max_depth=5, gradientboostingregressor__max_features=auto, gradientboostingregressor__n_estimators=200, total=  47.8s\n",
      "[CV] gradientboostingregressor__init=<__main__.ridge_compatability object at 0x123fdfef0>, gradientboostingregressor__max_depth=7, gradientboostingregressor__max_features=3, gradientboostingregressor__n_estimators=50 \n",
      "[CV]  gradientboostingregressor__init=<__main__.ridge_compatability object at 0x123fdfef0>, gradientboostingregressor__max_depth=7, gradientboostingregressor__max_features=3, gradientboostingregressor__n_estimators=50, total=   2.3s\n",
      "[CV] gradientboostingregressor__init=<__main__.ridge_compatability object at 0x123fdfef0>, gradientboostingregressor__max_depth=7, gradientboostingregressor__max_features=3, gradientboostingregressor__n_estimators=50 \n",
      "[CV]  gradientboostingregressor__init=<__main__.ridge_compatability object at 0x123fdfef0>, gradientboostingregressor__max_depth=7, gradientboostingregressor__max_features=3, gradientboostingregressor__n_estimators=50, total=   2.4s\n",
      "[CV] gradientboostingregressor__init=<__main__.ridge_compatability object at 0x123fdfef0>, gradientboostingregressor__max_depth=7, gradientboostingregressor__max_features=3, gradientboostingregressor__n_estimators=50 \n",
      "[CV]  gradientboostingregressor__init=<__main__.ridge_compatability object at 0x123fdfef0>, gradientboostingregressor__max_depth=7, gradientboostingregressor__max_features=3, gradientboostingregressor__n_estimators=50, total=   2.3s\n",
      "[CV] gradientboostingregressor__init=<__main__.ridge_compatability object at 0x123fdfef0>, gradientboostingregressor__max_depth=7, gradientboostingregressor__max_features=3, gradientboostingregressor__n_estimators=100 \n",
      "[CV]  gradientboostingregressor__init=<__main__.ridge_compatability object at 0x123fdfef0>, gradientboostingregressor__max_depth=7, gradientboostingregressor__max_features=3, gradientboostingregressor__n_estimators=100, total=   4.0s\n",
      "[CV] gradientboostingregressor__init=<__main__.ridge_compatability object at 0x123fdfef0>, gradientboostingregressor__max_depth=7, gradientboostingregressor__max_features=3, gradientboostingregressor__n_estimators=100 \n",
      "[CV]  gradientboostingregressor__init=<__main__.ridge_compatability object at 0x123fdfef0>, gradientboostingregressor__max_depth=7, gradientboostingregressor__max_features=3, gradientboostingregressor__n_estimators=100, total=   4.0s\n",
      "[CV] gradientboostingregressor__init=<__main__.ridge_compatability object at 0x123fdfef0>, gradientboostingregressor__max_depth=7, gradientboostingregressor__max_features=3, gradientboostingregressor__n_estimators=100 \n",
      "[CV]  gradientboostingregressor__init=<__main__.ridge_compatability object at 0x123fdfef0>, gradientboostingregressor__max_depth=7, gradientboostingregressor__max_features=3, gradientboostingregressor__n_estimators=100, total=   3.9s\n",
      "[CV] gradientboostingregressor__init=<__main__.ridge_compatability object at 0x123fdfef0>, gradientboostingregressor__max_depth=7, gradientboostingregressor__max_features=3, gradientboostingregressor__n_estimators=200 \n",
      "[CV]  gradientboostingregressor__init=<__main__.ridge_compatability object at 0x123fdfef0>, gradientboostingregressor__max_depth=7, gradientboostingregressor__max_features=3, gradientboostingregressor__n_estimators=200, total=   6.7s\n",
      "[CV] gradientboostingregressor__init=<__main__.ridge_compatability object at 0x123fdfef0>, gradientboostingregressor__max_depth=7, gradientboostingregressor__max_features=3, gradientboostingregressor__n_estimators=200 \n",
      "[CV]  gradientboostingregressor__init=<__main__.ridge_compatability object at 0x123fdfef0>, gradientboostingregressor__max_depth=7, gradientboostingregressor__max_features=3, gradientboostingregressor__n_estimators=200, total=   6.6s\n",
      "[CV] gradientboostingregressor__init=<__main__.ridge_compatability object at 0x123fdfef0>, gradientboostingregressor__max_depth=7, gradientboostingregressor__max_features=3, gradientboostingregressor__n_estimators=200 \n",
      "[CV]  gradientboostingregressor__init=<__main__.ridge_compatability object at 0x123fdfef0>, gradientboostingregressor__max_depth=7, gradientboostingregressor__max_features=3, gradientboostingregressor__n_estimators=200, total=   6.7s\n",
      "[CV] gradientboostingregressor__init=<__main__.ridge_compatability object at 0x123fdfef0>, gradientboostingregressor__max_depth=7, gradientboostingregressor__max_features=6, gradientboostingregressor__n_estimators=50 \n",
      "[CV]  gradientboostingregressor__init=<__main__.ridge_compatability object at 0x123fdfef0>, gradientboostingregressor__max_depth=7, gradientboostingregressor__max_features=6, gradientboostingregressor__n_estimators=50, total=   2.2s\n",
      "[CV] gradientboostingregressor__init=<__main__.ridge_compatability object at 0x123fdfef0>, gradientboostingregressor__max_depth=7, gradientboostingregressor__max_features=6, gradientboostingregressor__n_estimators=50 \n",
      "[CV]  gradientboostingregressor__init=<__main__.ridge_compatability object at 0x123fdfef0>, gradientboostingregressor__max_depth=7, gradientboostingregressor__max_features=6, gradientboostingregressor__n_estimators=50, total=   2.0s\n",
      "[CV] gradientboostingregressor__init=<__main__.ridge_compatability object at 0x123fdfef0>, gradientboostingregressor__max_depth=7, gradientboostingregressor__max_features=6, gradientboostingregressor__n_estimators=50 \n",
      "[CV]  gradientboostingregressor__init=<__main__.ridge_compatability object at 0x123fdfef0>, gradientboostingregressor__max_depth=7, gradientboostingregressor__max_features=6, gradientboostingregressor__n_estimators=50, total=   2.1s\n",
      "[CV] gradientboostingregressor__init=<__main__.ridge_compatability object at 0x123fdfef0>, gradientboostingregressor__max_depth=7, gradientboostingregressor__max_features=6, gradientboostingregressor__n_estimators=100 \n",
      "[CV]  gradientboostingregressor__init=<__main__.ridge_compatability object at 0x123fdfef0>, gradientboostingregressor__max_depth=7, gradientboostingregressor__max_features=6, gradientboostingregressor__n_estimators=100, total=   3.7s\n",
      "[CV] gradientboostingregressor__init=<__main__.ridge_compatability object at 0x123fdfef0>, gradientboostingregressor__max_depth=7, gradientboostingregressor__max_features=6, gradientboostingregressor__n_estimators=100 \n",
      "[CV]  gradientboostingregressor__init=<__main__.ridge_compatability object at 0x123fdfef0>, gradientboostingregressor__max_depth=7, gradientboostingregressor__max_features=6, gradientboostingregressor__n_estimators=100, total=   3.4s\n",
      "[CV] gradientboostingregressor__init=<__main__.ridge_compatability object at 0x123fdfef0>, gradientboostingregressor__max_depth=7, gradientboostingregressor__max_features=6, gradientboostingregressor__n_estimators=100 \n",
      "[CV]  gradientboostingregressor__init=<__main__.ridge_compatability object at 0x123fdfef0>, gradientboostingregressor__max_depth=7, gradientboostingregressor__max_features=6, gradientboostingregressor__n_estimators=100, total=   3.7s\n",
      "[CV] gradientboostingregressor__init=<__main__.ridge_compatability object at 0x123fdfef0>, gradientboostingregressor__max_depth=7, gradientboostingregressor__max_features=6, gradientboostingregressor__n_estimators=200 \n",
      "[CV]  gradientboostingregressor__init=<__main__.ridge_compatability object at 0x123fdfef0>, gradientboostingregressor__max_depth=7, gradientboostingregressor__max_features=6, gradientboostingregressor__n_estimators=200, total=   6.8s\n",
      "[CV] gradientboostingregressor__init=<__main__.ridge_compatability object at 0x123fdfef0>, gradientboostingregressor__max_depth=7, gradientboostingregressor__max_features=6, gradientboostingregressor__n_estimators=200 \n",
      "[CV]  gradientboostingregressor__init=<__main__.ridge_compatability object at 0x123fdfef0>, gradientboostingregressor__max_depth=7, gradientboostingregressor__max_features=6, gradientboostingregressor__n_estimators=200, total=   6.5s\n",
      "[CV] gradientboostingregressor__init=<__main__.ridge_compatability object at 0x123fdfef0>, gradientboostingregressor__max_depth=7, gradientboostingregressor__max_features=6, gradientboostingregressor__n_estimators=200 \n",
      "[CV]  gradientboostingregressor__init=<__main__.ridge_compatability object at 0x123fdfef0>, gradientboostingregressor__max_depth=7, gradientboostingregressor__max_features=6, gradientboostingregressor__n_estimators=200, total=   6.9s\n",
      "[CV] gradientboostingregressor__init=<__main__.ridge_compatability object at 0x123fdfef0>, gradientboostingregressor__max_depth=7, gradientboostingregressor__max_features=auto, gradientboostingregressor__n_estimators=50 \n",
      "[CV]  gradientboostingregressor__init=<__main__.ridge_compatability object at 0x123fdfef0>, gradientboostingregressor__max_depth=7, gradientboostingregressor__max_features=auto, gradientboostingregressor__n_estimators=50, total=  22.1s\n",
      "[CV] gradientboostingregressor__init=<__main__.ridge_compatability object at 0x123fdfef0>, gradientboostingregressor__max_depth=7, gradientboostingregressor__max_features=auto, gradientboostingregressor__n_estimators=50 \n",
      "[CV]  gradientboostingregressor__init=<__main__.ridge_compatability object at 0x123fdfef0>, gradientboostingregressor__max_depth=7, gradientboostingregressor__max_features=auto, gradientboostingregressor__n_estimators=50, total=  21.7s\n",
      "[CV] gradientboostingregressor__init=<__main__.ridge_compatability object at 0x123fdfef0>, gradientboostingregressor__max_depth=7, gradientboostingregressor__max_features=auto, gradientboostingregressor__n_estimators=50 \n",
      "[CV]  gradientboostingregressor__init=<__main__.ridge_compatability object at 0x123fdfef0>, gradientboostingregressor__max_depth=7, gradientboostingregressor__max_features=auto, gradientboostingregressor__n_estimators=50, total=  20.1s\n",
      "[CV] gradientboostingregressor__init=<__main__.ridge_compatability object at 0x123fdfef0>, gradientboostingregressor__max_depth=7, gradientboostingregressor__max_features=auto, gradientboostingregressor__n_estimators=100 \n",
      "[CV]  gradientboostingregressor__init=<__main__.ridge_compatability object at 0x123fdfef0>, gradientboostingregressor__max_depth=7, gradientboostingregressor__max_features=auto, gradientboostingregressor__n_estimators=100, total=  37.8s\n",
      "[CV] gradientboostingregressor__init=<__main__.ridge_compatability object at 0x123fdfef0>, gradientboostingregressor__max_depth=7, gradientboostingregressor__max_features=auto, gradientboostingregressor__n_estimators=100 \n",
      "[CV]  gradientboostingregressor__init=<__main__.ridge_compatability object at 0x123fdfef0>, gradientboostingregressor__max_depth=7, gradientboostingregressor__max_features=auto, gradientboostingregressor__n_estimators=100, total=  38.6s\n",
      "[CV] gradientboostingregressor__init=<__main__.ridge_compatability object at 0x123fdfef0>, gradientboostingregressor__max_depth=7, gradientboostingregressor__max_features=auto, gradientboostingregressor__n_estimators=100 \n",
      "[CV]  gradientboostingregressor__init=<__main__.ridge_compatability object at 0x123fdfef0>, gradientboostingregressor__max_depth=7, gradientboostingregressor__max_features=auto, gradientboostingregressor__n_estimators=100, total=  36.3s\n",
      "[CV] gradientboostingregressor__init=<__main__.ridge_compatability object at 0x123fdfef0>, gradientboostingregressor__max_depth=7, gradientboostingregressor__max_features=auto, gradientboostingregressor__n_estimators=200 \n",
      "[CV]  gradientboostingregressor__init=<__main__.ridge_compatability object at 0x123fdfef0>, gradientboostingregressor__max_depth=7, gradientboostingregressor__max_features=auto, gradientboostingregressor__n_estimators=200, total= 1.1min\n",
      "[CV] gradientboostingregressor__init=<__main__.ridge_compatability object at 0x123fdfef0>, gradientboostingregressor__max_depth=7, gradientboostingregressor__max_features=auto, gradientboostingregressor__n_estimators=200 \n",
      "[CV]  gradientboostingregressor__init=<__main__.ridge_compatability object at 0x123fdfef0>, gradientboostingregressor__max_depth=7, gradientboostingregressor__max_features=auto, gradientboostingregressor__n_estimators=200, total= 1.1min\n",
      "[CV] gradientboostingregressor__init=<__main__.ridge_compatability object at 0x123fdfef0>, gradientboostingregressor__max_depth=7, gradientboostingregressor__max_features=auto, gradientboostingregressor__n_estimators=200 \n",
      "[CV]  gradientboostingregressor__init=<__main__.ridge_compatability object at 0x123fdfef0>, gradientboostingregressor__max_depth=7, gradientboostingregressor__max_features=auto, gradientboostingregressor__n_estimators=200, total= 1.1min\n"
     ]
    },
    {
     "name": "stderr",
     "output_type": "stream",
     "text": [
      "[Parallel(n_jobs=1)]: Done  81 out of  81 | elapsed: 15.8min finished\n"
     ]
    },
    {
     "data": {
      "text/plain": [
       "GridSearchCV(cv=3, error_score='raise',\n",
       "       estimator=Pipeline(memory=None,\n",
       "     steps=[('robustscaler', RobustScaler(copy=True, quantile_range=(25.0, 75.0), with_centering=True,\n",
       "       with_scaling=True)), ('variancethreshold', VarianceThreshold(threshold=0.0)), ('gradientboostingregressor', GradientBoostingRegressor(alpha=0.9, criterion='friedman_mse', init=None,\n",
       "             ...tors=100, presort='auto', random_state=0,\n",
       "             subsample=1.0, verbose=0, warm_start=False))]),\n",
       "       fit_params=None, iid=True, n_jobs=1,\n",
       "       param_grid={'gradientboostingregressor__n_estimators': [50, 100, 200], 'gradientboostingregressor__max_features': [3, 6, 'auto'], 'gradientboostingregressor__max_depth': [3, 5, 7], 'gradientboostingregressor__init': [<__main__.ridge_compatability object at 0x123fdfef0>]},\n",
       "       pre_dispatch='2*n_jobs', refit=True, return_train_score=True,\n",
       "       scoring='r2', verbose=2)"
      ]
     },
     "execution_count": 275,
     "metadata": {},
     "output_type": "execute_result"
    }
   ],
   "source": [
    "gbt2_grid.fit(X_train, y_train)"
   ]
  },
  {
   "cell_type": "code",
   "execution_count": 278,
   "metadata": {
    "collapsed": false
   },
   "outputs": [
    {
     "data": {
      "text/plain": [
       "0.76254532855935075"
      ]
     },
     "execution_count": 278,
     "metadata": {},
     "output_type": "execute_result"
    }
   ],
   "source": [
    "gbt2_grid.score(X_test, y_test)"
   ]
  },
  {
   "cell_type": "code",
   "execution_count": 336,
   "metadata": {
    "collapsed": false
   },
   "outputs": [
    {
     "data": {
      "text/plain": [
       "{'gradientboostingregressor__init': <__main__.ridge_compatability at 0x123fdfef0>,\n",
       " 'gradientboostingregressor__max_depth': 7,\n",
       " 'gradientboostingregressor__max_features': 'auto',\n",
       " 'gradientboostingregressor__n_estimators': 100}"
      ]
     },
     "execution_count": 336,
     "metadata": {},
     "output_type": "execute_result"
    }
   ],
   "source": [
    "gbt2_grid.best_params_\n",
    "#max_depth = 7, max_features = 'auto', n_estimators = 100"
   ]
  },
  {
   "cell_type": "code",
   "execution_count": 343,
   "metadata": {
    "collapsed": false
   },
   "outputs": [
    {
     "data": {
      "text/html": [
       "<div>\n",
       "<style>\n",
       "    .dataframe thead tr:only-child th {\n",
       "        text-align: right;\n",
       "    }\n",
       "\n",
       "    .dataframe thead th {\n",
       "        text-align: left;\n",
       "    }\n",
       "\n",
       "    .dataframe tbody tr th {\n",
       "        vertical-align: top;\n",
       "    }\n",
       "</style>\n",
       "<table border=\"1\" class=\"dataframe\">\n",
       "  <thead>\n",
       "    <tr style=\"text-align: right;\">\n",
       "      <th></th>\n",
       "      <th>error</th>\n",
       "      <th>error frac</th>\n",
       "    </tr>\n",
       "    <tr>\n",
       "      <th>HourOfDay</th>\n",
       "      <th></th>\n",
       "      <th></th>\n",
       "    </tr>\n",
       "  </thead>\n",
       "  <tbody>\n",
       "    <tr>\n",
       "      <th>0</th>\n",
       "      <td>29.700086</td>\n",
       "      <td>0.707911</td>\n",
       "    </tr>\n",
       "    <tr>\n",
       "      <th>1</th>\n",
       "      <td>-16.854285</td>\n",
       "      <td>7.444019</td>\n",
       "    </tr>\n",
       "    <tr>\n",
       "      <th>2</th>\n",
       "      <td>-10.696975</td>\n",
       "      <td>26.968652</td>\n",
       "    </tr>\n",
       "    <tr>\n",
       "      <th>3</th>\n",
       "      <td>-42.805410</td>\n",
       "      <td>16.344273</td>\n",
       "    </tr>\n",
       "    <tr>\n",
       "      <th>4</th>\n",
       "      <td>7.706196</td>\n",
       "      <td>5.326479</td>\n",
       "    </tr>\n",
       "    <tr>\n",
       "      <th>5</th>\n",
       "      <td>-3.107671</td>\n",
       "      <td>inf</td>\n",
       "    </tr>\n",
       "    <tr>\n",
       "      <th>6</th>\n",
       "      <td>10.545493</td>\n",
       "      <td>inf</td>\n",
       "    </tr>\n",
       "    <tr>\n",
       "      <th>7</th>\n",
       "      <td>9.476356</td>\n",
       "      <td>inf</td>\n",
       "    </tr>\n",
       "    <tr>\n",
       "      <th>8</th>\n",
       "      <td>13.539174</td>\n",
       "      <td>inf</td>\n",
       "    </tr>\n",
       "    <tr>\n",
       "      <th>9</th>\n",
       "      <td>7.574364</td>\n",
       "      <td>8.562480</td>\n",
       "    </tr>\n",
       "    <tr>\n",
       "      <th>10</th>\n",
       "      <td>6.035802</td>\n",
       "      <td>4.872713</td>\n",
       "    </tr>\n",
       "    <tr>\n",
       "      <th>11</th>\n",
       "      <td>5.043761</td>\n",
       "      <td>inf</td>\n",
       "    </tr>\n",
       "    <tr>\n",
       "      <th>12</th>\n",
       "      <td>14.080812</td>\n",
       "      <td>0.407543</td>\n",
       "    </tr>\n",
       "    <tr>\n",
       "      <th>13</th>\n",
       "      <td>-7.760833</td>\n",
       "      <td>0.121245</td>\n",
       "    </tr>\n",
       "    <tr>\n",
       "      <th>14</th>\n",
       "      <td>9.896970</td>\n",
       "      <td>0.529768</td>\n",
       "    </tr>\n",
       "    <tr>\n",
       "      <th>15</th>\n",
       "      <td>9.962907</td>\n",
       "      <td>0.077686</td>\n",
       "    </tr>\n",
       "    <tr>\n",
       "      <th>16</th>\n",
       "      <td>4.097740</td>\n",
       "      <td>0.044601</td>\n",
       "    </tr>\n",
       "    <tr>\n",
       "      <th>17</th>\n",
       "      <td>-11.329957</td>\n",
       "      <td>0.091079</td>\n",
       "    </tr>\n",
       "    <tr>\n",
       "      <th>18</th>\n",
       "      <td>-7.213705</td>\n",
       "      <td>0.032562</td>\n",
       "    </tr>\n",
       "    <tr>\n",
       "      <th>19</th>\n",
       "      <td>3.544439</td>\n",
       "      <td>0.053154</td>\n",
       "    </tr>\n",
       "    <tr>\n",
       "      <th>20</th>\n",
       "      <td>1.996411</td>\n",
       "      <td>2.182761</td>\n",
       "    </tr>\n",
       "    <tr>\n",
       "      <th>21</th>\n",
       "      <td>-9.779144</td>\n",
       "      <td>0.039863</td>\n",
       "    </tr>\n",
       "    <tr>\n",
       "      <th>22</th>\n",
       "      <td>3.120865</td>\n",
       "      <td>0.139046</td>\n",
       "    </tr>\n",
       "    <tr>\n",
       "      <th>23</th>\n",
       "      <td>-5.341476</td>\n",
       "      <td>0.295855</td>\n",
       "    </tr>\n",
       "  </tbody>\n",
       "</table>\n",
       "</div>"
      ],
      "text/plain": [
       "               error  error frac\n",
       "HourOfDay                       \n",
       "0          29.700086    0.707911\n",
       "1         -16.854285    7.444019\n",
       "2         -10.696975   26.968652\n",
       "3         -42.805410   16.344273\n",
       "4           7.706196    5.326479\n",
       "5          -3.107671         inf\n",
       "6          10.545493         inf\n",
       "7           9.476356         inf\n",
       "8          13.539174         inf\n",
       "9           7.574364    8.562480\n",
       "10          6.035802    4.872713\n",
       "11          5.043761         inf\n",
       "12         14.080812    0.407543\n",
       "13         -7.760833    0.121245\n",
       "14          9.896970    0.529768\n",
       "15          9.962907    0.077686\n",
       "16          4.097740    0.044601\n",
       "17        -11.329957    0.091079\n",
       "18         -7.213705    0.032562\n",
       "19          3.544439    0.053154\n",
       "20          1.996411    2.182761\n",
       "21         -9.779144    0.039863\n",
       "22          3.120865    0.139046\n",
       "23         -5.341476    0.295855"
      ]
     },
     "execution_count": 343,
     "metadata": {},
     "output_type": "execute_result"
    },
    {
     "data": {
      "image/png": "[encoded data removed]",
      "text/plain": [
       "<matplotlib.figure.Figure at 0x1244109b0>"
      ]
     },
     "metadata": {},
     "output_type": "display_data"
    }
   ],
   "source": [
    "plot_errors_hour(data, get_predictions(X_train, y_train, X_test, GradientBoostingRegressor(\n",
    "        max_depth = 7,\n",
    "        max_features = 'auto',\n",
    "        n_estimators = 100,\n",
    "        init = ridge_compatability(Ridge()))), y_test)"
   ]
  },
  {
   "cell_type": "markdown",
   "metadata": {},
   "source": [
    "## XGBoost"
   ]
  },
  {
   "cell_type": "markdown",
   "metadata": {},
   "source": [
    "Never got this to work"
   ]
  },
  {
   "cell_type": "code",
   "execution_count": null,
   "metadata": {
    "collapsed": false
   },
   "outputs": [],
   "source": [
    "from xgboost import XGBClassifier\n",
    "modelXGB = XGBClassifier()\n",
    "modelXGB.fit(X_train, y_train)\n",
    "scoreXGB = modelXGB.score(X_test, y_test)\n",
    "print(scoreXGB)"
   ]
  },
  {
   "cell_type": "code",
   "execution_count": null,
   "metadata": {
    "collapsed": true
   },
   "outputs": [],
   "source": []
  }
 ],
 "metadata": {
  "anaconda-cloud": {},
  "kernelspec": {
   "display_name": "Python [ml]",
   "language": "python",
   "name": "Python [ml]"
  },
  "language_info": {
   "codemirror_mode": {
    "name": "ipython",
    "version": 3
   },
   "file_extension": ".py",
   "mimetype": "text/x-python",
   "name": "python",
   "nbconvert_exporter": "python",
   "pygments_lexer": "ipython3",
   "version": "3.6.2"
  }
 },
 "nbformat": 4,
 "nbformat_minor": 2
}
