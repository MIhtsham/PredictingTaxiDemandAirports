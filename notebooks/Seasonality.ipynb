{
 "cells": [
  {
   "cell_type": "code",
   "execution_count": 153,
   "metadata": {
    "collapsed": true
   },
   "outputs": [],
   "source": [
    "import pandas as pd\n",
    "import numpy as np\n",
    "import os\n",
    "import matplotlib.pyplot as plt\n",
    "import seaborn as sns\n",
    "from datetime import datetime as dt\n",
    "%matplotlib inline\n",
    "from pandas.tseries.holiday import USFederalHolidayCalendar as calendar\n",
    "%matplotlib inline\n",
    "# plt.style.use(\"ggplot\")\n",
    "sns.set_style(\"darkgrid\")"
   ]
  },
  {
   "cell_type": "code",
   "execution_count": 4,
   "metadata": {
    "collapsed": true
   },
   "outputs": [],
   "source": [
    "taxi_data = pd.read_csv(\"../clean_data/TaxiData_Jan17-Jun17.gz\", compression=\"gzip\")"
   ]
  },
  {
   "cell_type": "code",
   "execution_count": 5,
   "metadata": {
    "collapsed": false
   },
   "outputs": [
    {
     "data": {
      "text/plain": [
       "(1471188, 7)"
      ]
     },
     "execution_count": 5,
     "metadata": {},
     "output_type": "execute_result"
    }
   ],
   "source": [
    "taxi_data.shape"
   ]
  },
  {
   "cell_type": "code",
   "execution_count": 6,
   "metadata": {
    "collapsed": false
   },
   "outputs": [
    {
     "data": {
      "text/html": [
       "<div>\n",
       "<style>\n",
       "    .dataframe thead tr:only-child th {\n",
       "        text-align: right;\n",
       "    }\n",
       "\n",
       "    .dataframe thead th {\n",
       "        text-align: left;\n",
       "    }\n",
       "\n",
       "    .dataframe tbody tr th {\n",
       "        vertical-align: top;\n",
       "    }\n",
       "</style>\n",
       "<table border=\"1\" class=\"dataframe\">\n",
       "  <thead>\n",
       "    <tr style=\"text-align: right;\">\n",
       "      <th></th>\n",
       "      <th>tpep_pickup_datetime</th>\n",
       "      <th>tpep_dropoff_datetime</th>\n",
       "      <th>passenger_count</th>\n",
       "      <th>trip_distance</th>\n",
       "      <th>PULocationID</th>\n",
       "      <th>DOLocationID</th>\n",
       "      <th>total_amount</th>\n",
       "    </tr>\n",
       "  </thead>\n",
       "  <tbody>\n",
       "    <tr>\n",
       "      <th>0</th>\n",
       "      <td>2017-01-01 00:00:05</td>\n",
       "      <td>2017-01-01 00:15:36</td>\n",
       "      <td>1</td>\n",
       "      <td>8.47</td>\n",
       "      <td>138</td>\n",
       "      <td>262</td>\n",
       "      <td>38.55</td>\n",
       "    </tr>\n",
       "    <tr>\n",
       "      <th>1</th>\n",
       "      <td>2017-01-01 00:00:12</td>\n",
       "      <td>2017-01-01 00:09:48</td>\n",
       "      <td>1</td>\n",
       "      <td>5.30</td>\n",
       "      <td>138</td>\n",
       "      <td>192</td>\n",
       "      <td>17.30</td>\n",
       "    </tr>\n",
       "    <tr>\n",
       "      <th>2</th>\n",
       "      <td>2017-01-01 00:00:17</td>\n",
       "      <td>2017-01-01 00:19:40</td>\n",
       "      <td>2</td>\n",
       "      <td>13.97</td>\n",
       "      <td>138</td>\n",
       "      <td>181</td>\n",
       "      <td>50.44</td>\n",
       "    </tr>\n",
       "    <tr>\n",
       "      <th>3</th>\n",
       "      <td>2017-01-01 00:00:21</td>\n",
       "      <td>2017-01-01 00:12:09</td>\n",
       "      <td>1</td>\n",
       "      <td>6.90</td>\n",
       "      <td>138</td>\n",
       "      <td>80</td>\n",
       "      <td>21.30</td>\n",
       "    </tr>\n",
       "    <tr>\n",
       "      <th>4</th>\n",
       "      <td>2017-01-01 00:00:33</td>\n",
       "      <td>2017-01-01 00:31:58</td>\n",
       "      <td>2</td>\n",
       "      <td>10.50</td>\n",
       "      <td>138</td>\n",
       "      <td>230</td>\n",
       "      <td>42.34</td>\n",
       "    </tr>\n",
       "  </tbody>\n",
       "</table>\n",
       "</div>"
      ],
      "text/plain": [
       "  tpep_pickup_datetime tpep_dropoff_datetime  passenger_count  trip_distance  \\\n",
       "0  2017-01-01 00:00:05   2017-01-01 00:15:36                1           8.47   \n",
       "1  2017-01-01 00:00:12   2017-01-01 00:09:48                1           5.30   \n",
       "2  2017-01-01 00:00:17   2017-01-01 00:19:40                2          13.97   \n",
       "3  2017-01-01 00:00:21   2017-01-01 00:12:09                1           6.90   \n",
       "4  2017-01-01 00:00:33   2017-01-01 00:31:58                2          10.50   \n",
       "\n",
       "   PULocationID  DOLocationID  total_amount  \n",
       "0           138           262         38.55  \n",
       "1           138           192         17.30  \n",
       "2           138           181         50.44  \n",
       "3           138            80         21.30  \n",
       "4           138           230         42.34  "
      ]
     },
     "execution_count": 6,
     "metadata": {},
     "output_type": "execute_result"
    }
   ],
   "source": [
    "taxi_data.head()"
   ]
  },
  {
   "cell_type": "markdown",
   "metadata": {},
   "source": [
    "### Add year, month, day, hour columns"
   ]
  },
  {
   "cell_type": "code",
   "execution_count": 7,
   "metadata": {
    "collapsed": true
   },
   "outputs": [],
   "source": [
    "taxi_data['tpep_pickup_datetime'] = pd.to_datetime(taxi_data['tpep_pickup_datetime'])\n",
    "taxi_data['tpep_dropoff_datetime'] = pd.to_datetime(taxi_data['tpep_dropoff_datetime'])\n",
    "taxi_data['year'] = taxi_data['tpep_pickup_datetime'].dt.year\n",
    "taxi_data['month'] = taxi_data['tpep_pickup_datetime'].dt.month\n",
    "taxi_data['pickup_day'] = taxi_data['tpep_pickup_datetime'].dt.day\n",
    "taxi_data['pickup_hour'] = taxi_data['tpep_pickup_datetime'].dt.hour\n",
    "taxi_data['dropoff_day'] = taxi_data['tpep_dropoff_datetime'].dt.day\n",
    "taxi_data['dropoff_hour'] = taxi_data['tpep_dropoff_datetime'].dt.hour"
   ]
  },
  {
   "cell_type": "markdown",
   "metadata": {},
   "source": [
    "### Adding Holiday Column"
   ]
  },
  {
   "cell_type": "code",
   "execution_count": 8,
   "metadata": {
    "collapsed": true
   },
   "outputs": [],
   "source": [
    "dr = pd.to_datetime(pd.to_datetime(taxi_data['tpep_pickup_datetime']).dt.date)\n",
    "\n",
    "cal = calendar()\n",
    "holidays = cal.holidays(start=dr.min(), end=dr.max())\n",
    "\n",
    "taxi_data['holiday'] = dr.isin(holidays)"
   ]
  },
  {
   "cell_type": "code",
   "execution_count": 9,
   "metadata": {
    "collapsed": false
   },
   "outputs": [
    {
     "data": {
      "text/plain": [
       "0         2017-01-01\n",
       "1         2017-01-01\n",
       "2         2017-01-01\n",
       "3         2017-01-01\n",
       "4         2017-01-01\n",
       "5         2017-01-01\n",
       "6         2017-01-01\n",
       "7         2017-01-01\n",
       "8         2017-01-01\n",
       "9         2017-01-01\n",
       "10        2017-01-01\n",
       "11        2017-01-01\n",
       "12        2017-01-01\n",
       "13        2017-01-01\n",
       "14        2017-01-01\n",
       "15        2017-01-01\n",
       "16        2017-01-01\n",
       "17        2017-01-01\n",
       "18        2017-01-01\n",
       "19        2017-01-01\n",
       "20        2017-01-01\n",
       "21        2017-01-01\n",
       "22        2017-01-01\n",
       "23        2017-01-01\n",
       "24        2017-01-01\n",
       "25        2017-01-01\n",
       "26        2017-01-01\n",
       "27        2017-01-01\n",
       "28        2017-01-01\n",
       "29        2017-01-01\n",
       "             ...    \n",
       "1471158   2017-04-30\n",
       "1471159   2017-04-30\n",
       "1471160   2017-04-30\n",
       "1471161   2017-04-30\n",
       "1471162   2017-04-30\n",
       "1471163   2017-04-30\n",
       "1471164   2017-04-30\n",
       "1471165   2017-04-30\n",
       "1471166   2017-04-30\n",
       "1471167   2017-04-30\n",
       "1471168   2017-04-30\n",
       "1471169   2017-04-30\n",
       "1471170   2017-04-30\n",
       "1471171   2017-04-30\n",
       "1471172   2017-04-30\n",
       "1471173   2017-04-30\n",
       "1471174   2017-04-30\n",
       "1471175   2017-04-30\n",
       "1471176   2017-04-30\n",
       "1471177   2017-04-30\n",
       "1471178   2017-04-30\n",
       "1471179   2017-04-30\n",
       "1471180   2017-04-30\n",
       "1471181   2017-04-30\n",
       "1471182   2017-04-30\n",
       "1471183   2017-04-30\n",
       "1471184   2017-04-30\n",
       "1471185   2017-04-30\n",
       "1471186   2017-04-30\n",
       "1471187   2017-04-30\n",
       "Name: tpep_pickup_datetime, Length: 1471188, dtype: datetime64[ns]"
      ]
     },
     "execution_count": 9,
     "metadata": {},
     "output_type": "execute_result"
    }
   ],
   "source": [
    "dr"
   ]
  },
  {
   "cell_type": "code",
   "execution_count": 10,
   "metadata": {
    "collapsed": false
   },
   "outputs": [
    {
     "data": {
      "text/plain": [
       "DatetimeIndex(['2017-01-02', '2017-01-16', '2017-02-20', '2017-05-29'], dtype='datetime64[ns]', freq=None)"
      ]
     },
     "execution_count": 10,
     "metadata": {},
     "output_type": "execute_result"
    }
   ],
   "source": [
    "holidays"
   ]
  },
  {
   "cell_type": "code",
   "execution_count": 57,
   "metadata": {
    "collapsed": true
   },
   "outputs": [],
   "source": [
    "names = cal.holidays(return_name = True)\n",
    "# data = pd.concat([taxi_data, names], axis=1, join_axes=[taxi_data.tpep_pickup_datetime])"
   ]
  },
  {
   "cell_type": "code",
   "execution_count": 58,
   "metadata": {
    "collapsed": false
   },
   "outputs": [
    {
     "data": {
      "text/html": [
       "<div>\n",
       "<table border=\"1\" class=\"dataframe\">\n",
       "  <thead>\n",
       "    <tr style=\"text-align: right;\">\n",
       "      <th></th>\n",
       "      <th>tpep_pickup_datetime</th>\n",
       "      <th>tpep_dropoff_datetime</th>\n",
       "      <th>passenger_count</th>\n",
       "      <th>trip_distance</th>\n",
       "      <th>PULocationID</th>\n",
       "      <th>DOLocationID</th>\n",
       "      <th>total_amount</th>\n",
       "      <th>year</th>\n",
       "      <th>month</th>\n",
       "      <th>pickup_day</th>\n",
       "      <th>pickup_hour</th>\n",
       "      <th>dropoff_day</th>\n",
       "      <th>dropoff_hour</th>\n",
       "      <th>holiday</th>\n",
       "    </tr>\n",
       "  </thead>\n",
       "  <tbody>\n",
       "    <tr>\n",
       "      <th>0</th>\n",
       "      <td>2017-01-01 00:00:05</td>\n",
       "      <td>2017-01-01 00:15:36</td>\n",
       "      <td>1</td>\n",
       "      <td>8.47</td>\n",
       "      <td>138</td>\n",
       "      <td>262</td>\n",
       "      <td>38.55</td>\n",
       "      <td>2017</td>\n",
       "      <td>1</td>\n",
       "      <td>1</td>\n",
       "      <td>0</td>\n",
       "      <td>1</td>\n",
       "      <td>0</td>\n",
       "      <td>False</td>\n",
       "    </tr>\n",
       "    <tr>\n",
       "      <th>1</th>\n",
       "      <td>2017-01-01 00:00:12</td>\n",
       "      <td>2017-01-01 00:09:48</td>\n",
       "      <td>1</td>\n",
       "      <td>5.30</td>\n",
       "      <td>138</td>\n",
       "      <td>192</td>\n",
       "      <td>17.30</td>\n",
       "      <td>2017</td>\n",
       "      <td>1</td>\n",
       "      <td>1</td>\n",
       "      <td>0</td>\n",
       "      <td>1</td>\n",
       "      <td>0</td>\n",
       "      <td>False</td>\n",
       "    </tr>\n",
       "    <tr>\n",
       "      <th>2</th>\n",
       "      <td>2017-01-01 00:00:17</td>\n",
       "      <td>2017-01-01 00:19:40</td>\n",
       "      <td>2</td>\n",
       "      <td>13.97</td>\n",
       "      <td>138</td>\n",
       "      <td>181</td>\n",
       "      <td>50.44</td>\n",
       "      <td>2017</td>\n",
       "      <td>1</td>\n",
       "      <td>1</td>\n",
       "      <td>0</td>\n",
       "      <td>1</td>\n",
       "      <td>0</td>\n",
       "      <td>False</td>\n",
       "    </tr>\n",
       "    <tr>\n",
       "      <th>3</th>\n",
       "      <td>2017-01-01 00:00:21</td>\n",
       "      <td>2017-01-01 00:12:09</td>\n",
       "      <td>1</td>\n",
       "      <td>6.90</td>\n",
       "      <td>138</td>\n",
       "      <td>80</td>\n",
       "      <td>21.30</td>\n",
       "      <td>2017</td>\n",
       "      <td>1</td>\n",
       "      <td>1</td>\n",
       "      <td>0</td>\n",
       "      <td>1</td>\n",
       "      <td>0</td>\n",
       "      <td>False</td>\n",
       "    </tr>\n",
       "    <tr>\n",
       "      <th>4</th>\n",
       "      <td>2017-01-01 00:00:33</td>\n",
       "      <td>2017-01-01 00:31:58</td>\n",
       "      <td>2</td>\n",
       "      <td>10.50</td>\n",
       "      <td>138</td>\n",
       "      <td>230</td>\n",
       "      <td>42.34</td>\n",
       "      <td>2017</td>\n",
       "      <td>1</td>\n",
       "      <td>1</td>\n",
       "      <td>0</td>\n",
       "      <td>1</td>\n",
       "      <td>0</td>\n",
       "      <td>False</td>\n",
       "    </tr>\n",
       "  </tbody>\n",
       "</table>\n",
       "</div>"
      ],
      "text/plain": [
       "  tpep_pickup_datetime tpep_dropoff_datetime  passenger_count  trip_distance  \\\n",
       "0  2017-01-01 00:00:05   2017-01-01 00:15:36                1           8.47   \n",
       "1  2017-01-01 00:00:12   2017-01-01 00:09:48                1           5.30   \n",
       "2  2017-01-01 00:00:17   2017-01-01 00:19:40                2          13.97   \n",
       "3  2017-01-01 00:00:21   2017-01-01 00:12:09                1           6.90   \n",
       "4  2017-01-01 00:00:33   2017-01-01 00:31:58                2          10.50   \n",
       "\n",
       "   PULocationID  DOLocationID  total_amount  year  month  pickup_day  \\\n",
       "0           138           262         38.55  2017      1           1   \n",
       "1           138           192         17.30  2017      1           1   \n",
       "2           138           181         50.44  2017      1           1   \n",
       "3           138            80         21.30  2017      1           1   \n",
       "4           138           230         42.34  2017      1           1   \n",
       "\n",
       "   pickup_hour  dropoff_day  dropoff_hour holiday  \n",
       "0            0            1             0   False  \n",
       "1            0            1             0   False  \n",
       "2            0            1             0   False  \n",
       "3            0            1             0   False  \n",
       "4            0            1             0   False  "
      ]
     },
     "execution_count": 58,
     "metadata": {},
     "output_type": "execute_result"
    }
   ],
   "source": [
    "taxi_data.head()"
   ]
  },
  {
   "cell_type": "markdown",
   "metadata": {},
   "source": [
    "## Exploratory Data Analysis"
   ]
  },
  {
   "cell_type": "markdown",
   "metadata": {},
   "source": [
    "### How many trips on Holiday vs Non-Holiday days"
   ]
  },
  {
   "cell_type": "code",
   "execution_count": 59,
   "metadata": {
    "collapsed": false
   },
   "outputs": [
    {
     "data": {
      "text/plain": [
       "(False    1434215\n",
       " True       36973\n",
       " Name: holiday, dtype: int64, False    0.974869\n",
       " True     0.025131\n",
       " Name: holiday, dtype: float64)"
      ]
     },
     "execution_count": 59,
     "metadata": {},
     "output_type": "execute_result"
    }
   ],
   "source": [
    "taxi_data.holiday.value_counts(), taxi_data.holiday.value_counts(normalize=True)"
   ]
  },
  {
   "cell_type": "markdown",
   "metadata": {},
   "source": [
    "97% of the pickups belong to non-Holiday days while 3% during Holiday dates."
   ]
  },
  {
   "cell_type": "markdown",
   "metadata": {},
   "source": [
    "### Avg Trip Duration H vs NH"
   ]
  },
  {
   "cell_type": "code",
   "execution_count": 60,
   "metadata": {
    "collapsed": false
   },
   "outputs": [
    {
     "data": {
      "text/html": [
       "<div>\n",
       "<table border=\"1\" class=\"dataframe\">\n",
       "  <thead>\n",
       "    <tr style=\"text-align: right;\">\n",
       "      <th></th>\n",
       "      <th>holiday</th>\n",
       "      <th>trip_distance</th>\n",
       "    </tr>\n",
       "  </thead>\n",
       "  <tbody>\n",
       "    <tr>\n",
       "      <th>0</th>\n",
       "      <td>False</td>\n",
       "      <td>9.846936</td>\n",
       "    </tr>\n",
       "    <tr>\n",
       "      <th>1</th>\n",
       "      <td>True</td>\n",
       "      <td>9.762613</td>\n",
       "    </tr>\n",
       "  </tbody>\n",
       "</table>\n",
       "</div>"
      ],
      "text/plain": [
       "  holiday  trip_distance\n",
       "0   False       9.846936\n",
       "1    True       9.762613"
      ]
     },
     "execution_count": 60,
     "metadata": {},
     "output_type": "execute_result"
    }
   ],
   "source": [
    "taxi_data.groupby('holiday', as_index=False)['trip_distance'].mean()"
   ]
  },
  {
   "cell_type": "code",
   "execution_count": 61,
   "metadata": {
    "collapsed": false
   },
   "outputs": [
    {
     "data": {
      "text/plain": [
       "pandas.core.series.Series"
      ]
     },
     "execution_count": 61,
     "metadata": {},
     "output_type": "execute_result"
    }
   ],
   "source": [
    "type(taxi_data.tpep_pickup_datetime)"
   ]
  },
  {
   "cell_type": "code",
   "execution_count": 62,
   "metadata": {
    "collapsed": true
   },
   "outputs": [],
   "source": [
    "pickup = pd.to_datetime(taxi_data['tpep_pickup_datetime'])\n",
    "dropoff = pd.to_datetime(taxi_data['tpep_dropoff_datetime'])\n",
    "taxi_data['trip_duration'] = dropoff-pickup\n",
    "taxi_data['trip_duration'] = taxi_data['trip_duration'].dt.total_seconds()"
   ]
  },
  {
   "cell_type": "code",
   "execution_count": 63,
   "metadata": {
    "collapsed": false
   },
   "outputs": [
    {
     "data": {
      "text/html": [
       "<div>\n",
       "<table border=\"1\" class=\"dataframe\">\n",
       "  <thead>\n",
       "    <tr style=\"text-align: right;\">\n",
       "      <th></th>\n",
       "      <th>tpep_pickup_datetime</th>\n",
       "      <th>tpep_dropoff_datetime</th>\n",
       "      <th>passenger_count</th>\n",
       "      <th>trip_distance</th>\n",
       "      <th>PULocationID</th>\n",
       "      <th>DOLocationID</th>\n",
       "      <th>total_amount</th>\n",
       "      <th>year</th>\n",
       "      <th>month</th>\n",
       "      <th>pickup_day</th>\n",
       "      <th>pickup_hour</th>\n",
       "      <th>dropoff_day</th>\n",
       "      <th>dropoff_hour</th>\n",
       "      <th>holiday</th>\n",
       "      <th>trip_duration</th>\n",
       "    </tr>\n",
       "  </thead>\n",
       "  <tbody>\n",
       "    <tr>\n",
       "      <th>0</th>\n",
       "      <td>2017-01-01 00:00:05</td>\n",
       "      <td>2017-01-01 00:15:36</td>\n",
       "      <td>1</td>\n",
       "      <td>8.47</td>\n",
       "      <td>138</td>\n",
       "      <td>262</td>\n",
       "      <td>38.55</td>\n",
       "      <td>2017</td>\n",
       "      <td>1</td>\n",
       "      <td>1</td>\n",
       "      <td>0</td>\n",
       "      <td>1</td>\n",
       "      <td>0</td>\n",
       "      <td>False</td>\n",
       "      <td>931.0</td>\n",
       "    </tr>\n",
       "    <tr>\n",
       "      <th>1</th>\n",
       "      <td>2017-01-01 00:00:12</td>\n",
       "      <td>2017-01-01 00:09:48</td>\n",
       "      <td>1</td>\n",
       "      <td>5.30</td>\n",
       "      <td>138</td>\n",
       "      <td>192</td>\n",
       "      <td>17.30</td>\n",
       "      <td>2017</td>\n",
       "      <td>1</td>\n",
       "      <td>1</td>\n",
       "      <td>0</td>\n",
       "      <td>1</td>\n",
       "      <td>0</td>\n",
       "      <td>False</td>\n",
       "      <td>576.0</td>\n",
       "    </tr>\n",
       "    <tr>\n",
       "      <th>2</th>\n",
       "      <td>2017-01-01 00:00:17</td>\n",
       "      <td>2017-01-01 00:19:40</td>\n",
       "      <td>2</td>\n",
       "      <td>13.97</td>\n",
       "      <td>138</td>\n",
       "      <td>181</td>\n",
       "      <td>50.44</td>\n",
       "      <td>2017</td>\n",
       "      <td>1</td>\n",
       "      <td>1</td>\n",
       "      <td>0</td>\n",
       "      <td>1</td>\n",
       "      <td>0</td>\n",
       "      <td>False</td>\n",
       "      <td>1163.0</td>\n",
       "    </tr>\n",
       "    <tr>\n",
       "      <th>3</th>\n",
       "      <td>2017-01-01 00:00:21</td>\n",
       "      <td>2017-01-01 00:12:09</td>\n",
       "      <td>1</td>\n",
       "      <td>6.90</td>\n",
       "      <td>138</td>\n",
       "      <td>80</td>\n",
       "      <td>21.30</td>\n",
       "      <td>2017</td>\n",
       "      <td>1</td>\n",
       "      <td>1</td>\n",
       "      <td>0</td>\n",
       "      <td>1</td>\n",
       "      <td>0</td>\n",
       "      <td>False</td>\n",
       "      <td>708.0</td>\n",
       "    </tr>\n",
       "    <tr>\n",
       "      <th>4</th>\n",
       "      <td>2017-01-01 00:00:33</td>\n",
       "      <td>2017-01-01 00:31:58</td>\n",
       "      <td>2</td>\n",
       "      <td>10.50</td>\n",
       "      <td>138</td>\n",
       "      <td>230</td>\n",
       "      <td>42.34</td>\n",
       "      <td>2017</td>\n",
       "      <td>1</td>\n",
       "      <td>1</td>\n",
       "      <td>0</td>\n",
       "      <td>1</td>\n",
       "      <td>0</td>\n",
       "      <td>False</td>\n",
       "      <td>1885.0</td>\n",
       "    </tr>\n",
       "  </tbody>\n",
       "</table>\n",
       "</div>"
      ],
      "text/plain": [
       "  tpep_pickup_datetime tpep_dropoff_datetime  passenger_count  trip_distance  \\\n",
       "0  2017-01-01 00:00:05   2017-01-01 00:15:36                1           8.47   \n",
       "1  2017-01-01 00:00:12   2017-01-01 00:09:48                1           5.30   \n",
       "2  2017-01-01 00:00:17   2017-01-01 00:19:40                2          13.97   \n",
       "3  2017-01-01 00:00:21   2017-01-01 00:12:09                1           6.90   \n",
       "4  2017-01-01 00:00:33   2017-01-01 00:31:58                2          10.50   \n",
       "\n",
       "   PULocationID  DOLocationID  total_amount  year  month  pickup_day  \\\n",
       "0           138           262         38.55  2017      1           1   \n",
       "1           138           192         17.30  2017      1           1   \n",
       "2           138           181         50.44  2017      1           1   \n",
       "3           138            80         21.30  2017      1           1   \n",
       "4           138           230         42.34  2017      1           1   \n",
       "\n",
       "   pickup_hour  dropoff_day  dropoff_hour holiday  trip_duration  \n",
       "0            0            1             0   False          931.0  \n",
       "1            0            1             0   False          576.0  \n",
       "2            0            1             0   False         1163.0  \n",
       "3            0            1             0   False          708.0  \n",
       "4            0            1             0   False         1885.0  "
      ]
     },
     "execution_count": 63,
     "metadata": {},
     "output_type": "execute_result"
    }
   ],
   "source": [
    "taxi_data.head()"
   ]
  },
  {
   "cell_type": "code",
   "execution_count": 68,
   "metadata": {
    "collapsed": true
   },
   "outputs": [],
   "source": [
    "def calculate_avg_taxis_per_hour(df):\n",
    "    count_per_hour = df['pickup_hour'].value_counts().sort_index()\n",
    "    number_of_days = (df['tpep_pickup_datetime'].max() - df['tpep_pickup_datetime'].min()).days\n",
    "    average_per_hour = count_per_hour / number_of_days\n",
    "    \n",
    "    # Plot average number of arrivals at LGA per hour per day\n",
    "    ax = average_per_hour.plot(kind='bar', title='Average Number of Arriving Flights per Hour per Day at LaGuardia', figsize=(16,8))\n",
    "    ax.set_ylabel(\"Average Number of Arrivals\")\n",
    "    ax.set_xlabel(\"Hour\")\n",
    "    \n",
    "    return average_per_hour"
   ]
  },
  {
   "cell_type": "code",
   "execution_count": 69,
   "metadata": {
    "collapsed": false
   },
   "outputs": [
    {
     "data": {
      "text/plain": [
       "0     243.288889\n",
       "1      71.133333\n",
       "2      18.138889\n",
       "3       4.183333\n",
       "4       4.916667\n",
       "5       9.277778\n",
       "6      22.905556\n",
       "7     172.277778\n",
       "8     295.894444\n",
       "9     405.316667\n",
       "10    492.083333\n",
       "11    476.672222\n",
       "12    449.400000\n",
       "13    439.622222\n",
       "14    474.183333\n",
       "15    488.755556\n",
       "16    512.038889\n",
       "17    537.338889\n",
       "18    527.844444\n",
       "19    520.122222\n",
       "20    490.705556\n",
       "21    528.588889\n",
       "22    514.505556\n",
       "23    474.072222\n",
       "Name: pickup_hour, dtype: float64"
      ]
     },
     "execution_count": 69,
     "metadata": {},
     "output_type": "execute_result"
    },
    {
     "data": {
      "image/png": "[encoded data removed]",
      "text/plain": [
       "<matplotlib.figure.Figure at 0x11a21c850>"
      ]
     },
     "metadata": {},
     "output_type": "display_data"
    }
   ],
   "source": [
    "calculate_avg_taxis_per_hour(taxi_data)"
   ]
  },
  {
   "cell_type": "code",
   "execution_count": 164,
   "metadata": {
    "collapsed": true
   },
   "outputs": [],
   "source": [
    "def calculate_avg_taxis_per_hour_hol(df):\n",
    "    count_per_hour = df.groupby('holiday')['pickup_hour'].value_counts().sort_index()\n",
    "    number_of_days = (df['tpep_pickup_datetime'].max() - df['tpep_pickup_datetime'].min()).days\n",
    "    average_per_hour = count_per_hour / number_of_days\n",
    "    new_df = pd.DataFrame({'holiday':average_per_hour.index, 'list':average_per_hour.values}) \n",
    "    sns.barplot(x=\"holiday\", y=\"list\", data=new_df)\n",
    "    return new_df"
   ]
  },
  {
   "cell_type": "code",
   "execution_count": 165,
   "metadata": {
    "collapsed": false
   },
   "outputs": [
    {
     "data": {
      "text/html": [
       "<div>\n",
       "<table border=\"1\" class=\"dataframe\">\n",
       "  <thead>\n",
       "    <tr style=\"text-align: right;\">\n",
       "      <th></th>\n",
       "      <th>holiday</th>\n",
       "      <th>list</th>\n",
       "    </tr>\n",
       "  </thead>\n",
       "  <tbody>\n",
       "    <tr>\n",
       "      <th>0</th>\n",
       "      <td>(False, 0)</td>\n",
       "      <td>239.511111</td>\n",
       "    </tr>\n",
       "    <tr>\n",
       "      <th>1</th>\n",
       "      <td>(False, 1)</td>\n",
       "      <td>70.900000</td>\n",
       "    </tr>\n",
       "    <tr>\n",
       "      <th>2</th>\n",
       "      <td>(False, 2)</td>\n",
       "      <td>18.133333</td>\n",
       "    </tr>\n",
       "    <tr>\n",
       "      <th>3</th>\n",
       "      <td>(False, 3)</td>\n",
       "      <td>4.172222</td>\n",
       "    </tr>\n",
       "    <tr>\n",
       "      <th>4</th>\n",
       "      <td>(False, 4)</td>\n",
       "      <td>4.777778</td>\n",
       "    </tr>\n",
       "    <tr>\n",
       "      <th>5</th>\n",
       "      <td>(False, 5)</td>\n",
       "      <td>9.122222</td>\n",
       "    </tr>\n",
       "    <tr>\n",
       "      <th>6</th>\n",
       "      <td>(False, 6)</td>\n",
       "      <td>22.588889</td>\n",
       "    </tr>\n",
       "    <tr>\n",
       "      <th>7</th>\n",
       "      <td>(False, 7)</td>\n",
       "      <td>169.377778</td>\n",
       "    </tr>\n",
       "    <tr>\n",
       "      <th>8</th>\n",
       "      <td>(False, 8)</td>\n",
       "      <td>289.744444</td>\n",
       "    </tr>\n",
       "    <tr>\n",
       "      <th>9</th>\n",
       "      <td>(False, 9)</td>\n",
       "      <td>396.816667</td>\n",
       "    </tr>\n",
       "    <tr>\n",
       "      <th>10</th>\n",
       "      <td>(False, 10)</td>\n",
       "      <td>481.733333</td>\n",
       "    </tr>\n",
       "    <tr>\n",
       "      <th>11</th>\n",
       "      <td>(False, 11)</td>\n",
       "      <td>466.611111</td>\n",
       "    </tr>\n",
       "    <tr>\n",
       "      <th>12</th>\n",
       "      <td>(False, 12)</td>\n",
       "      <td>439.088889</td>\n",
       "    </tr>\n",
       "    <tr>\n",
       "      <th>13</th>\n",
       "      <td>(False, 13)</td>\n",
       "      <td>428.911111</td>\n",
       "    </tr>\n",
       "    <tr>\n",
       "      <th>14</th>\n",
       "      <td>(False, 14)</td>\n",
       "      <td>462.838889</td>\n",
       "    </tr>\n",
       "    <tr>\n",
       "      <th>15</th>\n",
       "      <td>(False, 15)</td>\n",
       "      <td>476.694444</td>\n",
       "    </tr>\n",
       "    <tr>\n",
       "      <th>16</th>\n",
       "      <td>(False, 16)</td>\n",
       "      <td>499.194444</td>\n",
       "    </tr>\n",
       "    <tr>\n",
       "      <th>17</th>\n",
       "      <td>(False, 17)</td>\n",
       "      <td>523.994444</td>\n",
       "    </tr>\n",
       "    <tr>\n",
       "      <th>18</th>\n",
       "      <td>(False, 18)</td>\n",
       "      <td>512.933333</td>\n",
       "    </tr>\n",
       "    <tr>\n",
       "      <th>19</th>\n",
       "      <td>(False, 19)</td>\n",
       "      <td>505.016667</td>\n",
       "    </tr>\n",
       "    <tr>\n",
       "      <th>20</th>\n",
       "      <td>(False, 20)</td>\n",
       "      <td>476.922222</td>\n",
       "    </tr>\n",
       "    <tr>\n",
       "      <th>21</th>\n",
       "      <td>(False, 21)</td>\n",
       "      <td>512.533333</td>\n",
       "    </tr>\n",
       "    <tr>\n",
       "      <th>22</th>\n",
       "      <td>(False, 22)</td>\n",
       "      <td>497.400000</td>\n",
       "    </tr>\n",
       "    <tr>\n",
       "      <th>23</th>\n",
       "      <td>(False, 23)</td>\n",
       "      <td>458.844444</td>\n",
       "    </tr>\n",
       "    <tr>\n",
       "      <th>24</th>\n",
       "      <td>(True, 0)</td>\n",
       "      <td>3.777778</td>\n",
       "    </tr>\n",
       "    <tr>\n",
       "      <th>25</th>\n",
       "      <td>(True, 1)</td>\n",
       "      <td>0.233333</td>\n",
       "    </tr>\n",
       "    <tr>\n",
       "      <th>26</th>\n",
       "      <td>(True, 2)</td>\n",
       "      <td>0.005556</td>\n",
       "    </tr>\n",
       "    <tr>\n",
       "      <th>27</th>\n",
       "      <td>(True, 3)</td>\n",
       "      <td>0.011111</td>\n",
       "    </tr>\n",
       "    <tr>\n",
       "      <th>28</th>\n",
       "      <td>(True, 4)</td>\n",
       "      <td>0.138889</td>\n",
       "    </tr>\n",
       "    <tr>\n",
       "      <th>29</th>\n",
       "      <td>(True, 5)</td>\n",
       "      <td>0.155556</td>\n",
       "    </tr>\n",
       "    <tr>\n",
       "      <th>30</th>\n",
       "      <td>(True, 6)</td>\n",
       "      <td>0.316667</td>\n",
       "    </tr>\n",
       "    <tr>\n",
       "      <th>31</th>\n",
       "      <td>(True, 7)</td>\n",
       "      <td>2.900000</td>\n",
       "    </tr>\n",
       "    <tr>\n",
       "      <th>32</th>\n",
       "      <td>(True, 8)</td>\n",
       "      <td>6.150000</td>\n",
       "    </tr>\n",
       "    <tr>\n",
       "      <th>33</th>\n",
       "      <td>(True, 9)</td>\n",
       "      <td>8.500000</td>\n",
       "    </tr>\n",
       "    <tr>\n",
       "      <th>34</th>\n",
       "      <td>(True, 10)</td>\n",
       "      <td>10.350000</td>\n",
       "    </tr>\n",
       "    <tr>\n",
       "      <th>35</th>\n",
       "      <td>(True, 11)</td>\n",
       "      <td>10.061111</td>\n",
       "    </tr>\n",
       "    <tr>\n",
       "      <th>36</th>\n",
       "      <td>(True, 12)</td>\n",
       "      <td>10.311111</td>\n",
       "    </tr>\n",
       "    <tr>\n",
       "      <th>37</th>\n",
       "      <td>(True, 13)</td>\n",
       "      <td>10.711111</td>\n",
       "    </tr>\n",
       "    <tr>\n",
       "      <th>38</th>\n",
       "      <td>(True, 14)</td>\n",
       "      <td>11.344444</td>\n",
       "    </tr>\n",
       "    <tr>\n",
       "      <th>39</th>\n",
       "      <td>(True, 15)</td>\n",
       "      <td>12.061111</td>\n",
       "    </tr>\n",
       "    <tr>\n",
       "      <th>40</th>\n",
       "      <td>(True, 16)</td>\n",
       "      <td>12.844444</td>\n",
       "    </tr>\n",
       "    <tr>\n",
       "      <th>41</th>\n",
       "      <td>(True, 17)</td>\n",
       "      <td>13.344444</td>\n",
       "    </tr>\n",
       "    <tr>\n",
       "      <th>42</th>\n",
       "      <td>(True, 18)</td>\n",
       "      <td>14.911111</td>\n",
       "    </tr>\n",
       "    <tr>\n",
       "      <th>43</th>\n",
       "      <td>(True, 19)</td>\n",
       "      <td>15.105556</td>\n",
       "    </tr>\n",
       "    <tr>\n",
       "      <th>44</th>\n",
       "      <td>(True, 20)</td>\n",
       "      <td>13.783333</td>\n",
       "    </tr>\n",
       "    <tr>\n",
       "      <th>45</th>\n",
       "      <td>(True, 21)</td>\n",
       "      <td>16.055556</td>\n",
       "    </tr>\n",
       "    <tr>\n",
       "      <th>46</th>\n",
       "      <td>(True, 22)</td>\n",
       "      <td>17.105556</td>\n",
       "    </tr>\n",
       "    <tr>\n",
       "      <th>47</th>\n",
       "      <td>(True, 23)</td>\n",
       "      <td>15.227778</td>\n",
       "    </tr>\n",
       "  </tbody>\n",
       "</table>\n",
       "</div>"
      ],
      "text/plain": [
       "        holiday        list\n",
       "0    (False, 0)  239.511111\n",
       "1    (False, 1)   70.900000\n",
       "2    (False, 2)   18.133333\n",
       "3    (False, 3)    4.172222\n",
       "4    (False, 4)    4.777778\n",
       "5    (False, 5)    9.122222\n",
       "6    (False, 6)   22.588889\n",
       "7    (False, 7)  169.377778\n",
       "8    (False, 8)  289.744444\n",
       "9    (False, 9)  396.816667\n",
       "10  (False, 10)  481.733333\n",
       "11  (False, 11)  466.611111\n",
       "12  (False, 12)  439.088889\n",
       "13  (False, 13)  428.911111\n",
       "14  (False, 14)  462.838889\n",
       "15  (False, 15)  476.694444\n",
       "16  (False, 16)  499.194444\n",
       "17  (False, 17)  523.994444\n",
       "18  (False, 18)  512.933333\n",
       "19  (False, 19)  505.016667\n",
       "20  (False, 20)  476.922222\n",
       "21  (False, 21)  512.533333\n",
       "22  (False, 22)  497.400000\n",
       "23  (False, 23)  458.844444\n",
       "24    (True, 0)    3.777778\n",
       "25    (True, 1)    0.233333\n",
       "26    (True, 2)    0.005556\n",
       "27    (True, 3)    0.011111\n",
       "28    (True, 4)    0.138889\n",
       "29    (True, 5)    0.155556\n",
       "30    (True, 6)    0.316667\n",
       "31    (True, 7)    2.900000\n",
       "32    (True, 8)    6.150000\n",
       "33    (True, 9)    8.500000\n",
       "34   (True, 10)   10.350000\n",
       "35   (True, 11)   10.061111\n",
       "36   (True, 12)   10.311111\n",
       "37   (True, 13)   10.711111\n",
       "38   (True, 14)   11.344444\n",
       "39   (True, 15)   12.061111\n",
       "40   (True, 16)   12.844444\n",
       "41   (True, 17)   13.344444\n",
       "42   (True, 18)   14.911111\n",
       "43   (True, 19)   15.105556\n",
       "44   (True, 20)   13.783333\n",
       "45   (True, 21)   16.055556\n",
       "46   (True, 22)   17.105556\n",
       "47   (True, 23)   15.227778"
      ]
     },
     "execution_count": 165,
     "metadata": {},
     "output_type": "execute_result"
    },
    {
     "data": {
      "image/png": "[encoded data removed]",
      "text/plain": [
       "<matplotlib.figure.Figure at 0x119d54a10>"
      ]
     },
     "metadata": {},
     "output_type": "display_data"
    }
   ],
   "source": [
    "calculate_avg_taxis_per_hour_hol(taxi_data)"
   ]
  },
  {
   "cell_type": "code",
   "execution_count": 129,
   "metadata": {
    "collapsed": false
   },
   "outputs": [
    {
     "data": {
      "text/html": [
       "<div>\n",
       "<style>\n",
       "    .dataframe thead tr:only-child th {\n",
       "        text-align: right;\n",
       "    }\n",
       "\n",
       "    .dataframe thead th {\n",
       "        text-align: left;\n",
       "    }\n",
       "\n",
       "    .dataframe tbody tr th {\n",
       "        vertical-align: top;\n",
       "    }\n",
       "</style>\n",
       "<table border=\"1\" class=\"dataframe\">\n",
       "  <thead>\n",
       "    <tr style=\"text-align: right;\">\n",
       "      <th></th>\n",
       "      <th>tpep_pickup_datetime</th>\n",
       "      <th>tpep_dropoff_datetime</th>\n",
       "      <th>passenger_count</th>\n",
       "      <th>trip_distance</th>\n",
       "      <th>PULocationID</th>\n",
       "      <th>DOLocationID</th>\n",
       "      <th>total_amount</th>\n",
       "      <th>trip_duration</th>\n",
       "      <th>holiday</th>\n",
       "      <th>year</th>\n",
       "      <th>month</th>\n",
       "      <th>pickup_day</th>\n",
       "      <th>pickup_hour</th>\n",
       "      <th>dropoff_day</th>\n",
       "      <th>dropoff_hour</th>\n",
       "    </tr>\n",
       "  </thead>\n",
       "  <tbody>\n",
       "    <tr>\n",
       "      <th>0</th>\n",
       "      <td>2017-01-01 00:00:05</td>\n",
       "      <td>2017-01-01 00:15:36</td>\n",
       "      <td>1</td>\n",
       "      <td>8.47</td>\n",
       "      <td>138</td>\n",
       "      <td>262</td>\n",
       "      <td>38.55</td>\n",
       "      <td>931.0</td>\n",
       "      <td>False</td>\n",
       "      <td>2017</td>\n",
       "      <td>1</td>\n",
       "      <td>1</td>\n",
       "      <td>0</td>\n",
       "      <td>1</td>\n",
       "      <td>0</td>\n",
       "    </tr>\n",
       "    <tr>\n",
       "      <th>1</th>\n",
       "      <td>2017-01-01 00:00:12</td>\n",
       "      <td>2017-01-01 00:09:48</td>\n",
       "      <td>1</td>\n",
       "      <td>5.30</td>\n",
       "      <td>138</td>\n",
       "      <td>192</td>\n",
       "      <td>17.30</td>\n",
       "      <td>576.0</td>\n",
       "      <td>False</td>\n",
       "      <td>2017</td>\n",
       "      <td>1</td>\n",
       "      <td>1</td>\n",
       "      <td>0</td>\n",
       "      <td>1</td>\n",
       "      <td>0</td>\n",
       "    </tr>\n",
       "    <tr>\n",
       "      <th>2</th>\n",
       "      <td>2017-01-01 00:00:17</td>\n",
       "      <td>2017-01-01 00:19:40</td>\n",
       "      <td>2</td>\n",
       "      <td>13.97</td>\n",
       "      <td>138</td>\n",
       "      <td>181</td>\n",
       "      <td>50.44</td>\n",
       "      <td>1163.0</td>\n",
       "      <td>False</td>\n",
       "      <td>2017</td>\n",
       "      <td>1</td>\n",
       "      <td>1</td>\n",
       "      <td>0</td>\n",
       "      <td>1</td>\n",
       "      <td>0</td>\n",
       "    </tr>\n",
       "    <tr>\n",
       "      <th>3</th>\n",
       "      <td>2017-01-01 00:00:21</td>\n",
       "      <td>2017-01-01 00:12:09</td>\n",
       "      <td>1</td>\n",
       "      <td>6.90</td>\n",
       "      <td>138</td>\n",
       "      <td>80</td>\n",
       "      <td>21.30</td>\n",
       "      <td>708.0</td>\n",
       "      <td>False</td>\n",
       "      <td>2017</td>\n",
       "      <td>1</td>\n",
       "      <td>1</td>\n",
       "      <td>0</td>\n",
       "      <td>1</td>\n",
       "      <td>0</td>\n",
       "    </tr>\n",
       "    <tr>\n",
       "      <th>4</th>\n",
       "      <td>2017-01-01 00:00:33</td>\n",
       "      <td>2017-01-01 00:31:58</td>\n",
       "      <td>2</td>\n",
       "      <td>10.50</td>\n",
       "      <td>138</td>\n",
       "      <td>230</td>\n",
       "      <td>42.34</td>\n",
       "      <td>1885.0</td>\n",
       "      <td>False</td>\n",
       "      <td>2017</td>\n",
       "      <td>1</td>\n",
       "      <td>1</td>\n",
       "      <td>0</td>\n",
       "      <td>1</td>\n",
       "      <td>0</td>\n",
       "    </tr>\n",
       "  </tbody>\n",
       "</table>\n",
       "</div>"
      ],
      "text/plain": [
       "  tpep_pickup_datetime tpep_dropoff_datetime  passenger_count  trip_distance  \\\n",
       "0  2017-01-01 00:00:05   2017-01-01 00:15:36                1           8.47   \n",
       "1  2017-01-01 00:00:12   2017-01-01 00:09:48                1           5.30   \n",
       "2  2017-01-01 00:00:17   2017-01-01 00:19:40                2          13.97   \n",
       "3  2017-01-01 00:00:21   2017-01-01 00:12:09                1           6.90   \n",
       "4  2017-01-01 00:00:33   2017-01-01 00:31:58                2          10.50   \n",
       "\n",
       "   PULocationID  DOLocationID  total_amount  trip_duration  holiday  year  \\\n",
       "0           138           262         38.55          931.0    False  2017   \n",
       "1           138           192         17.30          576.0    False  2017   \n",
       "2           138           181         50.44         1163.0    False  2017   \n",
       "3           138            80         21.30          708.0    False  2017   \n",
       "4           138           230         42.34         1885.0    False  2017   \n",
       "\n",
       "   month  pickup_day  pickup_hour  dropoff_day  dropoff_hour  \n",
       "0      1           1            0            1             0  \n",
       "1      1           1            0            1             0  \n",
       "2      1           1            0            1             0  \n",
       "3      1           1            0            1             0  \n",
       "4      1           1            0            1             0  "
      ]
     },
     "execution_count": 129,
     "metadata": {},
     "output_type": "execute_result"
    }
   ],
   "source": [
    "taxi_data.head()"
   ]
  },
  {
   "cell_type": "code",
   "execution_count": 147,
   "metadata": {
    "collapsed": false
   },
   "outputs": [],
   "source": [
    "count_per_hour = taxi_data.groupby(['holiday','pickup_hour']).month.count()"
   ]
  },
  {
   "cell_type": "code",
   "execution_count": 148,
   "metadata": {
    "collapsed": false
   },
   "outputs": [],
   "source": [
    "count_df = count_per_hour.unstack(level=0)"
   ]
  },
  {
   "cell_type": "code",
   "execution_count": 149,
   "metadata": {
    "collapsed": false
   },
   "outputs": [],
   "source": [
    "count_df[\"Normal Days\"] = count_df[False]/176\n",
    "count_df[\"Federal Holidays\"] = count_df[True]/4"
   ]
  },
  {
   "cell_type": "code",
   "execution_count": 150,
   "metadata": {
    "collapsed": false
   },
   "outputs": [
    {
     "data": {
      "text/html": [
       "<div>\n",
       "<style>\n",
       "    .dataframe thead tr:only-child th {\n",
       "        text-align: right;\n",
       "    }\n",
       "\n",
       "    .dataframe thead th {\n",
       "        text-align: left;\n",
       "    }\n",
       "\n",
       "    .dataframe tbody tr th {\n",
       "        vertical-align: top;\n",
       "    }\n",
       "</style>\n",
       "<table border=\"1\" class=\"dataframe\">\n",
       "  <thead>\n",
       "    <tr style=\"text-align: right;\">\n",
       "      <th>holiday</th>\n",
       "      <th>False</th>\n",
       "      <th>True</th>\n",
       "      <th>Normal Days</th>\n",
       "      <th>Federal Holidays</th>\n",
       "    </tr>\n",
       "    <tr>\n",
       "      <th>pickup_hour</th>\n",
       "      <th></th>\n",
       "      <th></th>\n",
       "      <th></th>\n",
       "      <th></th>\n",
       "    </tr>\n",
       "  </thead>\n",
       "  <tbody>\n",
       "    <tr>\n",
       "      <th>0</th>\n",
       "      <td>43112</td>\n",
       "      <td>680</td>\n",
       "      <td>244.954545</td>\n",
       "      <td>170.00</td>\n",
       "    </tr>\n",
       "    <tr>\n",
       "      <th>1</th>\n",
       "      <td>12762</td>\n",
       "      <td>42</td>\n",
       "      <td>72.511364</td>\n",
       "      <td>10.50</td>\n",
       "    </tr>\n",
       "    <tr>\n",
       "      <th>2</th>\n",
       "      <td>3264</td>\n",
       "      <td>1</td>\n",
       "      <td>18.545455</td>\n",
       "      <td>0.25</td>\n",
       "    </tr>\n",
       "    <tr>\n",
       "      <th>3</th>\n",
       "      <td>751</td>\n",
       "      <td>2</td>\n",
       "      <td>4.267045</td>\n",
       "      <td>0.50</td>\n",
       "    </tr>\n",
       "    <tr>\n",
       "      <th>4</th>\n",
       "      <td>860</td>\n",
       "      <td>25</td>\n",
       "      <td>4.886364</td>\n",
       "      <td>6.25</td>\n",
       "    </tr>\n",
       "  </tbody>\n",
       "</table>\n",
       "</div>"
      ],
      "text/plain": [
       "holiday      False  True  Normal Days  Federal Holidays\n",
       "pickup_hour                                            \n",
       "0            43112   680   244.954545            170.00\n",
       "1            12762    42    72.511364             10.50\n",
       "2             3264     1    18.545455              0.25\n",
       "3              751     2     4.267045              0.50\n",
       "4              860    25     4.886364              6.25"
      ]
     },
     "execution_count": 150,
     "metadata": {},
     "output_type": "execute_result"
    }
   ],
   "source": [
    "count_df.head()"
   ]
  },
  {
   "cell_type": "code",
   "execution_count": 154,
   "metadata": {
    "collapsed": false
   },
   "outputs": [
    {
     "data": {
      "text/plain": [
       "<matplotlib.axes._subplots.AxesSubplot at 0x113786438>"
      ]
     },
     "execution_count": 154,
     "metadata": {},
     "output_type": "execute_result"
    },
    {
     "data": {
      "image/png": "[encoded data removed]",
      "text/plain": [
       "<matplotlib.figure.Figure at 0x112eb8128>"
      ]
     },
     "metadata": {},
     "output_type": "display_data"
    }
   ],
   "source": [
    "\n",
    "count_df[[\"Normal Days\", \"Federal Holidays\"]].plot(kind=\"line\")"
   ]
  },
  {
   "cell_type": "code",
   "execution_count": 155,
   "metadata": {
    "collapsed": true
   },
   "outputs": [],
   "source": [
    "duration_per_hour = taxi_data.groupby(['holiday','pickup_hour']).trip_duration.sum()"
   ]
  },
  {
   "cell_type": "code",
   "execution_count": 157,
   "metadata": {
    "collapsed": false
   },
   "outputs": [],
   "source": [
    "duration_df = duration_per_hour.unstack(level=0)"
   ]
  },
  {
   "cell_type": "code",
   "execution_count": 159,
   "metadata": {
    "collapsed": true
   },
   "outputs": [],
   "source": [
    "duration_df[\"Normal Days\"] = duration_df[False]/176\n",
    "duration_df[\"Federal Holidays\"] = duration_df[True]/4"
   ]
  },
  {
   "cell_type": "code",
   "execution_count": 160,
   "metadata": {
    "collapsed": false
   },
   "outputs": [
    {
     "data": {
      "text/plain": [
       "<matplotlib.axes._subplots.AxesSubplot at 0x1137e3860>"
      ]
     },
     "execution_count": 160,
     "metadata": {},
     "output_type": "execute_result"
    },
    {
     "data": {
      "image/png": "[encoded data removed]",
      "text/plain": [
       "<matplotlib.figure.Figure at 0x113b407b8>"
      ]
     },
     "metadata": {},
     "output_type": "display_data"
    }
   ],
   "source": [
    "duration_df[[\"Normal Days\", \"Federal Holidays\"]].plot(kind=\"line\")"
   ]
  },
  {
   "cell_type": "code",
   "execution_count": 164,
   "metadata": {
    "collapsed": true
   },
   "outputs": [],
   "source": [
    "distance_per_hour = taxi_data.groupby(['holiday','pickup_hour']).trip_distance.sum()\n",
    "distance_df = distance_per_hour.unstack(level=0)\n",
    "distance_df[\"Normal Days\"] = distance_df[False]/176\n",
    "distance_df[\"Federal Holidays\"] = distance_df[True]/4"
   ]
  },
  {
   "cell_type": "code",
   "execution_count": 165,
   "metadata": {
    "collapsed": false
   },
   "outputs": [
    {
     "data": {
      "text/plain": [
       "<matplotlib.axes._subplots.AxesSubplot at 0x11446fe48>"
      ]
     },
     "execution_count": 165,
     "metadata": {},
     "output_type": "execute_result"
    },
    {
     "data": {
      "image/png": "[encoded data removed]",
      "text/plain": [
       "<matplotlib.figure.Figure at 0x1143056d8>"
      ]
     },
     "metadata": {},
     "output_type": "display_data"
    }
   ],
   "source": [
    "distance_df[[\"Normal Days\", \"Federal Holidays\"]].plot(kind=\"line\")"
   ]
  },
  {
   "cell_type": "code",
   "execution_count": null,
   "metadata": {
    "collapsed": true
   },
   "outputs": [],
   "source": []
  }
 ],
 "metadata": {
  "anaconda-cloud": {},
  "kernelspec": {
   "display_name": "Python [conda env:ml]",
   "language": "python",
   "name": "conda-env-ml-py"
  },
  "language_info": {
   "codemirror_mode": {
    "name": "ipython",
    "version": 3
   },
   "file_extension": ".py",
   "mimetype": "text/x-python",
   "name": "python",
   "nbconvert_exporter": "python",
   "pygments_lexer": "ipython3",
   "version": "3.6.2"
  }
 },
 "nbformat": 4,
 "nbformat_minor": 2
}
