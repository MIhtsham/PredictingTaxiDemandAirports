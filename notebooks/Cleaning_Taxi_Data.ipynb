{
 "cells": [
  {
   "cell_type": "markdown",
   "metadata": {},
   "source": [
    "## Get the combined Dataframes from Jan-17 to Jun-17 for Pickups originating at LGA = 138"
   ]
  },
  {
   "cell_type": "code",
   "execution_count": 1,
   "metadata": {
    "collapsed": true
   },
   "outputs": [],
   "source": [
    "from tqdm import tqdm\n",
    "import glob\n",
    "import pandas as pd"
   ]
  },
  {
   "cell_type": "code",
   "execution_count": 2,
   "metadata": {
    "collapsed": true
   },
   "outputs": [],
   "source": [
    "csvFiles = glob.glob(\"../raw_data/taxidata/*.csv\")"
   ]
  },
  {
   "cell_type": "code",
   "execution_count": 3,
   "metadata": {},
   "outputs": [
    {
     "name": "stderr",
     "output_type": "stream",
     "text": [
      "100%|██████████| 6/6 [03:32<00:00, 35.66s/it]\n"
     ]
    }
   ],
   "source": [
    "combined_df = []\n",
    "\n",
    "for file in tqdm(csvFiles):\n",
    "    df = pd.read_csv(file, index_col = None, header = 0)\n",
    "    df = df.loc[df[\"PULocationID\"]==138, :] # 138 is for LaGuardia Airport\n",
    "    df = df.reset_index()\n",
    "    df = df.drop(\"index\", axis=1)\n",
    "    combined_df.append(df)"
   ]
  },
  {
   "cell_type": "code",
   "execution_count": 4,
   "metadata": {
    "collapsed": true
   },
   "outputs": [],
   "source": [
    "final_df = pd.concat(combined_df, ignore_index=True)"
   ]
  },
  {
   "cell_type": "code",
   "execution_count": 5,
   "metadata": {},
   "outputs": [
    {
     "data": {
      "text/plain": [
       "(1471188, 17)"
      ]
     },
     "execution_count": 5,
     "metadata": {},
     "output_type": "execute_result"
    }
   ],
   "source": [
    "final_df.shape"
   ]
  },
  {
   "cell_type": "markdown",
   "metadata": {},
   "source": [
    "### Cleaning Taxi Data"
   ]
  },
  {
   "cell_type": "code",
   "execution_count": 6,
   "metadata": {},
   "outputs": [
    {
     "data": {
      "text/plain": [
       "(1471188, 17)"
      ]
     },
     "execution_count": 6,
     "metadata": {},
     "output_type": "execute_result"
    }
   ],
   "source": [
    "final_df.shape"
   ]
  },
  {
   "cell_type": "code",
   "execution_count": 7,
   "metadata": {},
   "outputs": [
    {
     "data": {
      "text/plain": [
       "Index(['VendorID', 'tpep_pickup_datetime', 'tpep_dropoff_datetime',\n",
       "       'passenger_count', 'trip_distance', 'RatecodeID', 'store_and_fwd_flag',\n",
       "       'PULocationID', 'DOLocationID', 'payment_type', 'fare_amount', 'extra',\n",
       "       'mta_tax', 'tip_amount', 'tolls_amount', 'improvement_surcharge',\n",
       "       'total_amount'],\n",
       "      dtype='object')"
      ]
     },
     "execution_count": 7,
     "metadata": {},
     "output_type": "execute_result"
    }
   ],
   "source": [
    "final_df.columnsumns"
   ]
  },
  {
   "cell_type": "markdown",
   "metadata": {},
   "source": [
    "#### Removing the columns which are not required for analysis"
   ]
  },
  {
   "cell_type": "code",
   "execution_count": 9,
   "metadata": {},
   "outputs": [],
   "source": [
    "final_df.drop([\"VendorID\", \"RatecodeID\", \"store_and_fwd_flag\", \"payment_type\", \"fare_amount\", \"extra\", \"mta_tax\", \"tip_amount\", \"tolls_amount\", \"improvement_surcharge\"], axis=1, inplace=True)"
   ]
  },
  {
   "cell_type": "code",
   "execution_count": 10,
   "metadata": {},
   "outputs": [
    {
     "data": {
      "text/plain": [
       "(1471188, 7)"
      ]
     },
     "execution_count": 10,
     "metadata": {},
     "output_type": "execute_result"
    }
   ],
   "source": [
    "final_df.shape"
   ]
  },
  {
   "cell_type": "markdown",
   "metadata": {},
   "source": [
    "#### Converting the pickup and dropoff timezones to localized America/New_York Datetimeindex"
   ]
  },
  {
   "cell_type": "code",
   "execution_count": 12,
   "metadata": {},
   "outputs": [
    {
     "data": {
      "text/plain": [
       "tpep_pickup_datetime      object\n",
       "tpep_dropoff_datetime     object\n",
       "passenger_count            int64\n",
       "trip_distance            float64\n",
       "PULocationID               int64\n",
       "DOLocationID               int64\n",
       "total_amount             float64\n",
       "dtype: object"
      ]
     },
     "execution_count": 12,
     "metadata": {},
     "output_type": "execute_result"
    }
   ],
   "source": [
    "final_df.dtypes"
   ]
  },
  {
   "cell_type": "code",
   "execution_count": 13,
   "metadata": {
    "collapsed": true
   },
   "outputs": [],
   "source": [
    "final_df[\"tpep_pickup_datetime\"] = pd.DatetimeIndex(final_df.tpep_pickup_datetime).tz_localize('America/New_York')\n",
    "final_df[\"tpep_dropoff_datetime\"] = pd.DatetimeIndex(final_df.tpep_dropoff_datetime).tz_localize('America/New_York')"
   ]
  },
  {
   "cell_type": "code",
   "execution_count": 14,
   "metadata": {},
   "outputs": [
    {
     "data": {
      "text/plain": [
       "tpep_pickup_datetime     datetime64[ns, America/New_York]\n",
       "tpep_dropoff_datetime    datetime64[ns, America/New_York]\n",
       "passenger_count                                     int64\n",
       "trip_distance                                     float64\n",
       "PULocationID                                        int64\n",
       "DOLocationID                                        int64\n",
       "total_amount                                      float64\n",
       "dtype: object"
      ]
     },
     "execution_count": 14,
     "metadata": {},
     "output_type": "execute_result"
    }
   ],
   "source": [
    "final_df.dtypes"
   ]
  },
  {
   "cell_type": "code",
   "execution_count": 15,
   "metadata": {},
   "outputs": [
    {
     "data": {
      "text/html": [
       "<div>\n",
       "<style>\n",
       "    .dataframe thead tr:only-child th {\n",
       "        text-align: right;\n",
       "    }\n",
       "\n",
       "    .dataframe thead th {\n",
       "        text-align: left;\n",
       "    }\n",
       "\n",
       "    .dataframe tbody tr th {\n",
       "        vertical-align: top;\n",
       "    }\n",
       "</style>\n",
       "<table border=\"1\" class=\"dataframe\">\n",
       "  <thead>\n",
       "    <tr style=\"text-align: right;\">\n",
       "      <th></th>\n",
       "      <th>tpep_pickup_datetime</th>\n",
       "      <th>tpep_dropoff_datetime</th>\n",
       "      <th>passenger_count</th>\n",
       "      <th>trip_distance</th>\n",
       "      <th>PULocationID</th>\n",
       "      <th>DOLocationID</th>\n",
       "      <th>total_amount</th>\n",
       "    </tr>\n",
       "  </thead>\n",
       "  <tbody>\n",
       "    <tr>\n",
       "      <th>0</th>\n",
       "      <td>2017-01-01 00:00:05-05:00</td>\n",
       "      <td>2017-01-01 00:15:36-05:00</td>\n",
       "      <td>1</td>\n",
       "      <td>8.47</td>\n",
       "      <td>138</td>\n",
       "      <td>262</td>\n",
       "      <td>38.55</td>\n",
       "    </tr>\n",
       "    <tr>\n",
       "      <th>1</th>\n",
       "      <td>2017-01-01 00:00:12-05:00</td>\n",
       "      <td>2017-01-01 00:09:48-05:00</td>\n",
       "      <td>1</td>\n",
       "      <td>5.30</td>\n",
       "      <td>138</td>\n",
       "      <td>192</td>\n",
       "      <td>17.30</td>\n",
       "    </tr>\n",
       "    <tr>\n",
       "      <th>2</th>\n",
       "      <td>2017-01-01 00:00:17-05:00</td>\n",
       "      <td>2017-01-01 00:19:40-05:00</td>\n",
       "      <td>2</td>\n",
       "      <td>13.97</td>\n",
       "      <td>138</td>\n",
       "      <td>181</td>\n",
       "      <td>50.44</td>\n",
       "    </tr>\n",
       "    <tr>\n",
       "      <th>3</th>\n",
       "      <td>2017-01-01 00:00:21-05:00</td>\n",
       "      <td>2017-01-01 00:12:09-05:00</td>\n",
       "      <td>1</td>\n",
       "      <td>6.90</td>\n",
       "      <td>138</td>\n",
       "      <td>80</td>\n",
       "      <td>21.30</td>\n",
       "    </tr>\n",
       "    <tr>\n",
       "      <th>4</th>\n",
       "      <td>2017-01-01 00:00:33-05:00</td>\n",
       "      <td>2017-01-01 00:31:58-05:00</td>\n",
       "      <td>2</td>\n",
       "      <td>10.50</td>\n",
       "      <td>138</td>\n",
       "      <td>230</td>\n",
       "      <td>42.34</td>\n",
       "    </tr>\n",
       "  </tbody>\n",
       "</table>\n",
       "</div>"
      ],
      "text/plain": [
       "       tpep_pickup_datetime     tpep_dropoff_datetime  passenger_count  \\\n",
       "0 2017-01-01 00:00:05-05:00 2017-01-01 00:15:36-05:00                1   \n",
       "1 2017-01-01 00:00:12-05:00 2017-01-01 00:09:48-05:00                1   \n",
       "2 2017-01-01 00:00:17-05:00 2017-01-01 00:19:40-05:00                2   \n",
       "3 2017-01-01 00:00:21-05:00 2017-01-01 00:12:09-05:00                1   \n",
       "4 2017-01-01 00:00:33-05:00 2017-01-01 00:31:58-05:00                2   \n",
       "\n",
       "   trip_distance  PULocationID  DOLocationID  total_amount  \n",
       "0           8.47           138           262         38.55  \n",
       "1           5.30           138           192         17.30  \n",
       "2          13.97           138           181         50.44  \n",
       "3           6.90           138            80         21.30  \n",
       "4          10.50           138           230         42.34  "
      ]
     },
     "execution_count": 15,
     "metadata": {},
     "output_type": "execute_result"
    }
   ],
   "source": [
    "final_df.head()"
   ]
  },
  {
   "cell_type": "code",
   "execution_count": null,
   "metadata": {
    "collapsed": true
   },
   "outputs": [],
   "source": [
    "final_df.to_csv('../clean_data/TaxiData_Jan17-Jun17.gz', compression='gzip', index=False)"
   ]
  }
 ],
 "metadata": {
  "kernelspec": {
   "display_name": "Python 3",
   "language": "python",
   "name": "python3"
  },
  "language_info": {
   "codemirror_mode": {
    "name": "ipython",
    "version": 3
   },
   "file_extension": ".py",
   "mimetype": "text/x-python",
   "name": "python",
   "nbconvert_exporter": "python",
   "pygments_lexer": "ipython3",
   "version": "3.6.2"
  }
 },
 "nbformat": 4,
 "nbformat_minor": 2
}
